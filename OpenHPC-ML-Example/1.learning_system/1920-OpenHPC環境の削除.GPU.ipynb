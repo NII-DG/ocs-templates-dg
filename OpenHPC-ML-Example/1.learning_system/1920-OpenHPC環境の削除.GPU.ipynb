{
 "cells": [
  {
   "cell_type": "markdown",
   "metadata": {
    "lc_cell_meme": {
     "current": "da93bd46-a9ff-11ec-89a9-02420a010024-7-55e4-e315-ab6e-e0d4-ac80-0028-6c54",
     "next": "da93c084-a9ff-11ec-89a9-02420a010024-7-bedd-e255-60c1-b3a1-4003-a64e-0760",
     "previous": null
    }
   },
   "source": [
    "# OpenHPC環境の削除\n",
    "\n",
    "---\n",
    "\n",
    "構築したOpenHPC環境を削除します。"
   ]
  },
  {
   "cell_type": "markdown",
   "metadata": {
    "lc_cell_meme": {
     "current": "da93c084-a9ff-11ec-89a9-02420a010024-7-bedd-e255-60c1-b3a1-4003-a64e-0760",
     "next": "da93c2e6-a9ff-11ec-89a9-02420a010024-7-2227-a669-5eac-04ce-3214-ea5c-8f01",
     "previous": "da93bd46-a9ff-11ec-89a9-02420a010024-7-55e4-e315-ab6e-e0d4-ac80-0028-6c54"
    }
   },
   "source": [
    "## VCP の初期化\n",
    "次のセルを実行すると入力枠が表示されるのでアクセストークンの値を入力してください。"
   ]
  },
  {
   "cell_type": "code",
   "execution_count": null,
   "metadata": {
    "lc_cell_meme": {
     "current": "da93c2e6-a9ff-11ec-89a9-02420a010024-7-2227-a669-5eac-04ce-3214-ea5c-8f01",
     "next": "da93c426-a9ff-11ec-89a9-02420a010024-7-56a1-a6dc-e9d1-4759-8c18-6fc5-3e36",
     "previous": "da93c084-a9ff-11ec-89a9-02420a010024-7-bedd-e255-60c1-b3a1-4003-a64e-0760"
    },
    "lc_wrapper": {},
    "tags": [
     "vcp:skip",
     "vcp:parameters"
    ]
   },
   "outputs": [],
   "source": [
    "from getpass import getpass\n",
    "vcc_access_token = getpass()"
   ]
  },
  {
   "cell_type": "markdown",
   "metadata": {
    "lc_cell_meme": {
     "current": "da93c426-a9ff-11ec-89a9-02420a010024-7-56a1-a6dc-e9d1-4759-8c18-6fc5-3e36",
     "next": "da93c570-a9ff-11ec-89a9-02420a010024-7-4e91-e0bb-f0a6-2712-c2bc-232e-93d6",
     "previous": "da93c2e6-a9ff-11ec-89a9-02420a010024-7-2227-a669-5eac-04ce-3214-ea5c-8f01"
    }
   },
   "source": [
    "入力されたアクセストークンで VCP を初期化します。"
   ]
  },
  {
   "cell_type": "code",
   "execution_count": null,
   "metadata": {
    "lc_cell_meme": {
     "current": "da93c570-a9ff-11ec-89a9-02420a010024-7-4e91-e0bb-f0a6-2712-c2bc-232e-93d6",
     "next": "35296cde-c0bb-11ec-b26a-0242ac110002-5-ab8e-75f4-7b3f-44dd-5e89",
     "previous": "da93c426-a9ff-11ec-89a9-02420a010024-7-56a1-a6dc-e9d1-4759-8c18-6fc5-3e36"
    },
    "lc_wrapper": {},
    "tags": [
     "vcp:rewrite:vcpsdk"
    ]
   },
   "outputs": [],
   "source": [
    "from common import logsetting\n",
    "from vcpsdk.vcpsdk import VcpSDK\n",
    "vcp = VcpSDK(vcc_access_token)"
   ]
  },
  {
   "cell_type": "markdown",
   "metadata": {
    "lc_cell_meme": {
     "current": "35296cde-c0bb-11ec-b26a-0242ac110002-5-ab8e-75f4-7b3f-44dd-5e89",
     "next": "2200103e-ba55-11ec-b26a-0242ac110002-6-8c3a-da35-5c70-fc28-d6be-5939",
     "previous": "da93c570-a9ff-11ec-89a9-02420a010024-7-4e91-e0bb-f0a6-2712-c2bc-232e-93d6"
    }
   },
   "source": [
    "エラーになった場合はこの節のセルを全て `unfreeze` してから、もう一度アクセストークンの入力を行ってください。"
   ]
  },
  {
   "cell_type": "markdown",
   "metadata": {
    "lc_cell_meme": {
     "current": "2200103e-ba55-11ec-b26a-0242ac110002-6-8c3a-da35-5c70-fc28-d6be-5939",
     "next": "da93cc00-a9ff-11ec-89a9-02420a010024-7-54b8-dd1d-0273-cd1a-9a84-4a6a-caf1",
     "previous": "35296cde-c0bb-11ec-b26a-0242ac110002-5-ab8e-75f4-7b3f-44dd-5e89"
    }
   },
   "source": [
    "##  削除する UnitGroup の指定"
   ]
  },
  {
   "cell_type": "markdown",
   "metadata": {
    "lc_cell_meme": {
     "current": "da93cc00-a9ff-11ec-89a9-02420a010024-7-54b8-dd1d-0273-cd1a-9a84-4a6a-caf1",
     "next": "da93cd22-a9ff-11ec-89a9-02420a010024-7-4641-e0dd-78f3-e3de-a9f4-1cad-391c",
     "previous": "2200103e-ba55-11ec-b26a-0242ac110002-6-8c3a-da35-5c70-fc28-d6be-5939"
    }
   },
   "source": [
    "削除する UnitGroup 名を指定してください。"
   ]
  },
  {
   "cell_type": "code",
   "execution_count": null,
   "metadata": {
    "lc_cell_meme": {
     "current": "da93cd22-a9ff-11ec-89a9-02420a010024-7-4641-e0dd-78f3-e3de-a9f4-1cad-391c",
     "next": "2200103e-ba55-11ec-b26a-0242ac110002-5-8c3a-096f-1d87-8768-e745",
     "previous": "da93cc00-a9ff-11ec-89a9-02420a010024-7-54b8-dd1d-0273-cd1a-9a84-4a6a-caf1"
    },
    "lc_wrapper": {},
    "tags": [
     "vcp:skip",
     "vcp:parameters"
    ]
   },
   "outputs": [],
   "source": [
    "ugroup_name = 'TFclusterGPU'"
   ]
  },
  {
   "cell_type": "markdown",
   "metadata": {
    "lc_cell_meme": {
     "current": "2200103e-ba55-11ec-b26a-0242ac110002-5-8c3a-096f-1d87-8768-e745",
     "next": "3930737e-d69e-11ec-b26a-0242ac110002-4-af50-250e-c4b4-2903",
     "previous": "da93cd22-a9ff-11ec-89a9-02420a010024-7-4641-e0dd-78f3-e3de-a9f4-1cad-391c"
    }
   },
   "source": [
    "###  操作可能な UnitGroup 名の表示（必要に応じて実行してください）"
   ]
  },
  {
   "cell_type": "markdown",
   "metadata": {
    "lc_cell_meme": {
     "current": "3930737e-d69e-11ec-b26a-0242ac110002-4-af50-250e-c4b4-2903",
     "next": "da93cad4-a9ff-11ec-89a9-02420a010024-7-2052-9065-03cb-c37a-160f-e02d-41b9",
     "previous": "2200103e-ba55-11ec-b26a-0242ac110002-5-8c3a-096f-1d87-8768-e745"
    }
   },
   "source": [
    "他の UnitGroup を削除したい場合は、次のセルを実行して UnitGroup 名を参照し、上のセルの ugroup_name を変更して実行してください。"
   ]
  },
  {
   "cell_type": "code",
   "execution_count": null,
   "metadata": {
    "lc_cell_meme": {
     "current": "da93cad4-a9ff-11ec-89a9-02420a010024-7-2052-9065-03cb-c37a-160f-e02d-41b9",
     "next": "da93ce44-a9ff-11ec-89a9-02420a010024-7-e793-4554-5ad4-c9df-6f1b-50ed-14da",
     "previous": "3930737e-d69e-11ec-b26a-0242ac110002-4-af50-250e-c4b4-2903"
    },
    "lc_wrapper": {}
   },
   "outputs": [],
   "source": [
    "!ls -1 group_vars/*.yml | sed -e 's/^group_vars\\///' -e 's/\\.yml//' | sort"
   ]
  },
  {
   "cell_type": "markdown",
   "metadata": {
    "lc_cell_meme": {
     "current": "da93ce44-a9ff-11ec-89a9-02420a010024-7-e793-4554-5ad4-c9df-6f1b-50ed-14da",
     "next": "da93ce44-a9ff-11ec-89a9-02420a010024-8-e793-4554-2539-5d6a-e8e5-8c13-6935-89bb",
     "previous": "da93cad4-a9ff-11ec-89a9-02420a010024-7-2052-9065-03cb-c37a-160f-e02d-41b9"
    }
   },
   "source": [
    "## 構築環境の削除"
   ]
  },
  {
   "cell_type": "markdown",
   "metadata": {
    "lc_cell_meme": {
     "current": "da93ce44-a9ff-11ec-89a9-02420a010024-8-e793-4554-2539-5d6a-e8e5-8c13-6935-89bb",
     "next": "da93cf8e-a9ff-11ec-89a9-02420a010024-7-0905-4e37-55a6-d0ec-9b0c-a119-5efe",
     "previous": "da93ce44-a9ff-11ec-89a9-02420a010024-7-e793-4554-5ad4-c9df-6f1b-50ed-14da"
    }
   },
   "source": [
    "### OpenHPC 環境の削除"
   ]
  },
  {
   "cell_type": "markdown",
   "metadata": {
    "lc_cell_meme": {
     "current": "da93cf8e-a9ff-11ec-89a9-02420a010024-7-0905-4e37-55a6-d0ec-9b0c-a119-5efe",
     "next": "da93d0c4-a9ff-11ec-89a9-02420a010024-7-6e9f-9e0e-fff6-8079-8384-af42-6d8a",
     "previous": "da93ce44-a9ff-11ec-89a9-02420a010024-8-e793-4554-2539-5d6a-e8e5-8c13-6935-89bb"
    }
   },
   "source": [
    "#### VCノードの削除"
   ]
  },
  {
   "cell_type": "markdown",
   "metadata": {
    "lc_cell_meme": {
     "current": "da93d0c4-a9ff-11ec-89a9-02420a010024-7-6e9f-9e0e-fff6-8079-8384-af42-6d8a",
     "next": "da93d204-a9ff-11ec-89a9-02420a010024-7-0acb-8b2b-7f0e-f17c-f62a-07b2-1060",
     "previous": "da93cf8e-a9ff-11ec-89a9-02420a010024-7-0905-4e37-55a6-d0ec-9b0c-a119-5efe"
    }
   },
   "source": [
    "現在のUnitGroupの一覧を確認します。"
   ]
  },
  {
   "cell_type": "code",
   "execution_count": null,
   "metadata": {
    "lc_cell_meme": {
     "current": "da93d204-a9ff-11ec-89a9-02420a010024-7-0acb-8b2b-7f0e-f17c-f62a-07b2-1060",
     "next": "da93d330-a9ff-11ec-89a9-02420a010024-7-ed58-b1dc-fb12-aed6-1c89-6c51-49b4",
     "previous": "da93d0c4-a9ff-11ec-89a9-02420a010024-7-6e9f-9e0e-fff6-8079-8384-af42-6d8a"
    },
    "lc_wrapper": {}
   },
   "outputs": [],
   "source": [
    "vcp.df_ugroups()"
   ]
  },
  {
   "cell_type": "markdown",
   "metadata": {
    "lc_cell_meme": {
     "current": "da93d330-a9ff-11ec-89a9-02420a010024-7-ed58-b1dc-fb12-aed6-1c89-6c51-49b4",
     "next": "da93d466-a9ff-11ec-89a9-02420a010024-7-a0fe-314c-37f0-ab05-1d2d-609a-2de1",
     "previous": "da93d204-a9ff-11ec-89a9-02420a010024-7-0acb-8b2b-7f0e-f17c-f62a-07b2-1060"
    }
   },
   "source": [
    "現在のVCノードの状態を確認します。"
   ]
  },
  {
   "cell_type": "code",
   "execution_count": null,
   "metadata": {
    "lc_cell_meme": {
     "current": "da93d466-a9ff-11ec-89a9-02420a010024-7-a0fe-314c-37f0-ab05-1d2d-609a-2de1",
     "next": "da93d592-a9ff-11ec-89a9-02420a010024-7-581c-4262-d286-145a-ad1e-4bd5-f3b8",
     "previous": "da93d330-a9ff-11ec-89a9-02420a010024-7-ed58-b1dc-fb12-aed6-1c89-6c51-49b4"
    },
    "lc_wrapper": {}
   },
   "outputs": [],
   "source": [
    "ug = vcp.get_ugroup(ugroup_name)\n",
    "ug.df_nodes()"
   ]
  },
  {
   "cell_type": "markdown",
   "metadata": {
    "lc_cell_meme": {
     "current": "da93d592-a9ff-11ec-89a9-02420a010024-7-581c-4262-d286-145a-ad1e-4bd5-f3b8",
     "next": "da93d6d2-a9ff-11ec-89a9-02420a010024-7-13af-57b1-3166-27c4-68ea-29ed-4852",
     "previous": "da93d466-a9ff-11ec-89a9-02420a010024-7-a0fe-314c-37f0-ab05-1d2d-609a-2de1"
    }
   },
   "source": [
    "まず計算ノード用VCノードを削除します。"
   ]
  },
  {
   "cell_type": "code",
   "execution_count": null,
   "metadata": {
    "lc_cell_meme": {
     "current": "da93d6d2-a9ff-11ec-89a9-02420a010024-7-13af-57b1-3166-27c4-68ea-29ed-4852",
     "next": "da93d808-a9ff-11ec-89a9-02420a010024-7-cbe9-7c71-eac2-9af6-dcea-b139-3ab6",
     "previous": "da93d592-a9ff-11ec-89a9-02420a010024-7-581c-4262-d286-145a-ad1e-4bd5-f3b8"
    },
    "lc_wrapper": {}
   },
   "outputs": [],
   "source": [
    "if ug.get_unit('compute'):\n",
    "    ug.delete_units('compute', force=True)"
   ]
  },
  {
   "cell_type": "markdown",
   "metadata": {
    "lc_cell_meme": {
     "current": "da93d808-a9ff-11ec-89a9-02420a010024-7-cbe9-7c71-eac2-9af6-dcea-b139-3ab6",
     "next": "da93d948-a9ff-11ec-89a9-02420a010024-7-c85f-0993-3a81-9d71-b752-82d7-fc77",
     "previous": "da93d6d2-a9ff-11ec-89a9-02420a010024-7-13af-57b1-3166-27c4-68ea-29ed-4852"
    }
   },
   "source": [
    "マスターノードと UnitGroup の削除を行います。"
   ]
  },
  {
   "cell_type": "code",
   "execution_count": null,
   "metadata": {
    "lc_cell_meme": {
     "current": "da93d948-a9ff-11ec-89a9-02420a010024-7-c85f-0993-3a81-9d71-b752-82d7-fc77",
     "next": "da93da74-a9ff-11ec-89a9-02420a010024-7-77ce-02ca-9539-7fee-7ea9-a263-76be",
     "previous": "da93d808-a9ff-11ec-89a9-02420a010024-7-cbe9-7c71-eac2-9af6-dcea-b139-3ab6"
    },
    "lc_wrapper": {}
   },
   "outputs": [],
   "source": [
    "ug.cleanup()"
   ]
  },
  {
   "cell_type": "markdown",
   "metadata": {
    "lc_cell_meme": {
     "current": "da93da74-a9ff-11ec-89a9-02420a010024-7-77ce-02ca-9539-7fee-7ea9-a263-76be",
     "next": "da93dba0-a9ff-11ec-89a9-02420a010024-7-ab0c-0521-d9fb-eb54-5b83-9f5c-a401",
     "previous": "da93d948-a9ff-11ec-89a9-02420a010024-7-c85f-0993-3a81-9d71-b752-82d7-fc77"
    }
   },
   "source": [
    "削除後の UnitGroupの一覧を確認します。"
   ]
  },
  {
   "cell_type": "code",
   "execution_count": null,
   "metadata": {
    "lc_cell_meme": {
     "current": "da93dba0-a9ff-11ec-89a9-02420a010024-7-ab0c-0521-d9fb-eb54-5b83-9f5c-a401",
     "next": "da93dccc-a9ff-11ec-89a9-02420a010024-7-6a05-192c-dfb0-046b-13b3-cbae-4973",
     "previous": "da93da74-a9ff-11ec-89a9-02420a010024-7-77ce-02ca-9539-7fee-7ea9-a263-76be"
    },
    "lc_wrapper": {}
   },
   "outputs": [],
   "source": [
    "vcp.df_ugroups()"
   ]
  },
  {
   "cell_type": "markdown",
   "metadata": {
    "lc_cell_meme": {
     "current": "da93dccc-a9ff-11ec-89a9-02420a010024-7-6a05-192c-dfb0-046b-13b3-cbae-4973",
     "next": "da93de16-a9ff-11ec-89a9-02420a010024-7-224f-8690-6dbd-dc0f-30b8-244c-4f12",
     "previous": "da93dba0-a9ff-11ec-89a9-02420a010024-7-ab0c-0521-d9fb-eb54-5b83-9f5c-a401"
    }
   },
   "source": [
    "#### VCディスクの削除"
   ]
  },
  {
   "cell_type": "markdown",
   "metadata": {
    "lc_cell_meme": {
     "current": "da93de16-a9ff-11ec-89a9-02420a010024-7-224f-8690-6dbd-dc0f-30b8-244c-4f12",
     "next": "da93df42-a9ff-11ec-89a9-02420a010024-7-6f76-751b-1671-53a3-a957-43f6-280b",
     "previous": "da93dccc-a9ff-11ec-89a9-02420a010024-7-6a05-192c-dfb0-046b-13b3-cbae-4973"
    }
   },
   "source": [
    "NFS用のVCディスクを削除します。\n",
    "\n",
    "> VCディスクを作成していない場合は、何もしません。"
   ]
  },
  {
   "cell_type": "markdown",
   "metadata": {
    "lc_cell_meme": {
     "current": "da93df42-a9ff-11ec-89a9-02420a010024-7-6f76-751b-1671-53a3-a957-43f6-280b",
     "next": "da93e064-a9ff-11ec-89a9-02420a010024-7-d12a-0693-7ca0-56fa-5c52-9c63-6668",
     "previous": "da93de16-a9ff-11ec-89a9-02420a010024-7-224f-8690-6dbd-dc0f-30b8-244c-4f12"
    }
   },
   "source": [
    "現在の状態を確認します。"
   ]
  },
  {
   "cell_type": "code",
   "execution_count": null,
   "metadata": {
    "lc_cell_meme": {
     "current": "da93e064-a9ff-11ec-89a9-02420a010024-7-d12a-0693-7ca0-56fa-5c52-9c63-6668",
     "next": "da93e19a-a9ff-11ec-89a9-02420a010024-7-79de-1dc1-c27d-fc46-cf19-80fc-b6b6",
     "previous": "da93df42-a9ff-11ec-89a9-02420a010024-7-6f76-751b-1671-53a3-a957-43f6-280b"
    },
    "lc_wrapper": {}
   },
   "outputs": [],
   "source": [
    "from IPython.display import display\n",
    "ug_disk = vcp.get_ugroup(ugroup_name + '_disk')\n",
    "if ug_disk:\n",
    "    display(ug_disk.df_nodes())"
   ]
  },
  {
   "cell_type": "markdown",
   "metadata": {
    "lc_cell_meme": {
     "current": "da93e19a-a9ff-11ec-89a9-02420a010024-7-79de-1dc1-c27d-fc46-cf19-80fc-b6b6",
     "next": "da93e2d0-a9ff-11ec-89a9-02420a010024-7-5904-3c79-d4c4-4321-29b8-587e-88bd",
     "previous": "da93e064-a9ff-11ec-89a9-02420a010024-7-d12a-0693-7ca0-56fa-5c52-9c63-6668"
    }
   },
   "source": [
    "VCディスクを削除します。"
   ]
  },
  {
   "cell_type": "code",
   "execution_count": null,
   "metadata": {
    "lc_cell_meme": {
     "current": "da93e2d0-a9ff-11ec-89a9-02420a010024-7-5904-3c79-d4c4-4321-29b8-587e-88bd",
     "next": "da93e474-a9ff-11ec-89a9-02420a010024-7-ae3d-93ac-59b1-e6aa-2625-9663-fc57",
     "previous": "da93e19a-a9ff-11ec-89a9-02420a010024-7-79de-1dc1-c27d-fc46-cf19-80fc-b6b6"
    },
    "lc_wrapper": {}
   },
   "outputs": [],
   "source": [
    "if ug_disk:\n",
    "    ug_disk.cleanup()"
   ]
  },
  {
   "cell_type": "markdown",
   "metadata": {
    "lc_cell_meme": {
     "current": "da93e474-a9ff-11ec-89a9-02420a010024-7-ae3d-93ac-59b1-e6aa-2625-9663-fc57",
     "next": "da93e5c8-a9ff-11ec-89a9-02420a010024-7-09f7-aa4f-3790-3514-6d74-4a3f-cf0e",
     "previous": "da93e2d0-a9ff-11ec-89a9-02420a010024-7-5904-3c79-d4c4-4321-29b8-587e-88bd"
    }
   },
   "source": [
    "削除後のUnitGroupの一覧を確認します。"
   ]
  },
  {
   "cell_type": "code",
   "execution_count": null,
   "metadata": {
    "lc_cell_meme": {
     "current": "da93e5c8-a9ff-11ec-89a9-02420a010024-7-09f7-aa4f-3790-3514-6d74-4a3f-cf0e",
     "next": "da93e6fe-a9ff-11ec-89a9-02420a010024-7-2d44-2e78-d615-2df0-b50a-aaca-828f",
     "previous": "da93e474-a9ff-11ec-89a9-02420a010024-7-ae3d-93ac-59b1-e6aa-2625-9663-fc57"
    },
    "lc_wrapper": {}
   },
   "outputs": [],
   "source": [
    "vcp.df_ugroups()"
   ]
  },
  {
   "cell_type": "markdown",
   "metadata": {
    "lc_cell_meme": {
     "current": "da93e6fe-a9ff-11ec-89a9-02420a010024-7-2d44-2e78-d615-2df0-b50a-aaca-828f",
     "next": "da93e82a-a9ff-11ec-89a9-02420a010024-7-40ea-b9f8-eb25-e609-fa04-4b64-4751",
     "previous": "da93e5c8-a9ff-11ec-89a9-02420a010024-7-09f7-aa4f-3790-3514-6d74-4a3f-cf0e"
    }
   },
   "source": [
    "### Ansible設定のクリア"
   ]
  },
  {
   "cell_type": "markdown",
   "metadata": {
    "lc_cell_meme": {
     "current": "da93e82a-a9ff-11ec-89a9-02420a010024-7-40ea-b9f8-eb25-e609-fa04-4b64-4751",
     "next": "da93e956-a9ff-11ec-89a9-02420a010024-7-f9c8-7f9a-92d1-359e-436f-3679-e9da",
     "previous": "da93e6fe-a9ff-11ec-89a9-02420a010024-7-2d44-2e78-d615-2df0-b50a-aaca-828f"
    }
   },
   "source": [
    "#### group_varsファイルのリネーム"
   ]
  },
  {
   "cell_type": "code",
   "execution_count": null,
   "metadata": {
    "lc_cell_meme": {
     "current": "da93e956-a9ff-11ec-89a9-02420a010024-7-f9c8-7f9a-92d1-359e-436f-3679-e9da",
     "next": "da93ea78-a9ff-11ec-89a9-02420a010024-7-0c89-5b4e-736e-9f86-2d58-7cf2-3dee",
     "previous": "da93e82a-a9ff-11ec-89a9-02420a010024-7-40ea-b9f8-eb25-e609-fa04-4b64-4751"
    },
    "lc_wrapper": {}
   },
   "outputs": [],
   "source": [
    "!mv group_vars/{ugroup_name}.yml group_vars/{ugroup_name}.yml.bak"
   ]
  },
  {
   "cell_type": "markdown",
   "metadata": {
    "lc_cell_meme": {
     "current": "da93ea78-a9ff-11ec-89a9-02420a010024-7-0c89-5b4e-736e-9f86-2d58-7cf2-3dee",
     "next": "da93eb9a-a9ff-11ec-89a9-02420a010024-7-03d7-1d79-6d41-af04-ec53-04e8-7758",
     "previous": "da93e956-a9ff-11ec-89a9-02420a010024-7-f9c8-7f9a-92d1-359e-436f-3679-e9da"
    }
   },
   "source": [
    "#### インベントリから UnitGroup に対応するグループを削除"
   ]
  },
  {
   "cell_type": "code",
   "execution_count": null,
   "metadata": {
    "lc_cell_meme": {
     "current": "da93eb9a-a9ff-11ec-89a9-02420a010024-7-03d7-1d79-6d41-af04-ec53-04e8-7758",
     "next": null,
     "previous": "da93ea78-a9ff-11ec-89a9-02420a010024-7-0c89-5b4e-736e-9f86-2d58-7cf2-3dee"
    },
    "lc_wrapper": {}
   },
   "outputs": [],
   "source": [
    "import yaml\n",
    "from pathlib import Path\n",
    "\n",
    "inventory_path = Path('inventory.yml')\n",
    "\n",
    "if inventory_path.exists():\n",
    "    !cp {str(inventory_path)} {str(inventory_path)}.bak\n",
    "\n",
    "    with inventory_path.open() as f:\n",
    "        inventory = yaml.safe_load(f)\n",
    "\n",
    "    if ugroup_name in inventory['all']['children']:\n",
    "        del(inventory['all']['children'][ugroup_name])\n",
    "\n",
    "    with inventory_path.open(mode='w') as f:\n",
    "        f.write(yaml.safe_dump(inventory))\n",
    "\n",
    "    !cat {str(inventory_path)}"
   ]
  }
 ],
 "metadata": {
  "kernelspec": {
   "display_name": "Python 3",
   "language": "python",
   "name": "python3"
  },
  "language_info": {
   "file_extension": ".py",
   "mimetype": "text/x-python",
   "name": "python",
   "nbconvert_exporter": "python",
   "pygments_lexer": "ipython3",
   "version": "3.10.4"
  },
  "toc": {
   "base_numbering": 1,
   "nav_menu": {},
   "number_sections": true,
   "sideBar": true,
   "skip_h1_title": true,
   "title_cell": "Table of Contents",
   "title_sidebar": "Contents",
   "toc_cell": false,
   "toc_position": {},
   "toc_section_display": true,
   "toc_window_display": true
  }
 },
 "nbformat": 4,
 "nbformat_minor": 2
}
