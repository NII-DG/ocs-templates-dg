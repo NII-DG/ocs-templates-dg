{
 "cells": [
  {
   "cell_type": "markdown",
   "metadata": {
    "lc_cell_meme": {
     "current": "da5ca7e8-a9ff-11ec-af89-02420a010024-5-b0b1-830e-6307-8838-7841",
     "next": "da5caa2c-a9ff-11ec-af89-02420a010024-5-296d-98bb-6d35-81ae-5374",
     "previous": null
    }
   },
   "source": [
    "# ノードの再起動\n",
    "\n",
    "---\n",
    "\n",
    "OpenHPC環境の停止したノードを再起動します。"
   ]
  },
  {
   "cell_type": "markdown",
   "metadata": {
    "lc_cell_meme": {
     "current": "da5caa2c-a9ff-11ec-af89-02420a010024-5-296d-98bb-6d35-81ae-5374",
     "next": "da5cac8e-a9ff-11ec-af89-02420a010024-5-639f-eab0-a4e9-a3de-916f",
     "previous": "da5ca7e8-a9ff-11ec-af89-02420a010024-5-b0b1-830e-6307-8838-7841"
    }
   },
   "source": [
    "## VCP の初期化\n",
    "次のセルを実行すると入力枠が表示されるのでアクセストークンの値を入力してください。"
   ]
  },
  {
   "cell_type": "code",
   "execution_count": null,
   "metadata": {
    "lc_cell_meme": {
     "current": "da5cac8e-a9ff-11ec-af89-02420a010024-5-639f-eab0-a4e9-a3de-916f",
     "next": "da5cad56-a9ff-11ec-af89-02420a010024-5-8262-7d25-a0c7-d590-21e0",
     "previous": "da5caa2c-a9ff-11ec-af89-02420a010024-5-296d-98bb-6d35-81ae-5374"
    },
    "lc_wrapper": {},
    "tags": [
     "vcp:skip",
     "vcp:parameters"
    ]
   },
   "outputs": [],
   "source": [
    "from getpass import getpass\n",
    "vcc_access_token = getpass()"
   ]
  },
  {
   "cell_type": "markdown",
   "metadata": {
    "lc_cell_meme": {
     "current": "da5cad56-a9ff-11ec-af89-02420a010024-5-8262-7d25-a0c7-d590-21e0",
     "next": "da5cae0a-a9ff-11ec-af89-02420a010024-5-b3c9-1c93-e9b6-f5ad-702f",
     "previous": "da5cac8e-a9ff-11ec-af89-02420a010024-5-639f-eab0-a4e9-a3de-916f"
    }
   },
   "source": [
    "入力されたアクセストークンが正しいことを、実際にVCCにアクセスして確認します。"
   ]
  },
  {
   "cell_type": "code",
   "execution_count": null,
   "metadata": {
    "lc_cell_meme": {
     "current": "da5cae0a-a9ff-11ec-af89-02420a010024-5-b3c9-1c93-e9b6-f5ad-702f",
     "next": "da5caebe-a9ff-11ec-af89-02420a010024-5-4d14-7266-d918-fc6c-fbe8",
     "previous": "da5cad56-a9ff-11ec-af89-02420a010024-5-8262-7d25-a0c7-d590-21e0"
    },
    "lc_wrapper": {},
    "tags": [
     "vcp:rewrite:vcpsdk"
    ]
   },
   "outputs": [],
   "source": [
    "from common import logsetting\n",
    "from vcpsdk.vcpsdk import VcpSDK\n",
    "vcp = VcpSDK(vcc_access_token)"
   ]
  },
  {
   "cell_type": "markdown",
   "metadata": {
    "lc_cell_meme": {
     "current": "da5caebe-a9ff-11ec-af89-02420a010024-5-4d14-7266-d918-fc6c-fbe8",
     "next": "84b5e6ec-c697-11ec-b26a-0242ac110002-3-8b70-8e71-2b9d",
     "previous": "da5cae0a-a9ff-11ec-af89-02420a010024-5-b3c9-1c93-e9b6-f5ad-702f"
    }
   },
   "source": [
    "エラーになった場合はこの節のセルを全て `unfreeze` してから、もう一度アクセストークンの入力を行ってください。"
   ]
  },
  {
   "cell_type": "markdown",
   "metadata": {
    "lc_cell_meme": {
     "current": "84b5e6ec-c697-11ec-b26a-0242ac110002-3-8b70-8e71-2b9d",
     "next": "da5cb3e6-a9ff-11ec-af89-02420a010024-5-b866-f76b-a7fa-fd84-23b3",
     "previous": "da5caebe-a9ff-11ec-af89-02420a010024-5-4d14-7266-d918-fc6c-fbe8"
    }
   },
   "source": [
    "## 再起動する UnitGroup 名の指定"
   ]
  },
  {
   "cell_type": "code",
   "execution_count": null,
   "metadata": {
    "lc_cell_meme": {
     "current": "da5cb3e6-a9ff-11ec-af89-02420a010024-5-b866-f76b-a7fa-fd84-23b3",
     "next": "da5caf90-a9ff-11ec-af89-02420a010024-5-851e-cd52-51e5-52c3-eed5",
     "previous": "84b5e6ec-c697-11ec-b26a-0242ac110002-3-8b70-8e71-2b9d"
    },
    "lc_wrapper": {},
    "tags": [
     "vcp:skip",
     "vcp:parameters"
    ]
   },
   "outputs": [],
   "source": [
    "ugroup_name = 'TFclusterGPU'"
   ]
  },
  {
   "cell_type": "markdown",
   "metadata": {
    "lc_cell_meme": {
     "current": "da5caf90-a9ff-11ec-af89-02420a010024-5-851e-cd52-51e5-52c3-eed5",
     "next": "b9d22892-d69e-11ec-b26a-0242ac110002-4-cffd-5052-1216-8324",
     "previous": "da5cb3e6-a9ff-11ec-af89-02420a010024-5-b866-f76b-a7fa-fd84-23b3"
    }
   },
   "source": [
    "### 操作可能な UnitGroup 名の表示（必要に応じて実行してください）"
   ]
  },
  {
   "cell_type": "markdown",
   "metadata": {
    "lc_cell_meme": {
     "current": "b9d22892-d69e-11ec-b26a-0242ac110002-4-cffd-5052-1216-8324",
     "next": "da5cb116-a9ff-11ec-af89-02420a010024-5-14b0-27e9-fb4e-4aad-f513",
     "previous": "da5caf90-a9ff-11ec-af89-02420a010024-5-851e-cd52-51e5-52c3-eed5"
    }
   },
   "source": [
    "他の UnitGroup を再起動したい場合は、次のセルを実行して UnitGroup 名を参照し、上のセルの ugroup_name を変更して実行してください。"
   ]
  },
  {
   "cell_type": "code",
   "execution_count": null,
   "metadata": {
    "lc_cell_meme": {
     "current": "da5cb116-a9ff-11ec-af89-02420a010024-5-14b0-27e9-fb4e-4aad-f513",
     "next": "da5cb6ac-a9ff-11ec-af89-02420a010024-5-79bb-049f-db65-055b-fbe6",
     "previous": "b9d22892-d69e-11ec-b26a-0242ac110002-4-cffd-5052-1216-8324"
    },
    "lc_wrapper": {}
   },
   "outputs": [],
   "source": [
    "!ls -1 group_vars/*.yml | sed -e 's/^group_vars\\///' -e 's/\\.yml//' | sort"
   ]
  },
  {
   "cell_type": "markdown",
   "metadata": {
    "lc_cell_meme": {
     "current": "da5cb6ac-a9ff-11ec-af89-02420a010024-5-79bb-049f-db65-055b-fbe6",
     "next": "cc3e261e-c697-11ec-b26a-0242ac110002-3-fb8e-385d-634b",
     "previous": "da5cb116-a9ff-11ec-af89-02420a010024-5-14b0-27e9-fb4e-4aad-f513"
    }
   },
   "source": [
    "## ノードの再起動"
   ]
  },
  {
   "cell_type": "markdown",
   "metadata": {
    "lc_cell_meme": {
     "current": "cc3e261e-c697-11ec-b26a-0242ac110002-3-fb8e-385d-634b",
     "next": "da5cb508-a9ff-11ec-af89-02420a010024-5-edb8-50c3-6cc2-bcec-39bf",
     "previous": "da5cb6ac-a9ff-11ec-af89-02420a010024-5-79bb-049f-db65-055b-fbe6"
    }
   },
   "source": [
    "### UnitGroup の変数の読み込み"
   ]
  },
  {
   "cell_type": "markdown",
   "metadata": {
    "lc_cell_meme": {
     "current": "da5cb508-a9ff-11ec-af89-02420a010024-5-edb8-50c3-6cc2-bcec-39bf",
     "next": "da5cb5e4-a9ff-11ec-af89-02420a010024-5-1121-18f8-df97-13a8-7975",
     "previous": "cc3e261e-c697-11ec-b26a-0242ac110002-3-fb8e-385d-634b"
    }
   },
   "source": [
    "UnitGroup の変数を group_vars ファイルから読み込みます。"
   ]
  },
  {
   "cell_type": "code",
   "execution_count": null,
   "metadata": {
    "lc_cell_meme": {
     "current": "da5cb5e4-a9ff-11ec-af89-02420a010024-5-1121-18f8-df97-13a8-7975",
     "next": "13c45b3e-c698-11ec-b26a-0242ac110002-3-ce97-9f2e-aea8",
     "previous": "da5cb508-a9ff-11ec-af89-02420a010024-5-edb8-50c3-6cc2-bcec-39bf"
    },
    "lc_wrapper": {}
   },
   "outputs": [],
   "source": [
    "%run scripts/group.py\n",
    "gvars = load_group_vars(ugroup_name)"
   ]
  },
  {
   "cell_type": "markdown",
   "metadata": {
    "lc_cell_meme": {
     "current": "13c45b3e-c698-11ec-b26a-0242ac110002-3-ce97-9f2e-aea8",
     "next": "da5cb77e-a9ff-11ec-af89-02420a010024-5-2ab7-1a3f-6a5a-c825-db38",
     "previous": "da5cb5e4-a9ff-11ec-af89-02420a010024-5-1121-18f8-df97-13a8-7975"
    }
   },
   "source": [
    "### ノードの状態確認"
   ]
  },
  {
   "cell_type": "markdown",
   "metadata": {
    "lc_cell_meme": {
     "current": "da5cb77e-a9ff-11ec-af89-02420a010024-5-2ab7-1a3f-6a5a-c825-db38",
     "next": "da5cb832-a9ff-11ec-af89-02420a010024-5-75fb-2728-ffc7-0a51-6304",
     "previous": "13c45b3e-c698-11ec-b26a-0242ac110002-3-ce97-9f2e-aea8"
    }
   },
   "source": [
    "現在のノードの状態を確認します。"
   ]
  },
  {
   "cell_type": "code",
   "execution_count": null,
   "metadata": {
    "lc_cell_meme": {
     "current": "da5cb832-a9ff-11ec-af89-02420a010024-5-75fb-2728-ffc7-0a51-6304",
     "next": "da5cb8f0-a9ff-11ec-af89-02420a010024-5-59b5-6266-ed0d-6a84-691a",
     "previous": "da5cb77e-a9ff-11ec-af89-02420a010024-5-2ab7-1a3f-6a5a-c825-db38"
    },
    "lc_wrapper": {}
   },
   "outputs": [],
   "source": [
    "ug = vcp.get_ugroup(ugroup_name)\n",
    "ug.df_nodes()"
   ]
  },
  {
   "cell_type": "markdown",
   "metadata": {
    "lc_cell_meme": {
     "current": "da5cb8f0-a9ff-11ec-af89-02420a010024-5-59b5-6266-ed0d-6a84-691a",
     "next": "da5cb8f0-a9ff-11ec-af89-02420a010024-6-59b5-6266-7965-44b3-839e-cd88",
     "previous": "da5cb832-a9ff-11ec-af89-02420a010024-5-75fb-2728-ffc7-0a51-6304"
    }
   },
   "source": [
    "### マスターノードの再起動"
   ]
  },
  {
   "cell_type": "markdown",
   "metadata": {
    "lc_cell_meme": {
     "current": "da5cb8f0-a9ff-11ec-af89-02420a010024-6-59b5-6266-7965-44b3-839e-cd88",
     "next": "da5cb9b8-a9ff-11ec-af89-02420a010024-5-f780-84c0-4bd2-4436-2625",
     "previous": "da5cb8f0-a9ff-11ec-af89-02420a010024-5-59b5-6266-ed0d-6a84-691a"
    }
   },
   "source": [
    "マスターノードを再起動します。\n",
    "\n",
    "> マスターノードを停止していない場合は、この節をスキップしてください。"
   ]
  },
  {
   "cell_type": "code",
   "execution_count": null,
   "metadata": {
    "lc_cell_meme": {
     "current": "da5cb9b8-a9ff-11ec-af89-02420a010024-5-f780-84c0-4bd2-4436-2625",
     "next": "da5cba8a-a9ff-11ec-af89-02420a010024-5-9839-e829-933b-689b-2bf8",
     "previous": "da5cb8f0-a9ff-11ec-af89-02420a010024-6-59b5-6266-7965-44b3-839e-cd88"
    },
    "lc_wrapper": {},
    "scrolled": true
   },
   "outputs": [],
   "source": [
    "unit_master = ug.get_unit('master')\n",
    "unit_master.power_on_nodes()"
   ]
  },
  {
   "cell_type": "markdown",
   "metadata": {
    "lc_cell_meme": {
     "current": "da5cba8a-a9ff-11ec-af89-02420a010024-5-9839-e829-933b-689b-2bf8",
     "next": "50d720de-bbac-11ec-b26a-0242ac110002-4-be28-f1f7-21b1-f02f",
     "previous": "da5cb9b8-a9ff-11ec-af89-02420a010024-5-f780-84c0-4bd2-4436-2625"
    }
   },
   "source": [
    "マスターノードの状態を確認します。"
   ]
  },
  {
   "cell_type": "code",
   "execution_count": null,
   "metadata": {
    "lc_cell_meme": {
     "current": "50d720de-bbac-11ec-b26a-0242ac110002-4-be28-f1f7-21b1-f02f",
     "next": "da5cbbfc-a9ff-11ec-af89-02420a010024-5-522a-ca8a-0167-c50a-41a8",
     "previous": "da5cba8a-a9ff-11ec-af89-02420a010024-5-9839-e829-933b-689b-2bf8"
    },
    "lc_wrapper": {}
   },
   "outputs": [],
   "source": [
    "# ★★★ 再起動チェック自動化のためオリジナルを改造 ★★★\n",
    "\n",
    "rcount = 10             # retry count\n",
    "while True:\n",
    "    # マスターノードの状態取得\n",
    "    unit_master = ug.get_unit('master')\n",
    "    if any([node.state != 'RUNNING' for node in unit_master.find_nodes()]):\n",
    "        !sleep 10\n",
    "        rcount -= 1\n",
    "        if rcount == 0:\n",
    "            unit_master.df_nodes()\n",
    "            raise RuntimeError('Error: cannot restart master node')\n",
    "    else:\n",
    "        break"
   ]
  },
  {
   "cell_type": "markdown",
   "metadata": {
    "lc_cell_meme": {
     "current": "da5cbbfc-a9ff-11ec-af89-02420a010024-5-522a-ca8a-0167-c50a-41a8",
     "next": "0951703e-bbac-11ec-b26a-0242ac110002-4-b082-d5e5-02da-b3fa",
     "previous": "50d720de-bbac-11ec-b26a-0242ac110002-4-be28-f1f7-21b1-f02f"
    }
   },
   "source": [
    "NFSサーバが起動していることを確認します。"
   ]
  },
  {
   "cell_type": "code",
   "execution_count": null,
   "metadata": {
    "lc_cell_meme": {
     "current": "0951703e-bbac-11ec-b26a-0242ac110002-4-b082-d5e5-02da-b3fa",
     "next": "da5cc098-a9ff-11ec-af89-02420a010024-5-c9f2-d02b-0b6e-4973-3fb0",
     "previous": "da5cbbfc-a9ff-11ec-af89-02420a010024-5-522a-ca8a-0167-c50a-41a8"
    },
    "lc_wrapper": {}
   },
   "outputs": [],
   "source": [
    "# ★★★ 自動リカバリのためオリジナルを改造 ★★★\n",
    "\n",
    "rcount = 3             # retry count\n",
    "while True:\n",
    "    # NFS サーバの稼働確認\n",
    "    ustate = !ansible {ugroup_name}_master -b -a 'systemctl status nfs-server'\n",
    "    for x in range(len(ustate)-1):\n",
    "        nfsstate = ustate[x]\n",
    "        if nfsstate.split()[0] == 'Active:':\n",
    "            break\n",
    "\n",
    "    print('NFS server: ' + nfsstate)\n",
    "    \n",
    "    # 稼働していない場合再起動\n",
    "    if nfsstate.split()[1] == 'active':\n",
    "        break\n",
    "    else:\n",
    "        !ansible {ugroup_name}_master -b -a 'systemctl restart nfs-server'\n",
    "        !sleep 5\n",
    "        rcount -= 1\n",
    "        if rcount == 0:\n",
    "            raise RuntimeError('Error: cannot restart nfs server')"
   ]
  },
  {
   "cell_type": "markdown",
   "metadata": {
    "lc_cell_meme": {
     "current": "da5cc098-a9ff-11ec-af89-02420a010024-5-c9f2-d02b-0b6e-4973-3fb0",
     "next": "da5cc098-a9ff-11ec-af89-02420a010024-6-c9f2-d02b-7e3b-e2c6-df9c-92be",
     "previous": "0951703e-bbac-11ec-b26a-0242ac110002-4-b082-d5e5-02da-b3fa"
    }
   },
   "source": [
    "### 計算ノードの再起動"
   ]
  },
  {
   "cell_type": "markdown",
   "metadata": {
    "lc_cell_meme": {
     "current": "da5cc098-a9ff-11ec-af89-02420a010024-6-c9f2-d02b-7e3b-e2c6-df9c-92be",
     "next": "da5cc156-a9ff-11ec-af89-02420a010024-5-a5fe-9a9d-9d43-5ec3-31d4",
     "previous": "da5cc098-a9ff-11ec-af89-02420a010024-5-c9f2-d02b-0b6e-4973-3fb0"
    }
   },
   "source": [
    "計算ノードを再起動します。"
   ]
  },
  {
   "cell_type": "code",
   "execution_count": null,
   "metadata": {
    "lc_cell_meme": {
     "current": "da5cc156-a9ff-11ec-af89-02420a010024-5-a5fe-9a9d-9d43-5ec3-31d4",
     "next": "da5cba8a-a9ff-11ec-af89-02420a010024-6-9839-e829-0eb8-2b1b-00f8-814b",
     "previous": "da5cc098-a9ff-11ec-af89-02420a010024-6-c9f2-d02b-7e3b-e2c6-df9c-92be"
    },
    "lc_wrapper": {}
   },
   "outputs": [],
   "source": [
    "unit_compute = ug.get_unit('compute')\n",
    "unit_compute.power_on_nodes(num_power_on_nodes=gvars['compute_nodes'])"
   ]
  },
  {
   "cell_type": "markdown",
   "metadata": {
    "lc_cell_meme": {
     "current": "da5cba8a-a9ff-11ec-af89-02420a010024-6-9839-e829-0eb8-2b1b-00f8-814b",
     "next": "50d720de-bbac-11ec-b26a-0242ac110002-5-be28-a88a-c299-5637-332e",
     "previous": "da5cc156-a9ff-11ec-af89-02420a010024-5-a5fe-9a9d-9d43-5ec3-31d4"
    }
   },
   "source": [
    "マスターノードの状態を確認します。"
   ]
  },
  {
   "cell_type": "code",
   "execution_count": null,
   "metadata": {
    "lc_cell_meme": {
     "current": "50d720de-bbac-11ec-b26a-0242ac110002-5-be28-a88a-c299-5637-332e",
     "next": "da5cc52a-a9ff-11ec-af89-02420a010024-5-249f-7ab2-c402-a171-4511",
     "previous": "da5cba8a-a9ff-11ec-af89-02420a010024-6-9839-e829-0eb8-2b1b-00f8-814b"
    },
    "lc_wrapper": {}
   },
   "outputs": [],
   "source": [
    "# ★★★ 再起動チェック自動化のためオリジナルを改造 ★★★\n",
    "\n",
    "#    unit_compute = ug.get_unit('compute')\n",
    "rcount = 3\n",
    "while True:\n",
    "    if any([node.state != 'RUNNING' for node in unit_compute.find_nodes()]):\n",
    "        for node in unit_compute.find_nodes():\n",
    "            if node.state != 'RUNNING':\n",
    "                unit_compute.power_on_nodes(node_no=node.no)\n",
    "        !sleep 10\n",
    "        rcount -= 1\n",
    "        if rcount == 0:\n",
    "            unit_compute.df_nodes()\n",
    "            raise RuntimeError('Error: cannot restart compute node')\n",
    "    else:\n",
    "        break"
   ]
  },
  {
   "cell_type": "markdown",
   "metadata": {
    "lc_cell_meme": {
     "current": "da5cc52a-a9ff-11ec-af89-02420a010024-5-249f-7ab2-c402-a171-4511",
     "next": "c0e7bdd8-c6ac-11ec-b26a-0242ac110002-3-96c6-29a7-dd72",
     "previous": "50d720de-bbac-11ec-b26a-0242ac110002-5-be28-a88a-c299-5637-332e"
    }
   },
   "source": [
    "### Slurmの状態を確認する"
   ]
  },
  {
   "cell_type": "markdown",
   "metadata": {
    "lc_cell_meme": {
     "current": "c0e7bdd8-c6ac-11ec-b26a-0242ac110002-3-96c6-29a7-dd72",
     "next": "de8cf274-c6be-11ec-b26a-0242ac110002-3-cf7c-ce9f-f18c",
     "previous": "da5cc52a-a9ff-11ec-af89-02420a010024-5-249f-7ab2-c402-a171-4511"
    }
   },
   "source": [
    "Slurmクラスタのノードの状態を確認します。"
   ]
  },
  {
   "cell_type": "code",
   "execution_count": null,
   "metadata": {
    "lc_cell_meme": {
     "current": "de8cf274-c6be-11ec-b26a-0242ac110002-3-cf7c-ce9f-f18c",
     "next": "da5cc8e0-a9ff-11ec-af89-02420a010024-5-3c46-edb6-afeb-6984-3f66",
     "previous": "c0e7bdd8-c6ac-11ec-b26a-0242ac110002-3-96c6-29a7-dd72"
    },
    "lc_wrapper": {}
   },
   "outputs": [],
   "source": [
    "# ★★★ 自動リカバリのためオリジナルを改造 ★★★\n",
    "\n",
    "count = 10\n",
    "while True:\n",
    "    bs_state = !ansible {ugroup_name}_master -a sinfo\n",
    "    bs_state = bs_state[len(bs_state)-1]\n",
    "    print(bs_state)\n",
    "    \n",
    "    if bs_state.split()[4] == 'idle':\n",
    "        break\n",
    "    elif bs_state.split()[1] == 'Unable':\n",
    "        !ansible {ugroup_name}_master -b -a 'systemctl restart slurmctld'\n",
    "        !ansible {ugroup_name}_compute -b -a 'systemctl restart slurmd'\n",
    "        !sleep 5\n",
    "    else:\n",
    "        for x in gvars['compute_etc_hosts'].values():\n",
    "            !ansible {ugroup_name}_master -b -a 'scontrol update nodename={x} state=resume' || true\n",
    "        !sleep 5\n",
    "        \n",
    "    count -= 1\n",
    "    if count == 0:\n",
    "        raise RuntimeError('Error: Slurm is down')"
   ]
  },
  {
   "cell_type": "markdown",
   "metadata": {
    "lc_cell_meme": {
     "current": "da5cc8e0-a9ff-11ec-af89-02420a010024-5-3c46-edb6-afeb-6984-3f66",
     "next": "da5cc994-a9ff-11ec-af89-02420a010024-5-c081-0739-d057-e093-92b5",
     "previous": "de8cf274-c6be-11ec-b26a-0242ac110002-3-cf7c-ce9f-f18c"
    }
   },
   "source": [
    "`srun`コマンドで、`hostname` コマンドを計算ノードで実行させてみます。"
   ]
  },
  {
   "cell_type": "code",
   "execution_count": null,
   "metadata": {
    "lc_cell_meme": {
     "current": "da5cc994-a9ff-11ec-af89-02420a010024-5-c081-0739-d057-e093-92b5",
     "next": "da5cc8e0-a9ff-11ec-af89-02420a010024-6-3c46-edb6-d0f0-7241-c8b8-84aa",
     "previous": "da5cc8e0-a9ff-11ec-af89-02420a010024-5-3c46-edb6-afeb-6984-3f66"
    },
    "lc_wrapper": {}
   },
   "outputs": [],
   "source": [
    "!ansible {ugroup_name}_master -a 'srun -l -N {gvars[\"compute_nodes\"]} hostname'"
   ]
  },
  {
   "cell_type": "markdown",
   "metadata": {
    "lc_cell_meme": {
     "current": "da5cc8e0-a9ff-11ec-af89-02420a010024-6-3c46-edb6-d0f0-7241-c8b8-84aa",
     "next": null,
     "previous": "da5cc994-a9ff-11ec-af89-02420a010024-5-c081-0739-d057-e093-92b5"
    }
   },
   "source": [
    "以下のような実行結果が表示されます（ホストの表示順序は入れ替わることがあります）。\n",
    "\n",
    "```\n",
    "0: c1\n",
    "\n",
    "```"
   ]
  }
 ],
 "metadata": {
  "kernelspec": {
   "display_name": "Python 3",
   "language": "python",
   "name": "python3"
  },
  "language_info": {
   "file_extension": ".py",
   "mimetype": "text/x-python",
   "name": "python",
   "nbconvert_exporter": "python",
   "pygments_lexer": "ipython3",
   "version": "3.10.4"
  },
  "toc": {
   "base_numbering": 1,
   "nav_menu": {},
   "number_sections": true,
   "sideBar": true,
   "skip_h1_title": true,
   "title_cell": "Table of Contents",
   "title_sidebar": "Contents",
   "toc_cell": false,
   "toc_position": {},
   "toc_section_display": true,
   "toc_window_display": true
  }
 },
 "nbformat": 4,
 "nbformat_minor": 2
}
