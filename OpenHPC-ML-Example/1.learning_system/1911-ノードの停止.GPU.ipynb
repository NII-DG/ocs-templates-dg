{
 "cells": [
  {
   "cell_type": "markdown",
   "metadata": {
    "lc_cell_meme": {
     "current": "da26f47c-a9ff-11ec-aa46-02420a010024-5-2288-dc79-61ce-2920-062b",
     "next": "da26f814-a9ff-11ec-aa46-02420a010024-5-67db-55d3-db7f-7288-11a6",
     "previous": null
    }
   },
   "source": [
    "# ノードの停止\n",
    "\n",
    "---\n",
    "\n",
    "OpenHPC環境のノードを一時的に停止します。"
   ]
  },
  {
   "cell_type": "markdown",
   "metadata": {
    "lc_cell_meme": {
     "current": "da26f814-a9ff-11ec-aa46-02420a010024-5-67db-55d3-db7f-7288-11a6",
     "next": "da26f9cc-a9ff-11ec-aa46-02420a010024-5-5709-2fbe-a4ec-ef5e-444a",
     "previous": "da26f47c-a9ff-11ec-aa46-02420a010024-5-2288-dc79-61ce-2920-062b"
    }
   },
   "source": [
    "## VCP の初期化\n",
    "次のセルを実行すると入力枠が表示されるのでアクセストークンの値を入力してください。"
   ]
  },
  {
   "cell_type": "code",
   "execution_count": null,
   "metadata": {
    "lc_cell_meme": {
     "current": "da26f9cc-a9ff-11ec-aa46-02420a010024-5-5709-2fbe-a4ec-ef5e-444a",
     "next": "da26faa8-a9ff-11ec-aa46-02420a010024-5-062b-c98d-871a-cd04-a3fc",
     "previous": "da26f814-a9ff-11ec-aa46-02420a010024-5-67db-55d3-db7f-7288-11a6"
    },
    "lc_wrapper": {},
    "tags": [
     "vcp:skip",
     "vcp:parameters"
    ]
   },
   "outputs": [],
   "source": [
    "from getpass import getpass\n",
    "vcc_access_token = getpass()"
   ]
  },
  {
   "cell_type": "markdown",
   "metadata": {
    "lc_cell_meme": {
     "current": "da26faa8-a9ff-11ec-aa46-02420a010024-5-062b-c98d-871a-cd04-a3fc",
     "next": "da26fb70-a9ff-11ec-aa46-02420a010024-5-490d-0577-a341-f072-6603",
     "previous": "da26f9cc-a9ff-11ec-aa46-02420a010024-5-5709-2fbe-a4ec-ef5e-444a"
    }
   },
   "source": [
    "入力されたアクセストークンで VCP を初期化します。"
   ]
  },
  {
   "cell_type": "code",
   "execution_count": null,
   "metadata": {
    "lc_cell_meme": {
     "current": "da26fb70-a9ff-11ec-aa46-02420a010024-5-490d-0577-a341-f072-6603",
     "next": "816a0d82-c0ad-11ec-b26a-0242ac110002-4-5cd8-5f89-5dba-d6fc",
     "previous": "da26faa8-a9ff-11ec-aa46-02420a010024-5-062b-c98d-871a-cd04-a3fc"
    },
    "lc_wrapper": {},
    "tags": [
     "vcp:rewrite:vcpsdk"
    ]
   },
   "outputs": [],
   "source": [
    "from common import logsetting\n",
    "from vcpsdk.vcpsdk import VcpSDK\n",
    "vcp = VcpSDK(vcc_access_token)"
   ]
  },
  {
   "cell_type": "markdown",
   "metadata": {
    "lc_cell_meme": {
     "current": "816a0d82-c0ad-11ec-b26a-0242ac110002-4-5cd8-5f89-5dba-d6fc",
     "next": "da26ffe4-a9ff-11ec-aa46-02420a010024-7-25e5-ef44-1bf7-f642-e4a6-cf60-4f13",
     "previous": "da26fb70-a9ff-11ec-aa46-02420a010024-5-490d-0577-a341-f072-6603"
    }
   },
   "source": [
    "エラーになった場合はこの節のセルを全て `unfreeze` してから、もう一度アクセストークンの入力を行ってください。"
   ]
  },
  {
   "cell_type": "markdown",
   "metadata": {
    "lc_cell_meme": {
     "current": "da26ffe4-a9ff-11ec-aa46-02420a010024-7-25e5-ef44-1bf7-f642-e4a6-cf60-4f13",
     "next": "da270264-a9ff-11ec-aa46-02420a010024-5-34f0-31c3-0a97-ce8e-3f58",
     "previous": "816a0d82-c0ad-11ec-b26a-0242ac110002-4-5cd8-5f89-5dba-d6fc"
    }
   },
   "source": [
    "## 停止する UnitGroup の指定"
   ]
  },
  {
   "cell_type": "code",
   "execution_count": null,
   "metadata": {
    "lc_cell_meme": {
     "current": "da270264-a9ff-11ec-aa46-02420a010024-5-34f0-31c3-0a97-ce8e-3f58",
     "next": "da26ffe4-a9ff-11ec-aa46-02420a010024-6-25e5-ef44-1bf7-d08c-fff4-0d13",
     "previous": "da26ffe4-a9ff-11ec-aa46-02420a010024-7-25e5-ef44-1bf7-f642-e4a6-cf60-4f13"
    },
    "lc_wrapper": {},
    "tags": [
     "vcp:skip",
     "vcp:parameters"
    ]
   },
   "outputs": [],
   "source": [
    "ugroup_name = 'TFclusterGPU'"
   ]
  },
  {
   "cell_type": "markdown",
   "metadata": {
    "lc_cell_meme": {
     "current": "da26ffe4-a9ff-11ec-aa46-02420a010024-6-25e5-ef44-1bf7-d08c-fff4-0d13",
     "next": "8e336df0-d69d-11ec-b26a-0242ac110002-3-5fb5-3342-bbce",
     "previous": "da270264-a9ff-11ec-aa46-02420a010024-5-34f0-31c3-0a97-ce8e-3f58"
    }
   },
   "source": [
    "### 操作可能な UnitGroup 名の表示（必要に応じて実行してください）"
   ]
  },
  {
   "cell_type": "markdown",
   "metadata": {
    "lc_cell_meme": {
     "current": "8e336df0-d69d-11ec-b26a-0242ac110002-3-5fb5-3342-bbce",
     "next": "da2700b6-a9ff-11ec-aa46-02420a010024-5-f60f-6a89-ba01-940b-9704",
     "previous": "da26ffe4-a9ff-11ec-aa46-02420a010024-6-25e5-ef44-1bf7-d08c-fff4-0d13"
    }
   },
   "source": [
    "他の UnitGroup を停止したい場合は、次のセルを実行して UnitGroup 名を参照し、上のセルの ugroup_name を変更して実行してください。"
   ]
  },
  {
   "cell_type": "code",
   "execution_count": null,
   "metadata": {
    "lc_cell_meme": {
     "current": "da2700b6-a9ff-11ec-aa46-02420a010024-5-f60f-6a89-ba01-940b-9704",
     "next": "da2704da-a9ff-11ec-aa46-02420a010024-5-f6b4-4f9c-3d91-0895-7ca5",
     "previous": "8e336df0-d69d-11ec-b26a-0242ac110002-3-5fb5-3342-bbce"
    },
    "lc_wrapper": {}
   },
   "outputs": [],
   "source": [
    "!ls -1 group_vars/*.yml | sed -e 's/^group_vars\\///' -e 's/\\.yml//' | sort"
   ]
  },
  {
   "cell_type": "markdown",
   "metadata": {
    "lc_cell_meme": {
     "current": "da2704da-a9ff-11ec-aa46-02420a010024-5-f6b4-4f9c-3d91-0895-7ca5",
     "next": "da26ffe4-a9ff-11ec-aa46-02420a010024-7-25e5-ef44-bfa1-8d12-b6dc-71d9-136d",
     "previous": "da2700b6-a9ff-11ec-aa46-02420a010024-5-f60f-6a89-ba01-940b-9704"
    }
   },
   "source": [
    "## ノードの停止"
   ]
  },
  {
   "cell_type": "markdown",
   "metadata": {
    "lc_cell_meme": {
     "current": "da26ffe4-a9ff-11ec-aa46-02420a010024-7-25e5-ef44-bfa1-8d12-b6dc-71d9-136d",
     "next": "da270336-a9ff-11ec-aa46-02420a010024-5-df6c-4f50-a679-40ce-27cb",
     "previous": "da2704da-a9ff-11ec-aa46-02420a010024-5-f6b4-4f9c-3d91-0895-7ca5"
    }
   },
   "source": [
    "### UnitGroup の変数の読み込み"
   ]
  },
  {
   "cell_type": "markdown",
   "metadata": {
    "lc_cell_meme": {
     "current": "da270336-a9ff-11ec-aa46-02420a010024-5-df6c-4f50-a679-40ce-27cb",
     "next": "da270408-a9ff-11ec-aa46-02420a010024-5-a497-144e-9204-3169-c680",
     "previous": "da26ffe4-a9ff-11ec-aa46-02420a010024-7-25e5-ef44-bfa1-8d12-b6dc-71d9-136d"
    }
   },
   "source": [
    "UnitGroup の変数を group_vars ファイルから読み込みます。"
   ]
  },
  {
   "cell_type": "code",
   "execution_count": null,
   "metadata": {
    "lc_cell_meme": {
     "current": "da270408-a9ff-11ec-aa46-02420a010024-5-a497-144e-9204-3169-c680",
     "next": "da2704da-a9ff-11ec-aa46-02420a010024-6-f6b4-5c0c-a1aa-b81a-f1a9-6ee9",
     "previous": "da270336-a9ff-11ec-aa46-02420a010024-5-df6c-4f50-a679-40ce-27cb"
    },
    "lc_wrapper": {}
   },
   "outputs": [],
   "source": [
    "%run scripts/group.py\n",
    "gvars = load_group_vars(ugroup_name)"
   ]
  },
  {
   "cell_type": "markdown",
   "metadata": {
    "lc_cell_meme": {
     "current": "da2704da-a9ff-11ec-aa46-02420a010024-6-f6b4-5c0c-a1aa-b81a-f1a9-6ee9",
     "next": "da2705a2-a9ff-11ec-aa46-02420a010024-5-d10a-92b7-1164-4f67-a277",
     "previous": "da270408-a9ff-11ec-aa46-02420a010024-5-a497-144e-9204-3169-c680"
    }
   },
   "source": [
    "### ノードの状態確認"
   ]
  },
  {
   "cell_type": "markdown",
   "metadata": {
    "lc_cell_meme": {
     "current": "da2705a2-a9ff-11ec-aa46-02420a010024-5-d10a-92b7-1164-4f67-a277",
     "next": "da270660-a9ff-11ec-aa46-02420a010024-5-2e43-6eef-c4d8-9c7d-8cc2",
     "previous": "da2704da-a9ff-11ec-aa46-02420a010024-6-f6b4-5c0c-a1aa-b81a-f1a9-6ee9"
    }
   },
   "source": [
    "現在のノードの状態を確認します。"
   ]
  },
  {
   "cell_type": "code",
   "execution_count": null,
   "metadata": {
    "lc_cell_meme": {
     "current": "da270660-a9ff-11ec-aa46-02420a010024-5-2e43-6eef-c4d8-9c7d-8cc2",
     "next": "da270732-a9ff-11ec-aa46-02420a010024-5-e8f9-808d-bc7f-aa0b-caed",
     "previous": "da2705a2-a9ff-11ec-aa46-02420a010024-5-d10a-92b7-1164-4f67-a277"
    },
    "lc_wrapper": {}
   },
   "outputs": [],
   "source": [
    "ug = vcp.get_ugroup(ugroup_name)\n",
    "ug.df_nodes()"
   ]
  },
  {
   "cell_type": "markdown",
   "metadata": {
    "lc_cell_meme": {
     "current": "da270732-a9ff-11ec-aa46-02420a010024-5-e8f9-808d-bc7f-aa0b-caed",
     "next": "da270732-a9ff-11ec-aa46-02420a010024-6-e8f9-808d-0b77-fb8e-b738-5d0c",
     "previous": "da270660-a9ff-11ec-aa46-02420a010024-5-2e43-6eef-c4d8-9c7d-8cc2"
    }
   },
   "source": [
    "### 計算ノードの停止"
   ]
  },
  {
   "cell_type": "markdown",
   "metadata": {
    "lc_cell_meme": {
     "current": "da270732-a9ff-11ec-aa46-02420a010024-6-e8f9-808d-0b77-fb8e-b738-5d0c",
     "next": "da270822-a9ff-11ec-aa46-02420a010024-5-0cfb-ffdd-ae8d-83a3-daee",
     "previous": "da270732-a9ff-11ec-aa46-02420a010024-5-e8f9-808d-bc7f-aa0b-caed"
    }
   },
   "source": [
    "全ての計算ノードを停止します。"
   ]
  },
  {
   "cell_type": "code",
   "execution_count": null,
   "metadata": {
    "lc_cell_meme": {
     "current": "da270822-a9ff-11ec-aa46-02420a010024-5-0cfb-ffdd-ae8d-83a3-daee",
     "next": "da270ab6-a9ff-11ec-aa46-02420a010024-5-153a-5b87-5f5d-9c32-3fe2",
     "previous": "da270732-a9ff-11ec-aa46-02420a010024-6-e8f9-808d-0b77-fb8e-b738-5d0c"
    },
    "lc_wrapper": {}
   },
   "outputs": [],
   "source": [
    "# ★★★ 計算ノード停止：停止確認自動化のためオリジナルを改造 ★★★\n",
    "unit_compute = ug.get_unit('compute')\n",
    "unit_compute.power_off_nodes(num_power_off_nodes=gvars['compute_nodes'])\n",
    "\n",
    "# unit_compute = ug.get_unit('compute')\n",
    "unit_compute.df_nodes()\n",
    "if any([node.state != 'POWER_OFF' for node in unit_compute.find_nodes()]):\n",
    "    raise RuntimeError('ERROR: cannot power off')"
   ]
  },
  {
   "cell_type": "markdown",
   "metadata": {
    "lc_cell_meme": {
     "current": "da270ab6-a9ff-11ec-aa46-02420a010024-5-153a-5b87-5f5d-9c32-3fe2",
     "next": "da270ab6-a9ff-11ec-aa46-02420a010024-6-153a-5b87-6d2c-fc8c-8ba3-5f0f",
     "previous": "da270822-a9ff-11ec-aa46-02420a010024-5-0cfb-ffdd-ae8d-83a3-daee"
    }
   },
   "source": [
    "### マスターノードの停止"
   ]
  },
  {
   "cell_type": "markdown",
   "metadata": {
    "lc_cell_meme": {
     "current": "da270ab6-a9ff-11ec-aa46-02420a010024-6-153a-5b87-6d2c-fc8c-8ba3-5f0f",
     "next": "da270c50-a9ff-11ec-aa46-02420a010024-5-8bc7-7eec-579b-314c-6e9a",
     "previous": "da270ab6-a9ff-11ec-aa46-02420a010024-5-153a-5b87-5f5d-9c32-3fe2"
    }
   },
   "source": [
    "マスターノードを停止します。\n",
    "> 計算ノードのみを停止したい場合はこの節を実行しないでください。"
   ]
  },
  {
   "cell_type": "code",
   "execution_count": null,
   "metadata": {
    "lc_cell_meme": {
     "current": "da270c50-a9ff-11ec-aa46-02420a010024-5-8bc7-7eec-579b-314c-6e9a",
     "next": null,
     "previous": "da270ab6-a9ff-11ec-aa46-02420a010024-6-153a-5b87-6d2c-fc8c-8ba3-5f0f"
    },
    "lc_wrapper": {}
   },
   "outputs": [],
   "source": [
    "# ★★★ 停止、停止確認の自動化 ★★★\n",
    "unit_master = ug.get_unit('master')\n",
    "unit_master.power_off_nodes()\n",
    "\n",
    "# unit_master = ug.get_unit('master')\n",
    "unit_master.df_nodes()\n",
    "if any([node.state != 'POWER_OFF' for node in unit_master.find_nodes()]):\n",
    "    raise RuntimeError('ERROR: cannot power off')"
   ]
  }
 ],
 "metadata": {
  "kernelspec": {
   "display_name": "Python 3",
   "language": "python",
   "name": "python3"
  },
  "language_info": {
   "file_extension": ".py",
   "mimetype": "text/x-python",
   "name": "python",
   "nbconvert_exporter": "python",
   "pygments_lexer": "ipython3",
   "version": "3.10.4"
  },
  "toc": {
   "base_numbering": 1,
   "nav_menu": {},
   "number_sections": true,
   "sideBar": true,
   "skip_h1_title": true,
   "title_cell": "Table of Contents",
   "title_sidebar": "Contents",
   "toc_cell": false,
   "toc_position": {},
   "toc_section_display": true,
   "toc_window_display": true
  }
 },
 "nbformat": 4,
 "nbformat_minor": 2
}
