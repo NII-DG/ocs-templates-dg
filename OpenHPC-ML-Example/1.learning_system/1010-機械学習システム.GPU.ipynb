{
 "cells": [
  {
   "cell_type": "markdown",
   "metadata": {
    "lc_cell_meme": {
     "current": "d6a796e4-a9ff-11ec-a5a4-02420a010024-8-02f8-a1bd-2d9e-3d28-5dd3-57ad-0612-ef5e",
     "next": "d6a7984c-a9ff-11ec-a5a4-02420a010024-8-9452-e73b-c1c5-233c-60ac-87cc-c505-1575",
     "previous": null
    }
   },
   "source": [
    "# OpenHPC v2 テンプレートによる機械学習システムの構築\n",
    "\n",
    "---"
   ]
  },
  {
   "cell_type": "markdown",
   "metadata": {
    "lc_cell_meme": {
     "current": "d6a7984c-a9ff-11ec-a5a4-02420a010024-8-9452-e73b-c1c5-233c-60ac-87cc-c505-1575",
     "next": "d6a79be4-a9ff-11ec-a5a4-02420a010024-8-cd11-1439-7446-28b4-882a-1261-19aa-d38d",
     "previous": "d6a796e4-a9ff-11ec-a5a4-02420a010024-8-02f8-a1bd-2d9e-3d28-5dd3-57ad-0612-ef5e"
    }
   },
   "source": [
    "## 概要\n",
    "\n",
    "VCP SDKを用いてクラウド上に GPU を持つ仮想サーバを作成し、OpenHPC 環境の構築を行います。仮想サーバでは TensorFlow コンテナを動作させます。\n",
    "\n",
    "![構成](images/ohpc-000.png)"
   ]
  },
  {
   "cell_type": "markdown",
   "metadata": {
    "lc_cell_meme": {
     "current": "d6a79be4-a9ff-11ec-a5a4-02420a010024-8-cd11-1439-7446-28b4-882a-1261-19aa-d38d",
     "next": "d6a79eaa-a9ff-11ec-a5a4-02420a010024-8-6f48-cdb1-8d7c-ab10-030c-0c33-c817-7061",
     "previous": "d6a7984c-a9ff-11ec-a5a4-02420a010024-8-9452-e73b-c1c5-233c-60ac-87cc-c505-1575"
    }
   },
   "source": [
    "## VCP の初期化\n",
    "次のセルを実行すると入力枠が表示されるのでアクセストークンの値を入力してください。"
   ]
  },
  {
   "cell_type": "code",
   "execution_count": null,
   "metadata": {
    "lc_cell_meme": {
     "current": "d6a79eaa-a9ff-11ec-a5a4-02420a010024-8-6f48-cdb1-8d7c-ab10-030c-0c33-c817-7061",
     "next": "d6a79f72-a9ff-11ec-a5a4-02420a010024-8-dce5-a53a-d50b-1688-75b6-5135-6616-1407",
     "previous": "d6a79be4-a9ff-11ec-a5a4-02420a010024-8-cd11-1439-7446-28b4-882a-1261-19aa-d38d"
    },
    "lc_wrapper": {},
    "tags": [
     "vcp:skip",
     "vcp:parameters"
    ]
   },
   "outputs": [],
   "source": [
    "from getpass import getpass\n",
    "vcc_access_token = getpass()"
   ]
  },
  {
   "cell_type": "markdown",
   "metadata": {
    "lc_cell_meme": {
     "current": "d6a79f72-a9ff-11ec-a5a4-02420a010024-8-dce5-a53a-d50b-1688-75b6-5135-6616-1407",
     "next": "d6a7a03a-a9ff-11ec-a5a4-02420a010024-8-e671-7bb0-83f7-1a5c-3ff9-8583-418d-c77e",
     "previous": "d6a79eaa-a9ff-11ec-a5a4-02420a010024-8-6f48-cdb1-8d7c-ab10-030c-0c33-c817-7061"
    }
   },
   "source": [
    "入力されたアクセストークンで VCP を初期化します。"
   ]
  },
  {
   "cell_type": "code",
   "execution_count": null,
   "metadata": {
    "lc_cell_meme": {
     "current": "d6a7a03a-a9ff-11ec-a5a4-02420a010024-8-e671-7bb0-83f7-1a5c-3ff9-8583-418d-c77e",
     "next": "d6a7a134-a9ff-11ec-a5a4-02420a010024-8-2b80-f8b8-16c6-8255-ddea-8bb1-3bef-528c",
     "previous": "d6a79f72-a9ff-11ec-a5a4-02420a010024-8-dce5-a53a-d50b-1688-75b6-5135-6616-1407"
    },
    "lc_wrapper": {},
    "tags": [
     "vcp:rewrite:vcpsdk"
    ]
   },
   "outputs": [],
   "source": [
    "from common import logsetting\n",
    "from vcpsdk.vcpsdk import VcpSDK\n",
    "vcp = VcpSDK(vcc_access_token)"
   ]
  },
  {
   "cell_type": "markdown",
   "metadata": {
    "lc_cell_meme": {
     "current": "d6a7a134-a9ff-11ec-a5a4-02420a010024-8-2b80-f8b8-16c6-8255-ddea-8bb1-3bef-528c",
     "next": "d6a7a210-a9ff-11ec-a5a4-02420a010024-8-d7b2-d666-e6c1-7ebb-20e8-d014-23c8-c8b3",
     "previous": "d6a7a03a-a9ff-11ec-a5a4-02420a010024-8-e671-7bb0-83f7-1a5c-3ff9-8583-418d-c77e"
    }
   },
   "source": [
    "エラーになった場合はこの節のセルを全て `unfreeze` してから、もう一度アクセストークンの入力を行ってください。"
   ]
  },
  {
   "cell_type": "markdown",
   "metadata": {
    "lc_cell_meme": {
     "current": "d6a7a210-a9ff-11ec-a5a4-02420a010024-8-d7b2-d666-e6c1-7ebb-20e8-d014-23c8-c8b3",
     "next": "b9ff2c1a-d0dc-11ec-b26a-0242ac110002-5-4cb9-44db-ff78-bb71-344d",
     "previous": "d6a7a134-a9ff-11ec-a5a4-02420a010024-8-2b80-f8b8-16c6-8255-ddea-8bb1-3bef-528c"
    }
   },
   "source": [
    "## パラメータ設定（based on 010-パラメータ設定.ipynb）"
   ]
  },
  {
   "cell_type": "markdown",
   "metadata": {
    "lc_cell_meme": {
     "current": "b9ff2c1a-d0dc-11ec-b26a-0242ac110002-5-4cb9-44db-ff78-bb71-344d",
     "next": "d6a7a63e-a9ff-11ec-a5a4-02420a010024-8-9d22-9d6c-8e48-c0e6-63d9-831f-92f7-78cd",
     "previous": "d6a7a210-a9ff-11ec-a5a4-02420a010024-8-d7b2-d666-e6c1-7ebb-20e8-d014-23c8-c8b3"
    }
   },
   "source": [
    "必要に応じパラメータを変更してください。"
   ]
  },
  {
   "cell_type": "code",
   "execution_count": null,
   "metadata": {
    "lc_cell_meme": {
     "current": "d6a7a63e-a9ff-11ec-a5a4-02420a010024-8-9d22-9d6c-8e48-c0e6-63d9-831f-92f7-78cd",
     "next": "222d6de2-b503-11ec-b26a-0242ac110002-7-b495-87d2-1568-2ce2-820b-768d-c77a",
     "previous": "b9ff2c1a-d0dc-11ec-b26a-0242ac110002-5-4cb9-44db-ff78-bb71-344d"
    },
    "lc_wrapper": {},
    "tags": [
     "vcp:skip",
     "vcp:parameters"
    ]
   },
   "outputs": [],
   "source": [
    "# ★★★ VC利用者情報 ★★★★★★★★★★★★★★★★★★★★★★★★★★★★★★★★★★★★★★★★★★★\n",
    "ssh_public_key_path = '~/.ssh/id_rsa.pub'  # VC 利用者：ssh 公開鍵\n",
    "ssh_private_key_path = '~/.ssh/id_rsa'     # VC 利用書：ssh 秘密鍵\n",
    "\n",
    "\n",
    "# ★★★ 資源情報 ★★★★★★★★★★★★★★★★★★★★★★★★★★★★★★★★★★★★★★★★★★★★★\n",
    "# ＝＝＝ プロバイダ ＝＝＝＝＝＝＝＝＝＝＝＝＝＝＝＝＝＝＝＝\n",
    "vc_provider = 'aws'                        # 利用プロバイダ\n",
    "\n",
    "# ＝＝＝ UnitGroup 名 ＝＝＝＝＝＝＝＝＝＝＝＝＝＝＝＝＝＝\n",
    "ugroup_name = 'TFclusterGPU'\n",
    "\n",
    "# ＝＝＝ 計算ノード ＝＝＝＝＝＝＝＝＝＝＝＝＝＝＝＝＝＝＝＝\n",
    "compute_flavor = 'gpu'                     # 資源タイプ：flavor で指定する場合\n",
    "compute_instance_type = 'g3s.xlarge'       # 資源タイプ：具体的なインスタンス名で指定する場合\n",
    "compute_nodes = 1                          # 計算ノード数\n",
    "compute_root_size = 32                     # 計算ノードの root ディスクサイズ(GB、32GB 以上)\n",
    "compute_use_gpu = True                     # True: GPU 使用、False: GPU 不使用\n",
    "c_hostname_prefix = 'c'                    # 計算ノードのホスト名のプレフィックス\n",
    "c_ip_address = '172.30.2.121'              # 計算ノード群の先頭の IP アドレス（他の資源とアドレスが重ならないこと、計算ノード数分の連番が必要）\n",
    "\n",
    "# ＝＝＝ マスターノード ＝＝＝＝＝＝＝＝＝＝＝＝＝＝＝＝＝＝\n",
    "master_flavor = 'small'                    # 資源タイプ：flavor で指定する場合\n",
    "# master_instance_type = 'インスタンス名'     # 資源タイプ：具体的なインスタンス名で指定する場合\n",
    "master_root_size = 60                      # マスターノードの root ディスクサイズ(GB、60GB 以上))\n",
    "master_hostname = 'master'                 # マスターノードのホスト名\n",
    "master_ipaddress = '172.30.2.120'          # マスターノードの IP アドレス（他の資源とアドレスが重ならないこと）\n",
    " \n",
    "# ＝＝＝ NFS 用ディスク（マスターノードに接続） ＝＝＝＝＝＝ ※ NFS ディスクを作成しない場合は nfs_disk_size をコメントにしてください\n",
    "nfs_disk_size = 64                         # NFS 用ディスクのサイズ(GB、16GB 以上）\n",
    "nfs_device = '/dev/xvdf'                   # デバイス名\n",
    "\n",
    "\n",
    "# ★★★ OpenHPC 環境情報 ★★★★★★★★★★★★★★★★★★★★★★★★★★★★★★★★★★★★★★★★\n",
    "# ＝＝＝ ユーザ情報（別テンプレートで追加・削除可能） ＝＝＝\n",
    "ohpc_user = 'user00'                       # OpenHPC 環境ユーザ\n",
    "ohpc_user_pubkey = '~/.ssh/id_rsa.pub'     # OpenHPC user: ssh 公開鍵\n",
    "ohpc_user_prvkey = '~/.ssh/id_rsa'         # OpenHPC user: ssh 秘密鍵"
   ]
  },
  {
   "cell_type": "markdown",
   "metadata": {
    "lc_cell_meme": {
     "current": "222d6de2-b503-11ec-b26a-0242ac110002-7-b495-87d2-1568-2ce2-820b-768d-c77a",
     "next": "cf5a1d8e-b504-11ec-b26a-0242ac110002-7-ba44-eac9-6722-11fd-d398-e863-618e",
     "previous": "d6a7a63e-a9ff-11ec-a5a4-02420a010024-8-9d22-9d6c-8e48-c0e6-63d9-831f-92f7-78cd"
    }
   },
   "source": [
    "### ユーザー設定パラメータの値のヒント表示（必要に応じて実行してください）"
   ]
  },
  {
   "cell_type": "markdown",
   "metadata": {
    "lc_cell_meme": {
     "current": "cf5a1d8e-b504-11ec-b26a-0242ac110002-7-ba44-eac9-6722-11fd-d398-e863-618e",
     "next": "222d6fae-b503-11ec-b26a-0242ac110002-7-f1b9-a585-7b8c-dde3-6a59-98d2-8602",
     "previous": "222d6de2-b503-11ec-b26a-0242ac110002-7-b495-87d2-1568-2ce2-820b-768d-c77a"
    }
   },
   "source": [
    "UnitGroup 名は、VCP SDKで作成した他の環境と区別するために既存の UnitGroup 名と異なる名前とします。次のセルを実行すると既存の UnitGroup 名が表示されます。"
   ]
  },
  {
   "cell_type": "code",
   "execution_count": null,
   "metadata": {
    "lc_cell_meme": {
     "current": "222d6fae-b503-11ec-b26a-0242ac110002-7-f1b9-a585-7b8c-dde3-6a59-98d2-8602",
     "next": "5e66449e-b505-11ec-b26a-0242ac110002-7-9523-3b01-69fa-9e52-2761-775f-fb38",
     "previous": "cf5a1d8e-b504-11ec-b26a-0242ac110002-7-ba44-eac9-6722-11fd-d398-e863-618e"
    },
    "lc_wrapper": {}
   },
   "outputs": [],
   "source": [
    "vcp.df_ugroups()"
   ]
  },
  {
   "cell_type": "markdown",
   "metadata": {
    "lc_cell_meme": {
     "current": "5e66449e-b505-11ec-b26a-0242ac110002-7-9523-3b01-69fa-9e52-2761-775f-fb38",
     "next": "222d708a-b503-11ec-b26a-0242ac110002-7-20e2-6928-111f-2432-046d-14d0-3a18",
     "previous": "222d6fae-b503-11ec-b26a-0242ac110002-7-f1b9-a585-7b8c-dde3-6a59-98d2-8602"
    }
   },
   "source": [
    "次のセルを実行すると flavor と 上のセルで指定した vc_provider のインスタンス名の対応が表示されます。"
   ]
  },
  {
   "cell_type": "code",
   "execution_count": null,
   "metadata": {
    "lc_cell_meme": {
     "current": "222d708a-b503-11ec-b26a-0242ac110002-7-20e2-6928-111f-2432-046d-14d0-3a18",
     "next": "a5f07852-b505-11ec-b26a-0242ac110002-7-3c72-a5f3-c044-f2ea-d818-9b84-4b7f",
     "previous": "5e66449e-b505-11ec-b26a-0242ac110002-7-9523-3b01-69fa-9e52-2761-775f-fb38"
    },
    "lc_wrapper": {}
   },
   "outputs": [],
   "source": [
    "vcp.df_flavors(vc_provider)            "
   ]
  },
  {
   "cell_type": "markdown",
   "metadata": {
    "lc_cell_meme": {
     "current": "a5f07852-b505-11ec-b26a-0242ac110002-7-3c72-a5f3-c044-f2ea-d818-9b84-4b7f",
     "next": "222d7134-b503-11ec-b26a-0242ac110002-7-0f0b-3c34-a264-0875-6a24-e912-e1d3",
     "previous": "222d708a-b503-11ec-b26a-0242ac110002-7-20e2-6928-111f-2432-046d-14d0-3a18"
    }
   },
   "source": [
    "次のセルを実行すると使用可能な IP アドレスレンジが表示されます。IP アドレスを指定する場合は、重複しないように注意してください。"
   ]
  },
  {
   "cell_type": "code",
   "execution_count": null,
   "metadata": {
    "lc_cell_meme": {
     "current": "222d7134-b503-11ec-b26a-0242ac110002-7-0f0b-3c34-a264-0875-6a24-e912-e1d3",
     "next": "098d9a22-b4a0-11ec-b26a-0242ac110002-7-2115-3350-c81d-3988-c6ae-3eb9-17ee",
     "previous": "a5f07852-b505-11ec-b26a-0242ac110002-7-3c72-a5f3-c044-f2ea-d818-9b84-4b7f"
    },
    "lc_wrapper": {}
   },
   "outputs": [],
   "source": [
    "print(vcp.get_vpn_catalog(vc_provider).get('private_network_ipmask'))  # IP アドレスレンジ"
   ]
  },
  {
   "cell_type": "markdown",
   "metadata": {
    "lc_cell_meme": {
     "current": "098d9a22-b4a0-11ec-b26a-0242ac110002-7-2115-3350-c81d-3988-c6ae-3eb9-17ee",
     "next": "098d9a22-b4a0-11ec-b26a-0242ac110002-8-2115-69bf-c69e-360f-7574-3ef8-8103-15c3",
     "previous": "222d7134-b503-11ec-b26a-0242ac110002-7-0f0b-3c34-a264-0875-6a24-e912-e1d3"
    }
   },
   "source": [
    "## 構築"
   ]
  },
  {
   "cell_type": "markdown",
   "metadata": {
    "lc_cell_meme": {
     "current": "098d9a22-b4a0-11ec-b26a-0242ac110002-8-2115-69bf-c69e-360f-7574-3ef8-8103-15c3",
     "next": "c1a08cd8-b571-11ec-b26a-0242ac110002-8-35ba-c4f2-8618-a254-fa89-d8fe-f08a-3719",
     "previous": "098d9a22-b4a0-11ec-b26a-0242ac110002-7-2115-3350-c81d-3988-c6ae-3eb9-17ee"
    }
   },
   "source": [
    "### 準備"
   ]
  },
  {
   "cell_type": "markdown",
   "metadata": {
    "lc_cell_meme": {
     "current": "c1a08cd8-b571-11ec-b26a-0242ac110002-8-35ba-c4f2-8618-a254-fa89-d8fe-f08a-3719",
     "next": "0e15cbc8-b982-11ec-b26a-0242ac110002-7-e31d-4c14-2014-0688-1a29-c939-ad9c",
     "previous": "098d9a22-b4a0-11ec-b26a-0242ac110002-8-2115-69bf-c69e-360f-7574-3ef8-8103-15c3"
    }
   },
   "source": [
    "内部パラメータの設定や編集を行い、関連 notebook と共有するために groups_vars フォルダに保存します。ファイル名は {UnitGroup名}.yml です。\n",
    "\n",
    "構築開始日時"
   ]
  },
  {
   "cell_type": "code",
   "execution_count": null,
   "metadata": {
    "lc_cell_meme": {
     "current": "0e15cbc8-b982-11ec-b26a-0242ac110002-7-e31d-4c14-2014-0688-1a29-c939-ad9c",
     "next": "6db2dca8-b49e-11ec-b26a-0242ac110002-8-73a7-6d71-ac01-a894-b40c-0d6b-d8ce-979e",
     "previous": "c1a08cd8-b571-11ec-b26a-0242ac110002-8-35ba-c4f2-8618-a254-fa89-d8fe-f08a-3719"
    },
    "lc_wrapper": {}
   },
   "outputs": [],
   "source": [
    "!date"
   ]
  },
  {
   "cell_type": "markdown",
   "metadata": {
    "lc_cell_meme": {
     "current": "6db2dca8-b49e-11ec-b26a-0242ac110002-8-73a7-6d71-ac01-a894-b40c-0d6b-d8ce-979e",
     "next": "098d9cca-b4a0-11ec-b26a-0242ac110002-7-2e39-4974-ffaa-835c-4842-42c6-c608",
     "previous": "0e15cbc8-b982-11ec-b26a-0242ac110002-7-e31d-4c14-2014-0688-1a29-c939-ad9c"
    }
   },
   "source": [
    "#### 計算ノード hosts 情報作成（based on 010-パラメータ設定.ipynb）"
   ]
  },
  {
   "cell_type": "markdown",
   "metadata": {
    "lc_cell_meme": {
     "current": "098d9cca-b4a0-11ec-b26a-0242ac110002-7-2e39-4974-ffaa-835c-4842-42c6-c608",
     "next": "d6a7ea72-a9ff-11ec-a5a4-02420a010024-8-d8c8-747b-5d2d-8542-4117-e0c9-a03e-8225",
     "previous": "6db2dca8-b49e-11ec-b26a-0242ac110002-8-73a7-6d71-ac01-a894-b40c-0d6b-d8ce-979e"
    }
   },
   "source": [
    "計算ノードのIPアドレスとホスト名のdict型変数を作成します。"
   ]
  },
  {
   "cell_type": "code",
   "execution_count": null,
   "metadata": {
    "lc_cell_meme": {
     "current": "d6a7ea72-a9ff-11ec-a5a4-02420a010024-8-d8c8-747b-5d2d-8542-4117-e0c9-a03e-8225",
     "next": "d6a7f1f2-a9ff-11ec-a5a4-02420a010024-8-1782-f4ed-f891-3894-e836-6b43-4139-24e4",
     "previous": "098d9cca-b4a0-11ec-b26a-0242ac110002-7-2e39-4974-ffaa-835c-4842-42c6-c608"
    },
    "lc_wrapper": {}
   },
   "outputs": [],
   "source": [
    "import ipaddress\n",
    "\n",
    "c_addr = ipaddress.ip_address(c_ip_address)\n",
    "compute_etc_hosts = dict([\n",
    "    (f'{c_addr + x}', f'{c_hostname_prefix}{x + 1}')\n",
    "    for x in range(compute_nodes)   \n",
    "])\n",
    "\n",
    "import json\n",
    "print(json.dumps(compute_etc_hosts, indent=2))"
   ]
  },
  {
   "cell_type": "markdown",
   "metadata": {
    "lc_cell_meme": {
     "current": "d6a7f1f2-a9ff-11ec-a5a4-02420a010024-8-1782-f4ed-f891-3894-e836-6b43-4139-24e4",
     "next": "1477624e-b570-11ec-b26a-0242ac110002-7-a92c-bfc8-ce16-0cb9-7058-598d-f0ca",
     "previous": "d6a7ea72-a9ff-11ec-a5a4-02420a010024-8-d8c8-747b-5d2d-8542-4117-e0c9-a03e-8225"
    }
   },
   "source": [
    "#### Slurm パラメータ作成（based on 010-パラメータ設定.ipynb）"
   ]
  },
  {
   "cell_type": "markdown",
   "metadata": {
    "lc_cell_meme": {
     "current": "1477624e-b570-11ec-b26a-0242ac110002-7-a92c-bfc8-ce16-0cb9-7058-598d-f0ca",
     "next": "d6a7f2ce-a9ff-11ec-a5a4-02420a010024-8-8fbc-778a-bffb-ae2e-a3ac-8a8b-66aa-33e8",
     "previous": "d6a7f1f2-a9ff-11ec-a5a4-02420a010024-8-1782-f4ed-f891-3894-e836-6b43-4139-24e4"
    }
   },
   "source": [
    "Slurmに関連するパラメータを指定します。\n",
    "\n",
    "![etc_hosts](images/ohpc-006.png)"
   ]
  },
  {
   "cell_type": "markdown",
   "metadata": {
    "lc_cell_meme": {
     "current": "d6a7f2ce-a9ff-11ec-a5a4-02420a010024-8-8fbc-778a-bffb-ae2e-a3ac-8a8b-66aa-33e8",
     "next": "f878bd24-b4a0-11ec-b26a-0242ac110002-7-2242-ebf9-b02c-6707-2d60-34de-d10b",
     "previous": "1477624e-b570-11ec-b26a-0242ac110002-7-a92c-bfc8-ce16-0cb9-7058-598d-f0ca"
    }
   },
   "source": [
    "=== munge.key =====================================================================================================\n",
    "\n",
    "MUNGEはHPCクラスタ環境のための認証サービスです。この節ではSLURMがコンポーネント間の認証に利用するMUNGEの鍵ファイルmunge.keyを作成します。\n",
    "\n",
    "munge.key に書き込む内容を乱数から生成します。"
   ]
  },
  {
   "cell_type": "code",
   "execution_count": null,
   "metadata": {
    "lc_cell_meme": {
     "current": "f878bd24-b4a0-11ec-b26a-0242ac110002-7-2242-ebf9-b02c-6707-2d60-34de-d10b",
     "next": "f878bf54-b4a0-11ec-b26a-0242ac110002-7-af1c-5096-f1b0-ce4f-d194-64fe-7e59",
     "previous": "d6a7f2ce-a9ff-11ec-a5a4-02420a010024-8-8fbc-778a-bffb-ae2e-a3ac-8a8b-66aa-33e8"
    },
    "lc_wrapper": {}
   },
   "outputs": [],
   "source": [
    "import secrets\n",
    "\n",
    "munge_key = secrets.token_bytes(1024)"
   ]
  },
  {
   "cell_type": "markdown",
   "metadata": {
    "lc_cell_meme": {
     "current": "f878bf54-b4a0-11ec-b26a-0242ac110002-7-af1c-5096-f1b0-ce4f-d194-64fe-7e59",
     "next": "f878c03a-b4a0-11ec-b26a-0242ac110002-7-3f7c-b6f6-f5af-8173-36c9-8079-b4d3",
     "previous": "f878bd24-b4a0-11ec-b26a-0242ac110002-7-2242-ebf9-b02c-6707-2d60-34de-d10b"
    }
   },
   "source": [
    "`munge.key` の内容は秘匿情報になるので、`group_vars`ファイルではなく VC Controller の HashiCorp Vault に保存します。\n",
    "HashiCorp Vault は秘密情報を保存するための Key Valueストアです。保持する情報は暗号化されます。\n",
    "\n",
    "\n",
    "HashiCorp Valutのなかの記録場所となるパスを次のセルで指定します。"
   ]
  },
  {
   "cell_type": "code",
   "execution_count": null,
   "metadata": {
    "lc_cell_meme": {
     "current": "f878c03a-b4a0-11ec-b26a-0242ac110002-7-3f7c-b6f6-f5af-8173-36c9-8079-b4d3",
     "next": "d6a7f706-a9ff-11ec-a5a4-02420a010024-8-bd35-9e2a-888c-4425-6b3a-1e5e-685b-8f8a",
     "previous": "f878bf54-b4a0-11ec-b26a-0242ac110002-7-af1c-5096-f1b0-ce4f-d194-64fe-7e59"
    },
    "lc_wrapper": {}
   },
   "outputs": [],
   "source": [
    "vault_path_munge_key = f'cubbyhole/OpenHPC/{ugroup_name}/munge.key'\n",
    "print(vault_path_munge_key)"
   ]
  },
  {
   "cell_type": "markdown",
   "metadata": {
    "lc_cell_meme": {
     "current": "d6a7f706-a9ff-11ec-a5a4-02420a010024-8-bd35-9e2a-888c-4425-6b3a-1e5e-685b-8f8a",
     "next": "87860a4e-b4a1-11ec-b26a-0242ac110002-7-affd-1833-cc77-52fc-0787-fcbe-9113",
     "previous": "f878c03a-b4a0-11ec-b26a-0242ac110002-7-3f7c-b6f6-f5af-8173-36c9-8079-b4d3"
    }
   },
   "source": [
    "=== slurm.conf ====================================================================================================\n",
    "\n",
    "`slurm.conf` に登録する計算ノードのホスト名を指定します。\n",
    "\n",
    "計算ノードとして利用するホスト名を `slurm.conf` に登録する必要があります。\n",
    "次のセルを実行すると「[5.2  計算ノードのIPアドレスとホスト名](#計算ノードのIPアドレスとホスト名)」で指定した値に従い、`NodeName` の値を設定します。\n",
    "\n",
    "> ただしIPアドレスに任意の値を指定した場合は、次のセルを実行するとエラーとなることがあります。その場合、指定したホスト名に合わせて設定を行ってください。"
   ]
  },
  {
   "cell_type": "code",
   "execution_count": null,
   "metadata": {
    "lc_cell_meme": {
     "current": "87860a4e-b4a1-11ec-b26a-0242ac110002-7-affd-1833-cc77-52fc-0787-fcbe-9113",
     "next": "87860c38-b4a1-11ec-b26a-0242ac110002-8-5adb-6ab1-82b5-ee6f-3c03-6fe6-756a-4552",
     "previous": "d6a7f706-a9ff-11ec-a5a4-02420a010024-8-bd35-9e2a-888c-4425-6b3a-1e5e-685b-8f8a"
    },
    "lc_wrapper": {}
   },
   "outputs": [],
   "source": [
    "slurm_conf = {\n",
    "    'NodeName': f'{c_hostname_prefix}[1-{compute_nodes}]' if compute_nodes > 1 else f'{c_hostname_prefix}1',\n",
    "}"
   ]
  },
  {
   "cell_type": "markdown",
   "metadata": {
    "lc_cell_meme": {
     "current": "87860c38-b4a1-11ec-b26a-0242ac110002-8-5adb-6ab1-82b5-ee6f-3c03-6fe6-756a-4552",
     "next": "87860d14-b4a1-11ec-b26a-0242ac110002-7-0f19-e036-a234-82e6-84aa-2cc9-149d",
     "previous": "87860a4e-b4a1-11ec-b26a-0242ac110002-7-affd-1833-cc77-52fc-0787-fcbe-9113"
    }
   },
   "source": [
    "`slurm_conf`に設定した値を確認します。"
   ]
  },
  {
   "cell_type": "code",
   "execution_count": null,
   "metadata": {
    "lc_cell_meme": {
     "current": "87860d14-b4a1-11ec-b26a-0242ac110002-7-0f19-e036-a234-82e6-84aa-2cc9-149d",
     "next": "d6a7a710-a9ff-11ec-a5a4-02420a010024-8-3e52-9345-662e-55ce-3edb-31a0-a7f4-e370",
     "previous": "87860c38-b4a1-11ec-b26a-0242ac110002-8-5adb-6ab1-82b5-ee6f-3c03-6fe6-756a-4552"
    },
    "lc_wrapper": {}
   },
   "outputs": [],
   "source": [
    "import json\n",
    "print(json.dumps(slurm_conf, indent=2))"
   ]
  },
  {
   "cell_type": "markdown",
   "metadata": {
    "lc_cell_meme": {
     "current": "d6a7a710-a9ff-11ec-a5a4-02420a010024-8-3e52-9345-662e-55ce-3edb-31a0-a7f4-e370",
     "next": "d6a7fcba-a9ff-11ec-a5a4-02420a010024-8-bd08-0770-0590-1994-e390-75fc-5e8d-90e7",
     "previous": "87860d14-b4a1-11ec-b26a-0242ac110002-7-0f19-e036-a234-82e6-84aa-2cc9-149d"
    }
   },
   "source": [
    "#### パラメータの保存（based on 010-パラメータ設定.ipynb）"
   ]
  },
  {
   "cell_type": "markdown",
   "metadata": {
    "lc_cell_meme": {
     "current": "d6a7fcba-a9ff-11ec-a5a4-02420a010024-8-bd08-0770-0590-1994-e390-75fc-5e8d-90e7",
     "next": "d6a7fd96-a9ff-11ec-a5a4-02420a010024-8-7e16-2136-01c9-0637-eacc-bacb-11d4-3685",
     "previous": "d6a7a710-a9ff-11ec-a5a4-02420a010024-8-3e52-9345-662e-55ce-3edb-31a0-a7f4-e370"
    }
   },
   "source": [
    "=== munge.key の保存 ===============================================================================================\n",
    "\n",
    "`munge.key`は秘匿情報のため、暗号化され記録される HashiCorp Vaultに保存します。\n",
    "\n",
    "> 保存に成功すると `<Response [204]>` と表示されます。"
   ]
  },
  {
   "cell_type": "code",
   "execution_count": null,
   "metadata": {
    "lc_cell_meme": {
     "current": "d6a7fd96-a9ff-11ec-a5a4-02420a010024-8-7e16-2136-01c9-0637-eacc-bacb-11d4-3685",
     "next": "d6a7a7d8-a9ff-11ec-a5a4-02420a010024-8-35c3-8fbd-386b-4131-12be-1f56-5a21-aec7",
     "previous": "d6a7fcba-a9ff-11ec-a5a4-02420a010024-8-bd08-0770-0590-1994-e390-75fc-5e8d-90e7"
    },
    "lc_wrapper": {}
   },
   "outputs": [],
   "source": [
    "import requests\n",
    "import base64\n",
    "\n",
    "payload = {\n",
    "    'munge.key': base64.b64encode(munge_key).decode('UTF-8'),\n",
    "}\n",
    "\n",
    "vault_url = f'{vcp.vcc_info()[\"vault_url\"]}/v1/{vault_path_munge_key}'\n",
    "\n",
    "custom_headers = {\n",
    "    'X-Vault-Token': vcc_access_token,\n",
    "}\n",
    "\n",
    "r = requests.post(vault_url, headers=custom_headers, json=payload)\n",
    "r"
   ]
  },
  {
   "cell_type": "markdown",
   "metadata": {
    "lc_cell_meme": {
     "current": "d6a7a7d8-a9ff-11ec-a5a4-02420a010024-8-35c3-8fbd-386b-4131-12be-1f56-5a21-aec7",
     "next": "cc9288c8-b55b-11ec-b26a-0242ac110002-7-a813-421d-ac49-b27a-8479-b534-b9cd",
     "previous": "d6a7fd96-a9ff-11ec-a5a4-02420a010024-8-7e16-2136-01c9-0637-eacc-bacb-11d4-3685"
    }
   },
   "source": [
    "=== その他のパラメータの保存 ==========================================================================================\n",
    "\n",
    "後の手順でVCノードに対する操作を、構成管理ツールの[Ansible](https://www.ansible.com/)で行います。そこで、パラメータの保存形式は `Ansible` のフォーマットに従うことにします。Ansible では `group_vars/`というディレクトリに YAML フォーマットのファイルを配置すると、そのファイルに記録されている値を変数として利用することができます。このNotebookでは `group_vars/` にあるファイルを `group_vars ファイル`と呼ぶことにします。\n",
    "\n",
    "値の保存を行う前に、入力されたパラメータに対して簡易なチェックを行います。エラーになった場合はその後に表示される指示に従ってください。\n",
    "\n",
    "> IPアドレスに到達可能なものがあるかをチェックするので、ある程度時間が掛かります。"
   ]
  },
  {
   "cell_type": "code",
   "execution_count": null,
   "metadata": {
    "lc_cell_meme": {
     "current": "cc9288c8-b55b-11ec-b26a-0242ac110002-7-a813-421d-ac49-b27a-8479-b534-b9cd",
     "next": "d6a7aa6c-a9ff-11ec-a5a4-02420a010024-8-bbfd-bfd6-2c4c-26a5-20b4-75da-b742-c019",
     "previous": "d6a7a7d8-a9ff-11ec-a5a4-02420a010024-8-35c3-8fbd-386b-4131-12be-1f56-5a21-aec7"
    },
    "lc_wrapper": {}
   },
   "outputs": [],
   "source": [
    "%run scripts/utils_addition.py\n",
    "from pathlib import Path\n",
    "\n",
    "if 'nfs_disk_size' in vars():\n",
    "    check_parameters(\n",
    "        _params=dict(vc_provider=vc_provider),\n",
    "        nfs_disk_size=nfs_disk_size,\n",
    "        nfs_device=nfs_device,\n",
    "    )\n",
    "\n",
    "check_parameters(\n",
    "    _params=dict(\n",
    "        vcp=vcp,\n",
    "        vc_provider=vc_provider,\n",
    "        compute_nodes=compute_nodes,\n",
    "        nfs_disk_size=nfs_disk_size if 'nfs_disk_size' in vars() else 0,\n",
    "    ),\n",
    "    vc_provider=vc_provider,\n",
    "    ugroup_name=ugroup_name,\n",
    "    compute_flavor=compute_flavor,\n",
    "    compute_nodes=compute_nodes,\n",
    "    compute_etc_hosts=compute_etc_hosts,\n",
    "    c_ip_address=c_ip_address,\n",
    "    master_flavor=master_flavor,\n",
    "    master_root_size=master_root_size,\n",
    "    master_hostname=master_hostname,\n",
    "    master_ipaddress=master_ipaddress,\n",
    "    ssh_public_key_path=str(Path(ssh_public_key_path).expanduser()),\n",
    "    ssh_private_key_path=str(Path(ssh_private_key_path).expanduser()),\n",
    "    ohpc_user_pubkey=str(Path(ohpc_user_pubkey).expanduser()),\n",
    "    ohpc_user_prvkey=str(Path(ohpc_user_prvkey).expanduser()),\n",
    ")"
   ]
  },
  {
   "cell_type": "markdown",
   "metadata": {
    "lc_cell_meme": {
     "current": "d6a7aa6c-a9ff-11ec-a5a4-02420a010024-8-bbfd-bfd6-2c4c-26a5-20b4-75da-b742-c019",
     "next": "57dac204-b563-11ec-b26a-0242ac110002-7-d07f-e9ab-1b8d-9531-9c3a-9757-50c5",
     "previous": "cc9288c8-b55b-11ec-b26a-0242ac110002-7-a813-421d-ac49-b27a-8479-b534-b9cd"
    }
   },
   "source": [
    "次のセルを実行すると、この章で指定したパラメータが group_vars ファイルに保存されます。\n",
    "\n",
    "> YAMLフォーマットでファイルに値を保存するために、事前に作成した Python のスクリプト `scripts/group.py` を利用しています。"
   ]
  },
  {
   "cell_type": "code",
   "execution_count": null,
   "metadata": {
    "lc_cell_meme": {
     "current": "57dac204-b563-11ec-b26a-0242ac110002-7-d07f-e9ab-1b8d-9531-9c3a-9757-50c5",
     "next": "d6a801ce-a9ff-11ec-a5a4-02420a010024-8-c408-976b-0bfc-8d99-b25d-aeda-bddc-d486",
     "previous": "d6a7aa6c-a9ff-11ec-a5a4-02420a010024-8-bbfd-bfd6-2c4c-26a5-20b4-75da-b742-c019"
    },
    "lc_wrapper": {}
   },
   "outputs": [],
   "source": [
    "%run scripts/group.py\n",
    "from pathlib import Path\n",
    "\n",
    "update_group_vars(\n",
    "    ugroup_name,\n",
    "    ugroup_name=ugroup_name,\n",
    "    vc_provider=vc_provider,\n",
    "    compute_flavor=compute_flavor,\n",
    "    compute_nodes=compute_nodes,\n",
    "    compute_etc_hosts=compute_etc_hosts,\n",
    "    compute_use_gpu=compute_use_gpu,\n",
    "    c_ip_address=c_ip_address,\n",
    "    master_flavor=master_flavor,\n",
    "    master_root_size=master_root_size,\n",
    "    master_hostname=master_hostname,\n",
    "    master_ipaddress=master_ipaddress,\n",
    "    ssh_public_key_path=str(Path(ssh_public_key_path).expanduser()),\n",
    "    ssh_private_key_path=str(Path(ssh_private_key_path).expanduser()),\n",
    "    ohpc_user=ohpc_user,\n",
    "    ohpc_user_pubkey=str(Path(ohpc_user_pubkey).expanduser()),\n",
    "    ohpc_user_prvkey=str(Path(ohpc_user_prvkey).expanduser()),\n",
    "    vault_path_munge_key=vault_path_munge_key,\n",
    "    slurm_conf=slurm_conf,\n",
    ")\n",
    "\n",
    "if 'compute_instance_type' in vars():\n",
    "    update_group_vars(\n",
    "        ugroup_name, \n",
    "        compute_instance_type=compute_instance_type,\n",
    "    )\n",
    "\n",
    "if 'compute_root_size' in vars():\n",
    "    update_group_vars(\n",
    "        ugroup_name, \n",
    "        compute_root_size=compute_root_size,\n",
    "    )\n",
    "    \n",
    "if 'master_instance_type' in vars():\n",
    "    update_group_vars(\n",
    "        ugroup_name, \n",
    "        master_instance_type=master_instance_type,\n",
    "    )\n",
    "\n",
    "if 'nfs_disk_size' in vars():\n",
    "    update_group_vars(\n",
    "        ugroup_name,\n",
    "        nfs_disk_size=nfs_disk_size,\n",
    "        nfs_device=nfs_device,\n",
    "    )\n"
   ]
  },
  {
   "cell_type": "markdown",
   "metadata": {
    "lc_cell_meme": {
     "current": "d6a801ce-a9ff-11ec-a5a4-02420a010024-8-c408-976b-0bfc-8d99-b25d-aeda-bddc-d486",
     "next": "d6a80106-a9ff-11ec-a5a4-02420a010024-9-d7af-9bec-68e7-cdff-2470-6154-d5f5-5d83-abaa",
     "previous": "57dac204-b563-11ec-b26a-0242ac110002-7-d07f-e9ab-1b8d-9531-9c3a-9757-50c5"
    }
   },
   "source": [
    "=== 保存結果の確認 ==================================================================================================\n",
    "\n",
    "保存した設定を表示します。確認してください。"
   ]
  },
  {
   "cell_type": "code",
   "execution_count": null,
   "metadata": {
    "lc_cell_meme": {
     "current": "d6a80106-a9ff-11ec-a5a4-02420a010024-9-d7af-9bec-68e7-cdff-2470-6154-d5f5-5d83-abaa",
     "next": "d6a80296-a9ff-11ec-a5a4-02420a010024-8-2297-7f9c-050a-7f75-261f-931d-7005-5b61",
     "previous": "d6a801ce-a9ff-11ec-a5a4-02420a010024-8-c408-976b-0bfc-8d99-b25d-aeda-bddc-d486"
    },
    "lc_wrapper": {},
    "scrolled": true
   },
   "outputs": [],
   "source": [
    "!cat group_vars/{ugroup_name}.yml"
   ]
  },
  {
   "cell_type": "markdown",
   "metadata": {
    "lc_cell_meme": {
     "current": "d6a80296-a9ff-11ec-a5a4-02420a010024-8-2297-7f9c-050a-7f75-261f-931d-7005-5b61",
     "next": "d6a8035e-a9ff-11ec-a5a4-02420a010024-8-dc70-733f-f018-4df3-c9ef-ba1c-8176-a0ac",
     "previous": "d6a80106-a9ff-11ec-a5a4-02420a010024-9-d7af-9bec-68e7-cdff-2470-6154-d5f5-5d83-abaa"
    }
   },
   "source": [
    "=== 必須パラメータの保存チェック ======================================================================================\n",
    "\n",
    "次のセルがエラーになった場合は、必須パラメータが設定されていません。パラメータを確認してください。"
   ]
  },
  {
   "cell_type": "code",
   "execution_count": null,
   "metadata": {
    "lc_cell_meme": {
     "current": "d6a8035e-a9ff-11ec-a5a4-02420a010024-8-dc70-733f-f018-4df3-c9ef-ba1c-8176-a0ac",
     "next": "098d9a22-b4a0-11ec-b26a-0242ac110002-8-5a20-1c04-0a34-fc45-26b0-a8fd-1572-0c86",
     "previous": "d6a80296-a9ff-11ec-a5a4-02420a010024-8-2297-7f9c-050a-7f75-261f-931d-7005-5b61"
    },
    "lc_wrapper": {}
   },
   "outputs": [],
   "source": [
    "%run scripts/group.py\n",
    "gvars = load_group_vars(ugroup_name)\n",
    "require_params = [\n",
    "    'c_ip_address', 'compute_etc_hosts', 'compute_flavor',\n",
    "    'compute_nodes', 'compute_use_gpu', 'master_flavor',\n",
    "    'master_hostname', 'master_ipaddress', 'master_root_size',\n",
    "    'ohpc_user', 'ohpc_user_prvkey', 'ohpc_user_pubkey',\n",
    "    'slurm_conf', 'ssh_private_key_path', 'ssh_public_key_path',\n",
    "    'ugroup_name', 'vault_path_munge_key', 'vc_provider',\n",
    "]\n",
    "\n",
    "for x in require_params:\n",
    "    if x not in gvars:\n",
    "        raise RuntimeError(\"ERROR: not set {}\".format(x))"
   ]
  },
  {
   "cell_type": "markdown",
   "metadata": {
    "lc_cell_meme": {
     "current": "098d9a22-b4a0-11ec-b26a-0242ac110002-8-5a20-1c04-0a34-fc45-26b0-a8fd-1572-0c86",
     "next": "1693d7a2-b4a2-11ec-b26a-0242ac110002-8-73f0-edef-e154-eadd-fcaa-4f4d-4f26-1b39",
     "previous": "d6a8035e-a9ff-11ec-a5a4-02420a010024-8-dc70-733f-f018-4df3-c9ef-ba1c-8176-a0ac"
    }
   },
   "source": [
    "### OpenHPC 環境の構築"
   ]
  },
  {
   "cell_type": "markdown",
   "metadata": {
    "lc_cell_meme": {
     "current": "1693d7a2-b4a2-11ec-b26a-0242ac110002-8-73f0-edef-e154-eadd-fcaa-4f4d-4f26-1b39",
     "next": "1693d7a2-b4a2-11ec-b26a-0242ac110002-9-73f0-8b0f-cf33-537a-e1cf-d454-4dd1-5253-9460",
     "previous": "098d9a22-b4a0-11ec-b26a-0242ac110002-8-5a20-1c04-0a34-fc45-26b0-a8fd-1572-0c86"
    }
   },
   "source": [
    "#### VCディスクの作成（based on 020-OpenHPCの起動.ipynb）"
   ]
  },
  {
   "cell_type": "markdown",
   "metadata": {
    "lc_cell_meme": {
     "current": "1693d7a2-b4a2-11ec-b26a-0242ac110002-9-73f0-8b0f-cf33-537a-e1cf-d454-4dd1-5253-9460",
     "next": "c91eab98-b576-11ec-b26a-0242ac110002-7-7936-9487-20f5-48fc-b591-cda7-0bf8",
     "previous": "1693d7a2-b4a2-11ec-b26a-0242ac110002-8-73f0-edef-e154-eadd-fcaa-4f4d-4f26-1b39"
    }
   },
   "source": [
    "マスターノードのNFSサーバが公開するファイルを配置するためのディスクを作成します。\n",
    "\n",
    "> 「3 パラメータ設定（based on 010-パラメータ設定.ipynb）」でVCディスクを作成しない設定にした場合は、この節を実行してもVCディスクは作成されません。\n",
    "\n",
    "![VCディスク](images/ohpc-007.png)"
   ]
  },
  {
   "cell_type": "markdown",
   "metadata": {
    "lc_cell_meme": {
     "current": "c91eab98-b576-11ec-b26a-0242ac110002-7-7936-9487-20f5-48fc-b591-cda7-0bf8",
     "next": "1693dbbc-b4a2-11ec-b26a-0242ac110002-7-8432-01a8-d320-9ff9-a4e6-05c2-0fb9",
     "previous": "1693d7a2-b4a2-11ec-b26a-0242ac110002-9-73f0-8b0f-cf33-537a-e1cf-d454-4dd1-5253-9460"
    }
   },
   "source": [
    "=== VC ディスクの UnitGroup の作成 ==================================================================================="
   ]
  },
  {
   "cell_type": "code",
   "execution_count": null,
   "metadata": {
    "lc_cell_meme": {
     "current": "1693dbbc-b4a2-11ec-b26a-0242ac110002-7-8432-01a8-d320-9ff9-a4e6-05c2-0fb9",
     "next": "c91eab98-b576-11ec-b26a-0242ac110002-8-9f8a-ad8f-6a09-d1de-3a85-dc2d-3839-c37b",
     "previous": "c91eab98-b576-11ec-b26a-0242ac110002-7-7936-9487-20f5-48fc-b591-cda7-0bf8"
    },
    "lc_wrapper": {}
   },
   "outputs": [],
   "source": [
    "if 'nfs_disk_size' in gvars:\n",
    "    ug_disk = vcp.create_ugroup(f'{ugroup_name}_disk', ugroup_type='storage')"
   ]
  },
  {
   "cell_type": "markdown",
   "metadata": {
    "lc_cell_meme": {
     "current": "c91eab98-b576-11ec-b26a-0242ac110002-8-9f8a-ad8f-6a09-d1de-3a85-dc2d-3839-c37b",
     "next": "1693de3c-b4a2-11ec-b26a-0242ac110002-7-8667-0b7d-1c1f-b230-f5c4-84aa-5c42",
     "previous": "1693dbbc-b4a2-11ec-b26a-0242ac110002-7-8432-01a8-d320-9ff9-a4e6-05c2-0fb9"
    }
   },
   "source": [
    "=== VC ディスクの作成 ==============================================================================================="
   ]
  },
  {
   "cell_type": "code",
   "execution_count": null,
   "metadata": {
    "lc_cell_meme": {
     "current": "1693de3c-b4a2-11ec-b26a-0242ac110002-7-8667-0b7d-1c1f-b230-f5c4-84aa-5c42",
     "next": "1693ded2-b4a2-11ec-b26a-0242ac110002-8-2104-7899-abb3-d8af-4166-0d51-b658-9164",
     "previous": "c91eab98-b576-11ec-b26a-0242ac110002-8-9f8a-ad8f-6a09-d1de-3a85-dc2d-3839-c37b"
    },
    "lc_wrapper": {}
   },
   "outputs": [],
   "source": [
    "if 'nfs_disk_size' in gvars:\n",
    "    provider = gvars['vc_provider']\n",
    "    spec_disk = vcp.get_spec(f'{provider}_disk', 'small')\n",
    "    if gvars['vc_provider'] == 'azure':\n",
    "        spec_disk.disk_size_gb = gvars['nfs_disk_size']\n",
    "    if gvars['vc_provider'] == 'oracle':\n",
    "        spec_disk.size_in_gbs = gvars['nfs_disk_size']\n",
    "    else:\n",
    "        spec_disk.size = gvars['nfs_disk_size']\n",
    "    unit_disk = ug_disk.create_unit('nfs', spec_disk)"
   ]
  },
  {
   "cell_type": "markdown",
   "metadata": {
    "lc_cell_meme": {
     "current": "1693ded2-b4a2-11ec-b26a-0242ac110002-8-2104-7899-abb3-d8af-4166-0d51-b658-9164",
     "next": "1693df72-b4a2-11ec-b26a-0242ac110002-7-afb9-e509-45c2-392b-61e1-9751-ddec",
     "previous": "1693de3c-b4a2-11ec-b26a-0242ac110002-7-8667-0b7d-1c1f-b230-f5c4-84aa-5c42"
    }
   },
   "source": [
    "UnitGroupに作成したVCディスクの一覧を表示します。"
   ]
  },
  {
   "cell_type": "code",
   "execution_count": null,
   "metadata": {
    "lc_cell_meme": {
     "current": "1693df72-b4a2-11ec-b26a-0242ac110002-7-afb9-e509-45c2-392b-61e1-9751-ddec",
     "next": "1693e008-b4a2-11ec-b26a-0242ac110002-8-c894-0bd9-c387-6690-0dad-fb37-f02c-7c69",
     "previous": "1693ded2-b4a2-11ec-b26a-0242ac110002-8-2104-7899-abb3-d8af-4166-0d51-b658-9164"
    },
    "lc_wrapper": {}
   },
   "outputs": [],
   "source": [
    "from IPython.display import display\n",
    "if 'unit_disk' in vars() and unit_disk:\n",
    "    display(unit_disk.df_nodes())"
   ]
  },
  {
   "cell_type": "markdown",
   "metadata": {
    "lc_cell_meme": {
     "current": "1693e008-b4a2-11ec-b26a-0242ac110002-8-c894-0bd9-c387-6690-0dad-fb37-f02c-7c69",
     "next": "1693e008-b4a2-11ec-b26a-0242ac110002-10-c894-563e-4ebd-5605-556f-abbf-0127-d27b-6db8-fd0a",
     "previous": "1693df72-b4a2-11ec-b26a-0242ac110002-7-afb9-e509-45c2-392b-61e1-9751-ddec"
    }
   },
   "source": [
    "#### VCノードの起動（based on 020-OpenHPCの起動.ipynb）"
   ]
  },
  {
   "cell_type": "markdown",
   "metadata": {
    "lc_cell_meme": {
     "current": "1693e008-b4a2-11ec-b26a-0242ac110002-10-c894-563e-4ebd-5605-556f-abbf-0127-d27b-6db8-fd0a",
     "next": "3a0fc5d6-b576-11ec-b26a-0242ac110002-7-c55b-e0a5-8617-26cf-d564-e32b-a454",
     "previous": "1693e008-b4a2-11ec-b26a-0242ac110002-8-c894-0bd9-c387-6690-0dad-fb37-f02c-7c69"
    }
   },
   "source": [
    "マスターノード、計算ノードとして利用するVCノードを起動します。"
   ]
  },
  {
   "cell_type": "markdown",
   "metadata": {
    "lc_cell_meme": {
     "current": "3a0fc5d6-b576-11ec-b26a-0242ac110002-7-c55b-e0a5-8617-26cf-d564-e32b-a454",
     "next": "1693e13e-b4a2-11ec-b26a-0242ac110002-7-adbc-2d94-e09d-a99a-776d-01f0-66ce",
     "previous": "1693e008-b4a2-11ec-b26a-0242ac110002-10-c894-563e-4ebd-5605-556f-abbf-0127-d27b-6db8-fd0a"
    }
   },
   "source": [
    "=== VC ノードの UnitGroup の作成 ===================================================================================="
   ]
  },
  {
   "cell_type": "code",
   "execution_count": null,
   "metadata": {
    "lc_cell_meme": {
     "current": "1693e13e-b4a2-11ec-b26a-0242ac110002-7-adbc-2d94-e09d-a99a-776d-01f0-66ce",
     "next": "819bcd6e-b576-11ec-b26a-0242ac110002-7-0c4c-4c32-5564-4c01-56d7-8d65-a1e1",
     "previous": "3a0fc5d6-b576-11ec-b26a-0242ac110002-7-c55b-e0a5-8617-26cf-d564-e32b-a454"
    },
    "lc_wrapper": {}
   },
   "outputs": [],
   "source": [
    "ug = vcp.create_ugroup(ugroup_name)\n",
    "vcp.df_ugroups()"
   ]
  },
  {
   "cell_type": "markdown",
   "metadata": {
    "lc_cell_meme": {
     "current": "819bcd6e-b576-11ec-b26a-0242ac110002-7-0c4c-4c32-5564-4c01-56d7-8d65-a1e1",
     "next": "53007bc6-b4a4-11ec-b26a-0242ac110002-8-37d2-77fa-f013-f697-5afa-658e-6971-e81b",
     "previous": "1693e13e-b4a2-11ec-b26a-0242ac110002-7-adbc-2d94-e09d-a99a-776d-01f0-66ce"
    }
   },
   "source": [
    "=== マスターノードの起動 ============================================================================================="
   ]
  },
  {
   "cell_type": "markdown",
   "metadata": {
    "lc_cell_meme": {
     "current": "53007bc6-b4a4-11ec-b26a-0242ac110002-8-37d2-77fa-f013-f697-5afa-658e-6971-e81b",
     "next": "adf0fe9c-b4be-11ec-b26a-0242ac110002-7-f419-954a-d083-c559-92a7-81a8-3140",
     "previous": "819bcd6e-b576-11ec-b26a-0242ac110002-7-0c4c-4c32-5564-4c01-56d7-8d65-a1e1"
    }
   },
   "source": [
    "マスターノードとして利用するVCノードを起動します。\n",
    "\n",
    "![マスターノード](images/ohpc-008.png)"
   ]
  },
  {
   "cell_type": "markdown",
   "metadata": {
    "lc_cell_meme": {
     "current": "adf0fe9c-b4be-11ec-b26a-0242ac110002-7-f419-954a-d083-c559-92a7-81a8-3140",
     "next": "53007ebe-b4a4-11ec-b26a-0242ac110002-7-eb4e-9021-01c5-5d53-f855-90c7-4fdb",
     "previous": "53007bc6-b4a4-11ec-b26a-0242ac110002-8-37d2-77fa-f013-f697-5afa-658e-6971-e81b"
    }
   },
   "source": [
    "マスターノード資源の spec の設定"
   ]
  },
  {
   "cell_type": "code",
   "execution_count": null,
   "metadata": {
    "lc_cell_meme": {
     "current": "53007ebe-b4a4-11ec-b26a-0242ac110002-7-eb4e-9021-01c5-5d53-f855-90c7-4fdb",
     "next": "53007f7c-b4a4-11ec-b26a-0242ac110002-8-affc-4e97-2b8f-fb35-46ac-5471-8941-0600",
     "previous": "adf0fe9c-b4be-11ec-b26a-0242ac110002-7-f419-954a-d083-c559-92a7-81a8-3140"
    },
    "lc_wrapper": {}
   },
   "outputs": [],
   "source": [
    "spec_master = vcp.get_spec(gvars['vc_provider'], gvars['master_flavor'])\n",
    "spec_master.image = 'harbor.vcloud.nii.ac.jp/vcp/openhpc:master-2.4'\n",
    "spec_master.params_v = [\n",
    "    '/sys/fs/cgroup:/sys/fs/cgroup:ro',\n",
    "    '/lib/modules:/lib/modules:ro',\n",
    "]\n",
    "spec_master.ip_addresses = [gvars['master_ipaddress']]\n",
    "if 'ug_disk' in vars() and ug_disk:\n",
    "    spec_master.disks = ug_disk.find_nodes()\n",
    "else:\n",
    "    spec_master.params_v.append('/srv/OpenHPC:/exports')\n",
    "if gvars['vc_provider'] == 'aws':\n",
    "    spec_master.volume_size = gvars['master_root_size']\n",
    "    if 'master_instance_type' in gvars:\n",
    "        spec_master.instance_type = gvars['master_instance_type']\n",
    "elif gvars['vc_provider'] == 'azure':\n",
    "    spec_master.disk_size_gb = gvars['master_root_size']\n",
    "    if 'master_instance_type' in gvars:\n",
    "        spec_master.vm_size = gvars['master_instance_type']\n",
    "elif gvars['vc_provider'] == 'oracle':\n",
    "    spec_master.boot_volume_size_in_gbs = gvars['master_root_size']\n",
    "    if 'master_instance_type' in gvars:\n",
    "        spec_master.shape = gvars['master_instance_type']\n",
    "spec_master.set_ssh_pubkey(gvars['ssh_public_key_path'])"
   ]
  },
  {
   "cell_type": "markdown",
   "metadata": {
    "lc_cell_meme": {
     "current": "53007f7c-b4a4-11ec-b26a-0242ac110002-8-affc-4e97-2b8f-fb35-46ac-5471-8941-0600",
     "next": "53008026-b4a4-11ec-b26a-0242ac110002-7-4395-bb17-34bb-c3ad-c089-cb33-2a10",
     "previous": "53007ebe-b4a4-11ec-b26a-0242ac110002-7-eb4e-9021-01c5-5d53-f855-90c7-4fdb"
    }
   },
   "source": [
    "ベースコンテナの環境変数の設定\n",
    "\n",
    "* `SLURM_NODE_PARAMS`\n",
    "    - slurm.conf に追加する計算ノードのパラメータ\n",
    "* `MUNGE_KEY`\n",
    "    - VCノードの `munge.key` の内容\n",
    "* `NFS_DEV`\n",
    "    - NFS用ディスクのデバイス名\n",
    "    \n",
    "さらに各ノードに対応するエントリを `/etc/hosts` に追加するためのパラメータを設定します。\n",
    "> `spec` に設定した値を表示すると、その内容には **秘匿情報** である `munge.key` の内容を含んでいます。扱いには **注意** してください。"
   ]
  },
  {
   "cell_type": "code",
   "execution_count": null,
   "metadata": {
    "lc_cell_meme": {
     "current": "53008026-b4a4-11ec-b26a-0242ac110002-7-4395-bb17-34bb-c3ad-c089-cb33-2a10",
     "next": "530080d0-b4a4-11ec-b26a-0242ac110002-8-26c6-f325-94fe-3e9b-b2f0-4ffd-09a7-4413",
     "previous": "53007f7c-b4a4-11ec-b26a-0242ac110002-8-affc-4e97-2b8f-fb35-46ac-5471-8941-0600"
    },
    "lc_wrapper": {}
   },
   "outputs": [],
   "source": [
    "%run scripts/utils_addition.py\n",
    "\n",
    "spec_master.params_e.extend([\n",
    "    f'SLURM_NODE_PARAMS={spec_env_slurm_conf(gvars)}',\n",
    "    f'MUNGE_KEY={spec_env_munge_key(gvars, vcp, vcc_access_token)}',\n",
    "])\n",
    "if 'nfs_device' in gvars:\n",
    "    spec_master.params_e.append(f'NFS_DEV={gvars[\"nfs_device\"]}')\n",
    "spec_master.hostname = gvars[\"master_hostname\"]\n",
    "spec_master.add_host = spec_add_host_list(gvars)\n",
    "\n",
    "# print(spec_master)"
   ]
  },
  {
   "cell_type": "markdown",
   "metadata": {
    "lc_cell_meme": {
     "current": "530080d0-b4a4-11ec-b26a-0242ac110002-8-26c6-f325-94fe-3e9b-b2f0-4ffd-09a7-4413",
     "next": "5300821a-b4a4-11ec-b26a-0242ac110002-7-3c40-54b8-2630-865b-f2f8-4151-a1b9",
     "previous": "53008026-b4a4-11ec-b26a-0242ac110002-7-4395-bb17-34bb-c3ad-c089-cb33-2a10"
    }
   },
   "source": [
    "VC ノードの起動（AWS の場合、およそ10分かかります）"
   ]
  },
  {
   "cell_type": "code",
   "execution_count": null,
   "metadata": {
    "lc_cell_meme": {
     "current": "5300821a-b4a4-11ec-b26a-0242ac110002-7-3c40-54b8-2630-865b-f2f8-4151-a1b9",
     "next": "530082ba-b4a4-11ec-b26a-0242ac110002-8-7cba-b61c-abe4-40e2-7a60-c380-4f28-533b",
     "previous": "530080d0-b4a4-11ec-b26a-0242ac110002-8-26c6-f325-94fe-3e9b-b2f0-4ffd-09a7-4413"
    },
    "lc_wrapper": {}
   },
   "outputs": [],
   "source": [
    "unit_master = ug.create_unit('master', spec_master)"
   ]
  },
  {
   "cell_type": "markdown",
   "metadata": {
    "lc_cell_meme": {
     "current": "530082ba-b4a4-11ec-b26a-0242ac110002-8-7cba-b61c-abe4-40e2-7a60-c380-4f28-533b",
     "next": "5300835a-b4a4-11ec-b26a-0242ac110002-7-2fbd-4690-1e19-ae77-ab19-c695-006c",
     "previous": "5300821a-b4a4-11ec-b26a-0242ac110002-7-3c40-54b8-2630-865b-f2f8-4151-a1b9"
    }
   },
   "source": [
    "VCノードの状態が `RUNNING` になっていることを確認します。VCノードの起動に失敗して`RUNNING`以外の状態になっている場合、次のセルがエラーとなります。"
   ]
  },
  {
   "cell_type": "code",
   "execution_count": null,
   "metadata": {
    "lc_cell_meme": {
     "current": "5300835a-b4a4-11ec-b26a-0242ac110002-7-2fbd-4690-1e19-ae77-ab19-c695-006c",
     "next": "530083fa-b4a4-11ec-b26a-0242ac110002-8-aaa2-5f6e-6fa9-d102-d0b9-e409-684c-341b",
     "previous": "530082ba-b4a4-11ec-b26a-0242ac110002-8-7cba-b61c-abe4-40e2-7a60-c380-4f28-533b"
    },
    "lc_wrapper": {}
   },
   "outputs": [],
   "source": [
    "rcount = 10             # retry count\n",
    "while True:\n",
    "    # マスターノードの状態取得\n",
    "    unit_master = ug.get_unit('master')\n",
    "    if any([node.state != 'RUNNING' for node in unit_master.find_nodes()]):\n",
    "        !sleep 10\n",
    "        rcount -= 1\n",
    "        if rcount == 0:\n",
    "            unit_master.df_nodes()\n",
    "            raise RuntimeError('Error: cannot restart master node')\n",
    "    else:\n",
    "        break"
   ]
  },
  {
   "cell_type": "markdown",
   "metadata": {
    "lc_cell_meme": {
     "current": "530083fa-b4a4-11ec-b26a-0242ac110002-8-aaa2-5f6e-6fa9-d102-d0b9-e409-684c-341b",
     "next": "5300849a-b4a4-11ec-b26a-0242ac110002-7-0803-edb9-d8db-f733-af82-68fa-a976",
     "previous": "5300835a-b4a4-11ec-b26a-0242ac110002-7-2fbd-4690-1e19-ae77-ab19-c695-006c"
    }
   },
   "source": [
    "`node_state`が`ERROR`となっている場合はノードの起動に失敗しています。`ug.cleanup()` を実行して VCノードを削除してください。その後、エラー原因を解消してから「[VCノードのUnitGroup作成](#VCノードのUnitGroup作成)」以下を `unfreeze` して再実行してください。"
   ]
  },
  {
   "cell_type": "code",
   "execution_count": null,
   "metadata": {
    "lc_cell_meme": {
     "current": "5300849a-b4a4-11ec-b26a-0242ac110002-7-0803-edb9-d8db-f733-af82-68fa-a976",
     "next": "5300853a-b4a4-11ec-b26a-0242ac110002-8-f494-4d2d-f59c-efc4-ca22-cb9c-3b76-d582",
     "previous": "530083fa-b4a4-11ec-b26a-0242ac110002-8-aaa2-5f6e-6fa9-d102-d0b9-e409-684c-341b"
    },
    "lc_wrapper": {}
   },
   "outputs": [],
   "source": [
    "unit_master.df_nodes()"
   ]
  },
  {
   "cell_type": "markdown",
   "metadata": {
    "lc_cell_meme": {
     "current": "5300853a-b4a4-11ec-b26a-0242ac110002-8-f494-4d2d-f59c-efc4-ca22-cb9c-3b76-d582",
     "next": "530085da-b4a4-11ec-b26a-0242ac110002-7-e053-8983-163d-3d78-02f1-4499-f5c9",
     "previous": "5300849a-b4a4-11ec-b26a-0242ac110002-7-0803-edb9-d8db-f733-af82-68fa-a976"
    }
   },
   "source": [
    "=== NFS server の起動確認 =========================================================================================="
   ]
  },
  {
   "cell_type": "code",
   "execution_count": null,
   "metadata": {
    "lc_cell_meme": {
     "current": "530085da-b4a4-11ec-b26a-0242ac110002-7-e053-8983-163d-3d78-02f1-4499-f5c9",
     "next": "530086c0-b4a4-11ec-b26a-0242ac110002-8-e825-aadd-23cc-5c65-de40-d33b-6a6f-bfb7",
     "previous": "5300853a-b4a4-11ec-b26a-0242ac110002-8-f494-4d2d-f59c-efc4-ca22-cb9c-3b76-d582"
    },
    "lc_wrapper": {}
   },
   "outputs": [],
   "source": [
    "addr = gvars['master_ipaddress']\n",
    "ssh_opts = f'-o UserKnownHostsFile=/dev/null -o StrictHostKeyChecking=no -i {gvars[\"ssh_private_key_path\"]}'\n",
    "!ssh-keygen -R {addr}\n",
    "!ssh {ssh_opts} vcp@{addr} systemctl status nfs-server"
   ]
  },
  {
   "cell_type": "markdown",
   "metadata": {
    "lc_cell_meme": {
     "current": "530086c0-b4a4-11ec-b26a-0242ac110002-8-e825-aadd-23cc-5c65-de40-d33b-6a6f-bfb7",
     "next": "5300876a-b4a4-11ec-b26a-0242ac110002-7-e343-71e6-bba0-ee64-496a-5d3a-6333",
     "previous": "530085da-b4a4-11ec-b26a-0242ac110002-7-e053-8983-163d-3d78-02f1-4499-f5c9"
    }
   },
   "source": [
    "エラーになった場合は、起動したVCノードにて `journalctl` などを実行してエラーの原因を確認してください。原因となった事象を解消した後に次のセルのコメントを外してから実行し NFSサーバのサービスを再起動してください。\n",
    "\n",
    "> よくある事例として、起動に時間がかかりタイムアウトすることでNFSサーバが起動しないことがあります。この場合は、単に次のセルのコメントを外してサービスの再起動を行うことで問題が解消します。"
   ]
  },
  {
   "cell_type": "code",
   "execution_count": null,
   "metadata": {
    "lc_cell_meme": {
     "current": "5300876a-b4a4-11ec-b26a-0242ac110002-7-e343-71e6-bba0-ee64-496a-5d3a-6333",
     "next": "5300880a-b4a4-11ec-b26a-0242ac110002-8-27b2-e892-3aa3-3b8a-97d5-0c7a-57e8-39ff",
     "previous": "530086c0-b4a4-11ec-b26a-0242ac110002-8-e825-aadd-23cc-5c65-de40-d33b-6a6f-bfb7"
    },
    "lc_wrapper": {}
   },
   "outputs": [],
   "source": [
    "# !ssh {ssh_opts} vcp@{addr} sudo systemctl restart nfs-server"
   ]
  },
  {
   "cell_type": "markdown",
   "metadata": {
    "lc_cell_meme": {
     "current": "5300880a-b4a4-11ec-b26a-0242ac110002-8-27b2-e892-3aa3-3b8a-97d5-0c7a-57e8-39ff",
     "next": "530088aa-b4a4-11ec-b26a-0242ac110002-7-bdcc-6071-2094-9ac4-6808-5a88-1f46",
     "previous": "5300876a-b4a4-11ec-b26a-0242ac110002-7-e343-71e6-bba0-ee64-496a-5d3a-6333"
    }
   },
   "source": [
    "サービスを再起動した場合は次のセルのコメントを外して、NFSサーバのサービスが起動したことを確認してください。"
   ]
  },
  {
   "cell_type": "code",
   "execution_count": null,
   "metadata": {
    "lc_cell_meme": {
     "current": "530088aa-b4a4-11ec-b26a-0242ac110002-7-bdcc-6071-2094-9ac4-6808-5a88-1f46",
     "next": "5300894a-b4a4-11ec-b26a-0242ac110002-8-8691-3276-bf92-3e7c-58e8-7ce4-62fa-d079",
     "previous": "5300880a-b4a4-11ec-b26a-0242ac110002-8-27b2-e892-3aa3-3b8a-97d5-0c7a-57e8-39ff"
    },
    "lc_wrapper": {}
   },
   "outputs": [],
   "source": [
    "# !ssh {ssh_opts} vcp@{addr} systemctl status nfs-server"
   ]
  },
  {
   "cell_type": "markdown",
   "metadata": {
    "lc_cell_meme": {
     "current": "5300894a-b4a4-11ec-b26a-0242ac110002-8-8691-3276-bf92-3e7c-58e8-7ce4-62fa-d079",
     "next": "530089ea-b4a4-11ec-b26a-0242ac110002-7-b1a6-af80-d530-5246-ff0c-cbea-b148",
     "previous": "530088aa-b4a4-11ec-b26a-0242ac110002-7-bdcc-6071-2094-9ac4-6808-5a88-1f46"
    }
   },
   "source": [
    "NFSのエクスポート設定が１つ以上あることを確認します。次のセルを実行し、エラーとならないことを確認してください。"
   ]
  },
  {
   "cell_type": "code",
   "execution_count": null,
   "metadata": {
    "lc_cell_meme": {
     "current": "530089ea-b4a4-11ec-b26a-0242ac110002-7-b1a6-af80-d530-5246-ff0c-cbea-b148",
     "next": "53008a80-b4a4-11ec-b26a-0242ac110002-8-71ac-8adc-e473-5901-dc7d-a5bd-4da5-aa8e",
     "previous": "5300894a-b4a4-11ec-b26a-0242ac110002-8-8691-3276-bf92-3e7c-58e8-7ce4-62fa-d079"
    },
    "lc_wrapper": {}
   },
   "outputs": [],
   "source": [
    "# エクスポートの設定状況を表示する\n",
    "!ssh {ssh_opts} vcp@{addr} \"sudo /sbin/exportfs -v\"\n",
    "# エクスポートの設定項目が１つ以上あることをチェックする\n",
    "!test $(ssh {ssh_opts} vcp@{addr} \"sudo /sbin/exportfs -v\" | wc -l) -gt 0 "
   ]
  },
  {
   "cell_type": "markdown",
   "metadata": {
    "lc_cell_meme": {
     "current": "53008a80-b4a4-11ec-b26a-0242ac110002-8-71ac-8adc-e473-5901-dc7d-a5bd-4da5-aa8e",
     "next": "53008b20-b4a4-11ec-b26a-0242ac110002-7-56fe-6f12-8f5f-8080-39ac-f7f7-2fd8",
     "previous": "530089ea-b4a4-11ec-b26a-0242ac110002-7-b1a6-af80-d530-5246-ff0c-cbea-b148"
    }
   },
   "source": [
    "上のセルがエラーとなる場合は、パラメータ設定にて指定した `nfs_device` の値が正しくないことが考えられます。次のセルのコメントを外してパラメータに設定した値と、起動したVCノードにアタッチされているブロックデバイス名が一致しているかを確認してください。正しく設定されている場合は、以下の表示例のように１行目と最後の行に表示されるブロックデバイス名（この例では`xvdf`） に同じ値が表示されます。\n",
    "\n",
    "```\n",
    "nfsdevice=/dev/xvdf\n",
    "NAME    MAJ:MIN RM SIZE RO TYPE MOUNTPOINT\n",
    "xvda    202:0    0  60G  0 disk \n",
    "└─xvda1 202:1    0  60G  0 part /etc/hosts\n",
    "xvdf    202:80   0  64G  0 disk /exports\n",
    "```\n",
    "\n",
    "異なる値が表示されている場合は設定するパラメータを修正する必要があります。\n",
    "「x920-OpenHPC環境の削除.ipynb」のNotebookで起動したVCノード、VCディスクを削除してから、再度「3. パラメータの設定」で、正しいブロックデバイス名を設定しなおし３章から再実行してください。"
   ]
  },
  {
   "cell_type": "code",
   "execution_count": null,
   "metadata": {
    "lc_cell_meme": {
     "current": "53008b20-b4a4-11ec-b26a-0242ac110002-7-56fe-6f12-8f5f-8080-39ac-f7f7-2fd8",
     "next": "53008bf2-b4a4-11ec-b26a-0242ac110002-8-db0c-acf9-4f54-639b-26ed-ead8-2f35-15d9",
     "previous": "53008a80-b4a4-11ec-b26a-0242ac110002-8-71ac-8adc-e473-5901-dc7d-a5bd-4da5-aa8e"
    },
    "lc_wrapper": {}
   },
   "outputs": [],
   "source": [
    "# 設定されているパラメータ nfs_device の値を確認する\n",
    "# print(f'nfsdevice={gvars[\"nfs_device\"]}')\n",
    "\n",
    "# VCノードのブロックデバイスを確認する\n",
    "# !ssh {ssh_opts} vcp@{addr} lsblk 2> /dev/null"
   ]
  },
  {
   "cell_type": "markdown",
   "metadata": {
    "lc_cell_meme": {
     "current": "53008bf2-b4a4-11ec-b26a-0242ac110002-8-db0c-acf9-4f54-639b-26ed-ead8-2f35-15d9",
     "next": "adf0fe9c-b4be-11ec-b26a-0242ac110002-8-c7d3-35ff-5188-2564-09c9-0fff-e8cf-3cb7",
     "previous": "53008b20-b4a4-11ec-b26a-0242ac110002-7-56fe-6f12-8f5f-8080-39ac-f7f7-2fd8"
    }
   },
   "source": [
    "=== 計算ノードの起動 ================================================================================================"
   ]
  },
  {
   "cell_type": "markdown",
   "metadata": {
    "lc_cell_meme": {
     "current": "adf0fe9c-b4be-11ec-b26a-0242ac110002-8-c7d3-35ff-5188-2564-09c9-0fff-e8cf-3cb7",
     "next": "adf0fe9c-b4be-11ec-b26a-0242ac110002-9-c7d3-9771-0d1f-8543-14c9-748e-7cca-8f27-853a",
     "previous": "53008bf2-b4a4-11ec-b26a-0242ac110002-8-db0c-acf9-4f54-639b-26ed-ead8-2f35-15d9"
    }
   },
   "source": [
    "マスターノードとして利用するVCノードを起動します。\n",
    "\n",
    "![計算ノード](images/ohpc-009.png)"
   ]
  },
  {
   "cell_type": "markdown",
   "metadata": {
    "lc_cell_meme": {
     "current": "adf0fe9c-b4be-11ec-b26a-0242ac110002-9-c7d3-9771-0d1f-8543-14c9-748e-7cca-8f27-853a",
     "next": "cfd0ee26-b4de-11ec-b26a-0242ac110002-7-8c7b-0274-80d4-0cd5-346c-09d2-90fb",
     "previous": "adf0fe9c-b4be-11ec-b26a-0242ac110002-8-c7d3-35ff-5188-2564-09c9-0fff-e8cf-3cb7"
    }
   },
   "source": [
    "計算ノード資源の spec の設定"
   ]
  },
  {
   "cell_type": "code",
   "execution_count": null,
   "metadata": {
    "lc_cell_meme": {
     "current": "cfd0ee26-b4de-11ec-b26a-0242ac110002-7-8c7b-0274-80d4-0cd5-346c-09d2-90fb",
     "next": "edeb90ae-b4df-11ec-b26a-0242ac110002-7-900d-8efd-24af-502c-a36f-6a1d-c371",
     "previous": "adf0fe9c-b4be-11ec-b26a-0242ac110002-9-c7d3-9771-0d1f-8543-14c9-748e-7cca-8f27-853a"
    },
    "lc_wrapper": {}
   },
   "outputs": [],
   "source": [
    "spec_compute = vcp.get_spec(gvars['vc_provider'], gvars['compute_flavor'])\n",
    "spec_compute.image = 'harbor.vcloud.nii.ac.jp/vcp/openhpc:compute-2.4'\n",
    "if gvars['compute_use_gpu']:\n",
    "    spec_compute.gpus = 'all'\n",
    "    spec_compute.image = 'harbor.vcloud.nii.ac.jp/vcp/openhpc:compute-gpu-2.4'\n",
    "    if gvars['vc_provider'] != 'onpremises':\n",
    "        spec_compute.cloud_image = 'niivcp-gpu-a-21.04.0-r1'\n",
    "spec_compute.params_v = [\n",
    "    '/sys/fs/cgroup:/sys/fs/cgroup:ro',\n",
    "    '/lib/modules:/lib/modules:ro',\n",
    "    '/opt/var/lib/docker:/var/lib/docker',\n",
    "]\n",
    "spec_compute.ip_addresses = [x for x in gvars['compute_etc_hosts'].keys()]\n",
    "if 'compute_root_size' in gvars:\n",
    "    if gvars['vc_provider'] == 'aws':\n",
    "        spec_compute.volume_size = gvars['compute_root_size']\n",
    "    elif gvars['vc_provider'] == 'azure':\n",
    "        spec_compute.disk_size_gb = gvars['compute_root_size']\n",
    "    elif gvars['vc_provider'] == 'oracle':\n",
    "        spec_compute.boot_volume_size_in_gbs = gvars['compute_root_size']\n",
    "if 'compute_instance_type' in gvars:\n",
    "    if gvars['vc_provider'] == 'aws':\n",
    "        spec_compute.instance_type = gvars['compute_instance_type']\n",
    "    elif gvars['vc_provider'] == 'azure':\n",
    "        spec_compute.vm_size = gvars['compute_instance_type']\n",
    "    elif gvars['vc_provider'] == 'oracle':\n",
    "        spec_compute.shape = gvars['compute_instance_type']\n",
    "spec_compute.set_ssh_pubkey(gvars['ssh_public_key_path'])"
   ]
  },
  {
   "cell_type": "markdown",
   "metadata": {
    "lc_cell_meme": {
     "current": "edeb90ae-b4df-11ec-b26a-0242ac110002-7-900d-8efd-24af-502c-a36f-6a1d-c371",
     "next": "edeb9298-b4df-11ec-b26a-0242ac110002-7-63af-8b8c-12ca-2ea1-7200-10dd-dce7",
     "previous": "cfd0ee26-b4de-11ec-b26a-0242ac110002-7-8c7b-0274-80d4-0cd5-346c-09d2-90fb"
    }
   },
   "source": [
    "ベースコンテナの環境変数に以下のパラメータを設定します。\n",
    "\n",
    "* `MASTER_HOSTNAME`\n",
    "    - マスターノードのホスト名\n",
    "* `SLURM_NODE_PARAMS`\n",
    "    - slurm.conf に追加する計算ノードのパラメータ\n",
    "* `MUNGE_KEY`\n",
    "    - VCノードの `munge.key` の内容\n",
    "    \n",
    "さらに各ノードに対応するエントリを `/etc/hosts` に追加するためのパラメータを設定します。"
   ]
  },
  {
   "cell_type": "code",
   "execution_count": null,
   "metadata": {
    "lc_cell_meme": {
     "current": "edeb9298-b4df-11ec-b26a-0242ac110002-7-63af-8b8c-12ca-2ea1-7200-10dd-dce7",
     "next": "edeb937e-b4df-11ec-b26a-0242ac110002-7-781b-9153-6749-1ff4-eaa6-5b2d-fa12",
     "previous": "edeb90ae-b4df-11ec-b26a-0242ac110002-7-900d-8efd-24af-502c-a36f-6a1d-c371"
    },
    "lc_wrapper": {}
   },
   "outputs": [],
   "source": [
    "%run scripts/utils_addition.py\n",
    "\n",
    "spec_compute.params_e.extend([\n",
    "    f'MASTER_HOSTNAME={gvars[\"master_hostname\"]}',\n",
    "    f'SLURM_NODE_PARAMS={spec_env_slurm_conf(gvars)}',\n",
    "    f'MUNGE_KEY={spec_env_munge_key(gvars, vcp, vcc_access_token)}',\n",
    "])\n",
    "spec_compute.add_host = spec_add_host_list(gvars)"
   ]
  },
  {
   "cell_type": "markdown",
   "metadata": {
    "lc_cell_meme": {
     "current": "edeb937e-b4df-11ec-b26a-0242ac110002-7-781b-9153-6749-1ff4-eaa6-5b2d-fa12",
     "next": "edeb9428-b4df-11ec-b26a-0242ac110002-7-36c6-e760-e4d0-e3a1-ace4-23e2-13a1",
     "previous": "edeb9298-b4df-11ec-b26a-0242ac110002-7-63af-8b8c-12ca-2ea1-7200-10dd-dce7"
    }
   },
   "source": [
    "次のセルで `spec` に設定した値を表示すると、その内容には **秘匿情報** である `munge.key` の内容を含んでいます。扱いには **注意** してください。"
   ]
  },
  {
   "cell_type": "code",
   "execution_count": null,
   "metadata": {
    "lc_cell_meme": {
     "current": "edeb9428-b4df-11ec-b26a-0242ac110002-7-36c6-e760-e4d0-e3a1-ace4-23e2-13a1",
     "next": "edeb94d2-b4df-11ec-b26a-0242ac110002-7-99f0-538a-17f4-a7d7-92cf-d0ba-a377",
     "previous": "edeb937e-b4df-11ec-b26a-0242ac110002-7-781b-9153-6749-1ff4-eaa6-5b2d-fa12"
    },
    "lc_wrapper": {}
   },
   "outputs": [],
   "source": [
    "# print(spec_compute)"
   ]
  },
  {
   "cell_type": "markdown",
   "metadata": {
    "lc_cell_meme": {
     "current": "edeb94d2-b4df-11ec-b26a-0242ac110002-7-99f0-538a-17f4-a7d7-92cf-d0ba-a377",
     "next": "edeb9572-b4df-11ec-b26a-0242ac110002-7-bc8f-e05b-e99f-96e2-02bf-0e74-a875",
     "previous": "edeb9428-b4df-11ec-b26a-0242ac110002-7-36c6-e760-e4d0-e3a1-ace4-23e2-13a1"
    }
   },
   "source": [
    "VC ノードを起動します（AWSで起動するにはおよそ２分かかります）。"
   ]
  },
  {
   "cell_type": "code",
   "execution_count": null,
   "metadata": {
    "lc_cell_meme": {
     "current": "edeb9572-b4df-11ec-b26a-0242ac110002-7-bc8f-e05b-e99f-96e2-02bf-0e74-a875",
     "next": "edeb9612-b4df-11ec-b26a-0242ac110002-7-f9b6-f9fc-ad77-be6a-6529-811a-3465",
     "previous": "edeb94d2-b4df-11ec-b26a-0242ac110002-7-99f0-538a-17f4-a7d7-92cf-d0ba-a377"
    },
    "lc_wrapper": {}
   },
   "outputs": [],
   "source": [
    "unit_compute = ug.create_unit('compute', spec_compute)"
   ]
  },
  {
   "cell_type": "markdown",
   "metadata": {
    "lc_cell_meme": {
     "current": "edeb9612-b4df-11ec-b26a-0242ac110002-7-f9b6-f9fc-ad77-be6a-6529-811a-3465",
     "next": "edeb96b2-b4df-11ec-b26a-0242ac110002-7-515a-b085-5ba7-a5a9-9b23-1281-b4df",
     "previous": "edeb9572-b4df-11ec-b26a-0242ac110002-7-bc8f-e05b-e99f-96e2-02bf-0e74-a875"
    }
   },
   "source": [
    "VCノードの状態が `RUNNING` になっていることを確認します。\n",
    "\n",
    "> VCノードの起動に失敗して`RUNNING`以外の状態になっている場合は次のセルを実行するとエラーになります。エラーになった場合は、`ug.cleanup()` を実行して VCノードを削除してください。その後、「[VCノードのUnitGroup作成](#VCノードのUnitGroup作成)」以下を `unfreeze` してから再実行してください。"
   ]
  },
  {
   "cell_type": "code",
   "execution_count": null,
   "metadata": {
    "lc_cell_meme": {
     "current": "edeb96b2-b4df-11ec-b26a-0242ac110002-7-515a-b085-5ba7-a5a9-9b23-1281-b4df",
     "next": "edeb9752-b4df-11ec-b26a-0242ac110002-7-88a0-cb9c-7c30-db8b-e3bc-004d-d6cf",
     "previous": "edeb9612-b4df-11ec-b26a-0242ac110002-7-f9b6-f9fc-ad77-be6a-6529-811a-3465"
    },
    "lc_wrapper": {}
   },
   "outputs": [],
   "source": [
    "unit_compute = ug.get_unit('compute')\n",
    "if any([node.state != 'RUNNING' for node in unit_compute.find_nodes()]):\n",
    "    raise RuntimeError('ERROR: not running')"
   ]
  },
  {
   "cell_type": "markdown",
   "metadata": {
    "lc_cell_meme": {
     "current": "edeb9752-b4df-11ec-b26a-0242ac110002-7-88a0-cb9c-7c30-db8b-e3bc-004d-d6cf",
     "next": "edeb97f2-b4df-11ec-b26a-0242ac110002-7-cc26-1bcd-eab4-b98e-f49c-0e69-31ed",
     "previous": "edeb96b2-b4df-11ec-b26a-0242ac110002-7-515a-b085-5ba7-a5a9-9b23-1281-b4df"
    }
   },
   "source": [
    "起動したVCノードの一覧を表示します。"
   ]
  },
  {
   "cell_type": "code",
   "execution_count": null,
   "metadata": {
    "lc_cell_meme": {
     "current": "edeb97f2-b4df-11ec-b26a-0242ac110002-7-cc26-1bcd-eab4-b98e-f49c-0e69-31ed",
     "next": "edeb9892-b4df-11ec-b26a-0242ac110002-7-53d0-3c5b-362c-557b-da6e-f915-9d41",
     "previous": "edeb9752-b4df-11ec-b26a-0242ac110002-7-88a0-cb9c-7c30-db8b-e3bc-004d-d6cf"
    },
    "lc_wrapper": {}
   },
   "outputs": [],
   "source": [
    "unit_compute.df_nodes()"
   ]
  },
  {
   "cell_type": "markdown",
   "metadata": {
    "lc_cell_meme": {
     "current": "edeb9892-b4df-11ec-b26a-0242ac110002-7-53d0-3c5b-362c-557b-da6e-f915-9d41",
     "next": "e29f5eea-b4e1-11ec-b26a-0242ac110002-7-1607-06f9-00fc-7610-0822-64d4-6610",
     "previous": "edeb97f2-b4df-11ec-b26a-0242ac110002-7-cc26-1bcd-eab4-b98e-f49c-0e69-31ed"
    }
   },
   "source": [
    "#### Ansibleの設定（based on 020-OpenHPCの起動.ipynb）"
   ]
  },
  {
   "cell_type": "markdown",
   "metadata": {
    "lc_cell_meme": {
     "current": "e29f5eea-b4e1-11ec-b26a-0242ac110002-7-1607-06f9-00fc-7610-0822-64d4-6610",
     "next": "b558c588-b591-11ec-b26a-0242ac110002-7-3bf8-7c7a-2d83-638c-c8fd-7302-3525",
     "previous": "edeb9892-b4df-11ec-b26a-0242ac110002-7-53d0-3c5b-362c-557b-da6e-f915-9d41"
    }
   },
   "source": [
    "VCノードをAnsibleで操作するための設定を行います。"
   ]
  },
  {
   "cell_type": "markdown",
   "metadata": {
    "lc_cell_meme": {
     "current": "b558c588-b591-11ec-b26a-0242ac110002-7-3bf8-7c7a-2d83-638c-c8fd-7302-3525",
     "next": "e29f5eea-b4e1-11ec-b26a-0242ac110002-8-92cc-b2da-f7f9-7b2a-fa89-b0b2-018b-204b",
     "previous": "e29f5eea-b4e1-11ec-b26a-0242ac110002-7-1607-06f9-00fc-7610-0822-64d4-6610"
    }
   },
   "source": [
    "=== known_hosts の更新 ============================================================================================="
   ]
  },
  {
   "cell_type": "markdown",
   "metadata": {
    "lc_cell_meme": {
     "current": "e29f5eea-b4e1-11ec-b26a-0242ac110002-8-92cc-b2da-f7f9-7b2a-fa89-b0b2-018b-204b",
     "next": "edeb9928-b4df-11ec-b26a-0242ac110002-7-97a3-b68d-623c-27b5-5260-c5de-a62a",
     "previous": "b558c588-b591-11ec-b26a-0242ac110002-7-3bf8-7c7a-2d83-638c-c8fd-7302-3525"
    }
   },
   "source": [
    "VCノードをAnsibleで操作するための設定を行います。\n",
    "\n",
    "まず、VCノードにSSHでログインできるようにするために `~/.ssh/known_hosts` の更新を行います。\n",
    "\n",
    "> 何度かVCノードの起動を行うと、異なるホストが同じIPアドレスで起動するためにSSHのホストキーのチェックでエラーになる事があります。このような状況に対応するために、起動したVCノードのIPアドレスに対応するエントリを`known_hosts`ファイルから削除します。その後、`ssh-keyscan`コマンドを利用して起動したVCノードのホストキーを取得して `known_hosts`ファイルの内容を更新します。"
   ]
  },
  {
   "cell_type": "code",
   "execution_count": null,
   "metadata": {
    "lc_cell_meme": {
     "current": "edeb9928-b4df-11ec-b26a-0242ac110002-7-97a3-b68d-623c-27b5-5260-c5de-a62a",
     "next": "edeb99c8-b4df-11ec-b26a-0242ac110002-7-d2bc-eadb-7a50-331c-57ba-e949-d210",
     "previous": "e29f5eea-b4e1-11ec-b26a-0242ac110002-8-92cc-b2da-f7f9-7b2a-fa89-b0b2-018b-204b"
    },
    "lc_wrapper": {}
   },
   "outputs": [],
   "source": [
    "\n",
    "from time import sleep\n",
    "\n",
    "def check_update_known_hosts(ipaddr):\n",
    "    # VCノード起動直後だと sshd サービスが開始されておらずに known_hosts が更新されない場合がある\n",
    "    # ssh-keyscan が値を取得できるまで何度かリトライする\n",
    "    for x in range(10):\n",
    "        out = ! echo $(ssh-keyscan {ipaddr} 2> /dev/null | wc -l)\n",
    "        update_lines = int(out[0])\n",
    "        if update_lines > 0:\n",
    "            break\n",
    "        sleep(1)\n",
    "    else:\n",
    "        raise RuntimeError(\"ERROR: timeout!\")    \n",
    "\n",
    "!mkdir -p -m 0700 ~/.ssh\n",
    "!touch ~/.ssh/known_hosts\n",
    "for addr in ug.find_ip_addresses():\n",
    "    !ssh-keygen -R {addr}\n",
    "#    check_update_known_hosts(addr)\n",
    "#    !ssh-keyscan -H {addr} >> ~/.ssh/known_hosts\n",
    "    !ssh-keyscan {addr} >> ~/.ssh/known_hosts"
   ]
  },
  {
   "cell_type": "markdown",
   "metadata": {
    "lc_cell_meme": {
     "current": "edeb99c8-b4df-11ec-b26a-0242ac110002-7-d2bc-eadb-7a50-331c-57ba-e949-d210",
     "next": "edeb9a68-b4df-11ec-b26a-0242ac110002-7-5b33-4ac8-8f4f-1039-331c-df43-fcf9",
     "previous": "edeb9928-b4df-11ec-b26a-0242ac110002-7-97a3-b68d-623c-27b5-5260-c5de-a62a"
    }
   },
   "source": [
    "```\n",
    "★★★　注意　★★★\n",
    "\n",
    "上のセルでエラーが発生した場合、次のセルのコメントを外して（行頭の'#'を削除）実行してから続けてください。\n",
    "```"
   ]
  },
  {
   "cell_type": "code",
   "execution_count": null,
   "metadata": {
    "lc_cell_meme": {
     "current": "edeb9a68-b4df-11ec-b26a-0242ac110002-7-5b33-4ac8-8f4f-1039-331c-df43-fcf9",
     "next": "b558c7cc-b591-11ec-b26a-0242ac110002-7-17a3-1936-763e-6ea1-87eb-214a-9957",
     "previous": "edeb99c8-b4df-11ec-b26a-0242ac110002-7-d2bc-eadb-7a50-331c-57ba-e949-d210"
    },
    "lc_wrapper": {}
   },
   "outputs": [],
   "source": [
    "#!ssh-keyscan -H {addr} >> ~/.ssh/known_hosts"
   ]
  },
  {
   "cell_type": "markdown",
   "metadata": {
    "lc_cell_meme": {
     "current": "b558c7cc-b591-11ec-b26a-0242ac110002-7-17a3-1936-763e-6ea1-87eb-214a-9957",
     "next": "edeb9b08-b4df-11ec-b26a-0242ac110002-7-4343-d918-50a2-bd0e-718a-a45b-612f",
     "previous": "edeb9a68-b4df-11ec-b26a-0242ac110002-7-5b33-4ac8-8f4f-1039-331c-df43-fcf9"
    }
   },
   "source": [
    "=== ansible イベントリへの登録 ======================================================================================="
   ]
  },
  {
   "cell_type": "markdown",
   "metadata": {
    "lc_cell_meme": {
     "current": "edeb9b08-b4df-11ec-b26a-0242ac110002-7-4343-d918-50a2-bd0e-718a-a45b-612f",
     "next": "edeb9bb2-b4df-11ec-b26a-0242ac110002-7-a3fd-bd74-fd4e-e4de-b601-5b3c-003f",
     "previous": "b558c7cc-b591-11ec-b26a-0242ac110002-7-17a3-1936-763e-6ea1-87eb-214a-9957"
    }
   },
   "source": [
    "起動したVCノードに対応するエントリを Ansible のインベントリに登録します。\n",
    "\n",
    "> Ansibleで操作を行うためには、操作対象のホスト(IPアドレス)をインベントリに登録する必要があります。"
   ]
  },
  {
   "cell_type": "code",
   "execution_count": null,
   "metadata": {
    "lc_cell_meme": {
     "current": "edeb9bb2-b4df-11ec-b26a-0242ac110002-7-a3fd-bd74-fd4e-e4de-b601-5b3c-003f",
     "next": "edeb9c48-b4df-11ec-b26a-0242ac110002-7-ccf9-d271-5eac-091a-da48-0091-098d",
     "previous": "edeb9b08-b4df-11ec-b26a-0242ac110002-7-4343-d918-50a2-bd0e-718a-a45b-612f"
    },
    "lc_wrapper": {}
   },
   "outputs": [],
   "source": [
    "import yaml\n",
    "\n",
    "inventory = {\n",
    "    'all': {\n",
    "        'children': {\n",
    "            ug.name: {\n",
    "                'children': dict([\n",
    "                    (\n",
    "                        f'{ug.name}_{unit.name}',\n",
    "                        {\n",
    "                            'hosts': dict([\n",
    "                                (ip, {})\n",
    "                                for ip in unit.find_ip_addresses()\n",
    "                            ])\n",
    "                        }\n",
    "                    )\n",
    "                    for unit in ug.find_units()]),\n",
    "                'vars': {\n",
    "                    'ansible_user': 'vcp',\n",
    "                    'ansible_ssh_private_key_file': gvars['ssh_private_key_path'],\n",
    "                }\n",
    "            }\n",
    "        }\n",
    "    }\n",
    "}\n",
    "\n",
    "with open('inventory.yml', 'w') as f:\n",
    "    yaml.safe_dump(inventory, f, default_flow_style=False)\n",
    "    \n",
    "!cat inventory.yml"
   ]
  },
  {
   "cell_type": "markdown",
   "metadata": {
    "lc_cell_meme": {
     "current": "edeb9c48-b4df-11ec-b26a-0242ac110002-7-ccf9-d271-5eac-091a-da48-0091-098d",
     "next": "edeb9ce8-b4df-11ec-b26a-0242ac110002-7-6eca-721d-c5bc-3168-f1d1-d5bc-a850",
     "previous": "edeb9bb2-b4df-11ec-b26a-0242ac110002-7-a3fd-bd74-fd4e-e4de-b601-5b3c-003f"
    }
   },
   "source": [
    "先程VCノードを登録したファイルをインベントリとして指定するためのAnsibleのコンフィギュレーションファイルを作成します。\n",
    "\n",
    "> カレントディレクトリにコンフィギュレーションファイル(`ansible.cfg`)を作成すると、Ansibleを実行する際にその設定が適用されます。"
   ]
  },
  {
   "cell_type": "code",
   "execution_count": null,
   "metadata": {
    "lc_cell_meme": {
     "current": "edeb9ce8-b4df-11ec-b26a-0242ac110002-7-6eca-721d-c5bc-3168-f1d1-d5bc-a850",
     "next": "edeb9d88-b4df-11ec-b26a-0242ac110002-7-7606-1573-9d63-13cd-8489-4d56-aeeb",
     "previous": "edeb9c48-b4df-11ec-b26a-0242ac110002-7-ccf9-d271-5eac-091a-da48-0091-098d"
    },
    "lc_wrapper": {}
   },
   "outputs": [],
   "source": [
    "from pathlib import Path\n",
    "\n",
    "inventory_path = Path('./inventory.yml').resolve()\n",
    "ansible_cfg = Path('./ansible.cfg').resolve()\n",
    "with ansible_cfg.open(mode='w') as f:\n",
    "    f.write(f'''\n",
    "[defaults]\n",
    "inventory = {inventory_path}\n",
    "deprecation_warnings=False\n",
    "remote_tmp = /var/tmp\n",
    "timeout = 30\n",
    "''')\n",
    "ansible_cfg.parent.chmod(0o755)\n",
    "\n",
    "!cat ./ansible.cfg"
   ]
  },
  {
   "cell_type": "markdown",
   "metadata": {
    "lc_cell_meme": {
     "current": "edeb9d88-b4df-11ec-b26a-0242ac110002-7-7606-1573-9d63-13cd-8489-4d56-aeeb",
     "next": "edeb9e28-b4df-11ec-b26a-0242ac110002-7-9254-9bf1-4940-9b25-2ffd-1a55-54e0",
     "previous": "edeb9ce8-b4df-11ec-b26a-0242ac110002-7-6eca-721d-c5bc-3168-f1d1-d5bc-a850"
    }
   },
   "source": [
    "VCノードに対して Ansible で接続できることを確認します。"
   ]
  },
  {
   "cell_type": "code",
   "execution_count": null,
   "metadata": {
    "lc_cell_meme": {
     "current": "edeb9e28-b4df-11ec-b26a-0242ac110002-7-9254-9bf1-4940-9b25-2ffd-1a55-54e0",
     "next": "a06d9a22-b4e2-11ec-b26a-0242ac110002-7-148f-b3a8-e168-918a-b1a3-1843-5992",
     "previous": "edeb9d88-b4df-11ec-b26a-0242ac110002-7-7606-1573-9d63-13cd-8489-4d56-aeeb"
    },
    "lc_wrapper": {}
   },
   "outputs": [],
   "source": [
    "!ansible {ugroup_name} -m ping"
   ]
  },
  {
   "cell_type": "markdown",
   "metadata": {
    "lc_cell_meme": {
     "current": "a06d9a22-b4e2-11ec-b26a-0242ac110002-7-148f-b3a8-e168-918a-b1a3-1843-5992",
     "next": "a06d9c66-b4e2-11ec-b26a-0242ac110002-7-bbdf-ca8c-1569-5add-7c14-a3fe-a11a",
     "previous": "edeb9e28-b4df-11ec-b26a-0242ac110002-7-9254-9bf1-4940-9b25-2ffd-1a55-54e0"
    }
   },
   "source": [
    "正常に接続できると以下のように表示されます。\n",
    "\n",
    "```\n",
    "XXX.XXX.XXX.XXX | SUCCESS => {\n",
    "    \"changed\": false, \n",
    "    \"ping\": \"pong\"\n",
    "}\n",
    "```"
   ]
  },
  {
   "cell_type": "code",
   "execution_count": null,
   "metadata": {
    "lc_cell_meme": {
     "current": "a06d9c66-b4e2-11ec-b26a-0242ac110002-7-bbdf-ca8c-1569-5add-7c14-a3fe-a11a",
     "next": "a06d9d56-b4e2-11ec-b26a-0242ac110002-7-1de7-c44d-a54e-8001-b18a-9c2d-b60c",
     "previous": "a06d9a22-b4e2-11ec-b26a-0242ac110002-7-148f-b3a8-e168-918a-b1a3-1843-5992"
    },
    "lc_wrapper": {}
   },
   "outputs": [],
   "source": [
    "!ansible {ugroup_name} -b -a 'whoami'"
   ]
  },
  {
   "cell_type": "markdown",
   "metadata": {
    "lc_cell_meme": {
     "current": "a06d9d56-b4e2-11ec-b26a-0242ac110002-7-1de7-c44d-a54e-8001-b18a-9c2d-b60c",
     "next": "a06d9d56-b4e2-11ec-b26a-0242ac110002-8-47c8-ea88-2f1a-7553-d37c-42f9-6772-4193",
     "previous": "a06d9c66-b4e2-11ec-b26a-0242ac110002-7-bbdf-ca8c-1569-5add-7c14-a3fe-a11a"
    }
   },
   "source": [
    "#### Slurmの状態確認（based on 020-OpenHPCの起動.ipynb）"
   ]
  },
  {
   "cell_type": "markdown",
   "metadata": {
    "lc_cell_meme": {
     "current": "a06d9d56-b4e2-11ec-b26a-0242ac110002-8-47c8-ea88-2f1a-7553-d37c-42f9-6772-4193",
     "next": "bf24daf4-d7e5-11ec-b26a-0242ac110002-5-2c7d-1de3-1240-a3a2-df5d",
     "previous": "a06d9d56-b4e2-11ec-b26a-0242ac110002-7-1de7-c44d-a54e-8001-b18a-9c2d-b60c"
    }
   },
   "source": [
    "起動したVCノードで実行されているSlurmの状態を確認します。"
   ]
  },
  {
   "cell_type": "markdown",
   "metadata": {
    "lc_cell_meme": {
     "current": "bf24daf4-d7e5-11ec-b26a-0242ac110002-5-2c7d-1de3-1240-a3a2-df5d",
     "next": "bf24dd92-d7e5-11ec-b26a-0242ac110002-5-afe1-d3c6-617a-8de3-d341",
     "previous": "a06d9d56-b4e2-11ec-b26a-0242ac110002-8-47c8-ea88-2f1a-7553-d37c-42f9-6772-4193"
    }
   },
   "source": [
    "=== バッチジョブ投入の準備 ==========================================================================================="
   ]
  },
  {
   "cell_type": "code",
   "execution_count": null,
   "metadata": {
    "lc_cell_meme": {
     "current": "bf24dd92-d7e5-11ec-b26a-0242ac110002-5-afe1-d3c6-617a-8de3-d341",
     "next": "7703b62a-b4e3-11ec-b26a-0242ac110002-7-a4de-4fa7-05f9-ea54-e670-a937-dd80",
     "previous": "bf24daf4-d7e5-11ec-b26a-0242ac110002-5-2c7d-1de3-1240-a3a2-df5d"
    },
    "lc_wrapper": {}
   },
   "outputs": [],
   "source": [
    "# バッチジョブ投入ユティリティ(slurm 用)\n",
    "def qsub(job):\n",
    "    jobname = f'\\\"sbatch {job}\\\"'\n",
    "    bs_state = !ansible {ugroup_name}_master -a {jobname}\n",
    "    bs_state = bs_state[len(bs_state)-1]\n",
    "    print(bs_state)\n",
    "\n",
    "    if bs_state.split()[0] == 'Submitted':\n",
    "        return bs_state.split()[3]\n",
    "    else:\n",
    "        raise RuntimeError('ERROR: job submission error')\n",
    "\n",
    "        \n",
    "def qstat(bs_jobid):\n",
    "    print('job ' + bs_jobid + ':', end = ' ')\n",
    "    while True:\n",
    "        bs_state = !ansible {ugroup_name}_master -a 'squeue --noheader --jobs={bs_jobid}'\n",
    "        bs_state = bs_state[len(bs_state)-1]\n",
    "        if bs_state == '':\n",
    "            break\n",
    "        elif 'error' in bs_state:\n",
    "            raise RuntimeError(bs_state)\n",
    "        else:\n",
    "            print(\"\", end = '.')\n",
    "            !sleep 5\n",
    "    print(' finished')"
   ]
  },
  {
   "cell_type": "markdown",
   "metadata": {
    "lc_cell_meme": {
     "current": "7703b62a-b4e3-11ec-b26a-0242ac110002-7-a4de-4fa7-05f9-ea54-e670-a937-dd80",
     "next": "7703b62a-b4e3-11ec-b26a-0242ac110002-8-a4de-a839-6cbb-843c-fc10-20d8-4831-8745",
     "previous": "bf24dd92-d7e5-11ec-b26a-0242ac110002-5-afe1-d3c6-617a-8de3-d341"
    }
   },
   "source": [
    "=== ノードの状態を確認する ==========================================================================================="
   ]
  },
  {
   "cell_type": "markdown",
   "metadata": {
    "lc_cell_meme": {
     "current": "7703b62a-b4e3-11ec-b26a-0242ac110002-8-a4de-a839-6cbb-843c-fc10-20d8-4831-8745",
     "next": "a06d9e0a-b4e2-11ec-b26a-0242ac110002-7-03c3-3bd0-f120-3f27-cddb-b8cd-1b95",
     "previous": "7703b62a-b4e3-11ec-b26a-0242ac110002-7-a4de-4fa7-05f9-ea54-e670-a937-dd80"
    }
   },
   "source": [
    "Slurm の`STATE`を確認し、 `down` となっている場合は状態をアップデートします。"
   ]
  },
  {
   "cell_type": "code",
   "execution_count": null,
   "metadata": {
    "lc_cell_meme": {
     "current": "a06d9e0a-b4e2-11ec-b26a-0242ac110002-7-03c3-3bd0-f120-3f27-cddb-b8cd-1b95",
     "next": "a06da062-b4e2-11ec-b26a-0242ac110002-7-1d4a-02db-4c52-f89d-c2c9-4448-4b5d",
     "previous": "7703b62a-b4e3-11ec-b26a-0242ac110002-8-a4de-a839-6cbb-843c-fc10-20d8-4831-8745"
    },
    "lc_wrapper": {}
   },
   "outputs": [],
   "source": [
    "# ★★★ 自動リカバリのためオリジナルを改造 ★★★\n",
    "\n",
    "count = 10\n",
    "while True:\n",
    "    bs_state = !ansible {ugroup_name}_master -a sinfo\n",
    "    bs_state = bs_state[len(bs_state)-1]\n",
    "    print(bs_state)\n",
    "    \n",
    "    if bs_state.split()[4] == 'idle':\n",
    "        break\n",
    "    else:\n",
    "        for x in gvars['compute_etc_hosts'].values():\n",
    "            !ansible {ugroup_name}_master -b -a 'scontrol update nodename={x} state=resume' || true\n",
    "        !sleep 5\n",
    "        \n",
    "    count -= 1\n",
    "    if count == 0:\n",
    "        raise RuntimeError('Error: Slurm is down')"
   ]
  },
  {
   "cell_type": "markdown",
   "metadata": {
    "lc_cell_meme": {
     "current": "a06da062-b4e2-11ec-b26a-0242ac110002-7-1d4a-02db-4c52-f89d-c2c9-4448-4b5d",
     "next": "a06da062-b4e2-11ec-b26a-0242ac110002-8-1d4a-dbff-d4d3-c995-b95b-dbba-3361-578a",
     "previous": "a06d9e0a-b4e2-11ec-b26a-0242ac110002-7-03c3-3bd0-f120-3f27-cddb-b8cd-1b95"
    }
   },
   "source": [
    "=== 動作確認のためジョブを実行する ====================================================================================="
   ]
  },
  {
   "cell_type": "markdown",
   "metadata": {
    "lc_cell_meme": {
     "current": "a06da062-b4e2-11ec-b26a-0242ac110002-8-1d4a-dbff-d4d3-c995-b95b-dbba-3361-578a",
     "next": "a06da102-b4e2-11ec-b26a-0242ac110002-7-36c7-a86c-5ef3-2306-432c-f815-2717",
     "previous": "a06da062-b4e2-11ec-b26a-0242ac110002-7-1d4a-02db-4c52-f89d-c2c9-4448-4b5d"
    }
   },
   "source": [
    "ジョブを実行できることを確認します。\n",
    "\n",
    "`srun`コマンドで、`hostname` コマンドを計算ノードで実行します。\n",
    "\n",
    "以下のような実行結果が表示されます（ホストの表示順序は入れ替わることがあります）。\n",
    "\n",
    "```\n",
    "0: c1\n",
    "\n",
    "```"
   ]
  },
  {
   "cell_type": "code",
   "execution_count": null,
   "metadata": {
    "lc_cell_meme": {
     "current": "a06da102-b4e2-11ec-b26a-0242ac110002-7-36c7-a86c-5ef3-2306-432c-f815-2717",
     "next": "a06da1ac-b4e2-11ec-b26a-0242ac110002-7-2917-8497-064d-0fc0-1dfe-344c-76c5",
     "previous": "a06da062-b4e2-11ec-b26a-0242ac110002-8-1d4a-dbff-d4d3-c995-b95b-dbba-3361-578a"
    },
    "lc_wrapper": {}
   },
   "outputs": [],
   "source": [
    "!ansible {ugroup_name}_master -a 'srun -l -N {gvars[\"compute_nodes\"]} hostname'"
   ]
  },
  {
   "cell_type": "markdown",
   "metadata": {
    "lc_cell_meme": {
     "current": "a06da1ac-b4e2-11ec-b26a-0242ac110002-7-2917-8497-064d-0fc0-1dfe-344c-76c5",
     "next": "a06da256-b4e2-11ec-b26a-0242ac110002-7-f811-09ff-cb35-e4f4-8d6a-81b5-eed1",
     "previous": "a06da102-b4e2-11ec-b26a-0242ac110002-7-36c7-a86c-5ef3-2306-432c-f815-2717"
    }
   },
   "source": [
    "次に、サンプルの `hello.c` をコンパイルして `sbatch` で実行します。"
   ]
  },
  {
   "cell_type": "code",
   "execution_count": null,
   "metadata": {
    "lc_cell_meme": {
     "current": "a06da256-b4e2-11ec-b26a-0242ac110002-7-f811-09ff-cb35-e4f4-8d6a-81b5-eed1",
     "next": "a06da2f6-b4e2-11ec-b26a-0242ac110002-7-fca1-7c6b-80c5-04bf-2079-3ff2-38b8",
     "previous": "a06da1ac-b4e2-11ec-b26a-0242ac110002-7-2917-8497-064d-0fc0-1dfe-344c-76c5"
    },
    "lc_wrapper": {}
   },
   "outputs": [],
   "source": [
    "!ansible {ugroup_name}_master -a 'mpicc -O3 -o hello /opt/ohpc/pub/examples/mpi/hello.c'\n",
    "!ansible {ugroup_name}_master -a 'ls -l hello'"
   ]
  },
  {
   "cell_type": "markdown",
   "metadata": {
    "lc_cell_meme": {
     "current": "a06da2f6-b4e2-11ec-b26a-0242ac110002-7-fca1-7c6b-80c5-04bf-2079-3ff2-38b8",
     "next": "a06da396-b4e2-11ec-b26a-0242ac110002-7-ca00-5d66-2221-3491-4824-ac1d-d814",
     "previous": "a06da256-b4e2-11ec-b26a-0242ac110002-7-f811-09ff-cb35-e4f4-8d6a-81b5-eed1"
    }
   },
   "source": [
    "ジョブスクリプトを作成します。"
   ]
  },
  {
   "cell_type": "code",
   "execution_count": null,
   "metadata": {
    "lc_cell_meme": {
     "current": "a06da396-b4e2-11ec-b26a-0242ac110002-7-ca00-5d66-2221-3491-4824-ac1d-d814",
     "next": "a06da436-b4e2-11ec-b26a-0242ac110002-8-8d5b-d4cd-f426-d6e0-3705-2e87-1755-7539",
     "previous": "a06da2f6-b4e2-11ec-b26a-0242ac110002-7-fca1-7c6b-80c5-04bf-2079-3ff2-38b8"
    },
    "lc_wrapper": {}
   },
   "outputs": [],
   "source": [
    "from tempfile import TemporaryDirectory\n",
    "from pathlib import Path\n",
    "\n",
    "with TemporaryDirectory() as work_dir:\n",
    "    job_file = Path(work_dir) / 'hello.job'\n",
    "    with job_file.open(mode='w') as f:\n",
    "        f.write(f'''#!/bin/bash\n",
    "\n",
    "#SBATCH -J hello               # Job name\n",
    "#SBATCH -o hello.%j.out         # Name of stdout output file (%j expands to jobId)\n",
    "#SBATCH -N {gvars[\"compute_nodes\"]}                  # Total number of nodes requested\n",
    "#SBATCH -n {gvars[\"compute_nodes\"]}                  # Total number of mpi tasks requested\n",
    "#SBATCH -t 00:01:00           # Run time (hh:mm:ss)\n",
    "\n",
    "# Launch MPI-based executable\n",
    "prun ./hello\n",
    "''')\n",
    "    !cat {job_file}\n",
    "    !ansible {ugroup_name}_master -m copy -a 'src={str(job_file)} dest=.'"
   ]
  },
  {
   "cell_type": "markdown",
   "metadata": {
    "lc_cell_meme": {
     "current": "a06da436-b4e2-11ec-b26a-0242ac110002-8-8d5b-d4cd-f426-d6e0-3705-2e87-1755-7539",
     "next": "a06da4d6-b4e2-11ec-b26a-0242ac110002-7-b302-4b51-c7fc-3aeb-98e3-f252-8c1b",
     "previous": "a06da396-b4e2-11ec-b26a-0242ac110002-7-ca00-5d66-2221-3491-4824-ac1d-d814"
    }
   },
   "source": [
    "ジョブを投入し、実行終了を待ちます。"
   ]
  },
  {
   "cell_type": "code",
   "execution_count": null,
   "metadata": {
    "lc_cell_meme": {
     "current": "a06da4d6-b4e2-11ec-b26a-0242ac110002-7-b302-4b51-c7fc-3aeb-98e3-f252-8c1b",
     "next": "a06da580-b4e2-11ec-b26a-0242ac110002-8-d99d-c6f9-1a7b-1bbd-9111-7f34-bcaa-df8f",
     "previous": "a06da436-b4e2-11ec-b26a-0242ac110002-8-8d5b-d4cd-f426-d6e0-3705-2e87-1755-7539"
    },
    "lc_wrapper": {}
   },
   "outputs": [],
   "source": [
    "# ★★★ ジョブ終了確認自動化のためオリジナルを改造 ★★★\n",
    "jobid = qsub('hello.job')\n",
    "qstat(jobid)"
   ]
  },
  {
   "cell_type": "markdown",
   "metadata": {
    "lc_cell_meme": {
     "current": "a06da580-b4e2-11ec-b26a-0242ac110002-8-d99d-c6f9-1a7b-1bbd-9111-7f34-bcaa-df8f",
     "next": "a06da620-b4e2-11ec-b26a-0242ac110002-7-90a4-3e95-9e78-eaac-74bc-4d38-e71c",
     "previous": "a06da4d6-b4e2-11ec-b26a-0242ac110002-7-b302-4b51-c7fc-3aeb-98e3-f252-8c1b"
    }
   },
   "source": [
    "ジョブの出力結果を表示してみます。ジョブの実行が成功していると以下のような出力結果が得られます。\n",
    "\n",
    "```\n",
    "[prun] Master compute host = c1\n",
    "[prun] Resource manager = slurm\n",
    "[prun] Launch cmd = mpirun ./hello (family=openmpi4)\n",
    "\n",
    " Hello, world (1 procs total)\n",
    "    --> Process #   0 of   2 is alive. -> c1\n",
    "\n",
    "```"
   ]
  },
  {
   "cell_type": "code",
   "execution_count": null,
   "metadata": {
    "lc_cell_meme": {
     "current": "a06da620-b4e2-11ec-b26a-0242ac110002-7-90a4-3e95-9e78-eaac-74bc-4d38-e71c",
     "next": "a06da760-b4e2-11ec-b26a-0242ac110002-8-9a69-32ca-04d3-a8b3-cbdf-2a7f-3802-0d27",
     "previous": "a06da580-b4e2-11ec-b26a-0242ac110002-8-d99d-c6f9-1a7b-1bbd-9111-7f34-bcaa-df8f"
    },
    "lc_wrapper": {}
   },
   "outputs": [],
   "source": [
    "!ansible {ugroup_name}_master -m shell -a 'cat hello.*.out'"
   ]
  },
  {
   "cell_type": "markdown",
   "metadata": {
    "lc_cell_meme": {
     "current": "a06da760-b4e2-11ec-b26a-0242ac110002-8-9a69-32ca-04d3-a8b3-cbdf-2a7f-3802-0d27",
     "next": "fb069710-b4e5-11ec-b26a-0242ac110002-7-03ad-8f64-6faa-efb7-1844-23d4-8986",
     "previous": "a06da620-b4e2-11ec-b26a-0242ac110002-7-90a4-3e95-9e78-eaac-74bc-4d38-e71c"
    }
   },
   "source": [
    "####  slurm 設定ファイルの編集（based on 032-設定ファイルの編集-GRESの登録.ipynb）"
   ]
  },
  {
   "cell_type": "markdown",
   "metadata": {
    "lc_cell_meme": {
     "current": "fb069710-b4e5-11ec-b26a-0242ac110002-7-03ad-8f64-6faa-efb7-1844-23d4-8986",
     "next": "fb069710-b4e5-11ec-b26a-0242ac110002-8-03ad-fe85-692b-f3e8-aecb-82d6-38ea-13b0",
     "previous": "a06da760-b4e2-11ec-b26a-0242ac110002-8-9a69-32ca-04d3-a8b3-cbdf-2a7f-3802-0d27"
    }
   },
   "source": [
    "=== slurm.conf の編集 =============================================================================================="
   ]
  },
  {
   "cell_type": "markdown",
   "metadata": {
    "lc_cell_meme": {
     "current": "fb069710-b4e5-11ec-b26a-0242ac110002-8-03ad-fe85-692b-f3e8-aecb-82d6-38ea-13b0",
     "next": "6ed7b1a2-d655-11ec-b26a-0242ac110002-5-0c40-e28b-13a3-5842-c750",
     "previous": "fb069710-b4e5-11ec-b26a-0242ac110002-7-03ad-8f64-6faa-efb7-1844-23d4-8986"
    }
   },
   "source": [
    "★★★ slurm.conf 編集を自動化 ★★★★★★ \n",
    "\n",
    "Slurmの設定ファイル`slurm.conf`を編集します。\n",
    "\n",
    "> 設定ファイルの記述方法の詳細については [slurm.conf(5)](https://slurm.schedmd.com/slurm.conf.html)を参照してください。\n",
    "\n",
    "次のセルを実行すると、以下の手順が実行されます。\n",
    "\n",
    "1. マスターノードの設定ファイル(slurm.conf)をローカル環境に取得する\n",
    "1. 計算ノードのGPUを含めた詳細情報を取得する\n",
    "1. ローカル環境に取得したslurm.confを計算ノードの情報で編集する\n",
    "\n",
    "ローカル環境に取得したファイルは、以下のパスに格納されています。\n",
    "\n",
    "`./edit/{ugroup_name}/{YYYYMMDDHHmmssffffff}/slurm.conf`\n",
    "\n",
    "`{ugroup_name}` には UnitGroup名が、`{YYYYMMDDHHmmssfffff}` にはファイルを取得したタイムスタンプが入ります。\n",
    "\n",
    "また、バックアップファイルは以下のパスに格納されます。\n",
    "\n",
    "`./edit/{ugroup_name}/{YYYYMMDDHHmmssffffff}/slurm.conf.orig`"
   ]
  },
  {
   "cell_type": "code",
   "execution_count": null,
   "metadata": {
    "lc_cell_meme": {
     "current": "6ed7b1a2-d655-11ec-b26a-0242ac110002-5-0c40-e28b-13a3-5842-c750",
     "next": "a06da954-b4e2-11ec-b26a-0242ac110002-9-29cb-80cc-ac4d-4126-ce69-1ab7-ef47-be43-1ce4",
     "previous": "fb069710-b4e5-11ec-b26a-0242ac110002-8-03ad-fe85-692b-f3e8-aecb-82d6-38ea-13b0"
    },
    "lc_wrapper": {}
   },
   "outputs": [],
   "source": [
    "# ★★★ slurm.conf 編集を自動化 ★★★\n",
    "%run scripts/edit_conf.py\n",
    "\n",
    "# slurm.conf バックアップ\n",
    "slurm_conf_path = '/etc/slurm/slurm.conf'\n",
    "local_path = download_conf_file(slurm_conf_path, ugroup_name, 'master')\n",
    "org = local_path.parent / (local_path.name + '.orig')\n",
    "shutil.copy2(local_path, org)\n",
    "\n",
    "# 計算ノード情報生成\n",
    "cr_info_rep = 'NodeName='\n",
    "cr_info_rep += f'{c_hostname_prefix}[1-{compute_nodes}]' if compute_nodes > 1 else f'{c_hostname_prefix}1'\n",
    "cr_info_rep += ' Gres=gpu:1'\n",
    "cr_info = !ansible {ugroup_name}_compute -a '/usr/sbin/slurmd -C'\n",
    "for x in range(1, len(cr_info), 3):\n",
    "    if cr_info[x][0:9] == 'NodeName=':\n",
    "        for y in range(1, len(cr_info[x].split())):\n",
    "            cr_info_rep += ' ' + cr_info[x].split()[y]\n",
    "        cr_info_rep += ' State=UNKNOWN\\nGresTypes=gpu\\n'\n",
    "        break\n",
    "\n",
    "# 編集(NodeName の置き換え)\n",
    "with open(Path(org)) as f:\n",
    "    content = f.readlines()\n",
    "for x in range(len(content)):\n",
    "    if content[x][0:9] == 'NodeName=':\n",
    "        content[x] = cr_info_rep\n",
    "        break\n",
    "with open(Path(local_path), mode='w') as f:\n",
    "    f.writelines(content)"
   ]
  },
  {
   "cell_type": "markdown",
   "metadata": {
    "lc_cell_meme": {
     "current": "a06da954-b4e2-11ec-b26a-0242ac110002-9-29cb-80cc-ac4d-4126-ce69-1ab7-ef47-be43-1ce4",
     "next": "e7f5649c-b4e2-11ec-b26a-0242ac110002-7-81a3-d9bc-2b71-2ded-cb75-b528-93bb",
     "previous": "6ed7b1a2-d655-11ec-b26a-0242ac110002-5-0c40-e28b-13a3-5842-c750"
    }
   },
   "source": [
    "参考：計算ノードの GPU 情報"
   ]
  },
  {
   "cell_type": "code",
   "execution_count": null,
   "metadata": {
    "lc_cell_meme": {
     "current": "e7f5649c-b4e2-11ec-b26a-0242ac110002-7-81a3-d9bc-2b71-2ded-cb75-b528-93bb",
     "next": "6bad014e-b4e5-11ec-b26a-0242ac110002-7-8540-c6a9-96c2-4e40-c6c3-41d5-12f0",
     "previous": "a06da954-b4e2-11ec-b26a-0242ac110002-9-29cb-80cc-ac4d-4126-ce69-1ab7-ef47-be43-1ce4"
    },
    "lc_wrapper": {}
   },
   "outputs": [],
   "source": [
    "!ansible {ugroup_name}_compute -a 'nvidia-smi -L'"
   ]
  },
  {
   "cell_type": "markdown",
   "metadata": {
    "lc_cell_meme": {
     "current": "6bad014e-b4e5-11ec-b26a-0242ac110002-7-8540-c6a9-96c2-4e40-c6c3-41d5-12f0",
     "next": "6bad0248-b4e5-11ec-b26a-0242ac110002-7-68b8-959b-161a-ebc8-c595-6500-7282",
     "previous": "e7f5649c-b4e2-11ec-b26a-0242ac110002-7-81a3-d9bc-2b71-2ded-cb75-b528-93bb"
    }
   },
   "source": [
    "編集前後の差分を表示します。"
   ]
  },
  {
   "cell_type": "code",
   "execution_count": null,
   "metadata": {
    "lc_cell_meme": {
     "current": "6bad0248-b4e5-11ec-b26a-0242ac110002-7-68b8-959b-161a-ebc8-c595-6500-7282",
     "next": "6bad0306-b4e5-11ec-b26a-0242ac110002-7-d17d-808f-c158-a609-78c7-9b7c-8e30",
     "previous": "6bad014e-b4e5-11ec-b26a-0242ac110002-7-8540-c6a9-96c2-4e40-c6c3-41d5-12f0"
    },
    "lc_wrapper": {}
   },
   "outputs": [],
   "source": [
    "%run scripts/edit_conf.py\n",
    "show_local_conf_diff(slurm_conf_path, ugroup_name, 'master')"
   ]
  },
  {
   "cell_type": "markdown",
   "metadata": {
    "lc_cell_meme": {
     "current": "6bad0306-b4e5-11ec-b26a-0242ac110002-7-d17d-808f-c158-a609-78c7-9b7c-8e30",
     "next": "6bad0306-b4e5-11ec-b26a-0242ac110002-8-d17d-63c7-fb79-2e87-7ace-ec71-581c-8703",
     "previous": "6bad0248-b4e5-11ec-b26a-0242ac110002-7-68b8-959b-161a-ebc8-c595-6500-7282"
    }
   },
   "source": [
    "=== gres.conf の編集 ==============================================================================================="
   ]
  },
  {
   "cell_type": "markdown",
   "metadata": {
    "lc_cell_meme": {
     "current": "6bad0306-b4e5-11ec-b26a-0242ac110002-8-d17d-63c7-fb79-2e87-7ace-ec71-581c-8703",
     "next": "6bad03a6-b4e5-11ec-b26a-0242ac110002-8-ecd2-22c1-85fc-07f5-b1fd-0861-f545-2c20",
     "previous": "6bad0306-b4e5-11ec-b26a-0242ac110002-7-d17d-808f-c158-a609-78c7-9b7c-8e30"
    }
   },
   "source": [
    "★★★ gres.conf 編集を自動化 ★★★★★★ \n",
    "\n",
    "`/dev/nvidia0`などのデバイスファイルとの関連付けを行うために `gres.conf` を編集します。"
   ]
  },
  {
   "cell_type": "code",
   "execution_count": null,
   "metadata": {
    "lc_cell_meme": {
     "current": "6bad03a6-b4e5-11ec-b26a-0242ac110002-8-ecd2-22c1-85fc-07f5-b1fd-0861-f545-2c20",
     "next": "6bad0450-b4e5-11ec-b26a-0242ac110002-7-44f1-e0c6-de86-1f4c-3976-a1e5-2688",
     "previous": "6bad0306-b4e5-11ec-b26a-0242ac110002-8-d17d-63c7-fb79-2e87-7ace-ec71-581c-8703"
    },
    "lc_wrapper": {}
   },
   "outputs": [],
   "source": [
    "# ★★★ gres.conf 編集を自動化 ★★★\n",
    "%run scripts/edit_conf.py\n",
    "\n",
    "# gres.conf バックアップ\n",
    "gres_conf_path = '/etc/slurm/gres.conf'\n",
    "!ansible {ugroup_name}_master -m file -b -a 'path={gres_conf_path} state=touch'\n",
    "local_path = download_conf_file(gres_conf_path, ugroup_name, 'master')\n",
    "org = local_path.parent / (local_path.name + '.orig')\n",
    "shutil.copy2(local_path, org)\n",
    "\n",
    "# gpu 情報の追加\n",
    "!ansible {ugroup_name}_master -m file -b \\\n",
    "    -a 'path={gres_conf_path} state=touch'\n",
    "with open(local_path, mode='a') as f:\n",
    "    f.write('Name=gpu File=/dev/nvidia0\\n')"
   ]
  },
  {
   "cell_type": "markdown",
   "metadata": {
    "lc_cell_meme": {
     "current": "6bad0450-b4e5-11ec-b26a-0242ac110002-7-44f1-e0c6-de86-1f4c-3976-a1e5-2688",
     "next": "6bad0504-b4e5-11ec-b26a-0242ac110002-7-be67-44d5-7519-4648-2960-4d59-ac8b",
     "previous": "6bad03a6-b4e5-11ec-b26a-0242ac110002-8-ecd2-22c1-85fc-07f5-b1fd-0861-f545-2c20"
    }
   },
   "source": [
    "`gres.conf`の設定内容の詳細については [gres.conf(5)](https://slurm.schedmd.com/gres.conf.html) を参照してください。\n",
    "\n",
    "編集前後の差分を表示します。"
   ]
  },
  {
   "cell_type": "code",
   "execution_count": null,
   "metadata": {
    "lc_cell_meme": {
     "current": "6bad0504-b4e5-11ec-b26a-0242ac110002-7-be67-44d5-7519-4648-2960-4d59-ac8b",
     "next": "6bad05a4-b4e5-11ec-b26a-0242ac110002-7-9754-ddac-46ad-042d-0918-022a-9649",
     "previous": "6bad0450-b4e5-11ec-b26a-0242ac110002-7-44f1-e0c6-de86-1f4c-3976-a1e5-2688"
    },
    "lc_wrapper": {}
   },
   "outputs": [],
   "source": [
    "%run scripts/edit_conf.py\n",
    "show_local_conf_diff(gres_conf_path, ugroup_name, 'master')"
   ]
  },
  {
   "cell_type": "markdown",
   "metadata": {
    "lc_cell_meme": {
     "current": "6bad05a4-b4e5-11ec-b26a-0242ac110002-7-9754-ddac-46ad-042d-0918-022a-9649",
     "next": "6bad05a4-b4e5-11ec-b26a-0242ac110002-8-9754-9f32-bbf5-ca20-a723-1f78-b4c7-092e",
     "previous": "6bad0504-b4e5-11ec-b26a-0242ac110002-7-be67-44d5-7519-4648-2960-4d59-ac8b"
    }
   },
   "source": [
    "=== 編集した設定ファイルの反映 ========================================================================================"
   ]
  },
  {
   "cell_type": "markdown",
   "metadata": {
    "lc_cell_meme": {
     "current": "6bad05a4-b4e5-11ec-b26a-0242ac110002-8-9754-9f32-bbf5-ca20-a723-1f78-b4c7-092e",
     "next": "6bad0644-b4e5-11ec-b26a-0242ac110002-7-127a-29fb-56d3-9471-c188-e2d0-5d78",
     "previous": "6bad05a4-b4e5-11ec-b26a-0242ac110002-7-9754-ddac-46ad-042d-0918-022a-9649"
    }
   },
   "source": [
    "編集したファイルをVCノードに配置して、設定ファイルの変更内容をコンテナに反映させます。\n",
    "\n",
    "まず、変更前のノードの状態を確認します。"
   ]
  },
  {
   "cell_type": "code",
   "execution_count": null,
   "metadata": {
    "lc_cell_meme": {
     "current": "6bad0644-b4e5-11ec-b26a-0242ac110002-7-127a-29fb-56d3-9471-c188-e2d0-5d78",
     "next": "6bad06ee-b4e5-11ec-b26a-0242ac110002-7-ad03-2fda-339f-617b-11d6-bdeb-4abb",
     "previous": "6bad05a4-b4e5-11ec-b26a-0242ac110002-8-9754-9f32-bbf5-ca20-a723-1f78-b4c7-092e"
    },
    "lc_wrapper": {}
   },
   "outputs": [],
   "source": [
    "!ansible {ugroup_name}_master -a 'scontrol show node'"
   ]
  },
  {
   "cell_type": "markdown",
   "metadata": {
    "lc_cell_meme": {
     "current": "6bad06ee-b4e5-11ec-b26a-0242ac110002-7-ad03-2fda-339f-617b-11d6-bdeb-4abb",
     "next": "6bad078e-b4e5-11ec-b26a-0242ac110002-7-37c5-5176-7504-e0dd-5c95-d426-ac87",
     "previous": "6bad0644-b4e5-11ec-b26a-0242ac110002-7-127a-29fb-56d3-9471-c188-e2d0-5d78"
    }
   },
   "source": [
    "設定ファイルの変更を行います。\n",
    "\n",
    "次のセルを実行すると、`slurm.conf`, `gres.conf` のそれぞれの設定ファイルについて以下の手順が実行されます。\n",
    "\n",
    "1. 編集前と編集後の設定ファイルの差分を表示する\n",
    "2. 編集した設定ファイルを各VCノードに配置する"
   ]
  },
  {
   "cell_type": "code",
   "execution_count": null,
   "metadata": {
    "lc_cell_meme": {
     "current": "6bad078e-b4e5-11ec-b26a-0242ac110002-7-37c5-5176-7504-e0dd-5c95-d426-ac87",
     "next": "6bad082e-b4e5-11ec-b26a-0242ac110002-7-a13d-a6cb-b1ea-beb5-27ff-a941-3b55",
     "previous": "6bad06ee-b4e5-11ec-b26a-0242ac110002-7-ad03-2fda-339f-617b-11d6-bdeb-4abb"
    },
    "lc_wrapper": {}
   },
   "outputs": [],
   "source": [
    "%run scripts/edit_conf.py\n",
    "upload_conf(slurm_conf_path, ugroup_name)\n",
    "upload_conf(gres_conf_path, ugroup_name)"
   ]
  },
  {
   "cell_type": "markdown",
   "metadata": {
    "lc_cell_meme": {
     "current": "6bad082e-b4e5-11ec-b26a-0242ac110002-7-a13d-a6cb-b1ea-beb5-27ff-a941-3b55",
     "next": "6bad08d8-b4e5-11ec-b26a-0242ac110002-7-450e-9270-f8e9-b6d3-1e9e-3305-7dd1",
     "previous": "6bad078e-b4e5-11ec-b26a-0242ac110002-7-37c5-5176-7504-e0dd-5c95-d426-ac87"
    }
   },
   "source": [
    "変更後の設定を反映させるためにマスターノード、計算ノードの SLURMデーモンを再起動します。"
   ]
  },
  {
   "cell_type": "code",
   "execution_count": null,
   "metadata": {
    "lc_cell_meme": {
     "current": "6bad08d8-b4e5-11ec-b26a-0242ac110002-7-450e-9270-f8e9-b6d3-1e9e-3305-7dd1",
     "next": "6bad0978-b4e5-11ec-b26a-0242ac110002-7-a110-aee6-31ca-7aa1-07e6-1902-5d13",
     "previous": "6bad082e-b4e5-11ec-b26a-0242ac110002-7-a13d-a6cb-b1ea-beb5-27ff-a941-3b55"
    },
    "lc_wrapper": {}
   },
   "outputs": [],
   "source": [
    "!ansible {ugroup_name}_master -b -a 'systemctl restart slurmctld'\n",
    "!ansible {ugroup_name}_compute -b -a 'systemctl restart slurmd'"
   ]
  },
  {
   "cell_type": "markdown",
   "metadata": {
    "lc_cell_meme": {
     "current": "6bad0978-b4e5-11ec-b26a-0242ac110002-7-a110-aee6-31ca-7aa1-07e6-1902-5d13",
     "next": "8d3ca8fe-b9aa-11ec-b26a-0242ac110002-6-1811-2797-1265-74b1-1083-db83",
     "previous": "6bad08d8-b4e5-11ec-b26a-0242ac110002-7-450e-9270-f8e9-b6d3-1e9e-3305-7dd1"
    }
   },
   "source": [
    "ノードの状態を確認し、drain の場合各ノードの状態をアップデートします。"
   ]
  },
  {
   "cell_type": "code",
   "execution_count": null,
   "metadata": {
    "lc_cell_meme": {
     "current": "8d3ca8fe-b9aa-11ec-b26a-0242ac110002-6-1811-2797-1265-74b1-1083-db83",
     "next": "60dd7c2e-b4e7-11ec-b26a-0242ac110002-7-6752-02c7-1ce6-f8cf-7592-9963-aeff",
     "previous": "6bad0978-b4e5-11ec-b26a-0242ac110002-7-a110-aee6-31ca-7aa1-07e6-1902-5d13"
    },
    "lc_wrapper": {}
   },
   "outputs": [],
   "source": [
    "# ★★★ STATE = drain 時の自動リカバリのためにオリジナルを改造 ★★★\n",
    "%run scripts/group.py\n",
    "\n",
    "count = 5\n",
    "while True:\n",
    "    bs_state = !ansible {ugroup_name}_master -a sinfo\n",
    "    bs_state = bs_state[len(bs_state)-1]\n",
    "    print(bs_state)\n",
    "    \n",
    "    if bs_state.split()[4] != 'drain':\n",
    "        break\n",
    "    else:\n",
    "        gvars = load_group_vars(ugroup_name)\n",
    "        for x in gvars['compute_etc_hosts'].values():\n",
    "            !ansible {ugroup_name}_master -b -a 'scontrol update nodename={x} state=resume' || true\n",
    "\n",
    "        !sleep 5           \n",
    "            \n",
    "    count -= 1\n",
    "    if count == 0:\n",
    "        raise RuntimeError('Error: node drain')"
   ]
  },
  {
   "cell_type": "markdown",
   "metadata": {
    "lc_cell_meme": {
     "current": "60dd7c2e-b4e7-11ec-b26a-0242ac110002-7-6752-02c7-1ce6-f8cf-7592-9963-aeff",
     "next": "60dd7cd8-b4e7-11ec-b26a-0242ac110002-7-ee7d-221c-3255-72b3-1b3e-53b7-fccd",
     "previous": "8d3ca8fe-b9aa-11ec-b26a-0242ac110002-6-1811-2797-1265-74b1-1083-db83"
    }
   },
   "source": [
    "各ノードのGRESの状況を表示します。"
   ]
  },
  {
   "cell_type": "code",
   "execution_count": null,
   "metadata": {
    "lc_cell_meme": {
     "current": "60dd7cd8-b4e7-11ec-b26a-0242ac110002-7-ee7d-221c-3255-72b3-1b3e-53b7-fccd",
     "next": "60dd7d78-b4e7-11ec-b26a-0242ac110002-7-b48a-e1f7-6cea-0340-8516-2a00-61da",
     "previous": "60dd7c2e-b4e7-11ec-b26a-0242ac110002-7-6752-02c7-1ce6-f8cf-7592-9963-aeff"
    },
    "lc_wrapper": {}
   },
   "outputs": [],
   "source": [
    "!ansible {ugroup_name}_master -a 'sinfo --Node --Format=NodeHost,Gres,GresUsed'"
   ]
  },
  {
   "cell_type": "markdown",
   "metadata": {
    "lc_cell_meme": {
     "current": "60dd7d78-b4e7-11ec-b26a-0242ac110002-7-b48a-e1f7-6cea-0340-8516-2a00-61da",
     "next": "60dd7e18-b4e7-11ec-b26a-0242ac110002-7-0810-5227-0ec2-d20f-b496-84c3-18b6",
     "previous": "60dd7cd8-b4e7-11ec-b26a-0242ac110002-7-ee7d-221c-3255-72b3-1b3e-53b7-fccd"
    }
   },
   "source": [
    "ただしく設定変更が行われていると`GRES`の欄にGPUが表示されます。`GRES`の列に GPU が表示されていることを確認してください。\n",
    "```\n",
    "HOSTNAMES           GRES             GRES_USED           \n",
    "c1                  gpu:1            gpu:0\n",
    "\n",
    "```\n",
    "\n",
    "\n",
    "\n",
    "ノード状態の詳細を表示します。"
   ]
  },
  {
   "cell_type": "code",
   "execution_count": null,
   "metadata": {
    "lc_cell_meme": {
     "current": "60dd7e18-b4e7-11ec-b26a-0242ac110002-7-0810-5227-0ec2-d20f-b496-84c3-18b6",
     "next": "60dd7eb8-b4e7-11ec-b26a-0242ac110002-8-20a0-05b9-e911-53ae-c796-edb6-fd7d-6025",
     "previous": "60dd7d78-b4e7-11ec-b26a-0242ac110002-7-b48a-e1f7-6cea-0340-8516-2a00-61da"
    },
    "lc_wrapper": {}
   },
   "outputs": [],
   "source": [
    "!ansible {ugroup_name}_master -a 'scontrol show node'"
   ]
  },
  {
   "cell_type": "markdown",
   "metadata": {
    "lc_cell_meme": {
     "current": "60dd7eb8-b4e7-11ec-b26a-0242ac110002-8-20a0-05b9-e911-53ae-c796-edb6-fd7d-6025",
     "next": "373a3cc6-b4e8-11ec-b26a-0242ac110002-7-d2ca-41c8-ec80-e15c-5864-f9ef-5fab",
     "previous": "60dd7e18-b4e7-11ec-b26a-0242ac110002-7-0810-5227-0ec2-d20f-b496-84c3-18b6"
    }
   },
   "source": [
    "表示されたノードの状態が正しくない場合は「4. 設定ファイルの編集」以降のセルを unfreeze してから再度設定ファイルの変更を行ってください。"
   ]
  },
  {
   "cell_type": "markdown",
   "metadata": {
    "lc_cell_meme": {
     "current": "373a3cc6-b4e8-11ec-b26a-0242ac110002-7-d2ca-41c8-ec80-e15c-5864-f9ef-5fab",
     "next": "5558994a-b4e9-11ec-b26a-0242ac110002-7-ac5a-81b8-ee2f-6e90-5534-39c1-322c",
     "previous": "60dd7eb8-b4e7-11ec-b26a-0242ac110002-8-20a0-05b9-e911-53ae-c796-edb6-fd7d-6025"
    }
   },
   "source": [
    "#### Docker Engineのインストール（based on 071-DockerEngineのインストール.ipynb）"
   ]
  },
  {
   "cell_type": "markdown",
   "metadata": {
    "lc_cell_meme": {
     "current": "5558994a-b4e9-11ec-b26a-0242ac110002-7-ac5a-81b8-ee2f-6e90-5534-39c1-322c",
     "next": "5558994a-b4e9-11ec-b26a-0242ac110002-8-7d6a-7172-bd22-940b-3cbb-3207-d37f-8fd3",
     "previous": "373a3cc6-b4e8-11ec-b26a-0242ac110002-7-d2ca-41c8-ec80-e15c-5864-f9ef-5fab"
    }
   },
   "source": [
    "[Install Docker Engine on CentOS](https://docs.docker.com/engine/install/centos/)の手順に従い Docekr Engineを計算ノードにインストールします。"
   ]
  },
  {
   "cell_type": "markdown",
   "metadata": {
    "lc_cell_meme": {
     "current": "5558994a-b4e9-11ec-b26a-0242ac110002-8-7d6a-7172-bd22-940b-3cbb-3207-d37f-8fd3",
     "next": "5558994a-b4e9-11ec-b26a-0242ac110002-8-d662-0020-24d9-3f5b-1916-63cf-b946-faf7",
     "previous": "5558994a-b4e9-11ec-b26a-0242ac110002-7-ac5a-81b8-ee2f-6e90-5534-39c1-322c"
    }
   },
   "source": [
    "=== Docker レポジトリの追加 ========================================================================================="
   ]
  },
  {
   "cell_type": "markdown",
   "metadata": {
    "lc_cell_meme": {
     "current": "5558994a-b4e9-11ec-b26a-0242ac110002-8-d662-0020-24d9-3f5b-1916-63cf-b946-faf7",
     "next": "60dd7f58-b4e7-11ec-b26a-0242ac110002-7-3081-874b-7b60-a54a-5840-f8ce-67a7",
     "previous": "5558994a-b4e9-11ec-b26a-0242ac110002-8-7d6a-7172-bd22-940b-3cbb-3207-d37f-8fd3"
    }
   },
   "source": [
    "Docker のレポジトリを追加します。"
   ]
  },
  {
   "cell_type": "code",
   "execution_count": null,
   "metadata": {
    "lc_cell_meme": {
     "current": "60dd7f58-b4e7-11ec-b26a-0242ac110002-7-3081-874b-7b60-a54a-5840-f8ce-67a7",
     "next": "5558994a-b4e9-11ec-b26a-0242ac110002-9-7d6a-6b2f-b87b-256c-833a-d4cc-9422-5ffb-51ff",
     "previous": "5558994a-b4e9-11ec-b26a-0242ac110002-8-d662-0020-24d9-3f5b-1916-63cf-b946-faf7"
    },
    "lc_wrapper": {}
   },
   "outputs": [],
   "source": [
    "!ansible {ugroup_name}_compute -b -m yum -a 'name=yum-utils'\n",
    "!ansible {ugroup_name}_compute -b -a 'yum-config-manager --add-repo \\\n",
    "    https://download.docker.com/linux/centos/docker-ce.repo'"
   ]
  },
  {
   "cell_type": "markdown",
   "metadata": {
    "lc_cell_meme": {
     "current": "5558994a-b4e9-11ec-b26a-0242ac110002-9-7d6a-6b2f-b87b-256c-833a-d4cc-9422-5ffb-51ff",
     "next": "60dd7ff8-b4e7-11ec-b26a-0242ac110002-8-9efe-1001-6320-d384-89f4-9568-535f-e2f7",
     "previous": "60dd7f58-b4e7-11ec-b26a-0242ac110002-7-3081-874b-7b60-a54a-5840-f8ce-67a7"
    }
   },
   "source": [
    "=== Docker エンジンのインストールと起動 ==============================================================================="
   ]
  },
  {
   "cell_type": "markdown",
   "metadata": {
    "lc_cell_meme": {
     "current": "60dd7ff8-b4e7-11ec-b26a-0242ac110002-8-9efe-1001-6320-d384-89f4-9568-535f-e2f7",
     "next": "60dd8098-b4e7-11ec-b26a-0242ac110002-7-9fc0-20c4-b38c-ae0e-0c95-9ecc-9fd1",
     "previous": "5558994a-b4e9-11ec-b26a-0242ac110002-9-7d6a-6b2f-b87b-256c-833a-d4cc-9422-5ffb-51ff"
    }
   },
   "source": [
    "Docker Engine をインストールします。"
   ]
  },
  {
   "cell_type": "code",
   "execution_count": null,
   "metadata": {
    "lc_cell_meme": {
     "current": "60dd8098-b4e7-11ec-b26a-0242ac110002-7-9fc0-20c4-b38c-ae0e-0c95-9ecc-9fd1",
     "next": "60dd8142-b4e7-11ec-b26a-0242ac110002-8-bb91-5af1-71f2-e814-0d82-217d-4f85-fe25",
     "previous": "60dd7ff8-b4e7-11ec-b26a-0242ac110002-8-9efe-1001-6320-d384-89f4-9568-535f-e2f7"
    },
    "lc_wrapper": {}
   },
   "outputs": [],
   "source": [
    "!ansible {ugroup_name}_compute -b -m yum -a 'name=docker-ce,docker-ce-cli,containerd.io'"
   ]
  },
  {
   "cell_type": "markdown",
   "metadata": {
    "lc_cell_meme": {
     "current": "60dd8142-b4e7-11ec-b26a-0242ac110002-8-bb91-5af1-71f2-e814-0d82-217d-4f85-fe25",
     "next": "60dd81e2-b4e7-11ec-b26a-0242ac110002-7-f3f3-6525-9532-1ab7-c919-bf64-1721",
     "previous": "60dd8098-b4e7-11ec-b26a-0242ac110002-7-9fc0-20c4-b38c-ae0e-0c95-9ecc-9fd1"
    }
   },
   "source": [
    "Docker Engineのサービスを開始します。"
   ]
  },
  {
   "cell_type": "code",
   "execution_count": null,
   "metadata": {
    "lc_cell_meme": {
     "current": "60dd81e2-b4e7-11ec-b26a-0242ac110002-7-f3f3-6525-9532-1ab7-c919-bf64-1721",
     "next": "60dd828c-b4e7-11ec-b26a-0242ac110002-8-0352-1065-567e-6e77-0f27-167e-2082-6639",
     "previous": "60dd8142-b4e7-11ec-b26a-0242ac110002-8-bb91-5af1-71f2-e814-0d82-217d-4f85-fe25"
    },
    "lc_wrapper": {}
   },
   "outputs": [],
   "source": [
    "!ansible {ugroup_name}_compute -b -m systemd -a 'name=docker enabled=yes state=started'"
   ]
  },
  {
   "cell_type": "markdown",
   "metadata": {
    "lc_cell_meme": {
     "current": "60dd828c-b4e7-11ec-b26a-0242ac110002-8-0352-1065-567e-6e77-0f27-167e-2082-6639",
     "next": "60dd832c-b4e7-11ec-b26a-0242ac110002-7-111d-bba5-0d80-3481-b0fc-c006-6001",
     "previous": "60dd81e2-b4e7-11ec-b26a-0242ac110002-7-f3f3-6525-9532-1ab7-c919-bf64-1721"
    }
   },
   "source": [
    "Docker Engineが利用できることを確認するために `docker info`コマンドを実行します。"
   ]
  },
  {
   "cell_type": "code",
   "execution_count": null,
   "metadata": {
    "lc_cell_meme": {
     "current": "60dd832c-b4e7-11ec-b26a-0242ac110002-7-111d-bba5-0d80-3481-b0fc-c006-6001",
     "next": "60dd83cc-b4e7-11ec-b26a-0242ac110002-8-2dec-797c-f3fe-05cb-0375-20d2-d66f-3c34",
     "previous": "60dd828c-b4e7-11ec-b26a-0242ac110002-8-0352-1065-567e-6e77-0f27-167e-2082-6639"
    },
    "lc_wrapper": {}
   },
   "outputs": [],
   "source": [
    "!ansible {ugroup_name}_compute -a 'docker info'"
   ]
  },
  {
   "cell_type": "markdown",
   "metadata": {
    "lc_cell_meme": {
     "current": "60dd83cc-b4e7-11ec-b26a-0242ac110002-8-2dec-797c-f3fe-05cb-0375-20d2-d66f-3c34",
     "next": "60dd8476-b4e7-11ec-b26a-0242ac110002-7-4fc0-a3e2-3f41-7705-bec4-3897-f2b0",
     "previous": "60dd832c-b4e7-11ec-b26a-0242ac110002-7-111d-bba5-0d80-3481-b0fc-c006-6001"
    }
   },
   "source": [
    "コンテナを実行できることを確認するために`hello-world`コンテナを実行します。"
   ]
  },
  {
   "cell_type": "code",
   "execution_count": null,
   "metadata": {
    "lc_cell_meme": {
     "current": "60dd8476-b4e7-11ec-b26a-0242ac110002-7-4fc0-a3e2-3f41-7705-bec4-3897-f2b0",
     "next": "60dd8520-b4e7-11ec-b26a-0242ac110002-8-35f1-a745-f66c-0a71-b689-6ee9-bb9d-4079",
     "previous": "60dd83cc-b4e7-11ec-b26a-0242ac110002-8-2dec-797c-f3fe-05cb-0375-20d2-d66f-3c34"
    },
    "lc_wrapper": {}
   },
   "outputs": [],
   "source": [
    "!ansible {ugroup_name}_compute -a 'docker run --rm hello-world'"
   ]
  },
  {
   "cell_type": "markdown",
   "metadata": {
    "lc_cell_meme": {
     "current": "60dd8520-b4e7-11ec-b26a-0242ac110002-8-35f1-a745-f66c-0a71-b689-6ee9-bb9d-4079",
     "next": "c5341f90-b9fe-11ec-b26a-0242ac110002-6-2687-274b-71c2-73a2-ef64-ffb3",
     "previous": "60dd8476-b4e7-11ec-b26a-0242ac110002-7-4fc0-a3e2-3f41-7705-bec4-3897-f2b0"
    }
   },
   "source": [
    "#### NVIDIA Container Toolkit のインストール（based on 071-DockerEngineのインストール.ipynb）"
   ]
  },
  {
   "cell_type": "markdown",
   "metadata": {
    "lc_cell_meme": {
     "current": "c5341f90-b9fe-11ec-b26a-0242ac110002-6-2687-274b-71c2-73a2-ef64-ffb3",
     "next": "60dd8520-b4e7-11ec-b26a-0242ac110002-9-35f1-a745-64e9-0391-3dca-33ea-3416-8b8f-d2ca",
     "previous": "60dd8520-b4e7-11ec-b26a-0242ac110002-8-35f1-a745-f66c-0a71-b689-6ee9-bb9d-4079"
    }
   },
   "source": [
    "=== レポジトリの追加 ================================================================================================"
   ]
  },
  {
   "cell_type": "markdown",
   "metadata": {
    "lc_cell_meme": {
     "current": "60dd8520-b4e7-11ec-b26a-0242ac110002-9-35f1-a745-64e9-0391-3dca-33ea-3416-8b8f-d2ca",
     "next": "60dd85c0-b4e7-11ec-b26a-0242ac110002-7-33dd-a862-f402-d325-5128-a30a-13e3",
     "previous": "c5341f90-b9fe-11ec-b26a-0242ac110002-6-2687-274b-71c2-73a2-ef64-ffb3"
    }
   },
   "source": [
    "[Setting up NVIDIA Container Toolkit](https://docs.nvidia.com/datacenter/cloud-native/container-toolkit/install-guide.html#id2)の手順に従いインストールを行います。\n",
    "\n",
    "> 計算ノードでGPUが利用できる場合のみ NVIDIA Container Toolkitのインストールが必要となります。計算ノードでGPUが利用できない場合はこの節の実行は不要です。\n",
    "\n",
    "レポジトリを追加します。"
   ]
  },
  {
   "cell_type": "code",
   "execution_count": null,
   "metadata": {
    "lc_cell_meme": {
     "current": "60dd85c0-b4e7-11ec-b26a-0242ac110002-7-33dd-a862-f402-d325-5128-a30a-13e3",
     "next": "c5342166-b9fe-11ec-b26a-0242ac110002-6-a2cd-6c99-1bf1-c77f-d6d6-5b6b",
     "previous": "60dd8520-b4e7-11ec-b26a-0242ac110002-9-35f1-a745-64e9-0391-3dca-33ea-3416-8b8f-d2ca"
    },
    "lc_wrapper": {}
   },
   "outputs": [],
   "source": [
    "!ansible {ugroup_name}_compute -b -m shell -a \\\n",
    "    'distribution=$(. /etc/os-release;echo rhel$VERSION_ID) \\\n",
    "    && curl -s -L https://nvidia.github.io/nvidia-docker/$distribution/nvidia-docker.repo | tee /etc/yum.repos.d/nvidia-docker.repo'"
   ]
  },
  {
   "cell_type": "markdown",
   "metadata": {
    "lc_cell_meme": {
     "current": "c5342166-b9fe-11ec-b26a-0242ac110002-6-a2cd-6c99-1bf1-c77f-d6d6-5b6b",
     "next": "60dd8700-b4e7-11ec-b26a-0242ac110002-7-d977-20e7-3571-6851-258e-53af-daac",
     "previous": "60dd85c0-b4e7-11ec-b26a-0242ac110002-7-33dd-a862-f402-d325-5128-a30a-13e3"
    }
   },
   "source": [
    "=== nvidia-docker2 パッケージのインストール ==========================================================================="
   ]
  },
  {
   "cell_type": "code",
   "execution_count": null,
   "metadata": {
    "lc_cell_meme": {
     "current": "60dd8700-b4e7-11ec-b26a-0242ac110002-7-d977-20e7-3571-6851-258e-53af-daac",
     "next": "e47a5de8-b4e9-11ec-b26a-0242ac110002-8-f8b3-4f71-4d88-b998-0d70-a674-ed1f-7a23",
     "previous": "c5342166-b9fe-11ec-b26a-0242ac110002-6-a2cd-6c99-1bf1-c77f-d6d6-5b6b"
    },
    "lc_wrapper": {}
   },
   "outputs": [],
   "source": [
    "!ansible {ugroup_name}_compute -b -m dnf -a \\\n",
    "    'name=nvidia-docker2 update_cache=yes'"
   ]
  },
  {
   "cell_type": "markdown",
   "metadata": {
    "lc_cell_meme": {
     "current": "e47a5de8-b4e9-11ec-b26a-0242ac110002-8-f8b3-4f71-4d88-b998-0d70-a674-ed1f-7a23",
     "next": "e47a5eb0-b4e9-11ec-b26a-0242ac110002-7-6265-be5e-b62b-3f5d-e3b8-bf7f-5674",
     "previous": "60dd8700-b4e7-11ec-b26a-0242ac110002-7-d977-20e7-3571-6851-258e-53af-daac"
    }
   },
   "source": [
    "変更を反映するために Docker Engine を再起動します。"
   ]
  },
  {
   "cell_type": "code",
   "execution_count": null,
   "metadata": {
    "lc_cell_meme": {
     "current": "e47a5eb0-b4e9-11ec-b26a-0242ac110002-7-6265-be5e-b62b-3f5d-e3b8-bf7f-5674",
     "next": "e47a5f78-b4e9-11ec-b26a-0242ac110002-8-01a7-d882-7281-e8e7-1877-dc10-3739-4f62",
     "previous": "e47a5de8-b4e9-11ec-b26a-0242ac110002-8-f8b3-4f71-4d88-b998-0d70-a674-ed1f-7a23"
    },
    "lc_wrapper": {}
   },
   "outputs": [],
   "source": [
    "!ansible {ugroup_name}_compute -b -a 'systemctl restart docker'"
   ]
  },
  {
   "cell_type": "markdown",
   "metadata": {
    "lc_cell_meme": {
     "current": "e47a5f78-b4e9-11ec-b26a-0242ac110002-8-01a7-d882-7281-e8e7-1877-dc10-3739-4f62",
     "next": "e47a6036-b4e9-11ec-b26a-0242ac110002-7-3e3c-a59e-481e-b281-9ba1-104a-fb47",
     "previous": "e47a5eb0-b4e9-11ec-b26a-0242ac110002-7-6265-be5e-b62b-3f5d-e3b8-bf7f-5674"
    }
   },
   "source": [
    "変更が反映されたことを確認するためにDockerの情報を表示させます。`Server`の `Runtimes`に`nvidia`が追加されたことを確認してください。\n",
    "表示例を以下に示します。\n",
    "\n",
    "```\n",
    "Client:\n",
    " Context:    default\n",
    " Debug Mode: false\n",
    " Plugins:\n",
    "  app: Docker App (Docker Inc., v0.9.1-beta3)\n",
    "  buildx: Build with BuildKit (Docker Inc., v0.5.1-docker)\n",
    "  scan: Docker Scan (Docker Inc.)\n",
    "\n",
    "Server:\n",
    "(中略)\n",
    " Runtimes: io.containerd.runc.v2 io.containerd.runtime.v1.linux nvidia runc\n",
    " Default Runtime: runc\n",
    "(以降略) \n",
    "```"
   ]
  },
  {
   "cell_type": "code",
   "execution_count": null,
   "metadata": {
    "lc_cell_meme": {
     "current": "e47a6036-b4e9-11ec-b26a-0242ac110002-7-3e3c-a59e-481e-b281-9ba1-104a-fb47",
     "next": "e47a60ea-b4e9-11ec-b26a-0242ac110002-8-20d6-2190-592d-7b34-d843-9963-3023-434f",
     "previous": "e47a5f78-b4e9-11ec-b26a-0242ac110002-8-01a7-d882-7281-e8e7-1877-dc10-3739-4f62"
    },
    "lc_wrapper": {}
   },
   "outputs": [],
   "source": [
    "!ansible {ugroup_name}_compute -b -a 'docker info'"
   ]
  },
  {
   "cell_type": "markdown",
   "metadata": {
    "lc_cell_meme": {
     "current": "e47a60ea-b4e9-11ec-b26a-0242ac110002-8-20d6-2190-592d-7b34-d843-9963-3023-434f",
     "next": "e47a60ea-b4e9-11ec-b26a-0242ac110002-9-20d6-2190-ae1c-a050-c53c-28be-9ca1-7267-a3f8",
     "previous": "e47a6036-b4e9-11ec-b26a-0242ac110002-7-3e3c-a59e-481e-b281-9ba1-104a-fb47"
    }
   },
   "source": [
    "#### ユーザの追加（based on 051-ユーザの追加.ipynb）"
   ]
  },
  {
   "cell_type": "markdown",
   "metadata": {
    "lc_cell_meme": {
     "current": "e47a60ea-b4e9-11ec-b26a-0242ac110002-9-20d6-2190-ae1c-a050-c53c-28be-9ca1-7267-a3f8",
     "next": "e47a62f2-b4e9-11ec-b26a-0242ac110002-7-32a4-aaaf-319a-3700-e0a4-8b84-da1e",
     "previous": "e47a60ea-b4e9-11ec-b26a-0242ac110002-8-20d6-2190-592d-7b34-d843-9963-3023-434f"
    }
   },
   "source": [
    "=== ユーザの追加 ====================================================================================================\n",
    "\n",
    "OpenHPC環境にユーザを追加します。"
   ]
  },
  {
   "cell_type": "code",
   "execution_count": null,
   "metadata": {
    "lc_cell_meme": {
     "current": "e47a62f2-b4e9-11ec-b26a-0242ac110002-7-32a4-aaaf-319a-3700-e0a4-8b84-da1e",
     "next": "e47a639c-b4e9-11ec-b26a-0242ac110002-8-c5ee-ad7d-858b-539b-0520-be3c-e90a-a2e1",
     "previous": "e47a60ea-b4e9-11ec-b26a-0242ac110002-9-20d6-2190-ae1c-a050-c53c-28be-9ca1-7267-a3f8"
    },
    "lc_wrapper": {}
   },
   "outputs": [],
   "source": [
    "!ansible {ugroup_name}_master -b -m user -a 'name={ohpc_user}'\n",
    "!ansible {ugroup_name}_compute -b -m user -a 'name={ohpc_user}'"
   ]
  },
  {
   "cell_type": "markdown",
   "metadata": {
    "lc_cell_meme": {
     "current": "e47a639c-b4e9-11ec-b26a-0242ac110002-8-c5ee-ad7d-858b-539b-0520-be3c-e90a-a2e1",
     "next": "2a98a462-bb1e-11ec-b26a-0242ac110002-6-7cd4-3133-da78-f822-c985-b669",
     "previous": "e47a62f2-b4e9-11ec-b26a-0242ac110002-7-32a4-aaaf-319a-3700-e0a4-8b84-da1e"
    }
   },
   "source": [
    "作成したユーザのSSHの公開鍵を `$HOME/.ssh/authorized_keys` に追加します。"
   ]
  },
  {
   "cell_type": "code",
   "execution_count": null,
   "metadata": {
    "lc_cell_meme": {
     "current": "2a98a462-bb1e-11ec-b26a-0242ac110002-6-7cd4-3133-da78-f822-c985-b669",
     "next": "e47a6518-b4e9-11ec-b26a-0242ac110002-8-7946-2e87-216f-b20a-87ab-b904-f6f7-a2cc",
     "previous": "e47a639c-b4e9-11ec-b26a-0242ac110002-8-c5ee-ad7d-858b-539b-0520-be3c-e90a-a2e1"
    },
    "lc_wrapper": {}
   },
   "outputs": [],
   "source": [
    "\n",
    "import os\n",
    "pubkey = os.path.expanduser(ohpc_user_pubkey)\n",
    "with open(pubkey) as f:\n",
    "    ssh_public_key = f.read()\n",
    "print(ssh_public_key)"
   ]
  },
  {
   "cell_type": "markdown",
   "metadata": {
    "lc_cell_meme": {
     "current": "e47a6518-b4e9-11ec-b26a-0242ac110002-8-7946-2e87-216f-b20a-87ab-b904-f6f7-a2cc",
     "next": "e47a65cc-b4e9-11ec-b26a-0242ac110002-7-7b33-0e75-41f0-a5ef-59a8-920e-f4e4",
     "previous": "2a98a462-bb1e-11ec-b26a-0242ac110002-6-7cd4-3133-da78-f822-c985-b669"
    }
   },
   "source": [
    "入力されたSSHの公開鍵を登録します。"
   ]
  },
  {
   "cell_type": "code",
   "execution_count": null,
   "metadata": {
    "lc_cell_meme": {
     "current": "e47a65cc-b4e9-11ec-b26a-0242ac110002-7-7b33-0e75-41f0-a5ef-59a8-920e-f4e4",
     "next": "e47a6676-b4e9-11ec-b26a-0242ac110002-8-c286-0c4f-a884-7306-fbc6-eb46-2f80-39ff",
     "previous": "e47a6518-b4e9-11ec-b26a-0242ac110002-8-7946-2e87-216f-b20a-87ab-b904-f6f7-a2cc"
    },
    "lc_wrapper": {}
   },
   "outputs": [],
   "source": [
    "!ansible {ugroup_name}_master -b -m authorized_key -a 'user={ohpc_user} key=\"{ssh_public_key}\"'"
   ]
  },
  {
   "cell_type": "markdown",
   "metadata": {
    "lc_cell_meme": {
     "current": "e47a6676-b4e9-11ec-b26a-0242ac110002-8-c286-0c4f-a884-7306-fbc6-eb46-2f80-39ff",
     "next": "e47a6720-b4e9-11ec-b26a-0242ac110002-7-0e75-dc58-cb07-a5ac-296f-0e8c-8183",
     "previous": "e47a65cc-b4e9-11ec-b26a-0242ac110002-7-7b33-0e75-41f0-a5ef-59a8-920e-f4e4"
    }
   },
   "source": [
    "登録したユーザでログインして、コマンドを実行しエラーにならないことを確認します。"
   ]
  },
  {
   "cell_type": "code",
   "execution_count": null,
   "metadata": {
    "lc_cell_meme": {
     "current": "e47a6720-b4e9-11ec-b26a-0242ac110002-7-0e75-dc58-cb07-a5ac-296f-0e8c-8183",
     "next": "e47a67ca-b4e9-11ec-b26a-0242ac110002-8-ce2c-b75a-30fe-cb67-dbd7-4c3e-1c28-720e",
     "previous": "e47a6676-b4e9-11ec-b26a-0242ac110002-8-c286-0c4f-a884-7306-fbc6-eb46-2f80-39ff"
    },
    "lc_wrapper": {}
   },
   "outputs": [],
   "source": [
    "!ssh -i {ohpc_user_prvkey} {ohpc_user}@{master_ipaddress} hostname"
   ]
  },
  {
   "cell_type": "markdown",
   "metadata": {
    "lc_cell_meme": {
     "current": "e47a67ca-b4e9-11ec-b26a-0242ac110002-8-ce2c-b75a-30fe-cb67-dbd7-4c3e-1c28-720e",
     "next": "97ee3b72-d0da-11ec-b26a-0242ac110002-6-f04e-1179-4559-8a01-68d6-4578",
     "previous": "e47a6720-b4e9-11ec-b26a-0242ac110002-7-0e75-dc58-cb07-a5ac-296f-0e8c-8183"
    }
   },
   "source": [
    "=== グループの追加 =================================================================================================="
   ]
  },
  {
   "cell_type": "markdown",
   "metadata": {
    "lc_cell_meme": {
     "current": "97ee3b72-d0da-11ec-b26a-0242ac110002-6-f04e-1179-4559-8a01-68d6-4578",
     "next": "e47a686a-b4e9-11ec-b26a-0242ac110002-7-e91e-4772-517a-022b-e07f-dc80-2594",
     "previous": "e47a67ca-b4e9-11ec-b26a-0242ac110002-8-ce2c-b75a-30fe-cb67-dbd7-4c3e-1c28-720e"
    }
   },
   "source": [
    "ユーザをプライマリグループ(メイングループ)以外のグループに登録します。\n",
    "\n",
    "> 登録ユーザに docker コマンドの実行を許可する場合は `docker` グループへの登録が必要となります。"
   ]
  },
  {
   "cell_type": "code",
   "execution_count": null,
   "metadata": {
    "lc_cell_meme": {
     "current": "e47a686a-b4e9-11ec-b26a-0242ac110002-7-e91e-4772-517a-022b-e07f-dc80-2594",
     "next": "e47a691e-b4e9-11ec-b26a-0242ac110002-8-d734-2fd6-a60b-0b57-2ef1-073f-4e72-3b38",
     "previous": "97ee3b72-d0da-11ec-b26a-0242ac110002-6-f04e-1179-4559-8a01-68d6-4578"
    },
    "lc_wrapper": {}
   },
   "outputs": [],
   "source": [
    "\n",
    "groups = [\n",
    "    'docker',\n",
    "]"
   ]
  },
  {
   "cell_type": "markdown",
   "metadata": {
    "lc_cell_meme": {
     "current": "e47a691e-b4e9-11ec-b26a-0242ac110002-8-d734-2fd6-a60b-0b57-2ef1-073f-4e72-3b38",
     "next": "e47a69c8-b4e9-11ec-b26a-0242ac110002-7-3667-3cfb-fbd3-0920-99fc-8008-afd0",
     "previous": "e47a686a-b4e9-11ec-b26a-0242ac110002-7-e91e-4772-517a-022b-e07f-dc80-2594"
    }
   },
   "source": [
    "ユーザを指定したグループに追加します。"
   ]
  },
  {
   "cell_type": "code",
   "execution_count": null,
   "metadata": {
    "lc_cell_meme": {
     "current": "e47a69c8-b4e9-11ec-b26a-0242ac110002-7-3667-3cfb-fbd3-0920-99fc-8008-afd0",
     "next": "e47a6a72-b4e9-11ec-b26a-0242ac110002-8-cebd-b7f4-c0ca-ae0d-d1eb-2300-30d1-7146",
     "previous": "e47a691e-b4e9-11ec-b26a-0242ac110002-8-d734-2fd6-a60b-0b57-2ef1-073f-4e72-3b38"
    },
    "lc_wrapper": {}
   },
   "outputs": [],
   "source": [
    "if len(groups) > 0:\n",
    "    !ansible {ugroup_name}_master -b -m user -a 'name={ohpc_user} append=yes groups={\",\".join(groups)}'\n",
    "    !ansible {ugroup_name}_compute -b -m user -a 'name={ohpc_user} append=yes groups={\",\".join(groups)}'"
   ]
  },
  {
   "cell_type": "markdown",
   "metadata": {
    "lc_cell_meme": {
     "current": "e47a6a72-b4e9-11ec-b26a-0242ac110002-8-cebd-b7f4-c0ca-ae0d-d1eb-2300-30d1-7146",
     "next": "e47a6b12-b4e9-11ec-b26a-0242ac110002-7-023d-caa8-e296-1d4a-9e1a-8812-48d2",
     "previous": "e47a69c8-b4e9-11ec-b26a-0242ac110002-7-3667-3cfb-fbd3-0920-99fc-8008-afd0"
    }
   },
   "source": [
    "ユーザがグループに登録されたことを確認します。"
   ]
  },
  {
   "cell_type": "code",
   "execution_count": null,
   "metadata": {
    "lc_cell_meme": {
     "current": "e47a6b12-b4e9-11ec-b26a-0242ac110002-7-023d-caa8-e296-1d4a-9e1a-8812-48d2",
     "next": "5bded834-b583-11ec-b26a-0242ac110002-7-8fb4-0df7-c136-909a-e556-8ddd-d46d",
     "previous": "e47a6a72-b4e9-11ec-b26a-0242ac110002-8-cebd-b7f4-c0ca-ae0d-d1eb-2300-30d1-7146"
    },
    "lc_wrapper": {}
   },
   "outputs": [],
   "source": [
    "!ssh -i {ohpc_user_prvkey} {ohpc_user}@{master_ipaddress} id"
   ]
  },
  {
   "cell_type": "markdown",
   "metadata": {
    "lc_cell_meme": {
     "current": "5bded834-b583-11ec-b26a-0242ac110002-7-8fb4-0df7-c136-909a-e556-8ddd-d46d",
     "next": "89747218-b9b1-11ec-b26a-0242ac110002-6-7fe7-a604-3833-9a69-6921-e962",
     "previous": "e47a6b12-b4e9-11ec-b26a-0242ac110002-7-023d-caa8-e296-1d4a-9e1a-8812-48d2"
    }
   },
   "source": [
    "### TensorFlow環境の構築"
   ]
  },
  {
   "cell_type": "markdown",
   "metadata": {
    "lc_cell_meme": {
     "current": "89747218-b9b1-11ec-b26a-0242ac110002-6-7fe7-a604-3833-9a69-6921-e962",
     "next": "e47a6bbc-b4e9-11ec-b26a-0242ac110002-8-1a52-af39-9a4b-36b2-7dd5-e904-42b6-bce7",
     "previous": "5bded834-b583-11ec-b26a-0242ac110002-7-8fb4-0df7-c136-909a-e556-8ddd-d46d"
    }
   },
   "source": [
    "構築した OpenHPC 環境で NGC Catalog の [TensorFlowコンテナ](https://ngc.nvidia.com/catalog/containers/nvidia:tensorflow) を実行します。"
   ]
  },
  {
   "cell_type": "markdown",
   "metadata": {
    "lc_cell_meme": {
     "current": "e47a6bbc-b4e9-11ec-b26a-0242ac110002-8-1a52-af39-9a4b-36b2-7dd5-e904-42b6-bce7",
     "next": "2befc640-b4ea-11ec-b26a-0242ac110002-7-4285-745e-75a5-3749-719d-3ef3-576b",
     "previous": "89747218-b9b1-11ec-b26a-0242ac110002-6-7fe7-a604-3833-9a69-6921-e962"
    }
   },
   "source": [
    "#### 準備（based on 152-NGCのコンテナ実行-TensorFlow.ipynb）"
   ]
  },
  {
   "cell_type": "code",
   "execution_count": null,
   "metadata": {
    "lc_cell_meme": {
     "current": "2befc640-b4ea-11ec-b26a-0242ac110002-7-4285-745e-75a5-3749-719d-3ef3-576b",
     "next": "5cd3283e-b4ee-11ec-b26a-0242ac110002-7-f0fd-65b2-724d-ad4c-7f91-0e18-7a68",
     "previous": "e47a6bbc-b4e9-11ec-b26a-0242ac110002-8-1a52-af39-9a4b-36b2-7dd5-e904-42b6-bce7"
    },
    "lc_wrapper": {}
   },
   "outputs": [],
   "source": [
    "# ユーザ名とホスト名\n",
    "target = f'{ohpc_user}@{master_ipaddress}'\n",
    "print(target)\n",
    "\n",
    "# SSHのコマンドライン引数\n",
    "ssh_opts = f'-i {ohpc_user_prvkey}' if 'ohpc_user_prvkey' in vars() else ''\n",
    "print(ssh_opts)"
   ]
  },
  {
   "cell_type": "markdown",
   "metadata": {
    "lc_cell_meme": {
     "current": "5cd3283e-b4ee-11ec-b26a-0242ac110002-7-f0fd-65b2-724d-ad4c-7f91-0e18-7a68",
     "next": "5cd32a8c-b4ee-11ec-b26a-0242ac110002-7-7df5-5dfc-2bb1-968e-5a42-a240-3463",
     "previous": "2befc640-b4ea-11ec-b26a-0242ac110002-7-4285-745e-75a5-3749-719d-3ef3-576b"
    }
   },
   "source": [
    "マスターノードに対してSSHでログインしてコマンドを実行してみます。"
   ]
  },
  {
   "cell_type": "code",
   "execution_count": null,
   "metadata": {
    "lc_cell_meme": {
     "current": "5cd32a8c-b4ee-11ec-b26a-0242ac110002-7-7df5-5dfc-2bb1-968e-5a42-a240-3463",
     "next": "5cd32cd0-b4ee-11ec-b26a-0242ac110002-7-265a-59cd-cf56-3391-e699-721a-54ce",
     "previous": "5cd3283e-b4ee-11ec-b26a-0242ac110002-7-f0fd-65b2-724d-ad4c-7f91-0e18-7a68"
    },
    "lc_wrapper": {}
   },
   "outputs": [],
   "source": [
    "# !ssh {ssh_opts} {target} hostname"
   ]
  },
  {
   "cell_type": "markdown",
   "metadata": {
    "lc_cell_meme": {
     "current": "5cd32cd0-b4ee-11ec-b26a-0242ac110002-7-265a-59cd-cf56-3391-e699-721a-54ce",
     "next": "5cd32d7a-b4ee-11ec-b26a-0242ac110002-7-b806-1276-bae9-fee6-c3ba-4e9c-6a1e",
     "previous": "5cd32a8c-b4ee-11ec-b26a-0242ac110002-7-7df5-5dfc-2bb1-968e-5a42-a240-3463"
    }
   },
   "source": [
    "Dockerを利用できることを確認します。"
   ]
  },
  {
   "cell_type": "code",
   "execution_count": null,
   "metadata": {
    "lc_cell_meme": {
     "current": "5cd32d7a-b4ee-11ec-b26a-0242ac110002-7-b806-1276-bae9-fee6-c3ba-4e9c-6a1e",
     "next": "5cd32e2e-b4ee-11ec-b26a-0242ac110002-7-987b-6f0c-ed6e-40e2-ef06-5aad-3d00",
     "previous": "5cd32cd0-b4ee-11ec-b26a-0242ac110002-7-265a-59cd-cf56-3391-e699-721a-54ce"
    },
    "lc_wrapper": {}
   },
   "outputs": [],
   "source": [
    "!ssh {ssh_opts} {target} 'srun -N 1 docker info'"
   ]
  },
  {
   "cell_type": "markdown",
   "metadata": {
    "lc_cell_meme": {
     "current": "5cd32e2e-b4ee-11ec-b26a-0242ac110002-7-987b-6f0c-ed6e-40e2-ef06-5aad-3d00",
     "next": "5cd32ece-b4ee-11ec-b26a-0242ac110002-7-fa60-4983-27a4-717d-21fd-8665-d3f1",
     "previous": "5cd32d7a-b4ee-11ec-b26a-0242ac110002-7-b806-1276-bae9-fee6-c3ba-4e9c-6a1e"
    }
   },
   "source": [
    "上のセルがエラーになった場合は Docker Engineがインストールされていないか docker を実行する権限が与えられていません。\n",
    "\n",
    "以下のようなエラーが表示された場合は Docker Engine がインストールされていません。「4.2.6  Docker Engineのインストール（based on 071-DockerEngineのインストール.ipynb）」を参考にDocker Engineを利用できるようにしてください。\n",
    "```\n",
    "slurmstepd: error: execve(): docker: No such file or directory\n",
    "```\n",
    "\n",
    "また、以下のようなエラーが表示された場合は docker を実行する権限が与えられていません。「4.2.8  ユーザの追加（based on 051-ユーザの追加.ipynb）」の「グループの追加」などを参考に`docker`グループへの追加を行ってください。\n",
    "```\n",
    "ERROR: Got permission denied while trying to connect to the Docker daemon socket at unix:///var/run/docker.sock: \n",
    "```\n",
    "\n",
    "SlurmのGeneric Resource(GRES)としてGPUが登録されていることを確認します。"
   ]
  },
  {
   "cell_type": "code",
   "execution_count": null,
   "metadata": {
    "lc_cell_meme": {
     "current": "5cd32ece-b4ee-11ec-b26a-0242ac110002-7-fa60-4983-27a4-717d-21fd-8665-d3f1",
     "next": "5cd32f78-b4ee-11ec-b26a-0242ac110002-7-4e50-21d1-0dd5-bee0-614e-c66d-3bd9",
     "previous": "5cd32e2e-b4ee-11ec-b26a-0242ac110002-7-987b-6f0c-ed6e-40e2-ef06-5aad-3d00"
    },
    "lc_wrapper": {}
   },
   "outputs": [],
   "source": [
    "!ssh {ssh_opts} {target} sinfo -N --Format=NodeHost,Gres | grep -w gpu"
   ]
  },
  {
   "cell_type": "markdown",
   "metadata": {
    "lc_cell_meme": {
     "current": "5cd32f78-b4ee-11ec-b26a-0242ac110002-7-4e50-21d1-0dd5-bee0-614e-c66d-3bd9",
     "next": "c26c2a6e-b4ef-11ec-b26a-0242ac110002-8-383f-ab7c-c327-7352-7882-6ee0-e74d-65eb",
     "previous": "5cd32ece-b4ee-11ec-b26a-0242ac110002-7-fa60-4983-27a4-717d-21fd-8665-d3f1"
    }
   },
   "source": [
    "上のセルがエラーになった場合はSlurmにGPUがGRESとして登録されていません。「4.2.5  slurm 設定ファイルの編集（based on 032-設定ファイルの編集-GRESの登録.ipynb）」を参考にGRESの設定をしてください。"
   ]
  },
  {
   "cell_type": "markdown",
   "metadata": {
    "lc_cell_meme": {
     "current": "c26c2a6e-b4ef-11ec-b26a-0242ac110002-8-383f-ab7c-c327-7352-7882-6ee0-e74d-65eb",
     "next": "c26c2a6e-b4ef-11ec-b26a-0242ac110002-9-383f-ab7c-53d7-3014-6227-8305-2ec9-9d37-ca8d",
     "previous": "5cd32f78-b4ee-11ec-b26a-0242ac110002-7-4e50-21d1-0dd5-bee0-614e-c66d-3bd9"
    }
   },
   "source": [
    "#### TensorFlow コンテナイメージの取得（based on 152-NGCのコンテナ実行-TensorFlow.ipynb）"
   ]
  },
  {
   "cell_type": "markdown",
   "metadata": {
    "lc_cell_meme": {
     "current": "c26c2a6e-b4ef-11ec-b26a-0242ac110002-9-383f-ab7c-53d7-3014-6227-8305-2ec9-9d37-ca8d",
     "next": "5cd33022-b4ee-11ec-b26a-0242ac110002-7-8829-4874-871c-9f3c-624f-77f9-6183",
     "previous": "c26c2a6e-b4ef-11ec-b26a-0242ac110002-8-383f-ab7c-c327-7352-7882-6ee0-e74d-65eb"
    }
   },
   "source": [
    "NGCカタログから[TensorFlow](https://ngc.nvidia.com/catalog/containers/nvidia:tensorflow)のコンテナイメージを取得します。"
   ]
  },
  {
   "cell_type": "code",
   "execution_count": null,
   "metadata": {
    "lc_cell_meme": {
     "current": "5cd33022-b4ee-11ec-b26a-0242ac110002-7-8829-4874-871c-9f3c-624f-77f9-6183",
     "next": "5cd330c2-b4ee-11ec-b26a-0242ac110002-7-9de9-e69d-8a98-ab60-de72-6fe5-dec7",
     "previous": "c26c2a6e-b4ef-11ec-b26a-0242ac110002-9-383f-ab7c-53d7-3014-6227-8305-2ec9-9d37-ca8d"
    },
    "lc_wrapper": {}
   },
   "outputs": [],
   "source": [
    "ngc_version = '22.01'\n",
    "docker_image = f'nvcr.io/nvidia/tensorflow:{ngc_version}-tf2-py3'\n",
    "!ssh {ssh_opts} {target} srun -N {compute_nodes} docker pull {docker_image}"
   ]
  },
  {
   "cell_type": "markdown",
   "metadata": {
    "lc_cell_meme": {
     "current": "5cd330c2-b4ee-11ec-b26a-0242ac110002-7-9de9-e69d-8a98-ab60-de72-6fe5-dec7",
     "next": "5cd3316c-b4ee-11ec-b26a-0242ac110002-7-cf2f-8339-ee83-95ef-2650-b056-6acb",
     "previous": "5cd33022-b4ee-11ec-b26a-0242ac110002-7-8829-4874-871c-9f3c-624f-77f9-6183"
    }
   },
   "source": [
    "ユーザを追加したコンテナイメージを作成します。"
   ]
  },
  {
   "cell_type": "code",
   "execution_count": null,
   "metadata": {
    "lc_cell_meme": {
     "current": "5cd3316c-b4ee-11ec-b26a-0242ac110002-7-cf2f-8339-ee83-95ef-2650-b056-6acb",
     "next": "5bded834-b583-11ec-b26a-0242ac110002-8-8fb4-52e5-25c5-9c43-432e-3d9a-9cfd-2bfe",
     "previous": "5cd330c2-b4ee-11ec-b26a-0242ac110002-7-9de9-e69d-8a98-ab60-de72-6fe5-dec7"
    },
    "lc_wrapper": {}
   },
   "outputs": [],
   "source": [
    "from pathlib import Path\n",
    "from tempfile import TemporaryDirectory\n",
    "\n",
    "!ssh {ssh_opts} {target} mkdir -p tensorflow-img\n",
    "out = !ssh {ssh_opts} {target} id -u\n",
    "uid = out[0]\n",
    "with TemporaryDirectory() as workdir:\n",
    "    dockerfile = Path(workdir) / 'Dockerfile'\n",
    "    with dockerfile.open(mode='w') as f:\n",
    "        f.write(f'''\n",
    "FROM {docker_image}\n",
    "\n",
    "ARG USER={ohpc_user}\n",
    "RUN useradd -m ${{USER}} -u {uid}\n",
    "WORKDIR /home/${{USER}}\n",
    "USER {ohpc_user}\n",
    "''')\n",
    "    !cat {dockerfile}\n",
    "    !scp {ssh_opts} {dockerfile} {target}:tensorflow-img\n",
    "\n",
    "!ssh {ssh_opts} {target} srun -N {compute_nodes} docker build -t tensorflow-{ohpc_user} tensorflow-img"
   ]
  },
  {
   "cell_type": "markdown",
   "metadata": {
    "lc_cell_meme": {
     "current": "5bded834-b583-11ec-b26a-0242ac110002-8-8fb4-52e5-25c5-9c43-432e-3d9a-9cfd-2bfe",
     "next": "053ad660-b9fa-11ec-b26a-0242ac110002-6-1a5a-53a2-2d8a-bc57-ce1d-79b7",
     "previous": "5cd3316c-b4ee-11ec-b26a-0242ac110002-7-cf2f-8339-ee83-95ef-2650-b056-6acb"
    }
   },
   "source": [
    "#### 動作確認（based on 152-NGCのコンテナ実行-TensorFlow.ipynb）"
   ]
  },
  {
   "cell_type": "markdown",
   "metadata": {
    "lc_cell_meme": {
     "current": "053ad660-b9fa-11ec-b26a-0242ac110002-6-1a5a-53a2-2d8a-bc57-ce1d-79b7",
     "next": "5cd3320c-b4ee-11ec-b26a-0242ac110002-7-c124-3fca-be69-25be-7711-2966-90f3",
     "previous": "5bded834-b583-11ec-b26a-0242ac110002-8-8fb4-52e5-25c5-9c43-432e-3d9a-9cfd-2bfe"
    }
   },
   "source": [
    "手書き数字認識データ MNIST を学習させることで、TensorFlow の正常動作を確認します。"
   ]
  },
  {
   "cell_type": "markdown",
   "metadata": {
    "lc_cell_meme": {
     "current": "5cd3320c-b4ee-11ec-b26a-0242ac110002-7-c124-3fca-be69-25be-7711-2966-90f3",
     "next": "5cd3320c-b4ee-11ec-b26a-0242ac110002-8-c124-c511-acd5-82a6-ac3c-4cc1-6a9f-dbc8",
     "previous": "053ad660-b9fa-11ec-b26a-0242ac110002-6-1a5a-53a2-2d8a-bc57-ce1d-79b7"
    }
   },
   "source": [
    "=== 準備 =========================================================================================================="
   ]
  },
  {
   "cell_type": "markdown",
   "metadata": {
    "lc_cell_meme": {
     "current": "5cd3320c-b4ee-11ec-b26a-0242ac110002-8-c124-c511-acd5-82a6-ac3c-4cc1-6a9f-dbc8",
     "next": "5cd332b6-b4ee-11ec-b26a-0242ac110002-7-8369-2a3a-9755-0ab8-effb-6b36-dca0",
     "previous": "5cd3320c-b4ee-11ec-b26a-0242ac110002-7-c124-3fca-be69-25be-7711-2966-90f3"
    }
   },
   "source": [
    "MNISTのデータやスクリプトを準備します。\n",
    "\n",
    "まず、データやスクリプトを配置するディレクトリを作成します。"
   ]
  },
  {
   "cell_type": "code",
   "execution_count": null,
   "metadata": {
    "lc_cell_meme": {
     "current": "5cd332b6-b4ee-11ec-b26a-0242ac110002-7-8369-2a3a-9755-0ab8-effb-6b36-dca0",
     "next": "5cd33356-b4ee-11ec-b26a-0242ac110002-7-376b-db7b-0dfe-a2c6-77f3-7da6-f2ac",
     "previous": "5cd3320c-b4ee-11ec-b26a-0242ac110002-8-c124-c511-acd5-82a6-ac3c-4cc1-6a9f-dbc8"
    },
    "lc_wrapper": {}
   },
   "outputs": [],
   "source": [
    "work_dir = 'tensorflow'\n",
    "!ssh {ssh_opts} {target} mkdir -p {work_dir}"
   ]
  },
  {
   "cell_type": "markdown",
   "metadata": {
    "lc_cell_meme": {
     "current": "5cd33356-b4ee-11ec-b26a-0242ac110002-7-376b-db7b-0dfe-a2c6-77f3-7da6-f2ac",
     "next": "5cd333f6-b4ee-11ec-b26a-0242ac110002-7-ac3f-e010-aca4-487e-3c45-631c-65ce",
     "previous": "5cd332b6-b4ee-11ec-b26a-0242ac110002-7-8369-2a3a-9755-0ab8-effb-6b36-dca0"
    }
   },
   "source": [
    "データをダウンロードするためのスクリプトを配置します。"
   ]
  },
  {
   "cell_type": "code",
   "execution_count": null,
   "metadata": {
    "lc_cell_meme": {
     "current": "5cd333f6-b4ee-11ec-b26a-0242ac110002-7-ac3f-e010-aca4-487e-3c45-631c-65ce",
     "next": "5cd33496-b4ee-11ec-b26a-0242ac110002-7-08fa-f413-4f31-a1ee-ad7c-2ef3-753b",
     "previous": "5cd33356-b4ee-11ec-b26a-0242ac110002-7-376b-db7b-0dfe-a2c6-77f3-7da6-f2ac"
    },
    "lc_wrapper": {}
   },
   "outputs": [],
   "source": [
    "!scp {ssh_opts} template/tensorflow/download_mnist.py {target}:{work_dir}"
   ]
  },
  {
   "cell_type": "markdown",
   "metadata": {
    "lc_cell_meme": {
     "current": "5cd33496-b4ee-11ec-b26a-0242ac110002-7-08fa-f413-4f31-a1ee-ad7c-2ef3-753b",
     "next": "5cd33536-b4ee-11ec-b26a-0242ac110002-7-073f-c3f4-b1b3-1f8d-8a6c-4083-120d",
     "previous": "5cd333f6-b4ee-11ec-b26a-0242ac110002-7-ac3f-e010-aca4-487e-3c45-631c-65ce"
    }
   },
   "source": [
    "TensorFlowの[Quickstart for beginners](https://www.tensorflow.org/tutorials/quickstart/beginner)で実行しているのと同等のスクリプトをOpenHPC環境に配置します。"
   ]
  },
  {
   "cell_type": "code",
   "execution_count": null,
   "metadata": {
    "lc_cell_meme": {
     "current": "5cd33536-b4ee-11ec-b26a-0242ac110002-7-073f-c3f4-b1b3-1f8d-8a6c-4083-120d",
     "next": "517c360e-b4f0-11ec-b26a-0242ac110002-8-ab54-4bd5-a594-c7d6-1932-e08f-c060-07f0",
     "previous": "5cd33496-b4ee-11ec-b26a-0242ac110002-7-08fa-f413-4f31-a1ee-ad7c-2ef3-753b"
    },
    "lc_wrapper": {}
   },
   "outputs": [],
   "source": [
    "!scp {ssh_opts} template/tensorflow/mnist_classify.py {target}:{work_dir}"
   ]
  },
  {
   "cell_type": "markdown",
   "metadata": {
    "lc_cell_meme": {
     "current": "517c360e-b4f0-11ec-b26a-0242ac110002-8-ab54-4bd5-a594-c7d6-1932-e08f-c060-07f0",
     "next": "517c360e-b4f0-11ec-b26a-0242ac110002-9-ab54-4bd5-1420-9382-7bc7-01ea-3898-f863-88cb",
     "previous": "5cd33536-b4ee-11ec-b26a-0242ac110002-7-073f-c3f4-b1b3-1f8d-8a6c-4083-120d"
    }
   },
   "source": [
    "=== コンテナからGPUが利用できることの確認 =============================================================================="
   ]
  },
  {
   "cell_type": "markdown",
   "metadata": {
    "lc_cell_meme": {
     "current": "517c360e-b4f0-11ec-b26a-0242ac110002-9-ab54-4bd5-1420-9382-7bc7-01ea-3898-f863-88cb",
     "next": "517c37ee-b4f0-11ec-b26a-0242ac110002-7-f5b2-1ce3-552c-8c85-437e-7587-186b",
     "previous": "517c360e-b4f0-11ec-b26a-0242ac110002-8-ab54-4bd5-a594-c7d6-1932-e08f-c060-07f0"
    }
   },
   "source": [
    "Singularityで実行したコンテナ環境からGPUを利用できることを確認します。\n",
    "\n",
    "GPUを利用できるかをチェックするスクリプトを配置します。"
   ]
  },
  {
   "cell_type": "code",
   "execution_count": null,
   "metadata": {
    "lc_cell_meme": {
     "current": "517c37ee-b4f0-11ec-b26a-0242ac110002-7-f5b2-1ce3-552c-8c85-437e-7587-186b",
     "next": "517c38c0-b4f0-11ec-b26a-0242ac110002-8-aaf5-6ff8-91a2-31f3-2934-3110-122e-1bbd",
     "previous": "517c360e-b4f0-11ec-b26a-0242ac110002-9-ab54-4bd5-1420-9382-7bc7-01ea-3898-f863-88cb"
    },
    "lc_wrapper": {}
   },
   "outputs": [],
   "source": [
    "!scp {ssh_opts} template/tensorflow/check_gpu.py {target}:{work_dir}"
   ]
  },
  {
   "cell_type": "markdown",
   "metadata": {
    "lc_cell_meme": {
     "current": "517c38c0-b4f0-11ec-b26a-0242ac110002-8-aaf5-6ff8-91a2-31f3-2934-3110-122e-1bbd",
     "next": "517c3974-b4f0-11ec-b26a-0242ac110002-7-a453-8b7f-9681-6029-d281-1a1f-5d14",
     "previous": "517c37ee-b4f0-11ec-b26a-0242ac110002-7-f5b2-1ce3-552c-8c85-437e-7587-186b"
    }
   },
   "source": [
    "コンテナを実行できるようにするためにホームディレクトリのパーミッションを変更します。"
   ]
  },
  {
   "cell_type": "code",
   "execution_count": null,
   "metadata": {
    "lc_cell_meme": {
     "current": "517c3974-b4f0-11ec-b26a-0242ac110002-7-a453-8b7f-9681-6029-d281-1a1f-5d14",
     "next": "517c3a14-b4f0-11ec-b26a-0242ac110002-8-c1f0-d368-1c5b-5d5b-d5a8-e265-b34a-2812",
     "previous": "517c38c0-b4f0-11ec-b26a-0242ac110002-8-aaf5-6ff8-91a2-31f3-2934-3110-122e-1bbd"
    },
    "lc_wrapper": {}
   },
   "outputs": [],
   "source": [
    "!ssh {ssh_opts} {target} chmod 755 ."
   ]
  },
  {
   "cell_type": "markdown",
   "metadata": {
    "lc_cell_meme": {
     "current": "517c3a14-b4f0-11ec-b26a-0242ac110002-8-c1f0-d368-1c5b-5d5b-d5a8-e265-b34a-2812",
     "next": "517c3ab4-b4f0-11ec-b26a-0242ac110002-7-39a0-62ba-fd00-1d73-b147-de29-929e",
     "previous": "517c3974-b4f0-11ec-b26a-0242ac110002-7-a453-8b7f-9681-6029-d281-1a1f-5d14"
    }
   },
   "source": [
    "GPU利用の可否をチェックするスクリプトを実行します。エラーとならないことを確認してください。"
   ]
  },
  {
   "cell_type": "code",
   "execution_count": null,
   "metadata": {
    "lc_cell_meme": {
     "current": "517c3ab4-b4f0-11ec-b26a-0242ac110002-7-39a0-62ba-fd00-1d73-b147-de29-929e",
     "next": "517c3b54-b4f0-11ec-b26a-0242ac110002-8-de97-7ea8-00d6-cdee-d18a-3d55-b3b0-1f7f",
     "previous": "517c3a14-b4f0-11ec-b26a-0242ac110002-8-c1f0-d368-1c5b-5d5b-d5a8-e265-b34a-2812"
    },
    "lc_wrapper": {}
   },
   "outputs": [],
   "source": [
    "!ssh {ssh_opts} {target} srun -N {compute_nodes} --gpus-per-node=1 \\\n",
    "    docker run --gpus all --ipc=host -v /home/{ohpc_user}:/home/{ohpc_user} --rm tensorflow-{ohpc_user} \\\n",
    "    python {work_dir}/check_gpu.py"
   ]
  },
  {
   "cell_type": "markdown",
   "metadata": {
    "lc_cell_meme": {
     "current": "517c3b54-b4f0-11ec-b26a-0242ac110002-8-de97-7ea8-00d6-cdee-d18a-3d55-b3b0-1f7f",
     "next": "517c3b54-b4f0-11ec-b26a-0242ac110002-9-de97-7ea8-851e-3e42-f6bc-f366-f161-ebe2-3d5c",
     "previous": "517c3ab4-b4f0-11ec-b26a-0242ac110002-7-39a0-62ba-fd00-1d73-b147-de29-929e"
    }
   },
   "source": [
    "=== ジョブの実行 ===================================================================================================="
   ]
  },
  {
   "cell_type": "markdown",
   "metadata": {
    "lc_cell_meme": {
     "current": "517c3b54-b4f0-11ec-b26a-0242ac110002-9-de97-7ea8-851e-3e42-f6bc-f366-f161-ebe2-3d5c",
     "next": "517c3bf4-b4f0-11ec-b26a-0242ac110002-7-2848-330a-2050-13f3-f8fb-fa3e-7241",
     "previous": "517c3b54-b4f0-11ec-b26a-0242ac110002-8-de97-7ea8-00d6-cdee-d18a-3d55-b3b0-1f7f"
    }
   },
   "source": [
    "MNISTのスクリプトをSlurmのジョブとして実行します。\n",
    "\n",
    "ジョブの実行スクリプトを作成します。"
   ]
  },
  {
   "cell_type": "code",
   "execution_count": null,
   "metadata": {
    "lc_cell_meme": {
     "current": "517c3bf4-b4f0-11ec-b26a-0242ac110002-7-2848-330a-2050-13f3-f8fb-fa3e-7241",
     "next": "517c3c94-b4f0-11ec-b26a-0242ac110002-8-26f0-897a-0d07-6489-52cd-9e8d-4c0b-26be",
     "previous": "517c3b54-b4f0-11ec-b26a-0242ac110002-9-de97-7ea8-851e-3e42-f6bc-f366-f161-ebe2-3d5c"
    },
    "lc_wrapper": {}
   },
   "outputs": [],
   "source": [
    "from tempfile import TemporaryDirectory\n",
    "from pathlib import Path\n",
    "\n",
    "with TemporaryDirectory() as workdir:\n",
    "    batch_file = Path(workdir) / 'tensorflow_mnist_docker.job'\n",
    "    with batch_file.open(mode='w') as f:\n",
    "        f.write(f'''#!/bin/bash\n",
    "        \n",
    "#SBATCH -J tensorflow-mnist-docker         # create a short name for your job\n",
    "#SBATCH -o tensorflow-mnist-docker.%j.out  # Name of stdout output file (%j expands to jobId)\n",
    "#SBATCH -N 1                               # Total number of nodes requested\n",
    "#SBATCH -n 1                               # Total number of across all nodes\n",
    "#SBATCH --gres=gpu:1                       # number of gpus per node\n",
    "#SBATCH -t 00:10:00                        # Run time (hh:mm:ss)\n",
    "\n",
    "docker run -td --gpus all -v /home/{ohpc_user}:/home/{ohpc_user} --rm --ipc=host --net=host --name tensorflow-{ohpc_user} tensorflow-{ohpc_user}\n",
    "docker exec -t -u {ohpc_user} -w $HOME/{work_dir} tensorflow-{ohpc_user} python3 download_mnist.py\n",
    "docker exec -t -u {ohpc_user} -w $HOME/{work_dir} tensorflow-{ohpc_user} python3 mnist_classify.py\n",
    "docker stop tensorflow-{ohpc_user}\n",
    "''')\n",
    "    !cat {batch_file}\n",
    "    !scp {ssh_opts} {str(batch_file)} {target}:{work_dir}"
   ]
  },
  {
   "cell_type": "markdown",
   "metadata": {
    "lc_cell_meme": {
     "current": "517c3c94-b4f0-11ec-b26a-0242ac110002-8-26f0-897a-0d07-6489-52cd-9e8d-4c0b-26be",
     "next": "517c3d3e-b4f0-11ec-b26a-0242ac110002-7-4d8d-5084-f0f6-47ce-52b6-606c-53e4",
     "previous": "517c3bf4-b4f0-11ec-b26a-0242ac110002-7-2848-330a-2050-13f3-f8fb-fa3e-7241"
    }
   },
   "source": [
    "ジョブを実行する前のキューの状態を確認します。"
   ]
  },
  {
   "cell_type": "code",
   "execution_count": null,
   "metadata": {
    "lc_cell_meme": {
     "current": "517c3d3e-b4f0-11ec-b26a-0242ac110002-7-4d8d-5084-f0f6-47ce-52b6-606c-53e4",
     "next": "517c3dd4-b4f0-11ec-b26a-0242ac110002-8-eb9d-fa14-97cb-035b-bb09-81a8-3084-c593",
     "previous": "517c3c94-b4f0-11ec-b26a-0242ac110002-8-26f0-897a-0d07-6489-52cd-9e8d-4c0b-26be"
    },
    "lc_wrapper": {}
   },
   "outputs": [],
   "source": [
    "!ssh {ssh_opts} {target} squeue"
   ]
  },
  {
   "cell_type": "markdown",
   "metadata": {
    "lc_cell_meme": {
     "current": "517c3dd4-b4f0-11ec-b26a-0242ac110002-8-eb9d-fa14-97cb-035b-bb09-81a8-3084-c593",
     "next": "517c3e74-b4f0-11ec-b26a-0242ac110002-7-fb47-89e3-fdfd-a109-abd9-de6c-f3a6",
     "previous": "517c3d3e-b4f0-11ec-b26a-0242ac110002-7-4d8d-5084-f0f6-47ce-52b6-606c-53e4"
    }
   },
   "source": [
    "ノードのGPU利用状況を確認します。`GRES_USED` の欄でノードの GPU 利用状況を確認してください。"
   ]
  },
  {
   "cell_type": "code",
   "execution_count": null,
   "metadata": {
    "lc_cell_meme": {
     "current": "517c3e74-b4f0-11ec-b26a-0242ac110002-7-fb47-89e3-fdfd-a109-abd9-de6c-f3a6",
     "next": "9902c3a8-b4f0-11ec-b26a-0242ac110002-7-830d-dbc1-e778-4002-f73f-6213-f249",
     "previous": "517c3dd4-b4f0-11ec-b26a-0242ac110002-8-eb9d-fa14-97cb-035b-bb09-81a8-3084-c593"
    },
    "lc_wrapper": {}
   },
   "outputs": [],
   "source": [
    "!ssh {ssh_opts} {target} sinfo --Node --Format=NodeHost,Gres,GresUsed"
   ]
  },
  {
   "cell_type": "markdown",
   "metadata": {
    "lc_cell_meme": {
     "current": "9902c3a8-b4f0-11ec-b26a-0242ac110002-7-830d-dbc1-e778-4002-f73f-6213-f249",
     "next": "a06da4d6-b4e2-11ec-b26a-0242ac110002-8-b302-1f7c-7ffa-534a-d734-d17d-c59b-ae9f",
     "previous": "517c3e74-b4f0-11ec-b26a-0242ac110002-7-fb47-89e3-fdfd-a109-abd9-de6c-f3a6"
    }
   },
   "source": [
    "ジョブを実行します。"
   ]
  },
  {
   "cell_type": "code",
   "execution_count": null,
   "metadata": {
    "lc_cell_meme": {
     "current": "a06da4d6-b4e2-11ec-b26a-0242ac110002-8-b302-1f7c-7ffa-534a-d734-d17d-c59b-ae9f",
     "next": "9902c7ae-b4f0-11ec-b26a-0242ac110002-7-9e5d-9210-c876-8887-d869-302f-c778",
     "previous": "9902c3a8-b4f0-11ec-b26a-0242ac110002-7-830d-dbc1-e778-4002-f73f-6213-f249"
    },
    "lc_wrapper": {}
   },
   "outputs": [],
   "source": [
    "# ★★★ ジョブ終了確認自動化のためオリジナルを改造 （slurm 専用）★★★\n",
    "bs_state = !ssh {ssh_opts} {target} bash -l -c \\\n",
    "    \"'cd {work_dir} && sbatch tensorflow_mnist_docker.job'\"\n",
    "bs_state = bs_state[len(bs_state)-1]\n",
    "print(bs_state)\n",
    "\n",
    "if bs_state.split()[0] == 'Submitted':\n",
    "    bs_jobid = bs_state.split()[3]\n",
    "else:\n",
    "    raise RuntimeError('ERROR: job submission error')"
   ]
  },
  {
   "cell_type": "markdown",
   "metadata": {
    "lc_cell_meme": {
     "current": "9902c7ae-b4f0-11ec-b26a-0242ac110002-7-9e5d-9210-c876-8887-d869-302f-c778",
     "next": "9902c84e-b4f0-11ec-b26a-0242ac110002-7-93c9-bff6-7b52-b05b-3b7b-91be-fa47",
     "previous": "a06da4d6-b4e2-11ec-b26a-0242ac110002-8-b302-1f7c-7ffa-534a-d734-d17d-c59b-ae9f"
    }
   },
   "source": [
    "ノードのGPU利用状況を確認します。`GRES_USED` の欄でノードの GPU 利用状況を確認してください。"
   ]
  },
  {
   "cell_type": "code",
   "execution_count": null,
   "metadata": {
    "lc_cell_meme": {
     "current": "9902c84e-b4f0-11ec-b26a-0242ac110002-7-93c9-bff6-7b52-b05b-3b7b-91be-fa47",
     "next": "f0fbca78-d0d9-11ec-b26a-0242ac110002-5-b37f-15ee-2cce-a901-8ed3",
     "previous": "9902c7ae-b4f0-11ec-b26a-0242ac110002-7-9e5d-9210-c876-8887-d869-302f-c778"
    },
    "lc_wrapper": {}
   },
   "outputs": [],
   "source": [
    "!ssh {ssh_opts} {target} sinfo --Node --Format=NodeHost,Gres,GresUsed"
   ]
  },
  {
   "cell_type": "markdown",
   "metadata": {
    "lc_cell_meme": {
     "current": "f0fbca78-d0d9-11ec-b26a-0242ac110002-5-b37f-15ee-2cce-a901-8ed3",
     "next": "ed8fc600-b702-11ec-b26a-0242ac110002-8-fc37-cb10-8f06-b4a1-5705-2115-a781-4a30",
     "previous": "9902c84e-b4f0-11ec-b26a-0242ac110002-7-93c9-bff6-7b52-b05b-3b7b-91be-fa47"
    }
   },
   "source": [
    "ジョブの完了を待ちます。数分かかります。ジョブ実行中のCPU, メモリ, GPUなどの利用状況は VCC の Grafana で確認することができます。"
   ]
  },
  {
   "cell_type": "code",
   "execution_count": null,
   "metadata": {
    "lc_cell_meme": {
     "current": "ed8fc600-b702-11ec-b26a-0242ac110002-8-fc37-cb10-8f06-b4a1-5705-2115-a781-4a30",
     "next": "9902c920-b4f0-11ec-b26a-0242ac110002-7-ad26-214c-cbbb-0709-404f-2ee6-77fe",
     "previous": "f0fbca78-d0d9-11ec-b26a-0242ac110002-5-b37f-15ee-2cce-a901-8ed3"
    },
    "lc_wrapper": {}
   },
   "outputs": [],
   "source": [
    "# ★★★ ジョブ終了待ち（オリジナルに追加。slurm 専用）★★★\n",
    "\n",
    "print('job ' + bs_jobid + ':', end = ' ')\n",
    "\n",
    "while True:\n",
    "    bs_state = !ssh {ssh_opts} {target} bash -l -c 'squeue --noheader --jobs={bs_jobid}'\n",
    "    bs_state = bs_state[len(bs_state)-1]\n",
    "    if bs_state.split()[0] != bs_jobid:\n",
    "        break\n",
    "    else:\n",
    "        print(\"\", end = '.')\n",
    "        !sleep 5\n",
    "    \n",
    "print(' finished')"
   ]
  },
  {
   "cell_type": "markdown",
   "metadata": {
    "lc_cell_meme": {
     "current": "9902c920-b4f0-11ec-b26a-0242ac110002-7-ad26-214c-cbbb-0709-404f-2ee6-77fe",
     "next": "9902c9de-b4f0-11ec-b26a-0242ac110002-7-a30a-56b4-d50e-3e9f-4702-5bed-ce28",
     "previous": "ed8fc600-b702-11ec-b26a-0242ac110002-8-fc37-cb10-8f06-b4a1-5705-2115-a781-4a30"
    }
   },
   "source": [
    "ジョブの出力結果を確認します。"
   ]
  },
  {
   "cell_type": "code",
   "execution_count": null,
   "metadata": {
    "lc_cell_meme": {
     "current": "9902c9de-b4f0-11ec-b26a-0242ac110002-7-a30a-56b4-d50e-3e9f-4702-5bed-ce28",
     "next": "6f96ff24-b4f1-11ec-b26a-0242ac110002-7-7ffe-a712-a828-c16c-0b1d-bf9e-21a4",
     "previous": "9902c920-b4f0-11ec-b26a-0242ac110002-7-ad26-214c-cbbb-0709-404f-2ee6-77fe"
    },
    "lc_wrapper": {}
   },
   "outputs": [],
   "source": [
    "!ssh {ssh_opts} {target} bash -l -c \\\n",
    "    \"'cd {work_dir} && tail tensorflow-mnist*.out'\""
   ]
  },
  {
   "cell_type": "markdown",
   "metadata": {
    "lc_cell_meme": {
     "current": "6f96ff24-b4f1-11ec-b26a-0242ac110002-7-7ffe-a712-a828-c16c-0b1d-bf9e-21a4",
     "next": "d79e3356-bb1f-11ec-b26a-0242ac110002-6-11c7-b8a7-a49c-201c-29d5-ffc6",
     "previous": "9902c9de-b4f0-11ec-b26a-0242ac110002-7-a30a-56b4-d50e-3e9f-4702-5bed-ce28"
    }
   },
   "source": [
    "ジョブの実行が完了していれば出力結果の末尾に以下のような内容が表示されます。\n",
    "\n",
    "```\n",
    "1875/1875 [==============================] - 2s 1ms/step - loss: 0.1098 - accuracy: 0.9664\n",
    "Epoch 4/5\n",
    "1875/1875 [==============================] - 2s 1ms/step - loss: 0.0891 - accuracy: 0.9724\n",
    "Epoch 5/5\n",
    "1875/1875 [==============================] - 2s 1ms/step - loss: 0.0748 - accuracy: 0.9755\n",
    "313/313 - 0s - loss: 0.0839 - accuracy: 0.9748\n",
    "\n",
    "Test accuracy: 0.9747999906539917\n",
    "```"
   ]
  },
  {
   "cell_type": "markdown",
   "metadata": {
    "lc_cell_meme": {
     "current": "d79e3356-bb1f-11ec-b26a-0242ac110002-6-11c7-b8a7-a49c-201c-29d5-ffc6",
     "next": "0e15ce02-b982-11ec-b26a-0242ac110002-7-862f-f81d-ba6a-0e34-e64b-e912-3f91",
     "previous": "6f96ff24-b4f1-11ec-b26a-0242ac110002-7-7ffe-a712-a828-c16c-0b1d-bf9e-21a4"
    }
   },
   "source": [
    "=== 構築終了日時 ===================================================================================================="
   ]
  },
  {
   "cell_type": "code",
   "execution_count": null,
   "metadata": {
    "lc_cell_meme": {
     "current": "0e15ce02-b982-11ec-b26a-0242ac110002-7-862f-f81d-ba6a-0e34-e64b-e912-3f91",
     "next": null,
     "previous": "d79e3356-bb1f-11ec-b26a-0242ac110002-6-11c7-b8a7-a49c-201c-29d5-ffc6"
    },
    "lc_wrapper": {}
   },
   "outputs": [],
   "source": [
    "!date"
   ]
  }
 ],
 "metadata": {
  "kernelspec": {
   "display_name": "Python 3",
   "language": "python",
   "name": "python3"
  },
  "language_info": {
   "file_extension": ".py",
   "mimetype": "text/x-python",
   "name": "python",
   "nbconvert_exporter": "python",
   "pygments_lexer": "ipython3",
   "version": "3.10.4"
  },
  "toc": {
   "base_numbering": 1,
   "nav_menu": {},
   "number_sections": true,
   "sideBar": true,
   "skip_h1_title": true,
   "title_cell": "Table of Contents",
   "title_sidebar": "Contents",
   "toc_cell": false,
   "toc_position": {
    "height": "calc(100% - 180px)",
    "left": "10px",
    "top": "150px",
    "width": "298.8px"
   },
   "toc_section_display": true,
   "toc_window_display": true
  }
 },
 "nbformat": 4,
 "nbformat_minor": 2
}
