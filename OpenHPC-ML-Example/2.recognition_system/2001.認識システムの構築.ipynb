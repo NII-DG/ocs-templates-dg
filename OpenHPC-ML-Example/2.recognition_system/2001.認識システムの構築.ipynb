{
 "cells": [
  {
   "cell_type": "markdown",
   "metadata": {
    "lc_cell_meme": {
     "current": "dadeb2c4-a9ff-11ec-aab3-02420a010024-6-ed52-79fc-40eb-8c2b-7800-5d4f",
     "next": "dadeb80a-a9ff-11ec-aab3-02420a010024-6-4a46-6e62-0f7a-efd2-4801-c7ed",
     "previous": null
    }
   },
   "source": [
    "# 認識システムの構築\n",
    "\n",
    "---\n",
    "\n",
    "認識システムを構築します。フロントエンドで入力された手書きデータを、学習システムで学習したモデル・重みを利用して認識（推論）します。必要な計算能力やメモリ容量は「学習 >> 推論」であるため、CPU のみの計算資源で構築します。\n",
    "![構成](images/210.create_rs.png)\n",
    "\n",
    "今回作成・使用する機械学習システムは、学習、認識などを指示するフロントエンドシステムと実行するシステムが異なっています。フロントエンド（本Jupyter Notebook）から学習システム（1.lerning_systemで構築）や認識システム（本Notebookで構築）に学習、認識等のスクリプトを転送し、これらの実行させます。学習、認識等のスクリプトは `script/tensorflow` フォルダに格納されています。"
   ]
  },
  {
   "cell_type": "markdown",
   "metadata": {
    "lc_cell_meme": {
     "current": "dadeb80a-a9ff-11ec-aab3-02420a010024-6-4a46-6e62-0f7a-efd2-4801-c7ed",
     "next": "dadeb80a-a9ff-11ec-aab3-02420a010024-7-4a46-6e62-0f7a-b85d-9e35-1a27-36da",
     "previous": "dadeb2c4-a9ff-11ec-aab3-02420a010024-6-ed52-79fc-40eb-8c2b-7800-5d4f"
    }
   },
   "source": [
    "## VCP の初期化"
   ]
  },
  {
   "cell_type": "markdown",
   "metadata": {
    "lc_cell_meme": {
     "current": "dadeb80a-a9ff-11ec-aab3-02420a010024-7-4a46-6e62-0f7a-b85d-9e35-1a27-36da",
     "next": "dadeb8f0-a9ff-11ec-aab3-02420a010024-6-422f-a6fe-fa14-e42a-1f87-41a6",
     "previous": "dadeb80a-a9ff-11ec-aab3-02420a010024-6-4a46-6e62-0f7a-efd2-4801-c7ed"
    }
   },
   "source": [
    "VCP を利用するために必要なアクセストークンを入力します。"
   ]
  },
  {
   "cell_type": "code",
   "execution_count": null,
   "metadata": {
    "lc_cell_meme": {
     "current": "dadeb8f0-a9ff-11ec-aab3-02420a010024-6-422f-a6fe-fa14-e42a-1f87-41a6",
     "next": "dadeb9d6-a9ff-11ec-aab3-02420a010024-6-a58b-e78f-d353-bdb1-c7ec-01f2",
     "previous": "dadeb80a-a9ff-11ec-aab3-02420a010024-7-4a46-6e62-0f7a-b85d-9e35-1a27-36da"
    },
    "lc_wrapper": {}
   },
   "outputs": [],
   "source": [
    "from getpass import getpass\n",
    "vcc_access_token = getpass()"
   ]
  },
  {
   "cell_type": "markdown",
   "metadata": {
    "lc_cell_meme": {
     "current": "dadeb9d6-a9ff-11ec-aab3-02420a010024-6-a58b-e78f-d353-bdb1-c7ec-01f2",
     "next": "dadebabc-a9ff-11ec-aab3-02420a010024-6-2532-b81b-7b46-e033-f3a3-1551",
     "previous": "dadeb8f0-a9ff-11ec-aab3-02420a010024-6-422f-a6fe-fa14-e42a-1f87-41a6"
    }
   },
   "source": [
    "VCP SDKの初期化します。エラーになった場合、上のセルを `unfreeze` してから再実行し、正しいアクセストークンを入力してください。"
   ]
  },
  {
   "cell_type": "code",
   "execution_count": null,
   "metadata": {
    "lc_cell_meme": {
     "current": "dadebabc-a9ff-11ec-aab3-02420a010024-6-2532-b81b-7b46-e033-f3a3-1551",
     "next": "dadeb5bc-a9ff-11ec-aab3-02420a010024-6-417e-367b-b5e8-2f16-d9b0-10c2",
     "previous": "dadeb9d6-a9ff-11ec-aab3-02420a010024-6-a58b-e78f-d353-bdb1-c7ec-01f2"
    },
    "lc_wrapper": {}
   },
   "outputs": [],
   "source": [
    "from common import logsetting\n",
    "from vcpsdk.vcpsdk import VcpSDK\n",
    "vcp = VcpSDK(vcc_access_token)"
   ]
  },
  {
   "cell_type": "markdown",
   "metadata": {
    "lc_cell_meme": {
     "current": "dadeb5bc-a9ff-11ec-aab3-02420a010024-6-417e-367b-b5e8-2f16-d9b0-10c2",
     "next": "dadeb5bc-a9ff-11ec-aab3-02420a010024-7-417e-367b-b5e8-84da-ede1-e670-a4e7",
     "previous": "dadebabc-a9ff-11ec-aab3-02420a010024-6-2532-b81b-7b46-e033-f3a3-1551"
    }
   },
   "source": [
    "## パラメータ設定"
   ]
  },
  {
   "cell_type": "markdown",
   "metadata": {
    "lc_cell_meme": {
     "current": "dadeb5bc-a9ff-11ec-aab3-02420a010024-7-417e-367b-b5e8-84da-ede1-e670-a4e7",
     "next": "dadeb71a-a9ff-11ec-aab3-02420a010024-6-56e0-6e4e-e13a-2380-b4b2-dfb5",
     "previous": "dadeb5bc-a9ff-11ec-aab3-02420a010024-6-417e-367b-b5e8-2f16-d9b0-10c2"
    }
   },
   "source": [
    "認識システムの構築情報です。"
   ]
  },
  {
   "cell_type": "code",
   "execution_count": null,
   "metadata": {
    "lc_cell_meme": {
     "current": "dadeb71a-a9ff-11ec-aab3-02420a010024-6-56e0-6e4e-e13a-2380-b4b2-dfb5",
     "next": "dadebb84-a9ff-11ec-aab3-02420a010024-7-aef5-695e-629a-5b0c-971d-4388-a3da",
     "previous": "dadeb5bc-a9ff-11ec-aab3-02420a010024-7-417e-367b-b5e8-84da-ede1-e670-a4e7"
    },
    "lc_wrapper": {}
   },
   "outputs": [],
   "source": [
    "from pathlib import Path\n",
    "\n",
    "### 認識システム ######################\n",
    "# 認識システムのユーザー名（学習システムのユーザーと同一人物と想定）\n",
    "rs_user = 'user00'\n",
    "rs_user_pubkey = '~/.ssh/id_rsa.pub'\n",
    "rs_user_prvkey = '~/.ssh/id_rsa'\n",
    "\n",
    "# 認識システムのユニットグループ名\n",
    "rs_ugroup_name = 'TfCpu'\n",
    "\n",
    "# 認識システムのVCノードのspec\n",
    "rs_vc_provider = 'aws'       # プロバイダ\n",
    "rs_vcnode_flavor = 'small'   # フレーバー\n",
    "\n",
    "\n",
    "### 学習システム ######################\n",
    "# 学習システム（利用：True, 不使用：False）\n",
    "training_system = True\n",
    "\n",
    "# 学習システム構築Notebookの作業フォルダ（training_system = True の時必須）\n",
    "ohpc_WORK_DIR = ''\n",
    "\n",
    "# 学習システムの UnitGroup 名（training_system = True の時必須）\n",
    "ts_ugroup_name = 'TFclusterGPU'"
   ]
  },
  {
   "cell_type": "markdown",
   "metadata": {
    "lc_cell_meme": {
     "current": "dadebb84-a9ff-11ec-aab3-02420a010024-7-aef5-695e-629a-5b0c-971d-4388-a3da",
     "next": "92a6eb42-d007-11ec-b26a-0242ac110002-4-0831-56a1-0113-1545",
     "previous": "dadeb71a-a9ff-11ec-aab3-02420a010024-6-56e0-6e4e-e13a-2380-b4b2-dfb5"
    }
   },
   "source": [
    "## 認識システムの構築"
   ]
  },
  {
   "cell_type": "markdown",
   "metadata": {
    "lc_cell_meme": {
     "current": "92a6eb42-d007-11ec-b26a-0242ac110002-4-0831-56a1-0113-1545",
     "next": "2d4905c4-d033-11ec-b26a-0242ac110002-3-7d84-06a4-9c68",
     "previous": "dadebb84-a9ff-11ec-aab3-02420a010024-7-aef5-695e-629a-5b0c-971d-4388-a3da"
    }
   },
   "source": [
    "### 内部パラメータの設定と学習システムのパラメータの読み込み"
   ]
  },
  {
   "cell_type": "markdown",
   "metadata": {
    "lc_cell_meme": {
     "current": "2d4905c4-d033-11ec-b26a-0242ac110002-3-7d84-06a4-9c68",
     "next": "dadeb5bc-a9ff-11ec-aab3-02420a010024-8-417e-367b-b5e8-84da-be2c-ca99-98d3-99a3",
     "previous": "92a6eb42-d007-11ec-b26a-0242ac110002-4-0831-56a1-0113-1545"
    }
   },
   "source": [
    "#### システムパラメータの設定"
   ]
  },
  {
   "cell_type": "markdown",
   "metadata": {
    "lc_cell_meme": {
     "current": "dadeb5bc-a9ff-11ec-aab3-02420a010024-8-417e-367b-b5e8-84da-be2c-ca99-98d3-99a3",
     "next": "dadec32c-a9ff-11ec-aab3-02420a010024-6-4b63-2f15-2be3-fb4b-874a-e788",
     "previous": "2d4905c4-d033-11ec-b26a-0242ac110002-3-7d84-06a4-9c68"
    }
   },
   "source": [
    "システム構築情報です。変更しないでください。"
   ]
  },
  {
   "cell_type": "code",
   "execution_count": null,
   "metadata": {
    "lc_cell_meme": {
     "current": "dadec32c-a9ff-11ec-aab3-02420a010024-6-4b63-2f15-2be3-fb4b-874a-e788",
     "next": "03f470d6-d034-11ec-b26a-0242ac110002-4-6e21-9ad9-6912-ca5f",
     "previous": "dadeb5bc-a9ff-11ec-aab3-02420a010024-8-417e-367b-b5e8-84da-be2c-ca99-98d3-99a3"
    },
    "lc_wrapper": {}
   },
   "outputs": [],
   "source": [
    "### VC 利用者鍵 ######################\n",
    "import os\n",
    "rs_vcu_pubkey = os.path.expanduser('~/.ssh/id_rsa.pub')\n",
    "rs_vcu_prvkey = os.path.expanduser('~/.ssh/id_rsa')\n",
    "\n",
    "### 学習システム、認識システム共通 ######################\n",
    "# TensorFlow 作業ディレクトリ（学習システム、認識システムとも同じパス）\n",
    "tf_work_dir = 'tensorflow'\n",
    "\n",
    "### フロントエンド（本Jupyter Notebook）######################\n",
    "# 学習済みモデル・重みファイルの保存先ディレクトリ\n",
    "fe_save_dir = './data'"
   ]
  },
  {
   "cell_type": "markdown",
   "metadata": {
    "lc_cell_meme": {
     "current": "03f470d6-d034-11ec-b26a-0242ac110002-4-6e21-9ad9-6912-ca5f",
     "next": "92a6ee26-d007-11ec-b26a-0242ac110002-3-6f8e-cb57-7030",
     "previous": "dadec32c-a9ff-11ec-aab3-02420a010024-6-4b63-2f15-2be3-fb4b-874a-e788"
    }
   },
   "source": [
    "#### 学習システムのパラメータ読み込み"
   ]
  },
  {
   "cell_type": "code",
   "execution_count": null,
   "metadata": {
    "lc_cell_meme": {
     "current": "92a6ee26-d007-11ec-b26a-0242ac110002-3-6f8e-cb57-7030",
     "next": "165cb5a0-d00a-11ec-b26a-0242ac110002-3-fafc-c878-d988",
     "previous": "03f470d6-d034-11ec-b26a-0242ac110002-4-6e21-9ad9-6912-ca5f"
    },
    "lc_wrapper": {}
   },
   "outputs": [],
   "source": [
    "%run scripts/ts/group.py\n",
    "\n",
    "if training_system:\n",
    "    ts_gvars = load_group_vars(ts_ugroup_name, \"../1.learning_system/\" + ohpc_WORK_DIR)"
   ]
  },
  {
   "cell_type": "markdown",
   "metadata": {
    "lc_cell_meme": {
     "current": "165cb5a0-d00a-11ec-b26a-0242ac110002-3-fafc-c878-d988",
     "next": "dadebb84-a9ff-11ec-aab3-02420a010024-6-aef5-695e-629a-c9ad-a89b-2e53",
     "previous": "92a6ee26-d007-11ec-b26a-0242ac110002-3-6f8e-cb57-7030"
    }
   },
   "source": [
    "エラーが発生した場合、`training_system = True` であるにも関わらず、`ohpc_WORK_DIR` や `ts_ugroup_name` に誤りがある場合や、実際にその `作業フォルダ` や `UnitGroup` がないことが考えられます。"
   ]
  },
  {
   "cell_type": "markdown",
   "metadata": {
    "lc_cell_meme": {
     "current": "dadebb84-a9ff-11ec-aab3-02420a010024-6-aef5-695e-629a-c9ad-a89b-2e53",
     "next": "dadebc60-a9ff-11ec-aab3-02420a010024-6-31bf-ae92-91bf-0e07-b8fd-09c7",
     "previous": "165cb5a0-d00a-11ec-b26a-0242ac110002-3-fafc-c878-d988"
    }
   },
   "source": [
    "### 認識システム用VCノードの作成"
   ]
  },
  {
   "cell_type": "markdown",
   "metadata": {
    "lc_cell_meme": {
     "current": "dadebc60-a9ff-11ec-aab3-02420a010024-6-31bf-ae92-91bf-0e07-b8fd-09c7",
     "next": "dadebd3c-a9ff-11ec-aab3-02420a010024-6-3ef0-978c-34b1-79b3-cfa7-fde3",
     "previous": "dadebb84-a9ff-11ec-aab3-02420a010024-6-aef5-695e-629a-c9ad-a89b-2e53"
    }
   },
   "source": [
    "#### VCノードのspecの指定とssh関連の設定\n",
    "学習システムで学習したモデルと重みを利用して、認識（推論）するために必要十分な性能・容量のノードspecを指定します。"
   ]
  },
  {
   "cell_type": "code",
   "execution_count": null,
   "metadata": {
    "lc_cell_meme": {
     "current": "dadebd3c-a9ff-11ec-aab3-02420a010024-6-3ef0-978c-34b1-79b3-cfa7-fde3",
     "next": "dadebe22-a9ff-11ec-aab3-02420a010024-6-c33d-e1c5-59f7-f780-1d82-149f",
     "previous": "dadebc60-a9ff-11ec-aab3-02420a010024-6-31bf-ae92-91bf-0e07-b8fd-09c7"
    },
    "lc_wrapper": {}
   },
   "outputs": [],
   "source": [
    "# UnitGroup の作成\n",
    "rs_unit_group = vcp.create_ugroup(rs_ugroup_name)\n",
    "\n",
    "# VCノード spec\n",
    "rs_spec = vcp.get_spec(rs_vc_provider, rs_vcnode_flavor)\n",
    "\n",
    "# base コンテナ\n",
    "rs_spec.image = \"vcp/base:1.8.1-ubuntu20.04-x86_64\"\n",
    "\n",
    "# VC user ssh keyfiles\n",
    "rs_spec.set_ssh_pubkey(rs_vcu_pubkey)\n",
    "\n",
    "# VC user ssh オプション\n",
    "rs_vcu_ssh_opts = f\"-i {rs_vcu_prvkey} -l root\""
   ]
  },
  {
   "cell_type": "markdown",
   "metadata": {
    "lc_cell_meme": {
     "current": "dadebe22-a9ff-11ec-aab3-02420a010024-6-c33d-e1c5-59f7-f780-1d82-149f",
     "next": "dadebef4-a9ff-11ec-aab3-02420a010024-6-140a-0f9e-4d45-2d42-b697-c27e",
     "previous": "dadebd3c-a9ff-11ec-aab3-02420a010024-6-3ef0-978c-34b1-79b3-cfa7-fde3"
    }
   },
   "source": [
    "#### Unitの作成とVCノードの起動\n",
    "Unitを作成します。Unitを作成すると同時に VCノード（ここでは Amazon EC2インスタンス）が起動します。処理が完了するまで1分半～2分程度かかります。"
   ]
  },
  {
   "cell_type": "code",
   "execution_count": null,
   "metadata": {
    "lc_cell_meme": {
     "current": "dadebef4-a9ff-11ec-aab3-02420a010024-6-140a-0f9e-4d45-2d42-b697-c27e",
     "next": "dadebfd0-a9ff-11ec-aab3-02420a010024-6-d553-1c87-c0da-c9a0-099f-cef7",
     "previous": "dadebe22-a9ff-11ec-aab3-02420a010024-6-c33d-e1c5-59f7-f780-1d82-149f"
    },
    "lc_wrapper": {},
    "scrolled": true
   },
   "outputs": [],
   "source": [
    "# Unitの作成（同時に VCノードが作成される）\n",
    "rs_unit = rs_unit_group.create_unit('tf-node', rs_spec)"
   ]
  },
  {
   "cell_type": "markdown",
   "metadata": {
    "lc_cell_meme": {
     "current": "dadebfd0-a9ff-11ec-aab3-02420a010024-6-d553-1c87-c0da-c9a0-099f-cef7",
     "next": "dadec0ac-a9ff-11ec-aab3-02420a010024-6-b1ec-129f-4117-51e1-5747-0cfb",
     "previous": "dadebef4-a9ff-11ec-aab3-02420a010024-6-140a-0f9e-4d45-2d42-b697-c27e"
    }
   },
   "source": [
    "#### 疎通確認\n",
    "まず、sshのknown_hostsの設定を行います。その後、VCノードに対して`uname -a`を実行し、`ubuntu`が起動していることを確認します。`ubuntu`が起動していない場合は、`spec.image` に誤りがあります。`24.認識システムの削除.ipynb`により環境を削除し、`spec.image`を修正、全てのセルを`unfreeze`してから、最初から再実行してください。"
   ]
  },
  {
   "cell_type": "code",
   "execution_count": null,
   "metadata": {
    "lc_cell_meme": {
     "current": "dadec0ac-a9ff-11ec-aab3-02420a010024-6-b1ec-129f-4117-51e1-5747-0cfb",
     "next": "f88f9146-d6c6-11ec-b26a-0242ac110002-3-bf60-9fb8-f4ae",
     "previous": "dadebfd0-a9ff-11ec-aab3-02420a010024-6-d553-1c87-c0da-c9a0-099f-cef7"
    },
    "lc_wrapper": {},
    "scrolled": true
   },
   "outputs": [],
   "source": [
    "# unit_group.find_ip_addresses() は UnitGroup内の全VCノードのIPアドレスのリストを返します\n",
    "rs_ipaddress = rs_unit_group.find_ip_addresses(node_state='RUNNING')[0] # 今は１つのVCノードのみ起動しているので [0] で最初の要素を取り出す\n",
    "print(rs_ipaddress)\n",
    "\n",
    "# ssh 設定(1/2) エラー対策のため分割\n",
    "!touch ~/.ssh/known_hosts\n",
    "!ssh-keygen -R {rs_ipaddress}    # ~/.ssh/known_hosts から古いホストキーを削除する"
   ]
  },
  {
   "cell_type": "code",
   "execution_count": null,
   "metadata": {
    "lc_cell_meme": {
     "current": "f88f9146-d6c6-11ec-b26a-0242ac110002-3-bf60-9fb8-f4ae",
     "next": "dadec17e-a9ff-11ec-aab3-02420a010024-6-abc9-cc4f-cb83-5ac7-1f36-0de6",
     "previous": "dadec0ac-a9ff-11ec-aab3-02420a010024-6-b1ec-129f-4117-51e1-5747-0cfb"
    },
    "lc_wrapper": {}
   },
   "outputs": [],
   "source": [
    "# ssh 設定(2/2) エラー対策のため分割\n",
    "!ssh-keyscan {rs_ipaddress} >> ~/.ssh/known_hosts    # ホストキーの登録\n",
    "\n",
    "# システムの確認\n",
    "!ssh {rs_vcu_ssh_opts} {rs_ipaddress} uname -a"
   ]
  },
  {
   "cell_type": "markdown",
   "metadata": {
    "lc_cell_meme": {
     "current": "dadec17e-a9ff-11ec-aab3-02420a010024-6-abc9-cc4f-cb83-5ac7-1f36-0de6",
     "next": "dadec17e-a9ff-11ec-aab3-02420a010024-7-abc9-cc4f-cb83-4b1d-2ec3-fbf5-8808",
     "previous": "f88f9146-d6c6-11ec-b26a-0242ac110002-3-bf60-9fb8-f4ae"
    }
   },
   "source": [
    "### 認識システムのTensorFlow環境の構築"
   ]
  },
  {
   "cell_type": "markdown",
   "metadata": {
    "lc_cell_meme": {
     "current": "dadec17e-a9ff-11ec-aab3-02420a010024-7-abc9-cc4f-cb83-4b1d-2ec3-fbf5-8808",
     "next": "dadec3f4-a9ff-11ec-aab3-02420a010024-7-6a48-6fb2-f8cf-4369-fb00-5204-0f8f",
     "previous": "dadec17e-a9ff-11ec-aab3-02420a010024-6-abc9-cc4f-cb83-5ac7-1f36-0de6"
    }
   },
   "source": [
    "VCノード上に、TensorFlowのインストールページ(https://www.tensorflow.org/install) で紹介されているコンテナイメージを使用して環境を構築します。"
   ]
  },
  {
   "cell_type": "markdown",
   "metadata": {
    "lc_cell_meme": {
     "current": "dadec3f4-a9ff-11ec-aab3-02420a010024-7-6a48-6fb2-f8cf-4369-fb00-5204-0f8f",
     "next": "dadec3f4-a9ff-11ec-aab3-02420a010024-6-6a48-6fb2-f8cf-9075-b924-6a42",
     "previous": "dadec17e-a9ff-11ec-aab3-02420a010024-7-abc9-cc4f-cb83-4b1d-2ec3-fbf5-8808"
    }
   },
   "source": [
    "#### ユーザー登録"
   ]
  },
  {
   "cell_type": "markdown",
   "metadata": {
    "lc_cell_meme": {
     "current": "dadec3f4-a9ff-11ec-aab3-02420a010024-6-6a48-6fb2-f8cf-9075-b924-6a42",
     "next": "dadec4c6-a9ff-11ec-aab3-02420a010024-6-0257-8cdd-f182-bdd9-bbac-511c",
     "previous": "dadec3f4-a9ff-11ec-aab3-02420a010024-7-6a48-6fb2-f8cf-4369-fb00-5204-0f8f"
    }
   },
   "source": [
    "作成した Unit に TensorFlow コンテナを実行するユーザーを登録します。便宜上このNotebookでは、TensorFlow 環境のユーザーのsshの鍵として、この JupyterNotebook 環境の鍵を使用します。"
   ]
  },
  {
   "cell_type": "code",
   "execution_count": null,
   "metadata": {
    "lc_cell_meme": {
     "current": "dadec4c6-a9ff-11ec-aab3-02420a010024-6-0257-8cdd-f182-bdd9-bbac-511c",
     "next": "dadec5a2-a9ff-11ec-aab3-02420a010024-7-a076-1b93-d0c6-1fb7-d760-876b-89c2",
     "previous": "dadec3f4-a9ff-11ec-aab3-02420a010024-6-6a48-6fb2-f8cf-9075-b924-6a42"
    },
    "lc_wrapper": {},
    "scrolled": true
   },
   "outputs": [],
   "source": [
    "# ユーザー追加\n",
    "!ssh {rs_vcu_ssh_opts} {rs_ipaddress} 'adduser --disabled-login --gecos \"\" {rs_user}'\n",
    "!ssh {rs_vcu_ssh_opts} {rs_ipaddress} 'usermod -aG \"docker\" {rs_user}'\n",
    "\n",
    "# ユーザー ssh 公開鍵設定\n",
    "!ssh {rs_vcu_ssh_opts} {rs_ipaddress} mkdir -m 700 /home/{rs_user}/.ssh\n",
    "!scp -i {rs_vcu_prvkey} {rs_user_pubkey} root@{rs_ipaddress}:/home/{rs_user}/.ssh/authorized_keys\n",
    "!ssh {rs_vcu_ssh_opts} {rs_ipaddress} chmod 600 /home/{rs_user}/.ssh/authorized_keys\n",
    "!ssh {rs_vcu_ssh_opts} {rs_ipaddress} chown -R {rs_user}:{rs_user} /home/{rs_user}/.ssh/\n",
    "\n",
    "# ssh 疎通確認\n",
    "rs_user_ssh_opts = f'-i {rs_user_prvkey}'\n",
    "rs_target = f'{rs_user}@{rs_ipaddress}'\n",
    "!ssh {rs_user_ssh_opts} {rs_target} id"
   ]
  },
  {
   "cell_type": "markdown",
   "metadata": {
    "lc_cell_meme": {
     "current": "dadec5a2-a9ff-11ec-aab3-02420a010024-7-a076-1b93-d0c6-1fb7-d760-876b-89c2",
     "next": "dadec5a2-a9ff-11ec-aab3-02420a010024-6-a076-1b93-d0c6-21a6-5978-9f20",
     "previous": "dadec4c6-a9ff-11ec-aab3-02420a010024-6-0257-8cdd-f182-bdd9-bbac-511c"
    }
   },
   "source": [
    "#### TensorFlow コンテナイメージの作成と実行"
   ]
  },
  {
   "cell_type": "markdown",
   "metadata": {
    "lc_cell_meme": {
     "current": "dadec5a2-a9ff-11ec-aab3-02420a010024-6-a076-1b93-d0c6-21a6-5978-9f20",
     "next": "dadec67e-a9ff-11ec-aab3-02420a010024-6-c227-b90d-0462-dcf0-7e86-61b1",
     "previous": "dadec5a2-a9ff-11ec-aab3-02420a010024-7-a076-1b93-d0c6-1fb7-d760-876b-89c2"
    }
   },
   "source": [
    "ユーザーを追加した TensorFlow コンテナイメージを作成し実行します。"
   ]
  },
  {
   "cell_type": "code",
   "execution_count": null,
   "metadata": {
    "lc_cell_meme": {
     "current": "dadec67e-a9ff-11ec-aab3-02420a010024-6-c227-b90d-0462-dcf0-7e86-61b1",
     "next": "dadec750-a9ff-11ec-aab3-02420a010024-7-3b03-bbba-6e6c-c45e-600c-7d90-33a8",
     "previous": "dadec5a2-a9ff-11ec-aab3-02420a010024-6-a076-1b93-d0c6-21a6-5978-9f20"
    },
    "lc_wrapper": {}
   },
   "outputs": [],
   "source": [
    "# 最新のTensorFlowコンテナイメージのダウンロード\n",
    "docker_image = f'tensorflow/tensorflow:latest'\n",
    "!ssh {rs_user_ssh_opts} {rs_target} docker pull {docker_image}\n",
    "#!ssh {rs_user_ssh_opts} {rs_ipaddress} docker info\n",
    "\n",
    "# ユーザーを追加したコンテナイメージの作成\n",
    "from pathlib import Path\n",
    "from tempfile import TemporaryDirectory\n",
    "\n",
    "!ssh {rs_user_ssh_opts} {rs_target} mkdir -p tensorflow-img\n",
    "out = !ssh {rs_user_ssh_opts} {rs_target} id -u\n",
    "uid = out[0]\n",
    "with TemporaryDirectory() as workdir:\n",
    "    dockerfile = Path(workdir) / 'Dockerfile'\n",
    "    with dockerfile.open(mode='w') as f:\n",
    "        f.write(f'''\n",
    "FROM {docker_image}\n",
    "\n",
    "ARG USER={rs_user}\n",
    "RUN useradd -m ${{USER}} -u {uid}\n",
    "WORKDIR /home/${{USER}}\n",
    "USER {rs_user}\n",
    "''')\n",
    "    !cat {dockerfile}\n",
    "    !scp {rs_user_ssh_opts} {dockerfile} {rs_target}:tensorflow-img\n",
    "\n",
    "!ssh {rs_user_ssh_opts} {rs_target} docker build -t tensorflow-{rs_user} tensorflow-img\n",
    "\n",
    "# コンテナの実行\n",
    "!ssh {rs_user_ssh_opts} {rs_target} chmod 755 .\n",
    "!ssh {rs_user_ssh_opts} {rs_target} docker run -td -v /home/{rs_user}:/home/{rs_user} --rm --ipc=host --net=host --name tensorflow-{rs_user} tensorflow-{rs_user}\n",
    "!ssh {rs_user_ssh_opts} {rs_target} docker ps"
   ]
  },
  {
   "cell_type": "markdown",
   "metadata": {
    "lc_cell_meme": {
     "current": "dadec750-a9ff-11ec-aab3-02420a010024-7-3b03-bbba-6e6c-c45e-600c-7d90-33a8",
     "next": "dadec750-a9ff-11ec-aab3-02420a010024-6-3b03-bbba-6e6c-3db0-ce20-6a85",
     "previous": "dadec67e-a9ff-11ec-aab3-02420a010024-6-c227-b90d-0462-dcf0-7e86-61b1"
    }
   },
   "source": [
    "### 認識の準備"
   ]
  },
  {
   "cell_type": "markdown",
   "metadata": {
    "lc_cell_meme": {
     "current": "dadec750-a9ff-11ec-aab3-02420a010024-6-3b03-bbba-6e6c-3db0-ce20-6a85",
     "next": "dadec822-a9ff-11ec-aab3-02420a010024-6-a46e-71cc-4b3f-6c04-2c0e-0c91",
     "previous": "dadec750-a9ff-11ec-aab3-02420a010024-7-3b03-bbba-6e6c-c45e-600c-7d90-33a8"
    }
   },
   "source": [
    "認識システム上に作業ディレクトリを作成し、認識システムのイメージ処理に必要なモジュールをインストールし、フロントエンドシステム（JupyterNotebook）から認識スクリプト等を転送します。"
   ]
  },
  {
   "cell_type": "code",
   "execution_count": null,
   "metadata": {
    "lc_cell_meme": {
     "current": "dadec822-a9ff-11ec-aab3-02420a010024-6-a46e-71cc-4b3f-6c04-2c0e-0c91",
     "next": "03f470d6-d034-11ec-b26a-0242ac110002-3-7d99-62f5-8f20",
     "previous": "dadec750-a9ff-11ec-aab3-02420a010024-6-3b03-bbba-6e6c-3db0-ce20-6a85"
    },
    "lc_wrapper": {}
   },
   "outputs": [],
   "source": [
    "# 必要なモジュールのインストール\n",
    "!ssh {rs_user_ssh_opts} {rs_target} docker exec -t -u {rs_user} tensorflow-{rs_user} pip install pillow\n",
    "!ssh {rs_user_ssh_opts} {rs_target} docker exec -t -u {rs_user} tensorflow-{rs_user} pip install matplotlib\n",
    "\n",
    "# 認識システムのスクリプトを格納しているディレクトリ（JupyterNotebookのパス）\n",
    "rs_scripts = './scripts/recognition'\n",
    "\n",
    "# VCノード上の作業ディレクトリの作成\n",
    "!ssh {rs_user_ssh_opts} {rs_target} mkdir -p {tf_work_dir}\n",
    "\n",
    "# VCノードで実行するスクリプトの転送\n",
    "!scp {rs_user_ssh_opts} -qp {rs_scripts}/*.py {rs_target}:{tf_work_dir}"
   ]
  },
  {
   "cell_type": "markdown",
   "metadata": {
    "lc_cell_meme": {
     "current": "03f470d6-d034-11ec-b26a-0242ac110002-3-7d99-62f5-8f20",
     "next": "ed21e6fe-d010-11ec-b26a-0242ac110002-3-75cc-9033-757a",
     "previous": "dadec822-a9ff-11ec-aab3-02420a010024-6-a46e-71cc-4b3f-6c04-2c0e-0c91"
    }
   },
   "source": [
    "### 認識システムのパラメータ保存"
   ]
  },
  {
   "cell_type": "code",
   "execution_count": null,
   "metadata": {
    "lc_cell_meme": {
     "current": "ed21e6fe-d010-11ec-b26a-0242ac110002-3-75cc-9033-757a",
     "next": null,
     "previous": "03f470d6-d034-11ec-b26a-0242ac110002-3-7d99-62f5-8f20"
    },
    "lc_wrapper": {}
   },
   "outputs": [],
   "source": [
    "%run scripts/ts/group.py\n",
    "\n",
    "update_group_vars(\n",
    "    rs_ugroup_name,\n",
    "    rs_ugroup_name=rs_ugroup_name,\n",
    "    rs_vcu_pubkey = rs_vcu_pubkey,\n",
    "    rs_vcu_prvkey = rs_vcu_prvkey,\n",
    "    rs_vc_provider=rs_vc_provider,\n",
    "    rs_vcnode_flavor=rs_vcnode_flavor,\n",
    "    rs_ipaddress = rs_ipaddress,\n",
    "    rs_user = rs_user,\n",
    "    rs_user_pubkey=str(Path(rs_user_pubkey).expanduser()),\n",
    "    rs_user_prvkey=str(Path(rs_user_prvkey).expanduser()),\n",
    "    tf_work_dir = tf_work_dir,\n",
    "    fe_save_dir = fe_save_dir,\n",
    "    training_system = training_system,\n",
    ")\n",
    "\n",
    "if training_system:\n",
    "    update_group_vars(\n",
    "        rs_ugroup_name,\n",
    "        ohpc_WORK_DIR = ohpc_WORK_DIR,\n",
    "        ts_ugroup_name = ts_ugroup_name,\n",
    "    )"
   ]
  }
 ],
 "metadata": {
  "kernelspec": {
   "display_name": "Python 3",
   "language": "python",
   "name": "python3"
  },
  "language_info": {
   "file_extension": ".py",
   "mimetype": "text/x-python",
   "name": "python",
   "nbconvert_exporter": "python",
   "pygments_lexer": "ipython3",
   "version": "3.10.4"
  },
  "toc": {
   "base_numbering": 1,
   "nav_menu": {},
   "number_sections": true,
   "sideBar": true,
   "skip_h1_title": true,
   "title_cell": "Table of Contents",
   "title_sidebar": "Contents",
   "toc_cell": false,
   "toc_position": {
    "height": "826px",
    "left": "0px",
    "right": "1202px",
    "top": "111px",
    "width": "310px"
   },
   "toc_section_display": "block",
   "toc_window_display": true
  }
 },
 "nbformat": 4,
 "nbformat_minor": 2
}
