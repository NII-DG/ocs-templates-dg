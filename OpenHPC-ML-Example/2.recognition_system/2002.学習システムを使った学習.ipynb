{
 "cells": [
  {
   "cell_type": "markdown",
   "metadata": {
    "lc_cell_meme": {
     "current": "db167e02-a9ff-11ec-a26f-02420a010024-5-696f-152b-02f4-ed31-dff9",
     "next": "db167f60-a9ff-11ec-a26f-02420a010024-5-66d4-9b2e-50aa-8aca-822c",
     "previous": null
    }
   },
   "source": [
    "# 学習システムでのMNISTの学習とモデル・重みの保存\n",
    "\n",
    "---\n",
    "\n",
    "学習システムで、MNISTデータを学習するために必要なスクリプト等の転送、MNISTデータの学習、学習モデルと学習結果としての重みを保存し、フロントエンドに転送します。なお、本Notebookでは VC ノード上で動作している Slurm や TensorFlow にアクセスするのみのため、VCP は使用しません。\n",
    "\n",
    "MNIST データの学習は、[OpenHPC-v2](https://github.com/nii-gakunin-cloud/ocs-templates/tree/master/OpenHPC-v2) `152-NGCのコンテナ実行-TensorFlow.ipynb`と基本的に同じですが、学習したモデルと重みを保存する点が異なります。\n",
    "\n",
    "![構成](images/220.training.png)"
   ]
  },
  {
   "cell_type": "markdown",
   "metadata": {
    "lc_cell_meme": {
     "current": "db167f60-a9ff-11ec-a26f-02420a010024-5-66d4-9b2e-50aa-8aca-822c",
     "next": "db167f60-a9ff-11ec-a26f-02420a010024-5-66d4-9b2e-695c-9a3e-bb40",
     "previous": "db167e02-a9ff-11ec-a26f-02420a010024-5-696f-152b-02f4-ed31-dff9"
    }
   },
   "source": [
    "## 学習システムの再開"
   ]
  },
  {
   "cell_type": "markdown",
   "metadata": {
    "lc_cell_meme": {
     "current": "db167f60-a9ff-11ec-a26f-02420a010024-5-66d4-9b2e-695c-9a3e-bb40",
     "next": "db168050-a9ff-11ec-a26f-02420a010024-5-c171-5a07-2a6a-0232-3886",
     "previous": "db167f60-a9ff-11ec-a26f-02420a010024-5-66d4-9b2e-50aa-8aca-822c"
    }
   },
   "source": [
    "学習システムを停止している場合は、`1912-ノードの再開.ipynb`を使用し学習システムを再開してください。\n",
    "(学習システムの停止は`1911-ノードの停止.ipynb`を使用して実施できます)"
   ]
  },
  {
   "cell_type": "markdown",
   "metadata": {
    "lc_cell_meme": {
     "current": "db168050-a9ff-11ec-a26f-02420a010024-5-c171-5a07-2a6a-0232-3886",
     "next": "db168050-a9ff-11ec-a26f-02420a010024-6-c171-5a07-2a6a-4bab-6586-4613",
     "previous": "db167f60-a9ff-11ec-a26f-02420a010024-5-66d4-9b2e-695c-9a3e-bb40"
    }
   },
   "source": [
    "## 認識システムの指定"
   ]
  },
  {
   "cell_type": "markdown",
   "metadata": {
    "lc_cell_meme": {
     "current": "db168050-a9ff-11ec-a26f-02420a010024-6-c171-5a07-2a6a-4bab-6586-4613",
     "next": "d592413c-d038-11ec-b26a-0242ac110002-2-1f72-a939",
     "previous": "db168050-a9ff-11ec-a26f-02420a010024-5-c171-5a07-2a6a-0232-3886"
    }
   },
   "source": [
    "認識システムと関連する学習システムの情報を読み出すため、認識システムの `UnitGroup` 名を指定します。なお、内部的には UnitGroup 名のついたファイル名をアクセスするだけで、VCP へはアクセスしません。"
   ]
  },
  {
   "cell_type": "code",
   "execution_count": null,
   "metadata": {
    "lc_cell_meme": {
     "current": "d592413c-d038-11ec-b26a-0242ac110002-2-1f72-a939",
     "next": "db168050-a9ff-11ec-a26f-02420a010024-6-c171-5a07-2a6a-710d-d933-b48e",
     "previous": "db168050-a9ff-11ec-a26f-02420a010024-6-c171-5a07-2a6a-4bab-6586-4613"
    },
    "lc_wrapper": {}
   },
   "outputs": [],
   "source": [
    "rs_ugroup_name = 'TfCpu'"
   ]
  },
  {
   "cell_type": "markdown",
   "metadata": {
    "lc_cell_meme": {
     "current": "db168050-a9ff-11ec-a26f-02420a010024-6-c171-5a07-2a6a-710d-d933-b48e",
     "next": "db168050-a9ff-11ec-a26f-02420a010024-7-c171-5a07-2a6a-f0d4-ab4a-0ca7-9f86",
     "previous": "d592413c-d038-11ec-b26a-0242ac110002-2-1f72-a939"
    }
   },
   "source": [
    "## 学習システムでの MNIST データの学習と結果の保存"
   ]
  },
  {
   "cell_type": "markdown",
   "metadata": {
    "lc_cell_meme": {
     "current": "db168050-a9ff-11ec-a26f-02420a010024-7-c171-5a07-2a6a-f0d4-ab4a-0ca7-9f86",
     "next": "db168050-a9ff-11ec-a26f-02420a010024-10-c171-5a07-2a6a-f0d4-ab4a-86b2-7326-276a-47b6-8a19",
     "previous": "db168050-a9ff-11ec-a26f-02420a010024-6-c171-5a07-2a6a-710d-d933-b48e"
    }
   },
   "source": [
    "### 準備"
   ]
  },
  {
   "cell_type": "markdown",
   "metadata": {
    "lc_cell_meme": {
     "current": "db168050-a9ff-11ec-a26f-02420a010024-10-c171-5a07-2a6a-f0d4-ab4a-86b2-7326-276a-47b6-8a19",
     "execution_end_time": "2022-05-11T03:58:07.763082Z",
     "next": "db168050-a9ff-11ec-a26f-02420a010024-8-c171-5a07-2a6a-f0d4-ab4a-a044-a6a5-06d6",
     "previous": "db168050-a9ff-11ec-a26f-02420a010024-7-c171-5a07-2a6a-f0d4-ab4a-0ca7-9f86"
    },
    "lc_wrapper": {}
   },
   "source": [
    "#### 認識、学習システムのパラメータ読み出し"
   ]
  },
  {
   "cell_type": "markdown",
   "metadata": {
    "lc_cell_meme": {
     "current": "db168050-a9ff-11ec-a26f-02420a010024-8-c171-5a07-2a6a-f0d4-ab4a-a044-a6a5-06d6",
     "next": "fef48144-d037-11ec-b26a-0242ac110002-4-fd67-a0f4-394e-af57",
     "previous": "db168050-a9ff-11ec-a26f-02420a010024-10-c171-5a07-2a6a-f0d4-ab4a-86b2-7326-276a-47b6-8a19"
    }
   },
   "source": [
    "認識システムと関連する学習システムの情報を読み出します。以下の場合エラーとなります。\n",
    "* 認識システム構築時に学習システムの使用を定義していない（training_system = False)\n",
    "* 作業用フォルダ(../1.learning_system/{ohpc_WORK_DIR})が存在しない\n",
    "* 指定した UnitGroup ({ts_ugroup_name})が存在しない"
   ]
  },
  {
   "cell_type": "code",
   "execution_count": null,
   "metadata": {
    "lc_cell_meme": {
     "current": "fef48144-d037-11ec-b26a-0242ac110002-4-fd67-a0f4-394e-af57",
     "next": "db168050-a9ff-11ec-a26f-02420a010024-8-c171-5a07-2a6a-f0d4-ab4a-8e30-274d-78b0",
     "previous": "db168050-a9ff-11ec-a26f-02420a010024-8-c171-5a07-2a6a-f0d4-ab4a-a044-a6a5-06d6"
    },
    "lc_wrapper": {}
   },
   "outputs": [],
   "source": [
    "%run scripts/ts/group.py\n",
    "\n",
    "rs_gvars = load_group_vars(rs_ugroup_name)\n",
    "print(rs_gvars)\n",
    "\n",
    "if rs_gvars['training_system']:\n",
    "    ts_gvars = load_group_vars(rs_gvars['ts_ugroup_name'], \"../1.learning_system/\" + rs_gvars['ohpc_WORK_DIR'])\n",
    "    print(ts_gvars)\n",
    "else:\n",
    "    raise RuntimeError('Error: no training systems')"
   ]
  },
  {
   "cell_type": "markdown",
   "metadata": {
    "lc_cell_meme": {
     "current": "db168050-a9ff-11ec-a26f-02420a010024-8-c171-5a07-2a6a-f0d4-ab4a-8e30-274d-78b0",
     "next": "db168730-a9ff-11ec-a26f-02420a010024-5-4dfc-5308-6a09-bfbb-515f",
     "previous": "fef48144-d037-11ec-b26a-0242ac110002-4-fd67-a0f4-394e-af57"
    }
   },
   "source": [
    "#### 固定パラメタの設定"
   ]
  },
  {
   "cell_type": "code",
   "execution_count": null,
   "metadata": {
    "lc_cell_meme": {
     "current": "db168730-a9ff-11ec-a26f-02420a010024-5-4dfc-5308-6a09-bfbb-515f",
     "next": "db168802-a9ff-11ec-a26f-02420a010024-5-05f9-f731-480e-40a6-b20d",
     "previous": "db168050-a9ff-11ec-a26f-02420a010024-8-c171-5a07-2a6a-f0d4-ab4a-8e30-274d-78b0"
    },
    "lc_wrapper": {},
    "scrolled": true,
    "tags": [
     "vcp:parameters"
    ]
   },
   "outputs": [],
   "source": [
    "# ユーザ名とホスト名\n",
    "ts_target = f'{ts_gvars[\"ohpc_user\"]}@{ts_gvars[\"master_ipaddress\"]}'\n",
    "\n",
    "# 学習システムと認識システムの TensorFlow 作業フォルダ（共通パス名）\n",
    "tf_work_dir = rs_gvars['tf_work_dir']\n",
    "\n",
    "# SSHのコマンドライン引数\n",
    "ts_user_ssh_opts = f'-i {ts_gvars[\"ohpc_user_prvkey\"]}'\n",
    "\n",
    "# 使用するノード数\n",
    "nodes = 1\n",
    "\n",
    "# 認識システムの IP アドレス\n",
    "rs_ipaddress = rs_gvars['rs_ipaddress']\n",
    "print(rs_ipaddress)"
   ]
  },
  {
   "cell_type": "markdown",
   "metadata": {
    "lc_cell_meme": {
     "current": "db168802-a9ff-11ec-a26f-02420a010024-5-05f9-f731-480e-40a6-b20d",
     "next": "84cdc7f6-d044-11ec-b26a-0242ac110002-2-42b9-6b2e",
     "previous": "db168730-a9ff-11ec-a26f-02420a010024-5-4dfc-5308-6a09-bfbb-515f"
    }
   },
   "source": [
    "#### 学習システム用のスクリプトの準備と転送"
   ]
  },
  {
   "cell_type": "markdown",
   "metadata": {
    "lc_cell_meme": {
     "current": "84cdc7f6-d044-11ec-b26a-0242ac110002-2-42b9-6b2e",
     "next": "db1688f2-a9ff-11ec-a26f-02420a010024-5-d6cc-7e58-7b93-3452-e9f3",
     "previous": "db168802-a9ff-11ec-a26f-02420a010024-5-05f9-f731-480e-40a6-b20d"
    }
   },
   "source": [
    "ジョブスクリプトのテンプレートに、上のセルで定義した user, work_dir を適用したジョブスクリプトを生成します。"
   ]
  },
  {
   "cell_type": "code",
   "execution_count": null,
   "metadata": {
    "lc_cell_meme": {
     "current": "db1688f2-a9ff-11ec-a26f-02420a010024-5-d6cc-7e58-7b93-3452-e9f3",
     "next": "db1689f6-a9ff-11ec-a26f-02420a010024-5-e1d4-05ff-3d88-a41e-0b85",
     "previous": "84cdc7f6-d044-11ec-b26a-0242ac110002-2-42b9-6b2e"
    },
    "lc_wrapper": {}
   },
   "outputs": [],
   "source": [
    "import shutil\n",
    "import os\n",
    "org_path='./original/job'\n",
    "job_path='./scripts/job'\n",
    "if os.path.isdir(job_path):\n",
    "    shutil.rmtree(job_path)\n",
    "    \n",
    "os.makedirs(job_path)\n",
    "for fname in os.listdir(org_path):\n",
    "    !sed 's/__xUSERx__/{rs_gvars[\"rs_user\"]}/g' {org_path}/{fname} | sed 's/__xWORK_DIRx__/{tf_work_dir}/g' > {job_path}/{fname}"
   ]
  },
  {
   "cell_type": "markdown",
   "metadata": {
    "lc_cell_meme": {
     "current": "db1689f6-a9ff-11ec-a26f-02420a010024-5-e1d4-05ff-3d88-a41e-0b85",
     "next": "db168adc-a9ff-11ec-a26f-02420a010024-5-59af-0fa6-3d2d-f4ef-0f3d",
     "previous": "db1688f2-a9ff-11ec-a26f-02420a010024-5-d6cc-7e58-7b93-3452-e9f3"
    }
   },
   "source": [
    "学習スクリプトとジョブスクリプトを学習システムへ転送します。MNIST の学習スクリプトは、[OpenHPC-v2](https://github.com/nii-gakunin-cloud/ocs-templates/tree/master/OpenHPC-v2) テンプレートに添付されている学習スクリプトにモデルと重みの保存を追加したものです。"
   ]
  },
  {
   "cell_type": "code",
   "execution_count": null,
   "metadata": {
    "lc_cell_meme": {
     "current": "db168adc-a9ff-11ec-a26f-02420a010024-5-59af-0fa6-3d2d-f4ef-0f3d",
     "next": "1500e43e-d7e8-11ec-b26a-0242ac110002-2-5b9c-82d7",
     "previous": "db1689f6-a9ff-11ec-a26f-02420a010024-5-e1d4-05ff-3d88-a41e-0b85"
    },
    "lc_wrapper": {}
   },
   "outputs": [],
   "source": [
    "# 学習システムに、データやスクリプトを配置するディレクトリを作成\n",
    "!ssh {ts_user_ssh_opts} {ts_target} mkdir -p {tf_work_dir}\n",
    "\n",
    "# 学習スクリプトとジョブスクリプトの転送\n",
    "!scp {ts_user_ssh_opts} scripts/tensorflow/*.py {ts_target}:{tf_work_dir}\n",
    "!scp {ts_user_ssh_opts} scripts/job/*.job {ts_target}:{tf_work_dir}\n",
    "\n",
    "# コンテナを実行するため、ホームディレクトリのパーミッションを変更\n",
    "!ssh {ts_user_ssh_opts} {ts_target} chmod 755 ."
   ]
  },
  {
   "cell_type": "markdown",
   "metadata": {
    "lc_cell_meme": {
     "current": "1500e43e-d7e8-11ec-b26a-0242ac110002-2-5b9c-82d7",
     "next": "1500e68c-d7e8-11ec-b26a-0242ac110002-2-f966-aa92",
     "previous": "db168adc-a9ff-11ec-a26f-02420a010024-5-59af-0fa6-3d2d-f4ef-0f3d"
    }
   },
   "source": [
    "#### バッチジョブ操作関数の定義"
   ]
  },
  {
   "cell_type": "code",
   "execution_count": null,
   "metadata": {
    "lc_cell_meme": {
     "current": "1500e68c-d7e8-11ec-b26a-0242ac110002-2-f966-aa92",
     "next": "db168ba4-a9ff-11ec-a26f-02420a010024-5-137b-9ebc-8765-feb0-9695",
     "previous": "1500e43e-d7e8-11ec-b26a-0242ac110002-2-5b9c-82d7"
    },
    "lc_wrapper": {}
   },
   "outputs": [],
   "source": [
    "# バッチジョブ投入関数定義(slurm 用)\n",
    "def qsub(job, work_dir=\".\"):\n",
    "    bs_state = !ssh {ts_user_ssh_opts} {ts_target} bash -l -c \"'cd {work_dir} && sbatch {job}'\"\n",
    "    bs_state = bs_state[len(bs_state)-1]\n",
    "    print(bs_state)\n",
    "\n",
    "    if bs_state.split()[0] == 'Submitted':\n",
    "        return bs_state.split()[3]\n",
    "    else:\n",
    "        raise RuntimeError('ERROR: job submission error')\n",
    "\n",
    "        \n",
    "def qstat(bs_jobid):\n",
    "    print('job ' + bs_jobid + ':', end = ' ')\n",
    "    while True:\n",
    "        bs_state = !ssh {ts_user_ssh_opts} {ts_target} bash -l -c 'squeue --noheader --jobs={bs_jobid}'\n",
    "        bs_state = bs_state[len(bs_state)-1]\n",
    "        if bs_state == '' or bs_state.split()[0] == 'JOBID':\n",
    "            break\n",
    "        elif 'error' in bs_state:\n",
    "            raise RuntimeError(bs_state)\n",
    "        else:\n",
    "            print(\"\", end = '.')\n",
    "            !sleep 5\n",
    "    print(' finished')"
   ]
  },
  {
   "cell_type": "markdown",
   "metadata": {
    "lc_cell_meme": {
     "current": "db168ba4-a9ff-11ec-a26f-02420a010024-5-137b-9ebc-8765-feb0-9695",
     "next": "db168c8a-a9ff-11ec-a26f-02420a010024-5-724a-975d-6847-0efb-f7ee",
     "previous": "1500e68c-d7e8-11ec-b26a-0242ac110002-2-f966-aa92"
    }
   },
   "source": [
    "### MNIST データの学習"
   ]
  },
  {
   "cell_type": "markdown",
   "metadata": {
    "lc_cell_meme": {
     "current": "db168c8a-a9ff-11ec-a26f-02420a010024-5-724a-975d-6847-0efb-f7ee",
     "next": "c163303e-d7ec-11ec-b26a-0242ac110002-2-5487-dc2b",
     "previous": "db168ba4-a9ff-11ec-a26f-02420a010024-5-137b-9ebc-8765-feb0-9695"
    }
   },
   "source": [
    "MNIST の学習ジョブ(tensorflow_mnist_docker_ho.job)を実行します。この学習ジョブスクリプトでは、学習スクリプト mnist_training.py を実行します。終了までに数分かかります。ジョブ実行中のCPU, メモリ, GPUなどの利用状況は VCC の Grafana で確認することもできます。"
   ]
  },
  {
   "cell_type": "code",
   "execution_count": null,
   "metadata": {
    "lc_cell_meme": {
     "current": "c163303e-d7ec-11ec-b26a-0242ac110002-2-5487-dc2b",
     "next": "db16900e-a9ff-11ec-a26f-02420a010024-5-6ce7-6bfa-5695-1bfc-c465",
     "previous": "db168c8a-a9ff-11ec-a26f-02420a010024-5-724a-975d-6847-0efb-f7ee"
    },
    "lc_wrapper": {}
   },
   "outputs": [],
   "source": [
    "# 以前の学習ジョブ結果の削除\n",
    "!ssh {ts_user_ssh_opts} {ts_target} bash -l -c \\\n",
    "    \"'cd {tf_work_dir} && rm -rf  tensorflow-mnist*.out saved_model*'\"\n",
    "\n",
    "# 学習ジョブの投入と実行終了待ち\n",
    "jobid = qsub('tensorflow_mnist_docker_ho.job', tf_work_dir)\n",
    "qstat(jobid)"
   ]
  },
  {
   "cell_type": "markdown",
   "metadata": {
    "lc_cell_meme": {
     "current": "db16900e-a9ff-11ec-a26f-02420a010024-5-6ce7-6bfa-5695-1bfc-c465",
     "next": "db1690cc-a9ff-11ec-a26f-02420a010024-5-6b5e-6f73-a8ad-4e87-e471",
     "previous": "c163303e-d7ec-11ec-b26a-0242ac110002-2-5487-dc2b"
    }
   },
   "source": [
    "ジョブの出力結果を確認します。"
   ]
  },
  {
   "cell_type": "code",
   "execution_count": null,
   "metadata": {
    "lc_cell_meme": {
     "current": "db1690cc-a9ff-11ec-a26f-02420a010024-5-6b5e-6f73-a8ad-4e87-e471",
     "next": "db1691a8-a9ff-11ec-a26f-02420a010024-5-b497-ba6c-4eea-9f5c-406a",
     "previous": "db16900e-a9ff-11ec-a26f-02420a010024-5-6ce7-6bfa-5695-1bfc-c465"
    },
    "lc_wrapper": {},
    "tags": [
     "vcp:wait:180"
    ]
   },
   "outputs": [],
   "source": [
    "!ssh {ts_user_ssh_opts} {ts_target} bash -l -c \\\n",
    "    \"'cd {tf_work_dir} && tail tensorflow-mnist*.out'\""
   ]
  },
  {
   "cell_type": "markdown",
   "metadata": {
    "lc_cell_meme": {
     "current": "db1691a8-a9ff-11ec-a26f-02420a010024-5-b497-ba6c-4eea-9f5c-406a",
     "next": "db169284-a9ff-11ec-a26f-02420a010024-5-a9e6-17ee-b96a-3c7a-e83a",
     "previous": "db1690cc-a9ff-11ec-a26f-02420a010024-5-6b5e-6f73-a8ad-4e87-e471"
    }
   },
   "source": [
    "ジョブの実行が完了していれば出力結果の末尾に以下のような内容が表示されます。\n",
    "\n",
    "```\n",
    "1875/1875 [==============================] - 2s 1ms/step - loss: 0.1098 - accuracy: 0.9664\n",
    "Epoch 4/5\n",
    "1875/1875 [==============================] - 2s 1ms/step - loss: 0.0891 - accuracy: 0.9724\n",
    "Epoch 5/5\n",
    "1875/1875 [==============================] - 2s 1ms/step - loss: 0.0748 - accuracy: 0.9755\n",
    "313/313 - 0s - loss: 0.0839 - accuracy: 0.9748\n",
    "\n",
    "Test accuracy: 0.9747999906539917\n",
    "```"
   ]
  },
  {
   "cell_type": "markdown",
   "metadata": {
    "lc_cell_meme": {
     "current": "db169284-a9ff-11ec-a26f-02420a010024-5-a9e6-17ee-b96a-3c7a-e83a",
     "next": "db16936a-a9ff-11ec-a26f-02420a010024-5-365b-91ec-21a5-bf63-2031",
     "previous": "db1691a8-a9ff-11ec-a26f-02420a010024-5-b497-ba6c-4eea-9f5c-406a"
    }
   },
   "source": [
    "### モデルと重みの転送\n",
    "学習システムで学習したモデルと重みを、認識システムに展開します。"
   ]
  },
  {
   "cell_type": "code",
   "execution_count": null,
   "metadata": {
    "lc_cell_meme": {
     "current": "db16936a-a9ff-11ec-a26f-02420a010024-5-365b-91ec-21a5-bf63-2031",
     "next": null,
     "previous": "db169284-a9ff-11ec-a26f-02420a010024-5-a9e6-17ee-b96a-3c7a-e83a"
    },
    "lc_wrapper": {}
   },
   "outputs": [],
   "source": [
    "# 学習システムでの学習結果をフロントエンドにダウンロード\n",
    "!scp {ts_user_ssh_opts} -p {ts_target}:{tf_work_dir}/saved_model*.tgz {rs_gvars['fe_save_dir']}"
   ]
  }
 ],
 "metadata": {
  "kernelspec": {
   "display_name": "Python 3",
   "language": "python",
   "name": "python3"
  },
  "language_info": {
   "file_extension": ".py",
   "mimetype": "text/x-python",
   "name": "python",
   "nbconvert_exporter": "python",
   "pygments_lexer": "ipython3",
   "version": "3.10.4"
  },
  "toc": {
   "base_numbering": 1,
   "nav_menu": {},
   "number_sections": true,
   "sideBar": true,
   "skip_h1_title": true,
   "title_cell": "Table of Contents",
   "title_sidebar": "Contents",
   "toc_cell": false,
   "toc_position": {
    "height": "calc(100% - 180px)",
    "left": "10px",
    "top": "150px",
    "width": "298.8px"
   },
   "toc_section_display": true,
   "toc_window_display": true
  }
 },
 "nbformat": 4,
 "nbformat_minor": 2
}
