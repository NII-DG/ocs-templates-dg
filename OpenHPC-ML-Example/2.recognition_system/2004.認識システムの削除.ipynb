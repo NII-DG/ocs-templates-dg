{
 "cells": [
  {
   "cell_type": "markdown",
   "metadata": {
    "lc_cell_meme": {
     "current": "db8df504-a9ff-11ec-a433-02420a010024-6-d3fc-4b41-32d3-a22f-bf32-e763",
     "next": "db8df842-a9ff-11ec-a433-02420a010024-6-b729-fbab-90f2-9199-f177-e7de",
     "previous": null
    }
   },
   "source": [
    "# 認識システムの削除\n",
    "\n",
    "---\n",
    "\n",
    "認識システムを削除します。学習システムは削除されません。学習システムは、「1.learning_system」の`1920-OpenHPC環境の削除.ipynb`で削除してください。両システムの削除の順番は任意です。\n",
    "\n",
    "![構成](images/240.destroy_rs.png)"
   ]
  },
  {
   "cell_type": "markdown",
   "metadata": {
    "lc_cell_meme": {
     "current": "db8df842-a9ff-11ec-a433-02420a010024-6-b729-fbab-90f2-9199-f177-e7de",
     "next": "db8df842-a9ff-11ec-a433-02420a010024-7-b729-fbab-90f2-dafb-46ec-c253-b969",
     "previous": "db8df504-a9ff-11ec-a433-02420a010024-6-d3fc-4b41-32d3-a22f-bf32-e763"
    }
   },
   "source": [
    "## VCP の初期化"
   ]
  },
  {
   "cell_type": "markdown",
   "metadata": {
    "lc_cell_meme": {
     "current": "db8df842-a9ff-11ec-a433-02420a010024-7-b729-fbab-90f2-dafb-46ec-c253-b969",
     "next": "db8df91e-a9ff-11ec-a433-02420a010024-6-e5e9-b27b-6a9b-abcd-d394-7ec6",
     "previous": "db8df842-a9ff-11ec-a433-02420a010024-6-b729-fbab-90f2-9199-f177-e7de"
    }
   },
   "source": [
    "VCPアクセストークンを入力します。"
   ]
  },
  {
   "cell_type": "code",
   "execution_count": null,
   "metadata": {
    "lc_cell_meme": {
     "current": "db8df91e-a9ff-11ec-a433-02420a010024-6-e5e9-b27b-6a9b-abcd-d394-7ec6",
     "next": "db8df9f0-a9ff-11ec-a433-02420a010024-6-7c79-a22e-e914-4449-6d6b-819e",
     "previous": "db8df842-a9ff-11ec-a433-02420a010024-7-b729-fbab-90f2-dafb-46ec-c253-b969"
    },
    "lc_wrapper": {}
   },
   "outputs": [],
   "source": [
    "from getpass import getpass\n",
    "vcc_access_token = getpass()"
   ]
  },
  {
   "cell_type": "markdown",
   "metadata": {
    "lc_cell_meme": {
     "current": "db8df9f0-a9ff-11ec-a433-02420a010024-6-7c79-a22e-e914-4449-6d6b-819e",
     "next": "db8dfacc-a9ff-11ec-a433-02420a010024-6-a0bb-f493-4f22-34a6-1517-4b48",
     "previous": "db8df91e-a9ff-11ec-a433-02420a010024-6-e5e9-b27b-6a9b-abcd-d394-7ec6"
    }
   },
   "source": [
    "VCP SDKの初期化します。エラーになった場合、上のセルを `unfreeze` してから再実行し、正しいアクセストークンを入力してください。"
   ]
  },
  {
   "cell_type": "code",
   "execution_count": null,
   "metadata": {
    "lc_cell_meme": {
     "current": "db8dfacc-a9ff-11ec-a433-02420a010024-6-a0bb-f493-4f22-34a6-1517-4b48",
     "next": "db8df64e-a9ff-11ec-a433-02420a010024-6-adfe-57c9-d8e4-b5e8-3f6a-a964",
     "previous": "db8df9f0-a9ff-11ec-a433-02420a010024-6-7c79-a22e-e914-4449-6d6b-819e"
    },
    "lc_wrapper": {}
   },
   "outputs": [],
   "source": [
    "from common import logsetting\n",
    "from vcpsdk.vcpsdk import VcpSDK\n",
    "vcp = VcpSDK(vcc_access_token)"
   ]
  },
  {
   "cell_type": "markdown",
   "metadata": {
    "lc_cell_meme": {
     "current": "db8df64e-a9ff-11ec-a433-02420a010024-6-adfe-57c9-d8e4-b5e8-3f6a-a964",
     "next": "a53a1b7c-d10f-11ec-b26a-0242ac110002-3-1341-583b-0958",
     "previous": "db8dfacc-a9ff-11ec-a433-02420a010024-6-a0bb-f493-4f22-34a6-1517-4b48"
    }
   },
   "source": [
    "## 削除する認識システムの指定"
   ]
  },
  {
   "cell_type": "markdown",
   "metadata": {
    "lc_cell_meme": {
     "current": "a53a1b7c-d10f-11ec-b26a-0242ac110002-3-1341-583b-0958",
     "next": "db8df752-a9ff-11ec-a433-02420a010024-6-dcba-e8b9-1d31-2d4e-9acc-5e49",
     "previous": "db8df64e-a9ff-11ec-a433-02420a010024-6-adfe-57c9-d8e4-b5e8-3f6a-a964"
    }
   },
   "source": [
    "削除する認識システムの `UnitGroup` 名を指定します。"
   ]
  },
  {
   "cell_type": "code",
   "execution_count": null,
   "metadata": {
    "lc_cell_meme": {
     "current": "db8df752-a9ff-11ec-a433-02420a010024-6-dcba-e8b9-1d31-2d4e-9acc-5e49",
     "next": "db8dfb9e-a9ff-11ec-a433-02420a010024-6-d145-0cb3-2b03-f157-6a15-81d9",
     "previous": "a53a1b7c-d10f-11ec-b26a-0242ac110002-3-1341-583b-0958"
    },
    "lc_wrapper": {}
   },
   "outputs": [],
   "source": [
    "rs_ugroup_name = 'TfCpu'"
   ]
  },
  {
   "cell_type": "markdown",
   "metadata": {
    "lc_cell_meme": {
     "current": "db8dfb9e-a9ff-11ec-a433-02420a010024-6-d145-0cb3-2b03-f157-6a15-81d9",
     "next": "ecbd22e6-d10f-11ec-b26a-0242ac110002-3-9457-e8c1-1dae",
     "previous": "db8df752-a9ff-11ec-a433-02420a010024-6-dcba-e8b9-1d31-2d4e-9acc-5e49"
    }
   },
   "source": [
    "## 環境の削除"
   ]
  },
  {
   "cell_type": "markdown",
   "metadata": {
    "lc_cell_meme": {
     "current": "ecbd22e6-d10f-11ec-b26a-0242ac110002-3-9457-e8c1-1dae",
     "next": "7069d434-d1c6-11ec-b26a-0242ac110002-3-b373-214b-07b5",
     "previous": "db8dfb9e-a9ff-11ec-a433-02420a010024-6-d145-0cb3-2b03-f157-6a15-81d9"
    }
   },
   "source": [
    "### 準備"
   ]
  },
  {
   "cell_type": "code",
   "execution_count": null,
   "metadata": {
    "lc_cell_meme": {
     "current": "7069d434-d1c6-11ec-b26a-0242ac110002-3-b373-214b-07b5",
     "next": "db8dfc8e-a9ff-11ec-a433-02420a010024-6-f1e3-cc12-0417-17ec-6d5c-21e6",
     "previous": "ecbd22e6-d10f-11ec-b26a-0242ac110002-3-9457-e8c1-1dae"
    },
    "lc_wrapper": {}
   },
   "outputs": [],
   "source": [
    "# 認識システムのユニットグループ\n",
    "rs_unit_group = vcp.get_ugroup(rs_ugroup_name)\n",
    "\n",
    "# 認識システムのパラメータ読み込み\n",
    "%run scripts/ts/group.py\n",
    "rs_gvars = load_group_vars(rs_ugroup_name)\n",
    "print(rs_gvars)"
   ]
  },
  {
   "cell_type": "markdown",
   "metadata": {
    "lc_cell_meme": {
     "current": "db8dfc8e-a9ff-11ec-a433-02420a010024-6-f1e3-cc12-0417-17ec-6d5c-21e6",
     "next": "db8dfd6a-a9ff-11ec-a433-02420a010024-6-36c2-163e-fb12-6384-4f39-b4aa",
     "previous": "7069d434-d1c6-11ec-b26a-0242ac110002-3-b373-214b-07b5"
    }
   },
   "source": [
    "### 作業パラメタの設定"
   ]
  },
  {
   "cell_type": "code",
   "execution_count": null,
   "metadata": {
    "lc_cell_meme": {
     "current": "db8dfd6a-a9ff-11ec-a433-02420a010024-6-36c2-163e-fb12-6384-4f39-b4aa",
     "next": "db8dfe28-a9ff-11ec-a433-02420a010024-6-2431-5496-a361-c117-5c41-697b",
     "previous": "db8dfc8e-a9ff-11ec-a433-02420a010024-6-f1e3-cc12-0417-17ec-6d5c-21e6"
    },
    "lc_wrapper": {}
   },
   "outputs": [],
   "source": [
    "ssh_vcu_ssh_opts = f'-i {rs_gvars[\"rs_vcu_prvkey\"]} -l root'\n",
    "ssh_user_ssh_opts = f'-i {rs_gvars[\"rs_user_prvkey\"]}'\n",
    "rs_user = rs_gvars[\"rs_user\"]\n",
    "\n",
    "# unit_group.find_ip_addresses() は UnitGroup内の全VCノードのIPアドレスのリストを返します\n",
    "rs_ipaddress = rs_unit_group.find_ip_addresses(node_state='RUNNING')[0] # １つのVCノードのみ起動したので [0] で最初の要素を取り出す\n",
    "print(rs_ipaddress)\n",
    "rs_target = f'{rs_user}@{rs_ipaddress}'"
   ]
  },
  {
   "cell_type": "markdown",
   "metadata": {
    "lc_cell_meme": {
     "current": "db8dfe28-a9ff-11ec-a433-02420a010024-6-2431-5496-a361-c117-5c41-697b",
     "next": "db8dfefa-a9ff-11ec-a433-02420a010024-6-243b-5577-a42a-2390-7162-4b39",
     "previous": "db8dfd6a-a9ff-11ec-a433-02420a010024-6-36c2-163e-fb12-6384-4f39-b4aa"
    }
   },
   "source": [
    "### TensorFlowコンテナの停止"
   ]
  },
  {
   "cell_type": "code",
   "execution_count": null,
   "metadata": {
    "lc_cell_meme": {
     "current": "db8dfefa-a9ff-11ec-a433-02420a010024-6-243b-5577-a42a-2390-7162-4b39",
     "next": "db8dffcc-a9ff-11ec-a433-02420a010024-6-b74d-bfcd-dabe-e54a-343c-202e",
     "previous": "db8dfe28-a9ff-11ec-a433-02420a010024-6-2431-5496-a361-c117-5c41-697b"
    },
    "lc_wrapper": {}
   },
   "outputs": [],
   "source": [
    "# TensorFlowコンテナの停止\n",
    "!ssh {ssh_user_ssh_opts} {rs_target} docker stop tensorflow-{rs_user}"
   ]
  },
  {
   "cell_type": "markdown",
   "metadata": {
    "lc_cell_meme": {
     "current": "db8dffcc-a9ff-11ec-a433-02420a010024-6-b74d-bfcd-dabe-e54a-343c-202e",
     "next": "db8e009e-a9ff-11ec-a433-02420a010024-6-c8ee-f645-5b02-8d2e-d68b-0659",
     "previous": "db8dfefa-a9ff-11ec-a433-02420a010024-6-243b-5577-a42a-2390-7162-4b39"
    }
   },
   "source": [
    "### リソースの削除\n",
    "ここまで作成した全てのリソース（UnitGroup, Unit、VCノード）を削除します。この操作を行うことで AWS EC2インスタンスやAzure VMなどのクラウドに作成したリソースが削除されます。\n",
    "\n",
    "> 全てのリソースの削除には 4～5分程度かかります。"
   ]
  },
  {
   "cell_type": "code",
   "execution_count": null,
   "metadata": {
    "lc_cell_meme": {
     "current": "db8e009e-a9ff-11ec-a433-02420a010024-6-c8ee-f645-5b02-8d2e-d68b-0659",
     "next": "db8e0170-a9ff-11ec-a433-02420a010024-6-ad29-2658-d866-1ca3-d3c4-7ecc",
     "previous": "db8dffcc-a9ff-11ec-a433-02420a010024-6-b74d-bfcd-dabe-e54a-343c-202e"
    },
    "lc_wrapper": {},
    "scrolled": false
   },
   "outputs": [],
   "source": [
    "rs_unit_group.cleanup()"
   ]
  },
  {
   "cell_type": "markdown",
   "metadata": {
    "lc_cell_meme": {
     "current": "db8e0170-a9ff-11ec-a433-02420a010024-6-ad29-2658-d866-1ca3-d3c4-7ecc",
     "next": "db8e024c-a9ff-11ec-a433-02420a010024-6-8f42-8c7c-8b5b-c180-efd9-c553",
     "previous": "db8e009e-a9ff-11ec-a433-02420a010024-6-c8ee-f645-5b02-8d2e-d68b-0659"
    }
   },
   "source": [
    "削除後の状態の確認。"
   ]
  },
  {
   "cell_type": "code",
   "execution_count": null,
   "metadata": {
    "lc_cell_meme": {
     "current": "db8e024c-a9ff-11ec-a433-02420a010024-6-8f42-8c7c-8b5b-c180-efd9-c553",
     "next": "157eca96-d1e6-11ec-b26a-0242ac110002-4-53d3-e3e0-0e72-4570",
     "previous": "db8e0170-a9ff-11ec-a433-02420a010024-6-ad29-2658-d866-1ca3-d3c4-7ecc"
    },
    "lc_wrapper": {},
    "scrolled": true
   },
   "outputs": [],
   "source": [
    "# UnitGroupの一覧を DataFrame で表示する\n",
    "vcp.df_ugroups()"
   ]
  },
  {
   "cell_type": "markdown",
   "metadata": {
    "lc_cell_meme": {
     "current": "157eca96-d1e6-11ec-b26a-0242ac110002-4-53d3-e3e0-0e72-4570",
     "next": "157ecd48-d1e6-11ec-b26a-0242ac110002-3-eacf-a746-704d",
     "previous": "db8e024c-a9ff-11ec-a433-02420a010024-6-8f42-8c7c-8b5b-c180-efd9-c553"
    }
   },
   "source": [
    "### 認識システムパラメータファイル無効化（リネーム）"
   ]
  },
  {
   "cell_type": "code",
   "execution_count": null,
   "metadata": {
    "lc_cell_meme": {
     "current": "157ecd48-d1e6-11ec-b26a-0242ac110002-3-eacf-a746-704d",
     "next": null,
     "previous": "157eca96-d1e6-11ec-b26a-0242ac110002-4-53d3-e3e0-0e72-4570"
    },
    "lc_wrapper": {}
   },
   "outputs": [],
   "source": [
    "!mv group_vars/{rs_ugroup_name}.yml group_vars/{rs_ugroup_name}.yml.bak"
   ]
  }
 ],
 "metadata": {
  "kernelspec": {
   "display_name": "Python 3",
   "language": "python",
   "name": "python3"
  },
  "language_info": {
   "file_extension": ".py",
   "mimetype": "text/x-python",
   "name": "python",
   "nbconvert_exporter": "python",
   "pygments_lexer": "ipython3",
   "version": "3.10.4"
  },
  "toc": {
   "base_numbering": 1,
   "nav_menu": {},
   "number_sections": true,
   "sideBar": true,
   "skip_h1_title": true,
   "title_cell": "Table of Contents",
   "title_sidebar": "Contents",
   "toc_cell": false,
   "toc_position": {
    "height": "826px",
    "left": "0px",
    "right": "1202px",
    "top": "111px",
    "width": "310px"
   },
   "toc_section_display": "block",
   "toc_window_display": true
  }
 },
 "nbformat": 4,
 "nbformat_minor": 2
}
