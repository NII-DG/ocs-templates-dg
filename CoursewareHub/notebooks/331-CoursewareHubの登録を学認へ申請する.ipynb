{
 "cells": [
  {
   "cell_type": "markdown",
   "metadata": {},
   "source": [
    "# CoursewareHubの登録を学認へ申請する--直接学認フェデレーションを利用する\n",
    "\n",
    "---\n",
    "CoursewareHubをSPとして学認へ申請する"
   ]
  },
  {
   "cell_type": "markdown",
   "metadata": {},
   "source": [
    "## はじめに"
   ]
  },
  {
   "cell_type": "markdown",
   "metadata": {},
   "source": [
    "CoursewareHubの構成要素を以下に示します。\n",
    "\n",
    "![構成](images/cw-321-01.png)"
   ]
  },
  {
   "cell_type": "markdown",
   "metadata": {},
   "source": [
    "このNotebookでは`CoursewareHub` と学認との連携に必要となる申請や、登録などについて記します。\n",
    "\n",
    "> このNotebookでは IdP-proxyを利用せずに、直接CoursewareHubを学認のSPとして登録する手順について記しています。"
   ]
  },
  {
   "cell_type": "markdown",
   "metadata": {},
   "source": [
    "## 学認にSP設置の申請を行う\n",
    "\n",
    "申請を行う前に学認（GakuNin）の「[参加情報](https://www.gakunin.jp/join)」にてフェデレーション参加の流れを確認してください。参加するフェデレーションに従い「[テストフェデレーション参加手続き](https://www.gakunin.jp/join/test)」または「[運用フェデレーション参加手続き](https://www.gakunin.jp/join/production)」にある「学認申請システム」から「新規SP申請」を行います。"
   ]
  },
  {
   "cell_type": "markdown",
   "metadata": {},
   "source": [
    "「新規SP申請」を選択すると以下のような画面が表示されます。\n",
    "> キャプチャー画面はテストフェデレーションのものです。\n",
    "\n",
    "![新規SP申請](images/cw-531-01.png)\n",
    "\n",
    "CoursewareHubでは[SimpleSAMLphp](https://simplesamlphp.org/)を利用しています。そのため学認申請システムのテンプレートではなく、構築したCoursewareHub のメタデータを「テンプレート外メタデータ」からアップロードして申請してください。\n",
    "\n",
    "![メタデータアップロード](images/cw-531-02.png)"
   ]
  },
  {
   "cell_type": "markdown",
   "metadata": {},
   "source": [
    "申請システムにメタデータをアップロードするために、構築したCoursewareHubからメタデータのダウンロードを行います。次のセルで対象となるCoursewareHubのホスト名(FQDN)を指定してください。"
   ]
  },
  {
   "cell_type": "code",
   "execution_count": null,
   "metadata": {},
   "outputs": [],
   "source": [
    "# (例)\n",
    "# master_fqdn = 'hub.example.org'\n",
    "\n",
    "master_fqdn = "
   ]
  },
  {
   "cell_type": "markdown",
   "metadata": {},
   "source": [
    "CoursewareHubからメタデータをダウンロードします。次のセルを実行することで表示されるリンク先にアクセスするとメタデータがダウンロードされます。"
   ]
  },
  {
   "cell_type": "code",
   "execution_count": null,
   "metadata": {},
   "outputs": [],
   "source": [
    "print(f'https://{master_fqdn}/simplesaml/module.php/saml/sp/metadata.php/default-sp')"
   ]
  },
  {
   "cell_type": "markdown",
   "metadata": {},
   "source": [
    "ダウンロードしたメタデータを学認申請システムにアップロードすると「SPメタデータ情報」の入力欄のうちメタデータに対応するものが設定されます。他の欄を入力した後に申請してください。ただし CoursewareHubでは `mail` 属性を利用するので「受信する属性情報」に `mail` を**必須** な項目として追加してください。"
   ]
  },
  {
   "cell_type": "markdown",
   "metadata": {},
   "source": [
    "## 学認mAPとの連携\n",
    "\n",
    "CoursewareHubでは利用者をグループ管理するために[学認mAP](https://meatwiki.nii.ac.jp/confluence/display/gakuninmappublic/Home)を利用します。ここでは CoursewareHub を学認mAPと連携する手順について記します。"
   ]
  },
  {
   "cell_type": "markdown",
   "metadata": {},
   "source": [
    "### 申請"
   ]
  },
  {
   "cell_type": "markdown",
   "metadata": {},
   "source": [
    "学認mAPの「[問い合わせ](https://meatwiki.nii.ac.jp/confluence/pages/viewpage.action?pageId=8716731)」などに記されている窓口を通して、構築したSP(CoursewareHub)と学認mAPとを連携するための依頼を行ってください。"
   ]
  },
  {
   "cell_type": "markdown",
   "metadata": {},
   "source": [
    "### メタデータの登録（テストフェデレーションの場合）\n",
    "\n",
    "テストフェデレーションの場合、mAP(SP検証環境)のメタデータをCoursewareHubに登録する必要があります。"
   ]
  },
  {
   "cell_type": "markdown",
   "metadata": {},
   "source": [
    "mAP利用申請を行うと、学認クラウドゲートウェイサービスサポートからmAP(SP検証環境)のメタデータが送られてきます。送られてきたメタデータを CoursewareHub に登録します。メタデータファイルをこのNotebook環境に配置し、そのパスを次のセルで指定してください。"
   ]
  },
  {
   "cell_type": "code",
   "execution_count": null,
   "metadata": {},
   "outputs": [],
   "source": [
    "# (例)\n",
    "# cgidp_metadata = './sptestcgidp-metadata.xml'\n",
    "\n",
    "cgidp_metadata = "
   ]
  },
  {
   "cell_type": "markdown",
   "metadata": {},
   "source": [
    "操作対象となるCoursewareHubのAnsibleグループ名を指定します。"
   ]
  },
  {
   "cell_type": "markdown",
   "metadata": {},
   "source": [
    "VCノードを作成時に指定した値を確認するために `group_vars`ファイル名の一覧を表示します。"
   ]
  },
  {
   "cell_type": "code",
   "execution_count": null,
   "metadata": {},
   "outputs": [],
   "source": [
    "!ls -1 group_vars/"
   ]
  },
  {
   "cell_type": "markdown",
   "metadata": {},
   "source": [
    "上のセルの出力結果を参考にしてAnsibleグループ名を指定してください。"
   ]
  },
  {
   "cell_type": "code",
   "execution_count": null,
   "metadata": {},
   "outputs": [],
   "source": [
    "# (例)\n",
    "# ugroup_name = 'CoursewareHub'\n",
    "\n",
    "ugroup_name = "
   ]
  },
  {
   "cell_type": "markdown",
   "metadata": {},
   "source": [
    "SP検証環境のメタデータをCoursewareHubの環境に配置します。"
   ]
  },
  {
   "cell_type": "code",
   "execution_count": null,
   "metadata": {},
   "outputs": [],
   "source": [
    "!ansible {ugroup_name}_manager -b -m copy -a \\\n",
    "    'src={cgidp_metadata} dest={{{{base_dir}}}}/metadata/cgidp-metadata.xml \\\n",
    "    backup=yes owner=33 group=33'"
   ]
  },
  {
   "cell_type": "markdown",
   "metadata": {},
   "source": [
    "SimpleSAMLphpの設定ページでSP検証環境のメタデータが登録されたことを確認します。次のセルを実行すると表示されるリンク先をアクセスしてください。"
   ]
  },
  {
   "cell_type": "code",
   "execution_count": null,
   "metadata": {},
   "outputs": [],
   "source": [
    "print(f'https://{master_fqdn}/simplesaml/module.php/core/frontpage_federation.php')"
   ]
  },
  {
   "cell_type": "markdown",
   "metadata": {},
   "source": [
    "管理者でログインを行い「SAML 2.0 IdPメタデータ」に「GakuNin Cloud Gateway Service (SP Test) (IdP)」が追加されていることを確認してください。\n",
    "\n",
    "> SimpleSAMLphpの管理者パスワードは「321-CoursewareHubのセットアップ.ipynb」の「6 SimpleSAMLphpの設定ファイルを更新する」にて `config.php` の `auth.adminpassword` に設定した値となります。"
   ]
  },
  {
   "cell_type": "markdown",
   "metadata": {},
   "source": [
    "### SPコネクタの作成"
   ]
  },
  {
   "cell_type": "markdown",
   "metadata": {},
   "source": [
    "[学認クラウドゲートウェイサービス](https://cg.gakunin.jp/)またはSP検証環境(テストフェデレーションの場合)にアクセスしてSPコネクタの作成を行います。手順の詳細については学認クラウドゲートウェイサービス利用マニュアルの「[SPコネクタを作成する](https://meatwiki.nii.ac.jp/confluence/pages/viewpage.action?pageId=20873902)」の章を参照してください。\n",
    "\n",
    "> テストフェデレーションSP検証環境のアドレスは利用申請後にメールなどで通知されます。"
   ]
  },
  {
   "cell_type": "markdown",
   "metadata": {},
   "source": [
    "SP管理者が学認クラウドゲートウェイのウェブサイトにアクセスすると以下のような画面が表示されます。\n",
    "\n",
    "> キャプチャー画面はテストフェデレーションのものです。\n",
    "\n",
    "![クラウドゲートウェイ画面](images/cw-531-03.png)"
   ]
  },
  {
   "cell_type": "markdown",
   "metadata": {},
   "source": [
    "「SPコネクタの作成」を選択すると入力画面が表示されるので、必要な項目を入力してください。"
   ]
  },
  {
   "cell_type": "markdown",
   "metadata": {},
   "source": [
    "![新規SPコネクタ入力画面](images/cw-531-04.png)"
   ]
  },
  {
   "cell_type": "markdown",
   "metadata": {},
   "source": [
    "詳細設定の「Q1 作成するSPコネクタは、検索対象にしますか？」との項目で「検索対象としない」を選択した場合は、グループ管理者がSPコネクタを見つけることが出来なくなります。グループとの接続を行うためにはSPコネクタ側からグループへ接続申請をする必要があります。"
   ]
  },
  {
   "cell_type": "markdown",
   "metadata": {},
   "source": [
    "### グループをSPコネクタに接続する\n",
    "\n",
    "「311-mAPのグループ作成.ipynb」で作成したグループをサービス(SPコネクタ)に紐づけ、グループに属するユーザがCoursewareHubサービス(SP)を利用できるようにします。\n",
    "\n",
    "> ここでは SPコネクタの管理者とグループの管理者が同一であることを想定しています。"
   ]
  },
  {
   "cell_type": "markdown",
   "metadata": {},
   "source": [
    "グループとサービス（SPコネクタ）の紐づけは、グループ側からサービスを指定する方法とサービス側（SPコネクタ）からグループを指定して接続する方法があります。ここではグループ管理者がSPコネクタ（サービス）へと接続申請を行う手順を示します。設定方法の詳細については学認クラウドゲートウェイマニュアルの「[サービスを利用する](https://meatwiki.nii.ac.jp/confluence/pages/viewpage.action?pageId=20873789)」を参照してください。また、逆の関連付けとなるSPコネクタからグループ管理者へ接続申請を行う手順については「[SPコネクタにグループを接続する](https://meatwiki.nii.ac.jp/confluence/pages/viewpage.action?pageId=20873907)」を参照してください。"
   ]
  },
  {
   "cell_type": "markdown",
   "metadata": {},
   "source": [
    "まず、グループの管理者メニューから「利用Webサービス」を選択します。\n",
    "\n",
    "![グループ画面](images/cw-211-03.png)"
   ]
  },
  {
   "cell_type": "markdown",
   "metadata": {},
   "source": [
    "「利用するWebサービスを追加」ボタンを押すと、サービスの一覧が表示されるので「3.3 SPコネクタの作成」で登録したサービスを選択してください。\n",
    "\n",
    "> SPコネクタとして登録する際に、詳細設定の「Q1 作成するSPコネクタは、検索対象にしますか？」の値を「検索対象としない」と設定した場合はWebサービスの一覧には表示されません。\n",
    "\n",
    "![サービス一覧画面](images/cw-211-04.png)"
   ]
  },
  {
   "cell_type": "markdown",
   "metadata": {},
   "source": [
    "CoursewareHubのサービスを選択して申請を行うと承認待ちの状態となります。\n",
    "\n",
    "![承認待ち画面](images/cw-211-05.png)"
   ]
  },
  {
   "cell_type": "markdown",
   "metadata": {},
   "source": [
    "SPコネクタの設定画面から承認を行うと申請状態が「承認」となります。\n",
    "\n",
    "![グループ画面](images/cw-211-06.png)"
   ]
  },
  {
   "cell_type": "markdown",
   "metadata": {},
   "source": [
    "## CoursewareHubに学認IdPのアカウントでログインする\n",
    "\n",
    "学認IdPのアカウントでCoursewareHubにログインできることを確認します。"
   ]
  },
  {
   "cell_type": "markdown",
   "metadata": {},
   "source": [
    "次のセルを実行すると、CoursewareHubのアドレスを表示します。"
   ]
  },
  {
   "cell_type": "code",
   "execution_count": null,
   "metadata": {},
   "outputs": [],
   "source": [
    "print(f'https://{master_fqdn}')"
   ]
  },
  {
   "cell_type": "markdown",
   "metadata": {},
   "source": [
    "ログイン画面に表示されている「学認フェデレーションへ」のリンクから学認IdPを利用したログインができます。\n",
    "\n",
    "![ログイン画面](images/cw-221-02.png)\n",
    "\n",
    "「学認フェデレーションへ」のリンクから進むと以下のようなIdPの選択画面が表示されます。\n",
    "\n",
    "> キャプチャー画面はテストフェデレーションのものです。\n",
    "\n",
    "![IdP選択画面](images/cw-221-03.png)\n",
    "\n",
    "IdPを選択しログインを行ってください。mAPグループに所属しているユーザであればJupyterNotebookが表示されます。"
   ]
  }
 ],
 "metadata": {
  "kernelspec": {
   "display_name": "Python 3",
   "language": "python",
   "name": "python3"
  },
  "language_info": {
   "file_extension": ".py",
   "mimetype": "text/x-python",
   "name": "python",
   "nbconvert_exporter": "python",
   "pygments_lexer": "ipython3",
   "version": "3.8.6"
  },
  "toc": {
   "base_numbering": 1,
   "nav_menu": {},
   "number_sections": true,
   "sideBar": true,
   "skip_h1_title": true,
   "title_cell": "Table of Contents",
   "title_sidebar": "Contents",
   "toc_cell": false,
   "toc_position": {},
   "toc_section_display": true,
   "toc_window_display": true
  }
 },
 "nbformat": 4,
 "nbformat_minor": 4
}