{
 "cells": [
  {
   "cell_type": "markdown",
   "metadata": {},
   "source": [
    "# mAPのグループ作成--直接学認フェデレーションを利用する\n",
    "\n",
    "---\n",
    "\n",
    "CoursewareHubの利用者からなる mAP のグループを作成します。"
   ]
  },
  {
   "cell_type": "markdown",
   "metadata": {},
   "source": [
    "## 概要\n",
    "\n",
    "CoursewareHubでは学認mAPのグループ機能を利用してユーザを管理します。このNotebookではmAPグループの作成手順を示します。\n",
    "\n",
    "\n",
    "> このNotebookでは IdP-proxyを利用せずに、直接CoursewareHubを学認のSPとして登録する場合の手順について記しています。"
   ]
  },
  {
   "cell_type": "markdown",
   "metadata": {},
   "source": [
    "## mAPグループの作成"
   ]
  },
  {
   "cell_type": "markdown",
   "metadata": {},
   "source": [
    "[学認クラウドゲートウェイサービス](https://cg.gakunin.jp/)またはSP検証環境(テストフェデレーションの場合)にアクセスしてグループの作成などを行います。手順の詳細については「[GakuNin mAPマニュアル--グループ管理者](https://meatwiki.nii.ac.jp/confluence/pages/viewpage.action?pageId=20873726)」を参照してください。\n",
    "\n",
    "> テストフェデレーションSP検証環境のアドレスは利用申請後にメールなどで通知されます。"
   ]
  },
  {
   "cell_type": "markdown",
   "metadata": {},
   "source": [
    "### グループの作成\n",
    "\n",
    "学認クラウドゲートウェイのウェブサイトから「グループの作成」を実行してください。"
   ]
  },
  {
   "cell_type": "markdown",
   "metadata": {},
   "source": [
    "![初期画面](images/cw-211-01.png)\n",
    "\n",
    "> キャプチャー画面はテストフェデレーションのものです。"
   ]
  },
  {
   "cell_type": "markdown",
   "metadata": {},
   "source": [
    "グループの作成画面に表示された項目を入力してください。\n",
    "\n",
    "![グループの作成](images/cw-211-02.png)\n",
    "\n",
    "\n",
    "後ほどCoursewareHubのインストールを行う際に、ここで「グループID」として指定した値が必要となります。"
   ]
  },
  {
   "cell_type": "markdown",
   "metadata": {},
   "source": [
    "### メンバーの招待\n",
    "\n",
    "必要に応じて「メンバー招待」からCoursewareHubの利用者に対してグループへの招待を行ってください。"
   ]
  },
  {
   "cell_type": "markdown",
   "metadata": {},
   "source": [
    "![メンバー招待](images/cw-211-07.png)"
   ]
  }
 ],
 "metadata": {
  "kernelspec": {
   "display_name": "Python 3",
   "language": "python",
   "name": "python3"
  },
  "language_info": {
   "file_extension": ".py",
   "mimetype": "text/x-python",
   "name": "python",
   "nbconvert_exporter": "python",
   "pygments_lexer": "ipython3",
   "version": "3.8.6"
  },
  "toc": {
   "base_numbering": 1,
   "nav_menu": {},
   "number_sections": true,
   "sideBar": true,
   "skip_h1_title": true,
   "title_cell": "Table of Contents",
   "title_sidebar": "Contents",
   "toc_cell": false,
   "toc_position": {},
   "toc_section_display": true,
   "toc_window_display": true
  }
 },
 "nbformat": 4,
 "nbformat_minor": 2
}