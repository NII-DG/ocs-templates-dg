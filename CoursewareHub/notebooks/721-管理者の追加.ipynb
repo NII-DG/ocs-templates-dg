{
 "cells": [
  {
   "cell_type": "markdown",
   "metadata": {},
   "source": [
    "# 管理者の追加\n",
    "\n",
    "---\n",
    "\n",
    "CoursewareHubの管理ユーザをローカルユーザとして追加します。"
   ]
  },
  {
   "cell_type": "markdown",
   "metadata": {},
   "source": [
    "## はじめに"
   ]
  },
  {
   "cell_type": "markdown",
   "metadata": {},
   "source": [
    "このNotebookは、CoursewareHub環境構築の際に誤った管理者情報を登録したなどの理由により、CoursewareHub環境に管理者としてログインできるユーザが存在しないなどの状況を回避するためのものです。"
   ]
  },
  {
   "cell_type": "markdown",
   "metadata": {},
   "source": [
    "## UnitGroup名\n",
    "\n",
    "操作対象となるVCPのUnitGroup名を指定します。"
   ]
  },
  {
   "cell_type": "markdown",
   "metadata": {},
   "source": [
    "VCノードを作成時に指定した値を確認するために `group_vars`ファイル名の一覧を表示します。"
   ]
  },
  {
   "cell_type": "code",
   "execution_count": null,
   "metadata": {},
   "outputs": [],
   "source": [
    "!ls -1 --hide all group_vars/"
   ]
  },
  {
   "cell_type": "markdown",
   "metadata": {},
   "source": [
    "操作対象となるUnitGroup名を次のセルに指定してください。"
   ]
  },
  {
   "cell_type": "code",
   "execution_count": null,
   "metadata": {
    "tags": [
     "vcp:parameters"
    ]
   },
   "outputs": [],
   "source": [
    "# (例)\n",
    "# ugroup_name = 'CoursewareHub'\n",
    "\n",
    "ugroup_name = "
   ]
  },
  {
   "cell_type": "markdown",
   "metadata": {
    "heading_collapsed": true
   },
   "source": [
    "### チェック\n",
    "\n",
    "対象となるVCノードがAnsibleによって操作できることを確認します。"
   ]
  },
  {
   "cell_type": "markdown",
   "metadata": {
    "hidden": true
   },
   "source": [
    "Ansibleの設定ファイルの場所を環境変数に設定しておきます。"
   ]
  },
  {
   "cell_type": "code",
   "execution_count": null,
   "metadata": {
    "hidden": true
   },
   "outputs": [],
   "source": [
    "from pathlib import Path\n",
    "import os\n",
    "\n",
    "cfg_ansible = Path('ansible.cfg')\n",
    "if cfg_ansible.exists():\n",
    "    os.environ['ANSIBLE_CONFIG'] = str(cfg_ansible.resolve())"
   ]
  },
  {
   "cell_type": "markdown",
   "metadata": {
    "hidden": true
   },
   "source": [
    "構築対象となる各VCノードにアクセスできることを確認します。"
   ]
  },
  {
   "cell_type": "code",
   "execution_count": null,
   "metadata": {
    "hidden": true,
    "pinned_outputs": []
   },
   "outputs": [],
   "source": [
    "target_hub = f'{ugroup_name}_manager'\n",
    "\n",
    "!ansible {target_hub} -m ping"
   ]
  },
  {
   "cell_type": "code",
   "execution_count": null,
   "metadata": {
    "hidden": true,
    "pinned_outputs": []
   },
   "outputs": [],
   "source": [
    "target_nodes = f'{ugroup_name}_worker'\n",
    "\n",
    "!ansible {target_nodes} -m ping"
   ]
  },
  {
   "cell_type": "markdown",
   "metadata": {
    "hidden": true
   },
   "source": [
    "UnitGroup名に対応する group_varsファイルが存在していることを確認します。"
   ]
  },
  {
   "cell_type": "code",
   "execution_count": null,
   "metadata": {
    "hidden": true
   },
   "outputs": [],
   "source": [
    "!test -f group_vars/{ugroup_name}"
   ]
  },
  {
   "cell_type": "markdown",
   "metadata": {},
   "source": [
    "## パラメータの設定\n",
    "\n",
    "追加する管理者の情報を指定します。"
   ]
  },
  {
   "cell_type": "markdown",
   "metadata": {},
   "source": [
    "管理者のメールアドレスを指定してください。"
   ]
  },
  {
   "cell_type": "code",
   "execution_count": null,
   "metadata": {
    "pinned_outputs": [],
    "scrolled": true,
    "tags": [
     "vcp:skip",
     "vcp:parameters"
    ]
   },
   "outputs": [],
   "source": [
    "# (例)\n",
    "# teacher_email = 'admin@example.org'\n",
    "\n",
    "teacher_email = "
   ]
  },
  {
   "cell_type": "markdown",
   "metadata": {},
   "source": [
    "管理者のパスワードを指定してください。\n",
    "\n",
    "> ここで指定したパスワードは CoursewareHub にログインする際に必要となります。"
   ]
  },
  {
   "cell_type": "code",
   "execution_count": null,
   "metadata": {
    "tags": [
     "vcp:skip",
     "vcp:parameters"
    ]
   },
   "outputs": [],
   "source": [
    "from getpass import getpass\n",
    "teacher_password = getpass()"
   ]
  },
  {
   "cell_type": "markdown",
   "metadata": {
    "heading_collapsed": true
   },
   "source": [
    "### パラメータの保存\n",
    "\n",
    "管理者のメールアドレスを `group_vars`ファイルに保存します。"
   ]
  },
  {
   "cell_type": "code",
   "execution_count": null,
   "metadata": {
    "hidden": true,
    "scrolled": true
   },
   "outputs": [],
   "source": [
    "import yaml\n",
    "from pathlib import Path\n",
    "\n",
    "gvars_path = Path(f'group_vars/{ugroup_name}')\n",
    "with gvars_path.open() as f:\n",
    "    gvars = yaml.safe_load(f)\n",
    "\n",
    "teacher_email_list = gvars.get('teacher_email_list', [])\n",
    "teacher_email_list.append(teacher_email)\n",
    "teacher_email_list = list(set(teacher_email_list))\n",
    "\n",
    "gvars.update({\n",
    "    'teacher_email_list': teacher_email_list,\n",
    "})\n",
    "\n",
    "with gvars_path.open(mode='w') as f:\n",
    "    yaml.safe_dump(gvars, stream=f)\n",
    "    \n",
    "!cat group_vars/{ugroup_name}"
   ]
  },
  {
   "cell_type": "markdown",
   "metadata": {
    "heading_collapsed": true
   },
   "source": [
    "## 管理者の追加\n",
    "\n",
    "CoursewareHubに管理ユーザを登録します。"
   ]
  },
  {
   "cell_type": "markdown",
   "metadata": {
    "hidden": true
   },
   "source": [
    "ここでセットアップする主な項目を以下に示します。\n",
    "\n",
    "* 全てのノード(manager, worker)にユーザーアカウントを作成する\n",
    "* sshの鍵ペアを作成する\n",
    "* ansibleのインベントリファイルを作成する\n",
    "* sudo権限を与える\n",
    "* JupyterHubユーザとして登録する"
   ]
  },
  {
   "cell_type": "markdown",
   "metadata": {
    "hidden": true
   },
   "source": [
    "### パラメータの確認"
   ]
  },
  {
   "cell_type": "markdown",
   "metadata": {
    "hidden": true
   },
   "source": [
    "CoursewareHubではメールアドレスから一定のルールで導き出された名前をローカルユーザ名として利用します。管理ユーザのローカルユーザ名を確認します。"
   ]
  },
  {
   "cell_type": "code",
   "execution_count": null,
   "metadata": {
    "hidden": true
   },
   "outputs": [],
   "source": [
    "%run scripts/cwh.py\n",
    "teacher_id = get_username_from_mail_address(teacher_email)\n",
    "print(teacher_id)"
   ]
  },
  {
   "cell_type": "markdown",
   "metadata": {
    "hidden": true
   },
   "source": [
    "管理ユーザのハッシュ化されたパスワードを取得します。"
   ]
  },
  {
   "cell_type": "code",
   "execution_count": null,
   "metadata": {
    "hidden": true
   },
   "outputs": [],
   "source": [
    "from crypt import crypt\n",
    "\n",
    "encrypted_teacher_password = crypt(teacher_password)\n",
    "encrypted_teacher_password"
   ]
  },
  {
   "cell_type": "markdown",
   "metadata": {
    "hidden": true
   },
   "source": [
    "JupyterHubのユーザ登録に必要となるcookie idを作成します。"
   ]
  },
  {
   "cell_type": "code",
   "execution_count": null,
   "metadata": {
    "hidden": true
   },
   "outputs": [],
   "source": [
    "import random\n",
    "import string\n",
    "cookie_id = ''.join([random.choice(\"abcdef\" + string.digits) for _ in range(32)])\n",
    "cookie_id"
   ]
  },
  {
   "cell_type": "markdown",
   "metadata": {
    "hidden": true
   },
   "source": [
    "### 管理ユーザの登録"
   ]
  },
  {
   "cell_type": "markdown",
   "metadata": {
    "hidden": true
   },
   "source": [
    "ユーザに関するパラメータをextra_varsとして記述したJSONファイルを作成します。"
   ]
  },
  {
   "cell_type": "code",
   "execution_count": null,
   "metadata": {
    "hidden": true
   },
   "outputs": [],
   "source": [
    "import tempfile\n",
    "from pathlib import Path\n",
    "import yaml\n",
    "\n",
    "work_dir = tempfile.mkdtemp()\n",
    "extra_vars = Path(work_dir) / 'group.yml'\n",
    "with extra_vars.open(mode='w') as f:\n",
    "    yaml.safe_dump(dict(\n",
    "        teacher_id=teacher_id,\n",
    "        cookie_id=cookie_id,\n",
    "        encrypted_teacher_password=encrypted_teacher_password,\n",
    "        teacher_email=teacher_email,\n",
    "    ), stream=f)"
   ]
  },
  {
   "cell_type": "markdown",
   "metadata": {
    "hidden": true
   },
   "source": [
    "managerノードに管理者ユーザを登録するplaybookを実行します。まずはチェックモードで確認を行います。"
   ]
  },
  {
   "cell_type": "code",
   "execution_count": null,
   "metadata": {
    "hidden": true,
    "scrolled": true
   },
   "outputs": [],
   "source": [
    "!ansible-playbook -l {target_hub} -CDv -e @{str(extra_vars)} playbooks/setup-admin-user.yml || true"
   ]
  },
  {
   "cell_type": "markdown",
   "metadata": {
    "hidden": true
   },
   "source": [
    "実際の設定変更を行います。"
   ]
  },
  {
   "cell_type": "code",
   "execution_count": null,
   "metadata": {
    "hidden": true,
    "scrolled": true
   },
   "outputs": [],
   "source": [
    "!ansible-playbook -l {target_hub} -Dv -e @{str(extra_vars)} playbooks/setup-admin-user.yml"
   ]
  },
  {
   "cell_type": "markdown",
   "metadata": {
    "hidden": true
   },
   "source": [
    "managerノードに作成した管理ユーザと同じアカウントをworkerノードにも作成します。managerノードに作成した管理ユーザのUID, GIDの値を確認します。"
   ]
  },
  {
   "cell_type": "code",
   "execution_count": null,
   "metadata": {
    "hidden": true
   },
   "outputs": [],
   "source": [
    "out = !ansible {target_hub} -a 'id -u {teacher_id}' 2> /dev/null\n",
    "teacher_uid = out[-1]\n",
    "teacher_uid"
   ]
  },
  {
   "cell_type": "code",
   "execution_count": null,
   "metadata": {
    "hidden": true
   },
   "outputs": [],
   "source": [
    "out = !ansible {target_hub} -a 'id -g {teacher_id}' 2> /dev/null\n",
    "teacher_gid = out[-1]\n",
    "teacher_gid"
   ]
  },
  {
   "cell_type": "markdown",
   "metadata": {
    "hidden": true
   },
   "source": [
    "workerノードに管理者ユーザを登録するplaybookを実行します。まずはチェックモードで確認を行います。"
   ]
  },
  {
   "cell_type": "code",
   "execution_count": null,
   "metadata": {
    "hidden": true,
    "scrolled": true
   },
   "outputs": [],
   "source": [
    "!ansible-playbook -l {target_nodes} -CDv \\\n",
    "    -e teacher_id={teacher_id} -e teacher_uid={teacher_uid} -e teacher_gid={teacher_gid} \\\n",
    "    playbooks/setup-worker-admin-user.yml"
   ]
  },
  {
   "cell_type": "markdown",
   "metadata": {
    "hidden": true
   },
   "source": [
    "実際の設定変更を行います。"
   ]
  },
  {
   "cell_type": "code",
   "execution_count": null,
   "metadata": {
    "hidden": true,
    "scrolled": true
   },
   "outputs": [],
   "source": [
    "!ansible-playbook -l {target_nodes} -Dv \\\n",
    "    -e teacher_id={teacher_id} -e teacher_uid={teacher_uid} -e teacher_gid={teacher_gid} \\\n",
    "    playbooks/setup-worker-admin-user.yml"
   ]
  },
  {
   "cell_type": "markdown",
   "metadata": {
    "hidden": true
   },
   "source": [
    "### 確認\n",
    "\n",
    "管理ユーザが作成されたことを確認します。"
   ]
  },
  {
   "cell_type": "markdown",
   "metadata": {
    "hidden": true
   },
   "source": [
    "管理ユーザのホームディレクトリの状態を確認します。以下のファイルが作成されていることを確認してください。\n",
    "\n",
    "|パス|内容|\n",
    "|:---|:---|\n",
    "|ansible/inventory|ansibleのインベントリ|\n",
    "|.ssh/authorized_keys|公開鍵の登録ファイル|\n",
    "|.ssh/id_rsa|sshの秘密鍵|\n",
    "|.ssh/id_rsa.pub|sshの公開鍵|\n",
    "|info/|コンテンツディレクトリ|\n",
    "|textbook/|コンテンツディレクトリ|"
   ]
  },
  {
   "cell_type": "code",
   "execution_count": null,
   "metadata": {
    "hidden": true
   },
   "outputs": [],
   "source": [
    "!ansible {target_hub} -b -a 'tree -aF {{{{home_dir}}}}/{teacher_id}'"
   ]
  },
  {
   "cell_type": "markdown",
   "metadata": {
    "hidden": true
   },
   "source": [
    "JupyterHubのユーザとして登録されていることを確認します。\n",
    "\n",
    "PostgreSQLコンテナでJupyterHubのユーザを管理している`users`テーブルと、CoursewareHubのローカル認証情報を管理している`local_users`の内容を表示します。それぞれのテーブルで`teacher_id`に対応するレコードが表示されることを確認してください。"
   ]
  },
  {
   "cell_type": "code",
   "execution_count": null,
   "metadata": {
    "hidden": true
   },
   "outputs": [],
   "source": [
    "import json\n",
    "out = !ansible-playbook -l {target_hub} -e teacher_id={teacher_id} \\\n",
    "    playbooks/show-jupyterhub-user.yml 2> /dev/null\n",
    "line = [x for x in out if x.find(\"show_tables.stdout\") >= 0][0]\n",
    "print(json.loads(f'{{{line}}}')['show_tables.stdout'])"
   ]
  },
  {
   "cell_type": "markdown",
   "metadata": {
    "hidden": true
   },
   "source": [
    "作業ディレクトリを削除します。"
   ]
  },
  {
   "cell_type": "code",
   "execution_count": null,
   "metadata": {
    "hidden": true
   },
   "outputs": [],
   "source": [
    "!rm -rf {work_dir}"
   ]
  },
  {
   "cell_type": "markdown",
   "metadata": {
    "heading_collapsed": true
   },
   "source": [
    "## コンテンツの配備の準備\n",
    "\n",
    "CoursewareHubのコンテンツを格納するディレクトリを作成し、コンテンツの配置を行うNotebookを管理者のホームディレクトリに配置します。"
   ]
  },
  {
   "cell_type": "markdown",
   "metadata": {
    "hidden": true
   },
   "source": [
    "ここで実行するplaybookが配置するファイル、ディレクトリを以下の表に示します。\n",
    "\n",
    "|パス|用途|\n",
    "|:---|:---|\n",
    "|/jupyter/admin/admin_tools|コンテンツ用ディレクトリ|\n",
    "|/jupyter/admin/tools|コンテンツ用ディレクトリ|\n",
    "|/jupyter/admin/textbook|コンテンツ用ディレクトリ|\n",
    "|/jupyter/admin/info|コンテンツ用ディレクトリ|\n",
    "|/jupyter/users/{teacher_id}/D06_CoursewareHubコンテンツの配備.ipynb|コンテンツを配備するnotebook|\n",
    "\n",
    "`{teacher_id}`は管理ユーザ名によって異なる値となります。"
   ]
  },
  {
   "cell_type": "markdown",
   "metadata": {
    "hidden": true
   },
   "source": [
    "「D06_CoursewareHubコンテンツの配備.ipynb」はNII Cloud Operation Teamにより公開されている[CoursewareHub-LC_deploy/coursewarehub/D06_CoursewareHubコンテンツの配備.ipynb](https://github.com/NII-cloud-operation/CoursewareHub-LC_deploy/blob/main/coursewarehub/D06_CoursewareHub%E3%82%B3%E3%83%B3%E3%83%86%E3%83%B3%E3%83%84%E3%81%AE%E9%85%8D%E5%82%99.ipynb)をGitHubより取得して配備します。"
   ]
  },
  {
   "cell_type": "markdown",
   "metadata": {
    "hidden": true
   },
   "source": [
    "実際に設定を変更する前にドライラン（チェックモード）でansibleを実行します。"
   ]
  },
  {
   "cell_type": "code",
   "execution_count": null,
   "metadata": {
    "hidden": true,
    "scrolled": true
   },
   "outputs": [],
   "source": [
    "!ansible-playbook -l {target_hub} -CDv -e teacher_id={teacher_id} playbooks/manage-tools.yml"
   ]
  },
  {
   "cell_type": "markdown",
   "metadata": {
    "hidden": true
   },
   "source": [
    "実際に設定変更を行います。"
   ]
  },
  {
   "cell_type": "code",
   "execution_count": null,
   "metadata": {
    "hidden": true,
    "scrolled": true
   },
   "outputs": [],
   "source": [
    "!ansible-playbook -l {target_hub} -e teacher_id={teacher_id} playbooks/manage-tools.yml"
   ]
  },
  {
   "cell_type": "markdown",
   "metadata": {
    "hidden": true
   },
   "source": [
    "配置したディレクトリ、ファイルを確認します。"
   ]
  },
  {
   "cell_type": "code",
   "execution_count": null,
   "metadata": {
    "hidden": true
   },
   "outputs": [],
   "source": [
    "!ansible {target_hub} -b -a 'tree -F {{{{jupyter_root_dir}}}}/admin'"
   ]
  },
  {
   "cell_type": "code",
   "execution_count": null,
   "metadata": {
    "hidden": true
   },
   "outputs": [],
   "source": [
    "!ansible {target_hub} -b -a 'tree -F -L 1 {{{{home_dir}}}}/{teacher_id}'"
   ]
  },
  {
   "cell_type": "markdown",
   "metadata": {},
   "source": [
    "## CoursewareHubにアクセスする\n",
    "\n",
    "追加した管理者ユーザでログインできることを確認してください。"
   ]
  },
  {
   "cell_type": "markdown",
   "metadata": {},
   "source": [
    "次のセルを実行するとCoursewareHubのアドレスを表示します。"
   ]
  },
  {
   "cell_type": "code",
   "execution_count": null,
   "metadata": {},
   "outputs": [],
   "source": [
    "print(f'https://{gvars[\"master_fqdn\"]}')"
   ]
  },
  {
   "cell_type": "markdown",
   "metadata": {},
   "source": [
    "管理ユーザのホームディレクトリにはコンテンツを配備するためのnotebook「D06_CoursewareHubコンテンツの配備.ipynb」が用意されています。必要に応じて実行してください。"
   ]
  }
 ],
 "metadata": {
  "kernelspec": {
   "display_name": "Python 3",
   "language": "python",
   "name": "python3"
  },
  "language_info": {
   "file_extension": ".py",
   "mimetype": "text/x-python",
   "name": "python",
   "nbconvert_exporter": "python",
   "pygments_lexer": "ipython3",
   "version": "3.10.4"
  },
  "toc": {
   "base_numbering": 1,
   "nav_menu": {},
   "number_sections": true,
   "sideBar": true,
   "skip_h1_title": true,
   "title_cell": "Table of Contents",
   "title_sidebar": "Contents",
   "toc_cell": false,
   "toc_position": {},
   "toc_section_display": true,
   "toc_window_display": true
  }
 },
 "nbformat": 4,
 "nbformat_minor": 2
}