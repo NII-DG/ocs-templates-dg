{
 "cells": [
  {
   "cell_type": "markdown",
   "metadata": {},
   "source": [
    "# 講義用Notebook環境のイメージ登録\n",
    "\n",
    "---\n",
    "\n",
    "講義用のNotebook環境として利用するSingle-user Serverのコンテナイメージを登録します。"
   ]
  },
  {
   "cell_type": "markdown",
   "metadata": {},
   "source": [
    "## 概要\n",
    "\n",
    "CoursewareHubでは管理ユーザ（講師）が[repo2docker](https://github.com/jupyterhub/repo2docker)を利用して講義用のNotebook実行環境をカスタマイズする機能を備えています。このNotebookでは講義用Notebook環境のコンテナイメージを登録、管理する手順について説明します。"
   ]
  },
  {
   "cell_type": "markdown",
   "metadata": {},
   "source": [
    "### repo2docker\n",
    "\n",
    "repo2dockerはレポジトリ(GitHub, GitLab, gitレポジトリ, ...)から取得した構成ファイルをコンテナイメージとしてビルドし、Dockerレジストリに格納するためのツールです。"
   ]
  },
  {
   "cell_type": "markdown",
   "metadata": {},
   "source": [
    "repo2dockerでは[pip](https://pip.pypa.io/)の`requirements.txt`や[conda](https://conda.io/)の`environment.yml`など、既存のツールの設定ファイルを構成ファイルとしてそのまま利用してコンテナイメージを定義することができます。そのためDockerfileを直接記述することなく、様々な講義用のコンテナイメージを作成することができます。\n",
    "\n",
    "\n",
    "repo2dockerの構成ファイルとして利用できる主なものを以下に示します。\n",
    "\n",
    "* environment.yml\n",
    "  - [conda](https://conda.io/)の構成ファイル\n",
    "  - Python, R, C/C++ のパッケージを含めた全てのcondaのパッケージを指定することができる\n",
    "* requirements.txt\n",
    "  - pipで定められている[書式](https://pip.pypa.io/en/latest/reference/requirements-file-format/)でPythonのパッケージを指定する\n",
    "  - この書式ではPythonの実行環境を指定することができないので、別ファイル`runtime.txt`でPythonのバージョンを指定する\n",
    "* apt.txt\n",
    "  - apt-getでインストールするDebianパッケージのリストを指定する\n",
    "* runtime.txt\n",
    "  - ランタイム（PythonやRなど）のバージョンを指定する\n",
    "  - `environment.txt`, `Project.toml`などランタイムを指定することができる構成ファイルがある場合、このファイルの指定は無視される\n",
    "* install.R\n",
    "  - R/RStudioにインストールするRライブラリを指定する\n",
    "* Project.toml\n",
    "  - Julia のバージョンとJulia パッケージのリストを指定する\n",
    "\n",
    "repo2dockerが対応している他の構成ファイルや、記述方法の詳細については[repo2docker - Configuration Files](https://repo2docker.readthedocs.io/en/latest/config_files.html)を参照してください。\n",
    "\n",
    "GitHubで公開されている[Binder Examples](https://github.com/binder-examples)にはPythonやRなどを利用した様々な構成ファイルの例が示されていて、記述の参考にすることができます。ただし後に説明するようにCoursewareHubの講義用Notebook環境のコンテナイメージとして利用するにはいくつかの条件を満たしている必要があります。Binder Examplesに示されているプロジェクトはこの条件を満たしていないため、そのままCoursewareHubのカスタムイメージ定義として利用することはできません。"
   ]
  },
  {
   "cell_type": "markdown",
   "metadata": {},
   "source": [
    "### CoursewareHubのイメージ作成機能"
   ]
  },
  {
   "cell_type": "markdown",
   "metadata": {},
   "source": [
    "CoursewareHubにはrepo2dockerによるコンテナ作成機能のプラグインとして[cwh-repo2docker](https://github.com/NII-cloud-operation/CoursewareHub-LC_platform/blob/master/jupyterhub/cwh-repo2docker/)が組み込まれています。CoursewareHubのイメージ作成機能に関わる部分を次図に示します。\n",
    "\n",
    "![イメージ作成](images/cw-731-01.png)\n",
    "\n",
    "イメージのビルド、登録を行うrepo2dockerはdockerコンテナとしてmanagerノードで実行されます。このコンテナはCoursewareHubのイメージ作成機能拡張により起動され、カスタムイメージのビルドとdockerレジストリの登録を行います。イメージを定義する構成ファイルはGitHubなどのレポジトリから取得されます。取得先となるレポジトリに関する情報は（CoursewareHubにより拡張された）JupyterHubの管理画面で指定します。repo2dockerがコンテナイメージのビルドに成功するとmanagerノードで実行しているプライベートdockerレジストリに登録します。\n",
    "\n",
    "CoursewareHubでは登録されているイメージを管理するためにデータベース等を利用せずにDockerレジストリに登録されている情報のみを用います。管理するための情報はコンテナイメージの[ラベル](https://docs.docker.com/config/labels-custom-metadata/)に付与します。"
   ]
  },
  {
   "cell_type": "markdown",
   "metadata": {},
   "source": [
    "## カスタムイメージの定義\n",
    "\n",
    "CoursewareHubで利用する講義用のカスタムイメージについて説明します。"
   ]
  },
  {
   "cell_type": "markdown",
   "metadata": {},
   "source": [
    "### レポジトリ"
   ]
  },
  {
   "cell_type": "markdown",
   "metadata": {},
   "source": [
    "イメージを定義するレポジトリ（GitHub, git, ...）にはrepo2dockerの仕様に沿った構成ファイルを配置します。repo2dockerの構成ファイルとして指定できるものには`environment.yml`(conda), `requirements.txt`(pip), `apt.txt`(apt-get)などがあります。詳細については「[repo2docker - Configuration Files](https://repo2docker.readthedocs.io/en/latest/config_files.html)」を参照してください。\n",
    "\n",
    "レポジトリ内に構成ファイルを配置する場所は「[repo2docker - Where to put configuration files](https://repo2docker.readthedocs.io/en/latest/usage.html#usage-config-file-location)」に記されているように、以下のいずれかの場所とする必要があります。\n",
    "\n",
    "* レポジトリのルートディレクトリ\n",
    "* `binder/`\n",
    "* `.binder/`\n"
   ]
  },
  {
   "cell_type": "markdown",
   "metadata": {},
   "source": [
    "### CoursewareHubで利用するための必要条件\n",
    "\n",
    "カスタムイメージをCoursewareHubで利用できるようにするための必要条件について説明します。"
   ]
  },
  {
   "cell_type": "markdown",
   "metadata": {},
   "source": [
    "Single-user ServerのコンテナをCoursewareHubで利用するには、NFS サーバにある各ユーザのホームディレクトリをコンテナからアクセスするために以下の条件を満たす必要があります。\n",
    "\n",
    "* コンテナのユーザIDとユーザ名がmanagerノードのユーザIDとユーザ名に一致していること\n",
    "* コンテナのユーザ名がJupyterHubのユーザ名に一致していること\n",
    "\n",
    "これらの条件を満たすコンテナイメージを作成する方法の一つに、条件を満たすような振る舞いを実現する起動スクリプトをコンテナに配置する方法があります。具体的には[Docker Stacks](https://github.com/jupyter/docker-stacks)の起動スクリプト`start.sh`をrepo2dockerの構成ファイル`start`として配置することでほぼ達成できます。条件を満たすためには以下の対応が追加で必要となります。\n",
    "\n",
    "* `apt.txt`にsudoを追加する\n",
    "  * `start.sh`スクリプトで`sudo`コマンドを利用するため\n",
    "* `start`のsecure_pathを変更する\n",
    "  * `start.sh`スクリプトから`sudo`コマンドで`jupyterhub-singleuser`を起動\n",
    "できるようにするため\n",
    "\n",
    "Docker Stacksの`start.sh`を利用して、カスタムイメージ定義のレポジトリを準備するためのスクリプトを用意しています。\n",
    "\n",
    "* [init_repo.sh](template/init_repo.sh)\n",
    "\n",
    "このスクリプトを実行すると、repo2dockerの構成ファイル`start`, `apt.txt`を配置したレポジトリを準備します。その後、必要に応じて`environment.yml`, `requirements.txt`などの構成ファイルを追加することで、簡単にイメージ定義を行うレポジトリを作成することができます。実際の実行例を次の節に示しています。"
   ]
  },
  {
   "cell_type": "markdown",
   "metadata": {},
   "source": [
    "なお`init_repo.sh`はcondaやPythonnのパッケージで構成されているイメージを定義するレポジトリを準備することを想定しています。Juliaを利用するコンテナイメージを定義するには`start`で`CHOWN_EXTRA`に追加のパスを設定するなど追加の対応作業が必要となります。"
   ]
  },
  {
   "cell_type": "markdown",
   "metadata": {},
   "source": [
    "### 作成手順\n",
    "\n",
    "[seaborn](http://seaborn.pydata.org/)を利用できるカスタムイメージを定義するレポジトリを作成する例を示します。"
   ]
  },
  {
   "cell_type": "markdown",
   "metadata": {},
   "source": [
    "> ここで示す手順で作成したものと同じ内容のものが、カスタムイメージの例として<https://github.com/nii-gakunin-cloud/cwh-custom-image-seaborn>にあります。"
   ]
  },
  {
   "cell_type": "markdown",
   "metadata": {},
   "source": [
    "gitレポジトリを作成するディレクトリを作成して、初期設定スクリプト`init_repo.sh`を実行します。\n",
    "\n",
    "```console\n",
    "mkdir -p cwh-seaborn\n",
    "cd cwh-seaborn\n",
    "init_repo.sh\n",
    "```"
   ]
  },
  {
   "cell_type": "markdown",
   "metadata": {},
   "source": [
    "初期設定スクリプトにより`apt.txt`, `start`が作成され git の初期化が行われた状態になっています。\n",
    "\n",
    "```console\n",
    "$ tree -aF -L 1 .\n",
    "./\n",
    "├── .git/\n",
    "├── apt.txt\n",
    "└── start*\n",
    "\n",
    "2 directories, 2 files\n",
    "```"
   ]
  },
  {
   "cell_type": "markdown",
   "metadata": {},
   "source": [
    "`apt.txt`にはsudoだけが指定されています。\n",
    "\n",
    "```console\n",
    "$ cat apt.txt \n",
    "sudo\n",
    "```"
   ]
  },
  {
   "cell_type": "markdown",
   "metadata": {},
   "source": [
    "ここから講義用のイメージとして必要なパッケージを指定するための構成ファイルを追加していきます。\n",
    "\n",
    "まずseabornなどのPythonパッケージをインストールするための`requirements.txt`作成します。\n",
    "\n",
    "```console\n",
    "cat > requirements.txt <<EOF\n",
    "contourpy==1.1.1\n",
    "cycler==0.12.1\n",
    "fonttools==4.43.1\n",
    "kiwisolver==1.4.5\n",
    "matplotlib==3.8.0\n",
    "numpy==1.26.1\n",
    "packaging==23.2\n",
    "pandas==2.1.1\n",
    "Pillow==10.1.0\n",
    "pyparsing==3.1.1\n",
    "python-dateutil==2.8.2\n",
    "pytz==2023.3.post1\n",
    "seaborn==0.13.0\n",
    "six==1.16.0\n",
    "tzdata==2023.3\n",
    "EOF\n",
    "```"
   ]
  },
  {
   "cell_type": "markdown",
   "metadata": {},
   "source": [
    "コンテナで利用するPythonのバージョンを指定するための`runtime.txt`を作成します。\n",
    "\n",
    "```console\n",
    "echo \"python-3.11\" > runtime.txt\n",
    "```"
   ]
  },
  {
   "cell_type": "markdown",
   "metadata": {},
   "source": [
    "ここまでに作成したrepo2dockerの構成ファイルは以下のようになります。\n",
    "\n",
    "```console\n",
    "$ tree -aF -L 1 .     \n",
    "./\n",
    "├── .git/\n",
    "├── apt.txt\n",
    "├── requirements.txt\n",
    "├── runtime.txt\n",
    "└── start*\n",
    "\n",
    "2 directories, 4 files\n",
    "```"
   ]
  },
  {
   "cell_type": "markdown",
   "metadata": {},
   "source": [
    "作成したイメージ定義をGitHubなどにpushします(GitHubにはあらかじめ空のプロジェクトが作成済みであることを想定しています)。\n",
    "\n",
    "```console\n",
    "git commit -m \"first commit\"\n",
    "git branch -M main\n",
    "git remote add origin https://github.com/xxxxx/cwh-seaborn-001.git\n",
    "git push -u origin main\n",
    "```\n",
    "\n",
    "pushしたレポジトリのURLを次章で説明するカスタムイメージ登録手順に指定することでCoursewareHubに講義用イメージを登録することができます。"
   ]
  },
  {
   "cell_type": "markdown",
   "metadata": {},
   "source": [
    "### カスタムイメージの定義例\n"
   ]
  },
  {
   "cell_type": "markdown",
   "metadata": {},
   "source": [
    "CoursewareHubから利用できるカスタムイメージの定義例が用意してあります。\n",
    "\n",
    "* <https://github.com/nii-gakunin-cloud/cwh-custom-image-seaborn.git>\n",
    "    * [seaborn](https://github.com/mwaskom/seaborn)を利用できるようにしたカスタムイメージの定義\n",
    "* <https://github.com/nii-gakunin-cloud/cwh-custom-image-network-command.git>\n",
    "    * `dig`, `ping`, `ip` などのネットワークコマンドを利用できるようにしたカスタムイメージの定義\n",
    "\n",
    "これらのレポジトリをフォークして変更することにより、講義に応じたカスタムイメージを準備することができます。"
   ]
  },
  {
   "cell_type": "markdown",
   "metadata": {},
   "source": [
    "## カスタムイメージの管理"
   ]
  },
  {
   "cell_type": "markdown",
   "metadata": {},
   "source": [
    "### カスタムイメージを登録する\n",
    "\n",
    "管理ユーザ（講師）が講義用のカスタムイメージを登録する手順を示します。"
   ]
  },
  {
   "cell_type": "markdown",
   "metadata": {},
   "source": [
    "Jupyter Hubの管理画面を表示してください。Classic Notebook Interfaceを利用している場合は[Control Panel]ボタン（下図の赤丸）を選択することで管理画面を表示できます。\n",
    "\n",
    "![Jupyter Notebook 01](images/cw-731-10.png)"
   ]
  },
  {
   "cell_type": "markdown",
   "metadata": {},
   "source": [
    "管理画面のツールバーに表示されている[Environments]リンクを選択するとイメージ管理画面（下図）が表示されます。\n",
    "\n",
    "![管理メニュー](images/cw-731-11.png)"
   ]
  },
  {
   "cell_type": "markdown",
   "metadata": {},
   "source": [
    "講義用のカスタムイメージを登録するにはイメージ管理画面の[Add New]ボタン（上図の赤丸）を選択してください。イメージ作成ダイアログ（下図）が表示されます。イメージ作成ダイアログの[Repository URL]にイメージを定義したレポジトリのURLを入力してください。また必要に応じて[Reference (git commit)], [Name of the environment]の指定を行ってください。\n",
    "\n",
    "![登録ダイアログ1](images/cw-731-12.png)"
   ]
  },
  {
   "cell_type": "markdown",
   "metadata": {},
   "source": [
    "プライベートなレポジトリの場合は、レポジトリにアクセスするために必要となる認証情報を[Credentials (optional)]に表示される入力欄に指定してください（下図）。\n",
    "\n",
    "![登録ダイアログ2](images/cw-731-13.png)"
   ]
  },
  {
   "cell_type": "markdown",
   "metadata": {},
   "source": [
    "イメージ作成ダイアログの[Create Environment]ボタンを選択するとイメージのビルド、登録処理が開始されます。イメージ管理画面には対応する行が追加され、Statusなどの表示からビルド中であることがわかります（下図）。\n",
    "\n",
    "![イメージのビルド中](images/cw-731-14.png)"
   ]
  },
  {
   "cell_type": "markdown",
   "metadata": {},
   "source": [
    "[Logs]ボタン(上図の赤丸）を選択することによりrepo2dockerで実行されているビルド、登録処理のログを確認することができます（下図）。\n",
    "\n",
    "![ログダイアログ](images/cw-731-15.png)"
   ]
  },
  {
   "cell_type": "markdown",
   "metadata": {},
   "source": [
    "イメージのビルド、登録処理が成功した後にイメージ管理画面を表示すると[Status]の表示がチェックのアイコンになり、[Image ID]の値が表示されるようになります（下図）。\n",
    "\n",
    "![イメージ一覧](images/cw-731-16.png)"
   ]
  },
  {
   "cell_type": "markdown",
   "metadata": {},
   "source": [
    "### サーバ起動時のイメージ選択\n",
    "\n",
    "Single-userサーバを起動したときにどのイメージが選択されるかについて説明します。"
   ]
  },
  {
   "cell_type": "markdown",
   "metadata": {},
   "source": [
    "ユーザの権限により、起動時のイメージ選択に関する振る舞いが異なります。\n",
    "\n",
    "管理ユーザ（講師）がサーバを起動した場合、複数のイメージが登録されているとイメージの選択画面が表示されます（下図）。\n",
    "\n",
    "![起動イメージ選択画面](images/cw-731-17.png)\n",
    "\n",
    "ラジオボタンで起動するイメージを選択し[Start]ボタンを押すと、指定したイメージでサーバが起動します。"
   ]
  },
  {
   "cell_type": "markdown",
   "metadata": {},
   "source": [
    "一方、管理ユーザ以外のユーザ（受講者）がサーバを起動した場合、イメージ選択画面は表示されず、事前に管理ユーザにより「Default Course Image」として設定されたイメージでサーバが起動します。「Default Course Image」はイメージ管理画面にて設定することができます（下図の赤丸部分）。\n",
    "\n",
    "![イメージ一覧](images/cw-731-18.png)"
   ]
  }
 ],
 "metadata": {
  "kernelspec": {
   "display_name": "Python 3",
   "language": "python",
   "name": "python3"
  },
  "language_info": {
   "file_extension": ".py",
   "mimetype": "text/x-python",
   "name": "python",
   "nbconvert_exporter": "python",
   "pygments_lexer": "ipython3",
   "version": "3.10.4"
  },
  "toc": {
   "base_numbering": 1,
   "nav_menu": {},
   "number_sections": true,
   "sideBar": true,
   "skip_h1_title": true,
   "title_cell": "Table of Contents",
   "title_sidebar": "Contents",
   "toc_cell": false,
   "toc_position": {},
   "toc_section_display": true,
   "toc_window_display": true
  }
 },
 "nbformat": 4,
 "nbformat_minor": 2
}