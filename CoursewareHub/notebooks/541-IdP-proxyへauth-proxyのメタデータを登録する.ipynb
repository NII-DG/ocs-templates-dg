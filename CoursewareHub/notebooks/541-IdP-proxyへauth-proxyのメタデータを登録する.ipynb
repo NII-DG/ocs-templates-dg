{
 "cells": [
  {
   "cell_type": "markdown",
   "metadata": {},
   "source": [
    "# auth-proxyのメタデータを登録する\n",
    "\n",
    "---\n",
    "\n",
    "IdP-proxyにCoursewareHub(auth-proxy)のメタデータを追加する"
   ]
  },
  {
   "cell_type": "markdown",
   "metadata": {},
   "source": [
    "## 概要"
   ]
  },
  {
   "cell_type": "markdown",
   "metadata": {},
   "source": [
    "このNotebookでは「221-CoursewareHubのセットアップ.ipynb」で構築したCoursewareHub環境のauth-proxyからメタデータを取得してIdP-proxyへの登録を行います。"
   ]
  },
  {
   "cell_type": "markdown",
   "metadata": {},
   "source": [
    "IdP-proxyとCoursewareHubの構築担当者が異なる場合は、IdP-proxy構築担当者がCoursewareHub構築担当者からの依頼を受けてこのNotebookを実行してください。\n",
    "\n",
    "メタデータ登録の際はIdP-proxyからネットワークを通して直接auth-proxyのメタデータを取得します。そのため事前の準備としてIdP-proxyからauth-proxyにアクセスできるようにファイアウォールなどの設定を変更しておいてください。"
   ]
  },
  {
   "cell_type": "markdown",
   "metadata": {},
   "source": [
    "## 操作対象の設定\n",
    "\n",
    "操作対象となるAnsibleのグループ名を指定します。"
   ]
  },
  {
   "cell_type": "markdown",
   "metadata": {},
   "source": [
    "### UnitGroup名\n",
    "\n",
    "IdP-proxyの構築環境となるVCPのUnitGroup名を指定します。"
   ]
  },
  {
   "cell_type": "markdown",
   "metadata": {},
   "source": [
    "VCノードを作成時に指定した値を確認するために `group_vars`ファイル名の一覧を表示します。"
   ]
  },
  {
   "cell_type": "code",
   "execution_count": null,
   "metadata": {},
   "outputs": [],
   "source": [
    "!ls -1 group_vars/"
   ]
  },
  {
   "cell_type": "markdown",
   "metadata": {},
   "source": [
    "UnitGroup名を次のセルに指定してください。"
   ]
  },
  {
   "cell_type": "code",
   "execution_count": null,
   "metadata": {},
   "outputs": [],
   "source": [
    "# (例)\n",
    "# target_auth = 'IdPproxy'\n",
    "\n",
    "target_auth = "
   ]
  },
  {
   "cell_type": "markdown",
   "metadata": {
    "heading_collapsed": true
   },
   "source": [
    "### チェック\n",
    "\n",
    "対象となるVCノードがAnsibleによって操作できることを確認します。"
   ]
  },
  {
   "cell_type": "markdown",
   "metadata": {
    "hidden": true
   },
   "source": [
    "指定されたグループ名で対象となるノードが操作できることを確認します。"
   ]
  },
  {
   "cell_type": "code",
   "execution_count": null,
   "metadata": {
    "hidden": true
   },
   "outputs": [],
   "source": [
    "!ansible {target_auth} -m ping"
   ]
  },
  {
   "cell_type": "markdown",
   "metadata": {
    "hidden": true
   },
   "source": [
    "管理者権限での操作ができることを確認します。"
   ]
  },
  {
   "cell_type": "code",
   "execution_count": null,
   "metadata": {
    "hidden": true
   },
   "outputs": [],
   "source": [
    "!ansible {target_auth} -b -a 'whoami'"
   ]
  },
  {
   "cell_type": "markdown",
   "metadata": {},
   "source": [
    "## メタデータの追加\n",
    "\n",
    "CoursewareHub(auth-proxy)のメタデータをIdP-proxyに登録します。"
   ]
  },
  {
   "cell_type": "markdown",
   "metadata": {},
   "source": [
    "CoursewareHub(auth-proxy)のFQDNを指定してください。"
   ]
  },
  {
   "cell_type": "code",
   "execution_count": null,
   "metadata": {},
   "outputs": [],
   "source": [
    "# (例)\n",
    "# master_fqdn = 'hub.example.org'\n",
    "\n",
    "master_fqdn = "
   ]
  },
  {
   "cell_type": "markdown",
   "metadata": {},
   "source": [
    "IdP-proxyからauth-proxyのメタデータが取得できること確認します。"
   ]
  },
  {
   "cell_type": "code",
   "execution_count": null,
   "metadata": {
    "scrolled": true
   },
   "outputs": [],
   "source": [
    "!ansible {target_auth} -a \\\n",
    "    'curl https://{master_fqdn}/simplesaml/module.php/saml/sp/metadata.php/default-sp'"
   ]
  },
  {
   "cell_type": "markdown",
   "metadata": {},
   "source": [
    "メタデータをIdP-proxyに登録します。IdP-proxyコンテナの`add_auth_proxy.sh`を実行することでIdP-proxyコンテナの`/var/www/simplesamlphp/metadata/xml/auth-proxies.xml`にメタデータが追加されます。"
   ]
  },
  {
   "cell_type": "code",
   "execution_count": null,
   "metadata": {},
   "outputs": [],
   "source": [
    "# IdP-proxyコンテナ名\n",
    "IDP_PROXY = \"idp-proxy\"\n",
    "\n",
    "!ansible {target_auth} -b -a \\\n",
    "    '/usr/local/bin/docker exec -i {IDP_PROXY} /usr/local/sbin/add_auth_proxy.sh {master_fqdn}'"
   ]
  },
  {
   "cell_type": "markdown",
   "metadata": {},
   "source": [
    "IdP-proxyにメタデータが登録されたことを確認するために SimpleSAMLphpの設定ページにアクセスします。"
   ]
  },
  {
   "cell_type": "code",
   "execution_count": null,
   "metadata": {},
   "outputs": [],
   "source": [
    "out = !ansible {target_auth} -c local \\\n",
    "    -a 'echo \"https://{{{{auth_fqdn}}}}/simplesaml/module.php/core/frontpage_federation.php\"'\n",
    "print(out[1])"
   ]
  },
  {
   "cell_type": "markdown",
   "metadata": {},
   "source": [
    "上記のセルの実行結果に表示されるリンク先にアクセスした後に「管理者でログイン」で管理者となることでメタデータの登録状況を確認することができます。\n",
    "\n",
    "> 管理者のパスワードはNotebook「521-IdP-proxyのセットアップ」の「4.5 設定ファイルの更新」で`auth.adminpassword` に設定した値となります。"
   ]
  }
 ],
 "metadata": {
  "kernelspec": {
   "display_name": "Python 3",
   "language": "python",
   "name": "python3"
  },
  "language_info": {
   "file_extension": ".py",
   "mimetype": "text/x-python",
   "name": "python",
   "nbconvert_exporter": "python",
   "pygments_lexer": "ipython3",
   "version": "3.8.6"
  },
  "toc": {
   "base_numbering": 1,
   "nav_menu": {},
   "number_sections": true,
   "sideBar": true,
   "skip_h1_title": true,
   "title_cell": "Table of Contents",
   "title_sidebar": "Contents",
   "toc_cell": false,
   "toc_position": {},
   "toc_section_display": true,
   "toc_window_display": true
  }
 },
 "nbformat": 4,
 "nbformat_minor": 4
}