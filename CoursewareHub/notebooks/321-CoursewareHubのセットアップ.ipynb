{
 "cells": [
  {
   "cell_type": "markdown",
   "metadata": {},
   "source": [
    "# CoursewareHubのセットアップ--直接学認フェデレーションを利用する\n",
    "\n",
    "---\n",
    "\n",
    "VCノードにCoursewareHub環境を構築します。"
   ]
  },
  {
   "cell_type": "markdown",
   "metadata": {},
   "source": [
    "## 概要\n",
    "\n",
    "CoursewareHubの構成要素を以下に示します。\n",
    "\n",
    "![構成](images/cw-321-01.png)\n",
    "\n",
    "\n",
    "このNotebookでは上図で `CoursewareHub` を示す枠内にあるものを構築します。\n",
    "\n",
    "\n",
    "> このNotebookでは IdP-proxyを利用せずに、直接CoursewareHubを学認のSPとして登録する手順について記しています。"
   ]
  },
  {
   "cell_type": "markdown",
   "metadata": {},
   "source": [
    "各コンテナの役割や処理の詳細については https://github.com/NII-cloud-operation/CoursewareHub-LC_jupyterhub-deploy を参照してください。"
   ]
  },
  {
   "cell_type": "markdown",
   "metadata": {},
   "source": [
    "### 事前に準備が必要となるものについて\n",
    "\n",
    "このNotebookを実行するにあたって、あらかじめ準備が必要となるものについて以下に記します。\n",
    "\n",
    "* CoursewareHubのサーバ証明書\n",
    "* 学認クラウドゲートウェイのグループ名"
   ]
  },
  {
   "cell_type": "markdown",
   "metadata": {},
   "source": [
    "#### CoursewareHubのサーバ証明書\n",
    "\n",
    "CoursewareHubではHTTPSによる公開を行うためサーバ証明書とその秘密鍵を準備する必要があります。また必要に応じて中間CA証明書を準備してください。"
   ]
  },
  {
   "cell_type": "markdown",
   "metadata": {},
   "source": [
    "#### 学認クラウドゲートウェイのグループ"
   ]
  },
  {
   "cell_type": "markdown",
   "metadata": {},
   "source": [
    "このNotebookで構築するCoursewareHubでは[学認クラウドゲートウェイサービス](https://cg.gakunin.jp/)の[GakuNin mAP](https://meatwiki.nii.ac.jp/confluence/display/gakuninmappublic/Home)を利用して利用者のグループ管理を行います。\n",
    "\n",
    "CoursewareHubの利用対象者からなるグループを、学認クラウドゲートウェイにて作成しておいてください。"
   ]
  },
  {
   "cell_type": "markdown",
   "metadata": {},
   "source": [
    "### UnitGroup名\n",
    "\n",
    "CoursewareHubの構築環境となるVCPのUnitGroup名を指定します。"
   ]
  },
  {
   "cell_type": "markdown",
   "metadata": {},
   "source": [
    "VCノードを作成時に指定した値を確認するために `group_vars`ファイル名の一覧を表示します。"
   ]
  },
  {
   "cell_type": "code",
   "execution_count": null,
   "metadata": {},
   "outputs": [],
   "source": [
    "!ls -1 group_vars/"
   ]
  },
  {
   "cell_type": "markdown",
   "metadata": {},
   "source": [
    "UnitGroup名を次のセルに指定してください。"
   ]
  },
  {
   "cell_type": "code",
   "execution_count": null,
   "metadata": {
    "tags": [
     "vcp:parameters"
    ]
   },
   "outputs": [],
   "source": [
    "# (例)\n",
    "# ugroup_name = 'CoursewareHub'\n",
    "\n",
    "ugroup_name = "
   ]
  },
  {
   "cell_type": "markdown",
   "metadata": {
    "heading_collapsed": true
   },
   "source": [
    "### チェック\n",
    "\n",
    "対象となるVCノードがAnsibleによって操作できることを確認します。"
   ]
  },
  {
   "cell_type": "markdown",
   "metadata": {
    "hidden": true
   },
   "source": [
    "Ansibleの設定ファイルの場所を環境変数に設定しておきます。"
   ]
  },
  {
   "cell_type": "code",
   "execution_count": null,
   "metadata": {
    "hidden": true
   },
   "outputs": [],
   "source": [
    "from pathlib import Path\n",
    "import os\n",
    "\n",
    "cfg_ansible = Path('ansible.cfg')\n",
    "if cfg_ansible.exists():\n",
    "    os.environ['ANSIBLE_CONFIG'] = str(cfg_ansible.resolve())"
   ]
  },
  {
   "cell_type": "markdown",
   "metadata": {
    "hidden": true
   },
   "source": [
    "構築対象となる各VCノードにアクセスできることを確認します。"
   ]
  },
  {
   "cell_type": "code",
   "execution_count": null,
   "metadata": {
    "hidden": true,
    "pinned_outputs": []
   },
   "outputs": [],
   "source": [
    "target_hub = f'{ugroup_name}_manager'\n",
    "\n",
    "!ansible {target_hub} -m ping"
   ]
  },
  {
   "cell_type": "code",
   "execution_count": null,
   "metadata": {
    "hidden": true,
    "pinned_outputs": []
   },
   "outputs": [],
   "source": [
    "target_nodes = f'{ugroup_name}_worker'\n",
    "\n",
    "!ansible {target_nodes} -m ping"
   ]
  },
  {
   "cell_type": "markdown",
   "metadata": {
    "hidden": true
   },
   "source": [
    "UnitGroup名に対応する group_varsファイルが存在していることを確認します。"
   ]
  },
  {
   "cell_type": "code",
   "execution_count": null,
   "metadata": {
    "hidden": true
   },
   "outputs": [],
   "source": [
    "!test -f group_vars/{ugroup_name}"
   ]
  },
  {
   "cell_type": "markdown",
   "metadata": {},
   "source": [
    "## パラメータの設定"
   ]
  },
  {
   "cell_type": "markdown",
   "metadata": {},
   "source": [
    "### ホスト名\n",
    "\n",
    "CoursewareHubのホスト名(FQDN)を指定します。ここで指定したホスト名は、利用者からの入り口となる `auth-proxy` コンテナに割り当てられます。"
   ]
  },
  {
   "cell_type": "code",
   "execution_count": null,
   "metadata": {
    "tags": [
     "vcp:skip",
     "vcp:parameters"
    ]
   },
   "outputs": [],
   "source": [
    "# (例)\n",
    "# master_fqdn = 'hub.example.org'\n",
    "\n",
    "master_fqdn = "
   ]
  },
  {
   "cell_type": "markdown",
   "metadata": {},
   "source": [
    "### 管理者情報の設定"
   ]
  },
  {
   "cell_type": "markdown",
   "metadata": {},
   "source": [
    "管理者として登録するメールアドレスを指定します。CoursewareHubに管理者としてログインするにはここで指定したメールアドレスをログイン画面で入力します。\n",
    "\n",
    "> このNotebookでは、CoursewareHubの学認への登録がまだ行われていないことを想定して、管理者をローカルユーザとして作成します。"
   ]
  },
  {
   "cell_type": "code",
   "execution_count": null,
   "metadata": {
    "pinned_outputs": [],
    "scrolled": true,
    "tags": [
     "vcp:skip",
     "vcp:parameters"
    ]
   },
   "outputs": [],
   "source": [
    "# (例)\n",
    "# teacher_email = 'admin@example.org'\n",
    "\n",
    "teacher_email = "
   ]
  },
  {
   "cell_type": "markdown",
   "metadata": {},
   "source": [
    "管理者のパスワードを入力してください。ここで指定するパスワードはローカルユーザとしてログインする際に入力するパスワードとなります。\n",
    "\n",
    "> 学認への登録を行うまでは、学認のIdPを利用したログインができません。そのためローカルユーザとして登録するパスワードをここでは指定します。"
   ]
  },
  {
   "cell_type": "code",
   "execution_count": null,
   "metadata": {},
   "outputs": [],
   "source": [
    "from getpass import getpass\n",
    "teacher_password = getpass()"
   ]
  },
  {
   "cell_type": "markdown",
   "metadata": {},
   "source": [
    "### 学認フェデレーション\n",
    "\n",
    "CoursewareHubと連携する学認フェデレーションに関するパラメータを設定します。"
   ]
  },
  {
   "cell_type": "markdown",
   "metadata": {},
   "source": [
    "次のセルで参加するフェデレーションを指定してください。"
   ]
  },
  {
   "cell_type": "code",
   "execution_count": null,
   "metadata": {},
   "outputs": [],
   "source": [
    "# (例)\n",
    "# federation = 'production'  # 運用フェデレーション\n",
    "# federation = 'test'        # テストフェデレーション\n",
    "\n",
    "federation = "
   ]
  },
  {
   "cell_type": "markdown",
   "metadata": {},
   "source": [
    "参加するフェデレーションに応じたサーバとの連携を行います。各フェデレーションのホスト名を以下の表に示します。\n",
    "\n",
    "\n",
    "| | 学認DS(Discovery Service) | クラウドゲートウェイ |\n",
    "|-|--|--|\n",
    "|運用フェデレーション|`ds.gakunin.nii.ac.jp`|`cg.gakunin.jp`|\n",
    "|テストフェデレーション|`test-ds.gakunin.nii.ac.jp`|`sptest.cg.gakunin.jp`|\n"
   ]
  },
  {
   "cell_type": "markdown",
   "metadata": {},
   "source": [
    "上記の表に示した以外のサーバを指定する場合は、次のセルのコメントを外してサーバのホスト名を設定してください。"
   ]
  },
  {
   "cell_type": "code",
   "execution_count": null,
   "metadata": {},
   "outputs": [],
   "source": [
    "# ds_fqdn = 'ds.gakunin.nii.ac.jp'     # 学認DS(Discovery Service)\n",
    "# cg_fqdn = 'cg.gakunin.jp'            # クラウドゲートウェイ"
   ]
  },
  {
   "cell_type": "markdown",
   "metadata": {},
   "source": [
    "### mAPのグループを指定する\n",
    "\n",
    "CoursewareHubの利用を許可するユーザを、学認mAPのグループにより指定します。"
   ]
  },
  {
   "cell_type": "markdown",
   "metadata": {},
   "source": [
    "CoursewareHubの利用を許可するグループのリストを次のセルで指定してください。指定する値は学認 mAP のグループIDの値となります。"
   ]
  },
  {
   "cell_type": "code",
   "execution_count": null,
   "metadata": {},
   "outputs": [],
   "source": [
    "# (例)\n",
    "# cg_groups = [\n",
    "#    'group1-id',\n",
    "#    'group2-id',\n",
    "#]\n",
    "\n",
    "cg_groups = [\n",
    "    \n",
    "]"
   ]
  },
  {
   "cell_type": "markdown",
   "metadata": {},
   "source": [
    "mAPから渡されるグループ情報のプレフィックスを指定します。利用しているフェデレーションによって異なる値を指定する必要があります。\n",
    "\n",
    "* 運用フェデレーション\n",
    "    - `https://cg.gakunin.jp/gr/`\n",
    "* テストフェデレーション\n",
    "    - `https://sptest.cg.gakunin.jp/gr/`"
   ]
  },
  {
   "cell_type": "code",
   "execution_count": null,
   "metadata": {},
   "outputs": [],
   "source": [
    "if federation == 'production':\n",
    "    cg_group_prefix = 'https://cg.gakunin.jp/gr/'        # 運用フェデレーション\n",
    "elif federation == 'test':\n",
    "    cg_group_prefix = 'https://sptest.cg.gakunin.jp/gr/' # テストフェデレーション\n",
    "else:\n",
    "    raise RuntimeError(\"federationが設定されていません\")\n",
    "    \n",
    "print(cg_group_prefix)"
   ]
  },
  {
   "cell_type": "markdown",
   "metadata": {},
   "source": [
    "### リソース制限の設定\n",
    "\n",
    "各ユーザが利用するコンテナのリソース制限に関する設定を行います。"
   ]
  },
  {
   "cell_type": "markdown",
   "metadata": {},
   "source": [
    "#### リソース制限の設定方法"
   ]
  },
  {
   "cell_type": "markdown",
   "metadata": {},
   "source": [
    "CoursewareHubではユーザの役割に応じて利用方法が異なることがあります。例えば講師権限ユーザーは採点を行う場合などに複数のNotebookを同時に開くことがあります。そのような利用を行う場合、一般の受講者ユーザよりも多くのリソースが必要となります。また、講師権限を与えないが採点の補助をして欲しいTA(Teaching Assistant)といった役割のユーザーがいる場合があります。その場合、一般の受講者ユーザーとは異なるリソース制限設定を行うことが考えられます。\n",
    "\n",
    "これらのことに対応するためにCoursewareHubでは、権限もしくは所属グループに応じたリソース制限の設定を行うことができます。"
   ]
  },
  {
   "cell_type": "markdown",
   "metadata": {},
   "source": [
    "リソース制限の設定はYAMLファイルで行います。YAMLファイルの記述例を以下に示します。\n",
    "\n",
    "```yaml\n",
    "groups:\n",
    "    student:\n",
    "        mem_limit: 1G\n",
    "        cpu_limit: 1.0\n",
    "        priority: 10\n",
    "    teaching-assistant:\n",
    "        mem_limit: 2G\n",
    "        cpu_limit: 2.0\n",
    "        cpu_guarantee: 1G\n",
    "        cpu_guarantee: 0.5\n",
    "        priority: 1\n",
    "admin:\n",
    "    mem_limit: 5G\n",
    "default:\n",
    "    mem_limit: 1G\n",
    "    cpu_limit: 2.0\n",
    "    mem_guarantee: 1G\n",
    "    cpu_guarantee: 0.5\n",
    "```\n",
    "\n",
    "上の例では `student`グループ、`teaching-assistant`グループ、講師権限ユーザ(`admin`)、それ以外のユーザ（デフォルト設定）についてリソース制限の設定を行っています。複数のグループに所属するユーザについては、グループの`priority`が小さいほうのグループの設定が優先されます。上記の例では`student`グループ、`teaching-assistant`グループの両方に属するユーザは `priority`が`1`となっている`teaching-assistant`グループの設定が優先されます。"
   ]
  },
  {
   "cell_type": "markdown",
   "metadata": {},
   "source": [
    "コンテナに対するリソース制限設定として以下の４つの属性を指定することができます。\n",
    "\n",
    "* [mem_guarantee](https://jupyterhub.readthedocs.io/en/stable/api/spawner.html#jupyterhub.spawner.Spawner.mem_guarantee)\n",
    "    - コンテナの使用が保証されるメモリサイズの下限\n",
    "* [mem_limit](https://jupyterhub.readthedocs.io/en/stable/api/spawner.html#jupyterhub.spawner.Spawner.mem_limit)\n",
    "    - コンテナが使用可能なメモリのサイズの上限\n",
    "* [cpu_guarantee](https://jupyterhub.readthedocs.io/en/stable/api/spawner.html#jupyterhub.spawner.LocalProcessSpawner.cpu_guarantee)\n",
    "    - コンテナの使用が保証される CPU 使用率の下限\n",
    "* [cpu_limit](https://jupyterhub.readthedocs.io/en/stable/api/spawner.html#jupyterhub.spawner.LocalProcessSpawner.cpu_limit)\n",
    "    - コンテナが使用可能な CPU 使用率の上限"
   ]
  },
  {
   "cell_type": "markdown",
   "metadata": {},
   "source": [
    "JupyterHub にはユーザーグループを扱う仕組みがありますが、それを管理するためのユーザーインターフェースは存在しません。そのため、講師権限ユーザー向けにグループ操作を行うための Notebook を用意しました。\n",
    "\n",
    "* 83_AddUsersToGroup.ipynb\n",
    "    - ユーザーを指定したグループに追加する Notebook\n",
    "* 84_RemoveUsersFromGroup.ipynb\n",
    "    - ユーザーを指定したグループから削除する Notebook\n",
    "* 85_ShowUserGroups.ipynb\n",
    "    - ユーザーの属するグループを確認する Notebook\n",
    "\n",
    "構築したCoursewareHub環境において、講師権限ユーザーに提供される一連のNotebookのなかに上記のグループ管理用 Notebook が含まれています。"
   ]
  },
  {
   "cell_type": "markdown",
   "metadata": {},
   "source": [
    "#### リソース制限の設定を行うYAMLファイルを作成する\n",
    "\n",
    "前節で説明したYAMLファイルを作成します。"
   ]
  },
  {
   "cell_type": "markdown",
   "metadata": {},
   "source": [
    "リソースファイルを作成するディレクトリを作成します。"
   ]
  },
  {
   "cell_type": "code",
   "execution_count": null,
   "metadata": {},
   "outputs": [],
   "source": [
    "from tempfile import mkdtemp\n",
    "from pathlib import Path\n",
    "rsc_pdir = Path('./rsc').absolute()\n",
    "rsc_pdir.mkdir(exist_ok=True)\n",
    "rsc_dir = Path(mkdtemp(dir=rsc_pdir))"
   ]
  },
  {
   "cell_type": "markdown",
   "metadata": {},
   "source": [
    "YAMLファイルを作成します。\n",
    "\n",
    "リソース制限の設定に対応する内容に次のセルを変更してください。その後、実行するとYAMLファイルが作成されます。"
   ]
  },
  {
   "cell_type": "code",
   "execution_count": null,
   "metadata": {},
   "outputs": [],
   "source": [
    "%%writefile {rsc_dir}/resource.yaml\n",
    "groups:\n",
    "    group1:\n",
    "        mem_limit: 1G\n",
    "        cpu_limit: 1.0\n",
    "        priority: 20\n",
    "admin:\n",
    "    mem_limit: 5G\n",
    "default:\n",
    "    mem_limit: 1G\n",
    "    cpu_limit: 2.0\n",
    "    mem_guarantee: 1G\n",
    "    cpu_guarantee: 0.5"
   ]
  },
  {
   "cell_type": "markdown",
   "metadata": {},
   "source": [
    "YAMLファイルの記述内容が妥当であるかをチェックします。\n",
    "\n",
    "次のセルが正常に実行できることを確認してください。実行結果がエラーとなった場合はYAMLファイルの記述内容に問題があります。上のセルを unfreeze して記述内容を修正して、再実行してください。"
   ]
  },
  {
   "cell_type": "code",
   "execution_count": null,
   "metadata": {
    "scrolled": true
   },
   "outputs": [],
   "source": [
    "import jsonschema\n",
    "import json\n",
    "import yaml\n",
    "\n",
    "!ansible -c local {target_hub} -m get_url -a \\\n",
    "    'url=https://raw.githubusercontent.com/NII-cloud-operation/CoursewareHub-LC_platform/master/jupyterhub/resources-schema.json \\\n",
    "    dest={rsc_dir}/resources-schema.json'\n",
    "with (rsc_dir / 'resources-schema.json').open() as f:\n",
    "    resources_config_schema = json.load(f)\n",
    "\n",
    "with (rsc_dir / 'resource.yaml').open() as f:\n",
    "    resources_config = yaml.load(f, Loader=yaml.SafeLoader)\n",
    "    jsonschema.validate(resources_config, resources_config_schema)\n",
    "\n",
    "print(json.dumps(resources_config, indent=2))"
   ]
  },
  {
   "cell_type": "markdown",
   "metadata": {},
   "source": [
    "### JupyterHub\n",
    "\n",
    "JupyterHubコンテナに設定する環境変数を指定します。"
   ]
  },
  {
   "cell_type": "markdown",
   "metadata": {},
   "source": [
    "設定できる環境変数の説明を以下に示します。"
   ]
  },
  {
   "cell_type": "markdown",
   "metadata": {},
   "source": [
    "* `CONCURRENT_SPAWN_LIMIT`\n",
    "    - ユーザーのNotebookサーバーの並列起動処理数の上限\n",
    "    - サーバー起動待ちの数が上限を超えると、新たな起動が拒否される\n",
    "* `SPAWNER_CONSTRAINTS`\n",
    "    - ユーザーのNotebookサーバーコンテナの起動ノードの制約条件\n",
    "    - https://docs.docker.com/engine/swarm/services/#placement-constraints の --constraintの値を指定する\n",
    "    - 複数の値を指定する場合は `;` でつなげる\n",
    "    - `node.role==worker`を指定することを推奨する\n",
    "        + ⇒single-user serverコンテナは workerノードで実行され、masterノードではシステムコンテナのみが実行されるようになる\n",
    "* `SPAWNER_HTTP_TIMEOUT`\n",
    "    - JupyterHubが、ユーザーのNotebookサーバーへのHTTPアクセスが可能になるまで待つタイムアウト時間（秒） \n",
    "* `SPAWNER_START_TIMEOUT`\n",
    "    - JupyterHubが、ユーザーのNotebookサーバーコンテナの起動を待つタイムアウト時間（秒）\n",
    "* `CULL_SERVER`\n",
    "    - `yes`: ユーザーのNotebookサーバーのculling機能（アイドルになったサーバーの停止）を有効にする\n",
    "    - `no`: ユーザーのNotebookサーバーは自動で停止されない\n",
    "    - デフォルトは `no`\n",
    "* `CULL_SERVER_IDLE_TIMEOUT`\n",
    "    - culling機能で停止されるNotebookサーバーのアイドル時間（秒）\n",
    "    - この時間を越えてアイドル状態のサーバーは停止される\n",
    "    - デフォルト値は `600`   \n",
    "* `CULL_SERVER_MAX_AGE`\n",
    "    - ユーザーNotebookサーバーの最大寿命（秒）\n",
    "    - アクティブでも停止される\n",
    "    - デフォルト、または`0`ではアクティブなサーバーは停止されない\n",
    "* `CULL_SERVER_EVERY`\n",
    "    - サーバーのアイドル状態のチェック間隔(秒)\n",
    "    - チェックとチェックの間では、アイドル状態になっても停止されない\n",
    "* `ADMIN_ACCESS`\n",
    "    - `yes`または`1`を設定すると、講師がAdminコントロールパネルから他のユーザーのNotebookサーバーにアクセスできるようになる\n",
    "    - デフォルトで有効"
   ]
  },
  {
   "cell_type": "markdown",
   "metadata": {},
   "source": [
    "設定する環境変数名とその設定値を、次のセルの`dict`変数`jupyterhub_params`のキー、バリューに指定してください。"
   ]
  },
  {
   "cell_type": "code",
   "execution_count": null,
   "metadata": {},
   "outputs": [],
   "source": [
    "# (例)\n",
    "# jupyterhub_params = {\n",
    "#     'SPAWNER_CONSTRAINTS': 'node.role==worker',  # 起動ノードの制約条件\n",
    "# }\n",
    "\n",
    "jupyterhub_params = {\n",
    "    'SPAWNER_CONSTRAINTS': 'node.role==worker',\n",
    "}"
   ]
  },
  {
   "cell_type": "markdown",
   "metadata": {},
   "source": [
    "### single-user Jupyter notebook server\n",
    "\n",
    "JupyterHubが起動する single-user [Jupyter notebook](https://jupyter-notebook.readthedocs.io/) serverのコンテナイメージを指定します。"
   ]
  },
  {
   "cell_type": "markdown",
   "metadata": {},
   "source": [
    "以下のようなものを指定できます。\n",
    "\n",
    "* [niicloudoperation/notebook](https://github.com/NII-cloud-operation/Jupyter-LC_docker)\n",
    "    - JupyterNotebookに*Literate Computing for Reproducible Infrastructure*のためのツールを追加したもの\n",
    "* harbor.vcloud.nii.ac.jp/vcp/coursewarehub:singleuser-disable-run-through\n",
    "    - `niicloudoperation/notebook`に対して[Jupyter-LC_run_through](https://github.com/NII-cloud-operation/Jupyter-LC_run_through)の機能などを無効にしたもの"
   ]
  },
  {
   "cell_type": "code",
   "execution_count": null,
   "metadata": {
    "tags": [
     "vcp:rewrite:container_image"
    ]
   },
   "outputs": [],
   "source": [
    "# (例)\n",
    "# singleuser_image = 'niicloudoperation/notebook'\n",
    "# singleuser_image = 'harbor.vcloud.nii.ac.jp/vcp/coursewarehub:singleuser-disable-run-through'\n",
    "\n",
    "singleuser_image = 'harbor.vcloud.nii.ac.jp/vcp/coursewarehub:singleuser-disable-run-through'"
   ]
  },
  {
   "cell_type": "markdown",
   "metadata": {},
   "source": [
    "### データベース\n",
    "\n",
    "CoursewareHubのデータを保存するデータベースに関するパラメータを指定します。"
   ]
  },
  {
   "cell_type": "markdown",
   "metadata": {},
   "source": [
    "CoursewareHubが利用するデータベースの名前を指定してください。"
   ]
  },
  {
   "cell_type": "code",
   "execution_count": null,
   "metadata": {
    "pinned_outputs": []
   },
   "outputs": [],
   "source": [
    "# (例)\n",
    "# db_name = 'jupyterhub'\n",
    "\n",
    "db_name = 'jupyterhub'"
   ]
  },
  {
   "cell_type": "markdown",
   "metadata": {},
   "source": [
    "データベースのユーザ名を指定してください。"
   ]
  },
  {
   "cell_type": "code",
   "execution_count": null,
   "metadata": {
    "pinned_outputs": []
   },
   "outputs": [],
   "source": [
    "# (例)\n",
    "# db_user = 'jhauth'\n",
    "\n",
    "db_user = 'jhauth'"
   ]
  },
  {
   "cell_type": "markdown",
   "metadata": {},
   "source": [
    "データベースのパスワードを指定してください。"
   ]
  },
  {
   "cell_type": "code",
   "execution_count": null,
   "metadata": {
    "tags": [
     "vcp:skip",
     "vcp:parameters"
    ]
   },
   "outputs": [],
   "source": [
    "from getpass import getpass\n",
    "db_password = getpass()"
   ]
  },
  {
   "cell_type": "markdown",
   "metadata": {},
   "source": [
    "### オーバーレイネットワークの指定"
   ]
  },
  {
   "cell_type": "markdown",
   "metadata": {},
   "source": [
    "CoursewareHubのコンテナはDocker Swarmのオーバーレイネットワークで実行されます。オーバーレイネットワークに割り当てるサブネットを指定します。\n",
    "\n",
    "> 基本的にはデフォルト値からの変更は不要ですが、VCノードに割り当てられているIPアドレスと範囲が重複している場合は他のサブネットに変更して下さい。"
   ]
  },
  {
   "cell_type": "code",
   "execution_count": null,
   "metadata": {},
   "outputs": [],
   "source": [
    "# (例)\n",
    "# cousewarehub_backend = '10.1.0.0/20'\n",
    "\n",
    "cousewarehub_backend = '10.1.0.0/20'"
   ]
  },
  {
   "cell_type": "markdown",
   "metadata": {},
   "source": [
    "指定されたサブネットがVCノードに割り当てられているIPアドレスと重なっていないことをチェックします。次のセルを実行してエラーとならないことを確認してください。"
   ]
  },
  {
   "cell_type": "code",
   "execution_count": null,
   "metadata": {},
   "outputs": [],
   "source": [
    "!ansible-playbook -v -e cousewarehub_backend={cousewarehub_backend} -l {ugroup_name} \\\n",
    "    playbooks/check-subnet.yml"
   ]
  },
  {
   "cell_type": "markdown",
   "metadata": {},
   "source": [
    "### パラメータの保存\n",
    "\n",
    "ここまで指定したパラメータのうち、ansible playbookや他のNotebookでも参照する値を ansible の変数として `group_vars`ファイルに保存します。"
   ]
  },
  {
   "cell_type": "code",
   "execution_count": null,
   "metadata": {},
   "outputs": [],
   "source": [
    "import yaml\n",
    "from pathlib import Path\n",
    "\n",
    "gvars_path = Path(f'group_vars/{ugroup_name}')\n",
    "with gvars_path.open() as f:\n",
    "    gvars = yaml.safe_load(f)\n",
    "\n",
    "gvars.update({\n",
    "    'master_fqdn': master_fqdn,\n",
    "    'rsc_yml': f'{rsc_dir}/resource.yaml',\n",
    "    'jupyterhub_params': jupyterhub_params,\n",
    "    'singleuser_image': singleuser_image,\n",
    "    'db_name': db_name,\n",
    "    'db_user': db_user,\n",
    "    'db_password': db_password,\n",
    "    'cousewarehub_backend': cousewarehub_backend,\n",
    "    'cg_groups': [cg_group_prefix + x for x in cg_groups],\n",
    "    'federation': federation,\n",
    "})\n",
    "if 'ds_fqdn' in vars():\n",
    "    gvars['ds_fqdn'] = ds_fqdn\n",
    "if 'cg_fqdn' in vars():\n",
    "    gvars['cg_fqdn'] = ds_fqdn\n",
    "\n",
    "with gvars_path.open(mode='w') as f:\n",
    "    yaml.safe_dump(gvars, stream=f)"
   ]
  },
  {
   "cell_type": "markdown",
   "metadata": {},
   "source": [
    "## CoursewareHubのセットアップ\n",
    "\n",
    "CoursewareHubの構成要素となる、各コンテナのセットアップを行います。"
   ]
  },
  {
   "cell_type": "markdown",
   "metadata": {},
   "source": [
    "### auth-proxy"
   ]
  },
  {
   "cell_type": "markdown",
   "metadata": {},
   "source": [
    "#### 証明書の配置"
   ]
  },
  {
   "cell_type": "markdown",
   "metadata": {},
   "source": [
    "##### サーバ証明書\n",
    "\n",
    "auth-proxyコンテナで使用するサーバ証明書の配置を確認します。"
   ]
  },
  {
   "cell_type": "markdown",
   "metadata": {},
   "source": [
    "サーバ証明書を配置するディレクトリを作成します。"
   ]
  },
  {
   "cell_type": "code",
   "execution_count": null,
   "metadata": {
    "scrolled": true
   },
   "outputs": [],
   "source": [
    "!ansible {target_hub} -b -m file -a \\\n",
    "    'path={{{{base_dir}}}} state=directory owner={{{{ansible_user}}}}'\n",
    "!ansible {target_hub} -b -m file -a \\\n",
    "    'path={{{{base_dir}}}}/certs state=directory owner={{{{ansible_user}}}}'"
   ]
  },
  {
   "cell_type": "markdown",
   "metadata": {},
   "source": [
    "作成したディレクトリ`/srv/cwh/certs`に証明書、秘密鍵を配置してください。出どころなどの情報を必要以上に残さないためにNotebookからの操作ではなく、ターミナルなどから **managerノードに ssh でログインして操作を行ってください**。\n",
    "\n",
    "配置する証明書などのファイル名は以下のようにしてください。\n",
    "\n",
    "* サーバ証明書\n",
    "    - `/srv/cwh/certs/auth-proxy.cer`\n",
    "* サーバ証明書と中間CA証明書を連結したもの\n",
    "    - `/srv/cwh/certs/auth-proxy.chained.cer`\n",
    "* 秘密鍵\n",
    "    - `/srv/cwh/certs/auth-proxy.key`\n",
    "    - パスフレーズを無しにする"
   ]
  },
  {
   "cell_type": "markdown",
   "metadata": {},
   "source": [
    "sshでログインする manager ノードのIPアドレスを確認します。表示されたIPアドレスに対して、ユーザ名`vcp`と「VCノード作成」のNotebookで設定したSSHの秘密鍵を指定することで manager ノードにsshでログインできます。"
   ]
  },
  {
   "cell_type": "code",
   "execution_count": null,
   "metadata": {},
   "outputs": [],
   "source": [
    "!ansible {target_hub} -m debug -a 'var=vc_ipaddress'"
   ]
  },
  {
   "cell_type": "markdown",
   "metadata": {},
   "source": [
    "**証明書などの配置を行った後に、これ以降の操作を行ってください。**"
   ]
  },
  {
   "cell_type": "markdown",
   "metadata": {},
   "source": [
    "証明書が配置されていることを確認します。managerノードのサーバ証明書の内容を表示してみます。"
   ]
  },
  {
   "cell_type": "code",
   "execution_count": null,
   "metadata": {
    "scrolled": true
   },
   "outputs": [],
   "source": [
    "!ansible {target_hub} -a \\\n",
    "    'openssl x509 -noout -text -in {{{{certs_dir}}}}/auth-proxy.cer'"
   ]
  },
  {
   "cell_type": "markdown",
   "metadata": {},
   "source": [
    "秘密鍵の内容を表示してみます。"
   ]
  },
  {
   "cell_type": "code",
   "execution_count": null,
   "metadata": {
    "scrolled": true
   },
   "outputs": [],
   "source": [
    "!ansible {target_hub} -a \\\n",
    "    'openssl rsa -noout -text -in  {{{{certs_dir}}}}/auth-proxy.key'"
   ]
  },
  {
   "cell_type": "markdown",
   "metadata": {},
   "source": [
    "中間CA証明書を連結したサーバ証明書の内容を表示してみます。"
   ]
  },
  {
   "cell_type": "code",
   "execution_count": null,
   "metadata": {
    "scrolled": true
   },
   "outputs": [],
   "source": [
    "!ansible {target_hub} -a \\\n",
    "    'openssl x509 -noout -text -in {{{{certs_dir}}}}/auth-proxy.chained.cer'"
   ]
  },
  {
   "cell_type": "markdown",
   "metadata": {},
   "source": [
    "証明書の owner, group などの値を利用環境に合わせて以下のように設定します。\n",
    "\n",
    "* owner: 33\n",
    "* group: 33\n",
    "\n",
    "この設定はコンテナ内では以下のように設定したことに相当します。\n",
    "\n",
    "* owner: `www-data`\n",
    "* group: `www-data`"
   ]
  },
  {
   "cell_type": "code",
   "execution_count": null,
   "metadata": {
    "scrolled": true
   },
   "outputs": [],
   "source": [
    "cert_owner = 33\n",
    "cert_group = 33\n",
    "!ansible {target_hub} -b -m file -a \\\n",
    "    'path={{{{certs_dir}}}} owner={cert_owner} \\\n",
    "    group={cert_group} state=directory'\n",
    "!ansible {target_hub} -b -m file -a \\\n",
    "    'path={{{{certs_dir}}}}/auth-proxy.cer \\\n",
    "    owner={cert_owner} group={cert_group}'\n",
    "!ansible {target_hub} -b -m file -a \\\n",
    "    'path={{{{certs_dir}}}}/auth-proxy.chained.cer \\\n",
    "    owner={cert_owner} group={cert_group}'\n",
    "!ansible {target_hub} -b -m file -a \\\n",
    "    'path={{{{certs_dir}}}}/auth-proxy.key \\\n",
    "    owner={cert_owner} group={cert_group} mode=0600'"
   ]
  },
  {
   "cell_type": "markdown",
   "metadata": {},
   "source": [
    "##### メタデータ署名証明書の配置\n",
    "\n",
    "メタデータの署名を検証するための証明書を配置します。"
   ]
  },
  {
   "cell_type": "markdown",
   "metadata": {},
   "source": [
    "証明書を配布しているURLを指定してください。"
   ]
  },
  {
   "cell_type": "code",
   "execution_count": null,
   "metadata": {},
   "outputs": [],
   "source": [
    "# 運用フェデレーション\n",
    "# metadata_signer_url = 'https://metadata.gakunin.nii.ac.jp/gakunin-signer-2017.cer'\n",
    "#\n",
    "# テストフェデレーション\n",
    "# metadata_signer_url = 'https://metadata.gakunin.nii.ac.jp/gakunin-test-signer-2020.cer'\n",
    "\n",
    "metadata_signer_url ="
   ]
  },
  {
   "cell_type": "markdown",
   "metadata": {},
   "source": [
    "指定されたURLの証明書を配置します。"
   ]
  },
  {
   "cell_type": "code",
   "execution_count": null,
   "metadata": {
    "scrolled": true
   },
   "outputs": [],
   "source": [
    "!ansible {target_hub} -b -m get_url -a \\\n",
    "    'url={metadata_signer_url} dest={{{{certs_dir}}}}/gakunin-signer.cer \\\n",
    "    owner={cert_owner} group={cert_group} mode=0644'"
   ]
  },
  {
   "cell_type": "markdown",
   "metadata": {},
   "source": [
    "配置した証明書のFingerprintを表示してみます。\n",
    "\n",
    "参考のため、証明書の fingerprintを記載しているURLを以下に示します。\n",
    "\n",
    "* 運用フェデレーション\n",
    "    - https://meatwiki.nii.ac.jp/confluence/display/GakuNinShibInstall/signer\n",
    "* テストフェデレーション\n",
    "    - https://www.gakunin.jp/join/test/rule"
   ]
  },
  {
   "cell_type": "code",
   "execution_count": null,
   "metadata": {},
   "outputs": [],
   "source": [
    "!ansible {target_hub} -a 'chdir={{{{base_dir}}}}/certs \\\n",
    "    openssl x509 -in gakunin-signer.cer -sha256 -fingerprint -noout'"
   ]
  },
  {
   "cell_type": "markdown",
   "metadata": {},
   "source": [
    "#### メタデータ\n",
    "\n",
    "SAMLのメタデータを配置するディレクトリを用意します。"
   ]
  },
  {
   "cell_type": "code",
   "execution_count": null,
   "metadata": {},
   "outputs": [],
   "source": [
    "!ansible {target_hub} -b -m file -a \\\n",
    "    'path={{{{base_dir}}}}/metadata state=directory owner=33 group=33'"
   ]
  },
  {
   "cell_type": "markdown",
   "metadata": {},
   "source": [
    "##### SP検証環境のメタデータ（テストフェデレーション）\n",
    "\n",
    "テストフェデレーションのSP検証環境メタデータを取得している場合は CoursewareHub環境への配置を行います。\n",
    "\n",
    "> SP検証環境のメタデータは利用申請の際に送付されてくるので、通常はこの時点でメタデータファイルがありません。そのため**この節は実行せずにスキップしてください**。通常は、次に実行する「331-CoursewareHubの登録を学認へ申請する」のNotebookのなかで SP検証環境のメタデータを登録します。\n",
    ">\n",
    "> この節は、既に学認への登録を済ませている CoursewareHub を再構築する場合などに実行することを想定しています。"
   ]
  },
  {
   "cell_type": "markdown",
   "metadata": {},
   "source": [
    "SP検証環境のメタデータを、このNotebook環境に配置してそのファイル名を次のセルに設定してください。"
   ]
  },
  {
   "cell_type": "code",
   "execution_count": null,
   "metadata": {},
   "outputs": [],
   "source": [
    "# (例)\n",
    "# sptest_metadata = './sptestcgidp-metadata.xml'\n",
    "\n",
    "sptest_metadata = "
   ]
  },
  {
   "cell_type": "markdown",
   "metadata": {},
   "source": [
    "SP検証環境のメタデータを配置します。"
   ]
  },
  {
   "cell_type": "code",
   "execution_count": null,
   "metadata": {},
   "outputs": [],
   "source": [
    "if 'sptest_metadata' in vars():\n",
    "    !ansible {target_hub} -b -m copy -a \\\n",
    "        'src={sptest_metadata} dest={{{{base_dir}}}}/metadata/cgidp-metadata.xml \\\n",
    "        owner=33 group=33'"
   ]
  },
  {
   "cell_type": "markdown",
   "metadata": {
    "heading_collapsed": true
   },
   "source": [
    "#### auth-proxyコンテナのセットアップ\n",
    "\n",
    "サーバ証明書以外に \n",
    "auth-proxyコンテナで必要となるファイルを準備する Ansible Playbook を実行します。"
   ]
  },
  {
   "cell_type": "markdown",
   "metadata": {
    "hidden": true
   },
   "source": [
    "この節で実行する Playbook では以下の処理を行います。\n",
    "* SimpleSAMLphp のcron実行のためのランダムキーの作成\n",
    "* コンテナイメージの取得\n",
    "\n",
    "ここで取得するauth-proxyのコンテナイメージは[NII-cloud-operation/CoursewareHub-LC_platform](https://github.com/NII-cloud-operation/CoursewareHub-LC_platform)の `auth-proxy-fed/`ディレクトリをVCP向けにカスタマイズして [VCPのコンテナレジストリ](https://harbor.vcloud.nii.ac.jp/)に格納したものです。VCPでカスタマイズした部分のソースは [./docker/app/auth-proxy-fed](docker/app/auth-proxy-fed/)にあります。"
   ]
  },
  {
   "cell_type": "markdown",
   "metadata": {
    "hidden": true
   },
   "source": [
    "まず、実際に設定を変更する前にドライラン（チェックモード）でAnsibleを実行します。"
   ]
  },
  {
   "cell_type": "code",
   "execution_count": null,
   "metadata": {
    "hidden": true,
    "scrolled": true
   },
   "outputs": [],
   "source": [
    "!ansible-playbook -l {target_hub} -CDv playbooks/setup-auth-proxy.yml || true"
   ]
  },
  {
   "cell_type": "markdown",
   "metadata": {
    "hidden": true
   },
   "source": [
    "実際に設定変更を行います。"
   ]
  },
  {
   "cell_type": "code",
   "execution_count": null,
   "metadata": {
    "hidden": true
   },
   "outputs": [],
   "source": [
    "!ansible-playbook -l {target_hub} playbooks/setup-auth-proxy.yml"
   ]
  },
  {
   "cell_type": "markdown",
   "metadata": {
    "hidden": true
   },
   "source": [
    "auth-proxy コンテナイメージを取得したことを確認します。"
   ]
  },
  {
   "cell_type": "code",
   "execution_count": null,
   "metadata": {
    "hidden": true
   },
   "outputs": [],
   "source": [
    "!ansible {target_hub} -m shell -a 'docker images | grep auth-proxy'"
   ]
  },
  {
   "cell_type": "markdown",
   "metadata": {
    "hidden": true
   },
   "source": [
    "auth-proxyコンテナのためにセットアップしたディレクトリの状態を確認します。"
   ]
  },
  {
   "cell_type": "code",
   "execution_count": null,
   "metadata": {
    "hidden": true
   },
   "outputs": [],
   "source": [
    "!ansible {target_hub} -a 'tree {{{{auth_proxy_dir}}}}'"
   ]
  },
  {
   "cell_type": "markdown",
   "metadata": {
    "heading_collapsed": true
   },
   "source": [
    "### JupyterHub"
   ]
  },
  {
   "cell_type": "markdown",
   "metadata": {
    "heading_collapsed": true,
    "hidden": true
   },
   "source": [
    "#### restuserのインストール\n",
    "\n",
    "JupyterHubコンテナからホスト環境のローカルユーザ情報を取得するために利用する[restuser](https://github.com/minrk/restuser)をインストールします。"
   ]
  },
  {
   "cell_type": "markdown",
   "metadata": {
    "hidden": true
   },
   "source": [
    "ここでは Ansible Playbookを実行することで restuser のインストールを行います。実行する Playbook は\n",
    "[NII-cloud-operation/CoursewareHub-LC_jupyterhub-deploy](https://github.com/NII-cloud-operation/CoursewareHub-LC_jupyterhub-deploy) の `roles/restuser/` にあるものをもとにしています。"
   ]
  },
  {
   "cell_type": "markdown",
   "metadata": {
    "hidden": true
   },
   "source": [
    "実際に設定を変更する前にドライラン（チェックモード）でAnsibleを実行します。"
   ]
  },
  {
   "cell_type": "code",
   "execution_count": null,
   "metadata": {
    "hidden": true,
    "scrolled": true
   },
   "outputs": [],
   "source": [
    "!ansible-playbook -l {target_hub} -CDv playbooks/install-restuser.yml || true"
   ]
  },
  {
   "cell_type": "markdown",
   "metadata": {
    "hidden": true
   },
   "source": [
    "実際にrestuserのインストールを行います。"
   ]
  },
  {
   "cell_type": "code",
   "execution_count": null,
   "metadata": {
    "hidden": true,
    "scrolled": true
   },
   "outputs": [],
   "source": [
    "!ansible-playbook -l {target_hub} playbooks/install-restuser.yml"
   ]
  },
  {
   "cell_type": "markdown",
   "metadata": {
    "hidden": true
   },
   "source": [
    "インストールされたファイルを確認します。"
   ]
  },
  {
   "cell_type": "code",
   "execution_count": null,
   "metadata": {
    "hidden": true
   },
   "outputs": [],
   "source": [
    "!ansible {target_hub} -a 'tree /srv/restuser'"
   ]
  },
  {
   "cell_type": "markdown",
   "metadata": {
    "hidden": true
   },
   "source": [
    "restuserはホスト環境のサービスとして実行します。インストールしたrestuserサービスの状態を確認します。次のセルの出力結果に`Active: active (running)` と表示されることを確認してください。"
   ]
  },
  {
   "cell_type": "code",
   "execution_count": null,
   "metadata": {
    "hidden": true
   },
   "outputs": [],
   "source": [
    "!ansible {target_hub} -b -a 'systemctl status restuser'"
   ]
  },
  {
   "cell_type": "markdown",
   "metadata": {
    "hidden": true
   },
   "source": [
    "`restuser`によってユーザ情報が取得できることを確認します。HTTPの応答がOK(200)となり、以下の情報が取得できることを確認してください。\n",
    "\n",
    "```\n",
    "{\"name\": \"vcp\", \"dir\": \"/home/vcp\", \"shell\": \"/bin/bash\", \"uid\": 1000, \"gid\": 1000}\n",
    "```"
   ]
  },
  {
   "cell_type": "code",
   "execution_count": null,
   "metadata": {
    "hidden": true,
    "scrolled": false
   },
   "outputs": [],
   "source": [
    "!ansible {target_hub} -b -m shell \\\n",
    "    -a 'echo -e \"POST /{{{{ansible_user}}}} HTTP/1.0\\r\\n\" | nc -U /var/run/restuser.sock'"
   ]
  },
  {
   "cell_type": "markdown",
   "metadata": {
    "hidden": true
   },
   "source": [
    "#### JupyterHubコンテナに関するファイルを準備する\n",
    "\n",
    "JupyterHubコンテナを実行するために必要となるファイルを準備する Ansible Playbook を実行します。"
   ]
  },
  {
   "cell_type": "markdown",
   "metadata": {
    "hidden": true
   },
   "source": [
    "Playbook では以下の処理を行います。\n",
    "\n",
    "* コンテナイメージの取得\n",
    "* ロゴファイルの配置\n",
    "\n",
    "\n",
    "ここで取得するJupyterHubのコンテナイメージは[NII-cloud-operation/CoursewareHub-LC_platform](https://github.com/NII-cloud-operation/CoursewareHub-LC_platform)の `jupyterhub/`ディレクトリをビルドして [VCPのコンテナレジストリ](https://harbor.vcloud.nii.ac.jp/)に格納したものです。"
   ]
  },
  {
   "cell_type": "markdown",
   "metadata": {
    "hidden": true
   },
   "source": [
    "まず、実際に設定を変更する前にドライラン（チェックモード）でAnsibleを実行します。\n",
    "\n",
    "> ドライランではロゴファイルを配置するディレクトリが作成されないため、ファイルの配置でエラーとなりますがこの時点では問題ありません。"
   ]
  },
  {
   "cell_type": "code",
   "execution_count": null,
   "metadata": {
    "hidden": true,
    "scrolled": true
   },
   "outputs": [],
   "source": [
    "!ansible-playbook -l {target_hub} -CDv playbooks/setup-jupyterhub.yml || true"
   ]
  },
  {
   "cell_type": "markdown",
   "metadata": {
    "hidden": true
   },
   "source": [
    "実際に設定変更を行います。"
   ]
  },
  {
   "cell_type": "code",
   "execution_count": null,
   "metadata": {
    "hidden": true
   },
   "outputs": [],
   "source": [
    "!ansible-playbook -l {target_hub} playbooks/setup-jupyterhub.yml"
   ]
  },
  {
   "cell_type": "markdown",
   "metadata": {
    "hidden": true
   },
   "source": [
    "JupyterHubのコンテナイメージが取得できたことを確認します。"
   ]
  },
  {
   "cell_type": "code",
   "execution_count": null,
   "metadata": {
    "hidden": true
   },
   "outputs": [],
   "source": [
    "!ansible {target_hub} -a \\\n",
    "    'docker images -f label=org.jupyter.service=jupyterhub'"
   ]
  },
  {
   "cell_type": "markdown",
   "metadata": {
    "hidden": true
   },
   "source": [
    "JupyterHubコンテナのためにセットアップしたディレクトリの状態を確認します。"
   ]
  },
  {
   "cell_type": "code",
   "execution_count": null,
   "metadata": {
    "hidden": true
   },
   "outputs": [],
   "source": [
    "!ansible {target_hub} -a 'tree {{{{jupyterhub_dir}}}}'"
   ]
  },
  {
   "cell_type": "markdown",
   "metadata": {
    "heading_collapsed": true
   },
   "source": [
    "### PostgreSQL\n",
    "\n",
    "PostgreSQLコンテナに関するファイルを準備する Ansible Playbook を実行します。"
   ]
  },
  {
   "cell_type": "markdown",
   "metadata": {
    "hidden": true
   },
   "source": [
    "この節で実行する Playbook では以下の処理を行います。\n",
    "* PostgreSQLのデータを格納するディレクトリの作成\n",
    "* 初期設定SQLファイルの配置\n",
    "* コンテナイメージの取得"
   ]
  },
  {
   "cell_type": "markdown",
   "metadata": {
    "hidden": true
   },
   "source": [
    "実際に設定を変更する前にドライラン（チェックモード）でAnsibleを実行します。"
   ]
  },
  {
   "cell_type": "code",
   "execution_count": null,
   "metadata": {
    "hidden": true,
    "scrolled": true
   },
   "outputs": [],
   "source": [
    "!ansible-playbook -l {target_hub} -CDv playbooks/setup-postgres.yml"
   ]
  },
  {
   "cell_type": "markdown",
   "metadata": {
    "hidden": true
   },
   "source": [
    "実際に設定変更を行います。"
   ]
  },
  {
   "cell_type": "code",
   "execution_count": null,
   "metadata": {
    "hidden": true
   },
   "outputs": [],
   "source": [
    "!ansible-playbook -l {target_hub} playbooks/setup-postgres.yml"
   ]
  },
  {
   "cell_type": "markdown",
   "metadata": {
    "hidden": true
   },
   "source": [
    "PostgreSQLコンテナのためにセットアップしたディレクトリの状態を確認します。"
   ]
  },
  {
   "cell_type": "code",
   "execution_count": null,
   "metadata": {
    "hidden": true
   },
   "outputs": [],
   "source": [
    "!ansible {target_hub} -b -a 'tree {{{{postgres_dir}}}}'"
   ]
  },
  {
   "cell_type": "markdown",
   "metadata": {
    "heading_collapsed": true
   },
   "source": [
    "### single-user Jupyter Notebook server\n",
    "\n",
    "各VCノードにsingle-user serverのコンテナイメージを取得します。"
   ]
  },
  {
   "cell_type": "code",
   "execution_count": null,
   "metadata": {
    "hidden": true,
    "pinned_outputs": [],
    "scrolled": true
   },
   "outputs": [],
   "source": [
    "!ansible {ugroup_name} -a 'docker pull {{{{singleuser_image}}}}'"
   ]
  },
  {
   "cell_type": "markdown",
   "metadata": {
    "hidden": true
   },
   "source": [
    "JupyterHubからコンテナとして起動する際に指定するタグ名をコンテナイメージに設定します。"
   ]
  },
  {
   "cell_type": "code",
   "execution_count": null,
   "metadata": {
    "hidden": true
   },
   "outputs": [],
   "source": [
    "!ansible {ugroup_name} -a \\\n",
    "    'docker tag {{{{singleuser_image}}}} niicloudoperation/jupyterhub-singleuser'"
   ]
  },
  {
   "cell_type": "markdown",
   "metadata": {
    "hidden": true
   },
   "source": [
    "各VCノードのコンテナイメージ一覧を確認します。"
   ]
  },
  {
   "cell_type": "code",
   "execution_count": null,
   "metadata": {
    "hidden": true,
    "pinned_outputs": []
   },
   "outputs": [],
   "source": [
    "!ansible {ugroup_name} -m shell -a 'docker images | \\\n",
    "    grep -e \"niicloudoperation/jupyterhub-singleuser\"'"
   ]
  },
  {
   "cell_type": "markdown",
   "metadata": {
    "heading_collapsed": true
   },
   "source": [
    "## コンテナの起動"
   ]
  },
  {
   "cell_type": "markdown",
   "metadata": {
    "hidden": true
   },
   "source": [
    "### docker-compose.yml の配置"
   ]
  },
  {
   "cell_type": "markdown",
   "metadata": {
    "hidden": true
   },
   "source": [
    "複数のコンテナに関する設定をまとめて扱うために `docker-compose.yml` を利用します。ここまでに指定されたパラメータに応じた`docker-compose.yml`を生成し、構築環境に配置します。"
   ]
  },
  {
   "cell_type": "markdown",
   "metadata": {
    "hidden": true
   },
   "source": [
    "まずは、チェックモードで確認を行います。"
   ]
  },
  {
   "cell_type": "code",
   "execution_count": null,
   "metadata": {
    "hidden": true
   },
   "outputs": [],
   "source": [
    "!ansible {target_hub} -CDv -m template \\\n",
    "    -a 'src=template/docker-compose.yml dest={{{{base_dir}}}} backup=yes'"
   ]
  },
  {
   "cell_type": "markdown",
   "metadata": {
    "hidden": true
   },
   "source": [
    "実際に`docker-compose.yml`の配置を行います。"
   ]
  },
  {
   "cell_type": "code",
   "execution_count": null,
   "metadata": {
    "hidden": true
   },
   "outputs": [],
   "source": [
    "!ansible {target_hub} -Dv -m template \\\n",
    "    -a 'src=template/docker-compose.yml dest={{{{base_dir}}}} backup=yes'"
   ]
  },
  {
   "cell_type": "markdown",
   "metadata": {
    "hidden": true
   },
   "source": [
    "### コンテナの起動\n",
    "\n",
    "コンテナを起動します。"
   ]
  },
  {
   "cell_type": "code",
   "execution_count": null,
   "metadata": {
    "hidden": true
   },
   "outputs": [],
   "source": [
    "!ansible {target_hub} -a 'chdir={{{{base_dir}}}} \\\n",
    "    docker stack deploy -c docker-compose.yml {{{{ugroup_name}}}}'"
   ]
  },
  {
   "cell_type": "markdown",
   "metadata": {
    "hidden": true
   },
   "source": [
    "コンテナの起動状態を確認します。"
   ]
  },
  {
   "cell_type": "code",
   "execution_count": null,
   "metadata": {
    "hidden": true
   },
   "outputs": [],
   "source": [
    "!ansible {target_hub} -a 'docker stack ps {{{{ugroup_name}}}}'"
   ]
  },
  {
   "cell_type": "markdown",
   "metadata": {
    "hidden": true
   },
   "source": [
    "全てのコンテナが起動するまで待ち合わせを行います。\n",
    "\n",
    "> 次のセルの実行結果がエラーとなる場合は、その後のセルを実行してコンテナの実行状況やログを確認してください。"
   ]
  },
  {
   "cell_type": "code",
   "execution_count": null,
   "metadata": {
    "hidden": true
   },
   "outputs": [],
   "source": [
    "import time\n",
    "import sys\n",
    "\n",
    "out = !ansible {target_hub} -c local -a 'echo \"{{{{vc_ipaddress}}}}\"'\n",
    "ip_addr = out[1]\n",
    "for retry in range(18):\n",
    "    try:\n",
    "        !ansible {target_hub} -a \\\n",
    "            'curl -s -k -I -f --resolve \"{{{{master_fqdn}}}}:443:{ip_addr}\" \\\n",
    "            https://{master_fqdn}'\n",
    "        break\n",
    "    except RuntimeError:\n",
    "        print('retry', file=sys.stderr)\n",
    "        time.sleep(10)\n",
    "else:\n",
    "    !ansible {target_hub} -a \\\n",
    "            'curl -s -k -I -f --resolve \"{{{{master_fqdn}}}}:443:{ip_addr}\" \\\n",
    "            https://{master_fqdn}'"
   ]
  },
  {
   "cell_type": "markdown",
   "metadata": {
    "hidden": true
   },
   "source": [
    "起動後の状態を確認します。\n",
    "> コンテナが起動に失敗し何度も再起動されていないことを確認してください。"
   ]
  },
  {
   "cell_type": "code",
   "execution_count": null,
   "metadata": {
    "hidden": true
   },
   "outputs": [],
   "source": [
    "!ansible {target_hub} -a 'docker stack ps {{{{ugroup_name}}}}'"
   ]
  },
  {
   "cell_type": "markdown",
   "metadata": {
    "hidden": true
   },
   "source": [
    "`postgres` コンテナのログを表示してみます。"
   ]
  },
  {
   "cell_type": "code",
   "execution_count": null,
   "metadata": {
    "hidden": true,
    "scrolled": true
   },
   "outputs": [],
   "source": [
    "!ansible {target_hub} -a 'docker service logs {{{{ugroup_name}}}}_postgres'"
   ]
  },
  {
   "cell_type": "markdown",
   "metadata": {
    "hidden": true
   },
   "source": [
    "`jupyterhub` コンテナのログを表示してみます。\n",
    "\n",
    "> PostgreSQLに接続できないなどのエラーが表示されていないことを確認してください。"
   ]
  },
  {
   "cell_type": "code",
   "execution_count": null,
   "metadata": {
    "hidden": true,
    "scrolled": true
   },
   "outputs": [],
   "source": [
    "!ansible {target_hub} -a 'docker service logs {{{{ugroup_name}}}}_jupyterhub'"
   ]
  },
  {
   "cell_type": "markdown",
   "metadata": {
    "hidden": true
   },
   "source": [
    "`auth-proxy` コンテナのログを表示してみます。\n",
    "\n",
    "> 証明書設定に誤りがあるなどのエラーが表示されていないことを確認してください。"
   ]
  },
  {
   "cell_type": "code",
   "execution_count": null,
   "metadata": {
    "hidden": true,
    "scrolled": true
   },
   "outputs": [],
   "source": [
    "!ansible {target_hub} -a 'docker service logs {{{{ugroup_name}}}}_auth-proxy'"
   ]
  },
  {
   "cell_type": "markdown",
   "metadata": {
    "heading_collapsed": true
   },
   "source": [
    "## 管理者の追加"
   ]
  },
  {
   "cell_type": "markdown",
   "metadata": {
    "hidden": true
   },
   "source": [
    "### Systemユーザの作成"
   ]
  },
  {
   "cell_type": "markdown",
   "metadata": {
    "hidden": true
   },
   "source": [
    "CoursewareHubではメールアドレスから一定のルールで導き出された名前を、ローカルユーザ名として利用します。管理ユーザのローカルユーザ名を確認します。"
   ]
  },
  {
   "cell_type": "code",
   "execution_count": null,
   "metadata": {
    "hidden": true
   },
   "outputs": [],
   "source": [
    "import hashlib\n",
    "import re\n",
    "\n",
    "def get_username_from_mail_address(mail_address):\n",
    "    # Convert to lower and remove characters except alphabetic\n",
    "    wk = mail_address.split('@')\n",
    "    local_part = wk[0].lower()\n",
    "    result = re.sub(r'[^a-zA-Z0-9]', '', local_part)\n",
    "    # Add top 6bytes of hash string\n",
    "    md5 = hashlib.md5()\n",
    "    md5.update(mail_address.encode('us-ascii'))\n",
    "    h = md5.hexdigest()[0:6]\n",
    "    result += 'x'\n",
    "    result += h\n",
    "    return result"
   ]
  },
  {
   "cell_type": "code",
   "execution_count": null,
   "metadata": {
    "hidden": true
   },
   "outputs": [],
   "source": [
    "teacher_id = get_username_from_mail_address(teacher_email)\n",
    "print(teacher_id)"
   ]
  },
  {
   "cell_type": "markdown",
   "metadata": {
    "hidden": true
   },
   "source": [
    "ホームディレクトリの親ディレクトリを作成します。"
   ]
  },
  {
   "cell_type": "code",
   "execution_count": null,
   "metadata": {
    "hidden": true
   },
   "outputs": [],
   "source": [
    "!ansible {target_hub} -b -m file -a 'path=/jupyter/users state=directory'"
   ]
  },
  {
   "cell_type": "markdown",
   "metadata": {
    "hidden": true
   },
   "source": [
    "管理者のホームディレクトリを変数に設定しておきます。"
   ]
  },
  {
   "cell_type": "code",
   "execution_count": null,
   "metadata": {
    "hidden": true
   },
   "outputs": [],
   "source": [
    "teacher_homedir = f'/jupyter/users/{teacher_id}'\n",
    "print(teacher_homedir)"
   ]
  },
  {
   "cell_type": "markdown",
   "metadata": {
    "hidden": true
   },
   "source": [
    "`manager`ノードでユーザを作成します。"
   ]
  },
  {
   "cell_type": "code",
   "execution_count": null,
   "metadata": {
    "hidden": true
   },
   "outputs": [],
   "source": [
    "!ansible {target_hub} -b -m user -a 'name={teacher_id} home={teacher_homedir}'"
   ]
  },
  {
   "cell_type": "markdown",
   "metadata": {
    "hidden": true
   },
   "source": [
    "ホームディレクトリが作成されていることを確認します。"
   ]
  },
  {
   "cell_type": "code",
   "execution_count": null,
   "metadata": {
    "hidden": true,
    "pinned_outputs": []
   },
   "outputs": [],
   "source": [
    "!ansible {target_hub} -b -a 'ls -la {teacher_homedir}'"
   ]
  },
  {
   "cell_type": "markdown",
   "metadata": {
    "hidden": true
   },
   "source": [
    "`worker`ノードにも同じ名前のユーザを作成します。ホームディレクトリはNFSになるので、`manager` のUID/GIDと同じ値でユーザを作成します。"
   ]
  },
  {
   "cell_type": "markdown",
   "metadata": {
    "hidden": true
   },
   "source": [
    "まず、`manager` での UID/GID の値を確認します。"
   ]
  },
  {
   "cell_type": "code",
   "execution_count": null,
   "metadata": {
    "hidden": true
   },
   "outputs": [],
   "source": [
    "lines = !ansible {target_hub} -a 'id -u {teacher_id}'\n",
    "teacher_uid = lines[1]\n",
    "lines = !ansible {target_hub} -a 'id -g {teacher_id}'\n",
    "teacher_gid = lines[1]\n",
    "lines = !ansible {target_hub} -a 'id -g -n {teacher_id}'\n",
    "teacher_group = lines[1]\n",
    "(teacher_uid, teacher_gid, teacher_group)"
   ]
  },
  {
   "cell_type": "markdown",
   "metadata": {
    "hidden": true
   },
   "source": [
    "`worker`ノードでグループを作成します。\n",
    "\n",
    "> GID を指定するので、まずグループを作成します。"
   ]
  },
  {
   "cell_type": "code",
   "execution_count": null,
   "metadata": {
    "hidden": true,
    "pinned_outputs": []
   },
   "outputs": [],
   "source": [
    "!ansible {target_nodes} -b -m group -a 'name={teacher_group} gid={teacher_gid}'"
   ]
  },
  {
   "cell_type": "markdown",
   "metadata": {
    "hidden": true
   },
   "source": [
    "`worker`ノードでユーザを作成します。"
   ]
  },
  {
   "cell_type": "code",
   "execution_count": null,
   "metadata": {
    "hidden": true
   },
   "outputs": [],
   "source": [
    "!ansible {target_nodes} -b -m file \\\n",
    "    -a 'path=/jupyter/users state=directory'"
   ]
  },
  {
   "cell_type": "code",
   "execution_count": null,
   "metadata": {
    "hidden": true,
    "scrolled": true
   },
   "outputs": [],
   "source": [
    "!ansible {target_nodes} -b -m user \\\n",
    "    -a 'name={teacher_id} uid={teacher_uid} group={teacher_group} \\\n",
    "        home={teacher_homedir}'"
   ]
  },
  {
   "cell_type": "markdown",
   "metadata": {
    "hidden": true
   },
   "source": [
    "ユーザが作成されたことを確認します。"
   ]
  },
  {
   "cell_type": "code",
   "execution_count": null,
   "metadata": {
    "hidden": true,
    "pinned_outputs": []
   },
   "outputs": [],
   "source": [
    "!ansible {target_hub} -a 'id {teacher_id}'\n",
    "!ansible {target_nodes} -a 'id {teacher_id}'"
   ]
  },
  {
   "cell_type": "markdown",
   "metadata": {
    "hidden": true
   },
   "source": [
    "### Prepare contents directory\n",
    "\n",
    "コンテンツを格納するディレクトリ `info`, `textbook` を準備します。"
   ]
  },
  {
   "cell_type": "code",
   "execution_count": null,
   "metadata": {
    "hidden": true,
    "pinned_outputs": []
   },
   "outputs": [],
   "source": [
    "for x in ['info', 'textbook']:\n",
    "    !ansible {target_hub} -b -m file \\\n",
    "        -a 'path={teacher_homedir}/{x} state=directory \\\n",
    "            owner={teacher_uid} group={teacher_group} mode=0777'"
   ]
  },
  {
   "cell_type": "markdown",
   "metadata": {
    "hidden": true
   },
   "source": [
    "### Create SSH key and register\n",
    "\n",
    "JupyterHubを構成するマシンへログインするための鍵の生成と登録を行います。"
   ]
  },
  {
   "cell_type": "markdown",
   "metadata": {
    "hidden": true
   },
   "source": [
    "SSHの鍵ペアを作成します。"
   ]
  },
  {
   "cell_type": "code",
   "execution_count": null,
   "metadata": {
    "hidden": true
   },
   "outputs": [],
   "source": [
    "!ansible {target_hub} -b -a 'creates={teacher_homedir}/.ssh/id_rsa \\\n",
    "    sudo -u {teacher_id} \\\n",
    "    ssh-keygen -N \"\" -f {teacher_homedir}/.ssh/id_rsa'"
   ]
  },
  {
   "cell_type": "markdown",
   "metadata": {
    "hidden": true
   },
   "source": [
    "鍵ファイルが作成されたことを確認します。"
   ]
  },
  {
   "cell_type": "code",
   "execution_count": null,
   "metadata": {
    "hidden": true,
    "pinned_outputs": []
   },
   "outputs": [],
   "source": [
    "!ansible {target_hub} -b -m shell -a 'ls -l {teacher_homedir}/.ssh/id_rsa*'"
   ]
  },
  {
   "cell_type": "markdown",
   "metadata": {
    "hidden": true
   },
   "source": [
    "作成した公開鍵を `authorized_keys` に登録します。まず、公開鍵の値を取得します。"
   ]
  },
  {
   "cell_type": "code",
   "execution_count": null,
   "metadata": {
    "hidden": true,
    "pinned_outputs": []
   },
   "outputs": [],
   "source": [
    "lines = !ansible {target_hub} -b -a 'cat {teacher_homedir}/.ssh/id_rsa.pub'\n",
    "pubkey = lines[1]\n",
    "print(pubkey)"
   ]
  },
  {
   "cell_type": "markdown",
   "metadata": {
    "hidden": true
   },
   "source": [
    "`authorized_keys`に登録します。"
   ]
  },
  {
   "cell_type": "code",
   "execution_count": null,
   "metadata": {
    "hidden": true,
    "pinned_outputs": []
   },
   "outputs": [],
   "source": [
    "!ansible {target_hub} -b -m authorized_key -a 'user={teacher_id} key=\"{pubkey}\"'"
   ]
  },
  {
   "cell_type": "markdown",
   "metadata": {
    "hidden": true
   },
   "source": [
    "ユーザーのホームディレクトリに不適切なpermissionが設定されているとsshの鍵認証に失敗するので、妥当な値が設定されていることを保証しておきます。"
   ]
  },
  {
   "cell_type": "code",
   "execution_count": null,
   "metadata": {
    "hidden": true,
    "pinned_outputs": [],
    "scrolled": true
   },
   "outputs": [],
   "source": [
    "!ansible {target_hub} -b -m file \\\n",
    "    -a 'path={teacher_homedir} mode=\"0755\" \\\n",
    "        owner={teacher_id} group={teacher_group}'"
   ]
  },
  {
   "cell_type": "markdown",
   "metadata": {
    "hidden": true
   },
   "source": [
    "### Grant sudo\n",
    "\n",
    "JupyterHubを構成するマシン上でのsudo権限を与える設定ファイルを配置します。"
   ]
  },
  {
   "cell_type": "markdown",
   "metadata": {
    "hidden": true
   },
   "source": [
    "事前のチェックを行います。"
   ]
  },
  {
   "cell_type": "code",
   "execution_count": null,
   "metadata": {
    "hidden": true,
    "pinned_outputs": [],
    "scrolled": false
   },
   "outputs": [],
   "source": [
    "!ansible {target_hub} -CD -b -m lineinfile \\\n",
    "    -a 'dest=/etc/sudoers.d/{teacher_id} create=yes\\\n",
    "        line=\"{teacher_id} ALL=(ALL) NOPASSWD: ALL\"'"
   ]
  },
  {
   "cell_type": "markdown",
   "metadata": {
    "hidden": true
   },
   "source": [
    "実際に設定ファイルの配置を行います。"
   ]
  },
  {
   "cell_type": "code",
   "execution_count": null,
   "metadata": {
    "hidden": true,
    "pinned_outputs": [],
    "scrolled": true
   },
   "outputs": [],
   "source": [
    "!ansible {target_hub} -b -m lineinfile \\\n",
    "    -a 'dest=/etc/sudoers.d/{teacher_id} create=yes\\\n",
    "        line=\"{teacher_id} ALL=(ALL) NOPASSWD: ALL\"'"
   ]
  },
  {
   "cell_type": "markdown",
   "metadata": {
    "hidden": true
   },
   "source": [
    "### Set ansible inventory\n",
    "\n",
    "JupyterHubを構成するマシンを操作するためのインベントリを配布します。"
   ]
  },
  {
   "cell_type": "markdown",
   "metadata": {
    "hidden": true
   },
   "source": [
    "まずは、インベントリ配布するための playbook をチェックモード実行します。"
   ]
  },
  {
   "cell_type": "code",
   "execution_count": null,
   "metadata": {
    "hidden": true,
    "scrolled": true
   },
   "outputs": [],
   "source": [
    "!ansible-playbook -CDv -l {target_hub} \\\n",
    "    -e teacher_id={teacher_id} -e teacher_homedir={teacher_homedir} \\\n",
    "    -e target_hub={target_hub} -e target_nodes={target_nodes} \\\n",
    "    playbooks/deploy-inventory.yml \\\n",
    "    || true"
   ]
  },
  {
   "cell_type": "markdown",
   "metadata": {
    "hidden": true
   },
   "source": [
    "実際にインベントリを構築環境の`~/ansible/inventory`に配布します。"
   ]
  },
  {
   "cell_type": "code",
   "execution_count": null,
   "metadata": {
    "hidden": true,
    "scrolled": true
   },
   "outputs": [],
   "source": [
    "!ansible-playbook -Dv -l {target_hub} \\\n",
    "    -e teacher_id={teacher_id} -e teacher_homedir={teacher_homedir} \\\n",
    "    -e target_hub={target_hub} -e target_nodes={target_nodes} \\\n",
    "    playbooks/deploy-inventory.yml"
   ]
  },
  {
   "cell_type": "markdown",
   "metadata": {
    "hidden": true
   },
   "source": [
    "### JupyterHubユーザの作成\n"
   ]
  },
  {
   "cell_type": "markdown",
   "metadata": {
    "hidden": true
   },
   "source": [
    "初回のユーザー作成ではJupyterHub APIが使用できないので、直接DBを変更してユーザーを登録します。"
   ]
  },
  {
   "cell_type": "markdown",
   "metadata": {
    "hidden": true
   },
   "source": [
    "まず、JupyterHubのユーザテーブルにユーザを追加するための SQL ファイルを作成します。"
   ]
  },
  {
   "cell_type": "code",
   "execution_count": null,
   "metadata": {
    "hidden": true,
    "pinned_outputs": [],
    "scrolled": true
   },
   "outputs": [],
   "source": [
    "import random\n",
    "from datetime import datetime\n",
    "from tempfile import TemporaryDirectory\n",
    "\n",
    "cookie_id = ''.join(random.choices(\"0123456789abcdef\", k=32))\n",
    "with TemporaryDirectory() as tmp_dir:\n",
    "    sql_file = Path(tmp_dir) / ('create_user_{:%Y%m%d_%H%M%S}.sql'.format(datetime.now()))\n",
    "    with sql_file.open(mode='w') as f:\n",
    "        f.write(f'''\n",
    "INSERT INTO users (name, admin, cookie_id, last_activity)\n",
    "  VALUES ('{teacher_id}', TRUE, '{cookie_id}', '{datetime.now().isoformat()}');\n",
    "''')\n",
    "    !cat {str(sql_file)}\n",
    "    !ansible {target_hub} -b -m copy -a 'src={str(sql_file)} dest=/jupyter/psql/init/'"
   ]
  },
  {
   "cell_type": "markdown",
   "metadata": {
    "hidden": true
   },
   "source": [
    "PostgreSQLコンテナのコンテナIDと実行しているホストのIPアドレスを取得します。"
   ]
  },
  {
   "cell_type": "code",
   "execution_count": null,
   "metadata": {
    "hidden": true
   },
   "outputs": [],
   "source": [
    "lines = !ansible {target_hub} -b -a 'docker service ps {{{{ugroup_name}}}}_postgres -q'\n",
    "sid = lines[1]\n",
    "\n",
    "lines = !ansible {target_hub} -b -a \\\n",
    "    'docker inspect --format \"{{% raw %}} {{{{.NodeID}}}} {{{{.Status.ContainerStatus.ContainerID}}}} {{% endraw %}}\" {sid}'\n",
    "nodeid, cid = lines[1].split()\n",
    "print(cid)\n",
    "\n",
    "lines = !ansible {target_hub} -b -a \\\n",
    "    'docker node inspect --format \"{{% raw %}}{{{{.Status.Addr}}}} {{% endraw %}}\" {nodeid}'\n",
    "target_ip = lines[1].split()[0]\n",
    "print(target_ip)"
   ]
  },
  {
   "cell_type": "markdown",
   "metadata": {
    "hidden": true
   },
   "source": [
    "SQLファイルを実行します。"
   ]
  },
  {
   "cell_type": "code",
   "execution_count": null,
   "metadata": {
    "hidden": true
   },
   "outputs": [],
   "source": [
    "!ansible {target_ip} -b -a 'docker exec -i {cid} \\\n",
    "    psql -d {{{{db_name}}}} -U {{{{db_user}}}} -f /docker-entrypoint-initdb.d/{sql_file.name}'"
   ]
  },
  {
   "cell_type": "markdown",
   "metadata": {
    "hidden": true
   },
   "source": [
    "ユーザが登録されたことを確認します。"
   ]
  },
  {
   "cell_type": "code",
   "execution_count": null,
   "metadata": {
    "hidden": true,
    "scrolled": true
   },
   "outputs": [],
   "source": [
    "!ansible {target_ip} -a 'docker exec -i {cid} \\\n",
    "    psql -d {{{{db_name}}}} -U {{{{db_user}}}} -c \"SELECT * FROM users\"'"
   ]
  },
  {
   "cell_type": "markdown",
   "metadata": {
    "hidden": true
   },
   "source": [
    "ローカルユーザーのテーブルにも登録します。 SQLファイルを作成します。"
   ]
  },
  {
   "cell_type": "code",
   "execution_count": null,
   "metadata": {
    "hidden": true
   },
   "outputs": [],
   "source": [
    "from crypt import crypt\n",
    "\n",
    "with TemporaryDirectory() as tmp_dir:\n",
    "    sql2_file = Path(tmp_dir) / ('create_localuser_{:%Y%m%d_%H%M%S}.sql'.format(datetime.now()))\n",
    "    with sql2_file.open(mode='w') as f:\n",
    "        f.write(f'''\n",
    "INSERT INTO local_users VALUES(\n",
    "  nextval('local_users_id_seq'),\n",
    "  '{teacher_id}',\n",
    "  '{crypt(teacher_password)}',\n",
    "  '{teacher_email}'\n",
    ");\n",
    "''')\n",
    "    !ansible {target_hub} -b -m template -a 'src={str(sql2_file)} dest=/jupyter/psql/init/'\n",
    "    !ansible {target_hub} -b -a 'cat /jupyter/psql/init/{str(sql2_file.name)}'"
   ]
  },
  {
   "cell_type": "markdown",
   "metadata": {
    "hidden": true
   },
   "source": [
    "SQLファイルを実行します。"
   ]
  },
  {
   "cell_type": "code",
   "execution_count": null,
   "metadata": {
    "hidden": true
   },
   "outputs": [],
   "source": [
    "!ansible {target_ip} -b -a 'docker exec -i {cid} \\\n",
    "    psql -d {{{{db_name}}}} -U {{{{db_user}}}} -f /docker-entrypoint-initdb.d/{sql2_file.name}'"
   ]
  },
  {
   "cell_type": "markdown",
   "metadata": {
    "hidden": true
   },
   "source": [
    "ユーザ登録のために一時的に作成したSQLファイルを削除します。"
   ]
  },
  {
   "cell_type": "code",
   "execution_count": null,
   "metadata": {
    "hidden": true
   },
   "outputs": [],
   "source": [
    "!ansible {target_hub} -b -m file -a \\\n",
    "    'path=/jupyter/psql/init/{sql_file.name} state=absent'\n",
    "!ansible {target_hub} -b -m file -a \\\n",
    "    'path=/jupyter/psql/init/{sql2_file.name} state=absent'"
   ]
  },
  {
   "cell_type": "markdown",
   "metadata": {
    "heading_collapsed": true
   },
   "source": [
    "## コンテンツの配備の準備\n",
    "\n",
    "CoursewareHubのコンテンツを格納するディレクトリを作成し、コンテンツの配置を行うNotebookを管理者のホームディレクトリに配置します。"
   ]
  },
  {
   "cell_type": "markdown",
   "metadata": {
    "hidden": true
   },
   "source": [
    "実際に設定を変更する前にドライラン（チェックモード）でAnsibleを実行します。"
   ]
  },
  {
   "cell_type": "code",
   "execution_count": null,
   "metadata": {
    "hidden": true,
    "scrolled": true
   },
   "outputs": [],
   "source": [
    "!ansible-playbook -l {target_hub} -CDv -e teacher_id={teacher_id} playbooks/manage-tools.yml"
   ]
  },
  {
   "cell_type": "markdown",
   "metadata": {
    "hidden": true
   },
   "source": [
    "実際に設定変更を行います。"
   ]
  },
  {
   "cell_type": "code",
   "execution_count": null,
   "metadata": {
    "hidden": true,
    "scrolled": true
   },
   "outputs": [],
   "source": [
    "!ansible-playbook -l {target_hub} -e teacher_id={teacher_id} playbooks/manage-tools.yml"
   ]
  },
  {
   "cell_type": "markdown",
   "metadata": {},
   "source": [
    "## SimpleSAMLphpの設定ファイルを更新する\n",
    "\n",
    "構築環境のメタデータに設定されている技術的問い合わせ先などの情報を更新するために SimpleSAMLphpの設定ファイルを編集します。"
   ]
  },
  {
   "cell_type": "markdown",
   "metadata": {},
   "source": [
    "まず、構築環境の auth-proxyコンテナからSimpleSAMLphpの`config.php`をローカル環境に取得します。"
   ]
  },
  {
   "cell_type": "code",
   "execution_count": null,
   "metadata": {
    "scrolled": true
   },
   "outputs": [],
   "source": [
    "Path('./tmp').mkdir(exist_ok=True)\n",
    "work_dir = Path(mkdtemp(dir='./tmp')).absolute()\n",
    "simplesamlphp_config = work_dir / 'config.php'\n",
    "!ansible-playbook -v -e simplesamlphp_config={simplesamlphp_config} -l {target_hub} \\\n",
    "    playbooks/fetch-simplesaml-config.yml"
   ]
  },
  {
   "cell_type": "markdown",
   "metadata": {},
   "source": [
    "次のセルの実行結果に表示されるリンクをクリックすることで、取得した `config.php`の内容を編集することができます。必要な項目を編集してください。技術的問い合わせ先を修正するには以下の項目を変更してください。\n",
    "\n",
    "* `technicalcontact_name`\n",
    "* `technicalcontact_email`\n",
    "\n",
    "> ファイルの編集後にはCtrl-Sなどで編集結果を保存してください。\n",
    "\n",
    "またSimpleSAMLphpの管理者パスワードを設定する以下の項目の設定を変更してください。\n",
    "\n",
    "* `auth.adminpassword`"
   ]
  },
  {
   "cell_type": "code",
   "execution_count": null,
   "metadata": {},
   "outputs": [],
   "source": [
    "from notebook import notebookapp\n",
    "from IPython.display import HTML\n",
    "nb_conf = list(notebookapp.list_running_servers())[0]\n",
    "p = Path(nb_conf['base_url']) / 'edit' / simplesamlphp_config.relative_to(nb_conf['notebook_dir'])\n",
    "HTML(f'<a href={p} target=\"_blank\">{p.name}</a>')"
   ]
  },
  {
   "cell_type": "markdown",
   "metadata": {},
   "source": [
    "ローカル環境で編集した設定ファイル`config.php`を実行環境のauth-proxyコンテナに配置します。"
   ]
  },
  {
   "cell_type": "code",
   "execution_count": null,
   "metadata": {
    "scrolled": true
   },
   "outputs": [],
   "source": [
    "!ansible-playbook -v -e simplesamlphp_config={simplesamlphp_config} -l {target_hub} \\\n",
    "    playbooks/deploy-simplesaml-config.yml"
   ]
  },
  {
   "cell_type": "markdown",
   "metadata": {},
   "source": [
    "次のセルを実行すると表示されるリンク先を表示するとメタデータが表示されます。技術的問い合わせ先などの値が更新されていることを確認してください。"
   ]
  },
  {
   "cell_type": "code",
   "execution_count": null,
   "metadata": {},
   "outputs": [],
   "source": [
    "print(f'https://{master_fqdn}/simplesaml/module.php/saml/sp/metadata.php/default-sp?output=xhtml')"
   ]
  },
  {
   "cell_type": "markdown",
   "metadata": {},
   "source": [
    "作業ディレクトリを削除します。"
   ]
  },
  {
   "cell_type": "code",
   "execution_count": null,
   "metadata": {},
   "outputs": [],
   "source": [
    "!rm -rf {work_dir}"
   ]
  },
  {
   "cell_type": "markdown",
   "metadata": {},
   "source": [
    "## CoursewareHubにアクセスする\n",
    "\n",
    "構築環境にアクセスして、正しく動作していることを確認してください。"
   ]
  },
  {
   "cell_type": "markdown",
   "metadata": {},
   "source": [
    "次のセルを実行すると、構築したCoursewareHubのアドレスを表示します。"
   ]
  },
  {
   "cell_type": "code",
   "execution_count": null,
   "metadata": {},
   "outputs": [],
   "source": [
    "print(f'https://{master_fqdn}')"
   ]
  },
  {
   "cell_type": "markdown",
   "metadata": {},
   "source": [
    "このNotebookで管理者として登録したユーザのsingle-userサーバの環境には、CoursewareHubのコンテンツを配備するためのNotebook「CoursewareHubコンテンツの配備.ipynb」が用意されています。管理者としてCoursewareHubにログインした後に実行してください。\n",
    "\n",
    "> ログイン画面に「学認フェデレーションへ」とのリンクが表示されていますが「331-CoursewareHubの登録を学認へ申請する.ipynb」を実行するまでは、学認IdPを利用したログインは行えません。"
   ]
  }
 ],
 "metadata": {
  "kernelspec": {
   "display_name": "Python 3",
   "language": "python",
   "name": "python3"
  },
  "language_info": {
   "file_extension": ".py",
   "mimetype": "text/x-python",
   "name": "python",
   "nbconvert_exporter": "python",
   "pygments_lexer": "ipython3",
   "version": "3.8.6"
  },
  "toc": {
   "base_numbering": 1,
   "nav_menu": {},
   "number_sections": true,
   "sideBar": true,
   "skip_h1_title": true,
   "title_cell": "Table of Contents",
   "title_sidebar": "Contents",
   "toc_cell": false,
   "toc_position": {},
   "toc_section_display": true,
   "toc_window_display": true
  }
 },
 "nbformat": 4,
 "nbformat_minor": 2
}