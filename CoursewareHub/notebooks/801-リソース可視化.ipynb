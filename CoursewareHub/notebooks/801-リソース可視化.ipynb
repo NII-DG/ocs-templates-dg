{
 "cells": [
  {
   "cell_type": "markdown",
   "metadata": {},
   "source": [
    "# リソース可視化\n",
    "\n",
    "---\n",
    "\n",
    "CoursewareHub環境のリソース利用状況を可視化するためのダッシュボードを Grafana に追加します。"
   ]
  },
  {
   "cell_type": "markdown",
   "metadata": {},
   "source": [
    "## 概要"
   ]
  },
  {
   "cell_type": "markdown",
   "metadata": {},
   "source": [
    "以下に示す３つのダッシュボードをgrafanaに追加し、CoursewareHub環境のリソース利用状況を可視化します。\n",
    "\n",
    "* Note Metrics\n",
    "* System Container Metrics\n",
    "* JupyterHub"
   ]
  },
  {
   "cell_type": "markdown",
   "metadata": {},
   "source": [
    "![構成](images/cw-801-01.png)\n",
    "\n",
    "VCPでは VC Controller(VCC) にgrafanaとprometheusが配備されています。各VCノードで実行しているcadvisorによって取得したメトリクスをVCCのprometheusで収集しています。prometheusに収集されたデータを用いてCoursewareHub環境のリソース利用状況を確認するダッシュボードを登録します。"
   ]
  },
  {
   "cell_type": "markdown",
   "metadata": {},
   "source": [
    "## grafanaダッシュボードの登録\n",
    "\n",
    "VC Controllerに配備されている grafana にダッシュボードを登録します。"
   ]
  },
  {
   "cell_type": "markdown",
   "metadata": {},
   "source": [
    "以下のリンクから grafanaのダッシュボードのjsonファイルを取得することができます。\n",
    "\n",
    "* [Note Metrics](template/grafana/NodeMetrics.json)\n",
    "* [System Container Metrics](template/grafana/SystemContainerMetrics.json)\n",
    "* [JupyterHub](template/grafana/JupyterHub.json)"
   ]
  },
  {
   "cell_type": "markdown",
   "metadata": {},
   "source": [
    "取得したjsonファイルを grafanaの[Create]-[Import]メニューにある[Upload .json File]から登録してください。　"
   ]
  },
  {
   "cell_type": "markdown",
   "metadata": {},
   "source": [
    "ダッシュボードのインポートを行う際にデータソースの選択画面が表示されます。`DS_VCP`にはリストにある`DS_VCP`を選択してください。"
   ]
  }
 ],
 "metadata": {
  "kernelspec": {
   "display_name": "Python 3",
   "language": "python",
   "name": "python3"
  },
  "language_info": {
   "file_extension": ".py",
   "mimetype": "text/x-python",
   "name": "python",
   "nbconvert_exporter": "python",
   "pygments_lexer": "ipython3",
   "version": "3.8.6"
  },
  "toc": {
   "base_numbering": 1,
   "nav_menu": {},
   "number_sections": true,
   "sideBar": true,
   "skip_h1_title": true,
   "title_cell": "Table of Contents",
   "title_sidebar": "Contents",
   "toc_cell": false,
   "toc_position": {},
   "toc_section_display": true,
   "toc_window_display": true
  }
 },
 "nbformat": 4,
 "nbformat_minor": 2
}