{
 "cells": [
  {
   "cell_type": "markdown",
   "metadata": {},
   "source": [
    "# mAPのグループ作成\n",
    "\n",
    "---\n",
    "\n",
    "CoursewareHubの利用者からなる mAP のグループを作成します。"
   ]
  },
  {
   "cell_type": "markdown",
   "metadata": {},
   "source": [
    "## 概要\n",
    "\n",
    "CoursewareHubでは学認mAPのグループ機能を利用してユーザを管理します。このNotebookではmAPグループの作成手順を示します。"
   ]
  },
  {
   "cell_type": "markdown",
   "metadata": {},
   "source": [
    "### 事前準備"
   ]
  },
  {
   "cell_type": "markdown",
   "metadata": {},
   "source": [
    "このNotebookは以下のセットアップが済んでいることを前提としています。\n",
    "\n",
    "* IdP-proxyが構築済されている\n",
    "* IdP-proxyが学認mAPのSPコネクタに登録されている"
   ]
  },
  {
   "cell_type": "markdown",
   "metadata": {},
   "source": [
    "## mAPグループの作成"
   ]
  },
  {
   "cell_type": "markdown",
   "metadata": {},
   "source": [
    "[学認クラウドゲートウェイサービス](https://cg.gakunin.jp/)またはSP検証環境(テストフェデレーションの場合)にアクセスしてグループの作成などを行います。手順の詳細については「[GakuNin mAPマニュアル--グループ管理者](https://meatwiki.nii.ac.jp/confluence/pages/viewpage.action?pageId=20873726)」を参照してください。\n",
    "\n",
    "> テストフェデレーションSP検証環境のアドレスは利用申請後にメールなどで通知されます。"
   ]
  },
  {
   "cell_type": "markdown",
   "metadata": {},
   "source": [
    "### グループの作成\n",
    "\n",
    "学認クラウドゲートウェイのウェブサイトから「グループの作成」を実行してください。"
   ]
  },
  {
   "cell_type": "markdown",
   "metadata": {},
   "source": [
    "![初期画面](images/cw-211-01.png)\n",
    "\n",
    "> キャプチャー画面はテストフェデレーションのものです。"
   ]
  },
  {
   "cell_type": "markdown",
   "metadata": {},
   "source": [
    "グループの作成画面に表示された項目を入力してください。\n",
    "\n",
    "![グループの作成](images/cw-211-02.png)\n",
    "\n",
    "\n",
    "後ほどCoursewareHubのインストールを行う際に、ここで「グループID」として指定した値が必要となります。"
   ]
  },
  {
   "cell_type": "markdown",
   "metadata": {},
   "source": [
    "### SPコネクタとの接続\n",
    "\n",
    "作成したグループをサービス(SPコネクタ)に紐づけ、グループに属するユーザがIdP-proxyサービス(SP)を利用できるようにします。"
   ]
  },
  {
   "cell_type": "markdown",
   "metadata": {},
   "source": [
    "グループとサービス（SPコネクタ）の紐づけは、グループ側からサービスを指定する方法とサービス側（SPコネクタ）からグループを指定して接続する方法があります。ここではグループ管理者がSPコネクタ（サービス）へと接続申請を行う手順を示します。設定方法の詳細については学認クラウドゲートウェイマニュアルの「[サービスを利用する](https://meatwiki.nii.ac.jp/confluence/pages/viewpage.action?pageId=20873789)」を参照してください。また、逆の関連付けとなるSPコネクタからグループ管理者へ接続申請を行う手順については「[SPコネクタの接続申請を審査する](https://meatwiki.nii.ac.jp/confluence/pages/viewpage.action?pageId=20873793)」を参照してください。"
   ]
  },
  {
   "cell_type": "markdown",
   "metadata": {},
   "source": [
    "まず、クラウドゲートウェイの管理者メニューから「利用Webサービス」を選択します。\n",
    "\n",
    "![グループ画面](images/cw-211-03.png)"
   ]
  },
  {
   "cell_type": "markdown",
   "metadata": {},
   "source": [
    "「利用するWebサービスを追加」ボタンを押すと、サービスの一覧が表示されるので「521-IdP-proxyのセットアップ」のNotebookで構築したIdP-proxyに対応するサービスを選択してください。\n",
    "\n",
    "> 「531-IdP-proxyを学認へ申請する」のNotebookでIdP-proxyをSPコネクタとして登録する際に、詳細設定の「Q1 作成するSPコネクタは、検索対象にしますか？」の値を「検索対象としない」と設定した場合はWebサービスの一覧には表示されません。\n",
    "\n",
    "![サービス一覧画面](images/cw-211-04.png)"
   ]
  },
  {
   "cell_type": "markdown",
   "metadata": {},
   "source": [
    "IdP-proxyのサービスを選択して申請を行うと承認待ちの状態となります。自身がSP管理者を兼ねている場合は、承認を行ってください。\n",
    "\n",
    "![承認待ち画面](images/cw-211-05.png)"
   ]
  },
  {
   "cell_type": "markdown",
   "metadata": {},
   "source": [
    "SP管理者から承認されると申請状態が「承認」となります。また申請状態の変化はメールによっても通知されます。\n",
    "\n",
    "![グループ画面](images/cw-211-06.png)"
   ]
  },
  {
   "cell_type": "markdown",
   "metadata": {},
   "source": [
    "### メンバーの招待\n",
    "\n",
    "必要に応じて「メンバー招待」からCoursewareHubの利用者に対してグループへの招待を行ってください。"
   ]
  },
  {
   "cell_type": "markdown",
   "metadata": {},
   "source": [
    "![メンバー招待](images/cw-211-07.png)"
   ]
  }
 ],
 "metadata": {
  "kernelspec": {
   "display_name": "Python 3",
   "language": "python",
   "name": "python3"
  },
  "language_info": {
   "file_extension": ".py",
   "mimetype": "text/x-python",
   "name": "python",
   "nbconvert_exporter": "python",
   "pygments_lexer": "ipython3",
   "version": "3.8.6"
  },
  "toc": {
   "base_numbering": 1,
   "nav_menu": {},
   "number_sections": true,
   "sideBar": true,
   "skip_h1_title": true,
   "title_cell": "Table of Contents",
   "title_sidebar": "Contents",
   "toc_cell": false,
   "toc_position": {},
   "toc_section_display": true,
   "toc_window_display": true
  }
 },
 "nbformat": 4,
 "nbformat_minor": 2
}