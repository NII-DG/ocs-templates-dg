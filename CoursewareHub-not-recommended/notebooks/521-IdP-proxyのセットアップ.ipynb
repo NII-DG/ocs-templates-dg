{
 "cells": [
  {
   "cell_type": "markdown",
   "metadata": {},
   "source": [
    "# IdP-proxyのセットアップ\n",
    "\n",
    "---\n",
    "\n",
    "VCノードに [IdP-proxy](https://github.com/NII-cloud-operation/CoursewareHub-LC_idp-proxy)を構築する。"
   ]
  },
  {
   "cell_type": "markdown",
   "metadata": {},
   "source": [
    "## はじめに"
   ]
  },
  {
   "cell_type": "markdown",
   "metadata": {},
   "source": [
    "### 構成\n",
    "\n",
    "\n",
    "CoursewareHubの構成要素を以下に示します。\n",
    "\n",
    "![構成](images/cw-221-01.png)\n",
    "\n",
    "\n",
    "このNotebookでは上図の `IdP-proxy` を構築します。"
   ]
  },
  {
   "cell_type": "markdown",
   "metadata": {},
   "source": [
    "### 事前に準備が必要となるものについて\n",
    "\n",
    "このNotebookを実行するにあたって、あらかじめ準備が必要となるものについて以下に記します。\n",
    "\n",
    "* IdP-proxyのホスト名(FQDN)\n",
    "* IdP-proxyのサーバ証明書、秘密鍵"
   ]
  },
  {
   "cell_type": "markdown",
   "metadata": {},
   "source": [
    "### ディレクトリ構成\n",
    "\n",
    "このNotebookで構築するIdP-proxyのディレクトリ構成を以下に記します。"
   ]
  },
  {
   "cell_type": "markdown",
   "metadata": {},
   "source": [
    "* `/srv/idp-proxy/`\n",
    "    * `docker-compose.yml`\n",
    "    * `idp-proxy-cert/` 証明書を格納するディレクトリ\n",
    "        - `idp-proxy.cer` SAMLの暗号化、署名に用いる証明書\n",
    "        - `idp-proxy.key` SAMLの暗号化、署名に用いる秘密鍵\n",
    "        - `idp-proxy.chained.cer` httpsのサーバ証明書\n",
    "        - `gakunin-signer.cer` フェデレーションのメタデータ署名の証明書\n",
    "    * `metadata/` メタデータを格納するディレクトリ\n",
    "        - `auth-proxies.xml`"
   ]
  },
  {
   "cell_type": "markdown",
   "metadata": {},
   "source": [
    "## 操作対象の設定\n",
    "\n",
    "操作対象となるAnsibleのグループ名を指定します。"
   ]
  },
  {
   "cell_type": "markdown",
   "metadata": {},
   "source": [
    "### UnitGroup名\n",
    "\n",
    "IdP-proxyの構築環境となるVCPのUnitGroup名を指定します。"
   ]
  },
  {
   "cell_type": "markdown",
   "metadata": {},
   "source": [
    "VCノードを作成時に指定した値を確認するために `group_vars`ファイル名の一覧を表示します。"
   ]
  },
  {
   "cell_type": "code",
   "execution_count": null,
   "metadata": {},
   "outputs": [],
   "source": [
    "!ls -1 group_vars/"
   ]
  },
  {
   "cell_type": "markdown",
   "metadata": {},
   "source": [
    "UnitGroup名を次のセルに指定してください。"
   ]
  },
  {
   "cell_type": "code",
   "execution_count": null,
   "metadata": {},
   "outputs": [],
   "source": [
    "# (例)\n",
    "# target_auth = 'IdPproxy'\n",
    "\n",
    "target_auth = "
   ]
  },
  {
   "cell_type": "markdown",
   "metadata": {
    "heading_collapsed": true
   },
   "source": [
    "### チェック\n",
    "\n",
    "対象となるVCノードがAnsibleによって操作できることを確認します。"
   ]
  },
  {
   "cell_type": "markdown",
   "metadata": {
    "hidden": true
   },
   "source": [
    "Ansibleの設定ファイルの場所を環境変数に設定しておきます。"
   ]
  },
  {
   "cell_type": "code",
   "execution_count": null,
   "metadata": {
    "hidden": true
   },
   "outputs": [],
   "source": [
    "from pathlib import Path\n",
    "import os\n",
    "\n",
    "cfg_ansible = Path('ansible.cfg')\n",
    "if cfg_ansible.exists():\n",
    "    os.environ['ANSIBLE_CONFIG'] = str(cfg_ansible.resolve())"
   ]
  },
  {
   "cell_type": "markdown",
   "metadata": {
    "hidden": true
   },
   "source": [
    "指定されたグループ名で対象となるノードが操作できることを確認します。"
   ]
  },
  {
   "cell_type": "code",
   "execution_count": null,
   "metadata": {
    "hidden": true
   },
   "outputs": [],
   "source": [
    "!ansible {target_auth} -m ping"
   ]
  },
  {
   "cell_type": "markdown",
   "metadata": {
    "hidden": true
   },
   "source": [
    "管理者権限での操作ができることを確認します。"
   ]
  },
  {
   "cell_type": "code",
   "execution_count": null,
   "metadata": {
    "hidden": true
   },
   "outputs": [],
   "source": [
    "!ansible {target_auth} -b -a 'whoami'"
   ]
  },
  {
   "cell_type": "markdown",
   "metadata": {},
   "source": [
    "## パラメータの設定"
   ]
  },
  {
   "cell_type": "markdown",
   "metadata": {},
   "source": [
    "### ホスト名(FQDN)の指定\n",
    "\n",
    "IdP-proxyのホスト名(FQDN)を指定してください。"
   ]
  },
  {
   "cell_type": "code",
   "execution_count": null,
   "metadata": {},
   "outputs": [],
   "source": [
    "# (例)\n",
    "# auth_fqdn = 'idpproxy.example.org'\n",
    "\n",
    "auth_fqdn = "
   ]
  },
  {
   "cell_type": "markdown",
   "metadata": {},
   "source": [
    "### 学認フェデレーション\n",
    "\n",
    "CoursewareHubと連携する学認フェデレーションに関するパラメータを設定します。"
   ]
  },
  {
   "cell_type": "markdown",
   "metadata": {},
   "source": [
    "次のセルで参加するフェデレーションを指定してください。"
   ]
  },
  {
   "cell_type": "code",
   "execution_count": null,
   "metadata": {},
   "outputs": [],
   "source": [
    "# (例)\n",
    "# federation = 'production'  # 運用フェデレーション\n",
    "# federation = 'test'        # テストフェデレーション\n",
    "\n",
    "federation = "
   ]
  },
  {
   "cell_type": "markdown",
   "metadata": {},
   "source": [
    "参加するフェデレーションに応じたサーバとの連携を行います。各フェデレーションのホスト名を以下の表に示します。\n",
    "\n",
    "\n",
    "| | 学認DS(Discovery Service) | クラウドゲートウェイ |\n",
    "|-|--|--|\n",
    "|運用フェデレーション|`ds.gakunin.nii.ac.jp`|`cg.gakunin.jp`|\n",
    "|テストフェデレーション|`test-ds.gakunin.nii.ac.jp`|`sptest.cg.gakunin.jp`|\n"
   ]
  },
  {
   "cell_type": "markdown",
   "metadata": {},
   "source": [
    "上記の表に示した以外のサーバを指定する場合は、次のセルのコメントを外してサーバのホスト名を設定してください。"
   ]
  },
  {
   "cell_type": "code",
   "execution_count": null,
   "metadata": {},
   "outputs": [],
   "source": [
    "# ds_fqdn = 'ds.gakunin.nii.ac.jp'     # 学認DS(Discovery Service)\n",
    "# cg_fqdn = 'cg.gakunin.jp'            # クラウドゲートウェイ"
   ]
  },
  {
   "cell_type": "markdown",
   "metadata": {},
   "source": [
    "### パラメータの保存\n",
    "\n",
    "この章で指定したパラメータの値をファイルに保存します。"
   ]
  },
  {
   "cell_type": "code",
   "execution_count": null,
   "metadata": {},
   "outputs": [],
   "source": [
    "import yaml\n",
    "from pathlib import Path\n",
    "\n",
    "gvars_path = Path(f'group_vars/{target_auth}')\n",
    "with gvars_path.open() as f:\n",
    "    gvars = yaml.safe_load(f)\n",
    "\n",
    "gvars.update({\n",
    "    'auth_fqdn': auth_fqdn,\n",
    "    'federation': federation,\n",
    "})\n",
    "if 'ds_fqdn' in vars():\n",
    "    gvars['ds_fqdn'] = ds_fqdn\n",
    "if 'cg_fqdn' in vars():\n",
    "    gvars['cg_fqdn'] = ds_fqdn\n",
    "\n",
    "with gvars_path.open(mode='w') as f:\n",
    "    yaml.safe_dump(gvars, stream=f)"
   ]
  },
  {
   "cell_type": "markdown",
   "metadata": {},
   "source": [
    "group_vars ファイルの内容を表示して保存されたパラメータを確認します。"
   ]
  },
  {
   "cell_type": "code",
   "execution_count": null,
   "metadata": {},
   "outputs": [],
   "source": [
    "!cat group_vars/{target_auth}"
   ]
  },
  {
   "cell_type": "markdown",
   "metadata": {},
   "source": [
    "## IdP-proxy コンテナの準備"
   ]
  },
  {
   "cell_type": "markdown",
   "metadata": {},
   "source": [
    "### 証明書の配置"
   ]
  },
  {
   "cell_type": "markdown",
   "metadata": {},
   "source": [
    "#### サーバ証明書\n",
    "\n",
    "IdP-proxyコンテナで使用するサーバ証明書の配置を確認します。"
   ]
  },
  {
   "cell_type": "markdown",
   "metadata": {},
   "source": [
    "まず、証明書を配置するディレクトリを作成します。"
   ]
  },
  {
   "cell_type": "code",
   "execution_count": null,
   "metadata": {
    "scrolled": true
   },
   "outputs": [],
   "source": [
    "!ansible {target_auth} -b -m file -a \\\n",
    "    'path={{{{idp_proxy_dir}}}} state=directory owner={{{{ansible_user}}}}'\n",
    "!ansible {target_auth} -b -m file -a \\\n",
    "    'path={{{{idp_proxy_certs_dir}}}} state=directory owner=999 group=997'"
   ]
  },
  {
   "cell_type": "markdown",
   "metadata": {},
   "source": [
    "作成したディレクトリ`/srv/idp-proxy/certs`に証明書、秘密鍵を配置してください。出どころなどの情報を必要以上に残さないためにNotebookからの操作ではなく、ターミナルなどから **VCノードに ssh でログインして操作を行ってください**。\n",
    "\n",
    "配置する証明書などのファイル名は以下のようにしてください。\n",
    "\n",
    "* サーバ証明書\n",
    "    - `/srv/idp-proxy/certs/idp-proxy.cer`\n",
    "* サーバ証明書と中間CA証明書を連結したもの\n",
    "    - `/srv/idp-proxy/certs/idp-proxy.chained.cer`\n",
    "* 秘密鍵\n",
    "    - `/srv/idp-proxy/certs/idp-proxy.key`\n",
    "    - パスフレーズを無しにする"
   ]
  },
  {
   "cell_type": "markdown",
   "metadata": {},
   "source": [
    "sshでログインするVCノードのIPアドレスを確認します。表示されたIPアドレスに対して、ユーザ名`root`と「511-VCノード作成」のNotebookで設定したSSHの秘密鍵を指定することでVCノードにsshでログインできます。"
   ]
  },
  {
   "cell_type": "code",
   "execution_count": null,
   "metadata": {},
   "outputs": [],
   "source": [
    "!ansible {target_auth} -m debug -a 'var=vc_ipaddress'"
   ]
  },
  {
   "cell_type": "markdown",
   "metadata": {},
   "source": [
    "**証明書などの配置を行った後に、これ以降の操作を行ってください。**"
   ]
  },
  {
   "cell_type": "markdown",
   "metadata": {},
   "source": [
    "証明書が配置されていることを確認します。サーバ証明書の内容を表示してみます。"
   ]
  },
  {
   "cell_type": "code",
   "execution_count": null,
   "metadata": {
    "scrolled": true
   },
   "outputs": [],
   "source": [
    "!ansible {target_auth} -b -a \\\n",
    "    'openssl x509 -noout -text -in {{{{idp_proxy_certs_dir}}}}/idp-proxy.cer'"
   ]
  },
  {
   "cell_type": "markdown",
   "metadata": {},
   "source": [
    "秘密鍵の内容を表示してみます。"
   ]
  },
  {
   "cell_type": "code",
   "execution_count": null,
   "metadata": {
    "scrolled": true
   },
   "outputs": [],
   "source": [
    "!ansible {target_auth} -b -a \\\n",
    "    'openssl rsa -noout -text -in {{{{idp_proxy_certs_dir}}}}/idp-proxy.key'"
   ]
  },
  {
   "cell_type": "markdown",
   "metadata": {},
   "source": [
    "中間CA証明書を連結したサーバ証明書の内容を表示してみます。"
   ]
  },
  {
   "cell_type": "code",
   "execution_count": null,
   "metadata": {
    "scrolled": true
   },
   "outputs": [],
   "source": [
    "!ansible {target_auth} -b -a \\\n",
    "    'openssl x509 -noout -text -in {{{{idp_proxy_certs_dir}}}}/idp-proxy.chained.cer'"
   ]
  },
  {
   "cell_type": "markdown",
   "metadata": {},
   "source": [
    "証明書の owner, group などの値を利用環境に合わせて以下のように設定します。\n",
    "\n",
    "* owner: 999\n",
    "* group: 997\n",
    "\n",
    "この設定はコンテナ内では以下のように設定したことに相当します。\n",
    "\n",
    "* owner: `nginx`\n",
    "* group: `nginx`"
   ]
  },
  {
   "cell_type": "code",
   "execution_count": null,
   "metadata": {
    "scrolled": true
   },
   "outputs": [],
   "source": [
    "cert_owner = 999\n",
    "cert_group = 997\n",
    "!ansible {target_auth} -b -m file -a \\\n",
    "    'path={{{{idp_proxy_certs_dir}}}} state=directory \\\n",
    "    owner={cert_owner} group={cert_group}'\n",
    "!ansible {target_auth} -b -m file -a \\\n",
    "    'path={{{{idp_proxy_certs_dir}}}}/idp-proxy.cer \\\n",
    "    owner={cert_owner} group={cert_group}'\n",
    "!ansible {target_auth} -b -m file -a \\\n",
    "    'path={{{{idp_proxy_certs_dir}}}}/idp-proxy.chained.cer \\\n",
    "    owner={cert_owner} group={cert_group}'\n",
    "!ansible {target_auth} -b -m file -a \\\n",
    "    'path={{{{idp_proxy_certs_dir}}}}/idp-proxy.key \\\n",
    "    owner={cert_owner} group={cert_group} mode=0600'"
   ]
  },
  {
   "cell_type": "markdown",
   "metadata": {},
   "source": [
    "#### メタデータ署名証明書の配置\n",
    "\n",
    "メタデータの署名を検証するための証明書を配置します。"
   ]
  },
  {
   "cell_type": "markdown",
   "metadata": {},
   "source": [
    "証明書を配布しているURLを指定してください。"
   ]
  },
  {
   "cell_type": "code",
   "execution_count": null,
   "metadata": {},
   "outputs": [],
   "source": [
    "# 運用フェデレーション\n",
    "# metadata_signer_url = 'https://metadata.gakunin.nii.ac.jp/gakunin-signer-2017.cer'\n",
    "#\n",
    "# テストフェデレーション\n",
    "# metadata_signer_url = 'https://metadata.gakunin.nii.ac.jp/gakunin-test-signer-2020.cer'\n",
    "\n",
    "metadata_signer_url ="
   ]
  },
  {
   "cell_type": "markdown",
   "metadata": {},
   "source": [
    "指定されたURLの証明書を配置します。"
   ]
  },
  {
   "cell_type": "code",
   "execution_count": null,
   "metadata": {
    "scrolled": false
   },
   "outputs": [],
   "source": [
    "!ansible {target_auth} -b -m get_url -a \\\n",
    "    'url={metadata_signer_url} dest={{{{idp_proxy_certs_dir}}}}/gakunin-signer.cer \\\n",
    "    owner={cert_owner} group={cert_group} mode=0644'"
   ]
  },
  {
   "cell_type": "markdown",
   "metadata": {},
   "source": [
    "配置した証明書のFingerprintを表示してみます。\n",
    "\n",
    "参考のため、証明書の fingerprintを記載しているURLを以下に示します。\n",
    "\n",
    "* 運用フェデレーション\n",
    "    - https://meatwiki.nii.ac.jp/confluence/display/GakuNinShibInstall/signer\n",
    "* テストフェデレーション\n",
    "    - https://www.gakunin.jp/join/test/rule"
   ]
  },
  {
   "cell_type": "code",
   "execution_count": null,
   "metadata": {
    "scrolled": true
   },
   "outputs": [],
   "source": [
    "!ansible {target_auth} -b -a \\\n",
    "    'chdir={{{{idp_proxy_certs_dir}}}} \\\n",
    "    openssl x509 -in gakunin-signer.cer -sha256 -fingerprint -noout'"
   ]
  },
  {
   "cell_type": "markdown",
   "metadata": {},
   "source": [
    "### IdP-proxyコンテナのセットアップ\n",
    "\n",
    "証明書以外に IdP-proxyコンテナで必要となるファイルを準備する Ansible Playbook を実行します。"
   ]
  },
  {
   "cell_type": "markdown",
   "metadata": {},
   "source": [
    "この節で実行する Playbook では以下の処理を行います。\n",
    "\n",
    "* コンテナイメージの取得\n",
    "* SimpleSAMLphp のcron実行のためのランダムキーの作成\n",
    "* メタデータディレクトリの準備\n",
    "\n",
    "ここで取得するIdP-proxyのコンテナイメージは[NII-cloud-operation/CoursewareHub-LC_idp-proxy](https://github.com/NII-cloud-operation/CoursewareHub-LC_idp-proxy)をVCP向けにカスタマイズして [VCPのコンテナレジストリ](https://harbor.vcloud.nii.ac.jp/)に格納したものです。VCPでカスタマイズした部分のソースは [./docker/app/idp-proxy](docker/app/idp-proxy/)にあります。"
   ]
  },
  {
   "cell_type": "markdown",
   "metadata": {},
   "source": [
    "まず、実際に設定を変更する前にドライラン（チェックモード）でPlaybookを実行します。\n",
    "\n",
    "> ドライランではメタデータを配置するディレクトリが作成されないため、ファイルの配置でエラーとなりますがこの時点では問題ありません。"
   ]
  },
  {
   "cell_type": "code",
   "execution_count": null,
   "metadata": {
    "scrolled": true
   },
   "outputs": [],
   "source": [
    "!ansible-playbook -l {target_auth} -CDv playbooks/setup-idp-proxy.yml || true"
   ]
  },
  {
   "cell_type": "markdown",
   "metadata": {},
   "source": [
    "実際に設定変更を行います。"
   ]
  },
  {
   "cell_type": "code",
   "execution_count": null,
   "metadata": {
    "scrolled": true
   },
   "outputs": [],
   "source": [
    "!ansible-playbook -l {target_auth} playbooks/setup-idp-proxy.yml"
   ]
  },
  {
   "cell_type": "markdown",
   "metadata": {},
   "source": [
    "IdP-proxyのコンテナイメージが取得できたことを確認します。"
   ]
  },
  {
   "cell_type": "code",
   "execution_count": null,
   "metadata": {},
   "outputs": [],
   "source": [
    "!ansible {target_auth} -m shell -a \\\n",
    "    '/usr/local/bin/docker images | grep idp-proxy'"
   ]
  },
  {
   "cell_type": "markdown",
   "metadata": {},
   "source": [
    "IdP-proxy コンテナのためにセットアップしたディレクトリの状態を確認します。"
   ]
  },
  {
   "cell_type": "code",
   "execution_count": null,
   "metadata": {},
   "outputs": [],
   "source": [
    "!ansible {target_auth} -a 'ls -Rl {{{{idp_proxy_dir}}}}'"
   ]
  },
  {
   "cell_type": "markdown",
   "metadata": {
    "heading_collapsed": true
   },
   "source": [
    "### SP検証環境のメタデータ（テストフェデレーション）\n",
    "\n",
    "テストフェデレーションのSP検証環境メタデータを取得している場合は IdP-proxyへの配置を行います。\n",
    "\n",
    "> SP検証環境のメタデータは利用申請の際に送付されてくるものなので、通常はこの時点でメタデータを取得していません。そのため**この節は実行せずにスキップしてください**。通常は、次に実行する「531-IdP-proxyを学認へ申請する」のNotebookのなかで SP検証環境のメタデータを登録します。\n",
    ">\n",
    "> この節は、既に学認への登録を済ませている IdP-proxy を再構築する場合などに実行することを想定しています。"
   ]
  },
  {
   "cell_type": "markdown",
   "metadata": {
    "hidden": true
   },
   "source": [
    "SP検証環境のメタデータを、このNotebook環境に配置してそのファイル名を次のセルに設定してください。"
   ]
  },
  {
   "cell_type": "code",
   "execution_count": null,
   "metadata": {
    "hidden": true
   },
   "outputs": [],
   "source": [
    "# (例)\n",
    "# sptest_metadata = './sptestcgidp-metadata.xml'\n",
    "\n",
    "sptest_metadata ="
   ]
  },
  {
   "cell_type": "markdown",
   "metadata": {
    "hidden": true
   },
   "source": [
    "SP検証環境のメタデータをIdP-proxyに配置します。"
   ]
  },
  {
   "cell_type": "code",
   "execution_count": null,
   "metadata": {
    "hidden": true
   },
   "outputs": [],
   "source": [
    "if 'sptest_metadata' in vars():\n",
    "    !ansible {target_auth} -b -m copy -a \\\n",
    "        'src={sptest_metadata} dest={{{{idp_proxy_metadata_dir}}}}/cgidp-metadata.xml'"
   ]
  },
  {
   "cell_type": "markdown",
   "metadata": {},
   "source": [
    "## IdP-proxyコンテナの起動"
   ]
  },
  {
   "cell_type": "markdown",
   "metadata": {},
   "source": [
    "### docker-compose.yml の配置\n",
    "\n",
    "`docker-compose.yml`を構築環境に配置します。"
   ]
  },
  {
   "cell_type": "markdown",
   "metadata": {},
   "source": [
    "実際に配置する前に、チェックモードで確認を行います。"
   ]
  },
  {
   "cell_type": "code",
   "execution_count": null,
   "metadata": {
    "scrolled": true
   },
   "outputs": [],
   "source": [
    "!ansible {target_auth} -CDv -m template -a \\\n",
    "    'src=template/idp-proxy/docker-compose.yml dest={{{{idp_proxy_dir}}}}/docker-compose.yml backup=yes'"
   ]
  },
  {
   "cell_type": "markdown",
   "metadata": {},
   "source": [
    "実際に配置を行います。"
   ]
  },
  {
   "cell_type": "code",
   "execution_count": null,
   "metadata": {
    "scrolled": true
   },
   "outputs": [],
   "source": [
    "!ansible {target_auth} -Dv -m template -a \\\n",
    "    'src=template/idp-proxy/docker-compose.yml dest={{{{idp_proxy_dir}}}}/docker-compose.yml backup=yes'"
   ]
  },
  {
   "cell_type": "markdown",
   "metadata": {},
   "source": [
    "### コンテナの起動\n",
    "\n",
    "IdP-proxyコンテナを起動します。"
   ]
  },
  {
   "cell_type": "code",
   "execution_count": null,
   "metadata": {},
   "outputs": [],
   "source": [
    "!ansible {target_auth} -a 'chdir={{{{idp_proxy_dir}}}} \\\n",
    "    docker-compose up -d'"
   ]
  },
  {
   "cell_type": "markdown",
   "metadata": {},
   "source": [
    "コンテナが起動したことを確認します。"
   ]
  },
  {
   "cell_type": "code",
   "execution_count": null,
   "metadata": {},
   "outputs": [],
   "source": [
    "!ansible {target_auth} -a 'chdir={{{{idp_proxy_dir}}}} \\\n",
    "    docker-compose ps'"
   ]
  },
  {
   "cell_type": "markdown",
   "metadata": {},
   "source": [
    "コンテナのログを確認します。"
   ]
  },
  {
   "cell_type": "code",
   "execution_count": null,
   "metadata": {
    "scrolled": true
   },
   "outputs": [],
   "source": [
    "!ansible {target_auth} -a 'chdir={{{{idp_proxy_dir}}}} \\\n",
    "    docker-compose logs --tail=20'"
   ]
  },
  {
   "cell_type": "markdown",
   "metadata": {},
   "source": [
    "### 設定ファイルの更新\n",
    "\n",
    "IdP-proxyコンテナのSimpleSAMLphp設定ファイル`/var/www/simplesamlphp/config/config.php`を編集し、設定内容を更新します。"
   ]
  },
  {
   "cell_type": "markdown",
   "metadata": {},
   "source": [
    "まず、構築環境のIdP-proxyコンテナからSimpleSAMLphpの`config.php`をローカル環境に取得します。"
   ]
  },
  {
   "cell_type": "code",
   "execution_count": null,
   "metadata": {},
   "outputs": [],
   "source": [
    "from tempfile import mkdtemp\n",
    "from pathlib import Path\n",
    "work_dir = Path(mkdtemp(dir='./tmp')).absolute()\n",
    "simplesamlphp_config = work_dir / 'config.php'\n",
    "!ansible-playbook -v -e simplesamlphp_config={simplesamlphp_config} -l {target_auth} \\\n",
    "    playbooks/fetch-idpproxy-ssp-config.yml"
   ]
  },
  {
   "cell_type": "markdown",
   "metadata": {},
   "source": [
    "次のセルの実行結果に表示されるリンクをクリックすることで、取得した `config.php`の内容を編集することができます。必要な項目を編集してください。技術的問い合わせ先を修正するには以下の項目を変更してください。\n",
    "\n",
    "* `technicalcontact_name`\n",
    "* `technicalcontact_email`\n",
    "\n",
    "> ファイルの編集後にはCtrl-Sなどで編集結果を保存してください。\n",
    "\n",
    "またSimpleSAMLphpの管理者パスワードを設定する以下の項目の設定を変更してください。\n",
    "\n",
    "* `auth.adminpassword`"
   ]
  },
  {
   "cell_type": "code",
   "execution_count": null,
   "metadata": {},
   "outputs": [],
   "source": [
    "from notebook import notebookapp\n",
    "from IPython.display import HTML\n",
    "nb_conf = list(notebookapp.list_running_servers())[0]\n",
    "p = Path(nb_conf['base_url']) / 'edit' / simplesamlphp_config.relative_to(nb_conf['notebook_dir'])\n",
    "HTML(f'<a href={p} target=\"_blank\">{p.name}</a>')"
   ]
  },
  {
   "cell_type": "markdown",
   "metadata": {},
   "source": [
    "ローカル環境で編集した設定ファイル`config.php`を実行環境のIdP-proxyコンテナに配置します。"
   ]
  },
  {
   "cell_type": "code",
   "execution_count": null,
   "metadata": {},
   "outputs": [],
   "source": [
    "!ansible-playbook -v -e simplesamlphp_config={simplesamlphp_config} -l {target_auth} \\\n",
    "    playbooks/deploy-idpproxy-ssp-config.yml"
   ]
  },
  {
   "cell_type": "markdown",
   "metadata": {},
   "source": [
    "次のセルを実行すると表示されるリンク先を表示するとIdP-proxyのメタデータが表示されます。技術的問い合わせ先などの値が更新されていることを確認してください。"
   ]
  },
  {
   "cell_type": "code",
   "execution_count": null,
   "metadata": {},
   "outputs": [],
   "source": [
    "print(f'https://{auth_fqdn}/simplesaml/module.php/saml/sp/metadata.php/default-sp?output=xhtml')"
   ]
  },
  {
   "cell_type": "markdown",
   "metadata": {},
   "source": [
    "### SimpleSAMLphp設定ページにアクセスする\n",
    "\n",
    "構築が成功したことを確認するためにIdP-proxyの SimpleSAMLphp設定ページにアクセスします。"
   ]
  },
  {
   "cell_type": "markdown",
   "metadata": {},
   "source": [
    "次のセルを実行すると表示されるリンク先を表示してください。"
   ]
  },
  {
   "cell_type": "code",
   "execution_count": null,
   "metadata": {},
   "outputs": [],
   "source": [
    "print(f'https://{auth_fqdn}/simplesaml/')"
   ]
  },
  {
   "cell_type": "markdown",
   "metadata": {},
   "source": [
    "構築に成功していると、以下のような画面が表示されます。\n",
    "\n",
    "![SimpleSAMLphp](images/cw-521-02.png)\n",
    "\n",
    "なお、テストフェデレーションの場合、上記画面で「連携」タブを選択すると以下のようなエラーが表示されることがあります。\n",
    "\n",
    "```\n",
    "SimpleSAML\\Error\\Error: UNHANDLEDEXCEPTION\n",
    "\n",
    "Backtrace:\n",
    "1 www/_include.php:17 (SimpleSAML_exception_handler)\n",
    "0 [builtin] (N/A)\n",
    "Caused by: Exception: Invalid configuration of the 'metadata.sources' configuration option: Error fetching '/var/www/simplesamlphp/metadata/xml/cgidp-metadata.xml':file_get_contents(/var/www/simplesamlphp/metadata/xml/cgidp-metadata.xml): failed to open stream: No such file or directory\n",
    "```\n",
    "\n",
    "これは、SP検証環境のメタデータ登録をまだ行っていないことが原因です。「531-IdP-proxyを学認へ申請する」のNotebookを実行することで、このエラーは解消されます。"
   ]
  },
  {
   "cell_type": "markdown",
   "metadata": {},
   "source": [
    "### メタデータの確認\n",
    "\n",
    "学認のメタデータが取得できていることを確認します。"
   ]
  },
  {
   "cell_type": "markdown",
   "metadata": {},
   "source": [
    "メタデータファイルが存在していることを確認します。`gakunin-metadata/saml20-idp-remote.php` などのファイルが表示されることを確認してください。"
   ]
  },
  {
   "cell_type": "code",
   "execution_count": null,
   "metadata": {},
   "outputs": [],
   "source": [
    "!ansible {target_auth} -m shell -a 'chdir={{{{idp_proxy_dir}}}} \\\n",
    "    env PATH=\\$PATH:/usr/local/bin \\\n",
    "    docker-compose exec idp-proxy \\\n",
    "    find /var/www/simplesamlphp/metadata'"
   ]
  },
  {
   "cell_type": "markdown",
   "metadata": {},
   "source": [
    "メタデータファイルが存在していない場合は、次のセルを実行すると表示されるリンク先にアクセスしてメタデータの更新を行ってください。\n",
    "\n",
    "> メタデータの更新にはSimpleSAMLphp の管理者としてログインする必要があります。"
   ]
  },
  {
   "cell_type": "code",
   "execution_count": null,
   "metadata": {},
   "outputs": [],
   "source": [
    "print(f'https://{auth_fqdn}/simplesaml/module.php/metarefresh/fetch.php')"
   ]
  }
 ],
 "metadata": {
  "kernelspec": {
   "display_name": "Python 3",
   "language": "python",
   "name": "python3"
  },
  "language_info": {
   "file_extension": ".py",
   "mimetype": "text/x-python",
   "name": "python",
   "nbconvert_exporter": "python",
   "pygments_lexer": "ipython3",
   "version": "3.8.6"
  },
  "toc": {
   "base_numbering": 1,
   "nav_menu": {},
   "number_sections": true,
   "sideBar": true,
   "skip_h1_title": true,
   "title_cell": "Table of Contents",
   "title_sidebar": "Contents",
   "toc_cell": false,
   "toc_position": {},
   "toc_section_display": true,
   "toc_window_display": true
  }
 },
 "nbformat": 4,
 "nbformat_minor": 4
}
