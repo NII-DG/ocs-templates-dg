{
 "cells": [
  {
   "cell_type": "markdown",
   "metadata": {},
   "source": [
    "# ノード電源状態のスケジュールを変更する\n",
    "---\n",
    "\n",
    "workerノードの電源状態スケジュールを変更します。"
   ]
  },
  {
   "cell_type": "markdown",
   "metadata": {},
   "source": [
    "## 電源操作を行うノードの指定\n",
    "\n",
    "電源操作コンテナを実行するノードのansibleグループを指定します。"
   ]
  },
  {
   "cell_type": "markdown",
   "metadata": {},
   "source": [
    "既存のグループ名を確認するために `group_vars`ファイル名の一覧を表示します。"
   ]
  },
  {
   "cell_type": "code",
   "execution_count": null,
   "metadata": {},
   "outputs": [],
   "source": [
    "!ls -1 group_vars/"
   ]
  },
  {
   "cell_type": "markdown",
   "metadata": {},
   "source": [
    "グループ名を指定してください。電源操作コンテナをCoursewareHubのmanagerノードで実行している場合は上記に表示されたグループ名にサフィックス`_manager`を追加してください。"
   ]
  },
  {
   "cell_type": "code",
   "execution_count": null,
   "metadata": {},
   "outputs": [],
   "source": [
    "# (例)\n",
    "# target_group = 'CoursewareHub_manager'\n",
    "# target_group = 'powerctl'\n",
    "\n",
    "target_group = "
   ]
  },
  {
   "cell_type": "markdown",
   "metadata": {
    "heading_collapsed": true
   },
   "source": [
    "### チェック\n",
    "\n",
    "指定されたグループ名が妥当なものであることをチェックします。"
   ]
  },
  {
   "cell_type": "markdown",
   "metadata": {
    "hidden": true
   },
   "source": [
    "指定されたノードにansibleでアクセスできることを確認します。"
   ]
  },
  {
   "cell_type": "code",
   "execution_count": null,
   "metadata": {
    "hidden": true
   },
   "outputs": [],
   "source": [
    "!ansible {target_group} -m ping"
   ]
  },
  {
   "cell_type": "markdown",
   "metadata": {
    "hidden": true
   },
   "source": [
    "スケジュールの設定ファイルが対象ノードに存在していることを確認します。"
   ]
  },
  {
   "cell_type": "code",
   "execution_count": null,
   "metadata": {
    "hidden": true
   },
   "outputs": [],
   "source": [
    "%run scripts/group.py\n",
    "gvars = load_group_vars(target_group)\n",
    "!ansible {target_group} -a 'test -f {gvars[\"power_ctl_dir\"]}/schedule.json'"
   ]
  },
  {
   "cell_type": "markdown",
   "metadata": {},
   "source": [
    "## パラメータの指定\n",
    "\n",
    "ノードの電源操作スケジュールを登録するのに必要となるパラメータを指定します。"
   ]
  },
  {
   "cell_type": "markdown",
   "metadata": {},
   "source": [
    "### VCCアクセストークンの入力"
   ]
  },
  {
   "cell_type": "markdown",
   "metadata": {},
   "source": [
    "VCノードの電源状態を操作するためにVC Controller(VCC)のアクセストークンが必要となります。\n",
    "次のセルを実行すると表示される入力枠にVCCのアクセストークンを入力してください。\n",
    "\n",
    "> アクセストークン入力後に Enter キーを押すことで入力が完了します。"
   ]
  },
  {
   "cell_type": "code",
   "execution_count": null,
   "metadata": {
    "tags": [
     "vcp:skip",
     "vcp:parameters"
    ]
   },
   "outputs": [],
   "source": [
    "from getpass import getpass\n",
    "vcc_access_token = getpass()"
   ]
  },
  {
   "cell_type": "markdown",
   "metadata": {},
   "source": [
    "入力されたアクセストークンが正しいことを、実際にVCCにアクセスして確認します。"
   ]
  },
  {
   "cell_type": "code",
   "execution_count": null,
   "metadata": {
    "pinned_outputs": [],
    "tags": [
     "vcp:rewrite:vcpsdk"
    ]
   },
   "outputs": [],
   "source": [
    "from common import logsetting\n",
    "from vcpsdk.vcpsdk import VcpSDK\n",
    "\n",
    "vcp = VcpSDK(vcc_access_token)"
   ]
  },
  {
   "cell_type": "markdown",
   "metadata": {},
   "source": [
    "上のセルの実行結果がエラーとなり以下のようなメッセージが表示されている場合は、入力されたアクセストークンに誤りがあります。\n",
    "\n",
    "```\n",
    "config vc failed: http_status(403)\n",
    "2021/XX/XX XX:XX:XX UTC: VCPAuthException: xxxxxxx:token lookup is failed: permission denied\n",
    "```\n",
    "\n",
    "エラーになった場合はこの節のセルを全て `unfreeze` してから、もう一度アクセストークンの入力を行ってください。"
   ]
  },
  {
   "cell_type": "markdown",
   "metadata": {},
   "source": [
    "### workerノードの状態変更のスケジュールを指定する\n",
    "\n",
    "それぞれの利用状況ごとに、どのようなノード状態を設定するかを指定します。"
   ]
  },
  {
   "cell_type": "code",
   "execution_count": null,
   "metadata": {},
   "outputs": [],
   "source": [
    "!ansible {target_group} -a 'cat {gvars[\"power_ctl_dir\"]}/schedule.json'"
   ]
  },
  {
   "cell_type": "markdown",
   "metadata": {},
   "source": [
    "#### 授業日\n",
    "\n",
    "授業の曜日を指定してください。"
   ]
  },
  {
   "cell_type": "code",
   "execution_count": null,
   "metadata": {},
   "outputs": [],
   "source": [
    "# (例)\n",
    "# schedule_day_of_week = '月'\n",
    "# schedule_day_of_week = 'Tue'\n",
    "# schedule_day_of_week = 'Wednesday'\n",
    "\n",
    "\n",
    "schedule_day_of_week = "
   ]
  },
  {
   "cell_type": "markdown",
   "metadata": {},
   "source": [
    "#### 授業時間中のノード状態"
   ]
  },
  {
   "cell_type": "markdown",
   "metadata": {},
   "source": [
    "利用状況を「授業時間中」にする開始時間を指定してください。通常は実際の授業開始時刻の３０〜６０分前の時刻を指定します。"
   ]
  },
  {
   "cell_type": "code",
   "execution_count": null,
   "metadata": {},
   "outputs": [],
   "source": [
    "# (例)\n",
    "# schedule_time_0 = '8:30'\n",
    "\n",
    "schedule_time_0 = "
   ]
  },
  {
   "cell_type": "markdown",
   "metadata": {},
   "source": [
    "「授業時間中」における各ノード状態に設定するノード数を指定します。通常は「利用可能」(active)のノード数にworkerノード数を指定し他の状態には0を指定します。現在のworkerノード数を確認するには次のセルを実行してください。"
   ]
  },
  {
   "cell_type": "code",
   "execution_count": null,
   "metadata": {},
   "outputs": [],
   "source": [
    "ug = vcp.get_ugroup(gvars[\"ugroup_name\"])\n",
    "ut = ug.get_unit(\"worker\")\n",
    "worker_count = len(ut.find_nodes())\n",
    "print(worker_count)"
   ]
  },
  {
   "cell_type": "markdown",
   "metadata": {},
   "source": [
    "ノード状態ごとのノード数を指定してください。各状態のノード数の合計がworkerノードに一致するようにしてください。"
   ]
  },
  {
   "cell_type": "code",
   "execution_count": null,
   "metadata": {},
   "outputs": [],
   "source": [
    "# (例)\n",
    "# node_availability_0 = {\n",
    "#     \"active\": 3,    # 利用可能状態のノード数\n",
    "#     \"pause\": 0,     # 新規利用不可状態のノード数\n",
    "#     \"drain\": 0,       # 利用不可状態のノード数\n",
    "# }\n",
    "\n",
    "node_availability_0 = {\n",
    "    \"active\": ,\n",
    "    \"pause\": ,\n",
    "    \"drain\": ,\n",
    "}"
   ]
  },
  {
   "cell_type": "markdown",
   "metadata": {},
   "source": [
    "#### 授業時間後のノード状態"
   ]
  },
  {
   "cell_type": "markdown",
   "metadata": {},
   "source": [
    "利用状況を「授業時間後」にする開始時間を指定してください。通常は実際の授業終了時刻の３０〜６０分後の時刻を指定します。"
   ]
  },
  {
   "cell_type": "code",
   "execution_count": null,
   "metadata": {},
   "outputs": [],
   "source": [
    "# (例)\n",
    "# schedule_time_1 = '11:00'\n",
    "\n",
    "schedule_time_1 = "
   ]
  },
  {
   "cell_type": "markdown",
   "metadata": {},
   "source": [
    "「授業時間後」における各ノード状態に設定するノード数を指定します。通常は、少数の「利用可能」(active)のノード以外は「新規利用不可」(pause)となるようにノード数を指定します。各状態のノード数の合計がworkerノードに一致するようにしてください。"
   ]
  },
  {
   "cell_type": "code",
   "execution_count": null,
   "metadata": {},
   "outputs": [],
   "source": [
    "# (例)\n",
    "# node_availability_1 = {\n",
    "#     \"active\": 1,    # 利用可能状態のノード数\n",
    "#     \"pause\": 2,     # 新規利用不可状態のノード数\n",
    "#     \"drain\": 0,       # 利用不可状態のノード数\n",
    "# }\n",
    "\n",
    "node_availability_1 = {\n",
    "    \"active\": ,\n",
    "    \"pause\": ,\n",
    "    \"drain\": ,\n",
    "}"
   ]
  },
  {
   "cell_type": "markdown",
   "metadata": {},
   "source": [
    "#### 授業時間外のノード状態"
   ]
  },
  {
   "cell_type": "markdown",
   "metadata": {},
   "source": [
    "利用状況を「授業時間外」にする開始時間を指定してください。通常は実際の授業終了時刻の数時間後の時刻を指定します。"
   ]
  },
  {
   "cell_type": "code",
   "execution_count": null,
   "metadata": {},
   "outputs": [],
   "source": [
    "# (例)\n",
    "# schedule_time_2 = '13:00'\n",
    "\n",
    "schedule_time_2 = "
   ]
  },
  {
   "cell_type": "markdown",
   "metadata": {},
   "source": [
    "「授業時間外」における各ノード状態に設定するノード数を指定します。通常は、少数の「利用可能」(active)のノード以外は「利用不可」(drain)となるようにノード数を指定します。各状態のノード数の合計がworkerノードに一致するようにしてください。"
   ]
  },
  {
   "cell_type": "code",
   "execution_count": null,
   "metadata": {},
   "outputs": [],
   "source": [
    "# (例)\n",
    "# node_availability_2 = {\n",
    "#     \"active\": 1,    # 利用可能状態のノード数\n",
    "#     \"pause\": 0,     # 新規利用不可状態のノード数\n",
    "#     \"drain\": 2,       # 利用不可状態のノード数\n",
    "# }\n",
    "\n",
    "node_availability_2 = {\n",
    "    \"active\": ,\n",
    "    \"pause\": ,\n",
    "    \"drain\": ,\n",
    "}"
   ]
  },
  {
   "cell_type": "markdown",
   "metadata": {
    "heading_collapsed": true
   },
   "source": [
    "#### 指定されたパラメータの保存\n",
    "\n",
    "指定されたパラメータをgroup_varsに保存します。"
   ]
  },
  {
   "cell_type": "markdown",
   "metadata": {
    "hidden": true
   },
   "source": [
    "パラメータの保存を行う前に簡単なチェックを行います。"
   ]
  },
  {
   "cell_type": "code",
   "execution_count": null,
   "metadata": {
    "hidden": true
   },
   "outputs": [],
   "source": [
    "import re\n",
    "\n",
    "if schedule_day_of_week.lower() not in [\n",
    "    \"sun\", \"mon\", \"tue\", \"wed\", \"thu\", \"fri\", \"sat\",\n",
    "    \"sunday\", \"monday\", \"tuesday\", \"wednesday\", \"thursday\", \"friday\", \"saturday\",\n",
    "    \"日\", \"月\", \"火\", \"水\", \"木\", \"金\", \"土\",\n",
    "]:\n",
    "    raise RuntimeError(f\"曜日指定が正しくない: {schedule_day_of_week}\")\n",
    "\n",
    "for x in [schedule_time_0, schedule_time_1, schedule_time_2]:\n",
    "    if (re.fullmatch(r\"(?:[01]?\\d|2[0-3]):[0-5]?\\d\", x, re.A) is None):\n",
    "        raise RuntimeError(f\"時刻指定が正しくない: {x}\")\n",
    "\n",
    "for x in [node_availability_0, node_availability_1, node_availability_2]:\n",
    "    if sum(x.values()) != worker_count:\n",
    "        raise RuntimeError(f\"ノード数の合計がworkerノード数と一致していない: {x}\")"
   ]
  },
  {
   "cell_type": "markdown",
   "metadata": {
    "hidden": true
   },
   "source": [
    "group_varsにパラメータを保存します。"
   ]
  },
  {
   "cell_type": "code",
   "execution_count": null,
   "metadata": {
    "hidden": true
   },
   "outputs": [],
   "source": [
    "%run scripts/group.py\n",
    "schedule = [\n",
    "    {\n",
    "        \"schedule\": {\n",
    "            \"day_of_week\": schedule_day_of_week,\n",
    "            \"hour\": int(schedule_time_0.split(\":\", 2)[0]),\n",
    "            \"minute\": int(schedule_time_0.split(\":\", 2)[1]),\n",
    "        },\n",
    "        \"availability\": node_availability_0,\n",
    "    },\n",
    "    {\n",
    "        \"schedule\": {\n",
    "            \"day_of_week\": schedule_day_of_week,\n",
    "            \"hour\": int(schedule_time_1.split(\":\", 2)[0]),\n",
    "            \"minute\": int(schedule_time_1.split(\":\", 2)[1]),\n",
    "        },\n",
    "        \"availability\": node_availability_1,\n",
    "    },\n",
    "    {\n",
    "        \"schedule\": {\n",
    "            \"day_of_week\": schedule_day_of_week,\n",
    "            \"hour\": int(schedule_time_2.split(\":\", 2)[0]),\n",
    "            \"minute\": int(schedule_time_2.split(\":\", 2)[1]),\n",
    "        },\n",
    "        \"availability\": node_availability_2,\n",
    "    },\n",
    "]\n",
    "update_group_vars(\n",
    "    target_group,\n",
    "    power_ctl_schedule=schedule\n",
    ")"
   ]
  },
  {
   "cell_type": "markdown",
   "metadata": {},
   "source": [
    "## 設定ファイルの配置\n",
    "\n",
    "workerノード状態の設定スケジュールを記した設定ファイル`schedule.json`を配置します。"
   ]
  },
  {
   "cell_type": "code",
   "execution_count": null,
   "metadata": {},
   "outputs": [],
   "source": [
    "!ansible {target_group} -m template -a \\\n",
    "    'src=template/power-ctl/schedule.json.j2 dest={{{{power_ctl_dir}}}}/schedule.json backup=true'"
   ]
  },
  {
   "cell_type": "markdown",
   "metadata": {},
   "source": [
    "systemdタイマーは１０分間隔で実行されています。具体的な次の実行タイミングを確認するためにsystemdタイマーの状況を確認します。`NEXT`, `LEFT`の欄を確認してください。"
   ]
  },
  {
   "cell_type": "code",
   "execution_count": null,
   "metadata": {
    "scrolled": true
   },
   "outputs": [],
   "source": [
    "flags = '--user' if not target_group.startswith(gvars[\"ugroup_name\"]) else ''\n",
    "!ansible {target_group} -a 'systemctl {flags} list-timers cwh-worker-node.timer'"
   ]
  },
  {
   "cell_type": "markdown",
   "metadata": {},
   "source": [
    "サービスのログ出力を確認します。"
   ]
  },
  {
   "cell_type": "code",
   "execution_count": null,
   "metadata": {
    "scrolled": true
   },
   "outputs": [],
   "source": [
    "!ansible {target_group} -a 'journalctl {flags} -u cwh-worker-node -n 30'"
   ]
  },
  {
   "cell_type": "markdown",
   "metadata": {},
   "source": [
    "workerノードの現在の電源状態などを確認します。"
   ]
  },
  {
   "cell_type": "code",
   "execution_count": null,
   "metadata": {},
   "outputs": [],
   "source": [
    "ug = vcp.get_ugroup(gvars[\"ugroup_name\"])\n",
    "ut = ug.get_unit(\"worker\")\n",
    "ut.df_nodes()"
   ]
  }
 ],
 "metadata": {
  "kernelspec": {
   "display_name": "Python 3",
   "language": "python",
   "name": "python3"
  },
  "language_info": {
   "file_extension": ".py",
   "mimetype": "text/x-python",
   "name": "python",
   "nbconvert_exporter": "python",
   "pygments_lexer": "ipython3",
   "version": "3.10.4"
  },
  "toc": {
   "base_numbering": 1,
   "nav_menu": {},
   "number_sections": true,
   "sideBar": true,
   "skip_h1_title": true,
   "title_cell": "Table of Contents",
   "title_sidebar": "Contents",
   "toc_cell": false,
   "toc_position": {},
   "toc_section_display": true,
   "toc_window_display": true
  }
 },
 "nbformat": 4,
 "nbformat_minor": 2
}