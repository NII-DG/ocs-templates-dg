{
 "cells": [
  {
   "cell_type": "markdown",
   "metadata": {},
   "source": [
    "# About: パラメータ設定\n",
    "\n",
    "---\n",
    "\n",
    "Moodle環境を構築するのに必要となるパラメータを設定します。"
   ]
  },
  {
   "cell_type": "markdown",
   "metadata": {},
   "source": [
    "## 全体構成\n",
    "\n",
    "VCP SDKを用いてクラウド上に仮想マシンを作成し、そこにMoodle環境を構築します。\n",
    "\n",
    "![moodleの構成](images/moodle-000-01.png)"
   ]
  },
  {
   "cell_type": "markdown",
   "metadata": {},
   "source": [
    "この一連のNotebookではDockerコンテナを用いて[Moodle](https://moodle.org/)環境の構築を行います。\n",
    "\n",
    "構築するMoodle環境は次の３つのコンテナで構成されています。\n",
    "\n",
    "* Moodle\n",
    "  - MoodleのPHPスクリプトを実行するコンテナ\n",
    "* [MariaDB](https://hub.docker.com/_/mariadb/)\n",
    "  - Moodleの設定を保存するデータベース\n",
    "* [Apache HTTP Server](https://hub.docker.com/_/httpd/)\n",
    "  - Moodleサーバに対するリバースプロキシ\n",
    "\n",
    "ここでは小規模構成を想定して３つのコンテナを１つのVCノード（仮想マシン）に配置する構成とします。\n",
    "またMoodleとMariaDBコンテナに対しては、データを保存するためのVCディスク（仮想ディスク）をそれぞれのコンテナに割り当てます。"
   ]
  },
  {
   "cell_type": "markdown",
   "metadata": {},
   "source": [
    "## VCP SDK\n",
    "\n",
    "VCP SDKを利用する際に必要となるパラメータを設定します。\n",
    "\n",
    "![VCP SDK](images/moodle-010-02.png)"
   ]
  },
  {
   "cell_type": "markdown",
   "metadata": {},
   "source": [
    "### VCCアクセストークンの入力\n",
    "\n",
    "VCノードを起動するにはVC Controller(VCC)にアクセスして、操作を行う必要があります。VCCにアクセスするために必要となるアクセストークンをここで入力します。"
   ]
  },
  {
   "cell_type": "markdown",
   "metadata": {},
   "source": [
    "次のセルを実行すると入力枠が表示されるのでアクセストークンの値を入力してください。\n",
    "\n",
    "> アクセストークン入力後に Enter キーを押すことで入力が完了します。"
   ]
  },
  {
   "cell_type": "code",
   "execution_count": null,
   "metadata": {
    "tags": [
     "vcp:skip",
     "vcp:parameters"
    ]
   },
   "outputs": [],
   "source": [
    "from getpass import getpass\n",
    "vcc_access_token = getpass()"
   ]
  },
  {
   "cell_type": "markdown",
   "metadata": {},
   "source": [
    "入力されたアクセストークンが正しいことを、実際にVCCにアクセスして確認します。"
   ]
  },
  {
   "cell_type": "code",
   "execution_count": null,
   "metadata": {
    "tags": [
     "vcp:rewrite:vcpsdk"
    ]
   },
   "outputs": [],
   "source": [
    "from vcpsdk.vcpsdk import VcpSDK\n",
    "vcp = VcpSDK(vcc_access_token)"
   ]
  },
  {
   "cell_type": "markdown",
   "metadata": {},
   "source": [
    "上のセルの実行結果がエラーとなり以下のようなメッセージが表示されている場合は、入力されたアクセストークンに誤りがあります。\n",
    "\n",
    "```\n",
    "config vc failed: http_status(403)\n",
    "2020/XX/XX XX:XX:XX UTC: VCPAuthException: xxxxxxx:token lookup is failed: permission denied\n",
    "```\n",
    "\n",
    "エラーになった場合はこの節のセルを全て `unfreeze` してから、もう一度アクセストークンの入力を行ってください。\n",
    "\n",
    "> `unfreeze`するにはNotebookのツールバーにあるボタン<i class=\"fa-unfreeze fa\"></i>、<i class=\"fa-unfreeze-below-in-section fa\"></i>、<i class=\"fa-unfreeze-below-all fa\"></i> を利用してください。"
   ]
  },
  {
   "cell_type": "markdown",
   "metadata": {},
   "source": [
    "### UnitGroup名の指定\n",
    "\n",
    "このアプリケーションテンプレートで構築するMoodle環境に対して名前を付けます。指定した名前はVCPのUnitGroup名となります。"
   ]
  },
  {
   "cell_type": "markdown",
   "metadata": {},
   "source": [
    "VCPの構成要素は以下のようになっています。\n",
    "\n",
    "* VCノード\n",
    "  - クラウドにおける計算資源(VM/BM)\n",
    "  - 例えば Amazon EC2インスタンス, Microsoft Azure VM など\n",
    "* Unit\n",
    "  - 同質のVCノードにより構成されている要素\n",
    "  - 同じUnitに属するVCノードはCPU,メモリ等の計算資源が全て同じ設定になっている\n",
    "* UnitGroup\n",
    "  - 複数のUnitにより構成されている要素\n",
    "  - 使用目的、ライフサイクルなどに合わせて、複数のUnitをまとめて扱うための要素  "
   ]
  },
  {
   "cell_type": "markdown",
   "metadata": {},
   "source": [
    "VCP SDKで作成した他の環境と区別するために UnitGroupに名前を付けます。UnitGroup名は既存のものと異なる値を指定する必要があります。\n",
    "既存のUnitGroupを確認するために現在のUnitGroupの一覧を表示します。"
   ]
  },
  {
   "cell_type": "code",
   "execution_count": null,
   "metadata": {},
   "outputs": [],
   "source": [
    "vcp.df_ugroups()"
   ]
  },
  {
   "cell_type": "markdown",
   "metadata": {},
   "source": [
    "ここで構築する環境のUnitGroup名を次のセルで指定してください。\n",
    "\n",
    "> UnitGroup名はアルファベットで開始され、その後に英数字またはアンダースコア`_`からなる文字列を指定してください。"
   ]
  },
  {
   "cell_type": "code",
   "execution_count": null,
   "metadata": {
    "tags": [
     "vcp:skip",
     "vcp:parameters"
    ]
   },
   "outputs": [],
   "source": [
    "# (例)\n",
    "# ugroup_name = 'Moodle'\n",
    "\n",
    "ugroup_name = "
   ]
  },
  {
   "cell_type": "markdown",
   "metadata": {
    "heading_collapsed": true
   },
   "source": [
    "### パラメータの保存\n",
    "\n",
    "この章で指定したパラメータの値をファイルに保存します。"
   ]
  },
  {
   "cell_type": "markdown",
   "metadata": {
    "hidden": true
   },
   "source": [
    "後の手順でVCノードに対する操作を、構成管理ツールの[Ansible](https://www.ansible.com/)で行います。そこで、パラメータの保存形式は `Ansible` のフォーマットに従うことにします。Ansible では `group_vars/`というディレクトリに YAML フォーマットのファイルを配置すると、そのファイルに記録されている値を変数として利用することができます。このNotebookでは `group_vars/` にあるファイルを `group_vars ファイル`と呼ぶことにします。"
   ]
  },
  {
   "cell_type": "markdown",
   "metadata": {
    "hidden": true
   },
   "source": [
    "値の保存を行う前に、入力されたパラメータに対して簡易なチェックを行います。エラーになった場合はその後に表示される指示に従ってください。"
   ]
  },
  {
   "cell_type": "code",
   "execution_count": null,
   "metadata": {
    "hidden": true
   },
   "outputs": [],
   "source": [
    "%run scripts/utils.py\n",
    "\n",
    "check_parameters(\n",
    "    'ugroup_name',\n",
    "    params={'vcp': vcp},\n",
    "    nb_vars=locals(),\n",
    ")"
   ]
  },
  {
   "cell_type": "markdown",
   "metadata": {
    "hidden": true
   },
   "source": [
    "次のセルを実行すると、この章で指定したパラメータが group_vars ファイルに保存されます。"
   ]
  },
  {
   "cell_type": "code",
   "execution_count": null,
   "metadata": {
    "hidden": true
   },
   "outputs": [],
   "source": [
    "%run scripts/group.py\n",
    "from pathlib import Path\n",
    "\n",
    "update_group_vars(\n",
    "    ugroup_name,\n",
    "    ugroup_name=ugroup_name,\n",
    ")"
   ]
  },
  {
   "cell_type": "markdown",
   "metadata": {
    "hidden": true
   },
   "source": [
    "`group_vars`ファイルの内容を確認してみます。"
   ]
  },
  {
   "cell_type": "code",
   "execution_count": null,
   "metadata": {
    "hidden": true
   },
   "outputs": [],
   "source": [
    "!cat group_vars/{ugroup_name}.yml"
   ]
  },
  {
   "cell_type": "markdown",
   "metadata": {},
   "source": [
    "## VCノード\n",
    "\n",
    "Moodle環境を構築するVCノード（仮想マシン）に関するパラメータを指定します。\n",
    "\n",
    "![VCノード設定](images/moodle-010-03.png)"
   ]
  },
  {
   "cell_type": "markdown",
   "metadata": {},
   "source": [
    "### クラウドプロバイダの指定\n",
    "\n",
    "VCノードを起動するプロバイダを選択します。"
   ]
  },
  {
   "cell_type": "code",
   "execution_count": null,
   "metadata": {
    "tags": [
     "vcp:skip",
     "vcp:parameters"
    ]
   },
   "outputs": [],
   "source": [
    "# (例)\n",
    "# vc_provider = 'aws'\n",
    "# vc_provider = 'azure'\n",
    "\n",
    "vc_provider = "
   ]
  },
  {
   "cell_type": "markdown",
   "metadata": {},
   "source": [
    "### VCノードに割り当てるリソース量の指定\n",
    "\n",
    "\n",
    "VCノードに割り当てるリソース量を`spec`オブジェクトに指定します。"
   ]
  },
  {
   "cell_type": "markdown",
   "metadata": {},
   "source": [
    "VCノードの`spec`オブジェクトに対して全てのパラメータを毎回設定するのは煩雑です。そのためVCP SDKでは典型的な構成のパラメータセットを事前に定義してあります。事前に定義した`spec`パラメータセットのことを`flavor`と呼び、`spec`を作成する際に指定することになっています。\n",
    "\n",
    "`spec`に設定できるパラメータはクラウドプロバイダ毎に異なるので 各`flavor`に対応するパラメータの値もプロバイダ毎に定義されています。\n",
    "次のセルを実行すると `vc_provider` に設定したプロバイダに対応する `flavor` の一覧が表示されます。"
   ]
  },
  {
   "cell_type": "code",
   "execution_count": null,
   "metadata": {},
   "outputs": [],
   "source": [
    "vcp.df_flavors(vc_provider)"
   ]
  },
  {
   "cell_type": "markdown",
   "metadata": {},
   "source": [
    "表示された `flavor` の値から一つを選択して、次のセルに指定してください。"
   ]
  },
  {
   "cell_type": "code",
   "execution_count": null,
   "metadata": {
    "tags": [
     "vcp:skip",
     "vcp:parameters"
    ]
   },
   "outputs": [],
   "source": [
    "# (例)\n",
    "# vc_flavor = 'small'\n",
    "\n",
    "vc_flavor = "
   ]
  },
  {
   "cell_type": "markdown",
   "metadata": {},
   "source": [
    "`flavor`に設定されている以外のインスタンスタイプ(VMタイプ)を指定したい場合は、次のセルで`vc_vm_type`の値を指定してください。\n",
    "\n",
    "> AWS, Azure の場合の設定例をコメントに記しています。必要に応じてコメントを外して設定を行ってください。"
   ]
  },
  {
   "cell_type": "code",
   "execution_count": null,
   "metadata": {
    "tags": [
     "vcp:parameters"
    ]
   },
   "outputs": [],
   "source": [
    "# (例)\n",
    "# vc_vm_type = 'm5.large'          # AWS\n",
    "# vc_vm_type = 'Standard_D4_v3'    # Azure"
   ]
  },
  {
   "cell_type": "markdown",
   "metadata": {},
   "source": [
    "### IPアドレスの指定\n",
    "\n",
    "Moodleを実行するVCノードはHTTPサーバとなるので、事前に定めたIPアドレスを割り当てたほうが構築しやすくなります。\n",
    "ここではVCノードのIPアドレスを指定します。"
   ]
  },
  {
   "cell_type": "markdown",
   "metadata": {},
   "source": [
    "まず指定可能なIPアドレスの範囲を確認します。次のセルを実行するとVCノードに割り当て可能なIPアドレスの範囲が表示されます。"
   ]
  },
  {
   "cell_type": "code",
   "execution_count": null,
   "metadata": {},
   "outputs": [],
   "source": [
    "print(vcp.get_vpn_catalog(vc_provider).get('private_network_ipmask'))"
   ]
  },
  {
   "cell_type": "markdown",
   "metadata": {},
   "source": [
    "次のセルでVCノードに割り当てる （プライベート）IPアドレスを指定してください。"
   ]
  },
  {
   "cell_type": "code",
   "execution_count": null,
   "metadata": {
    "tags": [
     "vcp:skip",
     "vcp:parameters"
    ]
   },
   "outputs": [],
   "source": [
    "# (例)\n",
    "# vc_moodle_ipaddress = '172.30.2.100'\n",
    "\n",
    "vc_moodle_ipaddress = "
   ]
  },
  {
   "cell_type": "markdown",
   "metadata": {},
   "source": [
    "### SSH公開鍵認証の鍵ファイルの指定\n",
    "\n",
    "起動したVCノードにsshでログインして操作を行うために、事前にSSH公開鍵認証の公開鍵を登録する必要があります。"
   ]
  },
  {
   "cell_type": "markdown",
   "metadata": {},
   "source": [
    "VCノードに登録するSSHの公開鍵ファイルのパスを次のセルで指定してください。"
   ]
  },
  {
   "cell_type": "code",
   "execution_count": null,
   "metadata": {
    "tags": [
     "vcp:skip",
     "vcp:parameters"
    ]
   },
   "outputs": [],
   "source": [
    "# (例)\n",
    "# ssh_public_key_path = '~/.ssh/id_rsa.pub'\n",
    "\n",
    "ssh_public_key_path = "
   ]
  },
  {
   "cell_type": "markdown",
   "metadata": {},
   "source": [
    "公開鍵に対応する秘密鍵のパスを次のセルで指定してください。"
   ]
  },
  {
   "cell_type": "code",
   "execution_count": null,
   "metadata": {
    "tags": [
     "vcp:skip",
     "vcp:parameters"
    ]
   },
   "outputs": [],
   "source": [
    "# (例)\n",
    "# ssh_private_key_path = '~/.ssh/id_rsa'\n",
    "\n",
    "ssh_private_key_path = "
   ]
  },
  {
   "cell_type": "markdown",
   "metadata": {
    "heading_collapsed": true
   },
   "source": [
    "### パラメータの保存\n",
    "\n",
    "この章で指定したパラメータの値をファイルに保存します。"
   ]
  },
  {
   "cell_type": "markdown",
   "metadata": {
    "hidden": true
   },
   "source": [
    "値の保存を行う前に、入力されたパラメータに対して簡易なチェックを行います。エラーになった場合はその後に表示される指示に従ってください。"
   ]
  },
  {
   "cell_type": "code",
   "execution_count": null,
   "metadata": {
    "hidden": true
   },
   "outputs": [],
   "source": [
    "%run scripts/utils.py\n",
    "\n",
    "check_parameters(\n",
    "    'vc_provider',\n",
    "    'vc_flavor',\n",
    "    'vc_moodle_ipaddress',\n",
    "    'ssh_public_key_path',\n",
    "    'ssh_private_key_path',\n",
    "    params={'vcp': vcp},\n",
    "    nb_vars=locals(),\n",
    ")"
   ]
  },
  {
   "cell_type": "markdown",
   "metadata": {
    "hidden": true
   },
   "source": [
    "次のセルを実行すると、この章で指定したパラメータが group_vars ファイルに保存されます。"
   ]
  },
  {
   "cell_type": "code",
   "execution_count": null,
   "metadata": {
    "hidden": true
   },
   "outputs": [],
   "source": [
    "%run scripts/group.py\n",
    "\n",
    "update_group_vars(\n",
    "    ugroup_name,\n",
    "    vc_provider=vc_provider,\n",
    "    vc_flavor=vc_flavor,\n",
    "    vc_moodle_ipaddress=vc_moodle_ipaddress,\n",
    "    ssh_public_key_path=str(ssh_public_key_path),\n",
    "    ssh_private_key_path=str(ssh_private_key_path),\n",
    ")\n",
    "if 'vc_vm_type' in vars():\n",
    "    update_group_vars(ugroup_name, vc_vm_type=vc_vm_type)"
   ]
  },
  {
   "cell_type": "markdown",
   "metadata": {
    "hidden": true
   },
   "source": [
    "ここまでに保存したパラメータを確認するために group_vars ファイルの内容を表示します。"
   ]
  },
  {
   "cell_type": "code",
   "execution_count": null,
   "metadata": {
    "hidden": true
   },
   "outputs": [],
   "source": [
    "!cat group_vars/{ugroup_name}.yml"
   ]
  },
  {
   "cell_type": "markdown",
   "metadata": {},
   "source": [
    "## Moodle\n",
    "Moodleのバージョン等の、直接Moodleに関わるパラメータを指定します。\n",
    "\n",
    "![Moodle設定](images/moodle-010-04.png)"
   ]
  },
  {
   "cell_type": "markdown",
   "metadata": {},
   "source": [
    "指定するパラメータのうちMoodleの管理者パスワードについては秘密情報となるので、ローカル環境（Notebook環境）には保存せず、VCCが提供している HashiCorp Vault に保存します。HashiCorp Vault は秘密情報を保存するための Key Valueストアです。保持する情報は暗号化されます。\n",
    "\n",
    "秘密情報ではないその他のパラメータについては、前章と同様にローカル環境の group_vars ファイルに記録します。"
   ]
  },
  {
   "cell_type": "markdown",
   "metadata": {},
   "source": [
    "### Moodleのバージョン\n",
    "\n",
    "インストールするMoodleの[バージョン](https://docs.moodle.org/dev/Releases)を指定します。\n",
    "\n",
    "> ここで指定される値は[Gitのタグ名](https://github.com/moodle/moodle/tags)であることを想定しています。そのため、必ず先頭に `v` を付けてください。 "
   ]
  },
  {
   "cell_type": "code",
   "execution_count": null,
   "metadata": {
    "tags": [
     "vcp:skip",
     "vcp:parameters"
    ]
   },
   "outputs": [],
   "source": [
    "# (例)\n",
    "# moodle_version = 'v3.9.9'\n",
    "# moodle_version = 'v3.11.2'\n",
    "# moodle_version = 'v3.10.6'\n",
    "\n",
    "moodle_version = "
   ]
  },
  {
   "cell_type": "markdown",
   "metadata": {},
   "source": [
    "### Moodleの管理者ユーザ名\n",
    "\n",
    "Moodleの管理者ユーザ名を指定します。"
   ]
  },
  {
   "cell_type": "markdown",
   "metadata": {},
   "source": [
    "> Moodleのユーザ名に指定できる文字は、小文字英数字と`_`, `-`, `@`, `.`です。"
   ]
  },
  {
   "cell_type": "code",
   "execution_count": null,
   "metadata": {
    "tags": [
     "vcp:parameters"
    ]
   },
   "outputs": [],
   "source": [
    "# (例)\n",
    "# moodle_admin_name = 'admin'\n",
    "\n",
    "moodle_admin_name = 'admin'"
   ]
  },
  {
   "cell_type": "markdown",
   "metadata": {},
   "source": [
    "### Moodleの管理者パスワード"
   ]
  },
  {
   "cell_type": "markdown",
   "metadata": {},
   "source": [
    "Moodleの管理者ユーザのパスワードを次のセルで指定してください。\n",
    "\n",
    "> 自明なパスワード（`admin`　または空文字）を設定することはできません。 "
   ]
  },
  {
   "cell_type": "code",
   "execution_count": null,
   "metadata": {
    "tags": [
     "vcp:skip",
     "vcp:parameters"
    ]
   },
   "outputs": [],
   "source": [
    "from getpass import getpass\n",
    "moodle_admin_password = getpass()"
   ]
  },
  {
   "cell_type": "markdown",
   "metadata": {},
   "source": [
    "### Moodleのコンテナイメージ\n",
    "\n",
    "Moodleコンテナのイメージ名を指定してください。"
   ]
  },
  {
   "cell_type": "markdown",
   "metadata": {},
   "source": [
    "指定できる値を以下に示します。\n",
    "\n",
    "* harbor.vcloud.nii.ac.jp/vcp/moodle:php74\n",
    "* harbor.vcloud.nii.ac.jp/vcp/moodle:php73\n",
    "\n",
    "上記のコンテナイメージはインストールされているPHPのバージョンが異なります。それぞれ PHP 7.4, PHP 7.3 がインストールされています。"
   ]
  },
  {
   "cell_type": "code",
   "execution_count": null,
   "metadata": {
    "tags": [
     "vcp:rewrite:docker_registry",
     "vcp:parameters"
    ]
   },
   "outputs": [],
   "source": [
    "moodle_image_name = 'harbor.vcloud.nii.ac.jp/vcp/moodle:php74'"
   ]
  },
  {
   "cell_type": "markdown",
   "metadata": {},
   "source": [
    "### Moodleのディスクサイズ"
   ]
  },
  {
   "cell_type": "markdown",
   "metadata": {},
   "source": [
    "このNotebookで構築する環境では、Moodleコンテナ用に専用のディスクを用意します。ディスクに割り当てるサイズ(GB)を次のセルで指定してください。"
   ]
  },
  {
   "cell_type": "code",
   "execution_count": null,
   "metadata": {
    "tags": [
     "vcp:skip",
     "vcp:parameters"
    ]
   },
   "outputs": [],
   "source": [
    "# (例)\n",
    "# moodle_disk_size = 100\n",
    "\n",
    "moodle_disk_size = "
   ]
  },
  {
   "cell_type": "markdown",
   "metadata": {},
   "source": [
    "### Moodleのボリュームサイズ"
   ]
  },
  {
   "cell_type": "markdown",
   "metadata": {},
   "source": [
    "このNotebookで構築する環境ではディスクを直接利用するのではなく、LVMを用いて用途ごとに論理ボリューム(LV)を作成してそのボリュームを利用するようにします。また、作成する論理ボリュームは全てシンプロビジョニングされたものとします。そのため論理ボリュームの容量は、実際のディスク容量に依存しない仮想化した値を設定できます。\n",
    "\n",
    "Moodle用のディスクでは、データ(moodledata)とPHPファイルを格納する論理ボリュームを作成します。それぞれのボリュームサイズを指定してください。"
   ]
  },
  {
   "cell_type": "markdown",
   "metadata": {},
   "source": [
    "データ(moodledata)用論理ボリュームのサイズ(GB)を指定してください。"
   ]
  },
  {
   "cell_type": "code",
   "execution_count": null,
   "metadata": {
    "tags": [
     "vcp:skip",
     "vcp:parameters"
    ]
   },
   "outputs": [],
   "source": [
    "# (例)\n",
    "# moodle_volume_data_size = 100\n",
    "\n",
    "moodle_volume_data_size = "
   ]
  },
  {
   "cell_type": "markdown",
   "metadata": {},
   "source": [
    "MoodleのPHPファイル用論理ボリュームのサイズ(GB)を指定してください。"
   ]
  },
  {
   "cell_type": "code",
   "execution_count": null,
   "metadata": {
    "tags": [
     "vcp:skip",
     "vcp:parameters"
    ]
   },
   "outputs": [],
   "source": [
    "# (例)\n",
    "# moodle_volume_php_size = 5\n",
    "\n",
    "moodle_volume_php_size = "
   ]
  },
  {
   "cell_type": "markdown",
   "metadata": {},
   "source": [
    "### Moodleボリュームの暗号化\n",
    "\n",
    "必要に応じてMoodleボリュームに対して [LUKS](https://gitlab.com/cryptsetup/cryptsetup) を用いた暗号化を行うことができます。"
   ]
  },
  {
   "cell_type": "markdown",
   "metadata": {},
   "source": [
    "暗号化を行う場合は次のセルで`moodle_volume_encrypt` の値を `True` に設定してください。ボリュームの暗号化を行わない場合は `False` を設定してください。"
   ]
  },
  {
   "cell_type": "code",
   "execution_count": null,
   "metadata": {
    "tags": [
     "vcp:skip",
     "vcp:parameters"
    ]
   },
   "outputs": [],
   "source": [
    "# (例)\n",
    "# moodle_volume_encrypt = True   # 暗号化する場合\n",
    "# moodle_volume_encrypt = False  # 暗号化しない場合\n",
    "\n",
    "moodle_volume_encrypt = "
   ]
  },
  {
   "cell_type": "markdown",
   "metadata": {},
   "source": [
    "ボリュームの暗号化を行う場合はキーの生成を行います。"
   ]
  },
  {
   "cell_type": "code",
   "execution_count": null,
   "metadata": {},
   "outputs": [],
   "source": [
    "if moodle_volume_encrypt:\n",
    "    from secrets import token_bytes\n",
    "    from base64 import b64encode\n",
    "    \n",
    "    moodle_volume_key = b64encode(token_bytes(256))"
   ]
  },
  {
   "cell_type": "markdown",
   "metadata": {},
   "source": [
    "### MoodleのURL\n",
    "\n",
    "MoodleではサイトのURLを`config.php`の`$CFG->wwwroot`に設定する必要があります。構築対象のURLを指定してください。"
   ]
  },
  {
   "cell_type": "code",
   "execution_count": null,
   "metadata": {
    "tags": [
     "vcp:skip",
     "vcp:parameters"
    ]
   },
   "outputs": [],
   "source": [
    "# (例)\n",
    "# moodle_url = 'https://moodle.example.org'\n",
    "\n",
    "moodle_url = "
   ]
  },
  {
   "cell_type": "markdown",
   "metadata": {
    "heading_collapsed": true
   },
   "source": [
    "### パラメータの保存\n",
    "\n",
    "この章で指定したパラメータの値をファイルに保存します。"
   ]
  },
  {
   "cell_type": "markdown",
   "metadata": {
    "hidden": true
   },
   "source": [
    "内容によって異なる場所に保存します。パスワード以外の秘密情報ではないパラメータについては前の章と同様にJupyter Notebook環境内の group_vars ファイルに保存します。パスワード等の秘密情報については、より安全度の高いVCCのVaultサーバに保存します。"
   ]
  },
  {
   "cell_type": "markdown",
   "metadata": {
    "hidden": true
   },
   "source": [
    "値の保存を行う前に、入力されたパラメータに対して簡易なチェックを行います。エラーになった場合はその後に表示される指示に従ってください。"
   ]
  },
  {
   "cell_type": "code",
   "execution_count": null,
   "metadata": {
    "hidden": true
   },
   "outputs": [],
   "source": [
    "%run scripts/utils.py\n",
    "\n",
    "check_parameters(\n",
    "    'moodle_version',\n",
    "    'moodle_admin_name',\n",
    "    'moodle_admin_password',\n",
    "    'moodle_image_name',\n",
    "    'moodle_disk_size',\n",
    "    'moodle_volume_data_size',\n",
    "    'moodle_volume_php_size',\n",
    "    'moodle_volume_encrypt',\n",
    "    'moodle_url',\n",
    "    params={'vcp': vcp},\n",
    "    nb_vars=locals(),\n",
    ")"
   ]
  },
  {
   "cell_type": "markdown",
   "metadata": {
    "hidden": true
   },
   "source": [
    "#### MoodleパラメータのVaultサーバへの保存\n",
    "\n",
    "Moodleの管理者パスワードをVCCのVaultサーバに保存します。"
   ]
  },
  {
   "cell_type": "markdown",
   "metadata": {
    "hidden": true
   },
   "source": [
    "Vaultサーバ内の保存場所のパスを指定します。\n",
    "\n",
    "> 他の秘密情報の保存場所と重複しないようにするために UnitGroup 名をパスに含めています。"
   ]
  },
  {
   "cell_type": "code",
   "execution_count": null,
   "metadata": {
    "hidden": true,
    "tags": [
     "vcp:parameters"
    ]
   },
   "outputs": [],
   "source": [
    "moodle_vault_path = f'cubbyhole/{ugroup_name}/moodle/admin'\n",
    "print(moodle_vault_path)"
   ]
  },
  {
   "cell_type": "markdown",
   "metadata": {
    "hidden": true
   },
   "source": [
    "Vaultサーバに秘密情報を保存します。\n",
    "\n",
    "> 次のセルでは Vault の REST API を呼び出すために Python の requests ライブラリを利用しています。Vaultサーバの REST APIや requests ライブラリの簡単な利用法については vcp tutorialの[「102-秘密情報管理サーバの利用.ipynb」](https://github.com/nii-gakunin-cloud/handson/blob/master/handson201902-vcp/102-%E7%A7%98%E5%AF%86%E6%83%85%E5%A0%B1%E7%AE%A1%E7%90%86%E3%82%B5%E3%83%BC%E3%83%90%E3%81%AE%E5%88%A9%E7%94%A8.ipynb) を参照してください。"
   ]
  },
  {
   "cell_type": "code",
   "execution_count": null,
   "metadata": {
    "hidden": true
   },
   "outputs": [],
   "source": [
    "import requests\n",
    "import time\n",
    "\n",
    "# 保存するパラメータを１つの dict にまとめる\n",
    "payload = {\n",
    "    'password': moodle_admin_password,\n",
    "}\n",
    "if moodle_volume_encrypt:\n",
    "    payload['moodle_volume_key'] = moodle_volume_key\n",
    "    payload['moodle_volume_key_' + time.strftime(\"%Y%m%d%H%M%S\")] = moodle_volume_key\n",
    "\n",
    "# Vault サーバのURLを組み立てる\n",
    "url = f'{vcp.vcc_info()[\"vault_url\"]}/v1/{moodle_vault_path}'\n",
    "print(url)\n",
    "\n",
    "# VaultサーバのアクセストークンをHTTPヘッダに設定する\n",
    "custom_headers = {\n",
    "    'X-Vault-Token': vcc_access_token,\n",
    "}\n",
    "\n",
    "r = requests.post(url, headers=custom_headers, json=payload)\n",
    "r"
   ]
  },
  {
   "cell_type": "markdown",
   "metadata": {
    "hidden": true
   },
   "source": [
    "Vaultサーバへの値の保存が成功すると　`<Response [204]>` と表示されます。"
   ]
  },
  {
   "cell_type": "markdown",
   "metadata": {
    "hidden": true
   },
   "source": [
    "#### group_vars ファイルへの保存\n",
    "\n",
    "秘密情報以外のパラメータを`group_vars`ファイルに保存します。"
   ]
  },
  {
   "cell_type": "markdown",
   "metadata": {
    "hidden": true
   },
   "source": [
    "Vaultサーバの保存先パスが設定されていることを確認します。"
   ]
  },
  {
   "cell_type": "code",
   "execution_count": null,
   "metadata": {
    "hidden": true
   },
   "outputs": [],
   "source": [
    "%run scripts/utils.py\n",
    "\n",
    "check_parameters(\n",
    "    'moodle_vault_path',\n",
    "    params={'vcp': vcp},\n",
    "    nb_vars=locals(),\n",
    ")"
   ]
  },
  {
   "cell_type": "markdown",
   "metadata": {
    "hidden": true
   },
   "source": [
    "次のセルを実行すると、この章で指定した秘密情報以外のパラメータが group_vars ファイルに保存されます。"
   ]
  },
  {
   "cell_type": "code",
   "execution_count": null,
   "metadata": {
    "hidden": true
   },
   "outputs": [],
   "source": [
    "%run scripts/group.py\n",
    "\n",
    "update_group_vars(\n",
    "    ugroup_name,\n",
    "    moodle_version=moodle_version,\n",
    "    moodle_admin_name=moodle_admin_name,\n",
    "    moodle_image_name=moodle_image_name,\n",
    "    moodle_disk_size=moodle_disk_size,\n",
    "    moodle_volume_data_size=moodle_volume_data_size,\n",
    "    moodle_volume_php_size=moodle_volume_php_size,\n",
    "    moodle_volume_encrypt=moodle_volume_encrypt,\n",
    "    moodle_url=moodle_url,\n",
    "    moodle_vault_path=moodle_vault_path,\n",
    ")"
   ]
  },
  {
   "cell_type": "markdown",
   "metadata": {
    "hidden": true
   },
   "source": [
    "ここまでに保存したパラメータを確認するために group_vars ファイルの内容を表示します。"
   ]
  },
  {
   "cell_type": "code",
   "execution_count": null,
   "metadata": {
    "hidden": true
   },
   "outputs": [],
   "source": [
    "!cat group_vars/{ugroup_name}.yml"
   ]
  },
  {
   "cell_type": "markdown",
   "metadata": {},
   "source": [
    "## データベース\n",
    "\n",
    "Moodleの設定値などを保存するデータベースに関するパラメータを指定します。\n",
    "\n",
    "![データベース設定](images/moodle-010-05.png)"
   ]
  },
  {
   "cell_type": "markdown",
   "metadata": {},
   "source": [
    "指定するパラメータのうちデータベースに接続するためのパスワードについては秘密情報となるので、ローカル環境（Notebook環境）には保存せず、VCCが提供している HashiCorp Vault に保存します。\n",
    "\n",
    "秘密情報ではないその他のパラメータについては、前章と同様にローカル環境の group_vars ファイルに記録します。"
   ]
  },
  {
   "cell_type": "markdown",
   "metadata": {},
   "source": [
    "### データベースのコンテナイメージ"
   ]
  },
  {
   "cell_type": "markdown",
   "metadata": {},
   "source": [
    "データベースコンテナのイメージ名を指定してください。このNotebookが構築する環境では MariaDBのコンテナイメージを指定することができます。"
   ]
  },
  {
   "cell_type": "code",
   "execution_count": null,
   "metadata": {
    "tags": [
     "vcp:parameters"
    ]
   },
   "outputs": [],
   "source": [
    "db_image_name = 'mariadb:10.6'"
   ]
  },
  {
   "cell_type": "markdown",
   "metadata": {},
   "source": [
    "### データベース名\n",
    "\n",
    "Moodleが使用するデータベース名を指定してください。"
   ]
  },
  {
   "cell_type": "code",
   "execution_count": null,
   "metadata": {
    "tags": [
     "vcp:parameters"
    ]
   },
   "outputs": [],
   "source": [
    "db_moodle_db = 'moodle'"
   ]
  },
  {
   "cell_type": "markdown",
   "metadata": {},
   "source": [
    "### データベースの接続ユーザ\n",
    "\n",
    "Moodleのデータベースに接続するためのデータベースのユーザ名を指定してください。"
   ]
  },
  {
   "cell_type": "code",
   "execution_count": null,
   "metadata": {
    "tags": [
     "vcp:parameters"
    ]
   },
   "outputs": [],
   "source": [
    "db_moodle_db_user = 'moodle'"
   ]
  },
  {
   "cell_type": "markdown",
   "metadata": {},
   "source": [
    "### データベースのパスワード"
   ]
  },
  {
   "cell_type": "markdown",
   "metadata": {},
   "source": [
    "Moodleのデータベースに接続するためのパスワードを指定します。"
   ]
  },
  {
   "cell_type": "code",
   "execution_count": null,
   "metadata": {
    "tags": [
     "vcp:skip",
     "vcp:parameters"
    ]
   },
   "outputs": [],
   "source": [
    "from getpass import getpass\n",
    "db_moodle_db_password = getpass()"
   ]
  },
  {
   "cell_type": "markdown",
   "metadata": {},
   "source": [
    "### データベースのディスクサイズ"
   ]
  },
  {
   "cell_type": "markdown",
   "metadata": {},
   "source": [
    "このNotebookで構築する環境では、データベース用に専用のディスクを用意します。ディスクに割り当てるサイズ(GB)を次のセルで指定してください。"
   ]
  },
  {
   "cell_type": "code",
   "execution_count": null,
   "metadata": {
    "tags": [
     "vcp:skip",
     "vcp:parameters"
    ]
   },
   "outputs": [],
   "source": [
    "# (例)\n",
    "# db_disk_size = 12\n",
    "\n",
    "db_disk_size = "
   ]
  },
  {
   "cell_type": "markdown",
   "metadata": {},
   "source": [
    "### データベースのボリュームサイズ"
   ]
  },
  {
   "cell_type": "markdown",
   "metadata": {},
   "source": [
    "このNotebookで構築する環境ではディスクを直接利用するのではなく、LVMを用いて論理ボリューム(LV)を作成してそのボリュームを利用するようにします。論理ボリュームを作成することにより、LVMのスナップショット機能や、作成後のサイズ拡張などの機能が利用可能になります。また、作成する論理ボリュームは全てシンプロビジョニングされたものとします。そのため論理ボリュームの容量は、実際のディスク容量に依存しない仮想化した値を設定できます。"
   ]
  },
  {
   "cell_type": "markdown",
   "metadata": {},
   "source": [
    "データベースとして使用するボリュームサイズ(GB)を指定してください。"
   ]
  },
  {
   "cell_type": "code",
   "execution_count": null,
   "metadata": {
    "tags": [
     "vcp:parameters"
    ]
   },
   "outputs": [],
   "source": [
    "db_volume_size = db_disk_size"
   ]
  },
  {
   "cell_type": "markdown",
   "metadata": {},
   "source": [
    "### データベースボリュームの暗号化\n",
    "\n",
    "必要に応じてデータベースボリュームに対して [LUKS](https://gitlab.com/cryptsetup/cryptsetup) を用いた暗号化を行うことができます。"
   ]
  },
  {
   "cell_type": "markdown",
   "metadata": {},
   "source": [
    "暗号化を行う場合は次のセルで`db_volume_encrypt` の値を `True` に設定してください。ボリュームの暗号化を行わない場合は `False` を設定してください。\n",
    "\n",
    "> 次のセルの始めの記述ではMoodleボリュームの暗号化設定と同じ値を設定しています。"
   ]
  },
  {
   "cell_type": "code",
   "execution_count": null,
   "metadata": {
    "tags": [
     "vcp:parameters"
    ]
   },
   "outputs": [],
   "source": [
    "# (例)\n",
    "# db_volume_encrypt = True   # 暗号化する場合\n",
    "# db_volume_encrypt = False  # 暗号化しない場合\n",
    "\n",
    "db_volume_encrypt = moodle_volume_encrypt"
   ]
  },
  {
   "cell_type": "markdown",
   "metadata": {},
   "source": [
    "ボリュームの暗号化を行う場合はキーの生成を行います。"
   ]
  },
  {
   "cell_type": "code",
   "execution_count": null,
   "metadata": {},
   "outputs": [],
   "source": [
    "if db_volume_encrypt:\n",
    "    from secrets import token_bytes\n",
    "    from base64 import b64encode\n",
    "    \n",
    "    db_volume_key = b64encode(token_bytes(256))"
   ]
  },
  {
   "cell_type": "markdown",
   "metadata": {
    "heading_collapsed": true
   },
   "source": [
    "### パラメータの保存\n",
    "\n",
    "この章で指定したパラメータの値をファイルに保存します。"
   ]
  },
  {
   "cell_type": "markdown",
   "metadata": {
    "hidden": true
   },
   "source": [
    "内容によって異なる場所に保存します。パスワード以外の秘密情報ではないパラメータについては前の章と同様にJupyter Notebook環境内の group_vars ファイルに保存します。パスワード等の秘密情報については、より安全度の高いVCCのVaultサーバに保存します。"
   ]
  },
  {
   "cell_type": "markdown",
   "metadata": {
    "hidden": true
   },
   "source": [
    "#### データベースパラメータのVaultサーバへの保存\n",
    "\n",
    "データベースの接続パスワードをVCCのVaultサーバに保存します。"
   ]
  },
  {
   "cell_type": "markdown",
   "metadata": {
    "hidden": true
   },
   "source": [
    "Vaultサーバ内の保存場所のパスを指定します。\n",
    "\n",
    "> 他の秘密情報の保存場所と重複しないようにするために UnitGroup 名をパスに含めています。"
   ]
  },
  {
   "cell_type": "code",
   "execution_count": null,
   "metadata": {
    "hidden": true,
    "tags": [
     "vcp:parameters"
    ]
   },
   "outputs": [],
   "source": [
    "db_vault_path = f'cubbyhole/{ugroup_name}/db/moodle'\n",
    "print(db_vault_path)"
   ]
  },
  {
   "cell_type": "markdown",
   "metadata": {
    "hidden": true
   },
   "source": [
    "Vaultサーバに秘密情報のパラメータを保存します。"
   ]
  },
  {
   "cell_type": "code",
   "execution_count": null,
   "metadata": {
    "hidden": true
   },
   "outputs": [],
   "source": [
    "import requests\n",
    "import time\n",
    "\n",
    "# 保存するパラメータを１つの dict にまとめる\n",
    "payload = {\n",
    "    'password': db_moodle_db_password,\n",
    "}\n",
    "if db_volume_encrypt:\n",
    "    payload['db_volume_key'] = db_volume_key\n",
    "    payload['db_volume_key_' + time.strftime(\"%Y%m%d%H%M%S\")] = db_volume_key\n",
    "\n",
    "# Vault サーバのURLを組み立てる\n",
    "url = f'{vcp.vcc_info()[\"vault_url\"]}/v1/{db_vault_path}'\n",
    "print(url)\n",
    "\n",
    "# VaultサーバのアクセストークンをHTTPヘッダに設定する\n",
    "custom_headers = {\n",
    "    'X-Vault-Token': vcc_access_token,\n",
    "}\n",
    "\n",
    "r = requests.post(url, headers=custom_headers, json=payload)\n",
    "r"
   ]
  },
  {
   "cell_type": "markdown",
   "metadata": {
    "hidden": true
   },
   "source": [
    "Vaultサーバへの値の保存が成功すると　`<Response [204]>` と表示されます。"
   ]
  },
  {
   "cell_type": "markdown",
   "metadata": {
    "hidden": true
   },
   "source": [
    "#### group_vars ファイルへの保存\n",
    "\n",
    "秘密情報以外のパラメータを`group_vars`ファイルに保存します。"
   ]
  },
  {
   "cell_type": "markdown",
   "metadata": {
    "hidden": true
   },
   "source": [
    "値の保存を行う前に、入力されたパラメータに対して簡易なチェックを行います。エラーになった場合はその後に表示される指示に従ってください。"
   ]
  },
  {
   "cell_type": "code",
   "execution_count": null,
   "metadata": {
    "hidden": true
   },
   "outputs": [],
   "source": [
    "%run scripts/utils.py\n",
    "\n",
    "check_parameters(\n",
    "    'db_image_name',\n",
    "    'db_moodle_db',\n",
    "    'db_moodle_db_user',\n",
    "    'db_disk_size',\n",
    "    'db_volume_size',\n",
    "    'db_volume_encrypt',\n",
    "    'db_vault_path',\n",
    "    params={'vcp': vcp},\n",
    "    nb_vars=locals(),\n",
    ")"
   ]
  },
  {
   "cell_type": "markdown",
   "metadata": {
    "hidden": true
   },
   "source": [
    "次のセルを実行すると、この章で指定した秘密情報以外のパラメータが group_vars ファイルに保存されます。"
   ]
  },
  {
   "cell_type": "code",
   "execution_count": null,
   "metadata": {
    "hidden": true
   },
   "outputs": [],
   "source": [
    "update_group_vars(\n",
    "    ugroup_name,\n",
    "    db_image_name=db_image_name,\n",
    "    db_moodle_db=db_moodle_db,\n",
    "    db_moodle_db_user=db_moodle_db_user,\n",
    "    db_disk_size=db_disk_size,\n",
    "    db_volume_size=db_volume_size,\n",
    "    db_volume_encrypt=db_volume_encrypt,\n",
    "    db_vault_path=db_vault_path,\n",
    ")"
   ]
  },
  {
   "cell_type": "markdown",
   "metadata": {
    "hidden": true
   },
   "source": [
    "group_vars ファイルの内容を表示して保存されたパラメータを確認します。"
   ]
  },
  {
   "cell_type": "code",
   "execution_count": null,
   "metadata": {
    "hidden": true
   },
   "outputs": [],
   "source": [
    "!cat group_vars/{ugroup_name}.yml"
   ]
  },
  {
   "cell_type": "markdown",
   "metadata": {},
   "source": [
    "## リバースプロキシ\n",
    "\n",
    "Moodleコンテナの前でリクエストを受け付けるリバースプロキシに関するパラメータを指定します。\n",
    "\n",
    "![リバースプロキシ設定](images/moodle-010-06.png)"
   ]
  },
  {
   "cell_type": "markdown",
   "metadata": {},
   "source": [
    "このNotebookで構築するMoodle環境では、利用者からのアクセスをMoodleコンテナが直接受け付けるのではなく、その前段にリバースプロキシを設置します。リバースプロキシの利用目的は主に以下の２つです。\n",
    "\n",
    "* リクエスト内容に応じた処理の切り替え\n",
    "    + 運用環境と検証環境など複数の環境を、リクエスト元のIPアドレスなどで切り替える\n",
    "* SSL/TLS\n",
    "    + Moodleコンテナが直接 SSL/TLS を行うかわりに、リバースプロキシが SSL/TLS 接続を行う\n",
    "\n",
    "Apache HTTP Serverをリバースプロキシとして利用します。"
   ]
  },
  {
   "cell_type": "markdown",
   "metadata": {},
   "source": [
    "### リバースプロキシのコンテナイメージ"
   ]
  },
  {
   "cell_type": "markdown",
   "metadata": {},
   "source": [
    "リバースプロキシとして実行する、Apache HTTP Serverコンテナのイメージ名を指定してください。"
   ]
  },
  {
   "cell_type": "code",
   "execution_count": null,
   "metadata": {
    "tags": [
     "vcp:parameters"
    ]
   },
   "outputs": [],
   "source": [
    "rproxy_image_name = 'httpd:2.4'"
   ]
  },
  {
   "cell_type": "markdown",
   "metadata": {},
   "source": [
    "### サーバ証明書\n",
    "\n",
    "SSL/TLS のために使用するサーバ証明書と秘密鍵のファイルを指定してください。"
   ]
  },
  {
   "cell_type": "markdown",
   "metadata": {},
   "source": [
    "> 「000-README.ipynb」に記したようにサーバ証明書と秘密鍵は事前にNotebook環境にアップロードしてあると想定しています。ここではアップロードしたファイルのパスを指定してください。"
   ]
  },
  {
   "cell_type": "markdown",
   "metadata": {},
   "source": [
    "サーバ証明書のパスを指定してください。"
   ]
  },
  {
   "cell_type": "code",
   "execution_count": null,
   "metadata": {
    "tags": [
     "vcp:skip",
     "vcp:parameters"
    ]
   },
   "outputs": [],
   "source": [
    "# (例)\n",
    "# rproxy_tls_cert_path = 'cert/server.crt'\n",
    "\n",
    "rproxy_tls_cert_path = "
   ]
  },
  {
   "cell_type": "markdown",
   "metadata": {},
   "source": [
    "秘密鍵のパスを指定してください。"
   ]
  },
  {
   "cell_type": "code",
   "execution_count": null,
   "metadata": {
    "tags": [
     "vcp:skip",
     "vcp:parameters"
    ]
   },
   "outputs": [],
   "source": [
    "# (例)\n",
    "# rproxy_tls_key_path = 'cert/server.key'\n",
    "\n",
    "rproxy_tls_key_path = "
   ]
  },
  {
   "cell_type": "markdown",
   "metadata": {
    "heading_collapsed": true
   },
   "source": [
    "### パラメータの保存\n",
    "\n",
    "この章で指定したパラメータの値をファイルに保存します。"
   ]
  },
  {
   "cell_type": "markdown",
   "metadata": {
    "hidden": true
   },
   "source": [
    "値の保存を行う前に、入力されたパラメータに対して簡易なチェックを行います。エラーになった場合はその後に表示される指示に従ってください。"
   ]
  },
  {
   "cell_type": "code",
   "execution_count": null,
   "metadata": {
    "hidden": true
   },
   "outputs": [],
   "source": [
    "%run scripts/utils.py\n",
    "\n",
    "check_parameters(\n",
    "    'rproxy_image_name',\n",
    "    'rproxy_tls_cert_path',\n",
    "    'rproxy_tls_key_path',\n",
    "    params={'vcp': vcp},\n",
    "    nb_vars=locals(),\n",
    ")"
   ]
  },
  {
   "cell_type": "markdown",
   "metadata": {
    "hidden": true
   },
   "source": [
    "次のセルを実行すると、この章で指定したパラメータが group_vars ファイルに保存されます。"
   ]
  },
  {
   "cell_type": "code",
   "execution_count": null,
   "metadata": {
    "hidden": true
   },
   "outputs": [],
   "source": [
    "update_group_vars(\n",
    "    ugroup_name,\n",
    "    rproxy_image_name=rproxy_image_name,\n",
    "    rproxy_tls_cert_path=rproxy_tls_cert_path,\n",
    "    rproxy_tls_key_path=rproxy_tls_key_path,\n",
    ")"
   ]
  },
  {
   "cell_type": "markdown",
   "metadata": {
    "hidden": true
   },
   "source": [
    "group_vars ファイルの内容を表示して保存されたパラメータを確認します。"
   ]
  },
  {
   "cell_type": "code",
   "execution_count": null,
   "metadata": {
    "hidden": true,
    "scrolled": true
   },
   "outputs": [],
   "source": [
    "!cat group_vars/{ugroup_name}.yml"
   ]
  },
  {
   "cell_type": "markdown",
   "metadata": {
    "heading_collapsed": true
   },
   "source": [
    "## チェックとデフォルト値の保存\n",
    "\n",
    "全てのパラメータが設定されたことをチェックします。"
   ]
  },
  {
   "cell_type": "code",
   "execution_count": null,
   "metadata": {
    "hidden": true
   },
   "outputs": [],
   "source": [
    "%run scripts/group.py\n",
    "gvars = load_group_vars(ugroup_name)\n",
    "require_params = [\n",
    "    'ugroup_name', 'vc_provider', 'vc_flavor', 'vc_moodle_ipaddress',\n",
    "    'ssh_private_key_path', 'ssh_public_key_path',\n",
    "    'moodle_version', 'moodle_admin_name', 'moodle_image_name',\n",
    "    'moodle_disk_size', 'db_disk_size',\n",
    "    'moodle_volume_data_size', 'moodle_volume_php_size', 'db_volume_size',\n",
    "    'moodle_vault_path', 'db_vault_path',\n",
    "    'db_image_name', 'db_moodle_db', 'db_moodle_db_user',\n",
    "    'rproxy_tls_cert_path', 'rproxy_tls_key_path', 'rproxy_image_name',\n",
    "    'moodle_url',\n",
    "]\n",
    "\n",
    "for x in require_params:\n",
    "    if x not in gvars:\n",
    "        raise RuntimeError(\"ERROR: not set {}\".format(x))"
   ]
  },
  {
   "cell_type": "markdown",
   "metadata": {
    "hidden": true
   },
   "source": [
    "デフォルト値を設定する必要があるパラメータを保存します。"
   ]
  },
  {
   "cell_type": "code",
   "execution_count": null,
   "metadata": {
    "hidden": true
   },
   "outputs": [],
   "source": [
    "gvars = load_group_vars(ugroup_name)\n",
    "if 'project_tag' not in gvars:\n",
    "    update_group_vars(ugroup_name, project_tag='0')"
   ]
  }
 ],
 "metadata": {
  "kernelspec": {
   "display_name": "Python 3",
   "language": "python",
   "name": "python3"
  },
  "language_info": {
   "file_extension": ".py",
   "mimetype": "text/x-python",
   "name": "python",
   "nbconvert_exporter": "python",
   "pygments_lexer": "ipython3",
   "version": "3.8.6"
  },
  "toc": {
   "base_numbering": 1,
   "nav_menu": {},
   "number_sections": true,
   "sideBar": true,
   "skip_h1_title": true,
   "title_cell": "Table of Contents",
   "title_sidebar": "Contents",
   "toc_cell": false,
   "toc_position": {},
   "toc_section_display": "block",
   "toc_window_display": true
  }
 },
 "nbformat": 4,
 "nbformat_minor": 2
}
