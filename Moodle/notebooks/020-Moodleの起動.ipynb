{
 "cells": [
  {
   "cell_type": "markdown",
   "metadata": {},
   "source": [
    "# About: Moodleの起動\n",
    "\n",
    "---\n",
    "\n",
    "Moodleを起動します。"
   ]
  },
  {
   "cell_type": "markdown",
   "metadata": {},
   "source": [
    "## 全体構成\n",
    "\n",
    "![構成](images/moodle-000-01.png)"
   ]
  },
  {
   "cell_type": "markdown",
   "metadata": {},
   "source": [
    "## 準備\n",
    "\n",
    "「010-パラメータの設定.ipynb」で指定したパラメータを引き継ぐための準備を行います。\n",
    "\n",
    "![Moodle起動の準備](images/moodle-020-02.png)"
   ]
  },
  {
   "cell_type": "markdown",
   "metadata": {},
   "source": [
    "### UnitGroup名の指定\n",
    "\n",
    "構築環境の UnitGroup名を指定してください。「010-パラメータの設定.ipynb」と同じUnitGroup名を指定することで、既に入力したパラメータを引き継ぐことができます。"
   ]
  },
  {
   "cell_type": "code",
   "execution_count": null,
   "metadata": {
    "tags": [
     "vcp:skip",
     "vcp:parameters"
    ]
   },
   "outputs": [],
   "source": [
    "# (例)\n",
    "# ugroup_name = 'Moodle'\n",
    "\n",
    "ugroup_name = "
   ]
  },
  {
   "cell_type": "markdown",
   "metadata": {},
   "source": [
    "次のセルを実行すると「010-パラメータの設定.ipynb」で指定したパラメータを読み込みます。読み込むパラメータの値は、上のセルで指定した UnitGroup名に対応するものになります。UnitGroup名の指定が誤っていると意図したパラメータが読み込めないので注意してください。"
   ]
  },
  {
   "cell_type": "code",
   "execution_count": null,
   "metadata": {},
   "outputs": [],
   "source": [
    "%run scripts/group.py\n",
    "gvars = load_group_vars(ugroup_name)"
   ]
  },
  {
   "cell_type": "markdown",
   "metadata": {},
   "source": [
    "group_vars に保存されている値が想定通りであるかチェックします。次のセルを実行してエラーにならないことを確認してください。\n",
    "\n",
    "> エラーになった場合は `ugroup_name` に指定した値が「010-パラメータの設定.ipynb」に指定した値と同じであることを確認してください。異なる値を指定していた場合は、この節の最初のセル以降をツールバーの\n",
    "<i class=\"fa-unfreeze-below-in-section fa\"></i>ボタンなどで unfreeze して `ugroup_name` の値を設定し直してください。その後\n",
    "unfreezeしたセルを全て再実行してください。"
   ]
  },
  {
   "cell_type": "code",
   "execution_count": null,
   "metadata": {},
   "outputs": [],
   "source": [
    "if gvars['project_tag'] != '0':\n",
    "    raise RuntimeError('ERROR!')"
   ]
  },
  {
   "cell_type": "markdown",
   "metadata": {},
   "source": [
    "### VCCアクセストークンの入力\n",
    "\n",
    "VCCにアクセスするためのトークンを入力します。"
   ]
  },
  {
   "cell_type": "markdown",
   "metadata": {},
   "source": [
    "> VCCのアクセストークンは秘密情報となるためNotebook環境には保存してありません。他の秘密情報については VCC の Vaultサーバに保存してあります。VCCのVaultサーバにアクセスするためにはVCCのアクセストークンが必要となります。そのため、Notebookを新たに実行する度にVCCのアクセストークンを入力する必要があります。"
   ]
  },
  {
   "cell_type": "markdown",
   "metadata": {},
   "source": [
    "次のセルを実行すると入力枠が表示されるのでアクセストークンの値を入力してください。\n",
    "\n",
    "> アクセストークン入力後に Enter キーを押すことで入力が完了します。"
   ]
  },
  {
   "cell_type": "code",
   "execution_count": null,
   "metadata": {
    "tags": [
     "vcp:skip",
     "vcp:parameters"
    ]
   },
   "outputs": [],
   "source": [
    "from getpass import getpass\n",
    "vcc_access_token = getpass()"
   ]
  },
  {
   "cell_type": "markdown",
   "metadata": {},
   "source": [
    "入力されたアクセストークンが正しいことを、実際にVCCにアクセスして確認します。"
   ]
  },
  {
   "cell_type": "code",
   "execution_count": null,
   "metadata": {
    "tags": [
     "vcp:rewrite:vcpsdk"
    ]
   },
   "outputs": [],
   "source": [
    "from common import logsetting\n",
    "from vcpsdk.vcpsdk import VcpSDK\n",
    "\n",
    "vcp = VcpSDK(vcc_access_token)"
   ]
  },
  {
   "cell_type": "markdown",
   "metadata": {},
   "source": [
    "上のセルの実行結果がエラーとなり以下のようなメッセージが表示されている場合は、入力されたアクセストークンに誤りがあります。\n",
    "\n",
    "```\n",
    "config vc failed: http_status(403)\n",
    "2020/XX/XX XX:XX:XX UTC: VCPAuthException: xxxxxxx:token lookup is failed: permission denied\n",
    "```\n",
    "\n",
    "エラーになった場合はこの節のセルを全て `unfreeze` してから、もう一度アクセストークンの入力を行ってください。"
   ]
  },
  {
   "cell_type": "markdown",
   "metadata": {
    "heading_collapsed": true
   },
   "source": [
    "### AnsibleからVaultサーバにアクセスするための準備"
   ]
  },
  {
   "cell_type": "markdown",
   "metadata": {
    "hidden": true
   },
   "source": [
    "このNotebookでは、VCノードに環境を構築するために Ansible を用います。「010-パラメータの設定.ipynb」で group_varsファイルに記録したパラメータはAnsibleから直接参照することができます。しかしVCCのVaultサーバに記録したパラメータは、そのままではAnsibleから参照することができません。そこで Ansible から Vaultサーバの値を参照するために必要となるライブラリをインストールします。また VCC の Vaultサーバにアクセスするために必要となるトークンと Vault サーバのアドレスを環境変数に設定します。"
   ]
  },
  {
   "cell_type": "markdown",
   "metadata": {
    "hidden": true
   },
   "source": [
    "まず Vaultサーバにアクセスするために必要となるライブラリのインストールを行います。"
   ]
  },
  {
   "cell_type": "code",
   "execution_count": null,
   "metadata": {
    "hidden": true
   },
   "outputs": [],
   "source": [
    "!pip install hvac --user"
   ]
  },
  {
   "cell_type": "markdown",
   "metadata": {
    "hidden": true
   },
   "source": [
    "VCCのVault サーバにアクセスする際に必要となるパラメータを環境変数に設定します。"
   ]
  },
  {
   "cell_type": "code",
   "execution_count": null,
   "metadata": {
    "hidden": true
   },
   "outputs": [],
   "source": [
    "import os\n",
    "os.environ['VAULT_ADDR'] = vcp.vcc_info()['vault_url']\n",
    "os.environ['VAULT_TOKEN'] = vcc_access_token"
   ]
  },
  {
   "cell_type": "markdown",
   "metadata": {
    "heading_collapsed": true
   },
   "source": [
    "## VCディスクの作成\n",
    "\n",
    "Moodleとデータベース用にそれぞれ専用の仮想ディスクを用意します。\n",
    "\n",
    "VCP SDK を利用すると、クラウドプロバイダに応じた仮想ディスクを作成することができます。このアプリケーションテンプレートではMoodle、データベース用にそれぞれひとつづつ仮想ディスクを作成します。VCP APIで作成した仮想ディスクのことを VCディスクと呼んでいます。\n",
    "\n",
    "![VCディスクの作成](images/moodle-020-03.png)"
   ]
  },
  {
   "cell_type": "markdown",
   "metadata": {
    "hidden": true
   },
   "source": [
    "### UnitGroupの作成\n",
    "\n",
    "VCディスクを管理するための UnitGroup を作成します。"
   ]
  },
  {
   "cell_type": "markdown",
   "metadata": {
    "hidden": true
   },
   "source": [
    "UnitGroupを作成するまえに、現在のUnitGroupの一覧を確認します。"
   ]
  },
  {
   "cell_type": "code",
   "execution_count": null,
   "metadata": {
    "hidden": true
   },
   "outputs": [],
   "source": [
    "vcp.df_ugroups()"
   ]
  },
  {
   "cell_type": "markdown",
   "metadata": {
    "hidden": true
   },
   "source": [
    "UnitGroupを作成します。"
   ]
  },
  {
   "cell_type": "code",
   "execution_count": null,
   "metadata": {
    "hidden": true
   },
   "outputs": [],
   "source": [
    "ug_disk = vcp.create_ugroup(ugroup_name + '_disk', ugroup_type='storage')"
   ]
  },
  {
   "cell_type": "markdown",
   "metadata": {
    "hidden": true
   },
   "source": [
    "UnitGroup作成後の一覧を表示させます。"
   ]
  },
  {
   "cell_type": "code",
   "execution_count": null,
   "metadata": {
    "hidden": true
   },
   "outputs": [],
   "source": [
    "vcp.df_ugroups()"
   ]
  },
  {
   "cell_type": "markdown",
   "metadata": {
    "hidden": true
   },
   "source": [
    "### VCディスクの作成"
   ]
  },
  {
   "cell_type": "markdown",
   "metadata": {
    "hidden": true
   },
   "source": [
    "Moodle用のVCディスクを作成します。"
   ]
  },
  {
   "cell_type": "code",
   "execution_count": null,
   "metadata": {
    "hidden": true
   },
   "outputs": [],
   "source": [
    "moodle_disk_spec = vcp.get_spec(gvars['vc_provider'] + '_disk', 'small')\n",
    "if gvars['vc_provider'] == 'azure':\n",
    "    moodle_disk_spec.disk_size_gb = gvars['moodle_disk_size']\n",
    "elif gvars['vc_provider'] == 'oracle':\n",
    "    moodle_disk_spec.size_in_gbs = gvars['moodle_disk_size']\n",
    "else:\n",
    "    moodle_disk_spec.size = gvars['moodle_disk_size']\n",
    "ug_disk.create_unit('moodle_disk', moodle_disk_spec)"
   ]
  },
  {
   "cell_type": "markdown",
   "metadata": {
    "hidden": true
   },
   "source": [
    "データベース用のVCディスクを作成します。"
   ]
  },
  {
   "cell_type": "code",
   "execution_count": null,
   "metadata": {
    "hidden": true
   },
   "outputs": [],
   "source": [
    "db_disk_spec = vcp.get_spec(gvars['vc_provider'] + '_disk', 'small')\n",
    "if gvars['vc_provider'] == 'azure':\n",
    "    db_disk_spec.disk_size_gb = gvars['db_disk_size']\n",
    "elif gvars['vc_provider'] == 'oracle':\n",
    "    db_disk_spec.size_in_gbs = gvars['db_disk_size']\n",
    "else:\n",
    "    db_disk_spec.size = gvars['db_disk_size']\n",
    "ug_disk.create_unit('db_disk', db_disk_spec)"
   ]
  },
  {
   "cell_type": "markdown",
   "metadata": {
    "hidden": true
   },
   "source": [
    "作成したVCディスクの一覧を表示します。"
   ]
  },
  {
   "cell_type": "code",
   "execution_count": null,
   "metadata": {
    "hidden": true
   },
   "outputs": [],
   "source": [
    "ug_disk.df_nodes()"
   ]
  },
  {
   "cell_type": "markdown",
   "metadata": {
    "heading_collapsed": true
   },
   "source": [
    "## VCノードの起動\n",
    "\n",
    "VCP SDK を利用してVCノードを起動します。\n",
    "\n",
    "![VCディスクの作成](images/moodle-020-04.png)"
   ]
  },
  {
   "cell_type": "markdown",
   "metadata": {
    "hidden": true
   },
   "source": [
    "### VCノードの spec を指定する\n",
    "\n",
    "「010-パラメータの設定.ipynb」で指定したパラメータをVCノードの `spec` に設定します。"
   ]
  },
  {
   "cell_type": "markdown",
   "metadata": {
    "hidden": true
   },
   "source": [
    "`spec`に設定するパラメータを以下に示します。\n",
    "\n",
    "* `images`: Baseコンテナイメージ\n",
    "  - Baseコンテナイメージを設定します\n",
    "* `params_v`: ボリューム設定\n",
    "  - Baseコンテナのボリュームを設定します\n",
    "  - Moodle用Baseコンテナではホスト側の `/sys/fs/cgroup`, `/lib/modules` をコンテナから見えるように設定する必要があります\n",
    "* `ip_addresses`: IPアドレス\n",
    "  - VCノードに割り当てるプライベートIPアドレスを設定します\n",
    "* `disks`: VCディスクのリスト\n",
    "  - VCノードにアタッチするVCディスクのリストを設定します\n",
    "* `set_ssh_publickey()`: SSHの公開鍵\n",
    "  - VCノードに登録するSSHの公開鍵"
   ]
  },
  {
   "cell_type": "code",
   "execution_count": null,
   "metadata": {
    "hidden": true,
    "tags": [
     "vcp:rewrite:docker_registry"
    ]
   },
   "outputs": [],
   "source": [
    "import os\n",
    "\n",
    "vc_provider = gvars['vc_provider']\n",
    "spec = vcp.get_spec(vc_provider, gvars['vc_flavor'])\n",
    "\n",
    "# Baseコンテナイメージを指定する\n",
    "spec.image = 'harbor.vcloud.nii.ac.jp/vcp/moodle:1.8.1-base'\n",
    "spec.params_v = [\n",
    "    '/sys/fs/cgroup:/sys/fs/cgroup:ro',\n",
    "    '/lib/modules:/lib/modules:ro',\n",
    "]\n",
    "\n",
    "# VCノードに割り当てるIPアドレスを指定する\n",
    "spec.ip_addresses = [gvars['vc_moodle_ipaddress']]\n",
    "\n",
    "# VCノードにアタッチするVCディスクを指定する\n",
    "spec.disks = ug_disk.find_nodes()\n",
    "\n",
    "# VCノードにsshでログインするための公開鍵を指定する\n",
    "spec.set_ssh_pubkey(os.path.expanduser(gvars['ssh_public_key_path']))\n",
    "\n",
    "# インスタンスタイプの指定\n",
    "if 'vc_vm_type' in gvars:\n",
    "    if vc_provider == 'aws':\n",
    "        spec.instance_type = gvars['vc_vm_type']\n",
    "    elif vc_provider == 'azure':\n",
    "        spec.vm_size = gvars['vc_vm_type']"
   ]
  },
  {
   "cell_type": "markdown",
   "metadata": {
    "hidden": true
   },
   "source": [
    "`spec` の設定値を確認します。"
   ]
  },
  {
   "cell_type": "code",
   "execution_count": null,
   "metadata": {
    "hidden": true
   },
   "outputs": [],
   "source": [
    "print(spec)"
   ]
  },
  {
   "cell_type": "markdown",
   "metadata": {
    "hidden": true
   },
   "source": [
    "### VCノードの起動"
   ]
  },
  {
   "cell_type": "markdown",
   "metadata": {
    "hidden": true
   },
   "source": [
    "UnitGroupを作成します。"
   ]
  },
  {
   "cell_type": "code",
   "execution_count": null,
   "metadata": {
    "hidden": true
   },
   "outputs": [],
   "source": [
    "ugroup = vcp.create_ugroup(ugroup_name)"
   ]
  },
  {
   "cell_type": "markdown",
   "metadata": {
    "hidden": true
   },
   "source": [
    "VCノードを起動します。\n",
    "\n",
    "> 起動にはAWSで1分半程度、Azureで５～７分程度の時間がかかります。"
   ]
  },
  {
   "cell_type": "code",
   "execution_count": null,
   "metadata": {
    "hidden": true
   },
   "outputs": [],
   "source": [
    "unit = ugroup.create_unit('moodle', spec)"
   ]
  },
  {
   "cell_type": "markdown",
   "metadata": {
    "hidden": true
   },
   "source": [
    "VCノードの状態が `RUNNING` になっていることを確認します。\n",
    "\n",
    "> VCノードの起動に失敗して`RUNNING`以外の状態になっている場合は次のセルを実行するとエラーになります。エラーになった場合は、`ugroup.cleanup()` を実行して VCノードを削除してください。"
   ]
  },
  {
   "cell_type": "code",
   "execution_count": null,
   "metadata": {
    "hidden": true
   },
   "outputs": [],
   "source": [
    "if any([node.state != 'RUNNING' for node in unit.find_nodes()]):\n",
    "    raise RuntimeError('ERROR: not running')"
   ]
  },
  {
   "cell_type": "markdown",
   "metadata": {
    "hidden": true
   },
   "source": [
    "起動したVCノードの一覧を表示します。"
   ]
  },
  {
   "cell_type": "code",
   "execution_count": null,
   "metadata": {
    "hidden": true
   },
   "outputs": [],
   "source": [
    "ugroup.df_nodes()"
   ]
  },
  {
   "cell_type": "markdown",
   "metadata": {
    "heading_collapsed": true
   },
   "source": [
    "## Ansibleの設定\n",
    "\n",
    "VCノードをAnsibleで操作するための設定を行います。\n",
    "\n",
    "![Ansibleの設定](images/moodle-020-05.png)"
   ]
  },
  {
   "cell_type": "markdown",
   "metadata": {
    "hidden": true
   },
   "source": [
    "まず、VCノードにSSHでログインできるようにするために `~/.ssh/known_hosts` の更新を行います。\n",
    "\n",
    "> 何度かVCノードの起動を行うと、異なるホストが同じIPアドレスで起動するためにSSHのホストキーのチェックでエラーになる事があります。このような状況に対応するために、起動したVCノードのIPアドレスに対応するエントリを`known_hosts`ファイルから削除します。その後、`ssh-keyscan`コマンドを利用して起動したVCノードのホストキーを取得して `known_hosts`ファイルの内容を更新します。"
   ]
  },
  {
   "cell_type": "code",
   "execution_count": null,
   "metadata": {
    "hidden": true
   },
   "outputs": [],
   "source": [
    "from time import sleep\n",
    "\n",
    "def check_update_known_hosts(ipaddr):\n",
    "    # VCノード起動直後だと sshd サービスが開始されておらずに known_hosts が更新されない場合がある\n",
    "    # ssh-keyscan が値を取得できるまで何度かリトライする\n",
    "    for x in range(10):\n",
    "        out = ! echo $(ssh-keyscan {ipaddr} 2> /dev/null | wc -l)\n",
    "        update_lines = int(out[0])\n",
    "        if update_lines > 0:\n",
    "            break\n",
    "        sleep(1)\n",
    "    else:\n",
    "        raise RuntimeError(\"ERROR: timeout!\")    \n",
    "\n",
    "!mkdir -p -m 0700 ~/.ssh\n",
    "!touch ~/.ssh/known_hosts\n",
    "for addr in ugroup.find_ip_addresses():\n",
    "    !ssh-keygen -R {addr}\n",
    "    check_update_known_hosts(addr)\n",
    "    !ssh-keyscan -H {addr} >> ~/.ssh/known_hosts"
   ]
  },
  {
   "cell_type": "markdown",
   "metadata": {
    "hidden": true
   },
   "source": [
    "起動したVCノードに対応するエントリを Ansible のインベントリに登録します。\n",
    "\n",
    "> Ansibleで操作を行うためには、操作対象のホスト(IPアドレス)をインベントリに登録する必要があります。"
   ]
  },
  {
   "cell_type": "code",
   "execution_count": null,
   "metadata": {
    "hidden": true
   },
   "outputs": [],
   "source": [
    "import yaml\n",
    "\n",
    "inventory = {'all': {'children': {\n",
    "    ugroup.name: {\n",
    "        'hosts': dict([(ip, {}) for ip in ugroup.find_ip_addresses()]),\n",
    "        'vars': {\n",
    "            'ansible_user': 'vcp',\n",
    "            'ansible_ssh_private_key_file': gvars['ssh_private_key_path'],\n",
    "            'ansible_python_interpreter': '/usr/bin/python',\n",
    "            \n",
    "        }\n",
    "    }\n",
    "}}}\n",
    "\n",
    "with open('inventory.yml', 'w') as f:\n",
    "    yaml.safe_dump(inventory, f, default_flow_style=False)\n",
    "    \n",
    "!cat inventory.yml"
   ]
  },
  {
   "cell_type": "markdown",
   "metadata": {
    "hidden": true
   },
   "source": [
    "先程VCノードを登録したファイルをインベントリとして指定するためのAnsibleのコンフィギュレーションファイルを作成します。\n",
    "\n",
    "> カレントディレクトリにコンフィギュレーションファイル(`ansible.cfg`)を作成すると、Ansibleを実行する際にその設定が適用されます。"
   ]
  },
  {
   "cell_type": "code",
   "execution_count": null,
   "metadata": {
    "hidden": true
   },
   "outputs": [],
   "source": [
    "from pathlib import Path\n",
    "\n",
    "inventory_path = Path('./inventory.yml').resolve()\n",
    "ansible_cfg = Path('./ansible.cfg').resolve()\n",
    "with ansible_cfg.open(mode='w') as f:\n",
    "    f.write(f'''\n",
    "[defaults]\n",
    "inventory = {inventory_path}\n",
    "''')\n",
    "ansible_cfg.parent.chmod(0o755)\n",
    "\n",
    "!cat ./ansible.cfg"
   ]
  },
  {
   "cell_type": "markdown",
   "metadata": {
    "hidden": true
   },
   "source": [
    "VCノードに対して Ansible で接続できることを確認します。"
   ]
  },
  {
   "cell_type": "code",
   "execution_count": null,
   "metadata": {
    "hidden": true
   },
   "outputs": [],
   "source": [
    "!ansible {ugroup_name} -m ping"
   ]
  },
  {
   "cell_type": "markdown",
   "metadata": {
    "hidden": true
   },
   "source": [
    "正常に接続できると以下のように表示されます。\n",
    "\n",
    "```\n",
    "XXX.XXX.XXX.XXX | SUCCESS => {\n",
    "    \"changed\": false, \n",
    "    \"ping\": \"pong\"\n",
    "}\n",
    "```"
   ]
  },
  {
   "cell_type": "markdown",
   "metadata": {
    "hidden": true
   },
   "source": [
    "VCノードに対して設定ファイルの変更やパッケージの追加を行う場合にVCノードの管理者権限が必要になる場合があります。Ansibleで管理者権限によるコマンド実行が可能かどうかを確認します。"
   ]
  },
  {
   "cell_type": "code",
   "execution_count": null,
   "metadata": {
    "hidden": true
   },
   "outputs": [],
   "source": [
    "# 管理者権限(-b)でのコマンド実行\n",
    "!ansible {ugroup_name} -b -a 'whoami'"
   ]
  },
  {
   "cell_type": "markdown",
   "metadata": {},
   "source": [
    "## データ格納領域の準備\n",
    "\n",
    "Moodle用, データベース用のディスクをデータを格納する領域として利用できるように準備します。\n",
    "\n",
    "![データ格納領域の準備](images/moodle-020-06.png)"
   ]
  },
  {
   "cell_type": "markdown",
   "metadata": {},
   "source": [
    "### デバイス名の指定\n",
    "\n",
    "Moodle用、データベース用、それぞれのディスクに対応するデバイス名をここで指定します。"
   ]
  },
  {
   "cell_type": "markdown",
   "metadata": {},
   "source": [
    "まず、VCノードのブロックデバイスの一覧を確認します。"
   ]
  },
  {
   "cell_type": "code",
   "execution_count": null,
   "metadata": {},
   "outputs": [],
   "source": [
    "!ansible {ugroup_name} -a 'lsblk'"
   ]
  },
  {
   "cell_type": "markdown",
   "metadata": {},
   "source": [
    "データベース用、Moodle用ディスクに対応するブロックデバイス名を以下のセルで指定してください。\n",
    "\n",
    "> ブロックデバイス名はクラウドプロバイダやインスタンスタイプによって異なる値になるので、上のセルの出力結果を確認して値を設定してください。"
   ]
  },
  {
   "cell_type": "markdown",
   "metadata": {},
   "source": [
    "Moodle用ディスクのデバイス名を指定してください。"
   ]
  },
  {
   "cell_type": "code",
   "execution_count": null,
   "metadata": {
    "tags": [
     "vcp:skip",
     "vcp:parameters"
    ]
   },
   "outputs": [],
   "source": [
    "# (例)\n",
    "# moodle_disk_device = '/dev/xvdf'    # AWS\n",
    "# moodle_disk_device = '/dev/nvme2n1' # AWS(Nitroベース)\n",
    "# moodle_disk_device = '/dev/sdc'     # Azure\n",
    "\n",
    "moodle_disk_device = "
   ]
  },
  {
   "cell_type": "markdown",
   "metadata": {},
   "source": [
    "データベース用ディスクのデバイス名を指定してください。"
   ]
  },
  {
   "cell_type": "code",
   "execution_count": null,
   "metadata": {
    "tags": [
     "vcp:skip",
     "vcp:parameters"
    ]
   },
   "outputs": [],
   "source": [
    "# (例)\n",
    "# db_disk_device = '/dev/xvdg'    # AWS\n",
    "# db_disk_device = '/dev/nvme1n1' # AWS(Nitroベース)\n",
    "# db_disk_device = '/dev/sdd'     # Azure\n",
    "\n",
    "db_disk_device = "
   ]
  },
  {
   "cell_type": "markdown",
   "metadata": {
    "heading_collapsed": true
   },
   "source": [
    "### 論理ボリューム(LV)の作成\n",
    "\n",
    "LVMを用いて、各用途に応じた論理ボリュームを作成します。"
   ]
  },
  {
   "cell_type": "markdown",
   "metadata": {
    "hidden": true
   },
   "source": [
    "ここでは以下の論理ボリュームを作成します。\n",
    "\n",
    "* Moodle用ディスク\n",
    "  - Moodleデータ用論理ボリューム\n",
    "    - `moodledata` ディレクトリ用の論理ボリューム\n",
    "  - PHP用論理ボリューム\n",
    "    - MoodleのPHPファイルを格納する論理ボリューム\n",
    "* データベース用ディスク\n",
    "  - データベース用論理ボリューム\n",
    "  \n",
    "ここで作成する論理ボリュームは全てシンプロビジョニングされたものとします。そのため、すべての論理ボリュームの容量は、実際のディスク容量に依存しない、仮想化した値を設定できます。また、パラメータ設定の際にボリュームの暗号化を行うように設定した場合は、作成した各論理ボリュームに対して[LUKS](https://gitlab.com/cryptsetup/cryptsetup)を用いた暗号化を行います。"
   ]
  },
  {
   "cell_type": "markdown",
   "metadata": {
    "hidden": true
   },
   "source": [
    "#### Moodle用ボリュームの作成"
   ]
  },
  {
   "cell_type": "markdown",
   "metadata": {
    "hidden": true
   },
   "source": [
    "まずMoodle用ボリュームのボリュームグループ(VG)を作成します。VGの名前を次のセルで指定します。"
   ]
  },
  {
   "cell_type": "code",
   "execution_count": null,
   "metadata": {
    "hidden": true
   },
   "outputs": [],
   "source": [
    "moodle_vg_name = 'moodle'"
   ]
  },
  {
   "cell_type": "markdown",
   "metadata": {
    "hidden": true
   },
   "source": [
    "VGを作成します。"
   ]
  },
  {
   "cell_type": "code",
   "execution_count": null,
   "metadata": {
    "hidden": true
   },
   "outputs": [],
   "source": [
    "!ansible {ugroup_name} -b -m lvg -a 'pvs={moodle_disk_device} vg={moodle_vg_name}'"
   ]
  },
  {
   "cell_type": "markdown",
   "metadata": {
    "hidden": true
   },
   "source": [
    "VGが作成されたことを確認するために一覧を表示してみます。"
   ]
  },
  {
   "cell_type": "code",
   "execution_count": null,
   "metadata": {
    "hidden": true
   },
   "outputs": [],
   "source": [
    "!ansible {ugroup_name} -b -a 'vgs'"
   ]
  },
  {
   "cell_type": "markdown",
   "metadata": {
    "hidden": true
   },
   "source": [
    "作成したVGに thin poolを作成します。プールの名前を次のセルで指定します。"
   ]
  },
  {
   "cell_type": "code",
   "execution_count": null,
   "metadata": {
    "hidden": true
   },
   "outputs": [],
   "source": [
    "moodle_thinpool_name = 'moodle-pool'"
   ]
  },
  {
   "cell_type": "markdown",
   "metadata": {
    "hidden": true
   },
   "source": [
    "プールを作成します。\n",
    "\n",
    "> タイミングによりプールの作成に失敗することがあるので、何度かリトライします。"
   ]
  },
  {
   "cell_type": "code",
   "execution_count": null,
   "metadata": {
    "hidden": true
   },
   "outputs": [],
   "source": [
    "from time import sleep\n",
    "\n",
    "for retry in range(3):\n",
    "    try:\n",
    "        !ansible {ugroup_name} -b -m lvol -a \\\n",
    "            'vg={moodle_vg_name} thinpool={moodle_thinpool_name} size=98%VG'\n",
    "        break\n",
    "    except RuntimeError:\n",
    "        sleep(5)"
   ]
  },
  {
   "cell_type": "markdown",
   "metadata": {
    "hidden": true
   },
   "source": [
    "プールが作成されたことを確認するために一覧を表示してみます。"
   ]
  },
  {
   "cell_type": "code",
   "execution_count": null,
   "metadata": {
    "hidden": true
   },
   "outputs": [],
   "source": [
    "!ansible {ugroup_name} -b -a 'lvs -S \"lv_attr=~^t.+\"'"
   ]
  },
  {
   "cell_type": "markdown",
   "metadata": {
    "hidden": true
   },
   "source": [
    "作成したプールにmoodledata用のシンプロビジョニングボリュームを作成します。"
   ]
  },
  {
   "cell_type": "code",
   "execution_count": null,
   "metadata": {
    "hidden": true
   },
   "outputs": [],
   "source": [
    "moodle_lv_name = f'{gvars[\"project_tag\"]}_moodle'\n",
    "moodle_lv_size = f'{gvars[\"moodle_volume_data_size\"]}g'\n",
    "\n",
    "!ansible {ugroup_name} -b -m lvol -a \\\n",
    "    'vg={moodle_vg_name} thinpool={moodle_thinpool_name} \\\n",
    "    lv={moodle_lv_name} size={moodle_lv_size}'"
   ]
  },
  {
   "cell_type": "markdown",
   "metadata": {
    "hidden": true
   },
   "source": [
    "作成した論理ボリュームの情報を表示してみます。"
   ]
  },
  {
   "cell_type": "code",
   "execution_count": null,
   "metadata": {
    "hidden": true,
    "scrolled": false
   },
   "outputs": [],
   "source": [
    "!ansible {ugroup_name} -b -a \\\n",
    "    'lvdisplay {moodle_vg_name}/{moodle_lv_name}'"
   ]
  },
  {
   "cell_type": "markdown",
   "metadata": {
    "hidden": true
   },
   "source": [
    "パラメータ設定でボリュームの暗号化を有効にした場合は[LUKS](https://gitlab.com/cryptsetup/cryptsetup)による暗号化を行います。\n",
    "\n",
    "ボリュームを暗号化する手順を直接記述するのは煩雑となるので Ansible の playbook に記述してあります。\n",
    "playbookで実行している主な手順を以下に示します。\n",
    "\n",
    "1. VCCのVaultから登録してある暗号化キーを取得する\n",
    "1. `cryptsetup luksFormat`を実行し暗号化ストレージとして扱えるようにセットアップする\n",
    "1. `cryptsetup open` を実行し暗号化ストレージを読み書き可能な状態にする"
   ]
  },
  {
   "cell_type": "code",
   "execution_count": null,
   "metadata": {
    "hidden": true,
    "scrolled": true
   },
   "outputs": [],
   "source": [
    "!ansible-playbook -l {ugroup_name} playbooks/encrypt-moodle_data.yml"
   ]
  },
  {
   "cell_type": "markdown",
   "metadata": {
    "hidden": true
   },
   "source": [
    "プールにMoodleのPHPファイルを格納するシンプロビジョニングボリュームを作成します。"
   ]
  },
  {
   "cell_type": "code",
   "execution_count": null,
   "metadata": {
    "hidden": true
   },
   "outputs": [],
   "source": [
    "moodle_php_lv_name = f'{gvars[\"project_tag\"]}_php'\n",
    "moodle_php_lv_size = f'{gvars[\"moodle_volume_php_size\"]}g'\n",
    "\n",
    "!ansible {ugroup_name} -b -m lvol -a \\\n",
    "    'vg={moodle_vg_name} thinpool={moodle_thinpool_name} \\\n",
    "    lv={moodle_php_lv_name} size={moodle_php_lv_size}'"
   ]
  },
  {
   "cell_type": "markdown",
   "metadata": {
    "hidden": true
   },
   "source": [
    "作成した論理ボリュームの情報を表示してみます。"
   ]
  },
  {
   "cell_type": "code",
   "execution_count": null,
   "metadata": {
    "hidden": true
   },
   "outputs": [],
   "source": [
    "!ansible {ugroup_name} -b -a \\\n",
    "    'lvdisplay {moodle_vg_name}/{moodle_php_lv_name}'"
   ]
  },
  {
   "cell_type": "markdown",
   "metadata": {
    "hidden": true
   },
   "source": [
    "パラメータ設定でボリュームの暗号化を有効にした場合は[LUKS](https://gitlab.com/cryptsetup/cryptsetup)による暗号化を行います。"
   ]
  },
  {
   "cell_type": "code",
   "execution_count": null,
   "metadata": {
    "hidden": true,
    "scrolled": true
   },
   "outputs": [],
   "source": [
    "!ansible-playbook -l {ugroup_name} playbooks/encrypt-moodle_php.yml"
   ]
  },
  {
   "cell_type": "markdown",
   "metadata": {
    "hidden": true
   },
   "source": [
    "#### データベース用ボリュームの作成"
   ]
  },
  {
   "cell_type": "markdown",
   "metadata": {
    "hidden": true
   },
   "source": [
    "まずデータベース用ボリュームのボリュームグループ(VG)を作成します。VGの名前を次のセルで指定します。"
   ]
  },
  {
   "cell_type": "code",
   "execution_count": null,
   "metadata": {
    "hidden": true
   },
   "outputs": [],
   "source": [
    "db_vg_name = 'db'"
   ]
  },
  {
   "cell_type": "markdown",
   "metadata": {
    "hidden": true
   },
   "source": [
    "VGを作成します。"
   ]
  },
  {
   "cell_type": "code",
   "execution_count": null,
   "metadata": {
    "hidden": true
   },
   "outputs": [],
   "source": [
    "!ansible {ugroup_name} -b -m lvg -a 'pvs={db_disk_device} vg={db_vg_name}'"
   ]
  },
  {
   "cell_type": "markdown",
   "metadata": {
    "hidden": true
   },
   "source": [
    "作成したVGに thin poolを作成します。プールの名前を次のセルで指定します。"
   ]
  },
  {
   "cell_type": "code",
   "execution_count": null,
   "metadata": {
    "hidden": true
   },
   "outputs": [],
   "source": [
    "db_thinpool_name = 'db-pool'"
   ]
  },
  {
   "cell_type": "markdown",
   "metadata": {
    "hidden": true
   },
   "source": [
    "プールを作成します。\n",
    "\n",
    "> タイミングによりプールの作成に失敗することがあるので、何度かリトライします。"
   ]
  },
  {
   "cell_type": "code",
   "execution_count": null,
   "metadata": {
    "hidden": true
   },
   "outputs": [],
   "source": [
    "from time import sleep\n",
    "\n",
    "for retry in range(3):\n",
    "    try:\n",
    "        !ansible {ugroup_name} -b -m lvol -a \\\n",
    "            'vg={db_vg_name} thinpool={db_thinpool_name} size=98%VG'\n",
    "        break\n",
    "    except RuntimeError:\n",
    "        sleep(5)"
   ]
  },
  {
   "cell_type": "markdown",
   "metadata": {
    "hidden": true
   },
   "source": [
    "作成したプールにシンプロビジョニングボリュームを作成します。"
   ]
  },
  {
   "cell_type": "code",
   "execution_count": null,
   "metadata": {
    "hidden": true
   },
   "outputs": [],
   "source": [
    "db_lv_name = f'{gvars[\"project_tag\"]}_db'\n",
    "db_lv_size = f'{gvars[\"db_volume_size\"]}g'\n",
    "!ansible {ugroup_name} -b -m lvol -a \\\n",
    "    'vg={db_vg_name} thinpool={db_thinpool_name} \\\n",
    "    lv={db_lv_name} size={db_lv_size}'"
   ]
  },
  {
   "cell_type": "markdown",
   "metadata": {
    "hidden": true
   },
   "source": [
    "作成した論理ボリュームの情報を表示してみます。"
   ]
  },
  {
   "cell_type": "code",
   "execution_count": null,
   "metadata": {
    "hidden": true
   },
   "outputs": [],
   "source": [
    "!ansible {ugroup_name} -b -a 'lvdisplay {db_vg_name}/{db_lv_name}'"
   ]
  },
  {
   "cell_type": "markdown",
   "metadata": {
    "hidden": true
   },
   "source": [
    "パラメータ設定でボリュームの暗号化を有効にした場合は[LUKS](https://gitlab.com/cryptsetup/cryptsetup)による暗号化を行います。"
   ]
  },
  {
   "cell_type": "code",
   "execution_count": null,
   "metadata": {
    "hidden": true,
    "scrolled": true
   },
   "outputs": [],
   "source": [
    "!ansible-playbook -l {ugroup_name} playbooks/encrypt-db.yml"
   ]
  },
  {
   "cell_type": "markdown",
   "metadata": {
    "heading_collapsed": true
   },
   "source": [
    "### ファイルシステムの作成\n",
    "\n",
    "前節で作成した各論理ボリュームにファイルシステムを作成します。使用するファイルシステムは XFS とします。"
   ]
  },
  {
   "cell_type": "markdown",
   "metadata": {
    "hidden": true
   },
   "source": [
    "#### Moodle Data用ボリュームのファイルシステム作成"
   ]
  },
  {
   "cell_type": "markdown",
   "metadata": {
    "hidden": true
   },
   "source": [
    "Moodle Data用ボリュームにファイルシステムを作成します。"
   ]
  },
  {
   "cell_type": "code",
   "execution_count": null,
   "metadata": {
    "hidden": true,
    "scrolled": true
   },
   "outputs": [],
   "source": [
    "moodle_vol = f'{moodle_vg_name}-{moodle_lv_name}{\"-enc\" if gvars[\"moodle_volume_encrypt\"] else \"\"}'\n",
    "!ansible {ugroup_name} -b -a \\\n",
    "    'mkfs.xfs /dev/mapper/{moodle_vol}'"
   ]
  },
  {
   "cell_type": "markdown",
   "metadata": {
    "hidden": true
   },
   "source": [
    "マウントします。"
   ]
  },
  {
   "cell_type": "code",
   "execution_count": null,
   "metadata": {
    "hidden": true
   },
   "outputs": [],
   "source": [
    "!ansible {ugroup_name} -b -m mount -a \\\n",
    "    'fstype=xfs state=mounted \\\n",
    "    name=/opt/moodle/moodle-{{{{project_tag}}}}/data/moodledata \\\n",
    "    src=/dev/mapper/{moodle_vol}'"
   ]
  },
  {
   "cell_type": "markdown",
   "metadata": {
    "hidden": true
   },
   "source": [
    "マウントされたことを確認します。"
   ]
  },
  {
   "cell_type": "code",
   "execution_count": null,
   "metadata": {
    "hidden": true
   },
   "outputs": [],
   "source": [
    "!ansible {ugroup_name} -m shell -a \\\n",
    "    'mount | grep /opt/moodle/moodle-{{{{project_tag}}}}/data/moodledata'"
   ]
  },
  {
   "cell_type": "markdown",
   "metadata": {
    "hidden": true
   },
   "source": [
    "#### PHPファイル用ボリュームのファイルシステム作成"
   ]
  },
  {
   "cell_type": "markdown",
   "metadata": {
    "hidden": true
   },
   "source": [
    "ファイルシステムを作成します。"
   ]
  },
  {
   "cell_type": "code",
   "execution_count": null,
   "metadata": {
    "hidden": true,
    "scrolled": true
   },
   "outputs": [],
   "source": [
    "php_vol = f'{moodle_vg_name}-{moodle_php_lv_name}{\"-enc\" if gvars[\"moodle_volume_encrypt\"] else \"\"}'\n",
    "!ansible {ugroup_name} -b -a \\\n",
    "    'mkfs.xfs /dev/mapper/{php_vol}'"
   ]
  },
  {
   "cell_type": "markdown",
   "metadata": {
    "hidden": true
   },
   "source": [
    "マウントします。"
   ]
  },
  {
   "cell_type": "code",
   "execution_count": null,
   "metadata": {
    "hidden": true,
    "scrolled": true
   },
   "outputs": [],
   "source": [
    "!ansible {ugroup_name} -b -m mount -a \\\n",
    "    'fstype=xfs state=mounted \\\n",
    "    name=/opt/moodle/moodle-{{{{project_tag}}}}/data/php \\\n",
    "    src=/dev/mapper/{php_vol}'"
   ]
  },
  {
   "cell_type": "markdown",
   "metadata": {
    "hidden": true
   },
   "source": [
    "マウントされたことを確認します。"
   ]
  },
  {
   "cell_type": "code",
   "execution_count": null,
   "metadata": {
    "hidden": true
   },
   "outputs": [],
   "source": [
    "!ansible {ugroup_name} -m shell -a \\\n",
    "    'mount | grep /opt/moodle/moodle-{{{{project_tag}}}}/data/php'"
   ]
  },
  {
   "cell_type": "markdown",
   "metadata": {
    "hidden": true
   },
   "source": [
    "#### データベース用ボリュームのファイルシステム作成"
   ]
  },
  {
   "cell_type": "markdown",
   "metadata": {
    "hidden": true
   },
   "source": [
    "データベース用ボリュームにファイルシステムを作成します。"
   ]
  },
  {
   "cell_type": "code",
   "execution_count": null,
   "metadata": {
    "hidden": true
   },
   "outputs": [],
   "source": [
    "db_vol = f'{db_vg_name}-{db_lv_name}{\"-enc\" if gvars[\"db_volume_encrypt\"] else \"\"}'\n",
    "!ansible {ugroup_name} -b -a \\\n",
    "    'mkfs.xfs /dev/mapper/{db_vol}'"
   ]
  },
  {
   "cell_type": "markdown",
   "metadata": {
    "hidden": true
   },
   "source": [
    "マウントします。"
   ]
  },
  {
   "cell_type": "code",
   "execution_count": null,
   "metadata": {
    "hidden": true
   },
   "outputs": [],
   "source": [
    "!ansible {ugroup_name} -b -m mount -a \\\n",
    "    'fstype=xfs state=mounted \\\n",
    "    name=/opt/moodle/db-{{{{project_tag}}}}/data \\\n",
    "    src=/dev/mapper/{db_vol}'"
   ]
  },
  {
   "cell_type": "markdown",
   "metadata": {
    "hidden": true
   },
   "source": [
    "マウントされたことを確認します。"
   ]
  },
  {
   "cell_type": "code",
   "execution_count": null,
   "metadata": {
    "hidden": true
   },
   "outputs": [],
   "source": [
    "!ansible {ugroup_name} -m shell -a \\\n",
    "    'mount | grep /opt/moodle/db-{{{{project_tag}}}}/data'"
   ]
  },
  {
   "cell_type": "markdown",
   "metadata": {
    "heading_collapsed": true
   },
   "source": [
    "## 設定ファイルの配置\n",
    "\n",
    "アプリケーションコンテナを実行するのに必要となる設定ファイルを実行環境(VCノード)に配置します。\n",
    "\n",
    "![設定ファイルの配置](images/moodle-020-07.png)"
   ]
  },
  {
   "cell_type": "markdown",
   "metadata": {
    "hidden": true
   },
   "source": [
    "このNotebookで構築する環境では、コンテナで実行するサービスの設定ファイルを構築環境のホスト側に配置します。\n",
    "これはコンテナイメージに状態を持たせないようにすることを意図しています。ホスト側に配置した設定ファイルは`docker-compose.yml`で指定した[bind mount](https://docs.docker.com/storage/bind-mounts/)によりコンテナから参照できるようにしています。"
   ]
  },
  {
   "cell_type": "markdown",
   "metadata": {
    "hidden": true
   },
   "source": [
    "bind mountによって配置する設定ファイルのパスをホスト環境、コンテナ環境のそれぞれの対応関係について以下の表に示します。\n",
    "\n",
    "<table>\n",
    "  <tr>\n",
    "    <th style=\"text-align:left;\">コンテナ名</th>\n",
    "    <th style=\"text-align:left;\">コンテナ内のパス</th>\n",
    "    <th style=\"text-align:left;\">VCノードのパス</th>\n",
    "  </tr>\n",
    "  <tr>\n",
    "    <td style=\"text-align:left;\">moodle-0</td>\n",
    "    <td style=\"text-align:left;\">/etc/php.ini</td>\n",
    "    <td style=\"text-align:left;\">/opt/moodle/moodle-0/conf/php.ini</td>\n",
    "  </tr>\n",
    "  <tr>\n",
    "    <td style=\"text-align:left;\">moodle-0</td>\n",
    "    <td style=\"text-align:left;\">/etc/php.d</td>\n",
    "    <td style=\"text-align:left;\">/opt/moodle/moodle-0/conf/php.d</td>\n",
    "  </tr>\n",
    "  <tr>\n",
    "    <td style=\"text-align:left;\">moodle-0</td>\n",
    "    <td style=\"text-align:left;\">/etc/php-zts.d</td>\n",
    "    <td style=\"text-align:left;\">/opt/moodle/moodle-0/conf/php-zts.d</td>\n",
    "  </tr>\n",
    "  <tr>\n",
    "    <td style=\"text-align:left;\">moodle-0</td>\n",
    "    <td style=\"text-align:left;\">/etc/httpd/conf</td>\n",
    "    <td style=\"text-align:left;\">/opt/moodle/moodle-0/conf/httpd/conf</td>\n",
    "  </tr>\n",
    "  <tr>\n",
    "    <td style=\"text-align:left;\">moodle-0</td>\n",
    "    <td style=\"text-align:left;\">/etc/httpd/conf.d</td>\n",
    "    <td style=\"text-align:left;\">/opt/moodle/moodle-0/conf/httpd/conf.d</td>\n",
    "  </tr>\n",
    "  <tr>\n",
    "    <td style=\"text-align:left;\">moodle-0</td>\n",
    "    <td style=\"text-align:left;\">/etc/httpd/conf.modules.d</td>\n",
    "    <td style=\"text-align:left;\">/opt/moodle/moodle-0/conf/httpd/conf.modules.d</td>\n",
    "  </tr>\n",
    "  <tr>\n",
    "    <td style=\"text-align:left;\">db-0</td>\n",
    "    <td style=\"text-align:left;\">/etc/mysql</td>\n",
    "    <td style=\"text-align:left;\">/opt/moodle/db-0/conf</td>\n",
    "  </tr>\n",
    "  <tr>\n",
    "    <td style=\"text-align:left;\">proxy</td>\n",
    "    <td style=\"text-align:left;\">/usr/local/apache2/conf</td>\n",
    "    <td style=\"text-align:left;\">/opt/moodle/proxy/conf</td>\n",
    "  </tr>\n",
    "  <tr>\n",
    "    <td style=\"text-align:left;\">proxy</td>\n",
    "    <td style=\"text-align:left;\">/usr/local/apache2/conf/cert/</td>\n",
    "    <td style=\"text-align:left;\">/opt/moodle/cert/</td>\n",
    "  </tr>\n",
    "</table>\n"
   ]
  },
  {
   "cell_type": "markdown",
   "metadata": {
    "hidden": true
   },
   "source": [
    "### コンテナ作成\n",
    "\n",
    "コンテナイメージから設定ファイルをホスト環境にコピーします。"
   ]
  },
  {
   "cell_type": "markdown",
   "metadata": {
    "hidden": true
   },
   "source": [
    "まず、コンテナ構成を記述した`docker-compose.yml`を配置します。"
   ]
  },
  {
   "cell_type": "code",
   "execution_count": null,
   "metadata": {
    "hidden": true,
    "scrolled": true
   },
   "outputs": [],
   "source": [
    "!ansible {ugroup_name} -b -m file -a 'path=/opt/moodle state=directory owner=vcp'\n",
    "!ansible {ugroup_name} -m template -e prepare=yes -a \\\n",
    "    'src=template/docker/compose/docker-compose.yml \\\n",
    "    dest=/opt/moodle/'"
   ]
  },
  {
   "cell_type": "markdown",
   "metadata": {
    "hidden": true
   },
   "source": [
    "コンテナの作成を行います。ここで作成するコンテナは設定ファイルをコピーするための一時的なものです。実際にMoodleを実行するためのコンテナは次章で起動を行います。"
   ]
  },
  {
   "cell_type": "code",
   "execution_count": null,
   "metadata": {
    "hidden": true
   },
   "outputs": [],
   "source": [
    "!ansible {ugroup_name} -a 'chdir=/opt/moodle \\\n",
    "    docker-compose create'"
   ]
  },
  {
   "cell_type": "markdown",
   "metadata": {
    "hidden": true
   },
   "source": [
    "コンテナの状態を確認します。`db-0`, `moodle-0`, `proxy`コンテナが作成され、`State`の表示がいずれも`Exit 0`となっていることが想定されます。"
   ]
  },
  {
   "cell_type": "code",
   "execution_count": null,
   "metadata": {
    "hidden": true
   },
   "outputs": [],
   "source": [
    "!ansible {ugroup_name} -a 'chdir=/opt/moodle \\\n",
    "    docker-compose ps'"
   ]
  },
  {
   "cell_type": "markdown",
   "metadata": {
    "hidden": true
   },
   "source": [
    "### Moodleコンテナ\n",
    "\n",
    "Moodleコンテナの設定ファイルをVCノードのホスト環境に配置します。"
   ]
  },
  {
   "cell_type": "code",
   "execution_count": null,
   "metadata": {
    "hidden": true,
    "scrolled": true
   },
   "outputs": [],
   "source": [
    "moodle_cnt = f'moodle-{gvars[\"project_tag\"]}'\n",
    "!ansible {ugroup_name} -b -m file -a \\\n",
    "    'path=/opt/moodle/{moodle_cnt} state=directory owner=vcp'\n",
    "!ansible {ugroup_name} -b -m file -a \\\n",
    "    'path=/opt/moodle/{moodle_cnt}/conf state=directory owner=vcp'\n",
    "!ansible {ugroup_name} -b -m file -a \\\n",
    "    'path=/opt/moodle/{moodle_cnt}/conf/httpd state=directory owner=vcp'\n",
    "!ansible {ugroup_name} -b -a 'chdir=/opt/moodle \\\n",
    "    docker cp -a {moodle_cnt}:/etc/php.ini {moodle_cnt}/conf/'\n",
    "!ansible {ugroup_name} -b -a 'chdir=/opt/moodle \\\n",
    "    docker cp -a {moodle_cnt}:/etc/php.d {moodle_cnt}/conf/'\n",
    "!ansible {ugroup_name} -b -a 'chdir=/opt/moodle \\\n",
    "    docker cp -a {moodle_cnt}:/etc/php-zts.d {moodle_cnt}/conf/'\n",
    "!ansible {ugroup_name} -b -a 'chdir=/opt/moodle \\\n",
    "    docker cp -a {moodle_cnt}:/etc/httpd/conf {moodle_cnt}/conf/httpd/'\n",
    "!ansible {ugroup_name} -b -a 'chdir=/opt/moodle \\\n",
    "    docker cp -a {moodle_cnt}:/etc/httpd/conf.d {moodle_cnt}/conf/httpd/'\n",
    "!ansible {ugroup_name} -b -a 'chdir=/opt/moodle \\\n",
    "    docker cp -a {moodle_cnt}:/etc/httpd/conf.modules.d {moodle_cnt}/conf/httpd/'"
   ]
  },
  {
   "cell_type": "markdown",
   "metadata": {
    "hidden": true
   },
   "source": [
    "設定ファイルが配置されたことを確認します。"
   ]
  },
  {
   "cell_type": "code",
   "execution_count": null,
   "metadata": {
    "hidden": true,
    "scrolled": true
   },
   "outputs": [],
   "source": [
    "!ansible {ugroup_name} -b -a 'chdir=/opt/moodle \\\n",
    "    tree {moodle_cnt}/conf'"
   ]
  },
  {
   "cell_type": "markdown",
   "metadata": {
    "hidden": true
   },
   "source": [
    "### データベースコンテナ\n",
    "\n",
    "データベースコンテナの設定ファイルをVCノードのホスト環境に配置します。"
   ]
  },
  {
   "cell_type": "code",
   "execution_count": null,
   "metadata": {
    "hidden": true,
    "scrolled": true
   },
   "outputs": [],
   "source": [
    "db_cnt = f'db-{gvars[\"project_tag\"]}'\n",
    "!ansible {ugroup_name} -b -m file -a \\\n",
    "    'path=/opt/moodle/{db_cnt} state=directory owner=vcp'\n",
    "!ansible {ugroup_name} -b -m file -a \\\n",
    "    'path=/opt/moodle/{db_cnt}/conf state=directory owner=vcp'\n",
    "!ansible {ugroup_name} -b -a 'chdir=/opt/moodle \\\n",
    "    docker cp -a {db_cnt}:/etc/mysql {db_cnt}/conf/'"
   ]
  },
  {
   "cell_type": "markdown",
   "metadata": {
    "hidden": true
   },
   "source": [
    "デフォルト設定から変更が必要となるものに関する設定ファイルを配置します。"
   ]
  },
  {
   "cell_type": "code",
   "execution_count": null,
   "metadata": {
    "hidden": true
   },
   "outputs": [],
   "source": [
    "!ansible {ugroup_name} -b -m synchronize -a \\\n",
    "    'src=template/db/ dest=/opt/moodle/{db_cnt}/conf'"
   ]
  },
  {
   "cell_type": "markdown",
   "metadata": {
    "hidden": true
   },
   "source": [
    "設定ファイルの uid, gid を変更します。"
   ]
  },
  {
   "cell_type": "code",
   "execution_count": null,
   "metadata": {
    "hidden": true
   },
   "outputs": [],
   "source": [
    "!ansible {ugroup_name} -b -a \\\n",
    "    'chown -R 999:999 /opt/moodle/{db_cnt}/conf/mysql'"
   ]
  },
  {
   "cell_type": "markdown",
   "metadata": {
    "hidden": true
   },
   "source": [
    "設定ファイルが配置されたことを確認します。"
   ]
  },
  {
   "cell_type": "code",
   "execution_count": null,
   "metadata": {
    "hidden": true,
    "pinned_outputs": [],
    "scrolled": true
   },
   "outputs": [],
   "source": [
    "!ansible {ugroup_name} -b -a 'chdir=/opt/moodle \\\n",
    "    tree {db_cnt}/conf'"
   ]
  },
  {
   "cell_type": "markdown",
   "metadata": {
    "hidden": true
   },
   "source": [
    "### リバースプロキシコンテナ\n",
    "\n",
    "リバースプロキシコンテナの設定ファイルをVCノードのホスト環境に配置します。"
   ]
  },
  {
   "cell_type": "code",
   "execution_count": null,
   "metadata": {
    "hidden": true,
    "scrolled": true
   },
   "outputs": [],
   "source": [
    "!ansible {ugroup_name} -b -m file -a \\\n",
    "    'path=/opt/moodle/proxy state=directory owner=vcp'\n",
    "!ansible {ugroup_name} -b -a 'chdir=/opt/moodle \\\n",
    "    docker cp -a proxy:/usr/local/apache2/conf /opt/moodle/proxy/'"
   ]
  },
  {
   "cell_type": "markdown",
   "metadata": {
    "hidden": true
   },
   "source": [
    "リバースプロキシに関する設定を記したファイルをVCノードに配置します。"
   ]
  },
  {
   "cell_type": "code",
   "execution_count": null,
   "metadata": {
    "hidden": true
   },
   "outputs": [],
   "source": [
    "!ansible {ugroup_name} -b -m template -a \\\n",
    "    'src=template/docker/compose/moodle-proxy.conf.template \\\n",
    "    dest=/opt/moodle/proxy/conf/moodle-proxy.conf'"
   ]
  },
  {
   "cell_type": "markdown",
   "metadata": {
    "hidden": true
   },
   "source": [
    "デフォルト設定から修正が必要となるものを変更します。"
   ]
  },
  {
   "cell_type": "code",
   "execution_count": null,
   "metadata": {
    "hidden": true,
    "scrolled": true
   },
   "outputs": [],
   "source": [
    "!ansible {ugroup_name} -b -m lineinfile -a \\\n",
    "    'path=/opt/moodle/proxy/conf/extra/httpd-ssl.conf \\\n",
    "    regexp=\"moodle-proxy\\.conf\" insertbefore=\"</VirtualHost>\" \\\n",
    "    line=\"Include conf/moodle-proxy.conf\"'\n",
    "\n",
    "!ansible {ugroup_name} -b -a \\\n",
    "    'sed -r -i -e \"/SSLProtocol|SSLProxyProtocol/s/Protocol.+/Protocol -all +TLSv1.2 +TLSv1.3/\" \\\n",
    "    -e \"/ServerName/s/^ServerName/#ServerName/\" \\\n",
    "    -e \"/^SSLCertificate/s%/usr/local/apache2/conf/server%/usr/local/apache2/conf/cert/server%\" \\\n",
    "    /opt/moodle/proxy/conf/extra/httpd-ssl.conf'\n",
    "\n",
    "!ansible {ugroup_name} -b -a \\\n",
    "    'sed -r -i -e \"/(socache_shmcb|remoteip|proxy|proxy_http|ssl|rewrite)_module/s/^#//\" \\\n",
    "    -e \"/httpd-ssl.conf/s/^#Include/Include/\" \\\n",
    "    /opt/moodle/proxy/conf/httpd.conf'"
   ]
  },
  {
   "cell_type": "markdown",
   "metadata": {
    "hidden": true
   },
   "source": [
    "サーバ証明書をVCノードに配置します。"
   ]
  },
  {
   "cell_type": "code",
   "execution_count": null,
   "metadata": {
    "hidden": true,
    "scrolled": true
   },
   "outputs": [],
   "source": [
    "!ansible {ugroup_name} -m file -a 'state=directory path=/opt/moodle/cert'\n",
    "!ansible {ugroup_name} -m copy -a 'src={{{{rproxy_tls_cert_path}}}} dest=/opt/moodle/cert/server.crt'\n",
    "!ansible {ugroup_name} -m copy -a 'src={{{{rproxy_tls_key_path}}}} dest=/opt/moodle/cert/server.key'"
   ]
  },
  {
   "cell_type": "markdown",
   "metadata": {
    "hidden": true
   },
   "source": [
    "### docker-compose"
   ]
  },
  {
   "cell_type": "markdown",
   "metadata": {
    "hidden": true
   },
   "source": [
    "この章のはじめの節でコンテナから設定ファイルをコピーするための仮の`docker-compose.yml`を配置しました。ここではMoodleを実行するための`docker-compose.yml`を改めて配置します。\n",
    "\n",
    "VCノードに配置するファイルを次の表に示します。\n",
    "\n",
    "<table>\n",
    "  <tr>\n",
    "    <th style=\"text-align:left;\">VCノードのパス</th>\n",
    "    <th style=\"text-align:left;\">説明</th>\n",
    "  </tr>\n",
    "  <tr>\n",
    "    <td style=\"text-align:left;\">/opt/moodle/docker-compose.yml</td>\n",
    "    <td style=\"text-align:left;\">docker-composeの構成ファイル</td>\n",
    "  </tr>\n",
    "  <tr>\n",
    "    <td style=\"text-align:left;\">/opt/moodle/.env.db</td>\n",
    "    <td style=\"text-align:left;\">データベースへの接続情報をコンテナの環境変数に設定するためのファイル</td>\n",
    "  </tr>\n",
    "</table>"
   ]
  },
  {
   "cell_type": "markdown",
   "metadata": {
    "hidden": true
   },
   "source": [
    "`docker-compose.yml`を配置する前に、仮に作成したコンテナを削除します。"
   ]
  },
  {
   "cell_type": "code",
   "execution_count": null,
   "metadata": {
    "hidden": true
   },
   "outputs": [],
   "source": [
    "!ansible {ugroup_name} -a 'chdir=/opt/moodle docker-compose down'"
   ]
  },
  {
   "cell_type": "markdown",
   "metadata": {
    "hidden": true
   },
   "source": [
    "`docker-compose.yml`をVCノードに配置します。"
   ]
  },
  {
   "cell_type": "code",
   "execution_count": null,
   "metadata": {
    "hidden": true
   },
   "outputs": [],
   "source": [
    "!ansible {ugroup_name} -m template -a \\\n",
    "    'src=template/docker/compose/docker-compose.yml \\\n",
    "    dest=/opt/moodle/'"
   ]
  },
  {
   "cell_type": "markdown",
   "metadata": {
    "hidden": true
   },
   "source": [
    "データベースへの接続情報については、直接 `docker-compose.yml` に記さずに別ファイル`.env.db`に記述しています。`.env.db`ファイルをVCノードに配置します。"
   ]
  },
  {
   "cell_type": "code",
   "execution_count": null,
   "metadata": {
    "hidden": true
   },
   "outputs": [],
   "source": [
    "!ansible {ugroup_name} -m template -a \\\n",
    "    'src=template/docker/compose/env \\\n",
    "    dest=/opt/moodle/.env.db'"
   ]
  },
  {
   "cell_type": "markdown",
   "metadata": {
    "heading_collapsed": true
   },
   "source": [
    "## アプリケーションコンテナの起動\n",
    "\n",
    "Moodleコンテナ、データベースコンテナ、リバースプロキシコンテナを起動して、Moodle環境を起動します。\n",
    "\n",
    "![コンテナの起動](images/moodle-020-08.png)"
   ]
  },
  {
   "cell_type": "markdown",
   "metadata": {
    "hidden": true
   },
   "source": [
    "docker-composeコマンドを実行してコンテナの起動を行います。"
   ]
  },
  {
   "cell_type": "code",
   "execution_count": null,
   "metadata": {
    "hidden": true
   },
   "outputs": [],
   "source": [
    "!ansible {ugroup_name} -a 'chdir=/opt/moodle docker-compose up -d'"
   ]
  },
  {
   "cell_type": "markdown",
   "metadata": {
    "hidden": true
   },
   "source": [
    "Moodleのインストール処理が完了してMoodleのサービスが開始されるまで数分程度を要します。ここではMoodleのサービスが開始されるまでの待ち合わせを行います。\n",
    "\n",
    "> Moodleが起動するまでは `503 Service Unavailable` と表示されます。その間は、そのまま待ってください。"
   ]
  },
  {
   "cell_type": "code",
   "execution_count": null,
   "metadata": {
    "hidden": true
   },
   "outputs": [],
   "source": [
    "%run scripts/utils.py\n",
    "moodle_url = 'https://' + gvars['vc_moodle_ipaddress']\n",
    "\n",
    "def check_not_bad_gateway():\n",
    "    try:\n",
    "        !curl -k -s -I {moodle_url} | grep 503\n",
    "        raise Exception()\n",
    "    except RuntimeError:\n",
    "        pass\n",
    "\n",
    "retry_exec(check_not_bad_gateway, err=Exception)"
   ]
  },
  {
   "cell_type": "markdown",
   "metadata": {},
   "source": [
    "## Moodle を利用できることを確認\n",
    "\n",
    "構築したMoodle環境にアクセスし、Moodle が利用できることを確認します。"
   ]
  },
  {
   "cell_type": "markdown",
   "metadata": {},
   "source": [
    "### アドレスの確認"
   ]
  },
  {
   "cell_type": "markdown",
   "metadata": {},
   "source": [
    "次のセルを実行すると表示されるリンクが、構築したMoodle環境のアドレスです。リンクをクリックしてMoodle環境にログインしてください。"
   ]
  },
  {
   "cell_type": "code",
   "execution_count": null,
   "metadata": {
    "tags": [
     "vcp:callback:moodle-020-01"
    ]
   },
   "outputs": [],
   "source": [
    "from IPython.core.display import HTML\n",
    "HTML(u'<a href=\"{0}\" target=\"_blank\">{0}</a>'.format(gvars['moodle_url']))"
   ]
  },
  {
   "cell_type": "markdown",
   "metadata": {},
   "source": [
    "### ライブログの確認\n",
    "\n",
    "Moodle のライブログを確認します。次のセルを実行すると表示されるリンクをクリックしてください。"
   ]
  },
  {
   "cell_type": "code",
   "execution_count": null,
   "metadata": {
    "tags": [
     "vcp:callback:moodle-020-02"
    ]
   },
   "outputs": [],
   "source": [
    "from IPython.core.display import HTML\n",
    "HTML(u'<a href=\"{0}/report/loglive/index.php\" target=\"_blank\">{0}/report/loglive/index.php</a>'.format(gvars['moodle_url']))"
   ]
  }
 ],
 "metadata": {
  "kernelspec": {
   "display_name": "Python 3",
   "language": "python",
   "name": "python3"
  },
  "language_info": {
   "file_extension": ".py",
   "mimetype": "text/x-python",
   "name": "python",
   "nbconvert_exporter": "python",
   "pygments_lexer": "ipython3",
   "version": "3.8.6"
  },
  "toc": {
   "base_numbering": 1,
   "nav_menu": {},
   "number_sections": true,
   "sideBar": true,
   "skip_h1_title": true,
   "title_cell": "Table of Contents",
   "title_sidebar": "Contents",
   "toc_cell": false,
   "toc_position": {},
   "toc_section_display": "block",
   "toc_window_display": true
  }
 },
 "nbformat": 4,
 "nbformat_minor": 2
}
