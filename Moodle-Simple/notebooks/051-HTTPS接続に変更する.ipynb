{
 "cells": [
  {
   "cell_type": "markdown",
   "metadata": {},
   "source": [
    "# About: HTTPS接続に変更する\n",
    "---\n",
    "Moodleコンテナへの接続を HTTP から HTTPS に変更します。"
   ]
  },
  {
   "cell_type": "markdown",
   "metadata": {},
   "source": [
    "## 概要\n",
    "\n",
    "「021-Moodleコンテナの起動.ipynb」で構築したMoodle環境ではHTTP(80)で接続する設定となっています。この設定を変更しHTTPS(443)でMoodleコンテナに接続できるように変更する手順を示します。"
   ]
  },
  {
   "cell_type": "markdown",
   "metadata": {},
   "source": [
    "![処理の流れ](images/moodle-051-01.png)\n",
    "\n",
    "主な手順は以下のようになります。\n",
    "\n",
    "1. Moodleコンテナに `mod_ssl` パッケージを追加する\n",
    "1. HTTPS接続を行うためのサーバ証明書を配置する\n",
    "1. HTTPS接続に行うためのApache HTTP Serverの設定ファイル `ssl.conf` を編集する\n",
    "1. `docker-compose.yml` を編集してMoodleの公開ポートなどを変更する"
   ]
  },
  {
   "cell_type": "markdown",
   "metadata": {},
   "source": [
    "ApacheHTTP Serverに配置するサーバ証明書、秘密鍵ファイルは、このNotebook環境に事前にアップロードを行ってください。"
   ]
  },
  {
   "cell_type": "markdown",
   "metadata": {},
   "source": [
    "## パラメータの指定"
   ]
  },
  {
   "cell_type": "markdown",
   "metadata": {},
   "source": [
    "### グループ名の指定\n",
    "\n",
    "このNotebookの操作対象となるAnsibleのグループ名を設定します。"
   ]
  },
  {
   "cell_type": "code",
   "execution_count": null,
   "metadata": {},
   "outputs": [],
   "source": [
    "# (例)\n",
    "# target_group = 'Moodle'\n",
    "\n",
    "target_group ="
   ]
  },
  {
   "cell_type": "markdown",
   "metadata": {
    "heading_collapsed": true
   },
   "source": [
    "#### チェック\n",
    "\n",
    "指定された `target_group` の値が適切なものかチェックします。"
   ]
  },
  {
   "cell_type": "markdown",
   "metadata": {
    "hidden": true
   },
   "source": [
    "`target_group` に対応する `group_vars` ファイルが存在していることを確認します。"
   ]
  },
  {
   "cell_type": "code",
   "execution_count": null,
   "metadata": {
    "hidden": true
   },
   "outputs": [],
   "source": [
    "from pathlib import Path\n",
    "if not (Path('group_vars') / (target_group + '.yml')).exists():\n",
    "    raise RuntimeError(f\"ERROR: not exists {target_group + '.yml'}\")"
   ]
  },
  {
   "cell_type": "markdown",
   "metadata": {
    "hidden": true
   },
   "source": [
    "`target_group`で指定したホストにAnsibleで到達可能であることを確認します。"
   ]
  },
  {
   "cell_type": "code",
   "execution_count": null,
   "metadata": {
    "hidden": true
   },
   "outputs": [],
   "source": [
    "!ansible {target_group} -m ping"
   ]
  },
  {
   "cell_type": "markdown",
   "metadata": {},
   "source": [
    "### 現在利用中のMoodleコンテナイメージの指定"
   ]
  },
  {
   "cell_type": "markdown",
   "metadata": {},
   "source": [
    "HTTP接続の構成で利用しているMoodleコンテナイメージには`mod_ssl`パッケージがインストールされていません。そこで、このNotebookでは`mod_ssl`パッケージを追加した新たなMoodleコンテナのイメージを作成します。\n",
    "\n",
    "操作対象のMoodle環境が「021-Moodleコンテナの起動.ipynb」によって作成された場合は `group_vars` ファイルにMoodleコンテナイメージ名が記録されているため、それを元に新たなコンテナイメージを作成することができます。しかし「821-AmazonS3からのリストア.ipynb」、「822-scpによるリストア.ipynb」によって復元された環境の場合、`group_vars` にMoodleコンテナのイメージ名が記録されていないため、ここで改めて指定する必要があります。"
   ]
  },
  {
   "cell_type": "markdown",
   "metadata": {},
   "source": [
    "まず、`group_vars` にMoodleコンテナイメージが記録されているかどうかを確認します。"
   ]
  },
  {
   "cell_type": "code",
   "execution_count": null,
   "metadata": {},
   "outputs": [],
   "source": [
    "%run scripts/group.py\n",
    "gvars = load_group_vars(target_group)\n",
    "if 'moodle_image_name' not in gvars:\n",
    "    raise RuntimeError()"
   ]
  },
  {
   "cell_type": "markdown",
   "metadata": {},
   "source": [
    "上のセルの実行が正常終了となった場合はコンテナイメージ名が `group_vars` に記録されています。次章の「3. メンテナンスモードへの切り替え」までスキップしてください。\n",
    "\n",
    "エラーになった場合は以降の手順で現在利用中のMoodleコンテナイメージを指定する必要があります。"
   ]
  },
  {
   "cell_type": "markdown",
   "metadata": {},
   "source": [
    "現在実際に利用しているMoodleコンテナイメージを確認するために、構築環境の `docker-compose.yml` のコンテナイメージ指定の記述を確認します。"
   ]
  },
  {
   "cell_type": "code",
   "execution_count": null,
   "metadata": {},
   "outputs": [],
   "source": [
    "!ansible {target_group} -m shell -a \\\n",
    "    'grep -w image /srv/moodle/docker-compose.yml | grep moodle'"
   ]
  },
  {
   "cell_type": "markdown",
   "metadata": {},
   "source": [
    "上のセルの実行結果に表示された `harbor.vcloud.nii.ac.jp/vcp/moodle-simple:X.X` の部分がコンテナイメージ名になります。確認した値を次のセルに設定してください。"
   ]
  },
  {
   "cell_type": "code",
   "execution_count": null,
   "metadata": {},
   "outputs": [],
   "source": [
    "# (例)\n",
    "# moodle_image_name = 'harbor.vcloud.nii.ac.jp/vcp/moodle-simple:3.9'\n",
    "\n",
    "moodle_image_name ="
   ]
  },
  {
   "cell_type": "markdown",
   "metadata": {},
   "source": [
    "設定された値を `group_vars` に保存します。"
   ]
  },
  {
   "cell_type": "code",
   "execution_count": null,
   "metadata": {},
   "outputs": [],
   "source": [
    "update_group_vars(target_group, moodle_image_name=moodle_image_name)"
   ]
  },
  {
   "cell_type": "markdown",
   "metadata": {
    "heading_collapsed": true
   },
   "source": [
    "## メンテナンスモードへの切り替え\n",
    "\n",
    "Moodleにアクセスするためのアドレスが変更される場合があるので、メンテナンスモードに切り替えます。"
   ]
  },
  {
   "cell_type": "code",
   "execution_count": null,
   "metadata": {
    "hidden": true
   },
   "outputs": [],
   "source": [
    "!ansible {target_group} -a 'chdir=/srv/moodle docker compose exec -T moodle \\\n",
    "    /usr/bin/php /var/www/html/admin/cli/maintenance.php --enable'"
   ]
  },
  {
   "cell_type": "markdown",
   "metadata": {
    "heading_collapsed": true
   },
   "source": [
    "## Moodleコンテナイメージの作成\n",
    "\n",
    "Moodleコンテナに `mod_ssl` パッケージを追加したイメージを作成します。"
   ]
  },
  {
   "cell_type": "markdown",
   "metadata": {
    "hidden": true
   },
   "source": [
    "### コンテナイメージの作成\n",
    "\n",
    "Moodleコンテナイメージに`mod_ssl` パッケージを追加したものを作成します。"
   ]
  },
  {
   "cell_type": "markdown",
   "metadata": {
    "hidden": true
   },
   "source": [
    "コンテナイメージをビルドするための `Dockerfile` などを配置します。"
   ]
  },
  {
   "cell_type": "code",
   "execution_count": null,
   "metadata": {
    "hidden": true
   },
   "outputs": [],
   "source": [
    "!ansible {target_group} -m file -a 'path=/srv/moodle/build state=directory'\n",
    "!ansible {target_group} -m template -a 'dest=/srv/moodle/build/ src=template/Dockerfile'"
   ]
  },
  {
   "cell_type": "markdown",
   "metadata": {
    "hidden": true
   },
   "source": [
    "配置した `Dockerfile` の内容を確認します。"
   ]
  },
  {
   "cell_type": "code",
   "execution_count": null,
   "metadata": {
    "hidden": true
   },
   "outputs": [],
   "source": [
    "!ansible {target_group} -a 'cat /srv/moodle/build/Dockerfile'"
   ]
  },
  {
   "cell_type": "markdown",
   "metadata": {
    "hidden": true
   },
   "source": [
    "コンテナイメージのビルドを行います。"
   ]
  },
  {
   "cell_type": "code",
   "execution_count": null,
   "metadata": {
    "hidden": true
   },
   "outputs": [],
   "source": [
    "ssl_container_image = 'moodle-ssl'\n",
    "!ansible {target_group} -a 'docker build -t {ssl_container_image} /srv/moodle/build/'"
   ]
  },
  {
   "cell_type": "markdown",
   "metadata": {
    "hidden": true
   },
   "source": [
    "### 設定ファイルの配置\n",
    "\n",
    "作成したコンテナイメージからHTTPS に関する設定ファイルを取り出し構築環境のホスト側に配置します。"
   ]
  },
  {
   "cell_type": "markdown",
   "metadata": {
    "hidden": true
   },
   "source": [
    "この節で配置する設定ファイルを以下に示します。\n",
    "<table>\n",
    "  <tr>\n",
    "    <th style=\"text-align:left;\">コンテナ内のパス</th>\n",
    "    <th style=\"text-align:left;\">ホスト環境のパス</th>\n",
    "  </tr>\n",
    "  <tr>\n",
    "    <td style=\"text-align:left;\">/etc/httpd/conf.d/ssl.conf</td>\n",
    "    <td style=\"text-align:left;\">/srv/moodle/moodle/conf/httpd/conf.d/ssl.conf</td>\n",
    "  </tr>\n",
    "  <tr>\n",
    "    <td style=\"text-align:left;\">/etc/httpd/conf.modules.d/00-ssl.conf</td>\n",
    "    <td style=\"text-align:left;\">/srv/moodle/moodle/conf/httpd/conf.modules.d/00-ssl.conf</td>\n",
    "  </tr>\n",
    "</table>\n"
   ]
  },
  {
   "cell_type": "markdown",
   "metadata": {
    "hidden": true
   },
   "source": [
    "設定ファイルを取り出すために一時的にコンテナを作成します。"
   ]
  },
  {
   "cell_type": "code",
   "execution_count": null,
   "metadata": {
    "hidden": true
   },
   "outputs": [],
   "source": [
    "ssl_container_name = 'moodle-ssl'\n",
    "!ansible {target_group} -a 'docker create --name {ssl_container_name} {ssl_container_image}'"
   ]
  },
  {
   "cell_type": "markdown",
   "metadata": {
    "hidden": true
   },
   "source": [
    "設定ファイルをホスト側にコピーします。"
   ]
  },
  {
   "cell_type": "code",
   "execution_count": null,
   "metadata": {
    "hidden": true
   },
   "outputs": [],
   "source": [
    "!ansible {target_group} -a \\\n",
    "    'docker cp {ssl_container_name}:/etc/httpd/conf.d/ssl.conf \\\n",
    "    /srv/moodle/moodle/conf/httpd/conf.d/'\n",
    "!ansible {target_group} -a \\\n",
    "    'docker cp {ssl_container_name}:/etc/httpd/conf.modules.d/00-ssl.conf \\\n",
    "    /srv/moodle/moodle/conf/httpd/conf.modules.d/'"
   ]
  },
  {
   "cell_type": "markdown",
   "metadata": {
    "hidden": true
   },
   "source": [
    "設定ファイルが配置されたことを確認します。"
   ]
  },
  {
   "cell_type": "code",
   "execution_count": null,
   "metadata": {
    "hidden": true
   },
   "outputs": [],
   "source": [
    "!ansible {target_group} -a 'tree /srv/moodle/moodle/conf/httpd/'"
   ]
  },
  {
   "cell_type": "markdown",
   "metadata": {
    "hidden": true
   },
   "source": [
    "設定ファイルをコピーするために一時的に作成したコンテナを削除します。"
   ]
  },
  {
   "cell_type": "code",
   "execution_count": null,
   "metadata": {
    "hidden": true
   },
   "outputs": [],
   "source": [
    "!ansible {target_group} -a 'docker rm {ssl_container_name}'"
   ]
  },
  {
   "cell_type": "markdown",
   "metadata": {},
   "source": [
    "## サーバ証明書の配置\n",
    "\n",
    "Moodleコンテナで使用するサーバ証明書を配置します。"
   ]
  },
  {
   "cell_type": "markdown",
   "metadata": {},
   "source": [
    "ここで配置するファイルを以下に示します。\n",
    "<table>\n",
    "  <tr>\n",
    "    <th style=\"text-align:left;\">コンテナ内のパス</th>\n",
    "    <th style=\"text-align:left;\">ホスト環境のパス</th>\n",
    "    <th style=\"text-align:left;\">対応する設定項目</th>\n",
    "  </tr>\n",
    "  <tr>\n",
    "    <td style=\"text-align:left;\">/etc/httpd/certs/server.crt</td>\n",
    "    <td style=\"text-align:left;\">/srv/moodle/moodle/conf/httpd/certs/server.crt</td>\n",
    "    <td style=\"text-align:left;\">SSLCertificateFile</td>\n",
    "  </tr>\n",
    "  <tr>\n",
    "    <td style=\"text-align:left;\">/etc/httpd/certs/server.key</td>\n",
    "    <td style=\"text-align:left;\">/srv/moodle/moodle/conf/httpd/certs/server.key</td>\n",
    "    <td style=\"text-align:left;\">SSLCertificateKeyFile</td>\n",
    "  </tr>\n",
    "</table>\n"
   ]
  },
  {
   "cell_type": "markdown",
   "metadata": {},
   "source": [
    "### サーバ証明書\n",
    "\n",
    "サーバ証明書を配置します。"
   ]
  },
  {
   "cell_type": "markdown",
   "metadata": {},
   "source": [
    "このNotebook環境にアップロードしたサーバ証明書のパスを次のセルで指定してください。証明書はPEM形式であることを想定しています。\n",
    "\n",
    "サーバ証明書に中間CA証明書を連結する場合は[電子証明書発行サービス-サーバ動作事例集](https://certs.nii.ac.jp/manual/manuals/reports/03)で説明されているように、「サーバ証明書」、「中間CA証明書」の順に記載してください。"
   ]
  },
  {
   "cell_type": "code",
   "execution_count": null,
   "metadata": {},
   "outputs": [],
   "source": [
    "# (例)\n",
    "# moodle_cert_path = './certs/server.crt'\n",
    "\n",
    "moodle_cert_path ="
   ]
  },
  {
   "cell_type": "markdown",
   "metadata": {},
   "source": [
    "サーバ証明書をMoodle環境に配置します。"
   ]
  },
  {
   "cell_type": "code",
   "execution_count": null,
   "metadata": {
    "scrolled": true
   },
   "outputs": [],
   "source": [
    "import os\n",
    "\n",
    "# 指定したパスに証明書ファイルが存在していることをチェックする\n",
    "if not os.path.exists(moodle_cert_path):\n",
    "    raise RuntimeError()\n",
    "\n",
    "!ansible {target_group} -m file -a \\\n",
    "    'path=/srv/moodle/moodle/conf/httpd/certs state=directory'\n",
    "!ansible {target_group} -b -m copy -a \\\n",
    "    'dest=/srv/moodle/moodle/conf/httpd/certs/server.crt \\\n",
    "    src={moodle_cert_path} owner=48 group=48'"
   ]
  },
  {
   "cell_type": "markdown",
   "metadata": {},
   "source": [
    "サーバ証明書がMoodle環境に配置されたことを確認するために、証明書の内容を表示してみます。"
   ]
  },
  {
   "cell_type": "code",
   "execution_count": null,
   "metadata": {
    "scrolled": true
   },
   "outputs": [],
   "source": [
    "!ansible {target_group} -a \\\n",
    "    'openssl x509 -in /srv/moodle/moodle/conf/httpd/certs/server.crt \\\n",
    "    -noout -text'"
   ]
  },
  {
   "cell_type": "markdown",
   "metadata": {},
   "source": [
    "### 秘密鍵の配置"
   ]
  },
  {
   "cell_type": "markdown",
   "metadata": {},
   "source": [
    "このNotebook環境にアップロードしたサーバ証明書の秘密鍵ファイルのパスを次のセルで指定してください。\n",
    "\n",
    "> ここで配置する秘密鍵ファイルにはパスフレーズの設定を行わないでください。"
   ]
  },
  {
   "cell_type": "code",
   "execution_count": null,
   "metadata": {},
   "outputs": [],
   "source": [
    "# (例)\n",
    "# moodle_private_key_path = './certs/server.key'\n",
    "\n",
    "moodle_private_key_path ="
   ]
  },
  {
   "cell_type": "markdown",
   "metadata": {},
   "source": [
    "秘密鍵を配置します。"
   ]
  },
  {
   "cell_type": "code",
   "execution_count": null,
   "metadata": {
    "scrolled": true
   },
   "outputs": [],
   "source": [
    "!ansible {target_group} -b -m copy -a \\\n",
    "    'dest=/srv/moodle/moodle/conf/httpd/certs/server.key \\\n",
    "    src={moodle_private_key_path} owner=48 group=48 mode=0400'"
   ]
  },
  {
   "cell_type": "markdown",
   "metadata": {},
   "source": [
    "秘密鍵が配置されたことを確認するために、証明書ディレクトリのファイル一覧を表示してみます。"
   ]
  },
  {
   "cell_type": "code",
   "execution_count": null,
   "metadata": {},
   "outputs": [],
   "source": [
    "!ansible {target_group} -a 'ls -l /srv/moodle/moodle/conf/httpd/certs/'"
   ]
  },
  {
   "cell_type": "markdown",
   "metadata": {},
   "source": [
    "配置した秘密鍵のフォーマットが正しいことを確認します。"
   ]
  },
  {
   "cell_type": "code",
   "execution_count": null,
   "metadata": {
    "scrolled": true
   },
   "outputs": [],
   "source": [
    "!ansible {target_group} -b -a \\\n",
    "    'openssl rsa -in /srv/moodle/moodle/conf/httpd/certs/server.key \\\n",
    "    -noout -text'"
   ]
  },
  {
   "cell_type": "markdown",
   "metadata": {},
   "source": [
    "## 設定ファイル ssl.conf の編集\n",
    "\n",
    "設定ファイルを編集し Apache HTTP ServerのHTTPS接続に関する設定を行います。"
   ]
  },
  {
   "cell_type": "markdown",
   "metadata": {},
   "source": [
    "設定ファイル`ssl.conf`を編集するために、構築環境からローカル環境にファイルを取得します。"
   ]
  },
  {
   "cell_type": "code",
   "execution_count": null,
   "metadata": {},
   "outputs": [],
   "source": [
    "%run scripts/edit_conf.py\n",
    "fetch_conf(target_group, 'moodle', '/etc/httpd/conf.d/ssl.conf')"
   ]
  },
  {
   "cell_type": "markdown",
   "metadata": {},
   "source": [
    "上のセルの出力に表示されているリンクをクリックして設定ファイルの編集を行ってください。\n",
    "\n",
    "HTTPS接続を有効にするには以下の設定を変更してください。\n",
    "\n",
    "* ServerName\n",
    "    - ホスト名を設定する\n",
    "    - サーバ証明書と一致するホスト名を指定してください\n",
    "* SSLCertificateFile\n",
    "    - サーバ証明書のパス\n",
    "    - 前章で配置したパス `/etc/httpd/certs/server.crt` を指定してください\n",
    "* SSLCertificateKeyFile\n",
    "    - サーバ証明書の秘密鍵のパス\n",
    "    - 前章で配置したパス `/etc/httpd/certs/server.key` を指定してください\n",
    "\n",
    "また必要に応じて `SSLProtocol`, `SSLCipherSuite` などの値も変更してください。\n",
    "\n",
    "> メニューの[Edit]-[Find]で検索文字を入力することで、編集箇所に移動できます。\n",
    "ファイルの編集後は**必ず**、メニューの[File]-[Save]を選択してファイルの保存を行ってください。"
   ]
  },
  {
   "cell_type": "markdown",
   "metadata": {},
   "source": [
    "編集後に次のセルを実行すると編集前後の差分を確認することができます。"
   ]
  },
  {
   "cell_type": "code",
   "execution_count": null,
   "metadata": {},
   "outputs": [],
   "source": [
    "show_local_conf_diff(target_group, 'moodle', '/etc/httpd/conf.d/ssl.conf')"
   ]
  },
  {
   "cell_type": "markdown",
   "metadata": {},
   "source": [
    "表示される差分の例を以下に示します。\n",
    "\n",
    "```\n",
    "--- ssl.conf.orig\n",
    "+++ ssl.conf\n",
    "@@ -57,7 +57,7 @@\n",
    " \n",
    " #General setup for the virtual host, inherited from global configuration\n",
    " #DocumentRoot \"/var/www/html\"\n",
    "-#ServerName www.example.com:443\n",
    "+ServerName moodle.example.org:443\n",
    " \n",
    " #Use separate log files for the SSL virtual host; note that LogLevel\n",
    " #is not inherited from httpd.conf.\n",
    "@@ -97,14 +97,14 @@\n",
    " #the certificate is encrypted, then you will be prompted for a\n",
    " #pass phrase.  Note that a kill -HUP will prompt again.  A new\n",
    " #certificate can be generated using the genkey(1) command.\n",
    "-SSLCertificateFile /etc/pki/tls/certs/localhost.crt\n",
    "+SSLCertificateFile /etc/httpd/certs/server.crt\n",
    " \n",
    " #Server Private Key:\n",
    " #If the key is not combined with the certificate, use this\n",
    " #directive to point at the key file.  Keep in mind that if\n",
    " #you've both a RSA and a DSA private key you can configure\n",
    " #both in parallel (to also allow the use of DSA ciphers, etc.)\n",
    "-SSLCertificateKeyFile /etc/pki/tls/private/localhost.key\n",
    "+SSLCertificateKeyFile /etc/httpd/certs/server.key\n",
    " \n",
    " #Server Certificate Chain:\n",
    " #Point SSLCertificateChainFile at a file containing the\n",
    "```"
   ]
  },
  {
   "cell_type": "markdown",
   "metadata": {},
   "source": [
    "編集したファイルを構築環境に配置します。"
   ]
  },
  {
   "cell_type": "code",
   "execution_count": null,
   "metadata": {},
   "outputs": [],
   "source": [
    "apply_conf(target_group, 'moodle', '/etc/httpd/conf.d/ssl.conf', restart=False)"
   ]
  },
  {
   "cell_type": "markdown",
   "metadata": {},
   "source": [
    "まだコンテナ設定の変更を行っていないため、ここでは設定ファイル反映のためのコンテナ再起動は行いません。"
   ]
  },
  {
   "cell_type": "markdown",
   "metadata": {},
   "source": [
    "## コンテナ設定の変更\n",
    "\n",
    "`docker-compose.yml` を編集してコンテナ設定の変更を行います。"
   ]
  },
  {
   "cell_type": "markdown",
   "metadata": {},
   "source": [
    "### docker-compose.yml の編集"
   ]
  },
  {
   "cell_type": "markdown",
   "metadata": {},
   "source": [
    "MoodleコンテナでHTTPS接続を有効にするには以下の設定変更が必要となります。\n",
    "\n",
    "1. コンテナイメージの変更\n",
    "   - mod_sslパッケージを追加したイメージに変更する\n",
    "1. 公開ポートの変更\n",
    "   - 公開ポート番号を 80 から 443 に変更する\n",
    "1. 証明書ディレクトリの bind mount設定を追加\n",
    "   - サーバ証明書をコンテナから参照できるようにするために bind mount の設定を追加します。\n",
    "1. `MOODLE_URL`の変更\n",
    "   - `config.php` の `$CFG->wwwroot` に設定するURLを https に変更する"
   ]
  },
  {
   "cell_type": "markdown",
   "metadata": {},
   "source": [
    "コンテナ設定を変更するために `docker-compose.yml` をローカル環境に取得します。"
   ]
  },
  {
   "cell_type": "code",
   "execution_count": null,
   "metadata": {},
   "outputs": [],
   "source": [
    "%run scripts/edit_conf.py\n",
    "fetch_docker_compose(target_group)"
   ]
  },
  {
   "cell_type": "markdown",
   "metadata": {},
   "source": [
    "上のセルの出力に表示されているリンクをクリックして設定ファイルの編集を行ってください。"
   ]
  },
  {
   "cell_type": "markdown",
   "metadata": {},
   "source": [
    "Moodleコンテナのイメージを変更するには`docker-compose.yml` の `moodle` サービスに`build`の指定を追加してください。ビルドコンテキストとして指定するパスの値は `./build` となります。またコンテナイメージの名前も識別しやすい値に変更したほうが望ましいです。\n",
    "\n",
    "変更後の例を以下に示します。\n",
    "\n",
    "```\n",
    "  moodle:\n",
    "    image: moodle-ssl\n",
    "    build: ./build\n",
    "```\n",
    "\n",
    "`docker-compose.yml` における `build` の指定方法の詳細については [Compose file version 3 reference - build](https://docs.docker.com/compose/compose-file/#build)を参照してください。"
   ]
  },
  {
   "cell_type": "markdown",
   "metadata": {},
   "source": [
    "公開ポートの番号を変更するには `docker-compose.yml` の `ports` に指定している値を変更してください。デフォルトではポート番号の 80 を設定するため `80:80` を指定しています。これを `443:443` に変更してください。\n",
    "\n",
    "変更後の例を以下に示します。\n",
    "\n",
    "```\n",
    "  moodle:\n",
    "(中略)\n",
    "    ports:\n",
    "      - 443:443\n",
    "```\n",
    "\n",
    "`docker-compose.yml` における `ports` の指定方法の詳細については [Compose file version 3 reference - ports](https://docs.docker.com/compose/compose-file/#ports)を参照してください。"
   ]
  },
  {
   "cell_type": "markdown",
   "metadata": {},
   "source": [
    "証明書を配置したディレクトリを bind mount に追加するには `volumes` の指定に証明書ディレクトリのエントリを追加します。\n",
    "証明書を配置するディレクトリとしてホスト側は `/srv/moodle/moodle/conf/httpd/certs`、コンテナ側は `/etc/httpd/certs` を想定しています。そのため追加するエントリの値は`/srv/moodle/moodle/conf/httpd/certs:/etc/httpd/certs`となります。\n",
    "\n",
    "変更後の例を以下に示します。\n",
    "\n",
    "```\n",
    "  moodle:\n",
    "(中略)\n",
    "    volumes:\n",
    "      - /srv/moodle/moodle/conf/httpd/certs:/etc/httpd/certs\n",
    "(以下略)\n",
    "```\n",
    "\n",
    "`docker-compose.yml` における `volumes` の指定方法の詳細については [Compose file version 3 reference - volumes](https://docs.docker.com/compose/compose-file/#volumes)を参照してください。"
   ]
  },
  {
   "cell_type": "markdown",
   "metadata": {},
   "source": [
    "Moodleコンテナでは `config.php` の `$cfg->wwwroot` に設定する値をコンテナの環境変数 `MOODLE_URL` で外部から指定できるようにしています。HTTPS接続に変更するにあたって MoodleのURLを変更する場合は `docker-compose.yml` で指定している `MOODLE_URL` の値を変更してください。\n",
    "\n",
    "\n",
    "変更後の例を以下に示します。\n",
    "```\n",
    "     environment:\n",
    "       MOODLE_URL: https://moodle.example.org\n",
    "```"
   ]
  },
  {
   "cell_type": "markdown",
   "metadata": {},
   "source": [
    "編集後に次のセルを実行すると編集前後の差分を確認することができます。"
   ]
  },
  {
   "cell_type": "code",
   "execution_count": null,
   "metadata": {},
   "outputs": [],
   "source": [
    "show_local_docker_compose_diff(target_group)"
   ]
  },
  {
   "cell_type": "markdown",
   "metadata": {},
   "source": [
    "表示される差分の例を以下に示します。\n",
    "\n",
    "```\n",
    "--- docker-compose.yml.orig\n",
    "+++ docker-compose.yml\n",
    "@@ -20,7 +20,8 @@\n",
    "       - --explicit_defaults_for_timestamp=true\n",
    "       - --log-error=/var/log/mysql/error.log\n",
    "   moodle:\n",
    "-    image: harbor.vcloud.nii.ac.jp/vcp/moodle-simple:3.9\n",
    "+    image: moodle-ssl\n",
    "+    build: ./build\n",
    "     container_name: moodle\n",
    "     restart: always\n",
    "     volumes:\n",
    "@@ -28,16 +29,17 @@\n",
    "       - /srv/moodle/moodle/data/php:/var/www/moodle:rw\n",
    "       - /srv/moodle/moodle/conf/php.ini:/etc/php.ini\n",
    "       - /srv/moodle/moodle/conf/php.d:/etc/php.d\n",
    "+      - /srv/moodle/moodle/conf/httpd/certs:/etc/httpd/certs\n",
    "       - /srv/moodle/moodle/conf/httpd/conf:/etc/httpd/conf\n",
    "       - /srv/moodle/moodle/conf/httpd/conf.d:/etc/httpd/conf.d\n",
    "       - /srv/moodle/moodle/conf/httpd/conf.modules.d:/etc/httpd/conf.modules.d\n",
    "       - /srv/moodle/moodle/conf/ca-trust:/etc/pki/ca-trust/source/anchors\n",
    "       - /var/log/httpd:/var/log/httpd\n",
    "     ports:\n",
    "-      - 80:80\n",
    "+      - 443:443\n",
    "     environment:\n",
    "       TZ: Asia/Tokyo\n",
    "-      MOODLE_URL: http://moodle.example.org\n",
    "+      MOODLE_URL: https://moodle.example.org\n",
    "       MOODLE_DATAROOT: /var/data/moodledata\n",
    "       MOODLE_ADMIN: admin\n",
    "       MOODLE_ADMIN_PASSWORD: \"moodle\"\n",
    "```"
   ]
  },
  {
   "cell_type": "markdown",
   "metadata": {},
   "source": [
    "### コンテナ設定の変更を反映する\n",
    "\n",
    "`docker-compose.yml` を構築環境に配置して、コンテナ設定の変更反映をするためにコンテナを再起動します。"
   ]
  },
  {
   "cell_type": "code",
   "execution_count": null,
   "metadata": {},
   "outputs": [],
   "source": [
    "apply_docker_compose(target_group)"
   ]
  },
  {
   "cell_type": "markdown",
   "metadata": {},
   "source": [
    "変更後のコンテナの状態を確認してみます。`State` の値が `Up` となっていることを確認してください。"
   ]
  },
  {
   "cell_type": "code",
   "execution_count": null,
   "metadata": {},
   "outputs": [],
   "source": [
    "!ansible {target_group} -a 'chdir=/srv/moodle \\\n",
    "    docker compose ps'"
   ]
  },
  {
   "cell_type": "markdown",
   "metadata": {},
   "source": [
    "`State`が`Up`となっていない場合はコンテナのログなどを確認してください。"
   ]
  },
  {
   "cell_type": "code",
   "execution_count": null,
   "metadata": {
    "scrolled": true
   },
   "outputs": [],
   "source": [
    "!ansible {target_group} -a 'chdir=/srv/moodle \\\n",
    "    docker compose logs --tail=50 moodle'"
   ]
  },
  {
   "cell_type": "markdown",
   "metadata": {
    "heading_collapsed": true
   },
   "source": [
    "## メンテナンスモードの解除\n",
    "\n",
    "設定変更が完了したのでメンテナンスモードを解除します。"
   ]
  },
  {
   "cell_type": "code",
   "execution_count": null,
   "metadata": {
    "hidden": true,
    "scrolled": true
   },
   "outputs": [],
   "source": [
    "!ansible {target_group} -a 'chdir=/srv/moodle docker compose exec -T moodle \\\n",
    "    /usr/bin/php /var/www/html/admin/cli/maintenance.php --disable'"
   ]
  },
  {
   "cell_type": "markdown",
   "metadata": {},
   "source": [
    "## Moodle を利用できることを確認\n",
    "\n",
    "Moodle環境にアクセスして利用可能であることを確認します。"
   ]
  },
  {
   "cell_type": "markdown",
   "metadata": {},
   "source": [
    "次のセルを実行すると`docker-compose.yml` に設定したMoodleのアドレスを表示します。表示されたリンクをクリックしてMoodleにアクセスできることを確認してください。"
   ]
  },
  {
   "cell_type": "code",
   "execution_count": null,
   "metadata": {},
   "outputs": [],
   "source": [
    "local_path = get_local_host_conf(target_group, '/srv/moodle/docker-compose.yml')\n",
    "!grep MOODLE_URL {local_path}"
   ]
  }
 ],
 "metadata": {
  "kernelspec": {
   "display_name": "Python 3",
   "language": "python",
   "name": "python3"
  },
  "language_info": {
   "file_extension": ".py",
   "mimetype": "text/x-python",
   "name": "python",
   "nbconvert_exporter": "python",
   "pygments_lexer": "ipython3",
   "version": "3.7.3"
  },
  "toc": {
   "base_numbering": 1,
   "nav_menu": {},
   "number_sections": true,
   "sideBar": true,
   "skip_h1_title": true,
   "title_cell": "Table of Contents",
   "title_sidebar": "Contents",
   "toc_cell": false,
   "toc_position": {},
   "toc_section_display": true,
   "toc_window_display": true
  }
 },
 "nbformat": 4,
 "nbformat_minor": 2
}
