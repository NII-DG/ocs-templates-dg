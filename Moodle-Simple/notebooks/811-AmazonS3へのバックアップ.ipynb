{
 "cells": [
  {
   "cell_type": "markdown",
   "metadata": {},
   "source": [
    "# About: Amazon S3へのバックアップ\n",
    "\n",
    "---\n",
    "\n",
    "Moodle構築環境のデータ、設定ファイルなどを Amazon S3 にバックアップします。"
   ]
  },
  {
   "cell_type": "markdown",
   "metadata": {},
   "source": [
    "## 概要\n",
    "\n",
    "アプリケーションテンプレートで構築したMoodle環境のバックアップを作成し Amazon S3 に保存します。"
   ]
  },
  {
   "cell_type": "markdown",
   "metadata": {},
   "source": [
    "### 前提条件\n"
   ]
  },
  {
   "cell_type": "markdown",
   "metadata": {},
   "source": [
    "この Notebook を実行するには事前に以下のものを準備する必要があります。\n",
    "\n",
    "* バックアップ先となるAmazon S3のバケット\n",
    "* Amazon S3のバケットに書き込みできるクレデンシャル"
   ]
  },
  {
   "cell_type": "markdown",
   "metadata": {},
   "source": [
    "### バックアップの対象"
   ]
  },
  {
   "cell_type": "markdown",
   "metadata": {},
   "source": [
    "バックアップの対象を以下に示します。\n",
    "\n",
    "* DBデータ\n",
    "* アップロードファイル(moodledata)\n",
    "* PHPファイル\n",
    "* 各コンテナで実行しているサービスの設定ファイル\n",
    "    - Moodleコンテナ (`httpd.conf`, `php.ini`, ...)\n",
    "    - データベースコンテナ (`my.cnf`, ...)\n",
    "* `docker-compose.yml`\n",
    "* crontab\n",
    "* コンテナイメージ"
   ]
  },
  {
   "cell_type": "markdown",
   "metadata": {},
   "source": [
    "## パラメータ設定"
   ]
  },
  {
   "cell_type": "markdown",
   "metadata": {},
   "source": [
    "### Ansibleのグループを指定する\n",
    "\n",
    "バックアップ対象となるAnsibleのグループ名を指定してください。"
   ]
  },
  {
   "cell_type": "code",
   "execution_count": null,
   "metadata": {},
   "outputs": [],
   "source": [
    "# (例)\n",
    "# target_group = 'Moodle'\n",
    "\n",
    "target_group ="
   ]
  },
  {
   "cell_type": "markdown",
   "metadata": {},
   "source": [
    "バックアップ対象のノードにアクセスできることを確認します。"
   ]
  },
  {
   "cell_type": "code",
   "execution_count": null,
   "metadata": {},
   "outputs": [],
   "source": [
    "!ansible {target_group} -m ping"
   ]
  },
  {
   "cell_type": "markdown",
   "metadata": {},
   "source": [
    "### AWSの認証情報\n",
    "\n",
    "Amazon S3を利用するための認証情報を指定します。"
   ]
  },
  {
   "cell_type": "markdown",
   "metadata": {},
   "source": [
    "Amazonのアクセスキーを指定してください。"
   ]
  },
  {
   "cell_type": "code",
   "execution_count": null,
   "metadata": {
    "scrolled": true
   },
   "outputs": [],
   "source": [
    "from getpass import getpass\n",
    "aws_access_key = getpass()"
   ]
  },
  {
   "cell_type": "markdown",
   "metadata": {},
   "source": [
    "Amazonのシークレットキーを指定してください。"
   ]
  },
  {
   "cell_type": "code",
   "execution_count": null,
   "metadata": {},
   "outputs": [],
   "source": [
    "aws_secret_key = getpass()"
   ]
  },
  {
   "cell_type": "markdown",
   "metadata": {},
   "source": [
    "### バックアップの保存先を指定する\n",
    "\n",
    "バックアップの保存先となる Amazon S3 のバケット名、パスを指定します。"
   ]
  },
  {
   "cell_type": "markdown",
   "metadata": {},
   "source": [
    "Amazon S3 のバケット名を指定してください。"
   ]
  },
  {
   "cell_type": "code",
   "execution_count": null,
   "metadata": {},
   "outputs": [],
   "source": [
    "# (例)\n",
    "# s3_bucket = 's3-bucket-name'\n",
    "\n",
    "s3_bucket ="
   ]
  },
  {
   "cell_type": "markdown",
   "metadata": {},
   "source": [
    "バックアップの保存先となるディレクトリを指定してください。バックアップファイルは、次のセルで指定したディレクトリにバックアップ日時に対応するサブディレクトリを作成し、その下に保存されます。"
   ]
  },
  {
   "cell_type": "code",
   "execution_count": null,
   "metadata": {},
   "outputs": [],
   "source": [
    "# (例)\n",
    "# backup_path = f'moodle-simple/{target_group}'\n",
    "\n",
    "backup_path ="
   ]
  },
  {
   "cell_type": "markdown",
   "metadata": {},
   "source": [
    "### チェック\n",
    "\n",
    "ここまでに入力したパラメータでAmazon S3を利用できることをチェックします。"
   ]
  },
  {
   "cell_type": "markdown",
   "metadata": {},
   "source": [
    "指定されたバケットのファイル一覧を表示してみます。"
   ]
  },
  {
   "cell_type": "code",
   "execution_count": null,
   "metadata": {},
   "outputs": [],
   "source": [
    "!ansible {target_group} -a \\\n",
    "    'env AWS_ACCESS_KEY_ID={aws_access_key} AWS_SECRET_ACCESS_KEY={aws_secret_key} \\\n",
    "    aws s3 ls s3://{s3_bucket}/'"
   ]
  },
  {
   "cell_type": "markdown",
   "metadata": {},
   "source": [
    "## バックアップ"
   ]
  },
  {
   "cell_type": "markdown",
   "metadata": {},
   "source": [
    "### メンテナンスモードへの切り替え\n",
    "\n",
    "バックアップを作成する前にMoodleをメンテナンスモードに切り替えます。"
   ]
  },
  {
   "cell_type": "markdown",
   "metadata": {},
   "source": [
    "メンテナンスモードのへの切り替えが必要ない場合は、次のセルの実行をスキップしてください。"
   ]
  },
  {
   "cell_type": "code",
   "execution_count": null,
   "metadata": {},
   "outputs": [],
   "source": [
    "!ansible {target_group} -a 'chdir=/srv/moodle docker compose exec -T moodle \\\n",
    "    /usr/bin/php /var/www/html/admin/cli/maintenance.php --enable'"
   ]
  },
  {
   "cell_type": "markdown",
   "metadata": {},
   "source": [
    "### DBデータのバックアップ\n",
    "\n",
    "DBデータのバックアップを作成します。"
   ]
  },
  {
   "cell_type": "markdown",
   "metadata": {},
   "source": [
    "Amazon S3のバケット名、保存先のディレクトリと現在時刻からバックアップの保存先となるS3uriを生成します。"
   ]
  },
  {
   "cell_type": "code",
   "execution_count": null,
   "metadata": {},
   "outputs": [],
   "source": [
    "import datetime\n",
    "s3_prefix = f's3://{s3_bucket}/{backup_path}/{datetime.datetime.now().isoformat()}/'\n",
    "\n",
    "s3_db_dest = s3_prefix + 'db.sql.gz'\n",
    "print(s3_db_dest)"
   ]
  },
  {
   "cell_type": "markdown",
   "metadata": {},
   "source": [
    "DBデータのバックアップを作成しAmazon S3に保存します。\n",
    "\n",
    "> DBコンテナは MySQL/MariaDB であることを前提としています。"
   ]
  },
  {
   "cell_type": "code",
   "execution_count": null,
   "metadata": {},
   "outputs": [],
   "source": [
    "!ansible {target_group} -m shell -a \"chdir=/srv/moodle \\\n",
    "    docker compose exec db bash -c \\\n",
    "    'mysqldump --single-transaction -u\\$MYSQL_USER -p\\$MYSQL_PASSWORD \\$MYSQL_DATABASE' \\\n",
    "    | gzip | env AWS_ACCESS_KEY_ID={aws_access_key} AWS_SECRET_ACCESS_KEY={aws_secret_key} \\\n",
    "    aws s3 cp - {s3_db_dest}\""
   ]
  },
  {
   "cell_type": "markdown",
   "metadata": {},
   "source": [
    "### その他ファイルのバックアップ\n",
    "\n",
    "DBデータ以外のファイルのバックアップを作成します。"
   ]
  },
  {
   "cell_type": "markdown",
   "metadata": {},
   "source": [
    "この節で作成するバックアップの対象を以下に示します。\n",
    "\n",
    "* アップロードファイル(moodledata)\n",
    "* PHPファイル\n",
    "* 各コンテナで実行しているサービスの設定ファイル\n",
    "    - Moodleコンテナ (`httpd.conf`, `php.ini`, ...)\n",
    "    - データベースコンテナ (`my.cnf`, ...)\n",
    "* `docker-compose.yml`\n",
    "* crontab\n",
    "* コンテナログのlogrotate設定\n",
    "\n",
    "> ホスト環境の `/etc/` にある設定ファイルをバックアップの対象としていません（上記に示した crontab, コンテナログのlogrotate設定を除く）。必要に応じて別途バックアップを行ってください。"
   ]
  },
  {
   "cell_type": "markdown",
   "metadata": {},
   "source": [
    "まずcrontabの設定をバックアップするために、設定内容をファイルに保存します。"
   ]
  },
  {
   "cell_type": "code",
   "execution_count": null,
   "metadata": {},
   "outputs": [],
   "source": [
    "!ansible {target_group} -m file -a \"path=/srv/moodle/misc state=directory\"\n",
    "!ansible {target_group} -m shell -a \"chdir=/srv/moodle \\\n",
    "    crontab -l > misc/crontab\""
   ]
  },
  {
   "cell_type": "markdown",
   "metadata": {},
   "source": [
    "コンテナログのlogrotate設定をバックアップするために、設定ファイルを `/srv/moodle/misc/logrotate.d` にコピーします。"
   ]
  },
  {
   "cell_type": "code",
   "execution_count": null,
   "metadata": {},
   "outputs": [],
   "source": [
    "!ansible {target_group} -m file -a \\\n",
    "    \"path=/srv/moodle/misc/logrotate.d state=directory\"\n",
    "!ansible {target_group} -b -a \\\n",
    "    \"cp -fp /etc/logrotate.d/httpd /etc/logrotate.d/mysql-server \\\n",
    "    /srv/moodle/misc/logrotate.d\""
   ]
  },
  {
   "cell_type": "markdown",
   "metadata": {},
   "source": [
    "Moodleキャッシュなどのバックアップ対象から外すディレクトリを指定します。前節のバックアップ対象であるDBデータを格納しているディレクトリ `db/data`、データベースをリストアするためのSQLファイルを格納しているディレクトリ `db/sql`も除外対象としています。"
   ]
  },
  {
   "cell_type": "code",
   "execution_count": null,
   "metadata": {},
   "outputs": [],
   "source": [
    "exclude_dir_list = [\n",
    "    './moodle/data/moodledata/cache',\n",
    "    './moodle/data/moodledata/localcache',\n",
    "    './moodle/data/moodledata/sessions',\n",
    "    './moodle/data/moodledata/temp',\n",
    "    './moodle/data/moodledata/trashdir',\n",
    "    './db/data',\n",
    "    './db/sql',\n",
    "]"
   ]
  },
  {
   "cell_type": "markdown",
   "metadata": {},
   "source": [
    "除外ディレクトリのリストをファイルに書き込みます。"
   ]
  },
  {
   "cell_type": "code",
   "execution_count": null,
   "metadata": {},
   "outputs": [],
   "source": [
    "from tempfile import TemporaryDirectory\n",
    "from pathlib import Path\n",
    "\n",
    "tmpdir = !ansible {target_group} -a 'mktemp -d'\n",
    "with TemporaryDirectory() as workdir:\n",
    "    exclude_file = Path(workdir) / 'exclude'\n",
    "    with exclude_file.open(mode='w') as f:\n",
    "        for line in exclude_dir_list:\n",
    "            print(line, file=f)\n",
    "    !cat {exclude_file}\n",
    "    !ansible {target_group} -m copy -a 'src={str(exclude_file)} dest={tmpdir[1]}/'"
   ]
  },
  {
   "cell_type": "markdown",
   "metadata": {},
   "source": [
    "バックアップの保存先となるS3uriを確認します。保存先のディレクトリはDBデータのバックアップの保存先と同じディレクトリとします。"
   ]
  },
  {
   "cell_type": "code",
   "execution_count": null,
   "metadata": {},
   "outputs": [],
   "source": [
    "s3_moodle_dest = s3_prefix + 'moodle.tar.gz'\n",
    "print(s3_moodle_dest)"
   ]
  },
  {
   "cell_type": "markdown",
   "metadata": {},
   "source": [
    "バックアップを作成します。"
   ]
  },
  {
   "cell_type": "code",
   "execution_count": null,
   "metadata": {},
   "outputs": [],
   "source": [
    "!ansible {target_group} -m shell -a \\\n",
    "    'bash -c \"sudo tar czpf - -C /srv/moodle -X {tmpdir[1]}/exclude .\" \\\n",
    "    | env AWS_ACCESS_KEY_ID={aws_access_key} AWS_SECRET_ACCESS_KEY={aws_secret_key} \\\n",
    "    aws s3 cp - {s3_moodle_dest}'"
   ]
  },
  {
   "cell_type": "markdown",
   "metadata": {},
   "source": [
    "除外ディレクトリのファイルを格納していた作業ディレクトリを削除します。"
   ]
  },
  {
   "cell_type": "code",
   "execution_count": null,
   "metadata": {},
   "outputs": [],
   "source": [
    "!ansible {target_group} -a 'rm -r {tmpdir[1]}'"
   ]
  },
  {
   "cell_type": "markdown",
   "metadata": {},
   "source": [
    "### コンテナイメージ\n",
    "\n",
    "コンテナイメージのバックアップを作成します。"
   ]
  },
  {
   "cell_type": "markdown",
   "metadata": {},
   "source": [
    "> レポジトリから取得したコンテナイメージを変更せずに利用している場合は、この節をスキップすることも可能です。"
   ]
  },
  {
   "cell_type": "markdown",
   "metadata": {},
   "source": [
    "Moodle環境を構成しているコンテナイメージ名を取得します。"
   ]
  },
  {
   "cell_type": "code",
   "execution_count": null,
   "metadata": {},
   "outputs": [],
   "source": [
    "out = !ansible {target_group} -a 'chdir=/srv/moodle docker compose images'\n",
    "images = [':'.join(x.split()[1:3]) for x in out[3:]]\n",
    "for x in images:\n",
    "    print(x)"
   ]
  },
  {
   "cell_type": "markdown",
   "metadata": {},
   "source": [
    "バックアップの保存先となるS3uriを確認します。保存先のディレクトリは他のバックアップの保存先と同じディレクトリとします。"
   ]
  },
  {
   "cell_type": "code",
   "execution_count": null,
   "metadata": {},
   "outputs": [],
   "source": [
    "s3_img_dest = s3_prefix + 'container-image.tar.gz'\n",
    "print(s3_img_dest)"
   ]
  },
  {
   "cell_type": "markdown",
   "metadata": {},
   "source": [
    "バックアップを作成します。"
   ]
  },
  {
   "cell_type": "code",
   "execution_count": null,
   "metadata": {},
   "outputs": [],
   "source": [
    "!ansible {target_group} -m shell \\\n",
    "    -a 'docker save {\" \".join(images)} \\\n",
    "    | gzip | env AWS_ACCESS_KEY_ID={aws_access_key} AWS_SECRET_ACCESS_KEY={aws_secret_key} \\\n",
    "    aws s3 cp - {s3_img_dest}'"
   ]
  },
  {
   "cell_type": "markdown",
   "metadata": {},
   "source": [
    "### バックアップファイルの確認\n",
    "\n",
    "作成したバックアップの一覧を表示し、バックアップが作成されたことを確認します。"
   ]
  },
  {
   "cell_type": "code",
   "execution_count": null,
   "metadata": {},
   "outputs": [],
   "source": [
    "!ansible {target_group} -a \\\n",
    "    'env AWS_ACCESS_KEY_ID={aws_access_key} AWS_SECRET_ACCESS_KEY={aws_secret_key} \\\n",
    "    aws s3 ls {s3_prefix}'"
   ]
  },
  {
   "cell_type": "markdown",
   "metadata": {
    "heading_collapsed": true
   },
   "source": [
    "### メンテナンスモードの解除\n",
    "\n",
    "メンテナンスモードを解除し、バックアップ作業を終了します。"
   ]
  },
  {
   "cell_type": "code",
   "execution_count": null,
   "metadata": {
    "hidden": true
   },
   "outputs": [],
   "source": [
    "!ansible {target_group} -a 'chdir=/srv/moodle docker compose exec -T moodle \\\n",
    "    /usr/bin/php /var/www/html/admin/cli/maintenance.php --disable'"
   ]
  }
 ],
 "metadata": {
  "kernelspec": {
   "display_name": "Python 3",
   "language": "python",
   "name": "python3"
  },
  "language_info": {
   "file_extension": ".py",
   "mimetype": "text/x-python",
   "name": "python",
   "nbconvert_exporter": "python",
   "pygments_lexer": "ipython3",
   "version": "3.7.3"
  },
  "toc": {
   "base_numbering": 1,
   "nav_menu": {},
   "number_sections": true,
   "sideBar": true,
   "skip_h1_title": true,
   "title_cell": "Table of Contents",
   "title_sidebar": "Contents",
   "toc_cell": false,
   "toc_position": {},
   "toc_section_display": true,
   "toc_window_display": true
  }
 },
 "nbformat": 4,
 "nbformat_minor": 2
}
