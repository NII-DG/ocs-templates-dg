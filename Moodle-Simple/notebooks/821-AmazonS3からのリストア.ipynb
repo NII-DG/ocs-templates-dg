{
 "cells": [
  {
   "cell_type": "markdown",
   "metadata": {},
   "source": [
    "# About: Amazon S3からのリストア\n",
    "\n",
    "---\n",
    "\n",
    "Moodle構築環境のデータ、設定ファイルなどを Amazon S3 からリストアします。"
   ]
  },
  {
   "cell_type": "markdown",
   "metadata": {},
   "source": [
    "## 概要\n",
    "\n",
    "Amazon S3に作成したMoodle環境のバックアップからのリストアを行います。"
   ]
  },
  {
   "cell_type": "markdown",
   "metadata": {},
   "source": [
    "### 前提条件\n"
   ]
  },
  {
   "cell_type": "markdown",
   "metadata": {},
   "source": [
    "この Notebook を実行するには事前に以下のものを準備する必要があります。\n",
    "\n",
    "* バックアップの保存先であるAmazon S3にアクセルするためのクレデンシャル\n",
    "* リストア先となるVCノード/EC2インスタンス/Azure仮想マシン\n",
    "\n",
    "リストア先となる環境は「011-VCノードの作成」、「012-EC2インスタンスの作成」、「013-Azure仮想マシンの作成」のいずれかのNotebookで作成することができます。\n",
    "\n",
    "また、リストアの操作により既存の環境を損ねることを避けるため、リストア先となるディレクトリ `/srv/moodle` が存在していないことを前提としています。"
   ]
  },
  {
   "cell_type": "markdown",
   "metadata": {},
   "source": [
    "## パラメータ設定"
   ]
  },
  {
   "cell_type": "markdown",
   "metadata": {},
   "source": [
    "### リストア先のMoodle環境を指定する\n",
    "\n",
    "リストア先となるノードをAnsibleのグループ名で指定してください。"
   ]
  },
  {
   "cell_type": "code",
   "execution_count": null,
   "metadata": {},
   "outputs": [],
   "source": [
    "# (例)\n",
    "# target_group = 'Moodle'\n",
    "\n",
    "target_group ="
   ]
  },
  {
   "cell_type": "markdown",
   "metadata": {},
   "source": [
    "リストア対象のノードにアクセスできることを確認します。"
   ]
  },
  {
   "cell_type": "code",
   "execution_count": null,
   "metadata": {},
   "outputs": [],
   "source": [
    "!ansible {target_group} -m ping"
   ]
  },
  {
   "cell_type": "markdown",
   "metadata": {},
   "source": [
    "リストア先となるディレクトリ `/srv/moodle` が存在していないことを確認します。"
   ]
  },
  {
   "cell_type": "code",
   "execution_count": null,
   "metadata": {},
   "outputs": [],
   "source": [
    "!ansible {target_group} -a 'test ! -e /srv/moodle'"
   ]
  },
  {
   "cell_type": "markdown",
   "metadata": {},
   "source": [
    "### AWSの認証情報\n",
    "\n",
    "Amazon S3を利用するための認証情報を指定します。"
   ]
  },
  {
   "cell_type": "markdown",
   "metadata": {},
   "source": [
    "Amazonのアクセスキーを指定してください。"
   ]
  },
  {
   "cell_type": "code",
   "execution_count": null,
   "metadata": {},
   "outputs": [],
   "source": [
    "from getpass import getpass\n",
    "aws_access_key = getpass()"
   ]
  },
  {
   "cell_type": "markdown",
   "metadata": {},
   "source": [
    "Amazonのシークレットキーを指定してください。"
   ]
  },
  {
   "cell_type": "code",
   "execution_count": null,
   "metadata": {},
   "outputs": [],
   "source": [
    "aws_secret_key = getpass()"
   ]
  },
  {
   "cell_type": "markdown",
   "metadata": {},
   "source": [
    "### バックアップの保存先を指定する\n",
    "\n",
    "バックアップの保存先である Amazon S3 のバケット名、パスを指定します。"
   ]
  },
  {
   "cell_type": "markdown",
   "metadata": {},
   "source": [
    "Amazon S3 のバケット名を指定してください。"
   ]
  },
  {
   "cell_type": "code",
   "execution_count": null,
   "metadata": {},
   "outputs": [],
   "source": [
    "# (例)\n",
    "# s3_bucket = 's3-bucket-name'\n",
    "\n",
    "s3_bucket ="
   ]
  },
  {
   "cell_type": "markdown",
   "metadata": {},
   "source": [
    "リストアを行うバックアップファイルを選択するために、バックアップファイルの一覧を確認します。"
   ]
  },
  {
   "cell_type": "code",
   "execution_count": null,
   "metadata": {},
   "outputs": [],
   "source": [
    "!ansible {target_group} -a \\\n",
    "    'env AWS_ACCESS_KEY_ID={aws_access_key} AWS_SECRET_ACCESS_KEY={aws_secret_key} \\\n",
    "    aws s3 ls --recursive s3://{s3_bucket}/'"
   ]
  },
  {
   "cell_type": "markdown",
   "metadata": {},
   "source": [
    "リストアを行うバックアップファイルを格納しているディレクトリを指定してください。"
   ]
  },
  {
   "cell_type": "code",
   "execution_count": null,
   "metadata": {},
   "outputs": [],
   "source": [
    "# (例)\n",
    "# backup_dir = 'moodle-simple/Moodle/2020-XX-XXTXX:XX:XX.XXXXXX'\n",
    "\n",
    "backup_dir ="
   ]
  },
  {
   "cell_type": "markdown",
   "metadata": {},
   "source": [
    "指定したバケット名、ディレクトリにバックアップファイルがあることを確認します。次のセルを実行してMoodle環境のバックアップファイル `db.sql.gz`, `moodle.tar.gz` が存在していることを確認してください。"
   ]
  },
  {
   "cell_type": "code",
   "execution_count": null,
   "metadata": {},
   "outputs": [],
   "source": [
    "!ansible {target_group} -a \\\n",
    "    'env AWS_ACCESS_KEY_ID={aws_access_key} AWS_SECRET_ACCESS_KEY={aws_secret_key} \\\n",
    "    aws s3 ls s3://{s3_bucket}/{backup_dir}/'"
   ]
  },
  {
   "cell_type": "markdown",
   "metadata": {},
   "source": [
    "## リストア\n",
    "\n",
    "Moodle環境のリストアを行います。"
   ]
  },
  {
   "cell_type": "markdown",
   "metadata": {},
   "source": [
    "### ディレクトリの作成\n",
    "\n",
    "リストア先となるディレクトリを作成します。"
   ]
  },
  {
   "cell_type": "code",
   "execution_count": null,
   "metadata": {},
   "outputs": [],
   "source": [
    "!ansible {target_group} -b -m file -a \\\n",
    "    'path=/srv/moodle state=directory owner={{{{ansible_ssh_user}}}}'"
   ]
  },
  {
   "cell_type": "markdown",
   "metadata": {},
   "source": [
    "デフォルトのコンテナログの出力先ディレクトリを作成します。"
   ]
  },
  {
   "cell_type": "code",
   "execution_count": null,
   "metadata": {},
   "outputs": [],
   "source": [
    "!ansible {target_group} -b -m file -a 'path=/var/log/httpd state=directory'\n",
    "!ansible {target_group} -b -m file -a 'path=/var/log/mysql owner=999 group=adm state=directory'"
   ]
  },
  {
   "cell_type": "markdown",
   "metadata": {},
   "source": [
    "### コンテナ構成、Moodleデータなどのリストア\n",
    "\n",
    "設定ファイルなどのバックアップファイル `moodle.tar.gz` をリストアします。"
   ]
  },
  {
   "cell_type": "markdown",
   "metadata": {},
   "source": [
    "リストア対象のバックアップファイルを確認します。"
   ]
  },
  {
   "cell_type": "code",
   "execution_count": null,
   "metadata": {},
   "outputs": [],
   "source": [
    "s3_moodle_backup = f's3://{s3_bucket}/{backup_dir}/moodle.tar.gz'\n",
    "print(s3_moodle_backup)"
   ]
  },
  {
   "cell_type": "markdown",
   "metadata": {},
   "source": [
    "リストアを行います。"
   ]
  },
  {
   "cell_type": "code",
   "execution_count": null,
   "metadata": {},
   "outputs": [],
   "source": [
    "!ansible {target_group} -m shell -a \\\n",
    "    'env AWS_ACCESS_KEY_ID={aws_access_key} AWS_SECRET_ACCESS_KEY={aws_secret_key} \\\n",
    "    aws s3 cp {s3_moodle_backup} - \\\n",
    "    | bash -c \"sudo tar xzpf - -C /srv/moodle\"'"
   ]
  },
  {
   "cell_type": "markdown",
   "metadata": {},
   "source": [
    "リストアされたことを確認します。"
   ]
  },
  {
   "cell_type": "code",
   "execution_count": null,
   "metadata": {},
   "outputs": [],
   "source": [
    "!ansible {target_group} -a 'chdir=/srv/moodle tree -L 3 -F'"
   ]
  },
  {
   "cell_type": "markdown",
   "metadata": {},
   "source": [
    "### DBデータ\n",
    "\n",
    "DBデータを復元するためのSQLファイルを取得します。"
   ]
  },
  {
   "cell_type": "markdown",
   "metadata": {},
   "source": [
    "リストア対象のバックアップファイルを確認します。"
   ]
  },
  {
   "cell_type": "code",
   "execution_count": null,
   "metadata": {},
   "outputs": [],
   "source": [
    "s3_db_backup = f's3://{s3_bucket}/{backup_dir}/db.sql.gz'\n",
    "print(s3_db_backup)"
   ]
  },
  {
   "cell_type": "markdown",
   "metadata": {},
   "source": [
    "リストア先となるディレクトリを作成します。"
   ]
  },
  {
   "cell_type": "code",
   "execution_count": null,
   "metadata": {
    "scrolled": true
   },
   "outputs": [],
   "source": [
    "!ansible {target_group} -b -m file -a \\\n",
    "    'path=/srv/moodle/db/data state=directory owner={{{{ansible_ssh_user}}}}'\n",
    "!ansible {target_group} -b -m file -a \\\n",
    "    'path=/srv/moodle/db/sql state=directory owner={{{{ansible_ssh_user}}}}'"
   ]
  },
  {
   "cell_type": "markdown",
   "metadata": {},
   "source": [
    "DBデータをリストアするためのSQLファイルファイルを配置します。配置したSQLファイルはDBコンテナ起動時に自動的に実行されます。"
   ]
  },
  {
   "cell_type": "code",
   "execution_count": null,
   "metadata": {},
   "outputs": [],
   "source": [
    "!ansible {target_group} -a \\\n",
    "    'env AWS_ACCESS_KEY_ID={aws_access_key} AWS_SECRET_ACCESS_KEY={aws_secret_key} \\\n",
    "    aws s3 cp {s3_db_backup} /srv/moodle/db/sql/backup.sql.gz'"
   ]
  },
  {
   "cell_type": "markdown",
   "metadata": {},
   "source": [
    "### コンテナイメージ\n",
    "\n",
    "Dockerコンテナイメージのリストアを行います。"
   ]
  },
  {
   "cell_type": "markdown",
   "metadata": {},
   "source": [
    "> コンテナイメージのバックアップを作成していない、あるいはレポジトリのコンテナイメージを利用する場合はこの節を実行せずにスキップしてください。"
   ]
  },
  {
   "cell_type": "markdown",
   "metadata": {},
   "source": [
    "コンテナイメージをリストアする前の状態を確認しておきます。コンテナイメージの一覧を表示します。"
   ]
  },
  {
   "cell_type": "code",
   "execution_count": null,
   "metadata": {},
   "outputs": [],
   "source": [
    "!ansible {target_group} -a 'docker images'"
   ]
  },
  {
   "cell_type": "markdown",
   "metadata": {},
   "source": [
    "リストア対象のバックアップファイルを確認します。"
   ]
  },
  {
   "cell_type": "code",
   "execution_count": null,
   "metadata": {},
   "outputs": [],
   "source": [
    "s3_cnt_img = f's3://{s3_bucket}/{backup_dir}/container-image.tar.gz'\n",
    "print(s3_cnt_img)"
   ]
  },
  {
   "cell_type": "markdown",
   "metadata": {},
   "source": [
    "コンテナイメージをリストアします。\n",
    "\n",
    "> バックアップファイルが存在していない場合はエラーになります。"
   ]
  },
  {
   "cell_type": "code",
   "execution_count": null,
   "metadata": {},
   "outputs": [],
   "source": [
    "!ansible {target_group} -m shell -a \\\n",
    "    'env AWS_ACCESS_KEY_ID={aws_access_key} AWS_SECRET_ACCESS_KEY={aws_secret_key} \\\n",
    "    aws s3 cp {s3_cnt_img} - | gzip -cd | docker load'"
   ]
  },
  {
   "cell_type": "markdown",
   "metadata": {},
   "source": [
    "リストアを行った後の状態を確認します。コンテナイメージの一覧を表示します。"
   ]
  },
  {
   "cell_type": "code",
   "execution_count": null,
   "metadata": {},
   "outputs": [],
   "source": [
    "!ansible {target_group} -a 'docker images'"
   ]
  },
  {
   "cell_type": "markdown",
   "metadata": {},
   "source": [
    "### コンテナの起動\n",
    "\n",
    "リストアした環境のコンテナを起動します。"
   ]
  },
  {
   "cell_type": "code",
   "execution_count": null,
   "metadata": {},
   "outputs": [],
   "source": [
    "!ansible {target_group} -a 'chdir=/srv/moodle \\\n",
    "    docker compose up -d'"
   ]
  },
  {
   "cell_type": "markdown",
   "metadata": {},
   "source": [
    "コンテナの状態を確認します。`State`が`Up`となっていることを確認してください。"
   ]
  },
  {
   "cell_type": "code",
   "execution_count": null,
   "metadata": {},
   "outputs": [],
   "source": [
    "!ansible {target_group} -a 'chdir=/srv/moodle \\\n",
    "    docker compose ps'"
   ]
  },
  {
   "cell_type": "markdown",
   "metadata": {},
   "source": [
    "### crontab\n",
    "\n",
    "crontabの設定を復元します。"
   ]
  },
  {
   "cell_type": "markdown",
   "metadata": {},
   "source": [
    "現在の crontab の設定を確認します。"
   ]
  },
  {
   "cell_type": "code",
   "execution_count": null,
   "metadata": {},
   "outputs": [],
   "source": [
    "try:\n",
    "    !ansible {target_group} -a 'crontab -l'\n",
    "except:\n",
    "    pass"
   ]
  },
  {
   "cell_type": "markdown",
   "metadata": {},
   "source": [
    "バックアップファイルからcrontabの復元を行います。"
   ]
  },
  {
   "cell_type": "code",
   "execution_count": null,
   "metadata": {},
   "outputs": [],
   "source": [
    "!ansible {target_group} -a 'crontab /srv/moodle/misc/crontab'"
   ]
  },
  {
   "cell_type": "markdown",
   "metadata": {},
   "source": [
    "復元後の設定を確認します。"
   ]
  },
  {
   "cell_type": "code",
   "execution_count": null,
   "metadata": {},
   "outputs": [],
   "source": [
    "!ansible {target_group} -a 'crontab -l'"
   ]
  },
  {
   "cell_type": "markdown",
   "metadata": {},
   "source": [
    "### logrotate\n",
    "\n",
    "コンテナログのログローテーションの設定を復元します。"
   ]
  },
  {
   "cell_type": "code",
   "execution_count": null,
   "metadata": {},
   "outputs": [],
   "source": [
    "!ansible {target_group} -b -m shell -a \\\n",
    "    'cp /srv/moodle/misc/logrotate.d/* /etc/logrotate.d/'"
   ]
  },
  {
   "cell_type": "markdown",
   "metadata": {
    "heading_collapsed": true
   },
   "source": [
    "### メンテナンスモードの解除\n",
    "\n",
    "メンテナンスモードに変更してからバックアップを作成した場合はメンテナンスモードの解除が必要となります。"
   ]
  },
  {
   "cell_type": "code",
   "execution_count": null,
   "metadata": {
    "hidden": true
   },
   "outputs": [],
   "source": [
    "!ansible {target_group} -a 'chdir=/srv/moodle docker compose exec -T moodle \\\n",
    "    /usr/bin/php /var/www/html/admin/cli/maintenance.php --disable'"
   ]
  }
 ],
 "metadata": {
  "kernelspec": {
   "display_name": "Python 3",
   "language": "python",
   "name": "python3"
  },
  "language_info": {
   "file_extension": ".py",
   "mimetype": "text/x-python",
   "name": "python",
   "nbconvert_exporter": "python",
   "pygments_lexer": "ipython3",
   "version": "3.7.3"
  },
  "toc": {
   "base_numbering": 1,
   "nav_menu": {},
   "number_sections": true,
   "sideBar": true,
   "skip_h1_title": true,
   "title_cell": "Table of Contents",
   "title_sidebar": "Contents",
   "toc_cell": false,
   "toc_position": {},
   "toc_section_display": true,
   "toc_window_display": true
  }
 },
 "nbformat": 4,
 "nbformat_minor": 2
}
