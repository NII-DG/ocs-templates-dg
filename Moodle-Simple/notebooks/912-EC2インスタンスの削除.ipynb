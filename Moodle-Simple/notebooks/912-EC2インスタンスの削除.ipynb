{
 "cells": [
  {
   "cell_type": "markdown",
   "metadata": {},
   "source": [
    "# About: Moodle環境の削除--EC2インスタンスの削除\n",
    "\n",
    "---\n",
    "\n",
    "EC2インスタンスを削除します。"
   ]
  },
  {
   "cell_type": "markdown",
   "metadata": {},
   "source": [
    "## パラメータの設定\n",
    "\n",
    "EC2インスタンスを削除するのに必要となるパラメータを設定します。"
   ]
  },
  {
   "cell_type": "markdown",
   "metadata": {},
   "source": [
    "### AWSの認証情報\n",
    "\n",
    "EC2インスタンスの操作を行うためのAWSのアクセスキーとシークレットキーを入力します。"
   ]
  },
  {
   "cell_type": "markdown",
   "metadata": {},
   "source": [
    "アクセスキーの値を入力してください。"
   ]
  },
  {
   "cell_type": "code",
   "execution_count": null,
   "metadata": {
    "tags": [
     "vcp:skip",
     "vcp:parameters"
    ]
   },
   "outputs": [],
   "source": [
    "from getpass import getpass\n",
    "aws_access_key = getpass()"
   ]
  },
  {
   "cell_type": "markdown",
   "metadata": {},
   "source": [
    "シークレットキーを入力してください。"
   ]
  },
  {
   "cell_type": "code",
   "execution_count": null,
   "metadata": {
    "tags": [
     "vcp:skip",
     "vcp:parameters"
    ]
   },
   "outputs": [],
   "source": [
    "aws_secret_key = getpass()"
   ]
  },
  {
   "cell_type": "markdown",
   "metadata": {},
   "source": [
    "このNotebookで実行するコマンドから、AWSの認証情報を参照できるようにするため入力された情報を環境変数に設定します。"
   ]
  },
  {
   "cell_type": "code",
   "execution_count": null,
   "metadata": {
    "tags": [
     "vcp:skip",
     "vcp:parameters"
    ]
   },
   "outputs": [],
   "source": [
    "import os\n",
    "\n",
    "os.environ['AWS_ACCESS_KEY_ID'] = aws_access_key\n",
    "os.environ['AWS_SECRET_ACCESS_KEY'] = aws_secret_key"
   ]
  },
  {
   "cell_type": "markdown",
   "metadata": {},
   "source": [
    "### 削除対象となるインスタンスIDの指定\n",
    "\n",
    "削除対象となるEC2インスタンスのIDを指定します。"
   ]
  },
  {
   "cell_type": "markdown",
   "metadata": {},
   "source": [
    "削除候補となるインスタンスのIDリストを表示するために、Ansibleの `group_vars` ファイルを読み込みます。\n",
    "\n",
    "Ansibleで操作を行う際のグループ名を指定してください。"
   ]
  },
  {
   "cell_type": "code",
   "execution_count": null,
   "metadata": {
    "tags": [
     "vcp:skip",
     "vcp:parameters"
    ]
   },
   "outputs": [],
   "source": [
    "# (例)\n",
    "# target_group = 'Moodle'\n",
    "\n",
    "target_group = "
   ]
  },
  {
   "cell_type": "markdown",
   "metadata": {},
   "source": [
    "削除候補となるインスタンスのIDリストを表示します。"
   ]
  },
  {
   "cell_type": "code",
   "execution_count": null,
   "metadata": {},
   "outputs": [],
   "source": [
    "%run scripts/group.py\n",
    "gvars = load_group_vars(target_group)\n",
    "for x in gvars['instance_ids']:\n",
    "    print(x)"
   ]
  },
  {
   "cell_type": "markdown",
   "metadata": {},
   "source": [
    "削除対象のインスタンスIDを指定してください。"
   ]
  },
  {
   "cell_type": "code",
   "execution_count": null,
   "metadata": {
    "tags": [
     "vcp:skip",
     "vcp:parameters"
    ]
   },
   "outputs": [],
   "source": [
    "# (例)\n",
    "# target_instance_id = 'i-xxxxxxxxxxxxxxxxx'\n",
    "\n",
    "target_instance_id = "
   ]
  },
  {
   "cell_type": "markdown",
   "metadata": {},
   "source": [
    "## EC2インスタンスの削除\n",
    "\n",
    "Moodle環境を構築したEC2インスタンスを削除します。"
   ]
  },
  {
   "cell_type": "code",
   "execution_count": null,
   "metadata": {
    "scrolled": true
   },
   "outputs": [],
   "source": [
    "import os\n",
    "import json\n",
    "os.environ['PATH'] += f':{os.environ[\"HOME\"]}/.local/bin'\n",
    "instance_ids=json.dumps([target_instance_id])\n",
    "!pipenv run ansible localhost -c local -m amazon.aws.ec2_instance -a \\\n",
    "    'instance_ids={target_instance_id} region={gvars[\"aws_region\"]} \\\n",
    "    state=absent'"
   ]
  },
  {
   "cell_type": "markdown",
   "metadata": {
    "heading_collapsed": true
   },
   "source": [
    "## Ansible 設定ファイルの後始末\n",
    "\n",
    "Ansibleに関する設定ファイルの後始末を行います。"
   ]
  },
  {
   "cell_type": "markdown",
   "metadata": {
    "hidden": true
   },
   "source": [
    "group_vars に記録されているパラメータを無効にするために group_vars ファイルをリネームします。"
   ]
  },
  {
   "cell_type": "code",
   "execution_count": null,
   "metadata": {
    "hidden": true
   },
   "outputs": [],
   "source": [
    "!mv group_vars/{target_group}.yml  group_vars/{target_group}.yml.bak"
   ]
  },
  {
   "cell_type": "markdown",
   "metadata": {
    "hidden": true
   },
   "source": [
    "インベントリから対象となるグループを削除します。"
   ]
  },
  {
   "cell_type": "code",
   "execution_count": null,
   "metadata": {
    "hidden": true
   },
   "outputs": [],
   "source": [
    "%run scripts/group.py\n",
    "remove_group_from_inventory_yml(target_group)\n",
    "\n",
    "# 削除前との差分を表示します。\n",
    "! ! diff -u inventory.yml.bak inventory.yml"
   ]
  }
 ],
 "metadata": {
  "kernelspec": {
   "display_name": "Python 3",
   "language": "python",
   "name": "python3"
  },
  "language_info": {
   "file_extension": ".py",
   "mimetype": "text/x-python",
   "name": "python",
   "nbconvert_exporter": "python",
   "pygments_lexer": "ipython3",
   "version": "3.8.6"
  },
  "toc": {
   "base_numbering": 1,
   "nav_menu": {},
   "number_sections": true,
   "sideBar": true,
   "skip_h1_title": true,
   "title_cell": "Table of Contents",
   "title_sidebar": "Contents",
   "toc_cell": false,
   "toc_position": {},
   "toc_section_display": true,
   "toc_window_display": true
  }
 },
 "nbformat": 4,
 "nbformat_minor": 2
}