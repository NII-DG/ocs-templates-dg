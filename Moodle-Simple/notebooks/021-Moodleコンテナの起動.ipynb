{
 "cells": [
  {
   "cell_type": "markdown",
   "metadata": {},
   "source": [
    "# About: Moodleコンテナの起動\n",
    "\n",
    "---\n",
    "\n",
    "Moodleコンテナを起動します。"
   ]
  },
  {
   "cell_type": "markdown",
   "metadata": {},
   "source": [
    "## 全体構成\n",
    "\n",
    "![構成](images/moodle-021-01.png)"
   ]
  },
  {
   "cell_type": "markdown",
   "metadata": {},
   "source": [
    "構築するMoodle環境は次の２つのDockerコンテナで構成されます。\n",
    "\n",
    "* [Moodle](https://harbor.vcloud.nii.ac.jp/harbor/projects/2/repositories/vcp%2Fmoodle-simple)\n",
    "  - MoodleのPHPスクリプトを実行するコンテナ\n",
    "* [MariaDB](https://hub.docker.com/_/mariadb/)\n",
    "  - Moodleの設定を保存するデータベース\n",
    "  \n",
    "構築環境となるノードを事前に「011-VCノードの作成」、「012-EC2インスタンスの作成」、「013-Azure仮想マシンの作成」のいずれかのNotebookで作成しておく必要があります。"
   ]
  },
  {
   "cell_type": "markdown",
   "metadata": {},
   "source": [
    "## 準備"
   ]
  },
  {
   "cell_type": "markdown",
   "metadata": {},
   "source": [
    "### Group名の指定\n",
    "\n",
    "Moodle環境の構築対象を指定するために Ansible のグループ名を指定します。"
   ]
  },
  {
   "cell_type": "markdown",
   "metadata": {},
   "source": [
    "ノード作成をどのNotebookで行ったかによって、ここで指定する値は異なります。各Notebookでどの値がAnsibleのグループ名に対応するのかを以下に示します。\n",
    "\n",
    "* 011-VCノードの作成.ipynb\n",
    "    - UnitGroup名: `ugroup_name`\n",
    "* 012-EC2インスタンスの作成.ipynb\n",
    "    - EC2インスタンスの名前: `aws_ec2_name`\n",
    "* 013-Azure仮想マシンの作成.ipynb\n",
    "    - 仮想マシンの名前: `azure_vm_name`"
   ]
  },
  {
   "cell_type": "code",
   "execution_count": null,
   "metadata": {
    "tags": [
     "vcp:skip",
     "vcp:parameters"
    ]
   },
   "outputs": [],
   "source": [
    "# (例)\n",
    "# target_group = 'Moodle'\n",
    "\n",
    "target_group = "
   ]
  },
  {
   "cell_type": "markdown",
   "metadata": {
    "heading_collapsed": true
   },
   "source": [
    "### 前提条件の確認\n",
    "\n",
    "このNotebookを実行するための前提条件を満たしていることを確認します。"
   ]
  },
  {
   "cell_type": "markdown",
   "metadata": {
    "hidden": true
   },
   "source": [
    "前提となる条件を以下に示します。\n",
    "\n",
    "* Ansibleから操作可能であること\n",
    "* Ansibleから管理者権限でコマンドを実行できること\n",
    "* Docker が利用可能なこと\n",
    "* docker compose コマンドがインストールされていること\n",
    "* CentOS 7であること"
   ]
  },
  {
   "cell_type": "markdown",
   "metadata": {
    "hidden": true
   },
   "source": [
    "対象となるホストにAnsibleで到達可能なことを確認します。"
   ]
  },
  {
   "cell_type": "code",
   "execution_count": null,
   "metadata": {
    "hidden": true
   },
   "outputs": [],
   "source": [
    "!ansible {target_group} -m ping"
   ]
  },
  {
   "cell_type": "markdown",
   "metadata": {
    "hidden": true
   },
   "source": [
    "管理者権限でコマンド実行可能なことを確認します。"
   ]
  },
  {
   "cell_type": "code",
   "execution_count": null,
   "metadata": {
    "hidden": true
   },
   "outputs": [],
   "source": [
    "# 管理者権限(-b)でのコマンド実行\n",
    "!ansible {target_group} -b -a 'whoami'"
   ]
  },
  {
   "cell_type": "markdown",
   "metadata": {
    "hidden": true
   },
   "source": [
    "Dockerが利用可能なことを確認します。"
   ]
  },
  {
   "cell_type": "code",
   "execution_count": null,
   "metadata": {
    "hidden": true,
    "scrolled": true
   },
   "outputs": [],
   "source": [
    "!ansible {target_group} -a 'docker info'"
   ]
  },
  {
   "cell_type": "markdown",
   "metadata": {
    "hidden": true
   },
   "source": [
    "docker composeコマンドがインストールされていることを確認します。"
   ]
  },
  {
   "cell_type": "code",
   "execution_count": null,
   "metadata": {
    "hidden": true
   },
   "outputs": [],
   "source": [
    "!ansible {target_group} -a 'docker compose version'"
   ]
  },
  {
   "cell_type": "markdown",
   "metadata": {
    "hidden": true
   },
   "source": [
    "構築対象のノードが CentOS 7 であること確認します。"
   ]
  },
  {
   "cell_type": "code",
   "execution_count": null,
   "metadata": {
    "hidden": true
   },
   "outputs": [],
   "source": [
    "import json\n",
    "\n",
    "out = !ansible {target_group} -m setup\n",
    "try:\n",
    "    idx = [i for i, x in enumerate(out) if x.endswith('| SUCCESS => {')][0]\n",
    "    data = json.loads(' '.join(['{'] + out[(idx + 1):]))\n",
    "    distribution = data['ansible_facts']['ansible_distribution']\n",
    "    distribution_major_version = data['ansible_facts']['ansible_distribution_major_version']\n",
    "    if distribution != 'CentOS' or distribution_major_version != '7':\n",
    "        raise RuntimeError(f\"ERROR: {distribution} {distribution_major_version}\")\n",
    "except:\n",
    "    for line in out:\n",
    "        print(line)\n",
    "    raise RuntimeError(\"error!\")"
   ]
  },
  {
   "cell_type": "markdown",
   "metadata": {},
   "source": [
    "## パラメータ設定"
   ]
  },
  {
   "cell_type": "markdown",
   "metadata": {},
   "source": [
    "### Moodle\n",
    "Moodleに関するパラメータを指定します。\n",
    "\n",
    "![Moodle設定](images/moodle-021-02.png)"
   ]
  },
  {
   "cell_type": "markdown",
   "metadata": {},
   "source": [
    "#### Moodleのコンテナイメージ\n",
    "\n",
    "Moodleコンテナのイメージ名を指定してください。"
   ]
  },
  {
   "cell_type": "markdown",
   "metadata": {},
   "source": [
    "ここで指定する値は `harbor.vcloud.nii.ac.jp` にあらかじめ用意してある Moodle イメージから選択する必要があります。次のセルを実行すると選択可能な値の一覧を表示します。"
   ]
  },
  {
   "cell_type": "code",
   "execution_count": null,
   "metadata": {
    "scrolled": true
   },
   "outputs": [],
   "source": [
    "import requests\n",
    "\n",
    "url = f'https://harbor.vcloud.nii.ac.jp/api/repositories/vcp/moodle-simple/tags'\n",
    "res = requests.get(url)\n",
    "for x in sorted([f\"harbor.vcloud.nii.ac.jp/vcp/moodle-simple:{x['name']}\"\n",
    "                 for x in res.json()\n",
    "                 if not x['name'].endswith('-ssl')], reverse=True):\n",
    "    print(x)"
   ]
  },
  {
   "cell_type": "markdown",
   "metadata": {},
   "source": [
    "コンテナイメージのタグによって、どのリリースに対応するMoodle環境を構築するかを指定できます。`3.x.x` のようなタグはマイナーリリースまで特定したコンテナイメージとなります。また `3.x` のようなタグは各ブランチにおける最新のマイナーリリースを意味しています。Moodleのリリース状況に関しては[Moodle - Releases](https://docs.moodle.org/dev/Releases)を参照してください。現在の最新のLTS(Long Term Support)はMoodle 3.9となっています。"
   ]
  },
  {
   "cell_type": "code",
   "execution_count": null,
   "metadata": {
    "tags": [
     "vcp:skip",
     "vcp:parameters"
    ]
   },
   "outputs": [],
   "source": [
    "# (例)\n",
    "# moodle_image_name = 'harbor.vcloud.nii.ac.jp/vcp/moodle-simple:3.9.15'\n",
    "# moodle_image_name = 'harbor.vcloud.nii.ac.jp/vcp/moodle-simple:3.9'\n",
    "\n",
    "moodle_image_name = 'harbor.vcloud.nii.ac.jp/vcp/moodle-simple:3.9.15'"
   ]
  },
  {
   "cell_type": "markdown",
   "metadata": {},
   "source": [
    "#### Moodleの管理者ユーザ名\n",
    "\n",
    "Moodleの管理者ユーザ名を指定します。"
   ]
  },
  {
   "cell_type": "markdown",
   "metadata": {},
   "source": [
    "> Moodleのユーザ名に指定できる文字は、小文字英数字と`_`, `-`, `@`, `.`です。"
   ]
  },
  {
   "cell_type": "code",
   "execution_count": null,
   "metadata": {
    "tags": [
     "vcp:skip",
     "vcp:parameters"
    ]
   },
   "outputs": [],
   "source": [
    "# (例)\n",
    "# moodle_admin_name = 'admin'\n",
    "\n",
    "moodle_admin_name = "
   ]
  },
  {
   "cell_type": "markdown",
   "metadata": {},
   "source": [
    "#### Moodleの管理者パスワード\n",
    "\n",
    "管理者パスワードを指定します。"
   ]
  },
  {
   "cell_type": "markdown",
   "metadata": {},
   "source": [
    "次のセルを実行するとパスワード入力用の枠が表示されます。管理者パスワードを入力してください（入力後に Enter キーを押すことで入力が完了します）。\n",
    "\n",
    "> パスワードの値は `admin` 以外の値を指定してください。"
   ]
  },
  {
   "cell_type": "code",
   "execution_count": null,
   "metadata": {
    "tags": [
     "vcp:skip",
     "vcp:parameters"
    ]
   },
   "outputs": [],
   "source": [
    "from getpass import getpass\n",
    "moodle_admin_password = getpass()"
   ]
  },
  {
   "cell_type": "markdown",
   "metadata": {},
   "source": [
    "#### MoodleのURL\n",
    "\n",
    "MoodleではサイトのURLを`config.php`の`$CFG->wwwroot`に設定する必要があります。構築対象のURLを指定してください。"
   ]
  },
  {
   "cell_type": "code",
   "execution_count": null,
   "metadata": {
    "tags": [
     "vcp:skip",
     "vcp:parameters"
    ]
   },
   "outputs": [],
   "source": [
    "# (例)\n",
    "# moodle_url = 'http://moodle.example.org'\n",
    "# moodle_url = 'http://172.30.2.100'\n",
    "\n",
    "moodle_url = "
   ]
  },
  {
   "cell_type": "markdown",
   "metadata": {},
   "source": [
    "#### リバースプロキシ\n",
    "\n",
    "構築したMoodle環境に対して、一般利用者からのアクセスがリバースプロキシを経由して行われる場合は `moodle_reverseproxy` の値に `True` を設定してください。リバースプロキシを経由せずに構築環境に直接アクセスする構成をとる場合は `False` を設定してください。"
   ]
  },
  {
   "cell_type": "code",
   "execution_count": null,
   "metadata": {
    "tags": [
     "vcp:skip",
     "vcp:parameters"
    ]
   },
   "outputs": [],
   "source": [
    "# (例)\n",
    "# moodle_reverseproxy = False    # リバースプロキシを経由しない場合\n",
    "# moodle_reverseproxy = True     # リバースプロキシを経由する場合\n",
    "\n",
    "moodle_reverseproxy = "
   ]
  },
  {
   "cell_type": "markdown",
   "metadata": {
    "heading_collapsed": true
   },
   "source": [
    "#### パラメータの保存\n",
    "\n",
    "この節で指定したパラメータの値をファイルに保存します。ただしパスワードなどの秘匿情報についてはファイルへの保存を行いません。"
   ]
  },
  {
   "cell_type": "markdown",
   "metadata": {
    "hidden": true
   },
   "source": [
    "値の保存を行う前に、入力されたパラメータに対して簡易なチェックを行います。エラーになった場合はその後に表示される指示に従ってください。"
   ]
  },
  {
   "cell_type": "code",
   "execution_count": null,
   "metadata": {
    "hidden": true,
    "scrolled": true
   },
   "outputs": [],
   "source": [
    "%run scripts/utils.py\n",
    "check_parameters(\n",
    "    'moodle_admin_name',\n",
    "    'moodle_url',\n",
    "    nb_vars=locals(),\n",
    ")"
   ]
  },
  {
   "cell_type": "markdown",
   "metadata": {
    "hidden": true
   },
   "source": [
    "パラメータの値を group_vars ファイルに保存します。"
   ]
  },
  {
   "cell_type": "code",
   "execution_count": null,
   "metadata": {
    "hidden": true
   },
   "outputs": [],
   "source": [
    "%run scripts/group.py\n",
    "update_group_vars(\n",
    "    target_group,\n",
    "    moodle_image_name=moodle_image_name,\n",
    "    moodle_url=moodle_url,\n",
    "    moodle_reverseproxy=moodle_reverseproxy,\n",
    ")"
   ]
  },
  {
   "cell_type": "markdown",
   "metadata": {},
   "source": [
    "### データベース\n",
    "\n",
    "Moodleの設定値などを保存するデータベースに関するパラメータを指定します。\n",
    "\n",
    "![データベース設定](images/moodle-021-03.png)"
   ]
  },
  {
   "cell_type": "markdown",
   "metadata": {},
   "source": [
    "#### データベースのコンテナイメージ\n"
   ]
  },
  {
   "cell_type": "markdown",
   "metadata": {},
   "source": [
    "データベースコンテナのイメージ名を指定してください。このNotebookが構築する環境では MariaDBのコンテナイメージを指定することができます。"
   ]
  },
  {
   "cell_type": "code",
   "execution_count": null,
   "metadata": {
    "tags": [
     "vcp:parameters"
    ]
   },
   "outputs": [],
   "source": [
    "db_image_name = 'mariadb:10.8'"
   ]
  },
  {
   "cell_type": "markdown",
   "metadata": {},
   "source": [
    "Moodleの設定ファイル`config.php`の中で `$CFG->dbtype` に指定するデータベースの種別を指定してください。\n",
    "\n",
    "> このNotebookでは `mariadb` を指定した場合の動作確認のみ行っています。"
   ]
  },
  {
   "cell_type": "code",
   "execution_count": null,
   "metadata": {
    "tags": [
     "vcp:parameters"
    ]
   },
   "outputs": [],
   "source": [
    "# (例)\n",
    "# db_type = 'mariadb'    # MariaDB\n",
    "# db_type = 'mysql'      # MySQL\n",
    "\n",
    "db_type = 'mariadb'"
   ]
  },
  {
   "cell_type": "markdown",
   "metadata": {},
   "source": [
    "#### データベース名\n",
    "\n",
    "Moodleが使用するデータベース名を指定してください。"
   ]
  },
  {
   "cell_type": "code",
   "execution_count": null,
   "metadata": {
    "tags": [
     "vcp:parameters"
    ]
   },
   "outputs": [],
   "source": [
    "# (例)\n",
    "# db_moodle_db = 'moodle'\n",
    "\n",
    "db_moodle_db = 'moodle'"
   ]
  },
  {
   "cell_type": "markdown",
   "metadata": {},
   "source": [
    "#### データベースの接続ユーザ\n",
    "\n",
    "Moodleのデータベースに接続するためのデータベースのユーザ名を指定してください。"
   ]
  },
  {
   "cell_type": "code",
   "execution_count": null,
   "metadata": {
    "tags": [
     "vcp:parameters"
    ]
   },
   "outputs": [],
   "source": [
    "# (例)\n",
    "# db_moodle_db_user = 'moodle'\n",
    "\n",
    "db_moodle_db_user = 'moodle'"
   ]
  },
  {
   "cell_type": "markdown",
   "metadata": {},
   "source": [
    "#### データベースのパスワード\n"
   ]
  },
  {
   "cell_type": "markdown",
   "metadata": {},
   "source": [
    "Moodleのデータベースに接続するためのパスワードを指定します。"
   ]
  },
  {
   "cell_type": "code",
   "execution_count": null,
   "metadata": {
    "tags": [
     "vcp:skip",
     "vcp:parameters"
    ]
   },
   "outputs": [],
   "source": [
    "from getpass import getpass\n",
    "db_moodle_db_password = getpass()"
   ]
  },
  {
   "cell_type": "markdown",
   "metadata": {},
   "source": [
    "#### データベースの管理者パスワード\n",
    "\n",
    "管理者のパスワードを指定します。"
   ]
  },
  {
   "cell_type": "code",
   "execution_count": null,
   "metadata": {
    "tags": [
     "vcp:skip",
     "vcp:parameters"
    ]
   },
   "outputs": [],
   "source": [
    "db_root_password = getpass()"
   ]
  },
  {
   "cell_type": "markdown",
   "metadata": {
    "heading_collapsed": true
   },
   "source": [
    "#### パラメータの保存\n",
    "\n",
    "この節で指定したパラメータの値をファイルに保存します。ただしパスワードなどの秘匿情報についてはファイルへの保存を行いません。"
   ]
  },
  {
   "cell_type": "code",
   "execution_count": null,
   "metadata": {
    "hidden": true
   },
   "outputs": [],
   "source": [
    "update_group_vars(\n",
    "    target_group,\n",
    "    db_image_name=db_image_name,\n",
    "    db_type=db_type,\n",
    "    db_moodle_db=db_moodle_db,\n",
    ")"
   ]
  },
  {
   "cell_type": "markdown",
   "metadata": {
    "heading_collapsed": true
   },
   "source": [
    "## 設定ファイルの配置\n",
    "\n",
    "Moodleコンテナ、DBコンテナを実行するのに必要となる設定ファイルを構築環境に配置します。\n",
    "\n",
    "![設定ファイルの配置](images/moodle-021-04.png)"
   ]
  },
  {
   "cell_type": "markdown",
   "metadata": {
    "hidden": true
   },
   "source": [
    "### docker-compose.yml の配置"
   ]
  },
  {
   "cell_type": "markdown",
   "metadata": {
    "hidden": true
   },
   "source": [
    "このNotebookで構築するMoodle環境は複数のコンテナで構成されています。複数コンテナの管理を容易にするために`docker-compose`を利用します。YAMLで記述した設定ファイル`docker-compose.yml`にコンテナ構成を記述することで複数のコンテナの起動、停止などが行えます。\n",
    "\n",
    "ここでは`docker-compose.yml`を構築環境に配置します。"
   ]
  },
  {
   "cell_type": "markdown",
   "metadata": {
    "hidden": true
   },
   "source": [
    "まず`docker-compose.yml`などを格納するディレクトリ`/srv/moodle`を構築環境に作成します。"
   ]
  },
  {
   "cell_type": "code",
   "execution_count": null,
   "metadata": {
    "hidden": true
   },
   "outputs": [],
   "source": [
    "!ansible {target_group} -b -m file -a \\\n",
    "    'path=/srv/moodle state=directory owner={{{{ansible_ssh_user}}}}'"
   ]
  },
  {
   "cell_type": "markdown",
   "metadata": {
    "hidden": true
   },
   "source": [
    "作成したディレクトリに `docker-compose.yml`を配置します。\n",
    "\n",
    "> ここで配置する `docker-compose.yml` はコンテナ内から設定ファイルをコピーするための一時的なものです。実運用に用いる `docker-compose.yml` は次章で改めて配置します。"
   ]
  },
  {
   "cell_type": "code",
   "execution_count": null,
   "metadata": {
    "hidden": true
   },
   "outputs": [],
   "source": [
    "from tempfile import TemporaryDirectory\n",
    "from pathlib import Path\n",
    "import yaml\n",
    "\n",
    "params = {\n",
    "    'moodle_admin_name': moodle_admin_name,\n",
    "    'moodle_admin_password': moodle_admin_password,\n",
    "    'db_moodle_db_user': db_moodle_db_user,\n",
    "    'db_moodle_db_password': db_moodle_db_password,\n",
    "    'db_root_password': db_root_password,\n",
    "}\n",
    "with TemporaryDirectory() as workdir:\n",
    "    vars_path = Path(workdir) / 'moodle.yml'\n",
    "    with vars_path.open(mode='w') as f:\n",
    "        yaml.safe_dump(params, f)\n",
    "    !ansible {target_group} -m template \\\n",
    "        -e prepare=true -e @{vars_path} \\\n",
    "        -a 'src=template/docker-compose.yml dest=/srv/moodle/'"
   ]
  },
  {
   "cell_type": "markdown",
   "metadata": {
    "hidden": true
   },
   "source": [
    "### 各コンテナの設定ファイルを配置する"
   ]
  },
  {
   "cell_type": "markdown",
   "metadata": {
    "hidden": true
   },
   "source": [
    "このNotebookで構築する環境では、コンテナ内で実行する Apache HTTP server の`httpd.conf`などの設定ファイルを構築環境のホスト側に配置しています。これは各コンテナイメージに状態を持たせないようにして、バックアップ、リストアなどを容易に行うための対応策です。ホスト側に配置した設定ファイルは`docker-compose.yml`で指定した[bind mount](https://docs.docker.com/storage/bind-mounts/)の機能を利用してコンテナから参照できるようにしています。\n",
    "\n",
    "bind mountによって配置する設定ファイルのホスト環境におけるパスとコンテナ環境におけるパスの対応関係を以下に示します。\n",
    "\n",
    "<table>\n",
    "  <tr>\n",
    "    <th style=\"text-align:left;\">コンテナ名</th>\n",
    "    <th style=\"text-align:left;\">コンテナ環境のパス</th>\n",
    "    <th style=\"text-align:left;\">ホスト環境のパス</th>\n",
    "  </tr>\n",
    "  <tr>\n",
    "    <td style=\"text-align:left;\">moodle</td>\n",
    "    <td style=\"text-align:left;\">/etc/httpd/conf/httpd.conf</td>\n",
    "    <td style=\"text-align:left;\">/srv/moodle/moodle/conf/httpd/conf/httpd.conf</td>\n",
    "  </tr>\n",
    "  <tr>\n",
    "    <td style=\"text-align:left;\">moodle</td>\n",
    "    <td style=\"text-align:left;\">/etc/httpd/conf.d/</td>\n",
    "    <td style=\"text-align:left;\">/srv/moodle/moodle/conf/httpd/conf.d/</td>\n",
    "  </tr>\n",
    "  <tr>\n",
    "    <td style=\"text-align:left;\">moodle</td>\n",
    "    <td style=\"text-align:left;\">/etc/httpd/conf.modules.d/</td>\n",
    "    <td style=\"text-align:left;\">/srv/moodle/moodle/conf/httpd/conf.modules.d/</td>\n",
    "  </tr>\n",
    "  <tr>\n",
    "    <td style=\"text-align:left;\">moodle</td>\n",
    "    <td style=\"text-align:left;\">/etc/php.ini</td>\n",
    "    <td style=\"text-align:left;\">/srv/moodle/moodle/conf/php.ini</td>\n",
    "  </tr>\n",
    "  <tr>\n",
    "    <td style=\"text-align:left;\">moodle</td>\n",
    "    <td style=\"text-align:left;\">/etc/php.d/</td>\n",
    "    <td style=\"text-align:left;\">/srv/moodle/moodle/conf/php.d/</td>\n",
    "  </tr>\n",
    "  <tr>\n",
    "    <td style=\"text-align:left;\">db</td>\n",
    "    <td style=\"text-align:left;\">/etc/mysql/mariadb.conf.d/</td>\n",
    "    <td style=\"text-align:left;\">/srv/moodle/db-0/conf/mariadb.conf.d/</td>\n",
    "  </tr>\n",
    "</table>\n",
    "\n",
    "この節では、コンテナイメージの設定ファイルをコピーして構築環境のホスト側への配置を行います。"
   ]
  },
  {
   "cell_type": "markdown",
   "metadata": {
    "hidden": true
   },
   "source": [
    "コンテナ内の設定ファイルをホスト側にコピーするために、一時的にコンテナを起動します。まず、利用するコンテナイメージを取得します。"
   ]
  },
  {
   "cell_type": "code",
   "execution_count": null,
   "metadata": {
    "hidden": true
   },
   "outputs": [],
   "source": [
    "!ansible {target_group} -a \\\n",
    "    'chdir=/srv/moodle docker compose pull'"
   ]
  },
  {
   "cell_type": "markdown",
   "metadata": {
    "hidden": true
   },
   "source": [
    "設定ファイルをコピーするために一時的なコンテナ起動を行います。"
   ]
  },
  {
   "cell_type": "code",
   "execution_count": null,
   "metadata": {
    "hidden": true
   },
   "outputs": [],
   "source": [
    "!ansible {target_group} -a \\\n",
    "    'chdir=/srv/moodle docker compose up -d'"
   ]
  },
  {
   "cell_type": "markdown",
   "metadata": {
    "hidden": true
   },
   "source": [
    "コンテナから設定ファイルなどのコピーを行います。\n",
    "\n",
    "> 不整合をさけるために、ホスト側に配置されているファイルを全て削除してからコピーを行います。"
   ]
  },
  {
   "cell_type": "code",
   "execution_count": null,
   "metadata": {
    "hidden": true
   },
   "outputs": [],
   "source": [
    "!ansible {target_group} -a 'chdir=/srv/moodle \\\n",
    "    mkdir -p db/data db/misc moodle/conf moodle/data/moodledata'\n",
    "!ansible {target_group} -b -m shell -a 'chdir=/srv/moodle \\\n",
    "    rm -rf db/conf moodle/data/php moodle/conf/*'\n",
    "!ansible {target_group} -m shell -a 'chdir=/srv/moodle \\\n",
    "    docker cp db:/etc/mysql db/conf; \\\n",
    "    docker cp moodle:/etc/httpd moodle/conf; \\\n",
    "    docker cp moodle:/etc/php.ini moodle/conf; \\\n",
    "    docker cp moodle:/etc/php.d moodle/conf; \\\n",
    "    docker cp moodle:/var/www/moodle moodle/data/php'"
   ]
  },
  {
   "cell_type": "markdown",
   "metadata": {
    "hidden": true
   },
   "source": [
    "設定ファイルのコピーが完了したので、一時的に起動したコンテナを停止、削除します。"
   ]
  },
  {
   "cell_type": "code",
   "execution_count": null,
   "metadata": {
    "hidden": true
   },
   "outputs": [],
   "source": [
    "!ansible {target_group} -a \\\n",
    "    'chdir=/srv/moodle docker compose down'"
   ]
  },
  {
   "cell_type": "markdown",
   "metadata": {
    "hidden": true
   },
   "source": [
    "### ログ関連の準備\n",
    "\n",
    "コンテナで実行するサービスのログに関するセットアップを行います。"
   ]
  },
  {
   "cell_type": "markdown",
   "metadata": {
    "hidden": true
   },
   "source": [
    "#### ログ出力先のディレクトリの作成"
   ]
  },
  {
   "cell_type": "markdown",
   "metadata": {
    "hidden": true
   },
   "source": [
    "このNotebookで構築する環境では、コンテナ内で実行する Apache HTTP server などのログ出力先ディレクトリをホスト側のディレクトリに[bind mount](https://docs.docker.com/storage/bind-mounts/)します。これによりホスト側からもログの参照が容易になります。\n",
    "\n",
    "ログ出力先ディレクトリのコンテナ環境とホスト環境での対応関係を以下に示します。\n",
    "\n",
    "<table>\n",
    "  <tr>\n",
    "    <th style=\"text-align:left;\">コンテナ名</th>\n",
    "    <th style=\"text-align:left;\">コンテナ環境のパス</th>\n",
    "    <th style=\"text-align:left;\">ホスト環境のパス</th>\n",
    "  </tr>\n",
    "  <tr>\n",
    "    <td style=\"text-align:left;\">moodle</td>\n",
    "    <td style=\"text-align:left;\">/var/log/httpd</td>\n",
    "    <td style=\"text-align:left;\">/var/log/httpd</td>\n",
    "  </tr>\n",
    "  <tr>\n",
    "    <td style=\"text-align:left;\">db</td>\n",
    "    <td style=\"text-align:left;\">/var/log/mysql</td>\n",
    "    <td style=\"text-align:left;\">/var/log/mysql</td>\n",
    "  </tr>\n",
    "</table>"
   ]
  },
  {
   "cell_type": "markdown",
   "metadata": {
    "hidden": true
   },
   "source": [
    "ログ出力先のディレクトリを作成します。"
   ]
  },
  {
   "cell_type": "code",
   "execution_count": null,
   "metadata": {
    "hidden": true
   },
   "outputs": [],
   "source": [
    "!ansible {target_group} -b -m file -a 'path=/var/log/httpd state=directory'\n",
    "!ansible {target_group} -b -m file -a 'path=/var/log/mysql owner=999 group=adm state=directory'"
   ]
  },
  {
   "cell_type": "markdown",
   "metadata": {
    "hidden": true
   },
   "source": [
    "#### logrotateの設定ファイルを配置する\n",
    "\n",
    "Moodleコンテナ、DBコンテナのログをローテーションするための設定ファイルを配置します。logrotateはホスト環境で実行するので、ホスト側の `/etc/logrotate.d/` に配置します。 "
   ]
  },
  {
   "cell_type": "code",
   "execution_count": null,
   "metadata": {
    "hidden": true
   },
   "outputs": [],
   "source": [
    "!ansible {target_group} -b -m copy -a 'src=template/logrotate.d/httpd dest=/etc/logrotate.d/'\n",
    "!ansible {target_group} -b -m copy -a 'src=template/logrotate.d/mysql-server dest=/etc/logrotate.d/'"
   ]
  },
  {
   "cell_type": "markdown",
   "metadata": {
    "hidden": true
   },
   "source": [
    "#### mysqladmin の設定ファイルを配置する\n",
    "\n",
    "MariaDB/MySQL に対して logrotate を行うには管理者権限で `mysqladmin flush-logs` などのコマンドを実行出来るようにする必要があります。これを可能にするために管理者パスワードの情報を `/root/.my.cnf` に格納します。"
   ]
  },
  {
   "cell_type": "markdown",
   "metadata": {
    "hidden": true
   },
   "source": [
    "コンテナに状態を持たせないようにするために設定ファイルはホスト環境に配置したものを bind mountすることにします。コンテナ環境、ホスト環境におけるパスを以下に示します。\n",
    "\n",
    "<table>\n",
    "  <tr>\n",
    "    <th style=\"text-align:left;\">コンテナ環境のパス</th>\n",
    "    <th style=\"text-align:left;\">ホスト環境のパス</th>\n",
    "  </tr>\n",
    "  <tr>\n",
    "    <td style=\"text-align:left;\">/root/.my.cnf</td>\n",
    "    <td style=\"text-align:left;\">/srv/moodle/db/misc/my.cnf</td>\n",
    "  </tr>\n",
    "</table>"
   ]
  },
  {
   "cell_type": "markdown",
   "metadata": {
    "hidden": true
   },
   "source": [
    "設定ファイルをホスト側に配置します。"
   ]
  },
  {
   "cell_type": "code",
   "execution_count": null,
   "metadata": {
    "hidden": true
   },
   "outputs": [],
   "source": [
    "with TemporaryDirectory() as workdir:\n",
    "    vars_path = Path(workdir) / 'moodle.yml'\n",
    "    with vars_path.open(mode='w') as f:\n",
    "        yaml.safe_dump(params, f)\n",
    "    !ansible {target_group} -b -m template \\\n",
    "        -e prepare=true -e @{vars_path} \\\n",
    "        -a 'src=template/mysql/my.cnf dest=/srv/moodle/db/misc/ mode=0600 owner=root group=root'"
   ]
  },
  {
   "cell_type": "markdown",
   "metadata": {
    "hidden": true
   },
   "source": [
    "#### MariaDB 10.6 の設定ファイルを配置する"
   ]
  },
  {
   "cell_type": "markdown",
   "metadata": {
    "hidden": true
   },
   "source": [
    "MariaDB 10.6 から導入されたシステム変数に [innodb_read_only_compressed](https://mariadb.com/kb/en/innodb-system-variables/#innodb_read_only_compressed) があります。この値のデフォルト値は10.6.0から10.6.5 まで ON となっています。その場合Moodleのセットアップ時のテーブル操作がエラーとなってしまいます。これを回避するために `innodb_read_only_compressed` を `OFF`にする設定ファイルを配置します。設定は`[mariadb-10.6]`グループで行いMariaDB 10.6以外には影響が無いようにします。"
   ]
  },
  {
   "cell_type": "markdown",
   "metadata": {
    "hidden": true
   },
   "source": [
    "設定ファイルのコンテナ環境、ホスト環境におけるパスを以下に示します。\n",
    "\n",
    "<table>\n",
    "  <tr>\n",
    "    <th style=\"text-align:left;\">コンテナ環境のパス</th>\n",
    "    <th style=\"text-align:left;\">ホスト環境のパス</th>\n",
    "  </tr>\n",
    "  <tr>\n",
    "    <td style=\"text-align:left;\">/etc/mysql/mariadb.conf.d/99-local.cnf</td>\n",
    "    <td style=\"text-align:left;\">/srv/moodle/db/conf/mariadb.conf.d/99-local.cnf</td>\n",
    "  </tr>\n",
    "</table>"
   ]
  },
  {
   "cell_type": "code",
   "execution_count": null,
   "metadata": {
    "hidden": true
   },
   "outputs": [],
   "source": [
    "!ansible {target_group} -m copy \\\n",
    "    -a 'src=template/mariadb.conf.d/99-local.cnf \\\n",
    "    dest=/srv/moodle/db/conf/mariadb.conf.d/'"
   ]
  },
  {
   "cell_type": "markdown",
   "metadata": {
    "heading_collapsed": true
   },
   "source": [
    "## アプリケーションコンテナの起動\n",
    "\n",
    "Moodleコンテナ、データベースコンテナを起動して、Moodle環境を起動します。\n",
    "\n",
    "![コンテナの起動](images/moodle-021-05.png)"
   ]
  },
  {
   "cell_type": "markdown",
   "metadata": {
    "hidden": true
   },
   "source": [
    "`docker-compose.yml`を配置します。\n",
    "\n",
    "> ここで配置する`docker-compose.yml`が実運用で使用するものとなります。前章で配置したものとの違いは設定ファイルに関する bind mount 設定を追加していることです。"
   ]
  },
  {
   "cell_type": "code",
   "execution_count": null,
   "metadata": {
    "hidden": true
   },
   "outputs": [],
   "source": [
    "with TemporaryDirectory() as workdir:\n",
    "    vars_path = Path(workdir) / 'moodle.yml'\n",
    "    with vars_path.open(mode='w') as f:\n",
    "        yaml.safe_dump(params, f)\n",
    "    !ansible {target_group} -m template \\\n",
    "        -e @{vars_path} \\\n",
    "        -a 'src=template/docker-compose.yml dest=/srv/moodle/'"
   ]
  },
  {
   "cell_type": "markdown",
   "metadata": {
    "hidden": true
   },
   "source": [
    "コンテナの起動を行います。"
   ]
  },
  {
   "cell_type": "code",
   "execution_count": null,
   "metadata": {
    "hidden": true
   },
   "outputs": [],
   "source": [
    "!ansible {target_group} -a 'chdir=/srv/moodle \\\n",
    "    docker compose up -d'"
   ]
  },
  {
   "cell_type": "markdown",
   "metadata": {
    "hidden": true
   },
   "source": [
    "Moodleのインストール処理が完了してMoodleのサービスが開始されるまで数分程度を要します。ここではMoodleが開始されるまでの待ち合わせを行います。"
   ]
  },
  {
   "cell_type": "code",
   "execution_count": null,
   "metadata": {
    "hidden": true
   },
   "outputs": [],
   "source": [
    "%run scripts/utils.py\n",
    "\n",
    "def check_http_access():\n",
    "    !ansible {target_group} -a \\\n",
    "        \"curl -s -f -I http://localhost\" | grep -w HTTP\n",
    "\n",
    "retry_exec(check_http_access, err=Exception)"
   ]
  },
  {
   "cell_type": "markdown",
   "metadata": {},
   "source": [
    "## Moodle を利用できることを確認\n",
    "\n",
    "構築したMoodle環境にアクセスし、Moodle が利用できることを確認します。"
   ]
  },
  {
   "cell_type": "markdown",
   "metadata": {},
   "source": [
    "### アドレスの確認"
   ]
  },
  {
   "cell_type": "markdown",
   "metadata": {},
   "source": [
    "次のセルを実行すると表示されるリンクが、構築したMoodle環境のアドレスです。リンクをクリックしてMoodle環境にログインしてください。"
   ]
  },
  {
   "cell_type": "code",
   "execution_count": null,
   "metadata": {},
   "outputs": [],
   "source": [
    "from IPython.core.display import HTML\n",
    "HTML(u'<a href=\"{0}\" target=\"_blank\">{0}</a>'.format(moodle_url))"
   ]
  },
  {
   "cell_type": "markdown",
   "metadata": {},
   "source": [
    "### ライブログの確認\n",
    "\n",
    "Moodle のライブログを確認します。次のセルを実行すると表示されるリンクをクリックしてください。"
   ]
  },
  {
   "cell_type": "code",
   "execution_count": null,
   "metadata": {},
   "outputs": [],
   "source": [
    "from IPython.core.display import HTML\n",
    "HTML(u'<a href=\"{0}/report/loglive/index.php\" target=\"_blank\">{0}/report/loglive/index.php</a>'.format(moodle_url))"
   ]
  },
  {
   "cell_type": "markdown",
   "metadata": {},
   "source": [
    "## コンテナのログを確認する"
   ]
  },
  {
   "cell_type": "markdown",
   "metadata": {},
   "source": [
    "MoodleコンテナのApache HTTP Serverのログはホスト環境の `/var/log/httpd/` に出力されます。アクセスログ `access_log` の内容を確認してみます。"
   ]
  },
  {
   "cell_type": "code",
   "execution_count": null,
   "metadata": {
    "scrolled": true
   },
   "outputs": [],
   "source": [
    "!ansible {target_group} -a 'tail /var/log/httpd/access_log'"
   ]
  },
  {
   "cell_type": "markdown",
   "metadata": {},
   "source": [
    "DBコンテナのログはホスト環境の `/var/log/mysql/` に出力されます。エラーログ `error.log` の内容を確認してみます。"
   ]
  },
  {
   "cell_type": "code",
   "execution_count": null,
   "metadata": {
    "scrolled": true
   },
   "outputs": [],
   "source": [
    "!ansible {target_group} -b -a 'tail /var/log/mysql/error.log'"
   ]
  },
  {
   "cell_type": "markdown",
   "metadata": {
    "heading_collapsed": true
   },
   "source": [
    "## crontabの設定\n",
    "\n",
    "Moodleのスケジュールタスクを実行するために必要となるスクリプトを1分毎に実行するように crontab を設定します。"
   ]
  },
  {
   "cell_type": "code",
   "execution_count": null,
   "metadata": {
    "hidden": true
   },
   "outputs": [],
   "source": [
    "!ansible {target_group} -m cron -a 'name=PATH env=yes job=/usr/bin:/usr/local/bin'\n",
    "!ansible {target_group} -m cron -a 'name={target_group} \\\n",
    "    job=\"docker compose --project-directory=/srv/moodle exec -T moodle /usr/bin/php /var/www/moodle/admin/cli/cron.php > /dev/null\"'"
   ]
  }
 ],
 "metadata": {
  "kernelspec": {
   "display_name": "Python 3",
   "language": "python",
   "name": "python3"
  },
  "language_info": {
   "file_extension": ".py",
   "mimetype": "text/x-python",
   "name": "python",
   "nbconvert_exporter": "python",
   "pygments_lexer": "ipython3",
   "version": "3.8.6"
  },
  "toc": {
   "base_numbering": 1,
   "nav_menu": {},
   "number_sections": true,
   "sideBar": true,
   "skip_h1_title": true,
   "title_cell": "Table of Contents",
   "title_sidebar": "Contents",
   "toc_cell": false,
   "toc_position": {},
   "toc_section_display": "block",
   "toc_window_display": true
  }
 },
 "nbformat": 4,
 "nbformat_minor": 2
}
