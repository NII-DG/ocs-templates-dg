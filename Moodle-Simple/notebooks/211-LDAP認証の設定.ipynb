{
 "cells": [
  {
   "cell_type": "markdown",
   "metadata": {},
   "source": [
    "# About: LDAP認証の設定\n",
    "\n",
    "---\n",
    "\n",
    "MoodleのLDAP認証プラグインの設定を行います。"
   ]
  },
  {
   "cell_type": "markdown",
   "metadata": {},
   "source": [
    "## 概要"
   ]
  },
  {
   "cell_type": "markdown",
   "metadata": {},
   "source": [
    "### 前提条件\n",
    "\n",
    "LDAP認証を設定するために必要となる準備事項を以下に示します。"
   ]
  },
  {
   "cell_type": "markdown",
   "metadata": {},
   "source": [
    "* LDAPサーバにアクセスするための認証情報など\n",
    "* CA証明書（TLS接続を行う場合かつ、追加が必要な場合）"
   ]
  },
  {
   "cell_type": "markdown",
   "metadata": {},
   "source": [
    "## LDAPサーバに接続するための設定"
   ]
  },
  {
   "cell_type": "markdown",
   "metadata": {},
   "source": [
    "LDAPサーバにTLS接続を行う場合、以下の設定が必要となることがあります。\n",
    "\n",
    "* CA証明書の配置\n",
    "* LDAPサーバの名前解決に関する設定\n",
    "\n",
    "追加の設定が不要な場合はこの章の実行をスキップしてください。"
   ]
  },
  {
   "cell_type": "markdown",
   "metadata": {},
   "source": [
    "### 設定対象となるMoodle環境の指定\n",
    "\n",
    "設定対象となるMoodle環境にアクセスするためのAnsibleのグループ名を指定してください。"
   ]
  },
  {
   "cell_type": "code",
   "execution_count": null,
   "metadata": {},
   "outputs": [],
   "source": [
    "# (例)\n",
    "# target_group = 'Moodle'\n",
    "\n",
    "target_group ="
   ]
  },
  {
   "cell_type": "markdown",
   "metadata": {},
   "source": [
    "Ansibleでアクセスできることを確認します。"
   ]
  },
  {
   "cell_type": "code",
   "execution_count": null,
   "metadata": {},
   "outputs": [],
   "source": [
    "!ansible {target_group} -m ping"
   ]
  },
  {
   "cell_type": "markdown",
   "metadata": {},
   "source": [
    "### CA証明書の追加\n",
    "\n",
    "Moodle環境にCA証明書を追加します。"
   ]
  },
  {
   "cell_type": "markdown",
   "metadata": {},
   "source": [
    "次のセルにCA証明書の内容を指定してください。"
   ]
  },
  {
   "cell_type": "code",
   "execution_count": null,
   "metadata": {},
   "outputs": [],
   "source": [
    "# (例)\n",
    "# ca_certificate = '''-----BEGIN CERTIFICATE-----\n",
    "# MIIC0zCCAlmgAwIBAgIUCfQ+m0pgZ/BjYAJvxrn/bdGNZokwCgYIKoZIzj0EAwMw\n",
    "# (中略)\n",
    "# 8FdfWPypvA==\n",
    "# -----END CERTIFICATE-----'''\n",
    "\n",
    "ca_certificate = '''-----BEGIN CERTIFICATE-----\n",
    "\n",
    "-----END CERTIFICATE-----'''"
   ]
  },
  {
   "cell_type": "markdown",
   "metadata": {},
   "source": [
    "MoodleコンテナにCA証明書を配置します。"
   ]
  },
  {
   "cell_type": "code",
   "execution_count": null,
   "metadata": {},
   "outputs": [],
   "source": [
    "from tempfile import TemporaryDirectory\n",
    "from pathlib import Path\n",
    "\n",
    "with TemporaryDirectory() as workdir:\n",
    "    ca_pem = Path(workdir) / 'ldap-ca.pem'\n",
    "    with ca_pem.open(mode='w') as f:\n",
    "        f.write(ca_certificate)\n",
    "    !ansible {target_group} -b -m copy -a \\\n",
    "        'src={ca_pem} dest=/srv/moodle/moodle/conf/ca-trust/'"
   ]
  },
  {
   "cell_type": "markdown",
   "metadata": {},
   "source": [
    "CA証明書を追加します。"
   ]
  },
  {
   "cell_type": "code",
   "execution_count": null,
   "metadata": {},
   "outputs": [],
   "source": [
    "!ansible {target_group} -a 'chdir=/srv/moodle \\\n",
    "    docker compose exec moodle \\\n",
    "    update-ca-trust extract'"
   ]
  },
  {
   "cell_type": "markdown",
   "metadata": {},
   "source": [
    "### LDAPサーバの名前解決に関する設定\n",
    "\n",
    "MoodleコンテナからLDAPサーバのホスト名の名前解決を行えるように設定を追加します。"
   ]
  },
  {
   "cell_type": "markdown",
   "metadata": {},
   "source": [
    "MoodleコンテナからLDAPサーバの名前解決を行うための設定を`docker-compose.yml`に追加するには、以下に示す２つの設定方法があります。\n",
    "\n",
    "* [DNSサーバの設定を追加する](https://docs.docker.com/compose/compose-file/#dns)\n",
    "* [コンテナ内の/etc/hostsにエントリを追加する](https://docs.docker.com/compose/compose-file/#extra_hosts)"
   ]
  },
  {
   "cell_type": "markdown",
   "metadata": {},
   "source": [
    "DNSサーバの設定を`docker-compose.yml`に追加する場合の例を以下に示します。この例ではIPアドレス `8.8.8.8`のDNSサーバをMoodleコンテナに追加しています。\n",
    "\n",
    "```\n",
    "  moodle:\n",
    "    dns:\n",
    "      - 8.8.8.8 # DNSサーバのIPアドレスを指定する\n",
    "```"
   ]
  },
  {
   "cell_type": "markdown",
   "metadata": {},
   "source": [
    "Moodleコンテナの`/etc/hosts` にエントリを追加する場合の例を以下に示します。この例ではホスト名 `ldap.example.org`、IPアドレス`192.168.10.100`のエントリをMoodleコンテナの`/etc/hosts`に追加しています。\n",
    "\n",
    "```\n",
    "  moodle:\n",
    "    extra_hosts:\n",
    "      - \"ldap.example.org:192.168.10.100\"\n",
    "```"
   ]
  },
  {
   "cell_type": "markdown",
   "metadata": {},
   "source": [
    "実際に`docker-compose.yml`を編集するために、Moodle環境からローカル環境に `docker-compose.yml` ファイルの取得を行います。実行結果に表示されているリンクをクリックすることで、ローカル環境に取得した `docker-compose.yml` を編集することができます。\n",
    "\n",
    "> ファイルの編集後は**必ず**、メニューの[File]-[Save]を選択してファイルの保存を行ってください。"
   ]
  },
  {
   "cell_type": "code",
   "execution_count": null,
   "metadata": {},
   "outputs": [],
   "source": [
    "%run scripts/edit_conf.py\n",
    "fetch_docker_compose(target_group)"
   ]
  },
  {
   "cell_type": "markdown",
   "metadata": {},
   "source": [
    "`docker-compose.yml` を編集した後に、次のセルを実行すると編集の前後での差分を確認することができます。"
   ]
  },
  {
   "cell_type": "code",
   "execution_count": null,
   "metadata": {},
   "outputs": [],
   "source": [
    "show_local_docker_compose_diff(target_group)"
   ]
  },
  {
   "cell_type": "markdown",
   "metadata": {},
   "source": [
    "DNSサーバの設定を追加した場合の差分の表示例を以下に示します。\n",
    "\n",
    "```\n",
    "--- docker-compose.yml.orig\n",
    "+++ docker-compose.yml\n",
    "@@ -25,6 +25,8 @@\n",
    "       - --explicit_defaults_for_timestamp=true\n",
    "       - --log-error=/var/log/mysql/error.log\n",
    "   moodle:\n",
    "+    dns:\n",
    "+      - 8.8.8.8\n",
    "     image: harbor.vcloud.nii.ac.jp/vcp/moodle-simple:3.9\n",
    "     container_name: moodle\n",
    "     restart: always\n",
    "```"
   ]
  },
  {
   "cell_type": "markdown",
   "metadata": {},
   "source": [
    "`/etc/hosts`のエントリを追加する設定を行った場合の差分の表示例を以下に示します。\n",
    "\n",
    "```\n",
    "--- docker-compose.yml.orig\n",
    "+++ docker-compose.yml\n",
    "@@ -25,6 +25,8 @@\n",
    "       - --explicit_defaults_for_timestamp=true\n",
    "       - --log-error=/var/log/mysql/error.log\n",
    "   moodle:\n",
    "+    extra_hosts:\n",
    "+      - \"ldap.example.org:192.168.10.100\"\n",
    "     image: harbor.vcloud.nii.ac.jp/vcp/moodle-simple:3.9\n",
    "     container_name: moodle\n",
    "     restart: always\n",
    "```"
   ]
  },
  {
   "cell_type": "markdown",
   "metadata": {},
   "source": [
    "ローカル環境の`docker-compose.yml`をMoodle環境に配置して、さらに変更内容を変更するためにMoodleコンテナの再起動を行います。"
   ]
  },
  {
   "cell_type": "code",
   "execution_count": null,
   "metadata": {},
   "outputs": [],
   "source": [
    "apply_docker_compose(target_group)"
   ]
  },
  {
   "cell_type": "markdown",
   "metadata": {},
   "source": [
    "## LDAP認証プラグインの設定\n",
    "\n",
    "MoodleでLDAP認証行うための設定を行います。"
   ]
  },
  {
   "cell_type": "markdown",
   "metadata": {},
   "source": [
    "### LDAP認証プラグインの有効化"
   ]
  },
  {
   "cell_type": "markdown",
   "metadata": {},
   "source": [
    "まずLDAP認証プラグインを有効にします。管理者ユーザでログインして[サイト管理]-[プラグイン]-[認証管理]を選択し認証プラグインの一覧を表示してください。以下のような画面が表示されます。\n",
    "\n",
    "![認証管理画面](images/moodle-211-01.png)\n",
    "\n",
    "図の「LDAPサーバ」の行の `Yes` の列にあるアイコンを選択してLDAP認証プラグインを有効化してください。"
   ]
  },
  {
   "cell_type": "markdown",
   "metadata": {},
   "source": [
    "### LDAPサーバの設定"
   ]
  },
  {
   "cell_type": "markdown",
   "metadata": {},
   "source": [
    "「LDAPサーバ」の「設定」のリンクを選択すると以下のような設定画面が表示されます。\n",
    "\n",
    "![ldap設定画面](images/moodle-211-02.png)\n",
    "\n",
    "「ホストURL」などにLDAPサーバのアドレスなどを設定してください。\n",
    "\n",
    "また、同じ画面の「バインド設定」でLDAPサーバに接続するための識別名、パスワードも必要に応じて設定してください。\n",
    "\n",
    "![バインド設定](images/moodle-211-03.png)\n",
    "\n",
    "最後に設定画面の最下部にある「変更を保存する」ボタンを選択してください。"
   ]
  },
  {
   "cell_type": "markdown",
   "metadata": {},
   "source": [
    "### LDAPサーバへの接続確認"
   ]
  },
  {
   "cell_type": "markdown",
   "metadata": {},
   "source": [
    "認証プラグインの一覧画面にある「設定テスト」リンクを選択すると、現在の設定でLDAPサーバに接続できるかをテストすることができます。\n",
    "\n",
    "![ldap設定テスト](images/moodle-211-04.png)\n",
    "\n",
    "LDAPサーバへの接続が成功すると以下のような表示となります。\n",
    "\n",
    "![ldap設定結果](images/moodle-211-05.png)"
   ]
  }
 ],
 "metadata": {
  "kernelspec": {
   "display_name": "Python 3",
   "language": "python",
   "name": "python3"
  },
  "language_info": {
   "file_extension": ".py",
   "mimetype": "text/x-python",
   "name": "python",
   "nbconvert_exporter": "python",
   "pygments_lexer": "ipython3",
   "version": "3.7.3"
  },
  "toc": {
   "base_numbering": 1,
   "nav_menu": {},
   "number_sections": true,
   "sideBar": true,
   "skip_h1_title": true,
   "title_cell": "Table of Contents",
   "title_sidebar": "Contents",
   "toc_cell": false,
   "toc_position": {},
   "toc_section_display": true,
   "toc_window_display": true
  }
 },
 "nbformat": 4,
 "nbformat_minor": 2
}
