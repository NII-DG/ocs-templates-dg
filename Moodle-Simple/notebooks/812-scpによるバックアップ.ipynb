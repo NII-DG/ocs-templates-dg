{
 "cells": [
  {
   "cell_type": "markdown",
   "metadata": {},
   "source": [
    "# About: scpによるバックアップ\n",
    "\n",
    "---\n",
    "\n",
    "Moodle構築環境のデータ、設定ファイルなどのバックアップを作成し、保存先にscpで格納します。"
   ]
  },
  {
   "cell_type": "markdown",
   "metadata": {},
   "source": [
    "## 概要\n",
    "\n",
    "アプリケーションテンプレートで構築したMoodle環境のバックアップを作成します。バックアップファイルは保存先となるホストにscpで配置します。"
   ]
  },
  {
   "cell_type": "markdown",
   "metadata": {},
   "source": [
    "### 前提条件\n"
   ]
  },
  {
   "cell_type": "markdown",
   "metadata": {},
   "source": [
    "この Notebook を実行するには事前に以下の準備を行う必要があります。\n",
    "\n",
    "* バックアップファイルをscpで保存することができるホストマシン\n",
    "* Moodle構築環境からバックアップ先となるホストにSSH公開鍵認証でログインできること"
   ]
  },
  {
   "cell_type": "markdown",
   "metadata": {},
   "source": [
    "### バックアップの対象"
   ]
  },
  {
   "cell_type": "markdown",
   "metadata": {},
   "source": [
    "バックアップの対象を以下に示します。\n",
    "\n",
    "* DBデータ\n",
    "* アップロードファイル(moodledata)\n",
    "* PHPファイル\n",
    "* 各コンテナで実行しているサービスの設定ファイル\n",
    "    - Moodleコンテナ (`httpd.conf`, `php.ini`, ...)\n",
    "    - データベースコンテナ (`my.cnf`, ...)\n",
    "* `docker-compose.yml`\n",
    "* crontab\n",
    "* コンテナイメージ"
   ]
  },
  {
   "cell_type": "markdown",
   "metadata": {},
   "source": [
    "## パラメータ設定"
   ]
  },
  {
   "cell_type": "markdown",
   "metadata": {},
   "source": [
    "### Ansibleのグループを指定する\n",
    "\n",
    "バックアップ対象となるAnsibleのグループ名を指定してください。"
   ]
  },
  {
   "cell_type": "code",
   "execution_count": null,
   "metadata": {},
   "outputs": [],
   "source": [
    "# (例)\n",
    "# target_group = 'Moodle'\n",
    "\n",
    "target_group ="
   ]
  },
  {
   "cell_type": "markdown",
   "metadata": {},
   "source": [
    "バックアップ対象のノードにアクセスできることを確認します。"
   ]
  },
  {
   "cell_type": "code",
   "execution_count": null,
   "metadata": {},
   "outputs": [],
   "source": [
    "!ansible {target_group} -m ping"
   ]
  },
  {
   "cell_type": "markdown",
   "metadata": {},
   "source": [
    "### バックアップの保存先を指定する\n",
    "\n",
    "バックアップファイルの保存先を指定します。"
   ]
  },
  {
   "cell_type": "markdown",
   "metadata": {},
   "source": [
    "バックアップファイルの保存先となるホスト名を指定してください。"
   ]
  },
  {
   "cell_type": "code",
   "execution_count": null,
   "metadata": {},
   "outputs": [],
   "source": [
    "# (例)\n",
    "# backup_host = 'backup.example.org'\n",
    "\n",
    "backup_host ="
   ]
  },
  {
   "cell_type": "markdown",
   "metadata": {},
   "source": [
    "バックアップの保存先となるディレクトリを指定してください。バックアップファイルは、次のセルで指定したディレクトリにバックアップ日時に対応するサブディレクトリを作成し、その下に保存されます。"
   ]
  },
  {
   "cell_type": "code",
   "execution_count": null,
   "metadata": {},
   "outputs": [],
   "source": [
    "# (例)\n",
    "# backup_path = f'/backup/moodle-simple/{target_group}'\n",
    "\n",
    "backup_path ="
   ]
  },
  {
   "cell_type": "markdown",
   "metadata": {},
   "source": [
    "### SSH公開鍵認証\n",
    "\n",
    "バックアップの保存先にSSHでアクセスするためのパラメータを指定します。"
   ]
  },
  {
   "cell_type": "markdown",
   "metadata": {},
   "source": [
    "バックアップ先のホストにログインする際のユーザ名を指定してください。"
   ]
  },
  {
   "cell_type": "code",
   "execution_count": null,
   "metadata": {},
   "outputs": [],
   "source": [
    "# (例)\n",
    "# backup_user = 'user01'\n",
    "\n",
    "backup_user ="
   ]
  },
  {
   "cell_type": "markdown",
   "metadata": {},
   "source": [
    "バックアップ先のホストにログインする際のSSHの秘密鍵のパスを指定してください。ここで指定するパスはMoodle構築環境のホスト環境のパスを指定する必要があります。"
   ]
  },
  {
   "cell_type": "code",
   "execution_count": null,
   "metadata": {},
   "outputs": [],
   "source": [
    "# (例)\n",
    "# backup_ssh_identity = '~/.ssh/id_rsa'\n",
    "\n",
    "backup_ssh_identity ="
   ]
  },
  {
   "cell_type": "markdown",
   "metadata": {},
   "source": [
    "指定されたパスに秘密鍵のファイルが存在していることをチェックします。次のセルを実行してエラーにならないことを確認してください。"
   ]
  },
  {
   "cell_type": "code",
   "execution_count": null,
   "metadata": {},
   "outputs": [],
   "source": [
    "!ansible {target_group} -m shell -a 'test -f {backup_ssh_identity}'"
   ]
  },
  {
   "cell_type": "markdown",
   "metadata": {},
   "source": [
    "SSHの公開鍵ペアファイルをまだ作成していない場合は、次のセルのコメント `#` を外し実行することで公開鍵認証のファイルを作成することができます。"
   ]
  },
  {
   "cell_type": "code",
   "execution_count": null,
   "metadata": {},
   "outputs": [],
   "source": [
    "# !ansible {target_group} -m shell -a \\\n",
    "#     'test -f {backup_ssh_identity} || \\\n",
    "#     ssh-keygen -q -t rsa -N \"\" -f {backup_ssh_identity} \\\n",
    "#     && cat {backup_ssh_identity}.pub'"
   ]
  },
  {
   "cell_type": "markdown",
   "metadata": {},
   "source": [
    "### チェック\n",
    "Moodle構築環境からバックアップ先として指定されたホストにSSHでログインできることを確認します。"
   ]
  },
  {
   "cell_type": "markdown",
   "metadata": {},
   "source": [
    "バックアップ先のホストにログインする前に `~/.ssh/known_hosts` を更新しておきます。\n",
    "\n",
    "> 既に `~/.ssh/known_hosts` にバックアップ先のホストを登録してある場合は次のセルの実行をスキップしてください。"
   ]
  },
  {
   "cell_type": "code",
   "execution_count": null,
   "metadata": {},
   "outputs": [],
   "source": [
    "!ansible {target_group} -m shell -a \\\n",
    "    'ssh-keyscan {backup_host} >> ~/.ssh/known_hosts'"
   ]
  },
  {
   "cell_type": "markdown",
   "metadata": {},
   "source": [
    "バックアップ先のホストにSSHでログインしてコマンド `ls -la` を実行してみます。"
   ]
  },
  {
   "cell_type": "code",
   "execution_count": null,
   "metadata": {
    "scrolled": true
   },
   "outputs": [],
   "source": [
    "ssh_command = f'ssh -i {backup_ssh_identity} {backup_user}@{backup_host}'\n",
    "\n",
    "!ansible {target_group} -m shell -a \\\n",
    "    '{ssh_command} ls -la'"
   ]
  },
  {
   "cell_type": "markdown",
   "metadata": {},
   "source": [
    "## バックアップ"
   ]
  },
  {
   "cell_type": "markdown",
   "metadata": {},
   "source": [
    "### メンテナンスモードへの切り替え\n",
    "\n",
    "バックアップを作成する前にMoodleをメンテナンスモードに切り替えます。"
   ]
  },
  {
   "cell_type": "markdown",
   "metadata": {},
   "source": [
    "メンテナンスモードのへの切り替えが必要ない場合は、次のセルの実行をスキップしてください。"
   ]
  },
  {
   "cell_type": "code",
   "execution_count": null,
   "metadata": {},
   "outputs": [],
   "source": [
    "!ansible {target_group} -a 'chdir=/srv/moodle docker compose exec -T moodle \\\n",
    "    /usr/bin/php /var/www/html/admin/cli/maintenance.php --enable'"
   ]
  },
  {
   "cell_type": "markdown",
   "metadata": {},
   "source": [
    "### 保存先ディレクトリの作成\n",
    "\n",
    "バックアップファイルを保存するディレクトリを作成します。"
   ]
  },
  {
   "cell_type": "markdown",
   "metadata": {},
   "source": [
    "`backup_path`で指定されたディレクトリの下に、バックアップ日時に基づくサブディレクトリを作成してバックアップファイルを保存するディレクトリとします。"
   ]
  },
  {
   "cell_type": "code",
   "execution_count": null,
   "metadata": {},
   "outputs": [],
   "source": [
    "import datetime\n",
    "\n",
    "backup_dir = f'{backup_path}/{datetime.datetime.now().isoformat()}/'\n",
    "print(backup_dir)"
   ]
  },
  {
   "cell_type": "markdown",
   "metadata": {},
   "source": [
    "ディレクトリを作成します。"
   ]
  },
  {
   "cell_type": "code",
   "execution_count": null,
   "metadata": {},
   "outputs": [],
   "source": [
    "!ansible {target_group} -m shell -a \\\n",
    "    '{ssh_command} mkdir -p {backup_dir}'"
   ]
  },
  {
   "cell_type": "markdown",
   "metadata": {},
   "source": [
    "### DBデータのバックアップ\n",
    "\n",
    "DBデータのバックアップを作成します。"
   ]
  },
  {
   "cell_type": "markdown",
   "metadata": {},
   "source": [
    "DBデータのバックアップファイル名を確認します。"
   ]
  },
  {
   "cell_type": "code",
   "execution_count": null,
   "metadata": {},
   "outputs": [],
   "source": [
    "db_backup = backup_dir + 'db.sql.gz'\n",
    "print(db_backup)"
   ]
  },
  {
   "cell_type": "markdown",
   "metadata": {},
   "source": [
    "DBデータのバックアップを作成します。\n",
    "\n",
    "> DBコンテナは MySQL/MariaDB であることを前提としています。"
   ]
  },
  {
   "cell_type": "code",
   "execution_count": null,
   "metadata": {},
   "outputs": [],
   "source": [
    "!ansible {target_group} -m shell -a \"chdir=/srv/moodle \\\n",
    "    docker compose exec db bash -c \\\n",
    "    'mysqldump --single-transaction -u\\$MYSQL_USER -p\\$MYSQL_PASSWORD \\$MYSQL_DATABASE' \\\n",
    "    | gzip | {ssh_command} 'cat > {db_backup}'\""
   ]
  },
  {
   "cell_type": "markdown",
   "metadata": {},
   "source": [
    "バックアップが作成されたことを確認するためにバックアップ先ディレクトリのファイル一覧を表示します。"
   ]
  },
  {
   "cell_type": "code",
   "execution_count": null,
   "metadata": {},
   "outputs": [],
   "source": [
    "!ansible {target_group} -m shell -a \\\n",
    "    '{ssh_command} ls -la {backup_dir}'"
   ]
  },
  {
   "cell_type": "markdown",
   "metadata": {},
   "source": [
    "### その他ファイルのバックアップ\n",
    "\n",
    "DBデータ以外のファイルのバックアップを作成します。"
   ]
  },
  {
   "cell_type": "markdown",
   "metadata": {},
   "source": [
    "この節で作成するバックアップの対象を以下に示します。\n",
    "\n",
    "* アップロードファイル(moodledata)\n",
    "* PHPファイル\n",
    "* 各コンテナで実行しているサービスの設定ファイル\n",
    "    - Moodleコンテナ (`httpd.conf`, `php.ini`, ...)\n",
    "    - データベースコンテナ (`my.cnf`, ...)\n",
    "* `docker-compose.yml`\n",
    "* crontab\n",
    "* コンテナログのlogrotate設定\n",
    "\n",
    "> ホスト環境の `/etc/` にある設定ファイルをバックアップの対象としていません（上記に示した crontab, コンテナログのlogrotate設定を除く）。必要に応じて別途バックアップを行ってください。"
   ]
  },
  {
   "cell_type": "markdown",
   "metadata": {},
   "source": [
    "まずcrontabの設定をバックアップするために、設定内容をファイルに保存します。"
   ]
  },
  {
   "cell_type": "code",
   "execution_count": null,
   "metadata": {},
   "outputs": [],
   "source": [
    "!ansible {target_group} -m file -a \"path=/srv/moodle/misc state=directory\"\n",
    "!ansible {target_group} -m shell -a \"chdir=/srv/moodle \\\n",
    "    crontab -l > misc/crontab\""
   ]
  },
  {
   "cell_type": "markdown",
   "metadata": {},
   "source": [
    "コンテナログのlogrotate設定をバックアップするために、設定ファイルを `/srv/moodle/misc/logrotate.d` にコピーします。"
   ]
  },
  {
   "cell_type": "code",
   "execution_count": null,
   "metadata": {},
   "outputs": [],
   "source": [
    "!ansible {target_group} -m file -a \\\n",
    "    \"path=/srv/moodle/misc/logrotate.d state=directory\"\n",
    "!ansible {target_group} -b -a \\\n",
    "    \"cp -fp /etc/logrotate.d/httpd /etc/logrotate.d/mysql-server \\\n",
    "    /srv/moodle/misc/logrotate.d\""
   ]
  },
  {
   "cell_type": "markdown",
   "metadata": {},
   "source": [
    "Moodleキャッシュなどのバックアップ対象から外すディレクトリを指定します。前節のバックアップ対象であるDBデータを格納しているディレクトリ `db/data`、データベースをリストアするためのSQLファイルを格納しているディレクトリ `db/sql`も除外対象としています。"
   ]
  },
  {
   "cell_type": "code",
   "execution_count": null,
   "metadata": {},
   "outputs": [],
   "source": [
    "exclude_dir_list = [\n",
    "    './moodle/data/moodledata/cache',\n",
    "    './moodle/data/moodledata/localcache',\n",
    "    './moodle/data/moodledata/sessions',\n",
    "    './moodle/data/moodledata/temp',\n",
    "    './moodle/data/moodledata/trashdir',\n",
    "    './db/data',\n",
    "    './db/sql',\n",
    "]"
   ]
  },
  {
   "cell_type": "markdown",
   "metadata": {},
   "source": [
    "除外ディレクトリのリストをファイルに書き込みます。"
   ]
  },
  {
   "cell_type": "code",
   "execution_count": null,
   "metadata": {
    "scrolled": true
   },
   "outputs": [],
   "source": [
    "from tempfile import TemporaryDirectory\n",
    "from pathlib import Path\n",
    "\n",
    "tmpdir = !ansible {target_group} -a 'mktemp -d'\n",
    "with TemporaryDirectory() as workdir:\n",
    "    exclude_file = Path(workdir) / 'exclude'\n",
    "    with exclude_file.open(mode='w') as f:\n",
    "        for line in exclude_dir_list:\n",
    "            print(line, file=f)\n",
    "    !cat {exclude_file}\n",
    "    !ansible {target_group} -m copy -a 'src={str(exclude_file)} dest={tmpdir[1]}/'"
   ]
  },
  {
   "cell_type": "markdown",
   "metadata": {},
   "source": [
    "バックアップファイル名を確認します。保存先のディレクトリはDBデータのバックアップの保存先と同じディレクトリとします。"
   ]
  },
  {
   "cell_type": "code",
   "execution_count": null,
   "metadata": {},
   "outputs": [],
   "source": [
    "moodle_backup = backup_dir + 'moodle.tar.gz'\n",
    "print(moodle_backup)"
   ]
  },
  {
   "cell_type": "markdown",
   "metadata": {},
   "source": [
    "バックアップを作成します。"
   ]
  },
  {
   "cell_type": "code",
   "execution_count": null,
   "metadata": {},
   "outputs": [],
   "source": [
    "!ansible {target_group} -m shell -a \\\n",
    "    'bash -c \"sudo tar czpf - -C /srv/moodle -X {tmpdir[1]}/exclude .\" \\\n",
    "    | {ssh_command} \"cat > {moodle_backup}\"'"
   ]
  },
  {
   "cell_type": "markdown",
   "metadata": {},
   "source": [
    "バックアップが作成されたことを確認するためにバックアップ先ディレクトリのファイル一覧を表示します。"
   ]
  },
  {
   "cell_type": "code",
   "execution_count": null,
   "metadata": {},
   "outputs": [],
   "source": [
    "!ansible {target_group} -m shell -a \\\n",
    "    '{ssh_command} ls -la {backup_dir}'"
   ]
  },
  {
   "cell_type": "markdown",
   "metadata": {},
   "source": [
    "除外ディレクトリのファイルを格納していた作業ディレクトリを削除します。"
   ]
  },
  {
   "cell_type": "code",
   "execution_count": null,
   "metadata": {},
   "outputs": [],
   "source": [
    "!ansible {target_group} -a 'rm -r {tmpdir[1]}'"
   ]
  },
  {
   "cell_type": "markdown",
   "metadata": {},
   "source": [
    "### コンテナイメージ\n",
    "\n",
    "コンテナイメージのバックアップを作成します。"
   ]
  },
  {
   "cell_type": "markdown",
   "metadata": {},
   "source": [
    "> レポジトリから取得したコンテナイメージを変更せずに利用している場合は、この節をスキップすることも可能です。"
   ]
  },
  {
   "cell_type": "markdown",
   "metadata": {},
   "source": [
    "Moodle環境を構成しているコンテナイメージ名を取得します。"
   ]
  },
  {
   "cell_type": "code",
   "execution_count": null,
   "metadata": {},
   "outputs": [],
   "source": [
    "out = !ansible {target_group} -a 'chdir=/srv/moodle docker compose images'\n",
    "images = [':'.join(x.split()[1:3]) for x in out[3:]]\n",
    "for x in images:\n",
    "    print(x)"
   ]
  },
  {
   "cell_type": "markdown",
   "metadata": {},
   "source": [
    "バックアップの保存先となるファイル名を確認します。保存先のディレクトリは他のバックアップの保存先と同じディレクトリとします。"
   ]
  },
  {
   "cell_type": "code",
   "execution_count": null,
   "metadata": {},
   "outputs": [],
   "source": [
    "img_backup = backup_dir + 'container-image.tar.gz'\n",
    "print(img_backup)"
   ]
  },
  {
   "cell_type": "markdown",
   "metadata": {},
   "source": [
    "バックアップを作成します。"
   ]
  },
  {
   "cell_type": "code",
   "execution_count": null,
   "metadata": {},
   "outputs": [],
   "source": [
    "!ansible {target_group} -m shell \\\n",
    "    -a 'docker save {\" \".join(images)} \\\n",
    "    | gzip | {ssh_command} \"cat > {img_backup}\"'"
   ]
  },
  {
   "cell_type": "markdown",
   "metadata": {},
   "source": [
    "バックアップが作成されたことを確認するためにバックアップ先ディレクトリのファイル一覧を表示します。"
   ]
  },
  {
   "cell_type": "code",
   "execution_count": null,
   "metadata": {},
   "outputs": [],
   "source": [
    "!ansible {target_group} -m shell -a \\\n",
    "    '{ssh_command} ls -la {backup_dir}'"
   ]
  },
  {
   "cell_type": "markdown",
   "metadata": {
    "heading_collapsed": true
   },
   "source": [
    "### メンテナンスモードの解除\n",
    "\n",
    "メンテナンスモードを解除し、バックアップ作業を終了します。"
   ]
  },
  {
   "cell_type": "code",
   "execution_count": null,
   "metadata": {
    "hidden": true
   },
   "outputs": [],
   "source": [
    "!ansible {target_group} -a 'chdir=/srv/moodle docker compose exec -T moodle \\\n",
    "    /usr/bin/php /var/www/html/admin/cli/maintenance.php --disable'"
   ]
  }
 ],
 "metadata": {
  "kernelspec": {
   "display_name": "Python 3",
   "language": "python",
   "name": "python3"
  },
  "language_info": {
   "file_extension": ".py",
   "mimetype": "text/x-python",
   "name": "python",
   "nbconvert_exporter": "python",
   "pygments_lexer": "ipython3",
   "version": "3.7.3"
  },
  "toc": {
   "base_numbering": 1,
   "nav_menu": {},
   "number_sections": true,
   "sideBar": true,
   "skip_h1_title": true,
   "title_cell": "Table of Contents",
   "title_sidebar": "Contents",
   "toc_cell": false,
   "toc_position": {},
   "toc_section_display": true,
   "toc_window_display": true
  }
 },
 "nbformat": 4,
 "nbformat_minor": 2
}
