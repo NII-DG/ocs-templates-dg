{
 "cells": [
  {
   "cell_type": "markdown",
   "metadata": {},
   "source": [
    "# About: Moodle環境の削除--VCノードの削除\n",
    "\n",
    "---\n",
    "\n",
    "VCノードを削除します。"
   ]
  },
  {
   "cell_type": "markdown",
   "metadata": {},
   "source": [
    "## パラメータの設定\n",
    "\n",
    "構築環境を削除するのに必要となるパラメータを設定します。"
   ]
  },
  {
   "cell_type": "markdown",
   "metadata": {},
   "source": [
    "### Ansibleのグループを指定する\n",
    "\n",
    "削除対象となるAnsibleのグループ名を指定してください。"
   ]
  },
  {
   "cell_type": "markdown",
   "metadata": {},
   "source": [
    "既存のグループ名を確認するために`group_vars`にあるディレクトリの一覧を表示します。"
   ]
  },
  {
   "cell_type": "code",
   "execution_count": null,
   "metadata": {},
   "outputs": [],
   "source": [
    "!ls -1 group_vars/"
   ]
  },
  {
   "cell_type": "markdown",
   "metadata": {},
   "source": [
    "上のセルの出力結果を参考にしてグループ名を次のセルに指定してください。"
   ]
  },
  {
   "cell_type": "code",
   "execution_count": null,
   "metadata": {
    "tags": [
     "vcp:skip",
     "vcp:parameters"
    ]
   },
   "outputs": [],
   "source": [
    "# (例)\n",
    "# target_group = 'Moodle'\n",
    "\n",
    "target_group = "
   ]
  },
  {
   "cell_type": "markdown",
   "metadata": {
    "heading_collapsed": true
   },
   "source": [
    "#### チェック\n",
    "\n",
    "指定された `target_group` の値が適切なものかチェックします。"
   ]
  },
  {
   "cell_type": "markdown",
   "metadata": {
    "hidden": true
   },
   "source": [
    "`target_group` に対応する設定ファイルが存在していることを確認します。"
   ]
  },
  {
   "cell_type": "code",
   "execution_count": null,
   "metadata": {
    "hidden": true
   },
   "outputs": [],
   "source": [
    "from pathlib import Path\n",
    "\n",
    "target_dir = Path('group_vars') / target_group\n",
    "if not (target_dir.is_dir() and len(list(target_dir.glob(\"*\"))) > 0):\n",
    "    target_file = Path('group_vars') / f\"{target_group}.yml\"\n",
    "    if target_file.is_file():\n",
    "        target_dir.mkdir(exist_ok=True)\n",
    "        target_file.rename(target_dir / \"00-moodle.yml\")\n",
    "    else:\n",
    "        raise RuntimeError(f\"ERROR: not exists {target_group}\")"
   ]
  },
  {
   "cell_type": "markdown",
   "metadata": {},
   "source": [
    "### VCCアクセストークンの入力\n",
    "\n",
    "VCC のアクセストークンを入力します。"
   ]
  },
  {
   "cell_type": "code",
   "execution_count": null,
   "metadata": {
    "tags": [
     "vcp:skip",
     "vcp:parameters"
    ]
   },
   "outputs": [],
   "source": [
    "from getpass import getpass\n",
    "vcc_access_token = getpass()"
   ]
  },
  {
   "cell_type": "markdown",
   "metadata": {},
   "source": [
    "入力されたアクセストークンが正しいことを確認します。"
   ]
  },
  {
   "cell_type": "code",
   "execution_count": null,
   "metadata": {
    "tags": [
     "vcp:rewrite:vcpsdk"
    ]
   },
   "outputs": [],
   "source": [
    "from common import logsetting\n",
    "from vcpsdk.vcpsdk import VcpSDK\n",
    "\n",
    "vcp = VcpSDK(vcc_access_token)"
   ]
  },
  {
   "cell_type": "markdown",
   "metadata": {},
   "source": [
    "上のセルの実行結果がエラーとなり以下のようなメッセージが表示されている場合は、入力されたアクセストークンに誤りがあります。\n",
    "\n",
    "```\n",
    "2020-04-XX XX:XX:XX,XXX - ERROR - config vc failed: http_status(403)\n",
    "2020-04-XX XX:XX:XX,XXX - ERROR - 2020/XX/XX XX:XX:XX UTC: VCPAuthException: xxxxxxx:token lookup is failed: permission denied\n",
    "```\n",
    "\n",
    "この場合はアクセストークンの入力からやり直してください。"
   ]
  },
  {
   "cell_type": "markdown",
   "metadata": {
    "heading_collapsed": true
   },
   "source": [
    "## VCノードの削除\n",
    "\n",
    "Moodle環境のVCノードを削除します。"
   ]
  },
  {
   "cell_type": "markdown",
   "metadata": {
    "hidden": true
   },
   "source": [
    "まず削除対象となるUnitGroupの現在の状態を確認します。"
   ]
  },
  {
   "cell_type": "code",
   "execution_count": null,
   "metadata": {
    "hidden": true
   },
   "outputs": [],
   "source": [
    "ugroup = vcp.get_ugroup(target_group)\n",
    "ugroup.df_nodes()"
   ]
  },
  {
   "cell_type": "markdown",
   "metadata": {
    "hidden": true
   },
   "source": [
    "UnitGroupの一覧も確認しておきます。"
   ]
  },
  {
   "cell_type": "code",
   "execution_count": null,
   "metadata": {
    "hidden": true
   },
   "outputs": [],
   "source": [
    "vcp.df_ugroups()"
   ]
  },
  {
   "cell_type": "markdown",
   "metadata": {
    "hidden": true
   },
   "source": [
    "VCノードを削除します。構築したMoodle環境が**削除**されます。"
   ]
  },
  {
   "cell_type": "code",
   "execution_count": null,
   "metadata": {
    "hidden": true,
    "scrolled": true
   },
   "outputs": [],
   "source": [
    "ugroup.cleanup()"
   ]
  },
  {
   "cell_type": "markdown",
   "metadata": {
    "hidden": true
   },
   "source": [
    "削除後の UnitGroupの一覧を確認します。"
   ]
  },
  {
   "cell_type": "code",
   "execution_count": null,
   "metadata": {
    "hidden": true
   },
   "outputs": [],
   "source": [
    "vcp.df_ugroups()"
   ]
  },
  {
   "cell_type": "markdown",
   "metadata": {
    "heading_collapsed": true
   },
   "source": [
    "## Ansible 設定ファイルの後始末\n",
    "\n",
    "Ansibleに関する設定ファイルの後始末を行います。"
   ]
  },
  {
   "cell_type": "markdown",
   "metadata": {
    "hidden": true
   },
   "source": [
    "group_vars に記録されているパラメータを無効にするために group_vars ファイルをリネームします。"
   ]
  },
  {
   "cell_type": "code",
   "execution_count": null,
   "metadata": {
    "hidden": true
   },
   "outputs": [],
   "source": [
    "!mv group_vars/{target_group}  group_vars/.{target_group}.$(date +\"%Y%m%d%H%M%S\").bak"
   ]
  },
  {
   "cell_type": "markdown",
   "metadata": {
    "hidden": true
   },
   "source": [
    "インベントリから対象となるグループを削除します。"
   ]
  },
  {
   "cell_type": "code",
   "execution_count": null,
   "metadata": {
    "hidden": true
   },
   "outputs": [],
   "source": [
    "%run scripts/group.py\n",
    "remove_group_from_inventory_yml(target_group)\n",
    "\n",
    "# 削除前との差分を表示します。\n",
    "!diff -u inventory.yml.bak inventory.yml || true"
   ]
  }
 ],
 "metadata": {
  "kernelspec": {
   "display_name": "Python 3",
   "language": "python",
   "name": "python3"
  },
  "language_info": {
   "file_extension": ".py",
   "mimetype": "text/x-python",
   "name": "python",
   "nbconvert_exporter": "python",
   "pygments_lexer": "ipython3",
   "version": "3.8.6"
  },
  "toc": {
   "base_numbering": 1,
   "nav_menu": {},
   "number_sections": true,
   "sideBar": true,
   "skip_h1_title": true,
   "title_cell": "Table of Contents",
   "title_sidebar": "Contents",
   "toc_cell": false,
   "toc_position": {},
   "toc_section_display": true,
   "toc_window_display": true
  }
 },
 "nbformat": 4,
 "nbformat_minor": 2
}