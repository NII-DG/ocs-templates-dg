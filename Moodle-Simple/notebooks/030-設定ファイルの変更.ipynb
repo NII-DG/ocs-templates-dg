{
 "cells": [
  {
   "cell_type": "markdown",
   "metadata": {},
   "source": [
    "# About: 設定ファイルの変更\n",
    "---\n",
    "\n",
    "`php.ini`などの設定ファイルを編集して変更内容をコンテナに反映させます。"
   ]
  },
  {
   "cell_type": "markdown",
   "metadata": {},
   "source": [
    "## 概要"
   ]
  },
  {
   "cell_type": "markdown",
   "metadata": {},
   "source": [
    "構築したMoodle環境では利用者が変更する可能性のある `php.ini` などの設定ファイルをコンテナではなくホスト環境に配置しています。ホスト環境に配置したファイルはDockerの [bind mount](https://docs.docker.com/storage/bind-mounts/)の機能を利用して、コンテナから参照できるように設定しています。このようにすることで、コンテナをステートレスに保つことができます。\n",
    "\n",
    "このNotebookでは、コンテナに bind mountしている設定ファイルの内容を変更し、その変更内容をコンテナに反映する手順を示します。\n",
    "\n",
    "![処理の流れ](images/moodle-031-01.png)\n",
    "\n",
    "主な手順は以下のようになります。\n",
    "\n",
    "1. ホスト環境に配置されている設定ファイルをNotebook環境に取得する\n",
    "2. 取得したファイルのバックアップを作成する\n",
    "3. Notebookの編集機能を利用して設定ファイルの変更をおこなう\n",
    "4. 変更した設定ファイルをホスト環境に配置する\n",
    "5. 設定ファイルの変更を反映させるためにコンテナを再起動する"
   ]
  },
  {
   "cell_type": "markdown",
   "metadata": {},
   "source": [
    "設定ファイルの編集を行うためには、設定ファイルのパスを指定する必要があります。\n",
    "Moodleコンテナが参照している設定ファイルの、コンテナ内のパスと、ホスト環境におけるパスの対応関係を以下の表に示します。\n",
    "\n",
    "\n",
    "<table>\n",
    "  <tr>\n",
    "    <th style=\"text-align:left;\">コンテナ内のパス</th>\n",
    "    <th style=\"text-align:left;\">ホスト環境のパス</th>\n",
    "  </tr>\n",
    "  <tr>\n",
    "    <td style=\"text-align:left;\">/etc/php.ini</td>\n",
    "    <td style=\"text-align:left;\">/srv/moodle/moodle/conf/php.ini</td>\n",
    "  </tr>\n",
    "  <tr>\n",
    "    <td style=\"text-align:left;\">/etc/php.d/</td>\n",
    "    <td style=\"text-align:left;\">/srv/moodle/moodle/conf/php.d/</td>\n",
    "  </tr>\n",
    "  <tr>\n",
    "    <td style=\"text-align:left;\">/etc/httpd/conf/httpd.conf</td>\n",
    "    <td style=\"text-align:left;\">/srv/moodle/moodle/conf/httpd/conf/httpd.conf</td>\n",
    "  </tr>\n",
    "  <tr>\n",
    "    <td style=\"text-align:left;\">/etc/httpd/conf.d/</td>\n",
    "    <td style=\"text-align:left;\">/srv/moodle/moodle/conf/httpd/conf.d/</td>\n",
    "  </tr>\n",
    "  <tr>\n",
    "    <td style=\"text-align:left;\">/etc/httpd/conf.modules.d/</td>\n",
    "    <td style=\"text-align:left;\">/srv/moodle/moodle/conf/httpd/conf.modules.d/</td>\n",
    "  </tr>\n",
    "  <tr>\n",
    "    <td style=\"text-align:left;\">/etc/pki/ca-trust/source/anchors/</td>\n",
    "    <td style=\"text-align:left;\">/srv/moodle/moodle/conf/ca-trust/</td>\n",
    "  </tr>\n",
    "\n",
    "</table>"
   ]
  },
  {
   "cell_type": "markdown",
   "metadata": {},
   "source": [
    "データベースコンテナが参照している設定ファイルの、コンテナ内のパスと、ホスト環境におけるパスの対応関係を以下の表に示します。\n",
    "\n",
    "\n",
    "<table>\n",
    "  <tr>\n",
    "    <th style=\"text-align:left;\">コンテナ内のパス</th>\n",
    "    <th style=\"text-align:left;\">ホスト環境のパス</th>\n",
    "  </tr>\n",
    "  <tr>\n",
    "    <td style=\"text-align:left;\">/etc/mysql/</td>\n",
    "    <td style=\"text-align:left;\">/srv/moodle/db/conf/</td>\n",
    "  </tr>\n",
    "</table>"
   ]
  },
  {
   "cell_type": "markdown",
   "metadata": {},
   "source": [
    "## パラメータの設定\n",
    "\n",
    "変更対象のコンテナ名、設定ファイル名などを指定します。"
   ]
  },
  {
   "cell_type": "markdown",
   "metadata": {},
   "source": [
    "### グループ名の指定\n",
    "\n",
    "このNotebookの操作対象となるAnsibleのグループ名を設定します。"
   ]
  },
  {
   "cell_type": "markdown",
   "metadata": {},
   "source": [
    "既存のグループ名を確認するために`group_vars`にあるディレクトリの一覧を表示します。"
   ]
  },
  {
   "cell_type": "code",
   "execution_count": null,
   "metadata": {},
   "outputs": [],
   "source": [
    "!ls -1 group_vars/"
   ]
  },
  {
   "cell_type": "markdown",
   "metadata": {},
   "source": [
    "上のセルの出力結果を参考にしてAnsibleのグループ名を次のセルに指定してください。"
   ]
  },
  {
   "cell_type": "code",
   "execution_count": null,
   "metadata": {},
   "outputs": [],
   "source": [
    "# (例)\n",
    "# target_group = 'Moodle'\n",
    "\n",
    "target_group = "
   ]
  },
  {
   "cell_type": "markdown",
   "metadata": {
    "heading_collapsed": true
   },
   "source": [
    "#### チェック\n",
    "\n",
    "指定された `target_group` の値が適切なものかチェックします。"
   ]
  },
  {
   "cell_type": "markdown",
   "metadata": {
    "hidden": true
   },
   "source": [
    "`target_group` に対応する設定ファイルが存在していることを確認します。"
   ]
  },
  {
   "cell_type": "code",
   "execution_count": null,
   "metadata": {
    "hidden": true
   },
   "outputs": [],
   "source": [
    "from pathlib import Path\n",
    "\n",
    "target_dir = Path('group_vars') / target_group\n",
    "if not (target_dir.is_dir() and len(list(target_dir.glob(\"*\"))) > 0):\n",
    "    target_file = Path('group_vars') / f\"{target_group}.yml\"\n",
    "    if target_file.is_file():\n",
    "        target_dir.mkdir(exist_ok=True)\n",
    "        target_file.rename(target_dir / \"00-moodle.yml\")\n",
    "    else:\n",
    "        raise RuntimeError(f\"ERROR: not exists {target_group}\")"
   ]
  },
  {
   "cell_type": "markdown",
   "metadata": {
    "hidden": true
   },
   "source": [
    "`target_group`で指定したホストにAnsibleで到達可能であることを確認します。"
   ]
  },
  {
   "cell_type": "code",
   "execution_count": null,
   "metadata": {
    "hidden": true
   },
   "outputs": [],
   "source": [
    "!ansible {target_group} -m ping"
   ]
  },
  {
   "cell_type": "markdown",
   "metadata": {},
   "source": [
    "### コンテナの指定\n",
    "\n",
    "設定ファイルを変更する対象となるコンテナを指定します。"
   ]
  },
  {
   "cell_type": "markdown",
   "metadata": {},
   "source": [
    "現在実行中のコンテナの一覧を確認します。"
   ]
  },
  {
   "cell_type": "code",
   "execution_count": null,
   "metadata": {},
   "outputs": [],
   "source": [
    "!ansible {target_group} -a 'chdir=/srv/moodle docker compose ps --services'"
   ]
  },
  {
   "cell_type": "markdown",
   "metadata": {},
   "source": [
    "表示されたコンテナ一覧から、対象とするコンテナ名を指定してください。"
   ]
  },
  {
   "cell_type": "code",
   "execution_count": null,
   "metadata": {},
   "outputs": [],
   "source": [
    "# (例)\n",
    "# target_container = 'moodle'\n",
    "# target_container = 'db'\n",
    "\n",
    "target_container = "
   ]
  },
  {
   "cell_type": "markdown",
   "metadata": {},
   "source": [
    "### 設定ファイルの指定"
   ]
  },
  {
   "cell_type": "markdown",
   "metadata": {},
   "source": [
    "変更する設定ファイルのパスを指定してください。ここではコンテナ内のパスを指定してください。"
   ]
  },
  {
   "cell_type": "code",
   "execution_count": null,
   "metadata": {},
   "outputs": [],
   "source": [
    "# (例)\n",
    "# target_file = '/etc/php.ini'\n",
    "\n",
    "target_file = "
   ]
  },
  {
   "cell_type": "markdown",
   "metadata": {},
   "source": [
    "## 設定ファイルの編集\n",
    "\n",
    "コンテナの設定ファイルをローカル環境に取得して、Jupyter Notebookの編集機能を用いて設定ファイルを編集します。\n",
    "\n",
    "![設定ファイルの取得、編集](images/moodle-031-03.png)"
   ]
  },
  {
   "cell_type": "markdown",
   "metadata": {},
   "source": [
    "次のセルを実行すると、以下の手順が実行されます。\n",
    "\n",
    "1. ホスト環境に配置されているコンテナの設定ファイルをローカル環境に取得する\n",
    "2. 取得した設定ファイルのバックアップを作成する\n",
    "3. Jupyter Notebookの編集機能を利用して設定ファイルを編集するためのリンクを表示する"
   ]
  },
  {
   "cell_type": "code",
   "execution_count": null,
   "metadata": {},
   "outputs": [],
   "source": [
    "%run scripts/edit_conf.py\n",
    "fetch_conf(target_group, target_container, target_file)"
   ]
  },
  {
   "cell_type": "markdown",
   "metadata": {},
   "source": [
    "上のセルの出力に表示されているリンクをクリックして設定ファイルの編集を行ってください。\n",
    "\n",
    " メニューの[Edit]-[Find]で検索文字を入力することで、編集箇所に移動できます。\n",
    "> また、ファイルの編集後は**必ず**、メニューの[File]-[Save]を選択してファイルの保存を行ってください。"
   ]
  },
  {
   "cell_type": "markdown",
   "metadata": {},
   "source": [
    "ローカル環境に取得したファイルは、以下のパスに格納されています。\n",
    "\n",
    "`./edit/{target_group}/{YYYYMMDDHHmmssffffff}/{target_fileのファイル名}`\n",
    "\n",
    "`{target_group}` には UnitGroup名が、`{YYYYMMDDHHmmssfffff}` にはファイルを取得したタイムスタンプが入ります。\n",
    "\n",
    "また、バックアップファイルは以下のパスに格納されます。\n",
    "\n",
    "`./edit/{target_group}/{YYYYMMDDHHmmssffffff}/{target_fileのファイル名}.orig`"
   ]
  },
  {
   "cell_type": "markdown",
   "metadata": {},
   "source": [
    "次のセルを実行すると編集の前後での差分を確認することができます。"
   ]
  },
  {
   "cell_type": "code",
   "execution_count": null,
   "metadata": {},
   "outputs": [],
   "source": [
    "%run scripts/edit_conf.py\n",
    "show_local_conf_diff(target_group, target_container, target_file)"
   ]
  },
  {
   "cell_type": "markdown",
   "metadata": {},
   "source": [
    "## 編集した設定ファイルの反映\n",
    "\n",
    "編集したファイルをホスト環境に配置して、設定ファイルの変更内容をコンテナに反映させます。\n",
    "\n",
    "![設定ファイルの反映](images/moodle-031-04.png)"
   ]
  },
  {
   "cell_type": "markdown",
   "metadata": {},
   "source": [
    "### 編集内容の反映\n",
    "\n",
    "前章で編集した設定ファイルをコンテナに配置して設定を反映させます。"
   ]
  },
  {
   "cell_type": "markdown",
   "metadata": {},
   "source": [
    "次のセルを実行すると、以下の手順が実行されます。\n",
    "\n",
    "1. 編集前と編集後の設定ファイルの差分を表示する\n",
    "2. 編集した設定ファイルをホスト環境に配置する\n",
    "3. コンテナを再起動して変更した設定ファイルの反映を行う"
   ]
  },
  {
   "cell_type": "code",
   "execution_count": null,
   "metadata": {},
   "outputs": [],
   "source": [
    "apply_conf(target_group, target_container, target_file)"
   ]
  },
  {
   "cell_type": "markdown",
   "metadata": {},
   "source": [
    "## 変更を取り消す\n",
    "\n",
    "編集前の設定ファイルの状態に戻します。\n",
    "\n",
    "![設定ファイル変更の取り消し](images/moodle-031-05.png)"
   ]
  },
  {
   "cell_type": "markdown",
   "metadata": {},
   "source": [
    "次のセルを実行すると、以下の手順が実行されます。\n",
    "\n",
    "1. 編集後と編集前の設定ファイルの差分を表示する\n",
    "2. 編集前の設定ファイルをホスト環境に配置する\n",
    "3. コンテナを再起動して設定値の反映を行う"
   ]
  },
  {
   "cell_type": "code",
   "execution_count": null,
   "metadata": {},
   "outputs": [],
   "source": [
    "revert_conf(target_group, target_container, target_file)"
   ]
  }
 ],
 "metadata": {
  "kernelspec": {
   "display_name": "Python 3",
   "language": "python",
   "name": "python3"
  },
  "language_info": {
   "file_extension": ".py",
   "mimetype": "text/x-python",
   "name": "python",
   "nbconvert_exporter": "python",
   "pygments_lexer": "ipython3",
   "version": "3.8.6"
  },
  "toc": {
   "base_numbering": 1,
   "nav_menu": {},
   "number_sections": true,
   "sideBar": true,
   "skip_h1_title": true,
   "title_cell": "Table of Contents",
   "title_sidebar": "Contents",
   "toc_cell": false,
   "toc_position": {},
   "toc_section_display": true,
   "toc_window_display": true
  }
 },
 "nbformat": 4,
 "nbformat_minor": 2
}