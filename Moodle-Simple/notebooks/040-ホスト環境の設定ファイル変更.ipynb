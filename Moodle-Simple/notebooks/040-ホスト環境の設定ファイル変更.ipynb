{
 "cells": [
  {
   "cell_type": "markdown",
   "metadata": {},
   "source": [
    "# About: ホスト環境の設定ファイル変更\n",
    "---\n",
    "\n",
    "ホスト環境の `/etc/rsyslog.conf` などの設定ファイルを編集します。"
   ]
  },
  {
   "cell_type": "markdown",
   "metadata": {},
   "source": [
    "## 概要"
   ]
  },
  {
   "cell_type": "markdown",
   "metadata": {},
   "source": [
    "構築環境のホスト側の `/etc/` などに配置されている設定ファイルを編集する手順を示します。"
   ]
  },
  {
   "cell_type": "markdown",
   "metadata": {},
   "source": [
    "![処理の流れ](images/moodle-040-01.png)"
   ]
  },
  {
   "cell_type": "markdown",
   "metadata": {},
   "source": [
    "主な手順は以下のようになります。\n",
    "\n",
    "1. 構築環境の設定ファイルをローカルのJupyter Notebook環境に取得する\n",
    "2. 取得したファイルのバックアップを作成する\n",
    "3. Notebookの編集機能を利用してローカル環境に取得したファイルの編集をおこなう\n",
    "4. 編集後のファイルを構築環境に配置する"
   ]
  },
  {
   "cell_type": "markdown",
   "metadata": {},
   "source": [
    "## パラメータの指定"
   ]
  },
  {
   "cell_type": "markdown",
   "metadata": {},
   "source": [
    "### グループ名の指定\n",
    "\n",
    "このNotebookの操作対象となるAnsibleのグループ名を指定します。"
   ]
  },
  {
   "cell_type": "markdown",
   "metadata": {},
   "source": [
    "既存のグループ名を確認するために`group_vars`にあるディレクトリの一覧を表示します。"
   ]
  },
  {
   "cell_type": "code",
   "execution_count": null,
   "metadata": {},
   "outputs": [],
   "source": [
    "!ls -1 group_vars/"
   ]
  },
  {
   "cell_type": "markdown",
   "metadata": {},
   "source": [
    "上のセルの出力結果を参考にしてAnsibleのグループ名を次のセルに指定してください。"
   ]
  },
  {
   "cell_type": "code",
   "execution_count": null,
   "metadata": {},
   "outputs": [],
   "source": [
    "# (例)\n",
    "# target_group = 'Moodle'\n",
    "\n",
    "target_group = "
   ]
  },
  {
   "cell_type": "markdown",
   "metadata": {
    "heading_collapsed": true
   },
   "source": [
    "#### チェック\n",
    "\n",
    "指定された `target_group` の値が適切なものかチェックします。"
   ]
  },
  {
   "cell_type": "markdown",
   "metadata": {
    "hidden": true
   },
   "source": [
    "`target_group` に対応する設定ファイルが存在していることを確認します。"
   ]
  },
  {
   "cell_type": "code",
   "execution_count": null,
   "metadata": {
    "hidden": true
   },
   "outputs": [],
   "source": [
    "from pathlib import Path\n",
    "\n",
    "target_dir = Path('group_vars') / target_group\n",
    "if not (target_dir.is_dir() and len(list(target_dir.glob(\"*\"))) > 0):\n",
    "    target_file = Path('group_vars') / f\"{target_group}.yml\"\n",
    "    if target_file.is_file():\n",
    "        target_dir.mkdir(exist_ok=True)\n",
    "        target_file.rename(target_dir / \"00-moodle.yml\")\n",
    "    else:\n",
    "        raise RuntimeError(f\"ERROR: not exists {target_group}\")"
   ]
  },
  {
   "cell_type": "markdown",
   "metadata": {
    "hidden": true
   },
   "source": [
    "`target_group`で指定したホストにAnsibleで到達可能であることを確認します。"
   ]
  },
  {
   "cell_type": "code",
   "execution_count": null,
   "metadata": {
    "hidden": true
   },
   "outputs": [],
   "source": [
    "!ansible {target_group} -m ping"
   ]
  },
  {
   "cell_type": "markdown",
   "metadata": {},
   "source": [
    "### 編集対象の設定ファイルを指定する\n",
    "\n",
    "編集対象となるファイルのパスを指定します。"
   ]
  },
  {
   "cell_type": "code",
   "execution_count": null,
   "metadata": {},
   "outputs": [],
   "source": [
    "# (例)\n",
    "# target_file = '/etc/rsyslog.conf'\n",
    "\n",
    "target_file = "
   ]
  },
  {
   "cell_type": "markdown",
   "metadata": {},
   "source": [
    "## 設定ファイルの編集\n",
    "\n",
    "設定ファイルをローカル環境に取得して、Jupyter Notebookの編集機能を用いて設定ファイルを編集します。\n",
    "\n",
    "![設定ファイルの取得、編集](images/moodle-040-02.png)"
   ]
  },
  {
   "cell_type": "markdown",
   "metadata": {},
   "source": [
    "次のセルを実行すると、以下の手順が実行されます。\n",
    "\n",
    "1. 構築環境の設定ファイルをローカル環境に取得する\n",
    "2. 取得した設定ファイルのバックアップを作成する\n",
    "3. Jupyter Notebookの編集機能を利用して設定ファイルを編集するためのリンクを表示する"
   ]
  },
  {
   "cell_type": "code",
   "execution_count": null,
   "metadata": {},
   "outputs": [],
   "source": [
    "%run scripts/edit_conf.py\n",
    "fetch_host_conf(target_group, target_file)"
   ]
  },
  {
   "cell_type": "markdown",
   "metadata": {},
   "source": [
    "上のセルの出力に表示されているリンクをクリックして設定ファイルの編集を行ってください。\n",
    "\n",
    " メニューの[Edit]-[Find]で検索文字を入力することで、編集箇所に移動できます。\n",
    "> また、ファイルの編集後は**必ず**、メニューの[File]-[Save]を選択してファイルの保存を行ってください。"
   ]
  },
  {
   "cell_type": "markdown",
   "metadata": {},
   "source": [
    "ローカル環境に取得したファイルは、以下のパスに格納されています。\n",
    "\n",
    "`./edit/{target_group}/{YYYYMMDDHHmmssffffff}/{設定ファイルのファイル名}`\n",
    "\n",
    "`{target_group}` には UnitGroup名が、`{YYYYMMDDHHmmssfffff}` にはファイルを取得したタイムスタンプが入ります。\n",
    "\n",
    "また、バックアップファイルは以下のパスに格納されます。\n",
    "\n",
    "`./edit/{target_group}/{YYYYMMDDHHmmssffffff}/{設定ファイルのファイル名}.orig`"
   ]
  },
  {
   "cell_type": "markdown",
   "metadata": {},
   "source": [
    "次のセルを実行すると編集の前後での差分を確認することができます。"
   ]
  },
  {
   "cell_type": "code",
   "execution_count": null,
   "metadata": {},
   "outputs": [],
   "source": [
    "show_local_host_conf_diff(target_group, target_file)"
   ]
  },
  {
   "cell_type": "markdown",
   "metadata": {},
   "source": [
    "## 編集した設定ファイルの配置\n",
    "\n",
    "編集したファイルを構築環境に配置します。\n",
    "\n",
    "![設定ファイルの配置](images/moodle-040-03.png)"
   ]
  },
  {
   "cell_type": "markdown",
   "metadata": {},
   "source": [
    "次のセルを実行すると、以下の手順が実行されます。\n",
    "\n",
    "1. 編集前と編集後の差分を表示する\n",
    "2. 編集した設定ファイルを構築環境に配置する"
   ]
  },
  {
   "cell_type": "code",
   "execution_count": null,
   "metadata": {},
   "outputs": [],
   "source": [
    "upload_host_conf(target_group, target_file)"
   ]
  },
  {
   "cell_type": "markdown",
   "metadata": {},
   "source": [
    "## 変更を取り消す\n",
    "\n",
    "編集前のファイルを構築環境に配置して、もとの設定に戻します。\n",
    "\n",
    "![設定ファイル変更の取り消し](images/moodle-040-04.png)"
   ]
  },
  {
   "cell_type": "markdown",
   "metadata": {},
   "source": [
    "次のセルを実行すると、以下の手順が実行されます。\n",
    "\n",
    "1. 編集後と編集前のファイルの差分を表示する\n",
    "2. 編集前のファイルを構築環境に配置する"
   ]
  },
  {
   "cell_type": "code",
   "execution_count": null,
   "metadata": {},
   "outputs": [],
   "source": [
    "revert_host_conf(target_group, target_file)"
   ]
  }
 ],
 "metadata": {
  "kernelspec": {
   "display_name": "Python 3",
   "language": "python",
   "name": "python3"
  },
  "language_info": {
   "file_extension": ".py",
   "mimetype": "text/x-python",
   "name": "python",
   "nbconvert_exporter": "python",
   "pygments_lexer": "ipython3",
   "version": "3.8.6"
  },
  "toc": {
   "base_numbering": 1,
   "nav_menu": {},
   "number_sections": true,
   "sideBar": true,
   "skip_h1_title": true,
   "title_cell": "Table of Contents",
   "title_sidebar": "Contents",
   "toc_cell": false,
   "toc_position": {},
   "toc_section_display": true,
   "toc_window_display": true
  }
 },
 "nbformat": 4,
 "nbformat_minor": 2
}